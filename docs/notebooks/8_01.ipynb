{
  "nbformat": 4,
  "nbformat_minor": 0,
  "metadata": {
    "colab": {
      "name": "Linear Programming Examples.ipynb",
      "provenance": [],
      "toc_visible": true
    },
    "kernelspec": {
      "display_name": "Python 3",
      "language": "python",
      "name": "python3"
    },
    "language_info": {
      "codemirror_mode": {
        "name": "ipython",
        "version": 3
      },
      "file_extension": ".py",
      "mimetype": "text/x-python",
      "name": "python",
      "nbconvert_exporter": "python",
      "pygments_lexer": "ipython3",
      "version": "3.7.4"
    },
    "toc": {
      "base_numbering": 1,
      "nav_menu": {},
      "number_sections": true,
      "sideBar": true,
      "skip_h1_title": false,
      "title_cell": "Table of Contents",
      "title_sidebar": "Contents",
      "toc_cell": false,
      "toc_position": {},
      "toc_section_display": true,
      "toc_window_display": false
    }
  },
  "cells": [
    {
      "cell_type": "markdown",
      "metadata": {
        "id": "KA3vVfWHik8S"
      },
      "source": [
        "# 🧠 LP in scipy"
      ]
    },
    {
      "cell_type": "code",
      "metadata": {
        "id": "OGSja_vcik8S"
      },
      "source": [
        "from scipy.optimize import linprog"
      ],
      "execution_count": 1,
      "outputs": []
    },
    {
      "cell_type": "markdown",
      "metadata": {
        "id": "FR7DC9Xrik8T"
      },
      "source": [
        "$$\n",
        "\\begin{align*}\n",
        "&\\min_x c^{\\top}x \\\\\n",
        "\\text{s.t. } & Ax \\leq b\\\\\n",
        "x_2 \\geq -3, \\qquad &A = \\begin{pmatrix}\n",
        "    -3       & 1\\\\\n",
        "    1      & 2\n",
        "\\end{pmatrix} \\qquad b = \\begin{pmatrix} 6 \\\\ 4\\end{pmatrix}\n",
        "\\end{align*}\n",
        "$$"
      ]
    },
    {
      "cell_type": "code",
      "metadata": {
        "id": "Gafokm3Lik8T",
        "colab": {
          "base_uri": "https://localhost:8080/"
        },
        "outputId": "57884f82-6e2b-48e4-8538-86fcf29195cf"
      },
      "source": [
        "c = [-1, 4]\n",
        "A = [[-3, 1], [1, 2]]\n",
        "b = [6, 4]\n",
        "x0_bounds = (None, None)\n",
        "x1_bounds = (-3, None)\n",
        "from scipy.optimize import linprog\n",
        "res = linprog(c, A_ub=A, b_ub=b, bounds=(x0_bounds, x1_bounds),\n",
        "              options={\"disp\": True})\n",
        "\n",
        "print(res)"
      ],
      "execution_count": 2,
      "outputs": [
        {
          "output_type": "stream",
          "name": "stdout",
          "text": [
            "Primal Feasibility  Dual Feasibility    Duality Gap         Step             Path Parameter      Objective          \n",
            "1.0                 1.0                 1.0                 -                1.0                 -8.0                \n",
            "0.09885158404625    0.09885158404625    0.09885158404625    0.903461537018   0.09885158404625    -6.284698425658     \n",
            "0.05788429348353    0.05788429348355    0.05788429348355    0.4273037994111  0.05788429348355    -7.864724729573     \n",
            "0.04539867008243    0.04539867008244    0.04539867008244    0.2387091287399  0.04539867008244    -12.78916804766     \n",
            "0.00666151448168    0.006661514481681   0.006661514481682   0.8665142913493  0.006661514481682   -21.3520715063      \n",
            "6.299626472385e-06  6.299626472585e-06  6.299626472583e-06  1.0              6.299626472588e-06  -21.99681708159     \n",
            "3.150192408518e-10  3.150193669765e-10  3.150193217394e-10  0.9999499939647  3.150193297574e-10  -21.99999984082     \n",
            "Optimization terminated successfully.\n",
            "         Current function value: -22.000000  \n",
            "         Iterations: 6\n",
            "     con: array([], dtype=float64)\n",
            "     fun: -21.999999840824927\n",
            " message: 'Optimization terminated successfully.'\n",
            "     nit: 6\n",
            "   slack: array([3.89999997e+01, 8.46872599e-08])\n",
            "  status: 0\n",
            " success: True\n",
            "       x: array([ 9.99999989, -2.99999999])\n"
          ]
        },
        {
          "output_type": "stream",
          "name": "stderr",
          "text": [
            "/usr/local/lib/python3.7/dist-packages/numpy/core/fromnumeric.py:87: VisibleDeprecationWarning: Creating an ndarray from ragged nested sequences (which is a list-or-tuple of lists-or-tuples-or ndarrays with different lengths or shapes) is deprecated. If you meant to do this, you must specify 'dtype=object' when creating the ndarray\n",
            "  return ufunc.reduce(obj, axis, dtype, out, **passkwargs)\n"
          ]
        }
      ]
    },
    {
      "cell_type": "markdown",
      "metadata": {
        "id": "k3u9fHtvik8U"
      },
      "source": [
        "If you want to build tableaus quickly 😀"
      ]
    },
    {
      "cell_type": "code",
      "metadata": {
        "id": "rwCO6OPTik8U",
        "colab": {
          "base_uri": "https://localhost:8080/"
        },
        "outputId": "6fc4696b-4071-4cce-fb97-d7bd94f2964f"
      },
      "source": [
        "import scipy\n",
        "\n",
        "c = [-1, 4]\n",
        "A = [[-3, 1], [1, 2]]\n",
        "b = [6, 4]\n",
        "x0_bounds = (None, None)\n",
        "x1_bounds = (-3, None)\n",
        "from scipy.optimize import linprog\n",
        "res = linprog(c, A_ub=A, b_ub=b, bounds=(x0_bounds, x1_bounds),\n",
        "              options={\"disp\": True}, callback=scipy.optimize.linprog_verbose_callback)"
      ],
      "execution_count": 3,
      "outputs": [
        {
          "output_type": "stream",
          "name": "stdout",
          "text": [
            "Primal Feasibility  Dual Feasibility    Duality Gap         Step             Path Parameter      Objective          \n",
            "1.0                 1.0                 1.0                 -                1.0                 -8.0                \n",
            "--------- Iteration 0  ---------\n",
            "\n",
            "0.09885158404625    0.09885158404625    0.09885158404625    0.903461537018   0.09885158404625    -6.284698425658     \n",
            "--------- Iteration 1  ---------\n",
            "\n",
            "Current Pseudo-Objective Value:\n",
            "f =  -6.284698425658357\n",
            "\n",
            "Current Solution Vector:\n",
            "x =  [     -0.1505      -1.6088]\n",
            "\n",
            "0.05788429348353    0.05788429348355    0.05788429348355    0.4273037994111  0.05788429348355    -7.864724729573     \n",
            "--------- Iteration 2  ---------\n",
            "\n",
            "Current Pseudo-Objective Value:\n",
            "f =  -7.864724729572676\n",
            "\n",
            "Current Solution Vector:\n",
            "x =  [      3.6474      -1.0543]\n",
            "\n",
            "0.04539867008243    0.04539867008244    0.04539867008244    0.2387091287399  0.04539867008244    -12.78916804766     \n",
            "--------- Iteration 3  ---------\n",
            "\n",
            "Current Pseudo-Objective Value:\n",
            "f =  -12.78916804765597\n",
            "\n",
            "Current Solution Vector:\n",
            "x =  [      0.7895      -2.9999]\n",
            "\n",
            "0.00666151448168    0.006661514481681   0.006661514481682   0.8665142913493  0.006661514481682   -21.3520715063      \n",
            "--------- Iteration 4  ---------\n",
            "\n",
            "Current Pseudo-Objective Value:\n",
            "f =  -21.352071506304092\n",
            "\n",
            "Current Solution Vector:\n",
            "x =  [      9.4022      -2.9875]\n",
            "\n",
            "6.299626472385e-06  6.299626472585e-06  6.299626472583e-06  1.0              6.299626472588e-06  -21.99681708159     \n",
            "--------- Iteration 5  ---------\n",
            "\n",
            "Current Pseudo-Objective Value:\n",
            "f =  -21.996817081588894\n",
            "\n",
            "Current Solution Vector:\n",
            "x =  [      9.9978      -2.9998]\n",
            "\n",
            "3.150192408518e-10  3.150193669765e-10  3.150193217394e-10  0.9999499939647  3.150193297574e-10  -21.99999984082     \n",
            "--------- Iteration 6  ---------\n",
            "\n",
            "Current Pseudo-Objective Value:\n",
            "f =  -21.999999840824927\n",
            "\n",
            "Current Solution Vector:\n",
            "x =  [     10.0000      -3.0000]\n",
            "\n",
            "Optimization terminated successfully.\n",
            "         Current function value: -22.000000  \n",
            "         Iterations: 6\n"
          ]
        },
        {
          "output_type": "stream",
          "name": "stderr",
          "text": [
            "/usr/local/lib/python3.7/dist-packages/numpy/core/fromnumeric.py:87: VisibleDeprecationWarning: Creating an ndarray from ragged nested sequences (which is a list-or-tuple of lists-or-tuples-or ndarrays with different lengths or shapes) is deprecated. If you meant to do this, you must specify 'dtype=object' when creating the ndarray\n",
            "  return ufunc.reduce(obj, axis, dtype, out, **passkwargs)\n"
          ]
        }
      ]
    },
    {
      "cell_type": "markdown",
      "metadata": {
        "id": "jj2_dLaaik8U"
      },
      "source": [
        "# 👨‍🔬 Klee, Minty example, when simplex works slow"
      ]
    },
    {
      "cell_type": "code",
      "metadata": {
        "id": "GrKuLNXYik8V"
      },
      "source": [
        "%matplotlib inline\n",
        "import numpy as np\n",
        "from matplotlib import pyplot as plt\n",
        "from scipy.optimize import linprog\n",
        "import seaborn as sns\n",
        "sns.set()\n",
        "\n",
        "def generate_KleeMinty_test_problem(n):\n",
        "    c = np.array([2**i for i in range(n)])\n",
        "    c = c[::-1]\n",
        "    bounds = [(0, None) for i in range(n)]\n",
        "    b = np.array([5**(i+1) for i in range(n)])\n",
        "    a = np.array([1] + [2**(i+1) for i in range(1, n)])\n",
        "    A = np.zeros((n, n))\n",
        "    for i in range(n):\n",
        "        A[i:, i] = a[:n-i]\n",
        "    return -c, A, b, bounds\n",
        "\n",
        "def generate_random_LP_problem(n):\n",
        "    c = np.random.rand(n)\n",
        "    A = np.random.rand(n,n)\n",
        "    b = np.random.rand(n)\n",
        "    bounds = []\n",
        "    for i in range(n):\n",
        "        bound = (-np.random.rand(1), np.random.rand(1))\n",
        "        bounds.append(bound)\n",
        "    return c, A, b, bounds"
      ],
      "execution_count": 4,
      "outputs": []
    },
    {
      "cell_type": "code",
      "metadata": {
        "id": "jACqzWGqik8V",
        "colab": {
          "base_uri": "https://localhost:8080/"
        },
        "outputId": "82545d88-f5ef-4060-daf5-4681118048bf"
      },
      "source": [
        "n = 5\n",
        "c, A, b, bounds = generate_KleeMinty_test_problem(n)\n",
        "print(c)\n",
        "print(A) \n",
        "print(b)\n",
        "print(bounds)"
      ],
      "execution_count": 5,
      "outputs": [
        {
          "output_type": "stream",
          "name": "stdout",
          "text": [
            "[-16  -8  -4  -2  -1]\n",
            "[[ 1.  0.  0.  0.  0.]\n",
            " [ 4.  1.  0.  0.  0.]\n",
            " [ 8.  4.  1.  0.  0.]\n",
            " [16.  8.  4.  1.  0.]\n",
            " [32. 16.  8.  4.  1.]]\n",
            "[   5   25  125  625 3125]\n",
            "[(0, None), (0, None), (0, None), (0, None), (0, None)]\n"
          ]
        }
      ]
    },
    {
      "cell_type": "code",
      "metadata": {
        "id": "6xyzW7xeik8V",
        "colab": {
          "base_uri": "https://localhost:8080/",
          "height": 1000
        },
        "outputId": "34e9662f-e888-4968-8055-9b9ab7feeec6"
      },
      "source": [
        "n_list = range(2, 13)\n",
        "\n",
        "n_iters_km = np.zeros(len(n_list))\n",
        "times_km   = np.zeros(len(n_list))\n",
        "n_iters_r  = np.zeros(len(n_list))\n",
        "times_r    = np.zeros(len(n_list))\n",
        "\n",
        "for i, n in enumerate(n_list):\n",
        "    c, A, b, bounds = generate_KleeMinty_test_problem(n)\n",
        "    res = linprog(c, A, b, bounds=bounds, options={\"maxiter\": 2**max(n_list)})\n",
        "    time = %timeit -o -n 100 linprog(c, A, b, bounds=bounds, options={\"maxiter\": 2**max(n_list) + 1})\n",
        "    n_iters_km[i] = res.nit\n",
        "    times_km[i] = np.average(time.all_runs)\n",
        "\n",
        "    c, A, b, bounds = generate_random_LP_problem(n)\n",
        "    res = linprog(c, A, b, bounds=bounds, options={\"maxiter\": 2**max(n_list)})\n",
        "    time = %timeit -o -n 100 linprog(c, A, b, bounds=bounds, options={\"maxiter\": 2**max(n_list) + 1})\n",
        "    n_iters_r[i] = res.nit\n",
        "    times_r[i] = np.average(time.all_runs)\n",
        "\n",
        "plt.semilogy(n_list, times_r, label='random LP')\n",
        "plt.semilogy(n_list, times_km, label = 'Klee Minty')\n",
        "plt.legend()\n",
        "plt.xlabel(\"Dimension, $n$\")\n",
        "plt.ylabel(\"Average computation time on 100 runs\")\n",
        "plt.tight_layout()\n",
        "plt.savefig('LP_KM.svg')\n",
        "plt.show()"
      ],
      "execution_count": 6,
      "outputs": [
        {
          "output_type": "stream",
          "name": "stderr",
          "text": [
            "/usr/local/lib/python3.7/dist-packages/numpy/core/fromnumeric.py:87: VisibleDeprecationWarning: Creating an ndarray from ragged nested sequences (which is a list-or-tuple of lists-or-tuples-or ndarrays with different lengths or shapes) is deprecated. If you meant to do this, you must specify 'dtype=object' when creating the ndarray\n",
            "  return ufunc.reduce(obj, axis, dtype, out, **passkwargs)\n",
            "/usr/local/lib/python3.7/dist-packages/numpy/core/fromnumeric.py:87: VisibleDeprecationWarning: Creating an ndarray from ragged nested sequences (which is a list-or-tuple of lists-or-tuples-or ndarrays with different lengths or shapes) is deprecated. If you meant to do this, you must specify 'dtype=object' when creating the ndarray\n",
            "  return ufunc.reduce(obj, axis, dtype, out, **passkwargs)\n"
          ]
        },
        {
          "output_type": "stream",
          "name": "stdout",
          "text": [
            "100 loops, best of 5: 3.94 ms per loop\n"
          ]
        },
        {
          "output_type": "stream",
          "name": "stderr",
          "text": [
            "/usr/local/lib/python3.7/dist-packages/numpy/core/fromnumeric.py:87: VisibleDeprecationWarning: Creating an ndarray from ragged nested sequences (which is a list-or-tuple of lists-or-tuples-or ndarrays with different lengths or shapes) is deprecated. If you meant to do this, you must specify 'dtype=object' when creating the ndarray\n",
            "  return ufunc.reduce(obj, axis, dtype, out, **passkwargs)\n"
          ]
        },
        {
          "output_type": "stream",
          "name": "stdout",
          "text": [
            "100 loops, best of 5: 3.07 ms per loop\n"
          ]
        },
        {
          "output_type": "stream",
          "name": "stderr",
          "text": [
            "/usr/local/lib/python3.7/dist-packages/numpy/core/fromnumeric.py:87: VisibleDeprecationWarning: Creating an ndarray from ragged nested sequences (which is a list-or-tuple of lists-or-tuples-or ndarrays with different lengths or shapes) is deprecated. If you meant to do this, you must specify 'dtype=object' when creating the ndarray\n",
            "  return ufunc.reduce(obj, axis, dtype, out, **passkwargs)\n"
          ]
        },
        {
          "output_type": "stream",
          "name": "stdout",
          "text": [
            "100 loops, best of 5: 4.44 ms per loop\n"
          ]
        },
        {
          "output_type": "stream",
          "name": "stderr",
          "text": [
            "/usr/local/lib/python3.7/dist-packages/numpy/core/fromnumeric.py:87: VisibleDeprecationWarning: Creating an ndarray from ragged nested sequences (which is a list-or-tuple of lists-or-tuples-or ndarrays with different lengths or shapes) is deprecated. If you meant to do this, you must specify 'dtype=object' when creating the ndarray\n",
            "  return ufunc.reduce(obj, axis, dtype, out, **passkwargs)\n"
          ]
        },
        {
          "output_type": "stream",
          "name": "stdout",
          "text": [
            "100 loops, best of 5: 3.19 ms per loop\n"
          ]
        },
        {
          "output_type": "stream",
          "name": "stderr",
          "text": [
            "/usr/local/lib/python3.7/dist-packages/numpy/core/fromnumeric.py:87: VisibleDeprecationWarning: Creating an ndarray from ragged nested sequences (which is a list-or-tuple of lists-or-tuples-or ndarrays with different lengths or shapes) is deprecated. If you meant to do this, you must specify 'dtype=object' when creating the ndarray\n",
            "  return ufunc.reduce(obj, axis, dtype, out, **passkwargs)\n"
          ]
        },
        {
          "output_type": "stream",
          "name": "stdout",
          "text": [
            "100 loops, best of 5: 5.09 ms per loop\n"
          ]
        },
        {
          "output_type": "stream",
          "name": "stderr",
          "text": [
            "/usr/local/lib/python3.7/dist-packages/numpy/core/fromnumeric.py:87: VisibleDeprecationWarning: Creating an ndarray from ragged nested sequences (which is a list-or-tuple of lists-or-tuples-or ndarrays with different lengths or shapes) is deprecated. If you meant to do this, you must specify 'dtype=object' when creating the ndarray\n",
            "  return ufunc.reduce(obj, axis, dtype, out, **passkwargs)\n"
          ]
        },
        {
          "output_type": "stream",
          "name": "stdout",
          "text": [
            "100 loops, best of 5: 4.3 ms per loop\n"
          ]
        },
        {
          "output_type": "stream",
          "name": "stderr",
          "text": [
            "/usr/local/lib/python3.7/dist-packages/numpy/core/fromnumeric.py:87: VisibleDeprecationWarning: Creating an ndarray from ragged nested sequences (which is a list-or-tuple of lists-or-tuples-or ndarrays with different lengths or shapes) is deprecated. If you meant to do this, you must specify 'dtype=object' when creating the ndarray\n",
            "  return ufunc.reduce(obj, axis, dtype, out, **passkwargs)\n"
          ]
        },
        {
          "output_type": "stream",
          "name": "stdout",
          "text": [
            "100 loops, best of 5: 5.77 ms per loop\n"
          ]
        },
        {
          "output_type": "stream",
          "name": "stderr",
          "text": [
            "/usr/local/lib/python3.7/dist-packages/numpy/core/fromnumeric.py:87: VisibleDeprecationWarning: Creating an ndarray from ragged nested sequences (which is a list-or-tuple of lists-or-tuples-or ndarrays with different lengths or shapes) is deprecated. If you meant to do this, you must specify 'dtype=object' when creating the ndarray\n",
            "  return ufunc.reduce(obj, axis, dtype, out, **passkwargs)\n"
          ]
        },
        {
          "output_type": "stream",
          "name": "stdout",
          "text": [
            "100 loops, best of 5: 4.37 ms per loop\n"
          ]
        },
        {
          "output_type": "stream",
          "name": "stderr",
          "text": [
            "/usr/local/lib/python3.7/dist-packages/numpy/core/fromnumeric.py:87: VisibleDeprecationWarning: Creating an ndarray from ragged nested sequences (which is a list-or-tuple of lists-or-tuples-or ndarrays with different lengths or shapes) is deprecated. If you meant to do this, you must specify 'dtype=object' when creating the ndarray\n",
            "  return ufunc.reduce(obj, axis, dtype, out, **passkwargs)\n"
          ]
        },
        {
          "output_type": "stream",
          "name": "stdout",
          "text": [
            "100 loops, best of 5: 8.37 ms per loop\n"
          ]
        },
        {
          "output_type": "stream",
          "name": "stderr",
          "text": [
            "/usr/local/lib/python3.7/dist-packages/numpy/core/fromnumeric.py:87: VisibleDeprecationWarning: Creating an ndarray from ragged nested sequences (which is a list-or-tuple of lists-or-tuples-or ndarrays with different lengths or shapes) is deprecated. If you meant to do this, you must specify 'dtype=object' when creating the ndarray\n",
            "  return ufunc.reduce(obj, axis, dtype, out, **passkwargs)\n"
          ]
        },
        {
          "output_type": "stream",
          "name": "stdout",
          "text": [
            "100 loops, best of 5: 4.46 ms per loop\n"
          ]
        },
        {
          "output_type": "stream",
          "name": "stderr",
          "text": [
            "/usr/local/lib/python3.7/dist-packages/numpy/core/fromnumeric.py:87: VisibleDeprecationWarning: Creating an ndarray from ragged nested sequences (which is a list-or-tuple of lists-or-tuples-or ndarrays with different lengths or shapes) is deprecated. If you meant to do this, you must specify 'dtype=object' when creating the ndarray\n",
            "  return ufunc.reduce(obj, axis, dtype, out, **passkwargs)\n"
          ]
        },
        {
          "output_type": "stream",
          "name": "stdout",
          "text": [
            "100 loops, best of 5: 9.67 ms per loop\n"
          ]
        },
        {
          "output_type": "stream",
          "name": "stderr",
          "text": [
            "/usr/local/lib/python3.7/dist-packages/numpy/core/fromnumeric.py:87: VisibleDeprecationWarning: Creating an ndarray from ragged nested sequences (which is a list-or-tuple of lists-or-tuples-or ndarrays with different lengths or shapes) is deprecated. If you meant to do this, you must specify 'dtype=object' when creating the ndarray\n",
            "  return ufunc.reduce(obj, axis, dtype, out, **passkwargs)\n"
          ]
        },
        {
          "output_type": "stream",
          "name": "stdout",
          "text": [
            "100 loops, best of 5: 5.25 ms per loop\n"
          ]
        },
        {
          "output_type": "stream",
          "name": "stderr",
          "text": [
            "/usr/local/lib/python3.7/dist-packages/numpy/core/fromnumeric.py:87: VisibleDeprecationWarning: Creating an ndarray from ragged nested sequences (which is a list-or-tuple of lists-or-tuples-or ndarrays with different lengths or shapes) is deprecated. If you meant to do this, you must specify 'dtype=object' when creating the ndarray\n",
            "  return ufunc.reduce(obj, axis, dtype, out, **passkwargs)\n"
          ]
        },
        {
          "output_type": "stream",
          "name": "stdout",
          "text": [
            "100 loops, best of 5: 10.8 ms per loop\n"
          ]
        },
        {
          "output_type": "stream",
          "name": "stderr",
          "text": [
            "/usr/local/lib/python3.7/dist-packages/numpy/core/fromnumeric.py:87: VisibleDeprecationWarning: Creating an ndarray from ragged nested sequences (which is a list-or-tuple of lists-or-tuples-or ndarrays with different lengths or shapes) is deprecated. If you meant to do this, you must specify 'dtype=object' when creating the ndarray\n",
            "  return ufunc.reduce(obj, axis, dtype, out, **passkwargs)\n"
          ]
        },
        {
          "output_type": "stream",
          "name": "stdout",
          "text": [
            "100 loops, best of 5: 5.23 ms per loop\n"
          ]
        },
        {
          "output_type": "stream",
          "name": "stderr",
          "text": [
            "/usr/local/lib/python3.7/dist-packages/numpy/core/fromnumeric.py:87: VisibleDeprecationWarning: Creating an ndarray from ragged nested sequences (which is a list-or-tuple of lists-or-tuples-or ndarrays with different lengths or shapes) is deprecated. If you meant to do this, you must specify 'dtype=object' when creating the ndarray\n",
            "  return ufunc.reduce(obj, axis, dtype, out, **passkwargs)\n"
          ]
        },
        {
          "output_type": "stream",
          "name": "stdout",
          "text": [
            "100 loops, best of 5: 12.4 ms per loop\n"
          ]
        },
        {
          "output_type": "stream",
          "name": "stderr",
          "text": [
            "/usr/local/lib/python3.7/dist-packages/numpy/core/fromnumeric.py:87: VisibleDeprecationWarning: Creating an ndarray from ragged nested sequences (which is a list-or-tuple of lists-or-tuples-or ndarrays with different lengths or shapes) is deprecated. If you meant to do this, you must specify 'dtype=object' when creating the ndarray\n",
            "  return ufunc.reduce(obj, axis, dtype, out, **passkwargs)\n"
          ]
        },
        {
          "output_type": "stream",
          "name": "stdout",
          "text": [
            "100 loops, best of 5: 5.21 ms per loop\n"
          ]
        },
        {
          "output_type": "stream",
          "name": "stderr",
          "text": [
            "/usr/local/lib/python3.7/dist-packages/numpy/core/fromnumeric.py:87: VisibleDeprecationWarning: Creating an ndarray from ragged nested sequences (which is a list-or-tuple of lists-or-tuples-or ndarrays with different lengths or shapes) is deprecated. If you meant to do this, you must specify 'dtype=object' when creating the ndarray\n",
            "  return ufunc.reduce(obj, axis, dtype, out, **passkwargs)\n"
          ]
        },
        {
          "output_type": "stream",
          "name": "stdout",
          "text": [
            "100 loops, best of 5: 13.7 ms per loop\n"
          ]
        },
        {
          "output_type": "stream",
          "name": "stderr",
          "text": [
            "/usr/local/lib/python3.7/dist-packages/numpy/core/fromnumeric.py:87: VisibleDeprecationWarning: Creating an ndarray from ragged nested sequences (which is a list-or-tuple of lists-or-tuples-or ndarrays with different lengths or shapes) is deprecated. If you meant to do this, you must specify 'dtype=object' when creating the ndarray\n",
            "  return ufunc.reduce(obj, axis, dtype, out, **passkwargs)\n"
          ]
        },
        {
          "output_type": "stream",
          "name": "stdout",
          "text": [
            "100 loops, best of 5: 5.31 ms per loop\n"
          ]
        },
        {
          "output_type": "stream",
          "name": "stderr",
          "text": [
            "/usr/local/lib/python3.7/dist-packages/numpy/core/fromnumeric.py:87: VisibleDeprecationWarning: Creating an ndarray from ragged nested sequences (which is a list-or-tuple of lists-or-tuples-or ndarrays with different lengths or shapes) is deprecated. If you meant to do this, you must specify 'dtype=object' when creating the ndarray\n",
            "  return ufunc.reduce(obj, axis, dtype, out, **passkwargs)\n"
          ]
        },
        {
          "output_type": "stream",
          "name": "stdout",
          "text": [
            "100 loops, best of 5: 13.8 ms per loop\n"
          ]
        },
        {
          "output_type": "stream",
          "name": "stderr",
          "text": [
            "/usr/local/lib/python3.7/dist-packages/numpy/core/fromnumeric.py:87: VisibleDeprecationWarning: Creating an ndarray from ragged nested sequences (which is a list-or-tuple of lists-or-tuples-or ndarrays with different lengths or shapes) is deprecated. If you meant to do this, you must specify 'dtype=object' when creating the ndarray\n",
            "  return ufunc.reduce(obj, axis, dtype, out, **passkwargs)\n"
          ]
        },
        {
          "output_type": "stream",
          "name": "stdout",
          "text": [
            "100 loops, best of 5: 6.82 ms per loop\n"
          ]
        },
        {
          "output_type": "stream",
          "name": "stderr",
          "text": [
            "/usr/local/lib/python3.7/dist-packages/numpy/core/fromnumeric.py:87: VisibleDeprecationWarning: Creating an ndarray from ragged nested sequences (which is a list-or-tuple of lists-or-tuples-or ndarrays with different lengths or shapes) is deprecated. If you meant to do this, you must specify 'dtype=object' when creating the ndarray\n",
            "  return ufunc.reduce(obj, axis, dtype, out, **passkwargs)\n"
          ]
        },
        {
          "output_type": "stream",
          "name": "stdout",
          "text": [
            "100 loops, best of 5: 15.1 ms per loop\n"
          ]
        },
        {
          "output_type": "stream",
          "name": "stderr",
          "text": [
            "/usr/local/lib/python3.7/dist-packages/numpy/core/fromnumeric.py:87: VisibleDeprecationWarning: Creating an ndarray from ragged nested sequences (which is a list-or-tuple of lists-or-tuples-or ndarrays with different lengths or shapes) is deprecated. If you meant to do this, you must specify 'dtype=object' when creating the ndarray\n",
            "  return ufunc.reduce(obj, axis, dtype, out, **passkwargs)\n"
          ]
        },
        {
          "output_type": "stream",
          "name": "stdout",
          "text": [
            "100 loops, best of 5: 6.11 ms per loop\n"
          ]
        },
        {
          "output_type": "display_data",
          "data": {
            "image/png": "[encoded data removed]",
            "text/plain": [
              "<Figure size 432x288 with 1 Axes>"
            ]
          },
          "metadata": {}
        }
      ]
    },
    {
      "cell_type": "markdown",
      "metadata": {
        "id": "qJ7tb91mik8W"
      },
      "source": [
        "# 📼 PuLP library example (Optimal watching TED talks)"
      ]
    },
    {
      "cell_type": "code",
      "metadata": {
        "id": "-AW_zM5Aik8W",
        "colab": {
          "base_uri": "https://localhost:8080/"
        },
        "outputId": "38e8d15f-c5e3-4f99-b90a-a9accabaeea9"
      },
      "source": [
        "!pip install pulp"
      ],
      "execution_count": 7,
      "outputs": [
        {
          "output_type": "stream",
          "name": "stdout",
          "text": [
            "Collecting pulp\n",
            "  Downloading PuLP-2.5.1-py3-none-any.whl (41.2 MB)\n",
            "\u001b[K     |████████████████████████████████| 41.2 MB 78 kB/s \n",
            "\u001b[?25hInstalling collected packages: pulp\n",
            "Successfully installed pulp-2.5.1\n"
          ]
        }
      ]
    },
    {
      "cell_type": "code",
      "metadata": {
        "id": "UYZuVjXAik8W"
      },
      "source": [
        "%matplotlib inline\n",
        " \n",
        "import pulp\n",
        "import numpy as np\n",
        "import pandas as pd\n",
        "import re\n",
        "import matplotlib.pyplot as plt\n",
        "from IPython.display import Image"
      ],
      "execution_count": 8,
      "outputs": []
    },
    {
      "cell_type": "code",
      "metadata": {
        "id": "z5ITwq_tik8X",
        "colab": {
          "base_uri": "https://localhost:8080/",
          "height": 598
        },
        "outputId": "89cb67e2-e964-439b-a633-ed0e78028ce0"
      },
      "source": [
        "# Download the dataset from https://www.kaggle.com/rounakbanik/ted-talks\n",
        "\n",
        "# Read the dataset into pandas dataframe, convert duration from seconds to minutes\n",
        "ted = pd.read_csv('https://raw.githubusercontent.com/MerkulovDaniil/optim/master/assets/Notebooks/ted_main.csv', encoding='ISO-8859-1')\n",
        "ted['duration'] = ted['duration'] / 60\n",
        "ted = ted.round({'duration': 1})\n",
        "\n",
        "# Select subset of columns & rows (if required)\n",
        "# data = ted.sample(n=1000) # 'n' can be changed as required\n",
        "data = ted\n",
        "selected_cols = ['name', 'event', 'duration', 'views']\n",
        "data.reset_index(inplace=True)\n",
        "data.head()"
      ],
      "execution_count": 9,
      "outputs": [
        {
          "output_type": "execute_result",
          "data": {
            "text/html": [
              "<div>\n",
              "<style scoped>\n",
              "    .dataframe tbody tr th:only-of-type {\n",
              "        vertical-align: middle;\n",
              "    }\n",
              "\n",
              "    .dataframe tbody tr th {\n",
              "        vertical-align: top;\n",
              "    }\n",
              "\n",
              "    .dataframe thead th {\n",
              "        text-align: right;\n",
              "    }\n",
              "</style>\n",
              "<table border=\"1\" class=\"dataframe\">\n",
              "  <thead>\n",
              "    <tr style=\"text-align: right;\">\n",
              "      <th></th>\n",
              "      <th>index</th>\n",
              "      <th>comments</th>\n",
              "      <th>description</th>\n",
              "      <th>duration</th>\n",
              "      <th>event</th>\n",
              "      <th>film_date</th>\n",
              "      <th>languages</th>\n",
              "      <th>main_speaker</th>\n",
              "      <th>name</th>\n",
              "      <th>num_speaker</th>\n",
              "      <th>published_date</th>\n",
              "      <th>ratings</th>\n",
              "      <th>related_talks</th>\n",
              "      <th>speaker_occupation</th>\n",
              "      <th>tags</th>\n",
              "      <th>title</th>\n",
              "      <th>url</th>\n",
              "      <th>views</th>\n",
              "    </tr>\n",
              "  </thead>\n",
              "  <tbody>\n",
              "    <tr>\n",
              "      <th>0</th>\n",
              "      <td>0</td>\n",
              "      <td>4553</td>\n",
              "      <td>Sir Ken Robinson makes an entertaining and pro...</td>\n",
              "      <td>19.4</td>\n",
              "      <td>TED2006</td>\n",
              "      <td>1140825600</td>\n",
              "      <td>60</td>\n",
              "      <td>Ken Robinson</td>\n",
              "      <td>Ken Robinson: Do schools kill creativity?</td>\n",
              "      <td>1</td>\n",
              "      <td>1151367060</td>\n",
              "      <td>[{'id': 7, 'name': 'Funny', 'count': 19645}, {...</td>\n",
              "      <td>[{'id': 865, 'hero': 'https://pe.tedcdn.com/im...</td>\n",
              "      <td>Author/educator</td>\n",
              "      <td>['children', 'creativity', 'culture', 'dance',...</td>\n",
              "      <td>Do schools kill creativity?</td>\n",
              "      <td>https://www.ted.com/talks/ken_robinson_says_sc...</td>\n",
              "      <td>47227110</td>\n",
              "    </tr>\n",
              "    <tr>\n",
              "      <th>1</th>\n",
              "      <td>1</td>\n",
              "      <td>265</td>\n",
              "      <td>With the same humor and humanity he exuded in ...</td>\n",
              "      <td>16.3</td>\n",
              "      <td>TED2006</td>\n",
              "      <td>1140825600</td>\n",
              "      <td>43</td>\n",
              "      <td>Al Gore</td>\n",
              "      <td>Al Gore: Averting the climate crisis</td>\n",
              "      <td>1</td>\n",
              "      <td>1151367060</td>\n",
              "      <td>[{'id': 7, 'name': 'Funny', 'count': 544}, {'i...</td>\n",
              "      <td>[{'id': 243, 'hero': 'https://pe.tedcdn.com/im...</td>\n",
              "      <td>Climate advocate</td>\n",
              "      <td>['alternative energy', 'cars', 'climate change...</td>\n",
              "      <td>Averting the climate crisis</td>\n",
              "      <td>https://www.ted.com/talks/al_gore_on_averting_...</td>\n",
              "      <td>3200520</td>\n",
              "    </tr>\n",
              "    <tr>\n",
              "      <th>2</th>\n",
              "      <td>2</td>\n",
              "      <td>124</td>\n",
              "      <td>New York Times columnist David Pogue takes aim...</td>\n",
              "      <td>21.4</td>\n",
              "      <td>TED2006</td>\n",
              "      <td>1140739200</td>\n",
              "      <td>26</td>\n",
              "      <td>David Pogue</td>\n",
              "      <td>David Pogue: Simplicity sells</td>\n",
              "      <td>1</td>\n",
              "      <td>1151367060</td>\n",
              "      <td>[{'id': 7, 'name': 'Funny', 'count': 964}, {'i...</td>\n",
              "      <td>[{'id': 1725, 'hero': 'https://pe.tedcdn.com/i...</td>\n",
              "      <td>Technology columnist</td>\n",
              "      <td>['computers', 'entertainment', 'interface desi...</td>\n",
              "      <td>Simplicity sells</td>\n",
              "      <td>https://www.ted.com/talks/david_pogue_says_sim...</td>\n",
              "      <td>1636292</td>\n",
              "    </tr>\n",
              "    <tr>\n",
              "      <th>3</th>\n",
              "      <td>3</td>\n",
              "      <td>200</td>\n",
              "      <td>In an emotionally charged talk, MacArthur-winn...</td>\n",
              "      <td>18.6</td>\n",
              "      <td>TED2006</td>\n",
              "      <td>1140912000</td>\n",
              "      <td>35</td>\n",
              "      <td>Majora Carter</td>\n",
              "      <td>Majora Carter: Greening the ghetto</td>\n",
              "      <td>1</td>\n",
              "      <td>1151367060</td>\n",
              "      <td>[{'id': 3, 'name': 'Courageous', 'count': 760}...</td>\n",
              "      <td>[{'id': 1041, 'hero': 'https://pe.tedcdn.com/i...</td>\n",
              "      <td>Activist for environmental justice</td>\n",
              "      <td>['MacArthur grant', 'activism', 'business', 'c...</td>\n",
              "      <td>Greening the ghetto</td>\n",
              "      <td>https://www.ted.com/talks/majora_carter_s_tale...</td>\n",
              "      <td>1697550</td>\n",
              "    </tr>\n",
              "    <tr>\n",
              "      <th>4</th>\n",
              "      <td>4</td>\n",
              "      <td>593</td>\n",
              "      <td>You've never seen data presented like this. Wi...</td>\n",
              "      <td>19.8</td>\n",
              "      <td>TED2006</td>\n",
              "      <td>1140566400</td>\n",
              "      <td>48</td>\n",
              "      <td>Hans Rosling</td>\n",
              "      <td>Hans Rosling: The best stats you've ever seen</td>\n",
              "      <td>1</td>\n",
              "      <td>1151440680</td>\n",
              "      <td>[{'id': 9, 'name': 'Ingenious', 'count': 3202}...</td>\n",
              "      <td>[{'id': 2056, 'hero': 'https://pe.tedcdn.com/i...</td>\n",
              "      <td>Global health expert; data visionary</td>\n",
              "      <td>['Africa', 'Asia', 'Google', 'demo', 'economic...</td>\n",
              "      <td>The best stats you've ever seen</td>\n",
              "      <td>https://www.ted.com/talks/hans_rosling_shows_t...</td>\n",
              "      <td>12005869</td>\n",
              "    </tr>\n",
              "  </tbody>\n",
              "</table>\n",
              "</div>"
            ],
            "text/plain": [
              "   index  comments  ...                                                url     views\n",
              "0      0      4553  ...  https://www.ted.com/talks/ken_robinson_says_sc...  47227110\n",
              "1      1       265  ...  https://www.ted.com/talks/al_gore_on_averting_...   3200520\n",
              "2      2       124  ...  https://www.ted.com/talks/david_pogue_says_sim...   1636292\n",
              "3      3       200  ...  https://www.ted.com/talks/majora_carter_s_tale...   1697550\n",
              "4      4       593  ...  https://www.ted.com/talks/hans_rosling_shows_t...  12005869\n",
              "\n",
              "[5 rows x 18 columns]"
            ]
          },
          "metadata": {},
          "execution_count": 9
        }
      ]
    },
    {
      "cell_type": "code",
      "metadata": {
        "id": "mxCEz8tQik8X"
      },
      "source": [
        "# create LP object,\n",
        "# set up as a maximization problem --> since we want to maximize the number of TED talks to watch\n",
        "prob = pulp.LpProblem('WatchingTEDTalks', pulp.LpMaximize)"
      ],
      "execution_count": 10,
      "outputs": []
    },
    {
      "cell_type": "code",
      "metadata": {
        "id": "BPvS-ZQcik8X",
        "colab": {
          "base_uri": "https://localhost:8080/"
        },
        "outputId": "a9f4b600-dc44-4539-e7e3-3bdd39de2bd3"
      },
      "source": [
        "# create decision - yes or no to watch the talk?\n",
        "decision_variables = []\n",
        "for rownum, row in data.iterrows():\n",
        "    variable = str('x' + str(row['index']))\n",
        "    variable = pulp.LpVariable(str(variable), lowBound = 0, upBound = 1) # make variable binary\n",
        "    decision_variables.append(variable)\n",
        "    \n",
        "print('Total number of decision variables: ' + str(len(decision_variables)))"
      ],
      "execution_count": 11,
      "outputs": [
        {
          "output_type": "stream",
          "name": "stdout",
          "text": [
            "Total number of decision variables: 2550\n"
          ]
        }
      ]
    },
    {
      "cell_type": "code",
      "metadata": {
        "id": "BraIJ7H9ik8Y"
      },
      "source": [
        "# Create optimization Function\n",
        "total_views = ''\n",
        "for rownum, row in data.iterrows():\n",
        "    for i,talk in enumerate(decision_variables):\n",
        "        if rownum == i:\n",
        "            formula = (len(row['description']) + (-1)*row['views']) * talk\n",
        "            total_views += formula\n",
        "            \n",
        "prob += total_views\n",
        "# print('Optimization function: ' + str(total_views))"
      ],
      "execution_count": 12,
      "outputs": []
    },
    {
      "cell_type": "code",
      "metadata": {
        "id": "tvUTUhyIik8Y"
      },
      "source": [
        "# Contraints\n",
        "total_time_available_for_talks = 3*60 # Total time available is 5 hours . Converted to minutes\n",
        "total_talks_can_watch = 8 # Don't want an overload information"
      ],
      "execution_count": 13,
      "outputs": []
    },
    {
      "cell_type": "code",
      "metadata": {
        "id": "ktrQFPNqik8Y"
      },
      "source": [
        "# Create Constraint 1 - Time for talks\n",
        "total_time_talks = ''\n",
        "for rownum, row in data.iterrows():\n",
        "    for i,  talk in enumerate(decision_variables):\n",
        "        if rownum == i:\n",
        "            formula = row['duration']*talk\n",
        "            total_time_talks += formula\n",
        "            \n",
        "prob += (total_time_talks <= total_time_available_for_talks)"
      ],
      "execution_count": 14,
      "outputs": []
    },
    {
      "cell_type": "code",
      "metadata": {
        "id": "FAJTAJuzik8Y"
      },
      "source": [
        "# Create Constraint 2 - Number of talks\n",
        "total_talks = ''\n",
        "\n",
        "for rownum, row in data.iterrows():\n",
        "    for i, talk in enumerate(decision_variables):\n",
        "        if rownum == i:\n",
        "            formula = talk\n",
        "            total_talks += formula\n",
        "            \n",
        "prob += (total_talks == total_talks_can_watch)"
      ],
      "execution_count": 15,
      "outputs": []
    },
    {
      "cell_type": "code",
      "metadata": {
        "id": "mXzW4NPHik8Z",
        "colab": {
          "base_uri": "https://localhost:8080/"
        },
        "outputId": "72ced03f-44c0-4be9-df56-3cacc536255e"
      },
      "source": [
        "# Be careful, the output will be huge\n",
        "# print(prob)\n",
        "prob.writeLP('WatchingTEDTalks.lp')\n",
        "print('🤔 The problem has successfully formulated')"
      ],
      "execution_count": 16,
      "outputs": [
        {
          "output_type": "stream",
          "name": "stdout",
          "text": [
            "🤔 The problem has successfully formulated\n"
          ]
        }
      ]
    },
    {
      "cell_type": "code",
      "metadata": {
        "id": "DxWYk01Hik8Z",
        "colab": {
          "base_uri": "https://localhost:8080/"
        },
        "outputId": "64887658-4769-4e62-b689-0778c68ab322"
      },
      "source": [
        "optimization_result = prob.solve()\n",
        "\n",
        "assert optimization_result == pulp.LpStatusOptimal\n",
        "print('Status:', pulp.LpStatus[prob.status])\n",
        "print('Optimal Solution to the problem: ', pulp.value(prob.objective))\n",
        "print('Individual decision variables: ')\n",
        "\n",
        "\n",
        "for v in prob.variables():\n",
        "    if v.varValue > 0:\n",
        "        print(v.name, '=', v.varValue)"
      ],
      "execution_count": 17,
      "outputs": [
        {
          "output_type": "stream",
          "name": "stdout",
          "text": [
            "Status: Optimal\n",
            "Optimal Solution to the problem:  -784644.0\n",
            "Individual decision variables: \n",
            "x1079 = 1.0\n",
            "x1112 = 1.0\n",
            "x1133 = 1.0\n",
            "x1141 = 1.0\n",
            "x1229 = 1.0\n",
            "x237 = 1.0\n",
            "x594 = 1.0\n",
            "x776 = 1.0\n"
          ]
        }
      ]
    },
    {
      "cell_type": "code",
      "metadata": {
        "id": "bM5K6Sbkik8Z"
      },
      "source": [
        "# reorder results\n",
        "variable_name = []\n",
        "variable_value = []\n",
        "\n",
        "for v in prob.variables():\n",
        "    variable_name.append(v.name)\n",
        "    variable_value.append(v.varValue)\n",
        "    \n",
        "df = pd.DataFrame({'index': variable_name, 'value': variable_value})\n",
        "for rownum, row in df.iterrows():\n",
        "    value = re.findall(r'(\\d+)', row['index'])\n",
        "    df.loc[rownum, 'index'] = int(value[0])\n",
        "    \n",
        "# df = df.sort_index(by = 'index')\n",
        "df = df.sort_values(by = 'index')\n",
        "result = pd.merge(data, df, on = 'index')\n",
        "result = result[result['value'] == 1].sort_values(by = 'views', ascending = False)\n",
        "selected_cols_final = ['name', 'event', 'duration', 'views']\n",
        "final_set_of_talks_to_watch = result[selected_cols_final]"
      ],
      "execution_count": 18,
      "outputs": []
    },
    {
      "cell_type": "code",
      "metadata": {
        "id": "ft759ilYik8a",
        "colab": {
          "base_uri": "https://localhost:8080/",
          "height": 297
        },
        "outputId": "35e1cc9a-591a-4c72-fe80-deb136841608"
      },
      "source": [
        "from IPython.display import display, HTML\n",
        "display(HTML(final_set_of_talks_to_watch.to_html(index=False)))"
      ],
      "execution_count": 19,
      "outputs": [
        {
          "output_type": "display_data",
          "data": {
            "text/html": [
              "<table border=\"1\" class=\"dataframe\">\n",
              "  <thead>\n",
              "    <tr style=\"text-align: right;\">\n",
              "      <th>name</th>\n",
              "      <th>event</th>\n",
              "      <th>duration</th>\n",
              "      <th>views</th>\n",
              "    </tr>\n",
              "  </thead>\n",
              "  <tbody>\n",
              "    <tr>\n",
              "      <td>Leslie Dodson: Don't misrepresent Africa</td>\n",
              "      <td>TEDxBoulder 2011</td>\n",
              "      <td>11.4</td>\n",
              "      <td>121186</td>\n",
              "    </tr>\n",
              "    <tr>\n",
              "      <td>Keith Nolan: Deaf in the military</td>\n",
              "      <td>TEDxIslay</td>\n",
              "      <td>18.6</td>\n",
              "      <td>120274</td>\n",
              "    </tr>\n",
              "    <tr>\n",
              "      <td>JosÃ© Bowen: Beethoven the businessman</td>\n",
              "      <td>TEDxSMU</td>\n",
              "      <td>12.8</td>\n",
              "      <td>117756</td>\n",
              "    </tr>\n",
              "    <tr>\n",
              "      <td>Aleph Molinari: Let's bridge the digital divide!</td>\n",
              "      <td>TEDxSanMigueldeAllende</td>\n",
              "      <td>9.9</td>\n",
              "      <td>115346</td>\n",
              "    </tr>\n",
              "    <tr>\n",
              "      <td>Tim Birkhead: The early birdwatchers</td>\n",
              "      <td>The Do Lectures</td>\n",
              "      <td>28.2</td>\n",
              "      <td>112321</td>\n",
              "    </tr>\n",
              "    <tr>\n",
              "      <td>Rokia Traore: \"Kounandi\"</td>\n",
              "      <td>TEDGlobal 2007</td>\n",
              "      <td>6.4</td>\n",
              "      <td>82488</td>\n",
              "    </tr>\n",
              "    <tr>\n",
              "      <td>Charles Hazlewood + British Paraorchestra: The debut of the British Paraorchestra</td>\n",
              "      <td>TEDxBrussels</td>\n",
              "      <td>13.6</td>\n",
              "      <td>66668</td>\n",
              "    </tr>\n",
              "    <tr>\n",
              "      <td>Edwidge Danticat: Stories of Haiti</td>\n",
              "      <td>University of California</td>\n",
              "      <td>59.6</td>\n",
              "      <td>50443</td>\n",
              "    </tr>\n",
              "  </tbody>\n",
              "</table>"
            ],
            "text/plain": [
              "<IPython.core.display.HTML object>"
            ]
          },
          "metadata": {}
        }
      ]
    },
    {
      "cell_type": "markdown",
      "metadata": {
        "id": "fpT9Ywy5obfu"
      },
      "source": [
        "# 🌮 Diet problem with PyOMO\n",
        "\n",
        "[source](https://nbviewer.jupyter.org/github/Pyomo/PyomoGallery/blob/master/diet/DietProblem.ipynb)\n",
        "\n",
        "![](https://fmin.xyz/docs/methods/diet_LP.svg)\n",
        "\n",
        "## Summary\n",
        "\n",
        "Imagine, that you have to construct a diet plan from some set of products: 🍌🍰🍗🥚🐟. Each of the products has its own vector of nutrients. Thus, all the food information could be processed through the matrix $W$. Let also assume, that we have the vector of requirements for each of nutrients $r \\in \\mathbb{R}^n$. We need to find the cheapest configuration of the diet, which meets all the requirements:\n",
        "\n",
        "$$\n",
        "\\begin{align*}\n",
        "&\\min_{x \\in \\mathbb{R}^p} c^{\\top}x \\\\\n",
        "\\text{s.t. } & Wx \\geq r\\\\\n",
        "& x_i \\geq 0, \\; i = 1,\\dots, n\n",
        "\\end{align*}\n",
        "$$\n",
        "\n",
        "\n",
        "The goal of the Diet Problem is to select foods that satisfy daily nutritional requirements at minimum cost. This problem can be formulated as a linear program, for which constraints limit the number of calories and the amount of vitamins, minerals, fats, sodium, and cholesterol in the diet. Danzig (1990) notes that the diet problem was motivated by the US Army's desire to minimize the cost of feeding GIs in the field while still providing a healthy diet.\n",
        "\n",
        "## Problem Statement\n",
        "\n",
        "The Diet Problem can be formulated mathematically as a linear programming problem using the following model.  \n",
        "\n",
        "### Sets\n",
        "\n",
        " $F$ = set of foods  \n",
        " $N$ = set of nutrients\n",
        "\n",
        "### Parameters\n",
        "\n",
        " * $c_i$ = cost per serving of food $i$, $\\forall i \\in F$  \n",
        " * $a_{ij}$ = amount of nutrient $j$ in food $i$, $\\forall i \\in F, \\forall j \\in N$  \n",
        " * $Nmin_j$ = minimum level of nutrient $j$, $\\forall j \\in N$  \n",
        " * $Nmax_j$ = maximum level of nutrient $j$, $\\forall j \\in N$  \n",
        " * $V_i$ = the volume per serving of food $i$, $\\forall i \\in F$  \n",
        " * $Vmax$ = maximum volume of food consumed\n",
        " \n",
        "### Variables\n",
        " $x_i$ = number of servings of food $i$ to consume\n",
        "\n",
        "### Objective\n",
        "\n",
        "Minimize the total cost of the food  \n",
        "\n",
        "$$\n",
        "\\min \\sum_{i \\in F} c_i x_i\n",
        "$$\n",
        "\n",
        "### Constraints\n",
        "\n",
        "Limit nutrient consumption for each nutrient $j \\in N$.  \n",
        " $Nmin_j \\leq \\sum_{i \\in F} a_{ij} x_i \\leq Nmax_j$, $\\forall j \\in N$\n",
        "\n",
        "Limit the volume of food consumed  \n",
        " $\\sum_{i \\in F} V_i x_i \\leq Vmax$\n",
        " \n",
        "Consumption lower bound  \n",
        " $x_i \\geq 0$, $\\forall i \\in F$\n",
        "\n",
        "### Formulation\n",
        "\n",
        "$$\n",
        "\\begin{align*}\n",
        "&\\min \\sum_{i \\in F} c_i x_i\\\\\n",
        "\\text{s.t. } & Nmin_j \\leq \\sum_{i \\in F} a_{ij} x_i \\leq Nmax_j \\; \\forall j \\in N\\\\\n",
        "& \\sum_{i \\in F} V_i x_i \\leq Vmax \\\\\n",
        "& x_i \\geq 0 \\; \\forall i \\in F\n",
        "\\end{align*}\n",
        "$$\n",
        "\n",
        "\n",
        "## Pyomo Formulation\n",
        "\n",
        "We begin by importing the Pyomo package and creating a model object:"
      ]
    },
    {
      "cell_type": "code",
      "metadata": {
        "id": "O7KKkgGFu61q"
      },
      "source": [
        "!pip install pyomo\n",
        "\n",
        "from IPython.display import clear_output\n",
        "\n",
        "# Installing cbc solver\n",
        "import matplotlib.pyplot as plt\n",
        "import numpy as np\n",
        "\n",
        "import shutil\n",
        "import sys\n",
        "import os.path\n",
        "\n",
        "if not shutil.which(\"pyomo\"):\n",
        "    !pip install -q pyomo\n",
        "    assert(shutil.which(\"pyomo\"))\n",
        "\n",
        "if not (shutil.which(\"cbc\") or os.path.isfile(\"cbc\")):\n",
        "    if \"google.colab\" in sys.modules:\n",
        "        !apt-get install -y -qq coinor-cbc\n",
        "    else:\n",
        "        try:\n",
        "            !conda install -c conda-forge coincbc \n",
        "        except:\n",
        "            pass\n",
        "\n",
        "assert(shutil.which(\"cbc\") or os.path.isfile(\"cbc\"))\n",
        "\n",
        "from pyomo.environ import *\n",
        "\n",
        "clear_output()"
      ],
      "execution_count": 58,
      "outputs": []
    },
    {
      "cell_type": "code",
      "metadata": {
        "collapsed": true,
        "id": "ixXAJqfbobf0"
      },
      "source": [
        "from pyomo.environ import *\n",
        "infinity = float('inf')\n",
        "\n",
        "model = AbstractModel()"
      ],
      "execution_count": 52,
      "outputs": []
    },
    {
      "cell_type": "markdown",
      "metadata": {
        "id": "OCgKTrfOobf1"
      },
      "source": [
        "The sets $F$ and $N$ are declared abstractly using the `Set` component:"
      ]
    },
    {
      "cell_type": "code",
      "metadata": {
        "collapsed": true,
        "id": "9sarDswjobf2"
      },
      "source": [
        "# Foods\n",
        "model.F = Set()\n",
        "# Nutrients\n",
        "model.N = Set()"
      ],
      "execution_count": 53,
      "outputs": []
    },
    {
      "cell_type": "markdown",
      "metadata": {
        "id": "xu0InYHWobf3"
      },
      "source": [
        "Similarly, the model parameters are defined abstractly using the `Param` component:"
      ]
    },
    {
      "cell_type": "code",
      "metadata": {
        "id": "pOWOgzftobf3"
      },
      "source": [
        "# Cost of each food\n",
        "model.c    = Param(model.F, within=PositiveReals)\n",
        "# Amount of nutrient in each food\n",
        "model.a    = Param(model.F, model.N, within=NonNegativeReals)\n",
        "# Lower and upper bound on each nutrient\n",
        "model.Nmin = Param(model.N, within=NonNegativeReals, default=0.0)\n",
        "model.Nmax = Param(model.N, within=NonNegativeReals, default=infinity)\n",
        "# Volume per serving of food\n",
        "model.V    = Param(model.F, within=PositiveReals)\n",
        "# Maximum volume of food consumed\n",
        "model.Vmax = Param(within=PositiveReals)"
      ],
      "execution_count": 54,
      "outputs": []
    },
    {
      "cell_type": "markdown",
      "metadata": {
        "id": "rKTbkbz8obf4"
      },
      "source": [
        "The `within` option is used in these parameter declarations to define expected properties of the parameters.  This information is used to perform error checks on the data that is used to initialize the parameter components.\n",
        "\n",
        "The `Var` component is used to define the decision variables:"
      ]
    },
    {
      "cell_type": "code",
      "metadata": {
        "collapsed": true,
        "id": "GqmwAIREobf5"
      },
      "source": [
        "# Number of servings consumed of each food\n",
        "model.x = Var(model.F, within=NonNegativeIntegers)"
      ],
      "execution_count": 55,
      "outputs": []
    },
    {
      "cell_type": "markdown",
      "metadata": {
        "id": "7Y5_nwxjobf5"
      },
      "source": [
        "The `within` option is used to restrict the domain of the decision variables to the non-negative reals. This eliminates the need for explicit bound constraints for variables.\n",
        "\n",
        "The `Objective` component is used to define the cost objective.  This component uses a rule function to construct the objective expression:"
      ]
    },
    {
      "cell_type": "code",
      "metadata": {
        "collapsed": true,
        "id": "fQfqW_8fobf6"
      },
      "source": [
        "# Minimize the cost of food that is consumed\n",
        "def cost_rule(model):\n",
        "    return sum(model.c[i]*model.x[i] for i in model.F)\n",
        "model.cost = Objective(rule=cost_rule)"
      ],
      "execution_count": 56,
      "outputs": []
    },
    {
      "cell_type": "markdown",
      "metadata": {
        "id": "9q4Gom8Eobf7"
      },
      "source": [
        "Similarly, rule functions are used to define constraint expressions in the `Constraint` component:"
      ]
    },
    {
      "cell_type": "code",
      "metadata": {
        "collapsed": true,
        "id": "0bJ4TbHWobf7"
      },
      "source": [
        "# Limit nutrient consumption for each nutrient\n",
        "def nutrient_rule(model, j):\n",
        "    value = sum(model.a[i,j]*model.x[i] for i in model.F)\n",
        "    return inequality(model.Nmin[j], value, model.Nmax[j])\n",
        "model.nutrient_limit = Constraint(model.N, rule=nutrient_rule)\n",
        "\n",
        "# Limit the volume of food consumed\n",
        "def volume_rule(model):\n",
        "    return sum(model.V[i]*model.x[i] for i in model.F) <= model.Vmax\n",
        "model.volume = Constraint(rule=volume_rule)"
      ],
      "execution_count": 57,
      "outputs": []
    },
    {
      "cell_type": "markdown",
      "metadata": {
        "id": "6kUQhLX3obf8"
      },
      "source": [
        "Putting these declarations all together gives the following model:"
      ]
    },
    {
      "cell_type": "code",
      "metadata": {
        "colab": {
          "base_uri": "https://localhost:8080/",
          "height": 69
        },
        "id": "VfH8ZUq1qHkI",
        "outputId": "c226323d-be76-4d01-8716-52816e09e2f3"
      },
      "source": [
        "# Donwloading file locally\n",
        "!pip install wget\n",
        "import wget\n",
        "import os\n",
        "\n",
        "print('Beginning file download with wget module')\n",
        "\n",
        "if os.path.exists('LP_diet.py'):\n",
        "    os.remove('LP_diet.py') \n",
        "url = 'https://raw.githubusercontent.com/MerkulovDaniil/sber219/main/notebooks/LP_diet.py'\n",
        "wget.download(url, 'LP_diet.py')\n",
        "\n",
        "if os.path.exists('LP_diet.dat'):\n",
        "    os.remove('LP_diet.dat') \n",
        "url = 'https://raw.githubusercontent.com/MerkulovDaniil/sber219/main/notebooks/LP_diet.dat'\n",
        "wget.download(url, 'LP_diet.dat')"
      ],
      "execution_count": 59,
      "outputs": [
        {
          "output_type": "stream",
          "name": "stdout",
          "text": [
            "Requirement already satisfied: wget in /usr/local/lib/python3.7/dist-packages (3.2)\n",
            "Beginning file download with wget module\n"
          ]
        },
        {
          "output_type": "execute_result",
          "data": {
            "application/vnd.google.colaboratory.intrinsic+json": {
              "type": "string"
            },
            "text/plain": [
              "'LP_diet.dat'"
            ]
          },
          "metadata": {},
          "execution_count": 59
        }
      ]
    },
    {
      "cell_type": "code",
      "metadata": {
        "id": "TLThLJpZobf9",
        "colab": {
          "base_uri": "https://localhost:8080/"
        },
        "outputId": "fef6f67a-5648-46ec-de60-ed03669c19bf"
      },
      "source": [
        "!cat LP_diet.py"
      ],
      "execution_count": 60,
      "outputs": [
        {
          "output_type": "stream",
          "name": "stdout",
          "text": [
            "from pyomo.environ import *\n",
            "infinity = float('inf')\n",
            "\n",
            "model = AbstractModel()\n",
            "\n",
            "# Foods\n",
            "model.F = Set()\n",
            "# Nutrients\n",
            "model.N = Set()\n",
            "\n",
            "# Cost of each food\n",
            "model.c    = Param(model.F, within=PositiveReals)\n",
            "# Amount of nutrient in each food\n",
            "model.a    = Param(model.F, model.N, within=NonNegativeReals)\n",
            "# Lower and upper bound on each nutrient\n",
            "model.Nmin = Param(model.N, within=NonNegativeReals, default=0.0)\n",
            "model.Nmax = Param(model.N, within=NonNegativeReals, default=infinity)\n",
            "# Volume per serving of food\n",
            "model.V    = Param(model.F, within=PositiveReals)\n",
            "# Maximum volume of food consumed\n",
            "model.Vmax = Param(within=PositiveReals)\n",
            "\n",
            "# Number of servings consumed of each food\n",
            "model.x = Var(model.F, within=NonNegativeIntegers)\n",
            "\n",
            "# Minimize the cost of food that is consumed\n",
            "def cost_rule(model):\n",
            "    return sum(model.c[i]*model.x[i] for i in model.F)\n",
            "model.cost = Objective(rule=cost_rule)\n",
            "\n",
            "# Limit nutrient consumption for each nutrient\n",
            "def nutrient_rule(model, j):\n",
            "    value = sum(model.a[i,j]*model.x[i] for i in model.F)\n",
            "    return inequality(model.Nmin[j], value, model.Nmax[j])\n",
            "model.nutrient_limit = Constraint(model.N, rule=nutrient_rule)\n",
            "\n",
            "# Limit the volume of food consumed\n",
            "def volume_rule(model):\n",
            "    return sum(model.V[i]*model.x[i] for i in model.F) <= model.Vmax\n",
            "model.volume = Constraint(rule=volume_rule)\n"
          ]
        }
      ]
    },
    {
      "cell_type": "markdown",
      "metadata": {
        "id": "iqf2OdIhobf-"
      },
      "source": [
        "## Model Data\n",
        "\n",
        "Since this is an abstract Pyomo model, the set and parameter values need to be provided to initialize the model.  The following data command file provides a synthetic data set:"
      ]
    },
    {
      "cell_type": "code",
      "metadata": {
        "id": "DyUiu_Y8obf-",
        "colab": {
          "base_uri": "https://localhost:8080/"
        },
        "outputId": "08f14016-6ebf-49b8-fb95-d5f95cd27148"
      },
      "source": [
        "!cat LP_diet.dat"
      ],
      "execution_count": 61,
      "outputs": [
        {
          "output_type": "stream",
          "name": "stdout",
          "text": [
            "param:  F:                          c     V  :=\n",
            "  \"Cheeseburger\"                 1.84   4.0  \n",
            "  \"Ham Sandwich\"                 2.19   7.5  \n",
            "  \"Hamburger\"                    1.84   3.5  \n",
            "  \"Fish Sandwich\"                1.44   5.0  \n",
            "  \"Chicken Sandwich\"             2.29   7.3  \n",
            "  \"Fries\"                         .77   2.6  \n",
            "  \"Sausage Biscuit\"              1.29   4.1  \n",
            "  \"Lowfat Milk\"                   .60   8.0 \n",
            "  \"Orange Juice\"                  .72  12.0 ;\n",
            "\n",
            "param Vmax := 75.0;\n",
            "\n",
            "param:  N:       Nmin   Nmax :=\n",
            "        Cal      2000      .\n",
            "        Carbo     350    375\n",
            "        Protein    55      .\n",
            "        VitA      100      .\n",
            "        VitC      100      .\n",
            "        Calc      100      .\n",
            "        Iron      100      . ;\n",
            "\n",
            "param a:\n",
            "                               Cal  Carbo Protein   VitA   VitC  Calc  Iron :=\n",
            "  \"Cheeseburger\"               510     34     28     15      6    30    20\n",
            "  \"Ham Sandwich\"               370     35     24     15     10    20    20\n",
            "  \"Hamburger\"                  500     42     25      6      2    25    20\n",
            "  \"Fish Sandwich\"              370     38     14      2      0    15    10\n",
            "  \"Chicken Sandwich\"           400     42     31      8     15    15     8\n",
            "  \"Fries\"                      220     26      3      0     15     0     2\n",
            "  \"Sausage Biscuit\"            345     27     15      4      0    20    15\n",
            "  \"Lowfat Milk\"                110     12      9     10      4    30     0\n",
            "  \"Orange Juice\"                80     20      1      2    120     2     2 ;\n"
          ]
        }
      ]
    },
    {
      "cell_type": "markdown",
      "metadata": {
        "id": "F3mpImRwobf_"
      },
      "source": [
        "Set data is defined with the `set` command, and parameter data is defined with the `param` command.\n",
        "\n",
        "This data set considers the problem of designing a daily diet with only food from a fast food chain.\n",
        "\n",
        "## Solution\n",
        "\n",
        "Pyomo includes a `pyomo` command that automates the construction and optimization of models.  The GLPK solver can be used in this simple example:"
      ]
    },
    {
      "cell_type": "code",
      "metadata": {
        "id": "v9f34B3Qobf_",
        "colab": {
          "base_uri": "https://localhost:8080/"
        },
        "outputId": "06291962-268c-4be2-8fb3-b8ddb64514c5"
      },
      "source": [
        "!pyomo solve --solver=cbc LP_diet.py LP_diet.dat"
      ],
      "execution_count": 63,
      "outputs": [
        {
          "output_type": "stream",
          "name": "stdout",
          "text": [
            "[    0.00] Setting up Pyomo environment\n",
            "[    0.00] Applying Pyomo preprocessing actions\n",
            "[    0.00] Creating model\n",
            "[    0.01] Applying solver\n",
            "[    0.09] Processing results\n",
            "    Number of solutions: 1\n",
            "    Solution Information\n",
            "      Gap: 0.0\n",
            "      Status: optimal\n",
            "      Function Value: 15.05\n",
            "    Solver results file: results.yml\n",
            "[    0.09] Applying Pyomo postprocessing actions\n",
            "[    0.09] Pyomo Finished\n"
          ]
        }
      ]
    },
    {
      "cell_type": "markdown",
      "metadata": {
        "id": "hEtfdkSbobgA"
      },
      "source": [
        "By default, the optimization results are stored in the file `results.yml`:"
      ]
    },
    {
      "cell_type": "code",
      "metadata": {
        "id": "k7eIbJg2obgA",
        "colab": {
          "base_uri": "https://localhost:8080/"
        },
        "outputId": "135fc157-0339-44c2-a8ff-e14b42aa4ce3"
      },
      "source": [
        "!cat results.yml"
      ],
      "execution_count": 64,
      "outputs": [
        {
          "output_type": "stream",
          "name": "stdout",
          "text": [
            "# ==========================================================\n",
            "# = Solver Results                                         =\n",
            "# ==========================================================\n",
            "# ----------------------------------------------------------\n",
            "#   Problem Information\n",
            "# ----------------------------------------------------------\n",
            "Problem: \n",
            "- Name: unknown\n",
            "  Lower bound: 15.05\n",
            "  Upper bound: 15.05\n",
            "  Number of objectives: 1\n",
            "  Number of constraints: 9\n",
            "  Number of variables: 9\n",
            "  Number of binary variables: 0\n",
            "  Number of integer variables: 9\n",
            "  Number of nonzeros: 9\n",
            "  Sense: minimize\n",
            "# ----------------------------------------------------------\n",
            "#   Solver Information\n",
            "# ----------------------------------------------------------\n",
            "Solver: \n",
            "- Status: ok\n",
            "  User time: -1.0\n",
            "  System time: 0.06\n",
            "  Wallclock time: 0.06\n",
            "  Termination condition: optimal\n",
            "  Termination message: Model was solved to optimality (subject to tolerances), and an optimal solution is available.\n",
            "  Statistics: \n",
            "    Branch and bound: \n",
            "      Number of bounded subproblems: 10\n",
            "      Number of created subproblems: 10\n",
            "    Black box: \n",
            "      Number of iterations: 524\n",
            "  Error rc: 0\n",
            "  Time: 0.06711483001708984\n",
            "# ----------------------------------------------------------\n",
            "#   Solution Information\n",
            "# ----------------------------------------------------------\n",
            "Solution: \n",
            "- number of solutions: 1\n",
            "  number of solutions displayed: 1\n",
            "- Gap: 0.0\n",
            "  Status: optimal\n",
            "  Message: None\n",
            "  Objective:\n",
            "    cost:\n",
            "      Value: 15.05\n",
            "  Variable:\n",
            "    x[Cheeseburger]:\n",
            "      Value: 4\n",
            "    x[Fish Sandwich]:\n",
            "      Value: 1\n",
            "    x[Fries]:\n",
            "      Value: 5\n",
            "    x[Lowfat Milk]:\n",
            "      Value: 4\n",
            "  Constraint: No values\n"
          ]
        }
      ]
    },
    {
      "cell_type": "markdown",
      "metadata": {
        "id": "kJ3kgAH1obgA"
      },
      "source": [
        "This solution shows that for about $15 per day, a person can get by with 4 \n",
        "cheeseburgers, 5 fries, 1 fish sandwich and 4 milks."
      ]
    },
    {
      "cell_type": "markdown",
      "metadata": {
        "id": "HctqBaBbobgB"
      },
      "source": [
        "## References\n",
        "\n",
        "* G.B. Dantzig. The Diet Problem, Interfaces 20(4), 1990, 43-47"
      ]
    },
    {
      "cell_type": "markdown",
      "metadata": {
        "id": "qc-vPN03Fjmm"
      },
      "source": [
        "# 📉 Production plans\n",
        "\n",
        "[source](https://colab.research.google.com/github/jckantor/ND-Pyomo-Cookbook/blob/master/notebooks/02.01-Production-Models-with-Linear-Constraints.ipynb#scrollTo=izk2tTP1ecII)"
      ]
    },
    {
      "cell_type": "markdown",
      "metadata": {
        "id": "-VNwdz5RDiYu"
      },
      "source": [
        "### Example: Production plan for a single product plant"
      ]
    },
    {
      "cell_type": "markdown",
      "metadata": {
        "id": "P7xdxTgdDlHm"
      },
      "source": [
        "Suppose you are thinking about starting up a business to produce Product X. You have determined there is a market for X of up to 40 units per week at a price of USD 270 each. The production of each unit requires USD 100 of raw materials, 1 hour of type A labor, and 2 hours of type B labor. You have an unlimited amount of raw material available to you, but only 80 hours per week of labor A at a cost of USD 50/hour, and 100 hours per week of labor B at a cost of USD 40 per hour. Ignoring all other expenses, what is the maximum weekly profit?\n",
        "\n",
        "To get started on this problem, we sketch a flow diagram illustrating the flow of raw materials and labor through the production plant.\n",
        "\n",
        "![LP_ProductX.png](https://github.com/jckantor/ND-Pyomo-Cookbook/blob/master/notebooks/figures/LP_ProductX.png?raw=1)\n",
        "\n",
        "The essential decision we need to make is how many units or Product X to produce each week. That's our *decision variable* which we denote as $x$. The weekly revenues are then\n",
        "\n",
        "$$\n",
        "\\mbox{Revenue} = \\$270 x\n",
        "$$\n",
        "\n",
        "The costs include the value of the raw materials and each form of labor. If we produce x units a week, then the total cost is\n",
        "\n",
        "$$\n",
        "\\mbox{Cost} = \\underbrace{\\$100 x}_{\\mbox{Raw Material}} + \\underbrace{\\$50 x}_{\\mbox{Labor A}} + \\underbrace{2\\times\\$40 x}_{\\mbox{Labor B}} = \\$230 x\n",
        "$$\n",
        "    \n",
        "We see immediately that the gross profit is just\n",
        "\n",
        "\n",
        "\\begin{split}\n",
        "\\mbox{Profit} & = & \\mbox{Revenue} - \\mbox{Cost} \\\\\n",
        "& = & \\$ 270x - \\$ 230x \\\\\n",
        "& = & \\$ 40 x\n",
        "\\end{split}\n",
        "\n",
        "\n",
        "which means there is a profit earned on each unit of X produced, so let's produce as many as possible. \n",
        "\n",
        "There are three constraints that limit how many units can be produced. There is market demand for no more than 40 units per week. Producing $x = 40$ units per week will require 40 hours per week of Labor A, and 80 hours per week of Labor B. Checking those constraints we see that we have enough labor of each type, so the maximum profit will be\n",
        "\n",
        "$$\n",
        "\\max \\mbox{Profit} = $40 \\mbox{ per unit} \\times 40 \\mbox{ units per week} = \\$1600 \\mbox{ per week}\n",
        "$$\n",
        "\n",
        "What we conclude is that market demand is the 'most constraining constraint.' Once we've made that deduction, the rest is a straightforward problem that can be solved by inspection.  "
      ]
    },
    {
      "cell_type": "markdown",
      "metadata": {
        "id": "bopmyS_aEL5r"
      },
      "source": [
        "While this problem can be solved by inspection, here we show a Pyomo model that generates a solution to the problem."
      ]
    },
    {
      "cell_type": "code",
      "metadata": {
        "colab": {
          "base_uri": "https://localhost:8080/"
        },
        "id": "x7ZuZGJTDjot",
        "outputId": "ef186bdd-bd0f-4e64-868a-9a4a2a33f1a1"
      },
      "source": [
        "model = ConcreteModel()\n",
        "\n",
        "# declare decision variables\n",
        "model.x = Var(domain=NonNegativeReals)\n",
        "\n",
        "# declare objective\n",
        "model.profit = Objective(\n",
        "    expr = 40*model.x,\n",
        "    sense = maximize)\n",
        "\n",
        "# declare constraints\n",
        "model.demand = Constraint(expr = model.x <= 40)\n",
        "model.laborA = Constraint(expr = model.x <= 80)\n",
        "model.laborB = Constraint(expr = 2*model.x <= 100)\n",
        "\n",
        "# solve\n",
        "SolverFactory('cbc').solve(model).write()"
      ],
      "execution_count": null,
      "outputs": [
        {
          "output_type": "stream",
          "text": [
            "# ==========================================================\n",
            "# = Solver Results                                         =\n",
            "# ==========================================================\n",
            "# ----------------------------------------------------------\n",
            "#   Problem Information\n",
            "# ----------------------------------------------------------\n",
            "Problem: \n",
            "- Name: unknown\n",
            "  Lower bound: 1600.0\n",
            "  Upper bound: 1600.0\n",
            "  Number of objectives: 1\n",
            "  Number of constraints: 4\n",
            "  Number of variables: 2\n",
            "  Number of nonzeros: 0\n",
            "  Sense: maximize\n",
            "# ----------------------------------------------------------\n",
            "#   Solver Information\n",
            "# ----------------------------------------------------------\n",
            "Solver: \n",
            "- Status: ok\n",
            "  User time: -1.0\n",
            "  System time: 0.0\n",
            "  Wallclock time: 0.0\n",
            "  Termination condition: optimal\n",
            "  Termination message: Model was solved to optimality (subject to tolerances), and an optimal solution is available.\n",
            "  Statistics: \n",
            "    Branch and bound: \n",
            "      Number of bounded subproblems: None\n",
            "      Number of created subproblems: None\n",
            "    Black box: \n",
            "      Number of iterations: 0\n",
            "  Error rc: 0\n",
            "  Time: 0.024201154708862305\n",
            "# ----------------------------------------------------------\n",
            "#   Solution Information\n",
            "# ----------------------------------------------------------\n",
            "Solution: \n",
            "- number of solutions: 0\n",
            "  number of solutions displayed: 0\n"
          ],
          "name": "stdout"
        }
      ]
    },
    {
      "cell_type": "markdown",
      "metadata": {
        "id": "pv4EwUjUEVrO"
      },
      "source": [
        "The results of the solution step show the solver has converged to an optimal solution. Next we display the particular components of the model of interest to us."
      ]
    },
    {
      "cell_type": "code",
      "metadata": {
        "colab": {
          "base_uri": "https://localhost:8080/"
        },
        "id": "v9wC7c8eEXSK",
        "outputId": "34bb490d-e976-4459-9475-0a251cff40ec"
      },
      "source": [
        "print(\"Profit = \", model.profit(), \" per week\")\n",
        "print(\"X = \", model.x(), \" units per week\")"
      ],
      "execution_count": null,
      "outputs": [
        {
          "output_type": "stream",
          "text": [
            "Profit =  1600.0  per week\n",
            "X =  40.0  units per week\n"
          ],
          "name": "stdout"
        }
      ]
    },
    {
      "cell_type": "markdown",
      "metadata": {
        "id": "BYe4eDmAecIZ",
        "pycharm": {}
      },
      "source": [
        "#### Simple exercises"
      ]
    },
    {
      "cell_type": "markdown",
      "metadata": {
        "id": "5-cCaUWKecIZ",
        "pycharm": {}
      },
      "source": [
        "1. Suppose the demand could be increased to 50 units per month. What would be the increased profits?  What if the demand increased to 60 units per month?  How much would you be willing to pay for your marketing department for the increased demand?\n",
        "\n",
        "2. Increase the cost of LaborB. At what point is it no longer financially viable to run the plant?"
      ]
    },
    {
      "cell_type": "markdown",
      "metadata": {
        "id": "7R9q6sDcecIa",
        "pycharm": {}
      },
      "source": [
        "### Production plan: Product Y"
      ]
    },
    {
      "cell_type": "markdown",
      "metadata": {
        "id": "uHrtxXrhecIb",
        "pycharm": {}
      },
      "source": [
        "Your marketing department has developed plans for a new product called Y. The product sells at a price of USD 210/each, and they expect that you can sell all that you can make. It's also cheaper to make, requiring only USD 90 in raw materials, 1 hour of Labor type A at USD 50 per hour, and 1 hour of Labor B at USD 40 per hour. What is the potential weekly profit?\n",
        "\n",
        "![LP_ProductY.png](https://github.com/jckantor/ND-Pyomo-Cookbook/blob/master/notebooks/figures/LP_ProductY.png?raw=1)"
      ]
    },
    {
      "cell_type": "code",
      "metadata": {
        "colab": {
          "base_uri": "https://localhost:8080/"
        },
        "id": "rHGr9LwqecId",
        "pycharm": {},
        "outputId": "b247fe30-753d-4de2-d396-6027df876681"
      },
      "source": [
        "model = ConcreteModel()\n",
        "\n",
        "# declare decision variables\n",
        "model.y = Var(domain=NonNegativeReals)\n",
        "\n",
        "# declare objective\n",
        "model.profit = Objective(\n",
        "    expr = 30*model.y,\n",
        "    sense = maximize)\n",
        "\n",
        "# declare constraints\n",
        "model.laborA = Constraint(expr = model.y <= 80)\n",
        "model.laborB = Constraint(expr = model.y <= 100)\n",
        "\n",
        "# solve\n",
        "SolverFactory('cbc').solve(model).write()"
      ],
      "execution_count": null,
      "outputs": [
        {
          "output_type": "stream",
          "text": [
            "# ==========================================================\n",
            "# = Solver Results                                         =\n",
            "# ==========================================================\n",
            "# ----------------------------------------------------------\n",
            "#   Problem Information\n",
            "# ----------------------------------------------------------\n",
            "Problem: \n",
            "- Name: unknown\n",
            "  Lower bound: 2400.0\n",
            "  Upper bound: 2400.0\n",
            "  Number of objectives: 1\n",
            "  Number of constraints: 3\n",
            "  Number of variables: 2\n",
            "  Number of nonzeros: 0\n",
            "  Sense: maximize\n",
            "# ----------------------------------------------------------\n",
            "#   Solver Information\n",
            "# ----------------------------------------------------------\n",
            "Solver: \n",
            "- Status: ok\n",
            "  User time: -1.0\n",
            "  System time: 0.0\n",
            "  Wallclock time: 0.0\n",
            "  Termination condition: optimal\n",
            "  Termination message: Model was solved to optimality (subject to tolerances), and an optimal solution is available.\n",
            "  Statistics: \n",
            "    Branch and bound: \n",
            "      Number of bounded subproblems: None\n",
            "      Number of created subproblems: None\n",
            "    Black box: \n",
            "      Number of iterations: 0\n",
            "  Error rc: 0\n",
            "  Time: 0.025733470916748047\n",
            "# ----------------------------------------------------------\n",
            "#   Solution Information\n",
            "# ----------------------------------------------------------\n",
            "Solution: \n",
            "- number of solutions: 0\n",
            "  number of solutions displayed: 0\n"
          ],
          "name": "stdout"
        }
      ]
    },
    {
      "cell_type": "code",
      "metadata": {
        "colab": {
          "base_uri": "https://localhost:8080/"
        },
        "id": "b9SY8ZPRecIh",
        "pycharm": {},
        "outputId": "ab9b1edf-dab4-437c-ce67-34643c8e506f"
      },
      "source": [
        "print(\"Profit = \", model.profit())\n",
        "print(\"Units of Y = \", model.y())"
      ],
      "execution_count": null,
      "outputs": [
        {
          "output_type": "stream",
          "text": [
            "Profit =  2400.0\n",
            "Units of Y =  80.0\n"
          ],
          "name": "stdout"
        }
      ]
    },
    {
      "cell_type": "markdown",
      "metadata": {
        "id": "oEl-VQeyecIk",
        "pycharm": {}
      },
      "source": [
        "Compared to product X, we can manufacture and sell up 80 units per week for a total profit of \\$2,400. This is very welcome news. "
      ]
    },
    {
      "cell_type": "markdown",
      "metadata": {
        "id": "uqfCBHxjecIm",
        "pycharm": {}
      },
      "source": [
        "#### Simple exercises"
      ]
    },
    {
      "cell_type": "markdown",
      "metadata": {
        "id": "2LnLKNbfecIm",
        "pycharm": {}
      },
      "source": [
        "1. What is the limiting resource?  That is, which of the two types of labor limits the capacity of your plant to produce more units of Y?\n",
        "\n",
        "2. What rate would you be willing to pay for the additional labor necessary to increase the production of Y?"
      ]
    },
    {
      "cell_type": "markdown",
      "metadata": {
        "id": "Df2vj9GiecIn",
        "pycharm": {}
      },
      "source": [
        "### Production plan: Mixed product strategy"
      ]
    },
    {
      "cell_type": "markdown",
      "metadata": {
        "id": "uMh4W-ijecIo",
        "pycharm": {}
      },
      "source": [
        "So far we have learned that we can make $\\$1,600$ per week by manufacturing product X, and $\\$2,400$ per week manufacturing product Y.  Is it possible to do even better?\n",
        "\n",
        "To answer this question, we consider the possibilty of manufacturing both products in the same plant. The marketing department assures us that product Y will not affect the sales of product X.  So the same constraints hold as before, but now we have two decision variables, $x$ and $y$.\n",
        "\n",
        "![LP_ProductXY.png](https://github.com/jckantor/ND-Pyomo-Cookbook/blob/master/notebooks/figures/LP_ProductXY.png?raw=1)"
      ]
    },
    {
      "cell_type": "code",
      "metadata": {
        "colab": {
          "base_uri": "https://localhost:8080/"
        },
        "id": "RgjGjPrFecIr",
        "pycharm": {},
        "outputId": "f0d44320-fd4a-4cf7-daa4-38f5701d5960"
      },
      "source": [
        "model = ConcreteModel()\n",
        "\n",
        "# declare decision variables\n",
        "model.x = Var(domain=NonNegativeReals)\n",
        "model.y = Var(domain=NonNegativeReals)\n",
        "\n",
        "# declare objective\n",
        "model.profit = Objective(\n",
        "    expr = 40*model.x + 30*model.y,\n",
        "    sense = maximize)\n",
        "\n",
        "# declare constraints\n",
        "model.demand = Constraint(expr = model.x <= 40)\n",
        "model.laborA = Constraint(expr = model.x + model.y <= 80)\n",
        "model.laborB = Constraint(expr = 2*model.x + model.y <= 100)\n",
        "\n",
        "# solve\n",
        "SolverFactory('cbc').solve(model).write()"
      ],
      "execution_count": null,
      "outputs": [
        {
          "output_type": "stream",
          "text": [
            "# ==========================================================\n",
            "# = Solver Results                                         =\n",
            "# ==========================================================\n",
            "# ----------------------------------------------------------\n",
            "#   Problem Information\n",
            "# ----------------------------------------------------------\n",
            "Problem: \n",
            "- Name: unknown\n",
            "  Lower bound: 2600.0\n",
            "  Upper bound: 2600.0\n",
            "  Number of objectives: 1\n",
            "  Number of constraints: 4\n",
            "  Number of variables: 3\n",
            "  Number of nonzeros: 2\n",
            "  Sense: maximize\n",
            "# ----------------------------------------------------------\n",
            "#   Solver Information\n",
            "# ----------------------------------------------------------\n",
            "Solver: \n",
            "- Status: ok\n",
            "  User time: -1.0\n",
            "  System time: 0.0\n",
            "  Wallclock time: 0.0\n",
            "  Termination condition: optimal\n",
            "  Termination message: Model was solved to optimality (subject to tolerances), and an optimal solution is available.\n",
            "  Statistics: \n",
            "    Branch and bound: \n",
            "      Number of bounded subproblems: None\n",
            "      Number of created subproblems: None\n",
            "    Black box: \n",
            "      Number of iterations: 2\n",
            "  Error rc: 0\n",
            "  Time: 0.023098468780517578\n",
            "# ----------------------------------------------------------\n",
            "#   Solution Information\n",
            "# ----------------------------------------------------------\n",
            "Solution: \n",
            "- number of solutions: 0\n",
            "  number of solutions displayed: 0\n"
          ],
          "name": "stdout"
        }
      ]
    },
    {
      "cell_type": "code",
      "metadata": {
        "colab": {
          "base_uri": "https://localhost:8080/"
        },
        "id": "16AtkqK1ecIy",
        "pycharm": {},
        "outputId": "7d9f1a33-70d5-414e-e761-a863e6479977"
      },
      "source": [
        "# display solution\n",
        "print(\"Profit = \", model.profit())\n",
        "print(\"Units of X = \", model.x())\n",
        "print(\"Units of Y = \", model.y())"
      ],
      "execution_count": null,
      "outputs": [
        {
          "output_type": "stream",
          "text": [
            "Profit =  2600.0\n",
            "Units of X =  20.0\n",
            "Units of Y =  60.0\n"
          ],
          "name": "stdout"
        }
      ]
    },
    {
      "cell_type": "markdown",
      "metadata": {
        "id": "x7WugdoxecI1",
        "pycharm": {}
      },
      "source": [
        "The mixed product strategy earns more profit than either of the single product srategies. Does this surprise you?  Before going further, try to explain why it is possible for a mixed product strategy to earn more profit than either of the possible single product strategies."
      ]
    },
    {
      "cell_type": "markdown",
      "metadata": {
        "id": "o_K5Y2OaecI2",
        "pycharm": {}
      },
      "source": [
        "### What are the active constraints?"
      ]
    },
    {
      "cell_type": "code",
      "metadata": {
        "colab": {
          "base_uri": "https://localhost:8080/",
          "height": 398
        },
        "id": "DewV4M8mecI3",
        "pycharm": {},
        "outputId": "7ecf35aa-7dad-42e0-c18c-dd98b65c3cd4"
      },
      "source": [
        "plt.figure(figsize=(6, 6))\n",
        "plt.subplot(111, aspect='equal')\n",
        "plt.axis([0, 100, 0, 100])\n",
        "plt.xlabel('Production Qty X')\n",
        "plt.ylabel('Production Qty Y')\n",
        "\n",
        "# Labor A constraint\n",
        "x = np.array([0, 80])\n",
        "y = 80 - x\n",
        "plt.plot(x, y, 'r', lw=2)\n",
        "plt.fill_between([0, 80, 100], [80, 0,0 ], [100, 100, 100], color='r', alpha=0.15)\n",
        "\n",
        "# Labor B constraint\n",
        "x = np.array([0, 50])\n",
        "y = 100 - 2*x\n",
        "plt.plot(x, y, 'b', lw=2)\n",
        "plt.fill_between([0, 50, 100], [100, 0, 0], [100, 100, 100], color='b', alpha=0.15)\n",
        "\n",
        "# Demand constraint\n",
        "plt.plot([40, 40], [0, 100], 'g', lw=2)\n",
        "plt.fill_between([40, 100], [0, 0], [100, 100], color='g', alpha=0.15)\n",
        "\n",
        "plt.legend(['Labor A Constraint', 'Labor B Constraint', 'Demand Constraint'])\n",
        "\n",
        "# Contours of constant profit\n",
        "x = np.array([0, 100])\n",
        "for p in np.linspace(0, 3600, 10):\n",
        "    y = (p - 40*x)/30\n",
        "    plt.plot(x, y, 'y--')\n",
        "\n",
        "# Optimum\n",
        "plt.plot(20, 60, 'r.', ms=20)\n",
        "plt.annotate('Mixed Product Strategy', xy=(20, 60), xytext=(50, 70), \n",
        "             arrowprops=dict(shrink=.1, width=1, headwidth=5))\n",
        "\n",
        "plt.plot(0, 80, 'b.', ms=20)\n",
        "plt.annotate('Y Only', xy=(0, 80), xytext=(20, 90), \n",
        "             arrowprops=dict(shrink=0.1, width=1, headwidth=5))\n",
        "\n",
        "plt.plot(40, 0, 'b.', ms=20)\n",
        "plt.annotate('X Only', xy=(40, 0), xytext=(70, 20), \n",
        "             arrowprops=dict(shrink=0.1, width=1, headwidth=5))\n",
        "\n",
        "plt.text(4, 23, 'Increasing Profit')\n",
        "plt.annotate('', xy=(20,15), xytext=(0,0), \n",
        "             arrowprops=dict(width=0.5,headwidth=5))\n",
        "\n",
        "fname = 'LPprog01.png'\n",
        "fname = os.path.join('figures', fname) if os.path.exists('figures') else fname\n",
        "plt.savefig(fname, bbox_inches='tight')"
      ],
      "execution_count": null,
      "outputs": [
        {
          "output_type": "display_data",
          "data": {
            "image/png": "[encoded data removed]",
            "text/plain": [
              "<Figure size 432x432 with 1 Axes>"
            ]
          },
          "metadata": {
            "tags": [],
            "needs_background": "light"
          }
        }
      ]
    },
    {
      "cell_type": "markdown",
      "metadata": {
        "id": "8zmfJY7CHnEF"
      },
      "source": [
        "# 🍺🤔 ➡ 🍻😀 Pivko Blending problem"
      ]
    },
    {
      "cell_type": "markdown",
      "metadata": {
        "id": "Hpw8WrqYfvQn",
        "pycharm": {}
      },
      "source": [
        "### Problem Statement (Jenchura, 2017)\n",
        "\n",
        "A brewery receives an order for 100 gallons of 4% ABV (alchohol by volume) beer. The brewery has on hand beer A that is 4.5% ABV that cost USD 0.32 per gallon to make, and beer B that is 3.7% ABV and cost USD 0.25 per gallon. Water could also be used as a blending agent at a cost of USD 0.05 per gallon. Find the minimum cost blend that meets the customer requirements."
      ]
    },
    {
      "cell_type": "markdown",
      "metadata": {
        "pycharm": {
          "metadata": false
        },
        "id": "Na8TWs4bHFDD"
      },
      "source": [
        "### Representing Problem Data as a Python Dictionary\n",
        "\n",
        "We will use this problem as an opportunity to write a Python function that accepts data on raw materials and customer specifications to produce the lowest cost blend.\n",
        "\n",
        "The first step is to represent the problem data in a generic manner that could, if needed, be extended to include additional blending components.  Here we use a dictionary of materials, each key denoting a blending agent. For each key there is a sub-dictionary containing attributes of each blending component."
      ]
    },
    {
      "cell_type": "code",
      "metadata": {
        "id": "fDkJ5HzkfvQp",
        "pycharm": {}
      },
      "source": [
        "data = {\n",
        "    'Okhota': {'abv': 0.045, 'cost': 0.32},\n",
        "    'Baltika': {'abv': 0.037, 'cost': 0.25},\n",
        "    'Water': {'abv': 0.000, 'cost': 0.05},\n",
        "}"
      ],
      "execution_count": null,
      "outputs": []
    },
    {
      "cell_type": "markdown",
      "metadata": {
        "id": "-dL8rmGpHFDE"
      },
      "source": [
        "### Model Formulation"
      ]
    },
    {
      "cell_type": "markdown",
      "metadata": {
        "id": "rCJAYhYSfvQu",
        "pycharm": {}
      },
      "source": [
        "#### Objective Function\n",
        "\n",
        "If we let subscript $c$ denote a blending component from the set of blending components $C$, and denote the volume of $c$ used in the blend as $x_c$, the cost of the blend is\n",
        "\n",
        "\\begin{align}\n",
        "\\mbox{cost} & = \\sum_{c\\in C} x_c P_c\n",
        "\\end{align}\n",
        "\n",
        "where $P_c$ is the price per unit volume of $c$. Using the Python data dictionary defined above, the price $P_c$ is given by `data[c]['cost']`.\n"
      ]
    },
    {
      "cell_type": "markdown",
      "metadata": {
        "pycharm": {
          "metadata": false,
          "name": "#%% md\n"
        },
        "id": "ScuOBR_iHFDF"
      },
      "source": [
        "#### Volume Constraint\n",
        "\n",
        "The customer requirement is produce a total volume $V$. Assuming ideal solutions, the constraint is given by\n",
        "\n",
        "\\begin{align}\n",
        "V &  = \\sum_{c\\in C} x_c\n",
        "\\end{align}\n",
        "\n",
        "where $x_c$ denotes the volume of component $c$ used in the blend.\n"
      ]
    },
    {
      "cell_type": "markdown",
      "metadata": {
        "pycharm": {
          "metadata": false,
          "name": "#%% md\n"
        },
        "id": "4F3rJwhNHFDF"
      },
      "source": [
        "#### Product Composition Constraint\n",
        "\n",
        "The product composition is specified as 4% alchohol by volume. Denoting this as $\\bar{A}$, the constraint may be written as\n",
        "\n",
        "\\begin{align}\n",
        "\\bar{A} & = \\frac{\\sum_{c\\in C}x_c A_c}{\\sum_{c\\in C} x_c}\n",
        "\\end{align}\n",
        "\n",
        "where $A_c$ is the alcohol by volume for component $c$. As written, this is a nonlinear constraint. Multiplying both sides of the equation by the denominator yields a linear constraint\n",
        "\n",
        "\\begin{align}\n",
        "\\bar{A}\\sum_{c\\in C} x_c & = \\sum_{c\\in C}x_c A_c\n",
        "\\end{align}\n",
        "\n",
        "A final form for this constraint can be given in either of two versions. In the first version we subtract the left-hand side from the right to give\n",
        "\n",
        "\\begin{align}\n",
        "0 & = \\sum_{c\\in C}x_c \\left(A_c - \\bar{A}\\right) & \\mbox{ Version 1 of the linear blending constraint}\n",
        "\\end{align}\n",
        "\n",
        "Alternatively, the summation on the left-hand side corresponds to total volume. Since that is known as part of the problem specification, the blending constraint could also be written as\n",
        "\n",
        "\\begin{align}\n",
        "\\bar{A}V & = \\sum_{c\\in C}x_c A_c  & \\mbox{ Version 2 of the linear blending constraint}\n",
        "\\end{align}\n",
        "\n",
        "Which should you use? Either will generally work well. The advantage of version 1 is that it is fully specified by a product requirement $\\bar{A}$, which is sometimes helpful in writing elegant Python code.\n"
      ]
    },
    {
      "cell_type": "markdown",
      "metadata": {
        "pycharm": {
          "metadata": false,
          "name": "#%% md\n"
        },
        "id": "ZmLLrVo9HFDF"
      },
      "source": [
        "### Implementation in Pyomo\n",
        "\n",
        "A Pyomo implementation of this blending model is shown in the next cell. The model is contained within a Python function so that it can be more easily reused for additional calculations, or eventually for use by the process operator.\n",
        "\n",
        "Note that the pyomo library has been imported with the prefix `pyomo`. This is good programming practive to avoid namespace collisions with problem data."
      ]
    },
    {
      "cell_type": "code",
      "metadata": {
        "colab": {
          "base_uri": "https://localhost:8080/"
        },
        "id": "bBqNKjPAfvQv",
        "pycharm": {},
        "outputId": "f440b343-8cf3-4ccc-9c1f-2b9fc2a5105c"
      },
      "source": [
        "vol = 100\n",
        "abv = 0.04\n",
        "\n",
        "def beer_blend(vol, abv, data):\n",
        "    C = data.keys()\n",
        "    model = ConcreteModel()\n",
        "    model.x = Var(C, domain=NonNegativeReals)\n",
        "    model.cost = Objective(expr = sum(model.x[c]*data[c]['cost'] for c in C))\n",
        "    model.vol = Constraint(expr = vol == sum(model.x[c] for c in C))\n",
        "    model.abv = Constraint(expr = 0 == sum(model.x[c]*(data[c]['abv'] - abv) for c in C))\n",
        "\n",
        "    solver = SolverFactory('cbc')\n",
        "    solver.solve(model)\n",
        "\n",
        "    print('Optimal Blend')\n",
        "    for c in data.keys():\n",
        "        print('  ', c, ':', model.x[c](), 'gallons')\n",
        "    print()\n",
        "    print('Volume = ', model.vol(), 'gallons')\n",
        "    print('Cost = $', model.cost())\n",
        "    \n",
        "beer_blend(vol, abv, data)"
      ],
      "execution_count": null,
      "outputs": [
        {
          "output_type": "stream",
          "text": [
            "Optimal Blend\n",
            "   Okhota : 37.5 gallons\n",
            "   Baltika : 62.5 gallons\n",
            "   Water : 0.0 gallons\n",
            "\n",
            "Volume =  100.0 gallons\n",
            "Cost = $ 27.625\n"
          ],
          "name": "stdout"
        }
      ]
    },
    {
      "cell_type": "markdown",
      "metadata": {
        "id": "jMxww7mcmaBK",
        "pycharm": {}
      },
      "source": [
        "# 🚚 Transportation Networks\n",
        "\n",
        "Keywords: transportation, assignment, cbc usage\n",
        "\n",
        "This notebook demonstrates the solution of transportation network problems using Pyomo and GLPK. The problem description and data are adapted from Chapter 5 of Johannes Bisschop, [\"AIMMS Optimization Modeling\", AIMMS B. V., 2014](http://download.aimms.com/aimms/download/manuals/AIMMS3_OM.pdf).\n"
      ]
    },
    {
      "cell_type": "markdown",
      "metadata": {
        "id": "dUB64cl9jz4y"
      },
      "source": [
        "## Imports"
      ]
    },
    {
      "cell_type": "code",
      "metadata": {
        "id": "WdqEo2IbmjQu",
        "pycharm": {}
      },
      "source": [
        "import shutil\n",
        "import sys\n",
        "import os.path\n",
        "\n",
        "if not shutil.which(\"pyomo\"):\n",
        "    !pip install -q pyomo\n",
        "    assert(shutil.which(\"pyomo\"))\n",
        "\n",
        "if not (shutil.which(\"cbc\") or os.path.isfile(\"cbc\")):\n",
        "    if \"google.colab\" in sys.modules:\n",
        "        !apt-get install -y -qq coinor-cbc\n",
        "    else:\n",
        "        try:\n",
        "            !conda install -c conda-forge coincbc \n",
        "        except:\n",
        "            pass\n",
        "\n",
        "assert(shutil.which(\"cbc\") or os.path.isfile(\"cbc\"))\n",
        "    \n",
        "from pyomo.environ import *"
      ],
      "execution_count": 37,
      "outputs": []
    },
    {
      "cell_type": "markdown",
      "metadata": {
        "pycharm": {
          "metadata": false,
          "name": "#%% md\n"
        },
        "id": "d98L9bHkjz41"
      },
      "source": [
        "## Background\n",
        "\n",
        "The prototypical transportation problem deals with the distribution of a commodity from a set of sources to a set of destinations. The object is to minimize total transportation costs while satisfying constraints on the supplies available at each of the sources, and satisfying demand requirements at each of the destinations.\n",
        "\n",
        "Here we illustrate the transportation problem using an example from Chapter 5 of Johannes Bisschop, \"AIMMS Optimization Modeling\", Paragon Decision Sciences, 1999. In this example there are two factories and six customer sites located in 8 European cities as shown in the following map. The customer sites are labeled in red, the factories are labeled in blue."
      ]
    },
    {
      "cell_type": "markdown",
      "metadata": {
        "id": "i2uB5hYLmaBN",
        "pycharm": {}
      },
      "source": [
        "![TransportationNetworksMap.png](https://github.com/jckantor/ND-Pyomo-Cookbook/blob/master/notebooks/figures/TransportationNetworksMap.png?raw=1)"
      ]
    },
    {
      "cell_type": "markdown",
      "metadata": {
        "id": "P7FCxssgmaBP",
        "pycharm": {}
      },
      "source": [
        "Transportation costs between sources and destinations are given in units of &euro;/ton of goods shipped, and list in the following table along with source capacity and demand requirements.\n"
      ]
    },
    {
      "cell_type": "markdown",
      "metadata": {
        "pycharm": {
          "metadata": false,
          "name": "#%% md\n"
        },
        "id": "vyJdKMRYjz43"
      },
      "source": [
        "### Table of transportation costs, customer demand, and available supplies\n",
        "\n",
        "| Customer\\Source | Arnhem [&euro;/ton] | Gouda [&euro;/ton] | Demand [tons]|\n",
        "| :--: | :----: | :---: | :----: |\n",
        "| London | n/a | 2.5 | 125 |\n",
        "| Berlin | 2.5 | n/a | 175 |\n",
        "| Maastricht | 1.6 | 2.0 | 225 |\n",
        "| Amsterdam | 1.4 | 1.0 | 250 |\n",
        "| Utrecht | 0.8 | 1.0 | 225 |\n",
        "| The Hague | 1.4 | 0.8 | 200 |\n",
        "| **Supply [tons]** | 550 tons | 700 tons |  |\n",
        "\n",
        "The situation can be modeled by links connecting a set nodes representing sources to a set of nodes representing customers.\n",
        "\n",
        "![TransportNet.png](https://github.com/jckantor/ND-Pyomo-Cookbook/blob/master/notebooks/figures/TransportNet.png?raw=1)\n",
        "\n",
        "For each link we can have a parameter $T[c,s]$ denoting the cost of shipping a ton of goods over the link. What we need to determine is the amount of goods to be shipped over each link, which we will represent as a non-negative decision variable $x[c,s]$.\n",
        "\n",
        "The problem objective is to minimize the total shipping cost to all customers from all sources. \n",
        "\n",
        "$$\\mbox{minimize:}\\quad \\mbox{Cost} = \\sum_{c \\in Customers}\\sum_{s \\in Sources} T[c,s] x[c,s]$$\n",
        "\n",
        "Shipments from all sources can not exceed the manufacturing capacity of the source.\n",
        "\n",
        "$$\\sum_{c \\in Customers} x[c,s] \\leq \\mbox{Supply}[s] \\qquad \\forall s \\in Sources$$\n",
        "\n",
        "Shipments to each customer must satisfy their demand.\n",
        "\n",
        "$$\\sum_{s\\in Sources} x[c,s] = \\mbox{Demand}[c] \\qquad \\forall c \\in Customers$$"
      ]
    },
    {
      "cell_type": "markdown",
      "metadata": {
        "id": "Z6lxj4h7mfBA",
        "pycharm": {}
      },
      "source": [
        "## Pyomo model"
      ]
    },
    {
      "cell_type": "markdown",
      "metadata": {
        "id": "KVTGAB_rmaBR",
        "pycharm": {}
      },
      "source": [
        "### Data File"
      ]
    },
    {
      "cell_type": "code",
      "metadata": {
        "id": "PWTg-VkImaBR",
        "pycharm": {}
      },
      "source": [
        "Demand = {\n",
        "   'Lon':   125,        # London\n",
        "   'Ber':   175,        # Berlin\n",
        "   'Maa':   225,        # Maastricht\n",
        "   'Ams':   250,        # Amsterdam\n",
        "   'Utr':   225,        # Utrecht\n",
        "   'Hag':   200         # The Hague\n",
        "}\n",
        "\n",
        "Supply = {\n",
        "   'Arn':   600,        # Arnhem\n",
        "   'Gou':   650         # Gouda\n",
        "}\n",
        "\n",
        "T = {\n",
        "    ('Lon','Arn'): 1000,\n",
        "    ('Lon','Gou'): 2.5,\n",
        "    ('Ber','Arn'): 2.5,\n",
        "    ('Ber','Gou'): 1000,\n",
        "    ('Maa','Arn'): 1.6,\n",
        "    ('Maa','Gou'): 2.0,\n",
        "    ('Ams','Arn'): 1.4,\n",
        "    ('Ams','Gou'): 1.0,\n",
        "    ('Utr','Arn'): 0.8,\n",
        "    ('Utr','Gou'): 1.0,\n",
        "    ('Hag','Arn'): 1.4,\n",
        "    ('Hag','Gou'): 0.8\n",
        "}"
      ],
      "execution_count": 38,
      "outputs": []
    },
    {
      "cell_type": "markdown",
      "metadata": {
        "id": "Xzn73cqWmaBX",
        "pycharm": {}
      },
      "source": [
        "### Model file"
      ]
    },
    {
      "cell_type": "code",
      "metadata": {
        "colab": {
          "base_uri": "https://localhost:8080/"
        },
        "id": "cVoqn1ozmaBX",
        "pycharm": {},
        "outputId": "3f7a44e9-09b4-4dcb-ee2f-c49f7e9af2ca"
      },
      "source": [
        "# Step 0: Create an instance of the model\n",
        "model = ConcreteModel()\n",
        "model.dual = Suffix(direction=Suffix.IMPORT)\n",
        "\n",
        "# Step 1: Define index sets\n",
        "CUS = list(Demand.keys())\n",
        "SRC = list(Supply.keys())\n",
        "\n",
        "# Step 2: Define the decision \n",
        "model.x = Var(CUS, SRC, domain = NonNegativeReals)\n",
        "\n",
        "# Step 3: Define Objective\n",
        "model.Cost = Objective(\n",
        "    expr = sum([T[c,s]*model.x[c,s] for c in CUS for s in SRC]),\n",
        "    sense = minimize)\n",
        "\n",
        "# Step 4: Constraints\n",
        "model.src = ConstraintList()\n",
        "for s in SRC:\n",
        "    model.src.add(sum([model.x[c,s] for c in CUS]) <= Supply[s])\n",
        "        \n",
        "model.dmd = ConstraintList()\n",
        "for c in CUS:\n",
        "    model.dmd.add(sum([model.x[c,s] for s in SRC]) == Demand[c])\n",
        "    \n",
        "results = SolverFactory('cbc').solve(model)\n",
        "results.write()"
      ],
      "execution_count": 39,
      "outputs": [
        {
          "output_type": "stream",
          "name": "stdout",
          "text": [
            "# ==========================================================\n",
            "# = Solver Results                                         =\n",
            "# ==========================================================\n",
            "# ----------------------------------------------------------\n",
            "#   Problem Information\n",
            "# ----------------------------------------------------------\n",
            "Problem: \n",
            "- Name: unknown\n",
            "  Lower bound: 1705.0\n",
            "  Upper bound: 1705.0\n",
            "  Number of objectives: 1\n",
            "  Number of constraints: 9\n",
            "  Number of variables: 13\n",
            "  Number of nonzeros: 6\n",
            "  Sense: minimize\n",
            "# ----------------------------------------------------------\n",
            "#   Solver Information\n",
            "# ----------------------------------------------------------\n",
            "Solver: \n",
            "- Status: ok\n",
            "  User time: -1.0\n",
            "  System time: 0.0\n",
            "  Wallclock time: 0.0\n",
            "  Termination condition: optimal\n",
            "  Termination message: Model was solved to optimality (subject to tolerances), and an optimal solution is available.\n",
            "  Statistics: \n",
            "    Branch and bound: \n",
            "      Number of bounded subproblems: None\n",
            "      Number of created subproblems: None\n",
            "    Black box: \n",
            "      Number of iterations: 1\n",
            "  Error rc: 0\n",
            "  Time: 0.023395061492919922\n",
            "# ----------------------------------------------------------\n",
            "#   Solution Information\n",
            "# ----------------------------------------------------------\n",
            "Solution: \n",
            "- number of solutions: 0\n",
            "  number of solutions displayed: 0\n"
          ]
        }
      ]
    },
    {
      "cell_type": "markdown",
      "metadata": {
        "id": "zPozph3lmaBc",
        "pycharm": {}
      },
      "source": [
        "## Solution"
      ]
    },
    {
      "cell_type": "code",
      "metadata": {
        "colab": {
          "base_uri": "https://localhost:8080/"
        },
        "id": "c9oQxQsxmaBe",
        "pycharm": {},
        "outputId": "8101e937-40b8-4af3-a7fc-52f4e59dda85"
      },
      "source": [
        "for c in CUS:\n",
        "    for s in SRC:\n",
        "        print(c, s, model.x[c,s]())"
      ],
      "execution_count": 40,
      "outputs": [
        {
          "output_type": "stream",
          "name": "stdout",
          "text": [
            "Lon Arn 0.0\n",
            "Lon Gou 125.0\n",
            "Ber Arn 175.0\n",
            "Ber Gou 0.0\n",
            "Maa Arn 225.0\n",
            "Maa Gou 0.0\n",
            "Ams Arn 0.0\n",
            "Ams Gou 250.0\n",
            "Utr Arn 200.0\n",
            "Utr Gou 25.0\n",
            "Hag Arn 0.0\n",
            "Hag Gou 200.0\n"
          ]
        }
      ]
    },
    {
      "cell_type": "code",
      "metadata": {
        "colab": {
          "base_uri": "https://localhost:8080/"
        },
        "id": "dfLXRj7umaBz",
        "pycharm": {},
        "outputId": "495ebd1c-e356-4ff5-de56-b65ccabdda1f"
      },
      "source": [
        "if 'ok' == str(results.Solver.status):\n",
        "    print(\"Total Shipping Costs = \",model.Cost())\n",
        "    print(\"\\nShipping Table:\")\n",
        "    for s in SRC:\n",
        "        for c in CUS:\n",
        "            if model.x[c,s]() > 0:\n",
        "                print(\"Ship from \", s,\" to \", c, \":\", model.x[c,s]())\n",
        "else:\n",
        "    print(\"No Valid Solution Found\")"
      ],
      "execution_count": 41,
      "outputs": [
        {
          "output_type": "stream",
          "name": "stdout",
          "text": [
            "Total Shipping Costs =  1705.0\n",
            "\n",
            "Shipping Table:\n",
            "Ship from  Arn  to  Ber : 175.0\n",
            "Ship from  Arn  to  Maa : 225.0\n",
            "Ship from  Arn  to  Utr : 200.0\n",
            "Ship from  Gou  to  Lon : 125.0\n",
            "Ship from  Gou  to  Ams : 250.0\n",
            "Ship from  Gou  to  Utr : 25.0\n",
            "Ship from  Gou  to  Hag : 200.0\n"
          ]
        }
      ]
    },
    {
      "cell_type": "markdown",
      "metadata": {
        "id": "nkc1GK46maB3",
        "pycharm": {}
      },
      "source": [
        "The solution has the interesting property that, with the exception of Utrecht, customers are served by just one source.\n",
        "\n",
        "![TransportNet_soln.png](https://github.com/jckantor/ND-Pyomo-Cookbook/blob/master/notebooks/figures/TransportNet_soln.png?raw=1)\n"
      ]
    },
    {
      "cell_type": "markdown",
      "metadata": {
        "id": "wCmJ6UACmaB4",
        "pycharm": {}
      },
      "source": [
        "## Sensitivity analysis"
      ]
    },
    {
      "cell_type": "markdown",
      "metadata": {
        "pycharm": {
          "metadata": false,
          "name": "#%% md\n"
        },
        "id": "G4dAE7Sqjz49"
      },
      "source": [
        "### Analysis by source"
      ]
    },
    {
      "cell_type": "code",
      "metadata": {
        "colab": {
          "base_uri": "https://localhost:8080/"
        },
        "id": "eq7tLE9FmaB6",
        "pycharm": {},
        "outputId": "b5e67e22-7215-4263-fad9-01bd6b69302e"
      },
      "source": [
        "if 'ok' == str(results.Solver.status):\n",
        "    print(\"\\nSources:\")\n",
        "    print(\"Source      Capacity   Shipped    Margin\")\n",
        "    for m in model.src.keys():\n",
        "        s = SRC[m-1]\n",
        "        print(\"{0:10s}{1:10.1f}{2:10.1f}{3:10.4f}\".format(s,Supply[s],model.src[m](),model.dual[model.src[m]]))\n",
        "else:\n",
        "    print(\"No Valid Solution Found\")"
      ],
      "execution_count": 42,
      "outputs": [
        {
          "output_type": "stream",
          "name": "stdout",
          "text": [
            "\n",
            "Sources:\n",
            "Source      Capacity   Shipped    Margin\n",
            "Arn            600.0     600.0   -0.2000\n",
            "Gou            650.0     600.0    0.0000\n"
          ]
        }
      ]
    },
    {
      "cell_type": "markdown",
      "metadata": {
        "id": "ZIlMOpDLmaB9",
        "pycharm": {}
      },
      "source": [
        "The 'marginal' values are telling us how much the total costs will be increased for each one ton increase in the available supply from each source. The optimization calculation says that only 650 tons of the 700 available from Gouda should used for a minimum cost solution, which rules out any further cost reductions by increasing the available supply. In fact, we could decrease the supply Gouda without any harm. The marginal value of Gouda is 0.\n",
        "\n",
        "The source at Arnhem is a different matter. First, all 550 available tons are being used. Second, from the marginal value we see that the total transportations costs would be reduced by 0.2 Euros for each additional ton of supply.  \n",
        "\n",
        "The management conclusion we can draw is that there is excess supply available at Gouda which should, if feasible, me moved to Arnhem.\n",
        "\n",
        "Now that's a valuable piece of information!"
      ]
    },
    {
      "cell_type": "markdown",
      "metadata": {
        "id": "e9EJqVwSmaB-",
        "pycharm": {}
      },
      "source": [
        "### Analysis by customer"
      ]
    },
    {
      "cell_type": "code",
      "metadata": {
        "colab": {
          "base_uri": "https://localhost:8080/"
        },
        "id": "EQLauqn0maB_",
        "pycharm": {},
        "outputId": "534d6bdb-a59c-457d-dfe2-61d427ea94cd"
      },
      "source": [
        "if 'ok' == str(results.Solver.status):    \n",
        "    print(\"\\nCustomers:\")\n",
        "    print(\"Customer      Demand   Shipped    Margin\")\n",
        "    for n in model.dmd.keys():\n",
        "        c = CUS[n-1]\n",
        "        print(\"{0:10s}{1:10.1f}{2:10.1f}{3:10.4f}\".format(c,Demand[c],model.dmd[n](),model.dual[model.dmd[n]]))\n",
        "else:\n",
        "    print(\"No Valid Solution Found\")"
      ],
      "execution_count": 43,
      "outputs": [
        {
          "output_type": "stream",
          "name": "stdout",
          "text": [
            "\n",
            "Customers:\n",
            "Customer      Demand   Shipped    Margin\n",
            "Lon            125.0     125.0    2.5000\n",
            "Ber            175.0     175.0    2.7000\n",
            "Maa            225.0     225.0    1.8000\n",
            "Ams            250.0     250.0    1.0000\n",
            "Utr            225.0     225.0    1.0000\n",
            "Hag            200.0     200.0    0.8000\n"
          ]
        }
      ]
    },
    {
      "cell_type": "markdown",
      "metadata": {
        "id": "kK5peVBmmaCC",
        "pycharm": {}
      },
      "source": [
        "Looking at the demand constraints, we see that all of the required demands have been met by the optimal solution.\n",
        "\n",
        "The marginal values of these constraints indicate how much the total transportation costs will increase if there is an additional ton of demand at any of the locations. In particular, note that increasing the demand at Berlin will increase costs by 2.7 Euros per ton. This is actually **greater** than the list price for shipping to Berlin which is 2.5 Euros per ton.  Why is this?\n",
        "\n",
        "To see what's going on, let's resolve the problem with a one ton increase in the demand at Berlin.\n",
        "\n",
        "We see the total cost has increased from 1715.0 to 1717.7 Euros, an increase of 2.7 Euros just as predicted by the marginal value assocated with the demand constraint for Berlin.\n",
        "\n",
        "Now let's look at the solution.\n",
        "\n",
        "Here we see that increasing the demand in Berlin resulted in a number of other changes. This figure shows the changes shipments.\n",
        "\n",
        "![TransportNet_sens.png](https://github.com/jckantor/ND-Pyomo-Cookbook/blob/master/notebooks/figures/TransportNet_sens.png?raw=1)\n",
        "\n",
        "* Shipments to Berlin increased from 175 to 176 tons, increasing costs for that link from 437.5 to 440.0, or a net increase of 2.5 Euros.\n",
        "* Since Arnhem is operating at full capacity, increasing the shipments from Arnhem to Berlin resulted in decreasing the shipments from Arhhem to Utrecht from 150 to 149 reducing those shipping costs from 120.0 to 119.2, a net decrease of 0.8 Euros.\n",
        "* To meet demand at Utrecht, shipments from Gouda to Utrecht had to increase from 75 to 76, increasing shipping costs by a net amount of 1.0 Euros.\n",
        "* The net effect on shipping costs is 2.5 - 0.8 + 1.0 = 2.7 Euros.\n",
        "\n",
        "The important conclusion to draw is that when operating under optimal conditions, a change in demand or supply can have a ripple effect on the optimal solution that can only be measured through a proper sensitivity analysis."
      ]
    },
    {
      "cell_type": "markdown",
      "metadata": {
        "id": "Y1uwO5damaCD",
        "pycharm": {}
      },
      "source": [
        "## EXTRA: Exercises\n",
        "\n",
        "1. Move 50 tons of supply capacity from Gouda to Arnhem, and repeat the sensitivity analysis. How has the situation improved?  In practice, would you recommend this change, or would you propose something different?\n",
        "2. What other business improvements would you recommend?"
      ]
    },
    {
      "cell_type": "code",
      "metadata": {
        "id": "Ku2mzo0CmaCD",
        "pycharm": {}
      },
      "source": [
        ""
      ],
      "execution_count": null,
      "outputs": []
    },
    {
      "cell_type": "markdown",
      "metadata": {
        "id": "_KIxYMgTQ0kH"
      },
      "source": [
        "# MIP: 🎒 Knapsack"
      ]
    },
    {
      "cell_type": "code",
      "metadata": {
        "colab": {
          "base_uri": "https://localhost:8080/"
        },
        "id": "mLgeztO4RNEk",
        "outputId": "8aafbbc1-85f0-4a34-aece-ff879ff3ba08"
      },
      "source": [
        "!pip install mip --quiet"
      ],
      "execution_count": null,
      "outputs": [
        {
          "output_type": "stream",
          "text": [
            "\u001b[K     |████████████████████████████████| 48.0MB 95kB/s \n",
            "\u001b[?25h"
          ],
          "name": "stdout"
        }
      ]
    },
    {
      "cell_type": "markdown",
      "metadata": {
        "id": "XMDqEFyJRXZk"
      },
      "source": [
        "![wikipedia](https://upload.wikimedia.org/wikipedia/commons/f/fd/Knapsack.svg)\n",
        "\n",
        "As a first example, consider the solution of the 0/1 knapsack problem: given a set $I$ of items, each one with a weight $w_i$ and estimated profit $p_i$, one wants to select a subset with maximum profit such that the summation of the weights of the selected items is less or equal to the knapsack capacity $c$. Considering a set of decision binary variables $x_i$ that receive value $1$ if the $i$-th item is selected, or $0$ if not, the resulting mathematical programming formulation is:\n",
        "\n",
        "\\begin{split}\n",
        "\\textrm{Maximize: }   &  \\\\\n",
        "                               &  \\sum_{i \\in I} p_i \\cdot x_i  \\\\\n",
        "\\textrm{Subject to: } & \\\\\n",
        "                               &  \\sum_{i \\in I} w_i \\cdot x_i \\leq c  \\\\\n",
        "                               &  x_i \\in \\{0,1\\} \\,\\,\\, \\forall i \\in I\n",
        "\\end{split}\n",
        "\n"
      ]
    },
    {
      "cell_type": "code",
      "metadata": {
        "colab": {
          "base_uri": "https://localhost:8080/"
        },
        "id": "KJOyEyXARP5v",
        "outputId": "af885768-c27f-48a4-fd60-46d7ce72f676"
      },
      "source": [
        "from mip import Model, xsum, maximize, BINARY\n",
        "\n",
        "p = [10, 13, 18, 31, 7, 15]\n",
        "w = [11, 15, 20, 35, 10, 33]\n",
        "c, I = 47, range(len(w))\n",
        "\n",
        "m = Model(\"knapsack\")\n",
        "\n",
        "x = [m.add_var(var_type=BINARY) for i in I]\n",
        "\n",
        "m.objective = maximize(xsum(p[i] * x[i] for i in I))\n",
        "\n",
        "m += xsum(w[i] * x[i] for i in I) <= c\n",
        "\n",
        "m.optimize()\n",
        "\n",
        "selected = [i for i in I if x[i].x >= 0.99]\n",
        "print(\"selected items: {}\".format(selected))"
      ],
      "execution_count": null,
      "outputs": [
        {
          "output_type": "stream",
          "text": [
            "selected items: [0, 3]\n"
          ],
          "name": "stdout"
        }
      ]
    }
  ]
}