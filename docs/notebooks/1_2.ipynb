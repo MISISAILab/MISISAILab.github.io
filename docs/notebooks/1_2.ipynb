{
  "nbformat": 4,
  "nbformat_minor": 0,
  "metadata": {
    "colab": {
      "name": "1_2_CVXPY_exercises.ipynb",
      "provenance": []
    },
    "kernelspec": {
      "name": "python3",
      "display_name": "Python 3"
    },
    "language_info": {
      "name": "python"
    }
  },
  "cells": [
    {
      "cell_type": "markdown",
      "metadata": {
        "id": "FLyWB9Hn3Ztg"
      },
      "source": [
        "# CVXPY exercises\n",
        "## Simple cvxpy exercise\n",
        "\n",
        "Solve the following optimization problem using CVXPY:\n",
        "\n",
        "$$\n",
        "\\begin{array}{ll} \n",
        "\\mbox{minimize} & |x| - 2\\sqrt{y}\\\\\n",
        "\\mbox{subject to} & 2 \\geq e^x \\\\\n",
        "& x + y = 5,\n",
        "\\end{array}\n",
        "$$\n",
        "\n",
        "where $x,y \\in \\mathbb{R}$ are variables. Find the optimal values of $x$ and $y$.\n",
        "\n",
        "[LINK](https://www.cvxpy.org/index.html) to the documentation."
      ]
    },
    {
      "cell_type": "code",
      "metadata": {
        "id": "-tBMD5fH3Nqh"
      },
      "source": [
        "# Your code here"
      ],
      "execution_count": null,
      "outputs": []
    },
    {
      "cell_type": "markdown",
      "metadata": {
        "id": "yV86vSCC6rHH"
      },
      "source": [
        "## EXTRA: [Risk budget allocation](https://web.stanford.edu/~boyd/cvxbook/bv_cvxbook_extra_exercises.pdf).\n",
        "\n",
        "Suppose an amount $x_i>0$ is invested in $n$ assets, labeled $i=1,..., n$,\n",
        "with asset return covariance matrix $\\Sigma \\in \\mathcal{S}_{++}^n$.\n",
        "We define the *risk* of the investments as the standard deviation\n",
        "of the total return, $R(x) = (x^T\\Sigma x)^{1/2}$.\n",
        "\n",
        "We define the (relative) *risk contribution* of asset $i$\n",
        "(in the portfolio $x$) as\n",
        "$$\n",
        "\\rho_i = \\frac{\\partial \\log R(x)}{\\partial \\log x_i} =\n",
        "\\frac{\\partial R(x)}{R(x)} \\frac{x_i}{\\partial x_i}, \\quad i=1, \\ldots, n.\n",
        "$$\n",
        "Why is the logarithm here?! Because it reflects fraction of relative changex (say, per 1%). Take a look at [easticity definition at wiki](https://en.wikipedia.org/wiki/Elasticity_(economics)).\n",
        "Thus $\\rho_i$ gives the fractional increase in risk per fractional increase\n",
        "in investment $i$.\n",
        "We can express the risk contributions as\n",
        "$$\n",
        "\\rho_i = \\frac{x_i (\\Sigma x)_i} {x^T\\Sigma x}, \\quad i=1, \\ldots, n,\n",
        "$$\n",
        "from which we see that $\\sum_{i=1}^n \\rho_i = 1$.\n",
        "For general $x$, we can have $\\rho_i <0$, which means that a small increase\n",
        "in investment $i$ decreases the risk.\n",
        "Desirable investment choices have $\\rho_i>0$, in which case we can\n",
        "interpret $\\rho_i$ as the fraction of the total risk contributed by\n",
        "the investment in asset $i$.\n",
        "Note that the risk contributions are homogeneous, i.e.,\n",
        "scaling $x$ by a positive constant does not affect $\\rho_i$.\n",
        "\n",
        "**Problem statement**\n",
        "\n",
        "In the *risk budget allocation problem*, we are given $\\Sigma$ and a\n",
        "set of desired risk contributions $\\rho_i^\\mathrm{des}>0$ with\n",
        "$\\bf{1}^T \\rho^\\mathrm{des}=1$; the goal is to find an investment mix\n",
        "$x\\succ 0$, $\\bf{1}^Tx =1$, with these risk contributions.\n",
        "When $\\rho^\\mathrm{des} = (1/n)\\bf{1}$, the problem is to find an\n",
        "investment mix that achieves so-called *risk parity*."
      ]
    },
    {
      "cell_type": "markdown",
      "metadata": {
        "id": "fMnmHY5k7LYa"
      },
      "source": [
        "### (a)\n",
        "\n",
        "Explain how to solve the risk budget allocation problem using convex\n",
        "optimization.\n",
        "\n",
        "*Hint.*\n",
        "Minimize $(1/2)x^T\\Sigma x - \\sum_{i=1}^n \\rho_i^\\mathrm{des} \\log x_i$."
      ]
    },
    {
      "cell_type": "markdown",
      "metadata": {
        "id": "Hj90pb6e7CZD"
      },
      "source": [
        ""
      ]
    },
    {
      "cell_type": "markdown",
      "metadata": {
        "id": "az-E2A5dmu7L"
      },
      "source": [
        "### (b)\n",
        "\n",
        "Find the investment mix that achieves risk parity for the\n",
        "return covariance matrix $\\Sigma$ below."
      ]
    },
    {
      "cell_type": "code",
      "metadata": {
        "id": "-9IFa0kamvOq"
      },
      "source": [
        "import numpy as np\n",
        "import cvxpy as cp\n",
        "Sigma = np.array(np.matrix(\"\"\"6.1  2.9  -0.8  0.1;\n",
        "                     2.9  4.3  -0.3  0.9;\n",
        "                    -0.8 -0.3   1.2 -0.7;\n",
        "                     0.1  0.9  -0.7  2.3\"\"\"))\n",
        "rho = np.ones(4)/4"
      ],
      "execution_count": null,
      "outputs": []
    },
    {
      "cell_type": "code",
      "metadata": {
        "id": "yhKIwzGJm7KG"
      },
      "source": [
        "### YOUR CODE"
      ],
      "execution_count": null,
      "outputs": []
    },
    {
      "cell_type": "code",
      "metadata": {
        "id": "i-dcDAtS5WqE"
      },
      "source": [
        ""
      ],
      "execution_count": null,
      "outputs": []
    }
  ]
}