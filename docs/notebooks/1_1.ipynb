{
  "nbformat": 4,
  "nbformat_minor": 0,
  "metadata": {
    "colab": {
      "name": "1_1 - LLS.ipynb",
      "provenance": []
    },
    "kernelspec": {
      "name": "python3",
      "display_name": "Python 3"
    },
    "language_info": {
      "name": "python"
    }
  },
  "cells": [
    {
      "cell_type": "markdown",
      "metadata": {
        "id": "wyp17ZFOQD_1"
      },
      "source": [
        "# Linear Least Squares"
      ]
    },
    {
      "cell_type": "markdown",
      "metadata": {
        "id": "cLu9fVqSQQsn"
      },
      "source": [
        "## Simplest case\n"
      ]
    },
    {
      "cell_type": "markdown",
      "metadata": {
        "id": "AW3aqMbkll52"
      },
      "source": [
        "We will consider simple real example of linear regression on World Bank data."
      ]
    },
    {
      "cell_type": "code",
      "metadata": {
        "colab": {
          "base_uri": "https://localhost:8080/",
          "height": 204
        },
        "id": "UgLCVY82P87N",
        "outputId": "b2ba2eab-0ade-409a-96ec-ee448f2fcac3"
      },
      "source": [
        "# World bank data https://data.worldbank.org/\n",
        "import pandas as pd\n",
        "import numpy as np\n",
        "from matplotlib import pyplot as plt\n",
        "\n",
        "dataset = pd.read_csv('https://raw.githubusercontent.com/MerkulovDaniil/sber21_fmin/sources/data/world_bank_data.csv')\n",
        "dataset.head()"
      ],
      "execution_count": null,
      "outputs": [
        {
          "output_type": "execute_result",
          "data": {
            "text/html": [
              "<div>\n",
              "<style scoped>\n",
              "    .dataframe tbody tr th:only-of-type {\n",
              "        vertical-align: middle;\n",
              "    }\n",
              "\n",
              "    .dataframe tbody tr th {\n",
              "        vertical-align: top;\n",
              "    }\n",
              "\n",
              "    .dataframe thead th {\n",
              "        text-align: right;\n",
              "    }\n",
              "</style>\n",
              "<table border=\"1\" class=\"dataframe\">\n",
              "  <thead>\n",
              "    <tr style=\"text-align: right;\">\n",
              "      <th></th>\n",
              "      <th>Country</th>\n",
              "      <th>Code</th>\n",
              "      <th>Year</th>\n",
              "      <th>gdpPerCap</th>\n",
              "      <th>literacy</th>\n",
              "      <th>popDensity</th>\n",
              "      <th>under_slum</th>\n",
              "      <th>below_poverty</th>\n",
              "      <th>Import</th>\n",
              "      <th>Export</th>\n",
              "      <th>Corruption</th>\n",
              "      <th>GovEff</th>\n",
              "      <th>PolSta</th>\n",
              "      <th>adult_mortality</th>\n",
              "      <th>Male</th>\n",
              "      <th>Female</th>\n",
              "    </tr>\n",
              "  </thead>\n",
              "  <tbody>\n",
              "    <tr>\n",
              "      <th>0</th>\n",
              "      <td>Afghanistan</td>\n",
              "      <td>AFG</td>\n",
              "      <td>1960</td>\n",
              "      <td>59.773194</td>\n",
              "      <td>NaN</td>\n",
              "      <td>NaN</td>\n",
              "      <td>NaN</td>\n",
              "      <td>NaN</td>\n",
              "      <td>NaN</td>\n",
              "      <td>NaN</td>\n",
              "      <td>NaN</td>\n",
              "      <td>NaN</td>\n",
              "      <td>NaN</td>\n",
              "      <td>NaN</td>\n",
              "      <td>NaN</td>\n",
              "      <td>NaN</td>\n",
              "    </tr>\n",
              "    <tr>\n",
              "      <th>1</th>\n",
              "      <td>Australia</td>\n",
              "      <td>AUS</td>\n",
              "      <td>1960</td>\n",
              "      <td>1807.785710</td>\n",
              "      <td>NaN</td>\n",
              "      <td>NaN</td>\n",
              "      <td>NaN</td>\n",
              "      <td>NaN</td>\n",
              "      <td>NaN</td>\n",
              "      <td>NaN</td>\n",
              "      <td>NaN</td>\n",
              "      <td>NaN</td>\n",
              "      <td>NaN</td>\n",
              "      <td>NaN</td>\n",
              "      <td>NaN</td>\n",
              "      <td>NaN</td>\n",
              "    </tr>\n",
              "    <tr>\n",
              "      <th>2</th>\n",
              "      <td>Austria</td>\n",
              "      <td>AUT</td>\n",
              "      <td>1960</td>\n",
              "      <td>935.460427</td>\n",
              "      <td>NaN</td>\n",
              "      <td>NaN</td>\n",
              "      <td>NaN</td>\n",
              "      <td>NaN</td>\n",
              "      <td>NaN</td>\n",
              "      <td>NaN</td>\n",
              "      <td>NaN</td>\n",
              "      <td>NaN</td>\n",
              "      <td>NaN</td>\n",
              "      <td>NaN</td>\n",
              "      <td>NaN</td>\n",
              "      <td>NaN</td>\n",
              "    </tr>\n",
              "    <tr>\n",
              "      <th>3</th>\n",
              "      <td>Burundi</td>\n",
              "      <td>BDI</td>\n",
              "      <td>1960</td>\n",
              "      <td>70.051735</td>\n",
              "      <td>NaN</td>\n",
              "      <td>NaN</td>\n",
              "      <td>NaN</td>\n",
              "      <td>NaN</td>\n",
              "      <td>NaN</td>\n",
              "      <td>NaN</td>\n",
              "      <td>NaN</td>\n",
              "      <td>NaN</td>\n",
              "      <td>NaN</td>\n",
              "      <td>NaN</td>\n",
              "      <td>NaN</td>\n",
              "      <td>NaN</td>\n",
              "    </tr>\n",
              "    <tr>\n",
              "      <th>4</th>\n",
              "      <td>Belgium</td>\n",
              "      <td>BEL</td>\n",
              "      <td>1960</td>\n",
              "      <td>1273.691659</td>\n",
              "      <td>NaN</td>\n",
              "      <td>NaN</td>\n",
              "      <td>NaN</td>\n",
              "      <td>NaN</td>\n",
              "      <td>NaN</td>\n",
              "      <td>NaN</td>\n",
              "      <td>NaN</td>\n",
              "      <td>NaN</td>\n",
              "      <td>NaN</td>\n",
              "      <td>NaN</td>\n",
              "      <td>NaN</td>\n",
              "      <td>NaN</td>\n",
              "    </tr>\n",
              "  </tbody>\n",
              "</table>\n",
              "</div>"
            ],
            "text/plain": [
              "       Country Code  Year    gdpPerCap  ...  PolSta  adult_mortality  Male  Female\n",
              "0  Afghanistan  AFG  1960    59.773194  ...     NaN              NaN   NaN     NaN\n",
              "1    Australia  AUS  1960  1807.785710  ...     NaN              NaN   NaN     NaN\n",
              "2      Austria  AUT  1960   935.460427  ...     NaN              NaN   NaN     NaN\n",
              "3      Burundi  BDI  1960    70.051735  ...     NaN              NaN   NaN     NaN\n",
              "4      Belgium  BEL  1960  1273.691659  ...     NaN              NaN   NaN     NaN\n",
              "\n",
              "[5 rows x 16 columns]"
            ]
          },
          "metadata": {
            "tags": []
          },
          "execution_count": 47
        }
      ]
    },
    {
      "cell_type": "markdown",
      "metadata": {
        "id": "jiB4h7rzn9W8"
      },
      "source": [
        "Suppose, we are given the set of $m$ pairs $(x_i, y_i)_{i=1}^m$. We are to construct linear predictions of the following form:\n",
        "\n",
        "$$\n",
        "y_i^{pred} = k x_i\n",
        "$$\n",
        "\n",
        "We will start with the simple example of Import/Export prediction:"
      ]
    },
    {
      "cell_type": "code",
      "metadata": {
        "colab": {
          "base_uri": "https://localhost:8080/",
          "height": 295
        },
        "id": "-4YseAomfiaI",
        "outputId": "a20b8a40-c64f-4539-fcb6-0a35968f1970"
      },
      "source": [
        "y_variable = 'Import'\n",
        "x_variable = 'Export'\n",
        "clean_data = dataset[[x_variable, y_variable]].dropna()\n",
        "plt.scatter(clean_data[x_variable], clean_data[y_variable])\n",
        "plt.xlabel(x_variable)\n",
        "plt.ylabel(y_variable)\n",
        "plt.title('World bank data')\n",
        "plt.show()"
      ],
      "execution_count": null,
      "outputs": [
        {
          "output_type": "display_data",
          "data": {
            "image/png": "[encoded data removed]",
            "text/plain": [
              "<Figure size 432x288 with 1 Axes>"
            ]
          },
          "metadata": {
            "tags": [],
            "needs_background": "light"
          }
        }
      ]
    },
    {
      "cell_type": "markdown",
      "metadata": {
        "id": "KZRfuJ3Foin6"
      },
      "source": [
        "We need to select hyperparameters $k$, that minimize sum of squared errors:\n",
        "\n",
        "$$ \\tag{Loss}\n",
        "L(k) = \\sum\\limits_{i=1}^m (y_i^{pred} - y_i)^2 = \\sum\\limits_{i=1}^m (kx_i - y_i)^2 \\to \\min_{k \\in \\mathbb{R}}\n",
        "$$\n",
        "\n",
        "Write down the following derivative of the loss function:\n",
        "* $\\frac{\\partial L}{\\partial k} = $\n",
        "\n",
        "Find the optimal value of $k$ from setting the corresponding derivative to zero:\n",
        "* $\\frac{\\partial L}{\\partial k} = 0 \\rightarrow k = \\ldots$"
      ]
    },
    {
      "cell_type": "code",
      "metadata": {
        "colab": {
          "base_uri": "https://localhost:8080/",
          "height": 295
        },
        "id": "HjzviKsTsgoQ",
        "outputId": "12038ab4-a76a-4142-9dc3-c74cfa6039ce"
      },
      "source": [
        "y_variable = 'Import'\n",
        "x_variable = 'Export'\n",
        "\n",
        "clean_data = dataset[[x_variable, y_variable]].dropna()\n",
        "\n",
        "x_data = clean_data[x_variable]\n",
        "y_data = clean_data[y_variable]\n",
        "\n",
        "#=== Write down optimal k here ===\n",
        "k = 0\n",
        "#=================================\n",
        "y_pred = k*x_data\n",
        "\n",
        "plt.scatter(x_data, y_data, label = 'True')\n",
        "plt.plot(x_data, y_pred, 'r-', label = 'Linear approximation')\n",
        "\n",
        "plt.xlabel(x_variable)\n",
        "plt.ylabel(y_variable)\n",
        "plt.title('World bank data')\n",
        "plt.legend()\n",
        "plt.show()"
      ],
      "execution_count": null,
      "outputs": [
        {
          "output_type": "display_data",
          "data": {
            "image/png": "[encoded data removed]",
            "text/plain": [
              "<Figure size 432x288 with 1 Axes>"
            ]
          },
          "metadata": {
            "tags": [],
            "needs_background": "light"
          }
        }
      ]
    },
    {
      "cell_type": "markdown",
      "metadata": {
        "id": "8z_UKf1GuEnz"
      },
      "source": [
        "Let's compare with the built-in implementation:"
      ]
    },
    {
      "cell_type": "code",
      "metadata": {
        "colab": {
          "base_uri": "https://localhost:8080/"
        },
        "id": "vwQDyNtiuDtf",
        "outputId": "affeccfb-5c0a-4350-e87c-de1e7f5b5068"
      },
      "source": [
        "A = np.vstack([x_data, np.ones(len(x_data))]).T\n",
        "k, b = np.linalg.lstsq(A, y_data, rcond=None)[0]\n",
        "print(f'k = {k}, b = {b}')"
      ],
      "execution_count": null,
      "outputs": [
        {
          "output_type": "stream",
          "text": [
            "k = 1.0312958739168514, b = -923609.0654769217\n"
          ],
          "name": "stdout"
        }
      ]
    },
    {
      "cell_type": "code",
      "metadata": {
        "colab": {
          "base_uri": "https://localhost:8080/",
          "height": 329
        },
        "id": "G20OBd1dvPSq",
        "outputId": "88d84740-ca4f-4cff-d14a-aa7e33bbef71"
      },
      "source": [
        "y_variable = 'Import'\n",
        "x_variable = 'Export'\n",
        "\n",
        "clean_data = dataset[[x_variable, y_variable]].dropna()\n",
        "\n",
        "x_data = clean_data[x_variable]\n",
        "y_data = clean_data[y_variable]\n",
        "\n",
        "#=== Write down optimal k here ===\n",
        "k = 0\n",
        "print(f'Analytic results: k = {k}')\n",
        "#=================================\n",
        "y_pred = k*x_data\n",
        "\n",
        "A = np.vstack([x_data, np.ones(len(x_data))]).T\n",
        "k_np, b_np = np.linalg.lstsq(A, y_data, rcond=None)[0]\n",
        "print(f'Numpy results: k = {k_np}, b = {b_np}')\n",
        "\n",
        "plt.scatter(x_data, y_data, label = 'True')\n",
        "plt.plot(x_data, y_pred, 'r-', label = 'Analytic')\n",
        "plt.plot(x_data, k_np*x_data + b_np, 'g--', label = 'Numpy')\n",
        "\n",
        "plt.xlabel(x_variable)\n",
        "plt.ylabel(y_variable)\n",
        "plt.title('World bank data')\n",
        "plt.legend()\n",
        "plt.show()"
      ],
      "execution_count": null,
      "outputs": [
        {
          "output_type": "stream",
          "text": [
            "Analytic results: k = 0\n",
            "Numpy results: k = 1.0312958739168514, b = -923609.0654769217\n"
          ],
          "name": "stdout"
        },
        {
          "output_type": "display_data",
          "data": {
            "image/png": "[encoded data removed]",
            "text/plain": [
              "<Figure size 432x288 with 1 Axes>"
            ]
          },
          "metadata": {
            "tags": [],
            "needs_background": "light"
          }
        }
      ]
    },
    {
      "cell_type": "markdown",
      "metadata": {
        "id": "Se-lM0mjxDsk"
      },
      "source": [
        "What is the biggest difference between two approaches above?"
      ]
    },
    {
      "cell_type": "markdown",
      "metadata": {
        "id": "GFIH5v5yxQjX"
      },
      "source": [
        ""
      ]
    },
    {
      "cell_type": "markdown",
      "metadata": {
        "id": "d93Q7vuswQnX"
      },
      "source": [
        "## \"Nonlinear\" linear least squares"
      ]
    },
    {
      "cell_type": "markdown",
      "metadata": {
        "id": "_3EpuaRSxgKI"
      },
      "source": [
        "Let's take a look at the following graph:"
      ]
    },
    {
      "cell_type": "code",
      "metadata": {
        "colab": {
          "base_uri": "https://localhost:8080/",
          "height": 295
        },
        "id": "hOFVfK47wVQE",
        "outputId": "3c7d5df8-8cfa-49c7-bd20-d855ec69fb1b"
      },
      "source": [
        "y_variable = 'gdpPerCap'\n",
        "x_variable = 'literacy'\n",
        "\n",
        "clean_data = dataset[[x_variable, y_variable]].dropna()\n",
        "\n",
        "x_data = clean_data[x_variable]\n",
        "y_data = clean_data[y_variable]\n",
        "\n",
        "plt.scatter(x_data, y_data)\n",
        "plt.xlabel(x_variable)\n",
        "plt.ylabel(y_variable)\n",
        "plt.title('World bank data')\n",
        "plt.show()"
      ],
      "execution_count": null,
      "outputs": [
        {
          "output_type": "display_data",
          "data": {
            "image/png": "[encoded data removed]",
            "text/plain": [
              "<Figure size 432x288 with 1 Axes>"
            ]
          },
          "metadata": {
            "tags": [],
            "needs_background": "light"
          }
        }
      ]
    },
    {
      "cell_type": "markdown",
      "metadata": {
        "id": "-4l7lcGixlCn"
      },
      "source": [
        "Explain how one can use linear regression to solve this problem? Note, that direct using of code above is not acceptable, because the data on the graph are not linearly dependent."
      ]
    },
    {
      "cell_type": "markdown",
      "metadata": {
        "id": "fbvbbGfwyTkT"
      },
      "source": [
        ""
      ]
    },
    {
      "cell_type": "code",
      "metadata": {
        "id": "tRU65LTPyTTb"
      },
      "source": [
        "# Your code here"
      ],
      "execution_count": null,
      "outputs": []
    },
    {
      "cell_type": "markdown",
      "metadata": {
        "id": "dtoQv69Dyncx"
      },
      "source": [
        "## Extra: time comparison of linear least squares using different approaches."
      ]
    },
    {
      "cell_type": "markdown",
      "metadata": {
        "id": "KwhL7fOp2Opo"
      },
      "source": [
        "Please, compare different approaches of solving random linear systems in terms of time."
      ]
    },
    {
      "cell_type": "code",
      "metadata": {
        "id": "FVRo9xPKy1V1"
      },
      "source": [
        "# Imports and definitions.\n",
        "import cvxpy as cp\n",
        "import numpy as np\n",
        "import time\n",
        "import scipy\n",
        "from matplotlib import pyplot as plt\n",
        "import seaborn as sns\n",
        "sns.set()\n",
        "\n",
        "def solve_lls_cvxpy(X, y):\n",
        "  m,n = X.shape\n",
        "  theta = cp.Variable(n)\n",
        "  cost = cp.sum_squares(X*theta - y)\n",
        "  prob = cp.Problem(cp.Minimize(cost))\n",
        "  prob.solve()\n",
        "  return theta.value\n",
        "\n",
        "def solve_lls_exact(X, y):\n",
        "  return np.linalg.pinv(X) @ y\n",
        "\n",
        "def solve_lls_exact_man(X, y):\n",
        "  return np.linalg.inv(X.T @ X) @ X.T @ y\n",
        "\n",
        "def solve_lls_chol(X, y):\n",
        "    res = scipy.linalg.cho_factor(X.T @ X, lower=True)\n",
        "    return scipy.linalg.cho_solve(res, X.T @ y)\n",
        "\n",
        "def solve_lls_qr(X, y):\n",
        "    Q, R = scipy.linalg.qr(X)\n",
        "    return scipy.linalg.solve_triangular(R, Q.T @ y)\n",
        "\n",
        "def solve_lls_np_lstsq(X, y):\n",
        "    return np.linalg.lstsq(X, y, rcond=None)\n",
        "\n",
        "def plot_timing(ns, time_arrays, labels):\n",
        "  for time_array, label in zip(time_arrays, labels):\n",
        "    plt.semilogy(ns, time_array, label=label)\n",
        "\n",
        "  plt.title('Random square linear system')\n",
        "  plt.ylabel('Time, s')\n",
        "  plt.xlabel(r'$n$, dimension of the problem')    \n",
        "  plt.legend()\n",
        "  plt.plot()\n",
        "\n",
        "  return None"
      ],
      "execution_count": null,
      "outputs": []
    },
    {
      "cell_type": "code",
      "metadata": {
        "colab": {
          "base_uri": "https://localhost:8080/"
        },
        "id": "rGRyktpE1nVg",
        "outputId": "60dd6eeb-fc2b-455f-b0f9-c4cc71d6b43e"
      },
      "source": [
        "n = 100\n",
        "print(f'Solving for n = {n}')\n",
        "X = np.random.randn(n, n)\n",
        "y = np.random.randn(n)\n",
        "\n",
        "start_time = time.time()\n",
        "solve_lls_np_lstsq(X, y)\n",
        "end_time = time.time()\n",
        "print(f'Numpy lstsq time {end_time - start_time}')"
      ],
      "execution_count": null,
      "outputs": [
        {
          "output_type": "stream",
          "text": [
            "Solving for n = 100\n",
            "Numpy lstsq time 0.00681304931640625\n"
          ],
          "name": "stdout"
        }
      ]
    },
    {
      "cell_type": "code",
      "metadata": {
        "id": "XTvaveB2y4Yx"
      },
      "source": [
        "np.random.seed(1)\n",
        "times_cvxpy     = []\n",
        "times_exact     = []\n",
        "times_exact_man = []\n",
        "times_chol      = []\n",
        "times_qr        = []\n",
        "times_lstsq     = []\n",
        "\n",
        "labels = ['cvxpy', 'pinv', 'exact', 'chol', 'qr', 'numpy lstsq']\n",
        "\n",
        "###################\n",
        "# Your code here  #\n",
        "###################\n",
        "\n",
        "plot_timing(ns, [times_cvxpy, times_exact, times_exact_man, times_chol, times_qr, times_lstsq], labels)\n",
        "plt.savefig('lls_times.svg')"
      ],
      "execution_count": null,
      "outputs": []
    }
  ]
}