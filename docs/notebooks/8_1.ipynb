{
  "nbformat": 4,
  "nbformat_minor": 0,
  "metadata": {
    "colab": {
      "name": "LP Recsys with PuLP.ipynb",
      "provenance": []
    },
    "kernelspec": {
      "name": "python3",
      "display_name": "Python 3"
    },
    "language_info": {
      "name": "python"
    }
  },
  "cells": [
    {
      "cell_type": "markdown",
      "metadata": {
        "id": "7VH-QLYAAXZP"
      },
      "source": [
        "# Linear programming with `pulp`"
      ]
    },
    {
      "cell_type": "markdown",
      "metadata": {
        "id": "qJ7tb91mik8W"
      },
      "source": [
        "## 📼 PuLP library example (Optimal watching TED talks)"
      ]
    },
    {
      "cell_type": "code",
      "metadata": {
        "id": "-AW_zM5Aik8W",
        "colab": {
          "base_uri": "https://localhost:8080/"
        },
        "outputId": "10dba184-d4e8-4a0e-edc8-5b2d9220a660"
      },
      "source": [
        "!pip install pulp"
      ],
      "execution_count": null,
      "outputs": [
        {
          "output_type": "stream",
          "name": "stdout",
          "text": [
            "Collecting pulp\n",
            "  Downloading PuLP-2.5.1-py3-none-any.whl (41.2 MB)\n",
            "\u001b[K     |████████████████████████████████| 41.2 MB 72 kB/s \n",
            "\u001b[?25hInstalling collected packages: pulp\n",
            "Successfully installed pulp-2.5.1\n"
          ]
        }
      ]
    },
    {
      "cell_type": "code",
      "metadata": {
        "id": "UYZuVjXAik8W"
      },
      "source": [
        "%matplotlib inline\n",
        " \n",
        "import pulp\n",
        "import numpy as np\n",
        "import pandas as pd\n",
        "import re\n",
        "import matplotlib.pyplot as plt\n",
        "from IPython.display import Image"
      ],
      "execution_count": null,
      "outputs": []
    },
    {
      "cell_type": "code",
      "metadata": {
        "id": "z5ITwq_tik8X",
        "colab": {
          "base_uri": "https://localhost:8080/",
          "height": 598
        },
        "outputId": "69eb5692-6759-4a95-e193-113bceea6133"
      },
      "source": [
        "# Download the dataset from https://www.kaggle.com/rounakbanik/ted-talks\n",
        "\n",
        "# Read the dataset into pandas dataframe, convert duration from seconds to minutes\n",
        "ted = pd.read_csv('https://raw.githubusercontent.com/MerkulovDaniil/sber21_fmin/sources/data/ted_main.csv', encoding='ISO-8859-1')\n",
        "ted['duration'] = ted['duration'] / 60\n",
        "ted = ted.round({'duration': 1})\n",
        "\n",
        "# Select subset of columns & rows (if required)\n",
        "# data = ted.sample(n=1000) # 'n' can be changed as required\n",
        "data = ted\n",
        "selected_cols = ['name', 'event', 'duration', 'views']\n",
        "data.reset_index(inplace=True)\n",
        "data.head()"
      ],
      "execution_count": null,
      "outputs": [
        {
          "output_type": "execute_result",
          "data": {
            "text/html": [
              "<div>\n",
              "<style scoped>\n",
              "    .dataframe tbody tr th:only-of-type {\n",
              "        vertical-align: middle;\n",
              "    }\n",
              "\n",
              "    .dataframe tbody tr th {\n",
              "        vertical-align: top;\n",
              "    }\n",
              "\n",
              "    .dataframe thead th {\n",
              "        text-align: right;\n",
              "    }\n",
              "</style>\n",
              "<table border=\"1\" class=\"dataframe\">\n",
              "  <thead>\n",
              "    <tr style=\"text-align: right;\">\n",
              "      <th></th>\n",
              "      <th>index</th>\n",
              "      <th>comments</th>\n",
              "      <th>description</th>\n",
              "      <th>duration</th>\n",
              "      <th>event</th>\n",
              "      <th>film_date</th>\n",
              "      <th>languages</th>\n",
              "      <th>main_speaker</th>\n",
              "      <th>name</th>\n",
              "      <th>num_speaker</th>\n",
              "      <th>published_date</th>\n",
              "      <th>ratings</th>\n",
              "      <th>related_talks</th>\n",
              "      <th>speaker_occupation</th>\n",
              "      <th>tags</th>\n",
              "      <th>title</th>\n",
              "      <th>url</th>\n",
              "      <th>views</th>\n",
              "    </tr>\n",
              "  </thead>\n",
              "  <tbody>\n",
              "    <tr>\n",
              "      <th>0</th>\n",
              "      <td>0</td>\n",
              "      <td>4553</td>\n",
              "      <td>Sir Ken Robinson makes an entertaining and pro...</td>\n",
              "      <td>19.4</td>\n",
              "      <td>TED2006</td>\n",
              "      <td>1140825600</td>\n",
              "      <td>60</td>\n",
              "      <td>Ken Robinson</td>\n",
              "      <td>Ken Robinson: Do schools kill creativity?</td>\n",
              "      <td>1</td>\n",
              "      <td>1151367060</td>\n",
              "      <td>[{'id': 7, 'name': 'Funny', 'count': 19645}, {...</td>\n",
              "      <td>[{'id': 865, 'hero': 'https://pe.tedcdn.com/im...</td>\n",
              "      <td>Author/educator</td>\n",
              "      <td>['children', 'creativity', 'culture', 'dance',...</td>\n",
              "      <td>Do schools kill creativity?</td>\n",
              "      <td>https://www.ted.com/talks/ken_robinson_says_sc...</td>\n",
              "      <td>47227110</td>\n",
              "    </tr>\n",
              "    <tr>\n",
              "      <th>1</th>\n",
              "      <td>1</td>\n",
              "      <td>265</td>\n",
              "      <td>With the same humor and humanity he exuded in ...</td>\n",
              "      <td>16.3</td>\n",
              "      <td>TED2006</td>\n",
              "      <td>1140825600</td>\n",
              "      <td>43</td>\n",
              "      <td>Al Gore</td>\n",
              "      <td>Al Gore: Averting the climate crisis</td>\n",
              "      <td>1</td>\n",
              "      <td>1151367060</td>\n",
              "      <td>[{'id': 7, 'name': 'Funny', 'count': 544}, {'i...</td>\n",
              "      <td>[{'id': 243, 'hero': 'https://pe.tedcdn.com/im...</td>\n",
              "      <td>Climate advocate</td>\n",
              "      <td>['alternative energy', 'cars', 'climate change...</td>\n",
              "      <td>Averting the climate crisis</td>\n",
              "      <td>https://www.ted.com/talks/al_gore_on_averting_...</td>\n",
              "      <td>3200520</td>\n",
              "    </tr>\n",
              "    <tr>\n",
              "      <th>2</th>\n",
              "      <td>2</td>\n",
              "      <td>124</td>\n",
              "      <td>New York Times columnist David Pogue takes aim...</td>\n",
              "      <td>21.4</td>\n",
              "      <td>TED2006</td>\n",
              "      <td>1140739200</td>\n",
              "      <td>26</td>\n",
              "      <td>David Pogue</td>\n",
              "      <td>David Pogue: Simplicity sells</td>\n",
              "      <td>1</td>\n",
              "      <td>1151367060</td>\n",
              "      <td>[{'id': 7, 'name': 'Funny', 'count': 964}, {'i...</td>\n",
              "      <td>[{'id': 1725, 'hero': 'https://pe.tedcdn.com/i...</td>\n",
              "      <td>Technology columnist</td>\n",
              "      <td>['computers', 'entertainment', 'interface desi...</td>\n",
              "      <td>Simplicity sells</td>\n",
              "      <td>https://www.ted.com/talks/david_pogue_says_sim...</td>\n",
              "      <td>1636292</td>\n",
              "    </tr>\n",
              "    <tr>\n",
              "      <th>3</th>\n",
              "      <td>3</td>\n",
              "      <td>200</td>\n",
              "      <td>In an emotionally charged talk, MacArthur-winn...</td>\n",
              "      <td>18.6</td>\n",
              "      <td>TED2006</td>\n",
              "      <td>1140912000</td>\n",
              "      <td>35</td>\n",
              "      <td>Majora Carter</td>\n",
              "      <td>Majora Carter: Greening the ghetto</td>\n",
              "      <td>1</td>\n",
              "      <td>1151367060</td>\n",
              "      <td>[{'id': 3, 'name': 'Courageous', 'count': 760}...</td>\n",
              "      <td>[{'id': 1041, 'hero': 'https://pe.tedcdn.com/i...</td>\n",
              "      <td>Activist for environmental justice</td>\n",
              "      <td>['MacArthur grant', 'activism', 'business', 'c...</td>\n",
              "      <td>Greening the ghetto</td>\n",
              "      <td>https://www.ted.com/talks/majora_carter_s_tale...</td>\n",
              "      <td>1697550</td>\n",
              "    </tr>\n",
              "    <tr>\n",
              "      <th>4</th>\n",
              "      <td>4</td>\n",
              "      <td>593</td>\n",
              "      <td>You've never seen data presented like this. Wi...</td>\n",
              "      <td>19.8</td>\n",
              "      <td>TED2006</td>\n",
              "      <td>1140566400</td>\n",
              "      <td>48</td>\n",
              "      <td>Hans Rosling</td>\n",
              "      <td>Hans Rosling: The best stats you've ever seen</td>\n",
              "      <td>1</td>\n",
              "      <td>1151440680</td>\n",
              "      <td>[{'id': 9, 'name': 'Ingenious', 'count': 3202}...</td>\n",
              "      <td>[{'id': 2056, 'hero': 'https://pe.tedcdn.com/i...</td>\n",
              "      <td>Global health expert; data visionary</td>\n",
              "      <td>['Africa', 'Asia', 'Google', 'demo', 'economic...</td>\n",
              "      <td>The best stats you've ever seen</td>\n",
              "      <td>https://www.ted.com/talks/hans_rosling_shows_t...</td>\n",
              "      <td>12005869</td>\n",
              "    </tr>\n",
              "  </tbody>\n",
              "</table>\n",
              "</div>"
            ],
            "text/plain": [
              "   index  comments  ...                                                url     views\n",
              "0      0      4553  ...  https://www.ted.com/talks/ken_robinson_says_sc...  47227110\n",
              "1      1       265  ...  https://www.ted.com/talks/al_gore_on_averting_...   3200520\n",
              "2      2       124  ...  https://www.ted.com/talks/david_pogue_says_sim...   1636292\n",
              "3      3       200  ...  https://www.ted.com/talks/majora_carter_s_tale...   1697550\n",
              "4      4       593  ...  https://www.ted.com/talks/hans_rosling_shows_t...  12005869\n",
              "\n",
              "[5 rows x 18 columns]"
            ]
          },
          "metadata": {},
          "execution_count": 3
        }
      ]
    },
    {
      "cell_type": "code",
      "metadata": {
        "id": "mxCEz8tQik8X"
      },
      "source": [
        "# create LP object,\n",
        "# set up as a maximization problem --> since we want to maximize the number of TED talks to watch\n",
        "prob = pulp.LpProblem('WatchingTEDTalks', pulp.LpMaximize)"
      ],
      "execution_count": null,
      "outputs": []
    },
    {
      "cell_type": "code",
      "metadata": {
        "id": "BPvS-ZQcik8X",
        "colab": {
          "base_uri": "https://localhost:8080/"
        },
        "outputId": "512284ae-8786-474f-ef7c-71135f5e552f"
      },
      "source": [
        "# create decision - yes or no to watch the talk?\n",
        "decision_variables = []\n",
        "for rownum, row in data.iterrows():\n",
        "    variable = str('x' + str(row['index']))\n",
        "    variable = pulp.LpVariable(str(variable), lowBound = 0, upBound = 1) # make variable binary\n",
        "    decision_variables.append(variable)\n",
        "    \n",
        "print('Total number of decision variables: ' + str(len(decision_variables)))"
      ],
      "execution_count": null,
      "outputs": [
        {
          "output_type": "stream",
          "name": "stdout",
          "text": [
            "Total number of decision variables: 2550\n"
          ]
        }
      ]
    },
    {
      "cell_type": "markdown",
      "metadata": {
        "id": "5OBnUaD0E0cB"
      },
      "source": [
        "> ***YOUR TASK IS TO CHOOSE YOUR FAVORITE LINEAR LOSS FUNCTION AND BUDGET CONSTRAINTS***\n",
        "\n"
      ]
    },
    {
      "cell_type": "code",
      "metadata": {
        "id": "BraIJ7H9ik8Y"
      },
      "source": [
        "# Create optimization Function\n",
        "total_views = ''\n",
        "for rownum, row in data.iterrows():\n",
        "    for i,talk in enumerate(decision_variables):\n",
        "        if rownum == i:\n",
        "            formula = (len(row['description']) + (-1)*row['views']) * talk\n",
        "            total_views += formula\n",
        "            \n",
        "prob += total_views\n",
        "# print('Optimization function: ' + str(total_views))"
      ],
      "execution_count": null,
      "outputs": []
    },
    {
      "cell_type": "code",
      "metadata": {
        "id": "tvUTUhyIik8Y"
      },
      "source": [
        "# Contraints\n",
        "total_time_available_for_talks = 3*60 # Total time available is 5 hours . Converted to minutes\n",
        "total_talks_can_watch = 8 # Don't want an overload information"
      ],
      "execution_count": null,
      "outputs": []
    },
    {
      "cell_type": "code",
      "metadata": {
        "id": "ktrQFPNqik8Y"
      },
      "source": [
        "# Create Constraint 1 - Time for talks\n",
        "total_time_talks = ''\n",
        "for rownum, row in data.iterrows():\n",
        "    for i,  talk in enumerate(decision_variables):\n",
        "        if rownum == i:\n",
        "            formula = row['duration']*talk\n",
        "            total_time_talks += formula\n",
        "            \n",
        "prob += (total_time_talks <= total_time_available_for_talks)"
      ],
      "execution_count": null,
      "outputs": []
    },
    {
      "cell_type": "code",
      "metadata": {
        "id": "FAJTAJuzik8Y"
      },
      "source": [
        "# Create Constraint 2 - Number of talks\n",
        "total_talks = ''\n",
        "\n",
        "for rownum, row in data.iterrows():\n",
        "    for i, talk in enumerate(decision_variables):\n",
        "        if rownum == i:\n",
        "            formula = talk\n",
        "            total_talks += formula\n",
        "            \n",
        "prob += (total_talks == total_talks_can_watch)"
      ],
      "execution_count": null,
      "outputs": []
    },
    {
      "cell_type": "code",
      "metadata": {
        "id": "mXzW4NPHik8Z",
        "colab": {
          "base_uri": "https://localhost:8080/"
        },
        "outputId": "2588f3bd-80ed-491a-b2af-1349cac0bf97"
      },
      "source": [
        "# Be careful, the output will be huge\n",
        "# print(prob)\n",
        "prob.writeLP('WatchingTEDTalks.lp')\n",
        "print('🤔 The problem has successfully formulated')"
      ],
      "execution_count": null,
      "outputs": [
        {
          "output_type": "stream",
          "name": "stdout",
          "text": [
            "🤔 The problem has successfully formulated\n"
          ]
        }
      ]
    },
    {
      "cell_type": "code",
      "metadata": {
        "id": "DxWYk01Hik8Z",
        "colab": {
          "base_uri": "https://localhost:8080/"
        },
        "outputId": "ac4f5911-a7a9-414d-f245-1dca6a87fce2"
      },
      "source": [
        "optimization_result = prob.solve()\n",
        "\n",
        "assert optimization_result == pulp.LpStatusOptimal\n",
        "print('Status:', pulp.LpStatus[prob.status])\n",
        "print('Optimal Solution to the problem: ', pulp.value(prob.objective))\n",
        "print('Individual decision variables: ')\n",
        "\n",
        "\n",
        "for v in prob.variables():\n",
        "    if v.varValue > 0:\n",
        "        print(v.name, '=', v.varValue)"
      ],
      "execution_count": null,
      "outputs": [
        {
          "output_type": "stream",
          "name": "stdout",
          "text": [
            "Status: Optimal\n",
            "Optimal Solution to the problem:  -784644.0\n",
            "Individual decision variables: \n",
            "x1079 = 1.0\n",
            "x1112 = 1.0\n",
            "x1133 = 1.0\n",
            "x1141 = 1.0\n",
            "x1229 = 1.0\n",
            "x237 = 1.0\n",
            "x594 = 1.0\n",
            "x776 = 1.0\n"
          ]
        }
      ]
    },
    {
      "cell_type": "code",
      "metadata": {
        "id": "bM5K6Sbkik8Z"
      },
      "source": [
        "# reorder results\n",
        "variable_name = []\n",
        "variable_value = []\n",
        "\n",
        "for v in prob.variables():\n",
        "    variable_name.append(v.name)\n",
        "    variable_value.append(v.varValue)\n",
        "    \n",
        "df = pd.DataFrame({'index': variable_name, 'value': variable_value})\n",
        "for rownum, row in df.iterrows():\n",
        "    value = re.findall(r'(\\d+)', row['index'])\n",
        "    df.loc[rownum, 'index'] = int(value[0])\n",
        "    \n",
        "# df = df.sort_index(by = 'index')\n",
        "df = df.sort_values(by = 'index')\n",
        "result = pd.merge(data, df, on = 'index')\n",
        "result = result[result['value'] == 1].sort_values(by = 'views', ascending = False)\n",
        "selected_cols_final = ['name', 'event', 'duration', 'views']\n",
        "final_set_of_talks_to_watch = result[selected_cols_final]"
      ],
      "execution_count": null,
      "outputs": []
    },
    {
      "cell_type": "code",
      "metadata": {
        "id": "ft759ilYik8a",
        "colab": {
          "base_uri": "https://localhost:8080/",
          "height": 297
        },
        "outputId": "6f5e75dd-078c-42b3-b562-5c0bdba462a7"
      },
      "source": [
        "from IPython.display import display, HTML\n",
        "display(HTML(final_set_of_talks_to_watch.to_html(index=False)))"
      ],
      "execution_count": null,
      "outputs": [
        {
          "output_type": "display_data",
          "data": {
            "text/html": [
              "<table border=\"1\" class=\"dataframe\">\n",
              "  <thead>\n",
              "    <tr style=\"text-align: right;\">\n",
              "      <th>name</th>\n",
              "      <th>event</th>\n",
              "      <th>duration</th>\n",
              "      <th>views</th>\n",
              "    </tr>\n",
              "  </thead>\n",
              "  <tbody>\n",
              "    <tr>\n",
              "      <td>Leslie Dodson: Don't misrepresent Africa</td>\n",
              "      <td>TEDxBoulder 2011</td>\n",
              "      <td>11.4</td>\n",
              "      <td>121186</td>\n",
              "    </tr>\n",
              "    <tr>\n",
              "      <td>Keith Nolan: Deaf in the military</td>\n",
              "      <td>TEDxIslay</td>\n",
              "      <td>18.6</td>\n",
              "      <td>120274</td>\n",
              "    </tr>\n",
              "    <tr>\n",
              "      <td>JosÃ© Bowen: Beethoven the businessman</td>\n",
              "      <td>TEDxSMU</td>\n",
              "      <td>12.8</td>\n",
              "      <td>117756</td>\n",
              "    </tr>\n",
              "    <tr>\n",
              "      <td>Aleph Molinari: Let's bridge the digital divide!</td>\n",
              "      <td>TEDxSanMigueldeAllende</td>\n",
              "      <td>9.9</td>\n",
              "      <td>115346</td>\n",
              "    </tr>\n",
              "    <tr>\n",
              "      <td>Tim Birkhead: The early birdwatchers</td>\n",
              "      <td>The Do Lectures</td>\n",
              "      <td>28.2</td>\n",
              "      <td>112321</td>\n",
              "    </tr>\n",
              "    <tr>\n",
              "      <td>Rokia Traore: \"Kounandi\"</td>\n",
              "      <td>TEDGlobal 2007</td>\n",
              "      <td>6.4</td>\n",
              "      <td>82488</td>\n",
              "    </tr>\n",
              "    <tr>\n",
              "      <td>Charles Hazlewood + British Paraorchestra: The debut of the British Paraorchestra</td>\n",
              "      <td>TEDxBrussels</td>\n",
              "      <td>13.6</td>\n",
              "      <td>66668</td>\n",
              "    </tr>\n",
              "    <tr>\n",
              "      <td>Edwidge Danticat: Stories of Haiti</td>\n",
              "      <td>University of California</td>\n",
              "      <td>59.6</td>\n",
              "      <td>50443</td>\n",
              "    </tr>\n",
              "  </tbody>\n",
              "</table>"
            ],
            "text/plain": [
              "<IPython.core.display.HTML object>"
            ]
          },
          "metadata": {}
        }
      ]
    },
    {
      "cell_type": "code",
      "metadata": {
        "id": "8Xsc_tpSAK_q"
      },
      "source": [
        ""
      ],
      "execution_count": null,
      "outputs": []
    }
  ]
}