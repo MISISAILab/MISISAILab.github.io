{
  "nbformat": 4,
  "nbformat_minor": 0,
  "metadata": {
    "colab": {
      "name": "Analytical solution of linear least squares.ipynb",
      "provenance": []
    },
    "kernelspec": {
      "name": "python3",
      "display_name": "Python 3"
    },
    "language_info": {
      "name": "python"
    },
    "accelerator": "GPU"
  },
  "cells": [
    {
      "cell_type": "markdown",
      "metadata": {
        "id": "TuCrZx_W21JW"
      },
      "source": [
        "# Linear Least squares\n",
        "\n",
        "Write down exact solution of the linear least squares problem:\n",
        "\n",
        "$$\n",
        "\\|Ax-b\\|^2 \\to \\min_{x \\in \\mathbb{R}^n}, A \\in \\mathbb{R}^{m \\times n}\n",
        "$$\n",
        "\n",
        "Consider three cases:\n",
        "\n",
        "* $m < n$\n",
        "* $m = n$\n",
        "* $m > n$"
      ]
    },
    {
      "cell_type": "markdown",
      "metadata": {
        "id": "57TGXMBZ1AK6"
      },
      "source": [
        "<font color=\"lime\"> ==YOUR ANSWER== </font>"
      ]
    }
  ]
}