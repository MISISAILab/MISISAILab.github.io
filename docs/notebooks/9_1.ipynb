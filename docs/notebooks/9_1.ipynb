{
  "nbformat": 4,
  "nbformat_minor": 0,
  "metadata": {
    "colab": {
      "name": "Timeseries anomaly detection.ipynb",
      "provenance": [],
      "collapsed_sections": []
    },
    "kernelspec": {
      "display_name": "Python 3",
      "language": "python",
      "name": "python3"
    },
    "language_info": {
      "codemirror_mode": {
        "name": "ipython",
        "version": 3
      },
      "file_extension": ".py",
      "mimetype": "text/x-python",
      "name": "python",
      "nbconvert_exporter": "python",
      "pygments_lexer": "ipython3",
      "version": "3.7.0"
    },
    "widgets": {
      "application/vnd.jupyter.widget-state+json": {
        "831ee17934e741d6b1b4c643282cee08": {
          "model_module": "@jupyter-widgets/controls",
          "model_name": "VBoxModel",
          "model_module_version": "1.5.0",
          "state": {
            "_view_name": "VBoxView",
            "_dom_classes": [],
            "_model_name": "VBoxModel",
            "_view_module": "@jupyter-widgets/controls",
            "_model_module_version": "1.5.0",
            "_view_count": null,
            "_view_module_version": "1.5.0",
            "box_style": "",
            "layout": "IPY_MODEL_441ff943820c4ce584f27be437507c68",
            "_model_module": "@jupyter-widgets/controls",
            "children": [
              "IPY_MODEL_42ee349f48f74aa5a0ea9698d373e1bc",
              "IPY_MODEL_1172a57806e648399d4b842a683a72d2"
            ]
          }
        },
        "441ff943820c4ce584f27be437507c68": {
          "model_module": "@jupyter-widgets/base",
          "model_name": "LayoutModel",
          "model_module_version": "1.2.0",
          "state": {
            "_view_name": "LayoutView",
            "grid_template_rows": null,
            "right": null,
            "justify_content": null,
            "_view_module": "@jupyter-widgets/base",
            "overflow": null,
            "_model_module_version": "1.2.0",
            "_view_count": null,
            "flex_flow": null,
            "width": null,
            "min_width": null,
            "border": null,
            "align_items": null,
            "bottom": null,
            "_model_module": "@jupyter-widgets/base",
            "top": null,
            "grid_column": null,
            "overflow_y": null,
            "overflow_x": null,
            "grid_auto_flow": null,
            "grid_area": null,
            "grid_template_columns": null,
            "flex": null,
            "_model_name": "LayoutModel",
            "justify_items": null,
            "grid_row": null,
            "max_height": null,
            "align_content": null,
            "visibility": null,
            "align_self": null,
            "height": null,
            "min_height": null,
            "padding": null,
            "grid_auto_rows": null,
            "grid_gap": null,
            "max_width": null,
            "order": null,
            "_view_module_version": "1.2.0",
            "grid_template_areas": null,
            "object_position": null,
            "object_fit": null,
            "grid_auto_columns": null,
            "margin": null,
            "display": null,
            "left": null
          }
        },
        "42ee349f48f74aa5a0ea9698d373e1bc": {
          "model_module": "@jupyter-widgets/controls",
          "model_name": "LabelModel",
          "model_module_version": "1.5.0",
          "state": {
            "_view_name": "LabelView",
            "style": "IPY_MODEL_3f83df4611524db98b3166d5e6be0934",
            "_dom_classes": [],
            "description": "",
            "_model_name": "LabelModel",
            "placeholder": "​",
            "_view_module": "@jupyter-widgets/controls",
            "_model_module_version": "1.5.0",
            "value": " 0.01MB of 0.01MB uploaded (0.00MB deduped)\r",
            "_view_count": null,
            "_view_module_version": "1.5.0",
            "description_tooltip": null,
            "_model_module": "@jupyter-widgets/controls",
            "layout": "IPY_MODEL_4cc82747f4754f319d8d9861a0c99b61"
          }
        },
        "1172a57806e648399d4b842a683a72d2": {
          "model_module": "@jupyter-widgets/controls",
          "model_name": "FloatProgressModel",
          "model_module_version": "1.5.0",
          "state": {
            "_view_name": "ProgressView",
            "style": "IPY_MODEL_c7d4cd0e5b704c5086826eca25ba2bda",
            "_dom_classes": [],
            "description": "",
            "_model_name": "FloatProgressModel",
            "bar_style": "",
            "max": 1,
            "_view_module": "@jupyter-widgets/controls",
            "_model_module_version": "1.5.0",
            "value": 1,
            "_view_count": null,
            "_view_module_version": "1.5.0",
            "orientation": "horizontal",
            "min": 0,
            "description_tooltip": null,
            "_model_module": "@jupyter-widgets/controls",
            "layout": "IPY_MODEL_2ebd3e9724c848b685d873a3ed437c57"
          }
        },
        "3f83df4611524db98b3166d5e6be0934": {
          "model_module": "@jupyter-widgets/controls",
          "model_name": "DescriptionStyleModel",
          "model_module_version": "1.5.0",
          "state": {
            "_view_name": "StyleView",
            "_model_name": "DescriptionStyleModel",
            "description_width": "",
            "_view_module": "@jupyter-widgets/base",
            "_model_module_version": "1.5.0",
            "_view_count": null,
            "_view_module_version": "1.2.0",
            "_model_module": "@jupyter-widgets/controls"
          }
        },
        "4cc82747f4754f319d8d9861a0c99b61": {
          "model_module": "@jupyter-widgets/base",
          "model_name": "LayoutModel",
          "model_module_version": "1.2.0",
          "state": {
            "_view_name": "LayoutView",
            "grid_template_rows": null,
            "right": null,
            "justify_content": null,
            "_view_module": "@jupyter-widgets/base",
            "overflow": null,
            "_model_module_version": "1.2.0",
            "_view_count": null,
            "flex_flow": null,
            "width": null,
            "min_width": null,
            "border": null,
            "align_items": null,
            "bottom": null,
            "_model_module": "@jupyter-widgets/base",
            "top": null,
            "grid_column": null,
            "overflow_y": null,
            "overflow_x": null,
            "grid_auto_flow": null,
            "grid_area": null,
            "grid_template_columns": null,
            "flex": null,
            "_model_name": "LayoutModel",
            "justify_items": null,
            "grid_row": null,
            "max_height": null,
            "align_content": null,
            "visibility": null,
            "align_self": null,
            "height": null,
            "min_height": null,
            "padding": null,
            "grid_auto_rows": null,
            "grid_gap": null,
            "max_width": null,
            "order": null,
            "_view_module_version": "1.2.0",
            "grid_template_areas": null,
            "object_position": null,
            "object_fit": null,
            "grid_auto_columns": null,
            "margin": null,
            "display": null,
            "left": null
          }
        },
        "c7d4cd0e5b704c5086826eca25ba2bda": {
          "model_module": "@jupyter-widgets/controls",
          "model_name": "ProgressStyleModel",
          "model_module_version": "1.5.0",
          "state": {
            "_view_name": "StyleView",
            "_model_name": "ProgressStyleModel",
            "description_width": "",
            "_view_module": "@jupyter-widgets/base",
            "_model_module_version": "1.5.0",
            "_view_count": null,
            "_view_module_version": "1.2.0",
            "bar_color": null,
            "_model_module": "@jupyter-widgets/controls"
          }
        },
        "2ebd3e9724c848b685d873a3ed437c57": {
          "model_module": "@jupyter-widgets/base",
          "model_name": "LayoutModel",
          "model_module_version": "1.2.0",
          "state": {
            "_view_name": "LayoutView",
            "grid_template_rows": null,
            "right": null,
            "justify_content": null,
            "_view_module": "@jupyter-widgets/base",
            "overflow": null,
            "_model_module_version": "1.2.0",
            "_view_count": null,
            "flex_flow": null,
            "width": null,
            "min_width": null,
            "border": null,
            "align_items": null,
            "bottom": null,
            "_model_module": "@jupyter-widgets/base",
            "top": null,
            "grid_column": null,
            "overflow_y": null,
            "overflow_x": null,
            "grid_auto_flow": null,
            "grid_area": null,
            "grid_template_columns": null,
            "flex": null,
            "_model_name": "LayoutModel",
            "justify_items": null,
            "grid_row": null,
            "max_height": null,
            "align_content": null,
            "visibility": null,
            "align_self": null,
            "height": null,
            "min_height": null,
            "padding": null,
            "grid_auto_rows": null,
            "grid_gap": null,
            "max_width": null,
            "order": null,
            "_view_module_version": "1.2.0",
            "grid_template_areas": null,
            "object_position": null,
            "object_fit": null,
            "grid_auto_columns": null,
            "margin": null,
            "display": null,
            "left": null
          }
        }
      }
    }
  },
  "cells": [
    {
      "cell_type": "markdown",
      "metadata": {
        "id": "i4CAQjMRL1wF"
      },
      "source": [
        "# Timeseries anomaly detection using an Autoencoder\n",
        "\n",
        "**Author:** [pavithrasv](https://github.com/pavithrasv)<br>\n",
        "**Date created:** 2020/05/31<br>\n",
        "**Last modified:** 2020/05/31<br>\n",
        "**Description:** Detect anomalies in a timeseries using an Autoencoder."
      ]
    },
    {
      "cell_type": "markdown",
      "metadata": {
        "id": "hDr-LyB6L1wI"
      },
      "source": [
        "## Introduction\n",
        "\n",
        "This script demonstrates how you can use a reconstruction convolutional\n",
        "autoencoder model to detect anomalies in timeseries data."
      ]
    },
    {
      "cell_type": "markdown",
      "metadata": {
        "id": "vlv9x0nxL1wJ"
      },
      "source": [
        "## Setup"
      ]
    },
    {
      "cell_type": "code",
      "metadata": {
        "id": "F42DoPCbL1wJ"
      },
      "source": [
        "import numpy as np\n",
        "import pandas as pd\n",
        "from tensorflow import keras\n",
        "from tensorflow.keras import layers\n",
        "from matplotlib import pyplot as plt"
      ],
      "execution_count": null,
      "outputs": []
    },
    {
      "cell_type": "markdown",
      "metadata": {
        "id": "i1TzsEg-L1wK"
      },
      "source": [
        "## Load the data\n",
        "\n",
        "We will use the [Numenta Anomaly Benchmark(NAB)](\n",
        "https://www.kaggle.com/boltzmannbrain/nab) dataset. It provides artifical\n",
        "timeseries data containing labeled anomalous periods of behavior. Data are\n",
        "ordered, timestamped, single-valued metrics.\n",
        "\n",
        "We will use the `art_daily_small_noise.csv` file for training and the\n",
        "`art_daily_jumpsup.csv` file for testing. The simplicity of this dataset\n",
        "allows us to demonstrate anomaly detection effectively."
      ]
    },
    {
      "cell_type": "code",
      "metadata": {
        "id": "QP44TX4pL1wK"
      },
      "source": [
        "master_url_root = \"https://raw.githubusercontent.com/numenta/NAB/master/data/\"\n",
        "\n",
        "df_small_noise_url_suffix = \"artificialNoAnomaly/art_daily_small_noise.csv\"\n",
        "df_small_noise_url = master_url_root + df_small_noise_url_suffix\n",
        "df_small_noise = pd.read_csv(\n",
        "    df_small_noise_url, parse_dates=True, index_col=\"timestamp\"\n",
        ")\n",
        "\n",
        "df_daily_jumpsup_url_suffix = \"artificialWithAnomaly/art_daily_jumpsup.csv\"\n",
        "df_daily_jumpsup_url = master_url_root + df_daily_jumpsup_url_suffix\n",
        "df_daily_jumpsup = pd.read_csv(\n",
        "    df_daily_jumpsup_url, parse_dates=True, index_col=\"timestamp\"\n",
        ")"
      ],
      "execution_count": null,
      "outputs": []
    },
    {
      "cell_type": "markdown",
      "metadata": {
        "id": "MlneFHWZL1wL"
      },
      "source": [
        "## Quick look at the data"
      ]
    },
    {
      "cell_type": "code",
      "metadata": {
        "colab": {
          "base_uri": "https://localhost:8080/"
        },
        "id": "WidrmNpBL1wL",
        "outputId": "3c9bec79-3aaf-43bb-db3f-a14c2fd8fe06"
      },
      "source": [
        "print(df_small_noise.head())\n",
        "\n",
        "print(df_daily_jumpsup.head())"
      ],
      "execution_count": null,
      "outputs": [
        {
          "output_type": "stream",
          "text": [
            "                         value\n",
            "timestamp                     \n",
            "2014-04-01 00:00:00  18.324919\n",
            "2014-04-01 00:05:00  21.970327\n",
            "2014-04-01 00:10:00  18.624806\n",
            "2014-04-01 00:15:00  21.953684\n",
            "2014-04-01 00:20:00  21.909120\n",
            "                         value\n",
            "timestamp                     \n",
            "2014-04-01 00:00:00  19.761252\n",
            "2014-04-01 00:05:00  20.500833\n",
            "2014-04-01 00:10:00  19.961641\n",
            "2014-04-01 00:15:00  21.490266\n",
            "2014-04-01 00:20:00  20.187739\n"
          ],
          "name": "stdout"
        }
      ]
    },
    {
      "cell_type": "markdown",
      "metadata": {
        "id": "59RYKyGLL1wM"
      },
      "source": [
        "## Visualize the data\n",
        "### Timeseries data without anomalies\n",
        "\n",
        "We will use the following data for training."
      ]
    },
    {
      "cell_type": "code",
      "metadata": {
        "colab": {
          "base_uri": "https://localhost:8080/",
          "height": 303
        },
        "id": "m_O8wEbnL1wM",
        "outputId": "ed1d6ec9-febe-4293-9e88-68a0d9ee0d1d"
      },
      "source": [
        "fig, ax = plt.subplots()\n",
        "df_small_noise.plot(legend=False, ax=ax)\n",
        "plt.ylabel('Value')\n",
        "plt.show()"
      ],
      "execution_count": null,
      "outputs": [
        {
          "output_type": "display_data",
          "data": {
            "image/png": "[encoded data removed]",
            "text/plain": [
              "<Figure size 432x288 with 1 Axes>"
            ]
          },
          "metadata": {
            "tags": [],
            "needs_background": "light"
          }
        }
      ]
    },
    {
      "cell_type": "markdown",
      "metadata": {
        "id": "kIPHLxIML1wM"
      },
      "source": [
        "### Timeseries data with anomalies\n",
        "\n",
        "We will use the following data for testing and see if the sudden jump up in the\n",
        "data is detected as an anomaly."
      ]
    },
    {
      "cell_type": "code",
      "metadata": {
        "colab": {
          "base_uri": "https://localhost:8080/",
          "height": 303
        },
        "id": "Aw9nTYjBL1wN",
        "outputId": "c2bf4b51-732b-486b-c14a-e79093e0284c"
      },
      "source": [
        "fig, ax = plt.subplots()\n",
        "df_daily_jumpsup.plot(legend=False, ax=ax)\n",
        "plt.ylabel('Value')\n",
        "plt.show()"
      ],
      "execution_count": null,
      "outputs": [
        {
          "output_type": "display_data",
          "data": {
            "image/png": "[encoded data removed]",
            "text/plain": [
              "<Figure size 432x288 with 1 Axes>"
            ]
          },
          "metadata": {
            "tags": [],
            "needs_background": "light"
          }
        }
      ]
    },
    {
      "cell_type": "markdown",
      "metadata": {
        "id": "iSZh_DOmL1wN"
      },
      "source": [
        "## Prepare training data\n",
        "\n",
        "Get data values from the training timeseries data file and normalize the\n",
        "`value` data. We have a `value` for every 5 mins for 14 days.\n",
        "\n",
        "-   24 * 60 / 5 = **288 timesteps per day**\n",
        "-   288 * 14 = **4032 data points** in total"
      ]
    },
    {
      "cell_type": "code",
      "metadata": {
        "colab": {
          "base_uri": "https://localhost:8080/"
        },
        "id": "S-EkKCNcL1wO",
        "outputId": "5abc42a5-2c92-48b4-f3a8-ed61265c27b9"
      },
      "source": [
        "\n",
        "# Normalize and save the mean and std we get,\n",
        "# for normalizing test data.\n",
        "training_mean = df_small_noise.mean()\n",
        "training_std = df_small_noise.std()\n",
        "df_training_value = (df_small_noise - training_mean) / training_std\n",
        "print(\"Number of training samples:\", len(df_training_value))"
      ],
      "execution_count": null,
      "outputs": [
        {
          "output_type": "stream",
          "text": [
            "Number of training samples: 4032\n"
          ],
          "name": "stdout"
        }
      ]
    },
    {
      "cell_type": "markdown",
      "metadata": {
        "id": "NvIUKXNiL1wO"
      },
      "source": [
        "### Create sequences\n",
        "Create sequences combining `TIME_STEPS` contiguous data values from the\n",
        "training data."
      ]
    },
    {
      "cell_type": "code",
      "metadata": {
        "colab": {
          "base_uri": "https://localhost:8080/"
        },
        "id": "j3PMDSVQL1wO",
        "outputId": "13bc800e-ec25-43a7-825f-29a1c2ba5625"
      },
      "source": [
        "TIME_STEPS = 288\n",
        "\n",
        "# Generated training sequences for use in the model.\n",
        "def create_sequences(values, time_steps=TIME_STEPS):\n",
        "    output = []\n",
        "    for i in range(len(values) - time_steps + 1):\n",
        "        output.append(values[i : (i + time_steps)])\n",
        "    return np.stack(output)\n",
        "\n",
        "\n",
        "x_train = create_sequences(df_training_value.values)\n",
        "print(\"Training input shape: \", x_train.shape)"
      ],
      "execution_count": null,
      "outputs": [
        {
          "output_type": "stream",
          "text": [
            "Training input shape:  (3745, 288, 1)\n"
          ],
          "name": "stdout"
        }
      ]
    },
    {
      "cell_type": "markdown",
      "metadata": {
        "id": "xdP8DThPL1wP"
      },
      "source": [
        "## Build a model\n",
        "\n",
        "We will build a convolutional reconstruction autoencoder model. The model will\n",
        "take input of shape `(batch_size, sequence_length, num_features)` and return\n",
        "output of the same shape. In this case, `sequence_length` is 288 and\n",
        "`num_features` is 1."
      ]
    },
    {
      "cell_type": "code",
      "metadata": {
        "colab": {
          "base_uri": "https://localhost:8080/"
        },
        "id": "mlyNVYopL1wP",
        "outputId": "5663e867-fcc7-444a-99d7-11664cc4d046"
      },
      "source": [
        "model = keras.Sequential(\n",
        "    [\n",
        "        layers.Input(shape=(x_train.shape[1], x_train.shape[2])),\n",
        "        layers.Conv1D(\n",
        "            filters=32, kernel_size=7, padding=\"same\", strides=2, activation=\"relu\"\n",
        "        ),\n",
        "        layers.Dropout(rate=0.2),\n",
        "        layers.Conv1D(\n",
        "            filters=16, kernel_size=7, padding=\"same\", strides=2, activation=\"relu\"\n",
        "        ),\n",
        "        layers.Conv1DTranspose(\n",
        "            filters=16, kernel_size=7, padding=\"same\", strides=2, activation=\"relu\"\n",
        "        ),\n",
        "        layers.Dropout(rate=0.2),\n",
        "        layers.Conv1DTranspose(\n",
        "            filters=32, kernel_size=7, padding=\"same\", strides=2, activation=\"relu\"\n",
        "        ),\n",
        "        layers.Conv1DTranspose(filters=1, kernel_size=7, padding=\"same\"),\n",
        "    ]\n",
        ")\n",
        "model.compile(optimizer=keras.optimizers.Adam(learning_rate=0.01), loss=\"mse\")\n",
        "model.summary()"
      ],
      "execution_count": null,
      "outputs": [
        {
          "output_type": "stream",
          "text": [
            "WARNING:tensorflow:Please add `keras.layers.InputLayer` instead of `keras.Input` to Sequential model. `keras.Input` is intended to be used by Functional model.\n",
            "Model: \"sequential_5\"\n",
            "_________________________________________________________________\n",
            "Layer (type)                 Output Shape              Param #   \n",
            "=================================================================\n",
            "conv1d_10 (Conv1D)           (None, 144, 32)           256       \n",
            "_________________________________________________________________\n",
            "dropout_10 (Dropout)         (None, 144, 32)           0         \n",
            "_________________________________________________________________\n",
            "conv1d_11 (Conv1D)           (None, 72, 16)            3600      \n",
            "_________________________________________________________________\n",
            "conv1d_transpose_15 (Conv1DT (None, 144, 16)           1808      \n",
            "_________________________________________________________________\n",
            "dropout_11 (Dropout)         (None, 144, 16)           0         \n",
            "_________________________________________________________________\n",
            "conv1d_transpose_16 (Conv1DT (None, 288, 32)           3616      \n",
            "_________________________________________________________________\n",
            "conv1d_transpose_17 (Conv1DT (None, 288, 1)            225       \n",
            "=================================================================\n",
            "Total params: 9,505\n",
            "Trainable params: 9,505\n",
            "Non-trainable params: 0\n",
            "_________________________________________________________________\n"
          ],
          "name": "stdout"
        }
      ]
    },
    {
      "cell_type": "markdown",
      "metadata": {
        "id": "zgOs2ejQL1wP"
      },
      "source": [
        "## Train the model\n",
        "\n",
        "Please note that we are using `x_train` as both the input and the target\n",
        "since this is a reconstruction model."
      ]
    },
    {
      "cell_type": "code",
      "metadata": {
        "colab": {
          "base_uri": "https://localhost:8080/"
        },
        "id": "CtDmtd0eL1wP",
        "outputId": "4ffaeafc-9711-49c4-8d11-5feb74a272a6"
      },
      "source": [
        "history = model.fit(\n",
        "    x_train,\n",
        "    x_train,\n",
        "    epochs=50,\n",
        "    batch_size=128,\n",
        "    validation_split=0.1,\n",
        "    callbacks=[\n",
        "        keras.callbacks.EarlyStopping(monitor=\"val_loss\", patience=5, mode=\"min\")\n",
        "    ],\n",
        ")"
      ],
      "execution_count": null,
      "outputs": [
        {
          "output_type": "stream",
          "text": [
            "Epoch 1/50\n",
            "27/27 [==============================] - 2s 82ms/step - loss: 0.0362 - val_loss: 0.0277\n",
            "Epoch 2/50\n",
            "27/27 [==============================] - 2s 80ms/step - loss: 0.0249 - val_loss: 0.0323\n",
            "Epoch 3/50\n",
            "27/27 [==============================] - 2s 79ms/step - loss: 0.0205 - val_loss: 0.0299\n",
            "Epoch 4/50\n",
            "27/27 [==============================] - 2s 78ms/step - loss: 0.0179 - val_loss: 0.0250\n",
            "Epoch 5/50\n",
            "27/27 [==============================] - 2s 81ms/step - loss: 0.0162 - val_loss: 0.0231\n",
            "Epoch 6/50\n",
            "27/27 [==============================] - 2s 80ms/step - loss: 0.0151 - val_loss: 0.0211\n",
            "Epoch 7/50\n",
            "27/27 [==============================] - 2s 79ms/step - loss: 0.0140 - val_loss: 0.0202\n",
            "Epoch 8/50\n",
            "27/27 [==============================] - 2s 81ms/step - loss: 0.0132 - val_loss: 0.0182\n",
            "Epoch 9/50\n",
            "27/27 [==============================] - 2s 81ms/step - loss: 0.0129 - val_loss: 0.0214\n",
            "Epoch 10/50\n",
            "27/27 [==============================] - 2s 81ms/step - loss: 0.0120 - val_loss: 0.0172\n",
            "Epoch 11/50\n",
            "27/27 [==============================] - 2s 80ms/step - loss: 0.0116 - val_loss: 0.0194\n",
            "Epoch 12/50\n",
            "27/27 [==============================] - 2s 80ms/step - loss: 0.0111 - val_loss: 0.0210\n",
            "Epoch 13/50\n",
            "27/27 [==============================] - 2s 80ms/step - loss: 0.0103 - val_loss: 0.0166\n",
            "Epoch 14/50\n",
            "27/27 [==============================] - 2s 79ms/step - loss: 0.0098 - val_loss: 0.0118\n",
            "Epoch 15/50\n",
            "27/27 [==============================] - 2s 79ms/step - loss: 0.0090 - val_loss: 0.0106\n",
            "Epoch 16/50\n",
            "27/27 [==============================] - 2s 80ms/step - loss: 0.0084 - val_loss: 0.0117\n",
            "Epoch 17/50\n",
            "27/27 [==============================] - 2s 80ms/step - loss: 0.0079 - val_loss: 0.0112\n",
            "Epoch 18/50\n",
            "27/27 [==============================] - 2s 80ms/step - loss: 0.0076 - val_loss: 0.0119\n",
            "Epoch 19/50\n",
            "27/27 [==============================] - 2s 80ms/step - loss: 0.0073 - val_loss: 0.0107\n",
            "Epoch 20/50\n",
            "27/27 [==============================] - 2s 80ms/step - loss: 0.0070 - val_loss: 0.0110\n"
          ],
          "name": "stdout"
        }
      ]
    },
    {
      "cell_type": "markdown",
      "metadata": {
        "id": "py65uiVYL1wQ"
      },
      "source": [
        "Let's plot training and validation loss to see how the training went."
      ]
    },
    {
      "cell_type": "code",
      "metadata": {
        "colab": {
          "base_uri": "https://localhost:8080/",
          "height": 279
        },
        "id": "EIiqyXB9L1wQ",
        "outputId": "49ef71d5-e178-4234-faab-bd39d685a31e"
      },
      "source": [
        "plt.semilogy(history.history[\"loss\"], label=\"Training Loss\")\n",
        "plt.semilogy(history.history[\"val_loss\"], label=\"Validation Loss\")\n",
        "plt.ylabel('Loss value')\n",
        "plt.xlabel('epoch')\n",
        "plt.legend()\n",
        "plt.show()"
      ],
      "execution_count": null,
      "outputs": [
        {
          "output_type": "display_data",
          "data": {
            "image/png": "[encoded data removed]",
            "text/plain": [
              "<Figure size 432x288 with 1 Axes>"
            ]
          },
          "metadata": {
            "tags": [],
            "needs_background": "light"
          }
        }
      ]
    },
    {
      "cell_type": "markdown",
      "metadata": {
        "id": "osRQKC8LL1wR"
      },
      "source": [
        "## Detecting anomalies\n",
        "\n",
        "We will detect anomalies by determining how well our model can reconstruct\n",
        "the input data.\n",
        "\n",
        "\n",
        "1.   Find MAE loss on training samples.\n",
        "2.   Find max MAE loss value. This is the worst our model has performed trying\n",
        "to reconstruct a sample. We will make this the `threshold` for anomaly\n",
        "detection.\n",
        "3.   If the reconstruction loss for a sample is greater than this `threshold`\n",
        "value then we can infer that the model is seeing a pattern that it isn't\n",
        "familiar with. We will label this sample as an `anomaly`.\n"
      ]
    },
    {
      "cell_type": "code",
      "metadata": {
        "colab": {
          "base_uri": "https://localhost:8080/",
          "height": 296
        },
        "id": "s2gsNKxmL1wR",
        "outputId": "e4936c9f-cfb3-4998-a14f-84f9d2eab184"
      },
      "source": [
        "# Get train MAE loss.\n",
        "x_train_pred = model.predict(x_train)\n",
        "train_mae_loss = np.mean(np.abs(x_train_pred - x_train), axis=1)\n",
        "\n",
        "plt.hist(train_mae_loss, bins=50)\n",
        "plt.xlabel(\"Train MAE loss\")\n",
        "plt.ylabel(\"No of samples\")\n",
        "plt.show()\n",
        "\n",
        "# Get reconstruction loss threshold.\n",
        "threshold = np.max(train_mae_loss)\n",
        "print(\"Reconstruction error threshold: \", threshold)"
      ],
      "execution_count": null,
      "outputs": [
        {
          "output_type": "display_data",
          "data": {
            "image/png": "[encoded data removed]",
            "text/plain": [
              "<Figure size 432x288 with 1 Axes>"
            ]
          },
          "metadata": {
            "tags": [],
            "needs_background": "light"
          }
        },
        {
          "output_type": "stream",
          "text": [
            "Reconstruction error threshold:  0.06919796281558628\n"
          ],
          "name": "stdout"
        }
      ]
    },
    {
      "cell_type": "markdown",
      "metadata": {
        "id": "0gEVTeB0L1wR"
      },
      "source": [
        "### Compare recontruction\n",
        "\n",
        "Just for fun, let's see how our model has recontructed the first sample.\n",
        "This is the 288 timesteps from day 1 of our training dataset."
      ]
    },
    {
      "cell_type": "code",
      "metadata": {
        "colab": {
          "base_uri": "https://localhost:8080/",
          "height": 265
        },
        "id": "SgnlzhQRL1wS",
        "outputId": "edff35ca-9b2d-4fb6-c440-b96ffe6f2361"
      },
      "source": [
        "# Checking how the first sequence is learnt\n",
        "plt.plot(x_train[0])\n",
        "plt.plot(x_train_pred[0])\n",
        "plt.show()"
      ],
      "execution_count": null,
      "outputs": [
        {
          "output_type": "display_data",
          "data": {
            "image/png": "[encoded data removed]",
            "text/plain": [
              "<Figure size 432x288 with 1 Axes>"
            ]
          },
          "metadata": {
            "tags": [],
            "needs_background": "light"
          }
        }
      ]
    },
    {
      "cell_type": "markdown",
      "metadata": {
        "id": "rW--QZRdL1wS"
      },
      "source": [
        "### Prepare test data"
      ]
    },
    {
      "cell_type": "code",
      "metadata": {
        "colab": {
          "base_uri": "https://localhost:8080/",
          "height": 1000
        },
        "id": "Kl7b9VqzL1wS",
        "outputId": "794ac989-9d29-4475-aa8b-6efbcb501bbf"
      },
      "source": [
        "\n",
        "df_test_value = (df_daily_jumpsup - training_mean) / training_std\n",
        "fig, ax = plt.subplots()\n",
        "df_test_value.plot(legend=False, ax=ax)\n",
        "plt.show()\n",
        "\n",
        "# Create sequences from test values.\n",
        "x_test = create_sequences(df_test_value.values)\n",
        "print(\"Test input shape: \", x_test.shape)\n",
        "\n",
        "# Get test MAE loss.\n",
        "x_test_pred = model.predict(x_test)\n",
        "test_mae_loss = np.mean(np.abs(x_test_pred - x_test), axis=1)\n",
        "test_mae_loss = test_mae_loss.reshape((-1))\n",
        "\n",
        "plt.hist(test_mae_loss, bins=50)\n",
        "plt.xlabel(\"test MAE loss\")\n",
        "plt.ylabel(\"No of samples\")\n",
        "plt.show()\n",
        "\n",
        "# Detect all the samples which are anomalies.\n",
        "anomalies = test_mae_loss > threshold\n",
        "print(\"Number of anomaly samples: \", np.sum(anomalies))\n",
        "print(\"Indices of anomaly samples: \", np.where(anomalies))"
      ],
      "execution_count": null,
      "outputs": [
        {
          "output_type": "display_data",
          "data": {
            "image/png": "[encoded data removed]",
            "text/plain": [
              "<Figure size 432x288 with 1 Axes>"
            ]
          },
          "metadata": {
            "tags": [],
            "needs_background": "light"
          }
        },
        {
          "output_type": "stream",
          "text": [
            "Test input shape:  (3745, 288, 1)\n"
          ],
          "name": "stdout"
        },
        {
          "output_type": "display_data",
          "data": {
            "image/png": "[encoded data removed]",
            "text/plain": [
              "<Figure size 432x288 with 1 Axes>"
            ]
          },
          "metadata": {
            "tags": [],
            "needs_background": "light"
          }
        },
        {
          "output_type": "stream",
          "text": [
            "Number of anomaly samples:  436\n",
            "Indices of anomaly samples:  (array([ 770,  771,  772,  773,  774,  775,  777,  778,  779,  780,  781,\n",
            "        782,  783,  785,  786,  787,  788,  789,  790,  791,  793,  794,\n",
            "        795,  799,  803,  806,  970,  971,  973, 1655, 1657, 1658, 1943,\n",
            "       1945, 1946, 2122, 2123, 2519, 2521, 2523, 2699, 2701, 2702, 2703,\n",
            "       2704, 2705, 2706, 2707, 2708, 2709, 2710, 2711, 2712, 2713, 2714,\n",
            "       2715, 2716, 2717, 2718, 2719, 2720, 2721, 2722, 2723, 2724, 2725,\n",
            "       2726, 2727, 2728, 2729, 2730, 2731, 2732, 2733, 2734, 2735, 2736,\n",
            "       2737, 2738, 2739, 2740, 2741, 2742, 2743, 2744, 2745, 2746, 2747,\n",
            "       2748, 2749, 2750, 2751, 2752, 2753, 2754, 2755, 2756, 2757, 2758,\n",
            "       2759, 2760, 2761, 2762, 2763, 2764, 2765, 2766, 2767, 2768, 2769,\n",
            "       2770, 2771, 2772, 2773, 2774, 2775, 2776, 2777, 2778, 2779, 2780,\n",
            "       2781, 2782, 2783, 2784, 2785, 2786, 2787, 2788, 2789, 2790, 2791,\n",
            "       2792, 2793, 2794, 2795, 2796, 2797, 2798, 2799, 2800, 2801, 2802,\n",
            "       2803, 2804, 2805, 2806, 2807, 2808, 2809, 2810, 2811, 2812, 2813,\n",
            "       2814, 2815, 2816, 2817, 2818, 2819, 2820, 2821, 2822, 2823, 2824,\n",
            "       2825, 2826, 2827, 2828, 2829, 2830, 2831, 2832, 2833, 2834, 2835,\n",
            "       2836, 2837, 2838, 2839, 2840, 2841, 2842, 2843, 2844, 2845, 2846,\n",
            "       2847, 2848, 2849, 2850, 2851, 2852, 2853, 2854, 2855, 2856, 2857,\n",
            "       2858, 2859, 2860, 2861, 2862, 2863, 2864, 2865, 2866, 2867, 2868,\n",
            "       2869, 2870, 2871, 2872, 2873, 2874, 2875, 2876, 2877, 2878, 2879,\n",
            "       2880, 2881, 2882, 2883, 2884, 2885, 2886, 2887, 2888, 2889, 2890,\n",
            "       2891, 2892, 2893, 2894, 2895, 2896, 2897, 2898, 2899, 2900, 2901,\n",
            "       2902, 2903, 2904, 2905, 2906, 2907, 2908, 2909, 2910, 2911, 2912,\n",
            "       2913, 2914, 2915, 2916, 2917, 2918, 2919, 2920, 2921, 2922, 2923,\n",
            "       2924, 2925, 2926, 2927, 2928, 2929, 2930, 2931, 2932, 2933, 2934,\n",
            "       2935, 2936, 2937, 2938, 2939, 2940, 2941, 2942, 2943, 2944, 2945,\n",
            "       2946, 2947, 2948, 2949, 2950, 2951, 2952, 2953, 2954, 2955, 2956,\n",
            "       2957, 2958, 2959, 2960, 2961, 2962, 2963, 2964, 2965, 2966, 2967,\n",
            "       2968, 2969, 2970, 2971, 2972, 2973, 2974, 2975, 2976, 2977, 2978,\n",
            "       2979, 2980, 2981, 2982, 2983, 2984, 2985, 2986, 2987, 2988, 2989,\n",
            "       2990, 2991, 2992, 2993, 2994, 2995, 2996, 2997, 2998, 2999, 3000,\n",
            "       3001, 3002, 3003, 3004, 3005, 3006, 3007, 3008, 3009, 3010, 3011,\n",
            "       3012, 3013, 3014, 3015, 3016, 3017, 3018, 3019, 3020, 3021, 3022,\n",
            "       3023, 3024, 3025, 3026, 3027, 3028, 3029, 3030, 3031, 3032, 3033,\n",
            "       3034, 3035, 3036, 3037, 3038, 3039, 3040, 3041, 3042, 3043, 3044,\n",
            "       3045, 3046, 3047, 3048, 3049, 3050, 3051, 3052, 3053, 3054, 3055,\n",
            "       3056, 3057, 3058, 3059, 3060, 3061, 3062, 3063, 3064, 3065, 3066,\n",
            "       3067, 3068, 3069, 3070, 3071, 3072, 3073, 3074, 3075, 3076, 3077,\n",
            "       3078, 3079, 3080, 3081, 3082, 3083, 3084, 3085, 3086, 3087, 3088,\n",
            "       3089, 3090, 3091, 3092, 3093, 3094, 3095]),)\n"
          ],
          "name": "stdout"
        }
      ]
    },
    {
      "cell_type": "markdown",
      "metadata": {
        "id": "obVkeAAaL1wS"
      },
      "source": [
        "## Plot anomalies\n",
        "\n",
        "We now know the samples of the data which are anomalies. With this, we will\n",
        "find the corresponding `timestamps` from the original test data. We will be\n",
        "using the following method to do that:\n",
        "\n",
        "Let's say time_steps = 3 and we have 10 training values. Our `x_train` will\n",
        "look like this:\n",
        "\n",
        "- 0, 1, 2\n",
        "- 1, 2, 3\n",
        "- 2, 3, 4\n",
        "- 3, 4, 5\n",
        "- 4, 5, 6\n",
        "- 5, 6, 7\n",
        "- 6, 7, 8\n",
        "- 7, 8, 9\n",
        "\n",
        "All except the initial and the final time_steps-1 data values, will appear in\n",
        "`time_steps` number of samples. So, if we know that the samples\n",
        "[(3, 4, 5), (4, 5, 6), (5, 6, 7)] are anomalies, we can say that the data point\n",
        "5 is an anomaly."
      ]
    },
    {
      "cell_type": "code",
      "metadata": {
        "id": "5f_mxWgNL1wT"
      },
      "source": [
        "# data i is an anomaly if samples [(i - timesteps + 1) to (i)] are anomalies\n",
        "anomalous_data_indices = []\n",
        "for data_idx in range(TIME_STEPS - 1, len(df_test_value) - TIME_STEPS + 1):\n",
        "    if np.all(anomalies[data_idx - TIME_STEPS + 1 : data_idx]):\n",
        "        anomalous_data_indices.append(data_idx)"
      ],
      "execution_count": null,
      "outputs": []
    },
    {
      "cell_type": "markdown",
      "metadata": {
        "id": "m7f7YtsdL1wT"
      },
      "source": [
        "Let's overlay the anomalies on the original test data plot."
      ]
    },
    {
      "cell_type": "code",
      "metadata": {
        "colab": {
          "base_uri": "https://localhost:8080/",
          "height": 303
        },
        "id": "_Sa0lJjqL1wT",
        "outputId": "c84741a0-208e-43bb-b7f0-5a8fd96a12be"
      },
      "source": [
        "df_subset = df_daily_jumpsup.iloc[anomalous_data_indices]\n",
        "fig, ax = plt.subplots()\n",
        "df_daily_jumpsup.plot(legend=False, ax=ax)\n",
        "df_subset.plot(legend=False, ax=ax, color=\"r\")\n",
        "plt.show()"
      ],
      "execution_count": null,
      "outputs": [
        {
          "output_type": "display_data",
          "data": {
            "image/png": "[encoded data removed]",
            "text/plain": [
              "<Figure size 432x288 with 1 Axes>"
            ]
          },
          "metadata": {
            "tags": [],
            "needs_background": "light"
          }
        }
      ]
    },
    {
      "cell_type": "markdown",
      "metadata": {
        "id": "FUJnwx-USvrQ"
      },
      "source": [
        "# Exercises:"
      ]
    },
    {
      "cell_type": "markdown",
      "metadata": {
        "id": "tY_AuH8vQCs5"
      },
      "source": [
        "## Learning rate schedule\n",
        "* Train model using SGD optimizer with default hyperparameters. \n",
        "* Train model using SGD optimizer with learning rate decay. Instructions can be found via [this](https://keras.io/api/optimizers/learning_rate_schedules/) link. \n",
        "* Compare the results.\n",
        "\n",
        "  Optional: Log results with wandb"
      ]
    },
    {
      "cell_type": "code",
      "metadata": {
        "id": "T35fwijCM9r0"
      },
      "source": [
        "from keras.optimizers import SGD\n",
        "\n",
        "lr_schedule = keras.optimizers.schedules.ExponentialDecay(\n",
        "    initial_learning_rate=1e-2,\n",
        "    decay_steps=10000,\n",
        "    decay_rate=0.9)\n",
        "optimizer = SGD(learning_rate=lr_schedule)"
      ],
      "execution_count": null,
      "outputs": []
    },
    {
      "cell_type": "markdown",
      "metadata": {
        "id": "OOLG-wkwS0Zq"
      },
      "source": [
        "## Acceleration\n",
        "* Train model using SGD optimizer with default hyperparameters. \n",
        "* Train model using SGD optimizer with momentum term. \n",
        "* Train model using SGD optimizer with nesterov momentum term. Instructions can be found via [this](https://keras.io/api/optimizers/sgd/) link.  \n",
        "* Compare the results.\n",
        "\n",
        "  Optional: Log results with wandb"
      ]
    },
    {
      "cell_type": "code",
      "metadata": {
        "id": "gqI01CZRS5pK"
      },
      "source": [
        ""
      ],
      "execution_count": null,
      "outputs": []
    },
    {
      "cell_type": "markdown",
      "metadata": {
        "id": "hBA9Go-KS77I"
      },
      "source": [
        "## Adaptive methods\n",
        "* Train model using SGD optimizer with default hyperparameters. \n",
        "* Train model using any adaptive method. Instructions can be found via [this](https://keras.io/api/optimizers/) link.  \n",
        "* Compare the results.\n",
        "\n",
        "  Optional: Log results with wandb"
      ]
    },
    {
      "cell_type": "code",
      "metadata": {
        "id": "Ks3AaUqxTQty"
      },
      "source": [
        ""
      ],
      "execution_count": null,
      "outputs": []
    },
    {
      "cell_type": "markdown",
      "metadata": {
        "id": "YIme_FcBX_Nz"
      },
      "source": [
        "[Link](https://colab.research.google.com/github/wandb/examples/blob/master/colabs/keras/Simple_Keras_Integration.ipynb) to the keras + wandb."
      ]
    },
    {
      "cell_type": "code",
      "metadata": {
        "id": "HrN5PgyzYDeG"
      },
      "source": [
        "%%capture\n",
        "!pip install wandb"
      ],
      "execution_count": null,
      "outputs": []
    },
    {
      "cell_type": "code",
      "metadata": {
        "colab": {
          "base_uri": "https://localhost:8080/"
        },
        "id": "qWQriTbvYI9t",
        "outputId": "dda8e13f-d772-4989-8a78-57283aeb1902"
      },
      "source": [
        "import wandb\n",
        "from wandb.keras import WandbCallback\n",
        "\n",
        "!wandb login"
      ],
      "execution_count": null,
      "outputs": [
        {
          "output_type": "stream",
          "text": [
            "\u001b[34m\u001b[1mwandb\u001b[0m: You can find your API key in your browser here: https://wandb.ai/authorize\n",
            "\u001b[34m\u001b[1mwandb\u001b[0m: Paste an API key from your profile and hit enter: \n",
            "\u001b[34m\u001b[1mwandb\u001b[0m: Appending key for api.wandb.ai to your netrc file: /root/.netrc\n"
          ],
          "name": "stdout"
        }
      ]
    },
    {
      "cell_type": "code",
      "metadata": {
        "colab": {
          "base_uri": "https://localhost:8080/",
          "height": 302,
          "referenced_widgets": [
            "831ee17934e741d6b1b4c643282cee08",
            "441ff943820c4ce584f27be437507c68",
            "42ee349f48f74aa5a0ea9698d373e1bc",
            "1172a57806e648399d4b842a683a72d2",
            "3f83df4611524db98b3166d5e6be0934",
            "4cc82747f4754f319d8d9861a0c99b61",
            "c7d4cd0e5b704c5086826eca25ba2bda",
            "2ebd3e9724c848b685d873a3ed437c57"
          ]
        },
        "id": "qqUqJbbDYMcF",
        "outputId": "fc591948-87eb-4fc7-e14e-af7c2f88c04f"
      },
      "source": [
        "# Initialize wandb with your project name\n",
        "run = wandb.init(project='my-keras-integration',\n",
        "                 config={  # and include hyperparameters and metadata\n",
        "                     \"learning_rate\": 0.01,\n",
        "                     \"epochs\": 50,\n",
        "                     \"batch_size\": 128,\n",
        "                     \"loss_function\": \"mse\",\n",
        "                     \"architecture\": \"Autoencoder\",\n",
        "                     \"dataset\": \"Daily anomaly\"\n",
        "                 })\n",
        "config = wandb.config  # We'll use this to configure our experiment"
      ],
      "execution_count": null,
      "outputs": [
        {
          "output_type": "display_data",
          "data": {
            "text/html": [
              "Finishing last run (ID:33umpjae) before initializing another..."
            ],
            "text/plain": [
              "<IPython.core.display.HTML object>"
            ]
          },
          "metadata": {
            "tags": []
          }
        },
        {
          "output_type": "display_data",
          "data": {
            "text/html": [
              "<br/>Waiting for W&B process to finish, PID 930<br/>Program ended successfully."
            ],
            "text/plain": [
              "<IPython.core.display.HTML object>"
            ]
          },
          "metadata": {
            "tags": []
          }
        },
        {
          "output_type": "display_data",
          "data": {
            "application/vnd.jupyter.widget-view+json": {
              "model_id": "831ee17934e741d6b1b4c643282cee08",
              "version_minor": 0,
              "version_major": 2
            },
            "text/plain": [
              "VBox(children=(Label(value=' 0.00MB of 0.00MB uploaded (0.00MB deduped)\\r'), FloatProgress(value=1.0, max=1.0)…"
            ]
          },
          "metadata": {
            "tags": []
          }
        },
        {
          "output_type": "display_data",
          "data": {
            "text/html": [
              "Find user logs for this run at: <code>/content/wandb/run-20210616_151424-33umpjae/logs/debug.log</code>"
            ],
            "text/plain": [
              "<IPython.core.display.HTML object>"
            ]
          },
          "metadata": {
            "tags": []
          }
        },
        {
          "output_type": "display_data",
          "data": {
            "text/html": [
              "Find internal logs for this run at: <code>/content/wandb/run-20210616_151424-33umpjae/logs/debug-internal.log</code>"
            ],
            "text/plain": [
              "<IPython.core.display.HTML object>"
            ]
          },
          "metadata": {
            "tags": []
          }
        },
        {
          "output_type": "display_data",
          "data": {
            "text/html": [
              "Synced 4 W&B file(s), 0 media file(s), 0 artifact file(s) and 0 other file(s)"
            ],
            "text/plain": [
              "<IPython.core.display.HTML object>"
            ]
          },
          "metadata": {
            "tags": []
          }
        },
        {
          "output_type": "display_data",
          "data": {
            "text/html": [
              "\n",
              "                    <br/>Synced <strong style=\"color:#cdcd00\">avid-flower-1</strong>: <a href=\"https://wandb.ai/skoltech_optimization/my-keras-integration/runs/33umpjae\" target=\"_blank\">https://wandb.ai/skoltech_optimization/my-keras-integration/runs/33umpjae</a><br/>\n",
              "                "
            ],
            "text/plain": [
              "<IPython.core.display.HTML object>"
            ]
          },
          "metadata": {
            "tags": []
          }
        },
        {
          "output_type": "display_data",
          "data": {
            "text/html": [
              "...Successfully finished last run (ID:33umpjae). Initializing new run:<br/><br/>"
            ],
            "text/plain": [
              "<IPython.core.display.HTML object>"
            ]
          },
          "metadata": {
            "tags": []
          }
        },
        {
          "output_type": "display_data",
          "data": {
            "text/html": [
              "\n",
              "                Tracking run with wandb version 0.10.32<br/>\n",
              "                Syncing run <strong style=\"color:#cdcd00\">autumn-pyramid-2</strong> to <a href=\"https://wandb.ai\" target=\"_blank\">Weights & Biases</a> <a href=\"https://docs.wandb.com/integrations/jupyter.html\" target=\"_blank\">(Documentation)</a>.<br/>\n",
              "                Project page: <a href=\"https://wandb.ai/skoltech_optimization/my-keras-integration\" target=\"_blank\">https://wandb.ai/skoltech_optimization/my-keras-integration</a><br/>\n",
              "                Run page: <a href=\"https://wandb.ai/skoltech_optimization/my-keras-integration/runs/2gfgrmjp\" target=\"_blank\">https://wandb.ai/skoltech_optimization/my-keras-integration/runs/2gfgrmjp</a><br/>\n",
              "                Run data is saved locally in <code>/content/wandb/run-20210616_151635-2gfgrmjp</code><br/><br/>\n",
              "            "
            ],
            "text/plain": [
              "<IPython.core.display.HTML object>"
            ]
          },
          "metadata": {
            "tags": []
          }
        }
      ]
    }
  ]
}