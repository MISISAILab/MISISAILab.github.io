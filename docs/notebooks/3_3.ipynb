{
  "nbformat": 4,
  "nbformat_minor": 0,
  "metadata": {
    "colab": {
      "name": "Subgradient.ipynb",
      "provenance": []
    },
    "kernelspec": {
      "name": "python3",
      "display_name": "Python 3"
    },
    "language_info": {
      "name": "python"
    },
    "accelerator": "GPU"
  },
  "cells": [
    {
      "cell_type": "markdown",
      "metadata": {
        "id": "IlmMikR6ov-P"
      },
      "source": [
        "# Subgradient"
      ]
    },
    {
      "cell_type": "markdown",
      "metadata": {
        "id": "BF8na1sNoyjh"
      },
      "source": [
        "## Subgradient calculus\n"
      ]
    },
    {
      "cell_type": "markdown",
      "metadata": {
        "id": "Gy-3ZVFRfxIe"
      },
      "source": [
        "1. Find $\\partial f(x)$, if $$f(x) = \\text{ReLU}(x) = \\max \\{0, x\\}$$"
      ]
    },
    {
      "cell_type": "markdown",
      "metadata": {
        "id": "lzo5bVNtoVqI"
      },
      "source": [
        "<font color=\"lime\"> ==YOUR ANSWER== </font>"
      ]
    },
    {
      "cell_type": "markdown",
      "metadata": {
        "id": "54T1MoPBgGXf"
      },
      "source": [
        "2. Find $\\partial f(x)$, if:\n",
        "\n",
        "$$\n",
        "f(x)=\\left|x-5\\right|+2\\left|10-x\\right|\\ +\\ 5\\left|x-9\\right|\n",
        "$$"
      ]
    },
    {
      "cell_type": "markdown",
      "metadata": {
        "id": "eySPItrxoWXR"
      },
      "source": [
        "<font color=\"lime\"> ==YOUR ANSWER== </font>"
      ]
    },
    {
      "cell_type": "markdown",
      "metadata": {
        "id": "fABDDtxxo8W4"
      },
      "source": [
        "## Support Vector Machines\n",
        "\n",
        "3. In a linear classification problem, we're given $m$ labeled points $(a_i, y_i)$ and we wish to find a hyperplane given by a vector $x$ that separates them so that \n",
        "\n",
        "* $\\langle a_i, x\\rangle \\ge 1$ when $y_i=1$, and \n",
        "* $\\langle a_i, x\\rangle \\le -1$ when $y_i = -1$\n",
        "\n",
        "The smaller the norm $\\|x\\|$ the larger the *margin* between positive and negative instances. Therefore, it makes sense to throw in a regularizer that penalizes large norms. This leads to the objective.\n",
        "\n",
        "<p>\n",
        "$$\\frac 1m \\sum_{i=1}^m \\max\\{1-y_i(a_i^\\top x), 0\\} + \\frac{\\alpha}2\\|x\\|^2$$\n",
        "</p>"
      ]
    },
    {
      "cell_type": "code",
      "metadata": {
        "collapsed": true,
        "id": "9rrznJqdR3n0"
      },
      "source": [
        "def hinge_loss(z):\n",
        "    return np.maximum(1.-z, np.zeros(z.shape))\n",
        "\n",
        "def svm_objective(A, y, x, alpha=0.1):\n",
        "    \"\"\"SVM objective.\"\"\"\n",
        "    m, _ = A.shape\n",
        "    return np.mean(hinge_loss(np.diag(y).dot(A.dot(x))))+(alpha/2)*x.dot(x)"
      ],
      "execution_count": null,
      "outputs": []
    },
    {
      "cell_type": "code",
      "metadata": {
        "id": "UeY7x_oJR3n0",
        "colab": {
          "base_uri": "https://localhost:8080/",
          "height": 623
        },
        "outputId": "2864903a-739f-4544-a281-b7fab646ac2f"
      },
      "source": [
        "z = np.linspace(-2, 2, 100)\n",
        "plt.figure(figsize=(12,10))\n",
        "plt.plot(z, hinge_loss(z), **kwargs)"
      ],
      "execution_count": null,
      "outputs": [
        {
          "output_type": "execute_result",
          "data": {
            "text/plain": [
              "[<matplotlib.lines.Line2D at 0x7f2a3a070c50>]"
            ]
          },
          "metadata": {
            "tags": []
          },
          "execution_count": 55
        },
        {
          "output_type": "display_data",
          "data": {
            "image/png": "[encoded data removed]",
            "text/plain": [
              "<Figure size 864x720 with 1 Axes>"
            ]
          },
          "metadata": {
            "tags": [],
            "needs_background": "light"
          }
        }
      ]
    },
    {
      "cell_type": "code",
      "metadata": {
        "collapsed": true,
        "id": "m2Hjw9rdR3n1"
      },
      "source": [
        "def hinge_subgradient(z):\n",
        "    g = np.zeros(z.shape)\n",
        "    g[z < 1] = -1.\n",
        "    return g\n",
        "\n",
        "def svm_subgradient(A, y, x, alpha=0.1):\n",
        "    ###\n",
        "    ### YOU CODE IS HERE\n",
        "    ###\n",
        "    return 0"
      ],
      "execution_count": null,
      "outputs": []
    },
    {
      "cell_type": "code",
      "metadata": {
        "id": "ur2qZ5xFR3n1"
      },
      "source": [
        "plt.figure(figsize=(12,10))\n",
        "plt.plot(z, hinge_subgradient(z), **kwargs)"
      ],
      "execution_count": null,
      "outputs": []
    },
    {
      "cell_type": "code",
      "metadata": {
        "collapsed": true,
        "id": "y8H8e2w3R3n1"
      },
      "source": [
        "m, n = 1000, 100\n",
        "A = np.vstack([np.random.normal(0.1, 1, (m//2, n)),\n",
        "               np.random.normal(-0.1, 1, (m//2, n))])\n",
        "y = np.hstack([np.ones(m//2), -1.*np.ones(m//2)])\n",
        "x0 = np.random.normal(0, 1, n)\n",
        "xs = gradient_descent(x0, [0.01]*100, \n",
        "                      lambda x: svm_subgradient(A, y, x, 0.05))"
      ],
      "execution_count": null,
      "outputs": []
    },
    {
      "cell_type": "code",
      "metadata": {
        "id": "9F4phTFTR3n1"
      },
      "source": [
        "error_plot([svm_objective(A, y, x) for x in xs])"
      ],
      "execution_count": null,
      "outputs": []
    },
    {
      "cell_type": "markdown",
      "metadata": {
        "id": "JG576Bb2R3n1"
      },
      "source": [
        "Let's see if averaging out the solutions gives us an improved function value."
      ]
    },
    {
      "cell_type": "code",
      "metadata": {
        "id": "cB14VEkeR3n2",
        "colab": {
          "base_uri": "https://localhost:8080/"
        },
        "outputId": "fb5a6278-b250-4581-a114-2d351a4fb3bd"
      },
      "source": [
        "xavg = 0.0\n",
        "for x in xs:\n",
        "    xavg += x\n",
        "svm_objective(A, y, xs[-1]), svm_objective(A, y, xavg/len(xs))"
      ],
      "execution_count": null,
      "outputs": [
        {
          "output_type": "execute_result",
          "data": {
            "text/plain": [
              "(1.1027879681041983, 0.9452897105048998)"
            ]
          },
          "metadata": {
            "tags": []
          },
          "execution_count": 260
        }
      ]
    },
    {
      "cell_type": "markdown",
      "metadata": {
        "id": "vCmqyPUkR3n2"
      },
      "source": [
        "We can also look at the accuracy of our linear model for predicting the labels. From how we defined the data, we can see that the all ones vector is the highest accuracy classifier in the limit of infinite data (very large $m$). For a finite data set, the accuracy could be even higher due to random fluctuations."
      ]
    },
    {
      "cell_type": "code",
      "metadata": {
        "collapsed": true,
        "id": "lSIMilJRR3n2"
      },
      "source": [
        "def accuracy(A, y, x):\n",
        "    return np.mean(np.diag(y).dot(A.dot(x))>0)"
      ],
      "execution_count": null,
      "outputs": []
    },
    {
      "cell_type": "code",
      "metadata": {
        "scrolled": false,
        "id": "8_YwUiGXR3n2"
      },
      "source": [
        "plt.figure(figsize=(12,10))\n",
        "plt.ylabel('Accuracy')\n",
        "plt.xlabel('Step')\n",
        "plt.plot(range(len(xs)), [accuracy(A, y, x) for x in xs], **kwargs)\n",
        "plt.plot(range(len(xs)), [accuracy(A, y, np.ones(n))]*len(xs),\n",
        "        label='Population optimum', **kwargs)\n",
        "_ = plt.legend()"
      ],
      "execution_count": null,
      "outputs": []
    },
    {
      "cell_type": "markdown",
      "metadata": {
        "id": "5SbbNJKXR3n2"
      },
      "source": [
        "We see that the accuracy spikes pretty early and drops a bit as we train for too long."
      ]
    },
    {
      "cell_type": "code",
      "metadata": {
        "id": "TUfCOFGvo95r"
      },
      "source": [
        ""
      ],
      "execution_count": null,
      "outputs": []
    }
  ]
}