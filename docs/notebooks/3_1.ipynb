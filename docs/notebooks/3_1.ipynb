{
  "nbformat": 4,
  "nbformat_minor": 0,
  "metadata": {
    "colab": {
      "name": "Convex sets.ipynb",
      "provenance": []
    },
    "kernelspec": {
      "name": "python3",
      "display_name": "Python 3"
    },
    "language_info": {
      "name": "python"
    }
  },
  "cells": [
    {
      "cell_type": "markdown",
      "metadata": {
        "id": "6JTuTSjwnmc7"
      },
      "source": [
        "# Convex sets"
      ]
    },
    {
      "cell_type": "markdown",
      "metadata": {
        "id": "UUCyT41nnoaF"
      },
      "source": [
        "## (a)\n",
        "Prove that set of positive definite matrices $S^n_{++}$ is convex."
      ]
    },
    {
      "cell_type": "markdown",
      "metadata": {
        "id": "nkCLTuggpqd4"
      },
      "source": [
        ""
      ]
    },
    {
      "cell_type": "markdown",
      "metadata": {
        "id": "mfiJx7xDpbwS"
      },
      "source": [
        "## (b)\n",
        "Let $x \\in \\mathbb{R}$ is a random variable with a given probability distribution of $\\mathbb{P}(x = a_i) = p_i$, where $i = 1, \\ldots, n$, and $a_1 < \\ldots < a_n$. It is said that the probability vector of outcomes of $p \\in \\mathbb{R}^n$ belongs to the probabilistic simplex, i.e. $P = \\{ p \\mid \\mathbf{1}^Tp = 1, p \\succeq 0 \\} = \\{ p \\mid p_1 + \\ldots + p_n = 1, p_i \\ge 0 \\}$. \n",
        "\n",
        "Determine if the following sets of $p$ are convex:\n",
        "    \n",
        "1. $\\mathbb{P}(x > \\alpha) \\le \\beta$\n",
        "1. $\\mathbb{E} \\vert x^{201}\\vert \\le \\alpha \\mathbb{E}\\vert x \\vert$\n",
        "1. $\\mathbb{E} \\vert x^{2}\\vert \\ge \\alpha $\n",
        "1. $\\mathbb{V}x \\ge \\alpha$ "
      ]
    },
    {
      "cell_type": "markdown",
      "metadata": {
        "id": "8yUYzqgUpq6Q"
      },
      "source": [
        ""
      ]
    }
  ]
}