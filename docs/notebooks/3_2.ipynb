{
  "nbformat": 4,
  "nbformat_minor": 0,
  "metadata": {
    "colab": {
      "name": "Convex functions.ipynb",
      "provenance": []
    },
    "kernelspec": {
      "name": "python3",
      "display_name": "Python 3"
    },
    "language_info": {
      "name": "python"
    }
  },
  "cells": [
    {
      "cell_type": "markdown",
      "metadata": {
        "id": "6JTuTSjwnmc7"
      },
      "source": [
        "# Convex functions"
      ]
    },
    {
      "cell_type": "markdown",
      "metadata": {
        "id": "UUCyT41nnoaF"
      },
      "source": [
        "## (a)\n",
        "Prove that $f(x) = |x|$ is convex function."
      ]
    },
    {
      "cell_type": "markdown",
      "metadata": {
        "id": "nkCLTuggpqd4"
      },
      "source": [
        ""
      ]
    },
    {
      "cell_type": "markdown",
      "metadata": {
        "id": "mfiJx7xDpbwS"
      },
      "source": [
        "## (b)\n",
        "Prove that $f(x) = x^T A x$ is strongly convex and find strong convexity constant."
      ]
    },
    {
      "cell_type": "markdown",
      "metadata": {
        "id": "8yUYzqgUpq6Q"
      },
      "source": [
        ""
      ]
    },
    {
      "cell_type": "markdown",
      "metadata": {
        "id": "tdHttmXYqPFZ"
      },
      "source": [
        "## (c)\n",
        "$l_2$ regularization is a common technique in machine learning. And it has interesting optimization explanation: adding $l_2$ regularization to a convex function $f(x)$ makes $g(x) = f(x) + \\lambda \\|x\\|_2^2$ - strongly convex function. Your task is to prove this statement.\n",
        "\n",
        "Prove, that adding $\\lambda \\|x\\|_2^2$ to any convex function $f(x)$ ensures strong convexity of a resulting function $g(x) = f(x) + \\lambda \\|x\\|_2^2$. Find the constant of the strong convexity $\\mu$."
      ]
    },
    {
      "cell_type": "markdown",
      "metadata": {
        "id": "5HTW4torqzpt"
      },
      "source": [
        ""
      ]
    }
  ]
}