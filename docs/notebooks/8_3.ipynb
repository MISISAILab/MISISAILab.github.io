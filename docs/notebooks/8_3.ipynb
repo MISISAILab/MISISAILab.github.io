{
  "nbformat": 4,
  "nbformat_minor": 0,
  "metadata": {
    "colab": {
      "name": "MIP Exercise.ipynb",
      "provenance": []
    },
    "kernelspec": {
      "name": "python3",
      "display_name": "Python 3"
    },
    "language_info": {
      "name": "python"
    }
  },
  "cells": [
    {
      "cell_type": "markdown",
      "metadata": {
        "id": "s_aQ-rtVzrHo"
      },
      "source": [
        "# 👑 Mixed Integer Programming with N queens puzzle"
      ]
    },
    {
      "cell_type": "markdown",
      "metadata": {
        "id": "iv_HR_RziEzk"
      },
      "source": [
        "![](https://fmin.xyz/docs/methods/zom/queens.svg)\n",
        "\n",
        "In the n-queens puzzle n chess queens should to be placed in a board with n×n cells in a way that no queen can attack another, i.e., there must be at most one queen per row, column and diagonal. This is a constraint satisfaction problem: any feasible solution is acceptable and no objective function is defined.\n",
        "\n",
        "Formulate this task and solve using `mip`"
      ]
    },
    {
      "cell_type": "markdown",
      "metadata": {
        "id": "1ZvnNvb-kmcc"
      },
      "source": [
        "<font color=\"lime\"> ==YOUR FORMULATION== </font>"
      ]
    },
    {
      "cell_type": "code",
      "metadata": {
        "id": "vbj80H71iIn-"
      },
      "source": [
        "!pip install mip --quiet"
      ],
      "execution_count": null,
      "outputs": []
    },
    {
      "cell_type": "code",
      "metadata": {
        "id": "dqmFqotjmXlN"
      },
      "source": [
        "from mip import Model, xsum, BINARY"
      ],
      "execution_count": null,
      "outputs": []
    },
    {
      "cell_type": "markdown",
      "metadata": {
        "id": "oyJexQ1pmPs_"
      },
      "source": [
        "To create problem one use `mip.Model`"
      ]
    },
    {
      "cell_type": "code",
      "metadata": {
        "id": "7yciS9pJmWOq"
      },
      "source": [
        "queens = Model()"
      ],
      "execution_count": null,
      "outputs": []
    },
    {
      "cell_type": "markdown",
      "metadata": {
        "id": "_UPEkkN2mbMY"
      },
      "source": [
        "To add variables we use `Model().add_var()`"
      ]
    },
    {
      "cell_type": "code",
      "metadata": {
        "id": "zdLtVEA1m7zM"
      },
      "source": [
        "x = [[queens.add_var('x({},{})'.format(i, j), var_type=BINARY)\n",
        "      for j in range(n)] for i in range(n)]"
      ],
      "execution_count": null,
      "outputs": []
    },
    {
      "cell_type": "markdown",
      "metadata": {
        "id": "fPGcyhkFntiN"
      },
      "source": [
        "To add constraint we use same interface as in `PuLP`"
      ]
    },
    {
      "cell_type": "code",
      "metadata": {
        "id": "bfFVc9yvnAbx"
      },
      "source": [
        "#Constraint for one in row\n",
        "\n",
        "for i in range(n):\n",
        "    queens += xsum(x[i][j] for j in range(n)) == 1, 'row({})'.format(i)"
      ],
      "execution_count": null,
      "outputs": []
    },
    {
      "cell_type": "code",
      "metadata": {
        "id": "DF6USx4RnAuY"
      },
      "source": [
        "# Constraint for less than one on the diagonal\n",
        "for p, k in enumerate(range(2 - n, n - 2 + 1)):\n",
        "    queens += xsum(x[i][i - k] for i in range(n)\n",
        "                   if 0 <= i - k < n) <= 1, 'diag1({})'.format(p)"
      ],
      "execution_count": null,
      "outputs": []
    },
    {
      "cell_type": "markdown",
      "metadata": {
        "id": "Nx6knPH8oATN"
      },
      "source": [
        "Your task is to add constaint for column and the other diagonal. Then use `queens.optimize()` to find solution. After that, try to visualize gained checkerboard"
      ]
    },
    {
      "cell_type": "code",
      "metadata": {
        "id": "_Nr97YaeoVHt"
      },
      "source": [
        "### YOUR CODE"
      ],
      "execution_count": null,
      "outputs": []
    },
    {
      "cell_type": "code",
      "metadata": {
        "id": "UMO9BQXeksba"
      },
      "source": [
        "### Visualization of solution"
      ],
      "execution_count": null,
      "outputs": []
    }
  ]
}