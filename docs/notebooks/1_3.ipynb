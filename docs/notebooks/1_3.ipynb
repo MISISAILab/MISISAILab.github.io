{
  "nbformat": 4,
  "nbformat_minor": 0,
  "metadata": {
    "colab": {
      "name": "1_3_CVXPY_vs_SciPy.ipynb",
      "provenance": []
    },
    "kernelspec": {
      "name": "python3",
      "display_name": "Python 3"
    },
    "language_info": {
      "name": "python"
    }
  },
  "cells": [
    {
      "cell_type": "markdown",
      "metadata": {
        "id": "__eKfiGy8RN9"
      },
      "source": [
        "# Scipy vs CVXPY in conditional optimization"
      ]
    },
    {
      "cell_type": "markdown",
      "metadata": {
        "id": "RV9BDsok-CbJ"
      },
      "source": [
        "Implement the solutions of the following two problems in CVXPY and scipy. Compare them in terms of time and closeness."
      ]
    },
    {
      "cell_type": "markdown",
      "metadata": {
        "id": "JJDn5v5phdnP"
      },
      "source": [
        "## Constrained linear least squares\n",
        "\n",
        "$$\n",
        "\\begin{split} &\\|X \\theta - y\\|^2_2 \\to \\min\\limits_{\\theta \\in \\mathbb{R}^{n} } \\\\ \\text{s.t. } & 0_n \\leq \\theta \\leq 1_n \\end{split}\n",
        "$$"
      ]
    },
    {
      "cell_type": "code",
      "metadata": {
        "id": "BVxj1daUqueT"
      },
      "source": [
        "import cvxpy as cp\n",
        "import numpy as np\n",
        "\n",
        "# Generate random problem data.\n",
        "m = 30\n",
        "n = 20\n",
        "np.random.seed(1)\n",
        "X = np.random.randn(m, n)\n",
        "y = np.random.randn(m)"
      ],
      "execution_count": null,
      "outputs": []
    },
    {
      "cell_type": "markdown",
      "metadata": {
        "id": "SJuxi352-aLI"
      },
      "source": [
        "### CVXPY"
      ]
    },
    {
      "cell_type": "code",
      "metadata": {
        "id": "l7YtIKPE-eFr"
      },
      "source": [
        ""
      ],
      "execution_count": null,
      "outputs": []
    },
    {
      "cell_type": "markdown",
      "metadata": {
        "id": "_AzeF_Tk-bsI"
      },
      "source": [
        "### Scipy"
      ]
    },
    {
      "cell_type": "code",
      "metadata": {
        "id": "XOKg63ku-e2w"
      },
      "source": [
        ""
      ],
      "execution_count": null,
      "outputs": []
    },
    {
      "cell_type": "markdown",
      "metadata": {
        "id": "5mFoxmSGj9_v"
      },
      "source": [
        "## Linear programming\n",
        "A linear program is an optimization problem with a linear objective and affine inequality constraints. A common standard form is the following:\n",
        "$$  \n",
        "    \\begin{array}{ll}\n",
        "    \\mbox{minimize}   & c^Tx \\\\\n",
        "    \\mbox{subject to} & Ax \\leq b.\n",
        "    \\end{array}\n",
        "$$\n",
        "Here $A \\in \\mathbb{R}^{m \\times n}$, $b \\in \\mathbb{R}^m$, and $c \\in \\mathbb{R}^n$ are problem data and $x \\in \\mathbb{R}^{n}$ is the optimization variable. The inequality constraint $Ax \\leq b$ is elementwise."
      ]
    },
    {
      "cell_type": "code",
      "metadata": {
        "id": "-Nuu3tR-lYDP"
      },
      "source": [
        "# Import packages.\n",
        "import cvxpy as cp\n",
        "import numpy as np\n",
        "\n",
        "# Generate a random non-trivial linear program.\n",
        "m = 15\n",
        "n = 10\n",
        "np.random.seed(1)\n",
        "s0 = np.random.randn(m)\n",
        "lamb0 = np.maximum(-s0, 0)\n",
        "s0 = np.maximum(s0, 0)\n",
        "x0 = np.random.randn(n)\n",
        "A = np.random.randn(m, n)\n",
        "b = A@x0 + s0\n",
        "c = -A.T@lamb0"
      ],
      "execution_count": null,
      "outputs": []
    },
    {
      "cell_type": "markdown",
      "metadata": {
        "id": "K8fHsMp5-fw_"
      },
      "source": [
        "### CVXPY"
      ]
    },
    {
      "cell_type": "code",
      "metadata": {
        "id": "_a8sk5ZN-iyI"
      },
      "source": [
        ""
      ],
      "execution_count": null,
      "outputs": []
    },
    {
      "cell_type": "markdown",
      "metadata": {
        "id": "oIvnjdPh-hFN"
      },
      "source": [
        "### Scipy"
      ]
    },
    {
      "cell_type": "code",
      "metadata": {
        "id": "keR2JmmH-XO-"
      },
      "source": [
        ""
      ],
      "execution_count": null,
      "outputs": []
    }
  ]
}