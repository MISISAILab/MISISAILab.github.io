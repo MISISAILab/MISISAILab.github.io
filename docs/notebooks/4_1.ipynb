{
  "nbformat": 4,
  "nbformat_minor": 0,
  "metadata": {
    "colab": {
      "name": "Portfolio optimization.ipynb",
      "provenance": [],
      "collapsed_sections": []
    },
    "kernelspec": {
      "name": "python3",
      "display_name": "Python 3"
    },
    "language_info": {
      "name": "python"
    },
    "widgets": {
      "application/vnd.jupyter.widget-state+json": {
        "5caedb3bd6314a14a6360ca0a4db40dc": {
          "model_module": "@jupyter-widgets/controls",
          "model_name": "HBoxModel",
          "model_module_version": "1.5.0",
          "state": {
            "_view_name": "HBoxView",
            "_dom_classes": [],
            "_model_name": "HBoxModel",
            "_view_module": "@jupyter-widgets/controls",
            "_model_module_version": "1.5.0",
            "_view_count": null,
            "_view_module_version": "1.5.0",
            "box_style": "",
            "layout": "IPY_MODEL_97a6f58895fb4b8da36c4561bd2698a1",
            "_model_module": "@jupyter-widgets/controls",
            "children": [
              "IPY_MODEL_b17daa5dcfbf468f91d4ae61aea48900",
              "IPY_MODEL_45aad67b6a7643f3af8cea4e3a6cd98d",
              "IPY_MODEL_e0ee79ac448d4fd1b2a0f2ae39105fe4"
            ]
          }
        },
        "97a6f58895fb4b8da36c4561bd2698a1": {
          "model_module": "@jupyter-widgets/base",
          "model_name": "LayoutModel",
          "model_module_version": "1.2.0",
          "state": {
            "_view_name": "LayoutView",
            "grid_template_rows": null,
            "right": null,
            "justify_content": null,
            "_view_module": "@jupyter-widgets/base",
            "overflow": null,
            "_model_module_version": "1.2.0",
            "_view_count": null,
            "flex_flow": null,
            "width": null,
            "min_width": null,
            "border": null,
            "align_items": null,
            "bottom": null,
            "_model_module": "@jupyter-widgets/base",
            "top": null,
            "grid_column": null,
            "overflow_y": null,
            "overflow_x": null,
            "grid_auto_flow": null,
            "grid_area": null,
            "grid_template_columns": null,
            "flex": null,
            "_model_name": "LayoutModel",
            "justify_items": null,
            "grid_row": null,
            "max_height": null,
            "align_content": null,
            "visibility": null,
            "align_self": null,
            "height": null,
            "min_height": null,
            "padding": null,
            "grid_auto_rows": null,
            "grid_gap": null,
            "max_width": null,
            "order": null,
            "_view_module_version": "1.2.0",
            "grid_template_areas": null,
            "object_position": null,
            "object_fit": null,
            "grid_auto_columns": null,
            "margin": null,
            "display": null,
            "left": null
          }
        },
        "b17daa5dcfbf468f91d4ae61aea48900": {
          "model_module": "@jupyter-widgets/controls",
          "model_name": "HTMLModel",
          "model_module_version": "1.5.0",
          "state": {
            "_view_name": "HTMLView",
            "style": "IPY_MODEL_8918aae43ae040f6ad79f59119dcd905",
            "_dom_classes": [],
            "description": "",
            "_model_name": "HTMLModel",
            "placeholder": "​",
            "_view_module": "@jupyter-widgets/controls",
            "_model_module_version": "1.5.0",
            "value": "100%",
            "_view_count": null,
            "_view_module_version": "1.5.0",
            "description_tooltip": null,
            "_model_module": "@jupyter-widgets/controls",
            "layout": "IPY_MODEL_192cfee88a8343f8a13e9f6902b04cd1"
          }
        },
        "45aad67b6a7643f3af8cea4e3a6cd98d": {
          "model_module": "@jupyter-widgets/controls",
          "model_name": "FloatProgressModel",
          "model_module_version": "1.5.0",
          "state": {
            "_view_name": "ProgressView",
            "style": "IPY_MODEL_e991245158144f7eb6eef961f1a92124",
            "_dom_classes": [],
            "description": "",
            "_model_name": "FloatProgressModel",
            "bar_style": "success",
            "max": 100,
            "_view_module": "@jupyter-widgets/controls",
            "_model_module_version": "1.5.0",
            "value": 100,
            "_view_count": null,
            "_view_module_version": "1.5.0",
            "orientation": "horizontal",
            "min": 0,
            "description_tooltip": null,
            "_model_module": "@jupyter-widgets/controls",
            "layout": "IPY_MODEL_90dfa6d0348b4321974e06cffb1736a9"
          }
        },
        "e0ee79ac448d4fd1b2a0f2ae39105fe4": {
          "model_module": "@jupyter-widgets/controls",
          "model_name": "HTMLModel",
          "model_module_version": "1.5.0",
          "state": {
            "_view_name": "HTMLView",
            "style": "IPY_MODEL_966c7ac6519a47c3bcb5bcc412fae790",
            "_dom_classes": [],
            "description": "",
            "_model_name": "HTMLModel",
            "placeholder": "​",
            "_view_module": "@jupyter-widgets/controls",
            "_model_module_version": "1.5.0",
            "value": " 100/100 [00:00&lt;00:00, 124.94it/s]",
            "_view_count": null,
            "_view_module_version": "1.5.0",
            "description_tooltip": null,
            "_model_module": "@jupyter-widgets/controls",
            "layout": "IPY_MODEL_d78ec09b98834e3889b2869d2a1f6bd0"
          }
        },
        "8918aae43ae040f6ad79f59119dcd905": {
          "model_module": "@jupyter-widgets/controls",
          "model_name": "DescriptionStyleModel",
          "model_module_version": "1.5.0",
          "state": {
            "_view_name": "StyleView",
            "_model_name": "DescriptionStyleModel",
            "description_width": "",
            "_view_module": "@jupyter-widgets/base",
            "_model_module_version": "1.5.0",
            "_view_count": null,
            "_view_module_version": "1.2.0",
            "_model_module": "@jupyter-widgets/controls"
          }
        },
        "192cfee88a8343f8a13e9f6902b04cd1": {
          "model_module": "@jupyter-widgets/base",
          "model_name": "LayoutModel",
          "model_module_version": "1.2.0",
          "state": {
            "_view_name": "LayoutView",
            "grid_template_rows": null,
            "right": null,
            "justify_content": null,
            "_view_module": "@jupyter-widgets/base",
            "overflow": null,
            "_model_module_version": "1.2.0",
            "_view_count": null,
            "flex_flow": null,
            "width": null,
            "min_width": null,
            "border": null,
            "align_items": null,
            "bottom": null,
            "_model_module": "@jupyter-widgets/base",
            "top": null,
            "grid_column": null,
            "overflow_y": null,
            "overflow_x": null,
            "grid_auto_flow": null,
            "grid_area": null,
            "grid_template_columns": null,
            "flex": null,
            "_model_name": "LayoutModel",
            "justify_items": null,
            "grid_row": null,
            "max_height": null,
            "align_content": null,
            "visibility": null,
            "align_self": null,
            "height": null,
            "min_height": null,
            "padding": null,
            "grid_auto_rows": null,
            "grid_gap": null,
            "max_width": null,
            "order": null,
            "_view_module_version": "1.2.0",
            "grid_template_areas": null,
            "object_position": null,
            "object_fit": null,
            "grid_auto_columns": null,
            "margin": null,
            "display": null,
            "left": null
          }
        },
        "e991245158144f7eb6eef961f1a92124": {
          "model_module": "@jupyter-widgets/controls",
          "model_name": "ProgressStyleModel",
          "model_module_version": "1.5.0",
          "state": {
            "_view_name": "StyleView",
            "_model_name": "ProgressStyleModel",
            "description_width": "",
            "_view_module": "@jupyter-widgets/base",
            "_model_module_version": "1.5.0",
            "_view_count": null,
            "_view_module_version": "1.2.0",
            "bar_color": null,
            "_model_module": "@jupyter-widgets/controls"
          }
        },
        "90dfa6d0348b4321974e06cffb1736a9": {
          "model_module": "@jupyter-widgets/base",
          "model_name": "LayoutModel",
          "model_module_version": "1.2.0",
          "state": {
            "_view_name": "LayoutView",
            "grid_template_rows": null,
            "right": null,
            "justify_content": null,
            "_view_module": "@jupyter-widgets/base",
            "overflow": null,
            "_model_module_version": "1.2.0",
            "_view_count": null,
            "flex_flow": null,
            "width": null,
            "min_width": null,
            "border": null,
            "align_items": null,
            "bottom": null,
            "_model_module": "@jupyter-widgets/base",
            "top": null,
            "grid_column": null,
            "overflow_y": null,
            "overflow_x": null,
            "grid_auto_flow": null,
            "grid_area": null,
            "grid_template_columns": null,
            "flex": null,
            "_model_name": "LayoutModel",
            "justify_items": null,
            "grid_row": null,
            "max_height": null,
            "align_content": null,
            "visibility": null,
            "align_self": null,
            "height": null,
            "min_height": null,
            "padding": null,
            "grid_auto_rows": null,
            "grid_gap": null,
            "max_width": null,
            "order": null,
            "_view_module_version": "1.2.0",
            "grid_template_areas": null,
            "object_position": null,
            "object_fit": null,
            "grid_auto_columns": null,
            "margin": null,
            "display": null,
            "left": null
          }
        },
        "966c7ac6519a47c3bcb5bcc412fae790": {
          "model_module": "@jupyter-widgets/controls",
          "model_name": "DescriptionStyleModel",
          "model_module_version": "1.5.0",
          "state": {
            "_view_name": "StyleView",
            "_model_name": "DescriptionStyleModel",
            "description_width": "",
            "_view_module": "@jupyter-widgets/base",
            "_model_module_version": "1.5.0",
            "_view_count": null,
            "_view_module_version": "1.2.0",
            "_model_module": "@jupyter-widgets/controls"
          }
        },
        "d78ec09b98834e3889b2869d2a1f6bd0": {
          "model_module": "@jupyter-widgets/base",
          "model_name": "LayoutModel",
          "model_module_version": "1.2.0",
          "state": {
            "_view_name": "LayoutView",
            "grid_template_rows": null,
            "right": null,
            "justify_content": null,
            "_view_module": "@jupyter-widgets/base",
            "overflow": null,
            "_model_module_version": "1.2.0",
            "_view_count": null,
            "flex_flow": null,
            "width": null,
            "min_width": null,
            "border": null,
            "align_items": null,
            "bottom": null,
            "_model_module": "@jupyter-widgets/base",
            "top": null,
            "grid_column": null,
            "overflow_y": null,
            "overflow_x": null,
            "grid_auto_flow": null,
            "grid_area": null,
            "grid_template_columns": null,
            "flex": null,
            "_model_name": "LayoutModel",
            "justify_items": null,
            "grid_row": null,
            "max_height": null,
            "align_content": null,
            "visibility": null,
            "align_self": null,
            "height": null,
            "min_height": null,
            "padding": null,
            "grid_auto_rows": null,
            "grid_gap": null,
            "max_width": null,
            "order": null,
            "_view_module_version": "1.2.0",
            "grid_template_areas": null,
            "object_position": null,
            "object_fit": null,
            "grid_auto_columns": null,
            "margin": null,
            "display": null,
            "left": null
          }
        }
      }
    }
  },
  "cells": [
    {
      "cell_type": "markdown",
      "metadata": {
        "id": "T4nZFtOARG-B"
      },
      "source": [
        "# Portfolio optimization\n",
        "[source](https://www.cvxpy.org/examples/index.html)\n",
        "\n",
        "![](https://memepedia.ru/wp-content/uploads/2019/06/stonks-template.png)"
      ]
    },
    {
      "cell_type": "markdown",
      "metadata": {
        "id": "VDIsnDYQj0tT"
      },
      "source": [
        "### Portfolio allocation vector\n",
        "\n",
        "In this example we show how to do portfolio optimization using CVXPY.\n",
        "We begin with the basic definitions.\n",
        "In portfolio optimization we have some amount of money to invest in any of $n$ different assets. \n",
        "We choose what fraction $w_i$ of our money to invest in each asset $i$, $i=1, \\ldots, n$.\n",
        "\n",
        "We call $w\\in {\\bf R}^n$ the *portfolio allocation vector*.\n",
        "We of course have the constraint that ${\\mathbf 1}^T w =1$.\n",
        "The allocation $w_i<0$ means a *short position* in asset $i$, or that we borrow shares to sell now that we must replace later.\n",
        "The allocation $w \\geq 0$ is a *long only* portfolio.\n",
        "The quantity\n",
        "$$ \\|w \\|_1 = {\\mathbf 1}^T w_+ + {\\mathbf 1}^T w_- $$\n",
        "is known as *leverage*."
      ]
    },
    {
      "cell_type": "markdown",
      "metadata": {
        "id": "lq0-B6eMj0tU"
      },
      "source": [
        "### Asset returns\n",
        "\n",
        "We will only model investments held for one period. The initial prices are $p_i > 0$. The end of period prices are $p_i^+ >0$. The asset (fractional) returns are $r_i = (p_i^+-p_i)/p_i$. The porfolio (fractional) return is $R = r^Tw$.\n",
        "\n",
        "A common model is that $r$ is a random variable with mean ${\\bf E}r = \\mu$ and covariance ${\\bf E{(r-\\mu)(r-\\mu)^T}} = \\Sigma$.\n",
        "It follows that $R$ is a random variable with ${\\bf E}R = \\mu^T w$ and ${\\bf var}(R) = w^T\\Sigma w$.\n",
        "${\\bf E}R$ is the (mean) *return* of the portfolio. ${\\bf var}(R)$ is the *risk* of the portfolio.\n",
        "(Risk is also sometimes given as ${\\bf std}(R) = \\sqrt{{\\bf var}(R)}$.)\n",
        "\n",
        "Portfolio optimization has two competing objectives: high return and low risk."
      ]
    },
    {
      "cell_type": "markdown",
      "metadata": {
        "id": "D7qBZksvj0tU"
      },
      "source": [
        "### Classical (Markowitz) portfolio optimization\n",
        "\n",
        "Classical (Markowitz) portfolio optimization solves the optimization problem\n",
        "\n",
        "\\begin{array}{ll} \\mbox{maximize} & \\mu^T w - \\gamma w^T\\Sigma w\\\\\n",
        "\\mbox{subject to} & {\\bf 1}^T w = 1, \\quad w \\in {\\cal W},\n",
        "\\end{array}\n",
        "\n",
        "where $w \\in {\\bf R}^n$ is the optimization variable, $\\cal W$ is a set of allowed portfolios (e.g., ${\\cal W} = {\\bf R}_+^n$ for a long only portfolio), and $\\gamma >0$ is the *risk aversion parameter*.\n",
        "\n",
        "The objective $\\mu^Tw - \\gamma w^T\\Sigma w$ is the *risk-adjusted return*. Varying $\\gamma$ gives the optimal *risk-return trade-off*. \n",
        "We can get the same risk-return trade-off by fixing return and minimizing risk."
      ]
    },
    {
      "cell_type": "markdown",
      "metadata": {
        "id": "Y1iD-k6-j0tU"
      },
      "source": [
        "### Example\n",
        "\n",
        "In the following code we compute and plot the optimal risk-return trade-off for $10$ assets, restricting ourselves to a long only portfolio."
      ]
    },
    {
      "cell_type": "code",
      "metadata": {
        "id": "77LQ0x98j0tV"
      },
      "source": [
        "# Generate data for long only portfolio optimization.\n",
        "import numpy as np\n",
        "np.random.seed(1)\n",
        "n = 10\n",
        "mu = np.abs(np.random.randn(n, 1))\n",
        "Sigma = np.random.randn(n, n)\n",
        "Sigma = Sigma.T @ Sigma"
      ],
      "execution_count": null,
      "outputs": []
    },
    {
      "cell_type": "code",
      "metadata": {
        "id": "SPp2ngkOj0tV"
      },
      "source": [
        "# Long only portfolio optimization.\n",
        "import cvxpy as cp\n",
        "\n",
        "\n",
        "w = cp.Variable(n)\n",
        "gamma = cp.Parameter(nonneg=True)\n",
        "ret = mu.T @ w \n",
        "risk = cp.quad_form(w, Sigma)\n",
        "prob = cp.Problem(cp.Minimize(gamma*risk - ret), \n",
        "               [cp.sum(w) == 1, \n",
        "                w >= 0])"
      ],
      "execution_count": null,
      "outputs": []
    },
    {
      "cell_type": "code",
      "metadata": {
        "id": "bEsCOrlkxYvX",
        "colab": {
          "base_uri": "https://localhost:8080/",
          "height": 282
        },
        "outputId": "ae26c437-f777-4654-e670-2c3669341f4b"
      },
      "source": [
        ""
      ],
      "execution_count": null,
      "outputs": [
        {
          "output_type": "execute_result",
          "data": {
            "text/plain": [
              "[<matplotlib.lines.Line2D at 0x7f7524867690>]"
            ]
          },
          "metadata": {},
          "execution_count": 7
        },
        {
          "output_type": "display_data",
          "data": {
            "image/png": "[encoded data removed]",
            "text/plain": [
              "<Figure size 432x288 with 1 Axes>"
            ]
          },
          "metadata": {
            "needs_background": "light"
          }
        }
      ]
    },
    {
      "cell_type": "code",
      "metadata": {
        "id": "fcO3DDjUj0tW",
        "colab": {
          "base_uri": "https://localhost:8080/",
          "height": 48,
          "referenced_widgets": [
            "5caedb3bd6314a14a6360ca0a4db40dc",
            "97a6f58895fb4b8da36c4561bd2698a1",
            "b17daa5dcfbf468f91d4ae61aea48900",
            "45aad67b6a7643f3af8cea4e3a6cd98d",
            "e0ee79ac448d4fd1b2a0f2ae39105fe4",
            "8918aae43ae040f6ad79f59119dcd905",
            "192cfee88a8343f8a13e9f6902b04cd1",
            "e991245158144f7eb6eef961f1a92124",
            "90dfa6d0348b4321974e06cffb1736a9",
            "966c7ac6519a47c3bcb5bcc412fae790",
            "d78ec09b98834e3889b2869d2a1f6bd0"
          ]
        },
        "outputId": "5c753708-20a1-4b8b-edee-ae3e01343588"
      },
      "source": [
        "# Compute trade-off curve.\n",
        "from tqdm.auto import tqdm\n",
        "SAMPLES = 100\n",
        "risk_data = np.zeros(SAMPLES)\n",
        "ret_data = np.zeros(SAMPLES)\n",
        "gamma_vals = np.logspace(-2, 3, num=SAMPLES)\n",
        "for i in tqdm(range(SAMPLES)):\n",
        "    gamma.value = gamma_vals[i]\n",
        "    prob.solve()\n",
        "    risk_data[i] = cp.sqrt(risk).value\n",
        "    ret_data[i] = ret.value"
      ],
      "execution_count": null,
      "outputs": [
        {
          "output_type": "display_data",
          "data": {
            "application/vnd.jupyter.widget-view+json": {
              "model_id": "5caedb3bd6314a14a6360ca0a4db40dc",
              "version_minor": 0,
              "version_major": 2
            },
            "text/plain": [
              "  0%|          | 0/100 [00:00<?, ?it/s]"
            ]
          },
          "metadata": {}
        }
      ]
    },
    {
      "cell_type": "code",
      "metadata": {
        "id": "iOU9pm6vj0tW",
        "colab": {
          "base_uri": "https://localhost:8080/",
          "height": 371
        },
        "outputId": "e61239ec-45fa-4a7c-b1a5-9d851b860bd6"
      },
      "source": [
        "# Plot long only trade-off curve.\n",
        "import matplotlib.pyplot as plt\n",
        "%matplotlib inline\n",
        "%config InlineBackend.figure_format = 'svg'\n",
        "\n",
        "markers_on = [29, 40]\n",
        "fig = plt.figure()\n",
        "ax = fig.add_subplot(111)\n",
        "plt.plot(risk_data, ret_data, 'g-')\n",
        "for marker in markers_on:\n",
        "    plt.plot(risk_data[marker], ret_data[marker], 'bs')\n",
        "    ax.annotate(r\"$\\gamma = %.2f$\" % gamma_vals[marker], xy=(risk_data[marker]+.08, ret_data[marker]-.03))\n",
        "for i in range(n):\n",
        "    plt.plot(cp.sqrt(Sigma[i,i]).value, mu[i], 'ro')\n",
        "plt.xlabel('Standard deviation')\n",
        "plt.ylabel('Return')\n",
        "plt.show()"
      ],
      "execution_count": null,
      "outputs": [
        {
          "output_type": "display_data",
          "data": {
            "text/plain": [
              "<Figure size 432x288 with 1 Axes>"
            ],
            "image/svg+xml": "<?xml version=\"1.0\" encoding=\"utf-8\" standalone=\"no\"?>\n<!DOCTYPE svg PUBLIC \"-//W3C//DTD SVG 1.1//EN\"\n  \"http://www.w3.org/Graphics/SVG/1.1/DTD/svg11.dtd\">\n<!-- Created with matplotlib (https://matplotlib.org/) -->\n<svg height=\"262.19625pt\" version=\"1.1\" viewBox=\"0 0 385.78125 262.19625\" width=\"385.78125pt\" xmlns=\"http://www.w3.org/2000/svg\" xmlns:xlink=\"http://www.w3.org/1999/xlink\">\n <defs>\n  <style type=\"text/css\">\n*{stroke-linecap:butt;stroke-linejoin:round;}\n  </style>\n </defs>\n <g id=\"figure_1\">\n  <g id=\"patch_1\">\n   <path d=\"M 0 262.19625 \nL 385.78125 262.19625 \nL 385.78125 0 \nL 0 0 \nz\n\" style=\"fill:none;\"/>\n  </g>\n  <g id=\"axes_1\">\n   <g id=\"patch_2\">\n    <path d=\"M 43.78125 224.64 \nL 378.58125 224.64 \nL 378.58125 7.2 \nL 43.78125 7.2 \nz\n\" style=\"fill:#ffffff;\"/>\n   </g>\n   <g id=\"matplotlib.axis_1\">\n    <g id=\"xtick_1\">\n     <g id=\"line2d_1\">\n      <defs>\n       <path d=\"M 0 0 \nL 0 3.5 \n\" id=\"m9f0a024433\" style=\"stroke:#000000;stroke-width:0.8;\"/>\n      </defs>\n      <g>\n       <use style=\"stroke:#000000;stroke-width:0.8;\" x=\"73.4446\" xlink:href=\"#m9f0a024433\" y=\"224.64\"/>\n      </g>\n     </g>\n     <g id=\"text_1\">\n      <!-- 0.5 -->\n      <defs>\n       <path d=\"M 31.78125 66.40625 \nQ 24.171875 66.40625 20.328125 58.90625 \nQ 16.5 51.421875 16.5 36.375 \nQ 16.5 21.390625 20.328125 13.890625 \nQ 24.171875 6.390625 31.78125 6.390625 \nQ 39.453125 6.390625 43.28125 13.890625 \nQ 47.125 21.390625 47.125 36.375 \nQ 47.125 51.421875 43.28125 58.90625 \nQ 39.453125 66.40625 31.78125 66.40625 \nz\nM 31.78125 74.21875 \nQ 44.046875 74.21875 50.515625 64.515625 \nQ 56.984375 54.828125 56.984375 36.375 \nQ 56.984375 17.96875 50.515625 8.265625 \nQ 44.046875 -1.421875 31.78125 -1.421875 \nQ 19.53125 -1.421875 13.0625 8.265625 \nQ 6.59375 17.96875 6.59375 36.375 \nQ 6.59375 54.828125 13.0625 64.515625 \nQ 19.53125 74.21875 31.78125 74.21875 \nz\n\" id=\"DejaVuSans-48\"/>\n       <path d=\"M 10.6875 12.40625 \nL 21 12.40625 \nL 21 0 \nL 10.6875 0 \nz\n\" id=\"DejaVuSans-46\"/>\n       <path d=\"M 10.796875 72.90625 \nL 49.515625 72.90625 \nL 49.515625 64.59375 \nL 19.828125 64.59375 \nL 19.828125 46.734375 \nQ 21.96875 47.46875 24.109375 47.828125 \nQ 26.265625 48.1875 28.421875 48.1875 \nQ 40.625 48.1875 47.75 41.5 \nQ 54.890625 34.8125 54.890625 23.390625 \nQ 54.890625 11.625 47.5625 5.09375 \nQ 40.234375 -1.421875 26.90625 -1.421875 \nQ 22.3125 -1.421875 17.546875 -0.640625 \nQ 12.796875 0.140625 7.71875 1.703125 \nL 7.71875 11.625 \nQ 12.109375 9.234375 16.796875 8.0625 \nQ 21.484375 6.890625 26.703125 6.890625 \nQ 35.15625 6.890625 40.078125 11.328125 \nQ 45.015625 15.765625 45.015625 23.390625 \nQ 45.015625 31 40.078125 35.4375 \nQ 35.15625 39.890625 26.703125 39.890625 \nQ 22.75 39.890625 18.8125 39.015625 \nQ 14.890625 38.140625 10.796875 36.28125 \nz\n\" id=\"DejaVuSans-53\"/>\n      </defs>\n      <g transform=\"translate(65.493037 239.238438)scale(0.1 -0.1)\">\n       <use xlink:href=\"#DejaVuSans-48\"/>\n       <use x=\"63.623047\" xlink:href=\"#DejaVuSans-46\"/>\n       <use x=\"95.410156\" xlink:href=\"#DejaVuSans-53\"/>\n      </g>\n     </g>\n    </g>\n    <g id=\"xtick_2\">\n     <g id=\"line2d_2\">\n      <g>\n       <use style=\"stroke:#000000;stroke-width:0.8;\" x=\"124.831411\" xlink:href=\"#m9f0a024433\" y=\"224.64\"/>\n      </g>\n     </g>\n     <g id=\"text_2\">\n      <!-- 1.0 -->\n      <defs>\n       <path d=\"M 12.40625 8.296875 \nL 28.515625 8.296875 \nL 28.515625 63.921875 \nL 10.984375 60.40625 \nL 10.984375 69.390625 \nL 28.421875 72.90625 \nL 38.28125 72.90625 \nL 38.28125 8.296875 \nL 54.390625 8.296875 \nL 54.390625 0 \nL 12.40625 0 \nz\n\" id=\"DejaVuSans-49\"/>\n      </defs>\n      <g transform=\"translate(116.879848 239.238438)scale(0.1 -0.1)\">\n       <use xlink:href=\"#DejaVuSans-49\"/>\n       <use x=\"63.623047\" xlink:href=\"#DejaVuSans-46\"/>\n       <use x=\"95.410156\" xlink:href=\"#DejaVuSans-48\"/>\n      </g>\n     </g>\n    </g>\n    <g id=\"xtick_3\">\n     <g id=\"line2d_3\">\n      <g>\n       <use style=\"stroke:#000000;stroke-width:0.8;\" x=\"176.218222\" xlink:href=\"#m9f0a024433\" y=\"224.64\"/>\n      </g>\n     </g>\n     <g id=\"text_3\">\n      <!-- 1.5 -->\n      <g transform=\"translate(168.26666 239.238438)scale(0.1 -0.1)\">\n       <use xlink:href=\"#DejaVuSans-49\"/>\n       <use x=\"63.623047\" xlink:href=\"#DejaVuSans-46\"/>\n       <use x=\"95.410156\" xlink:href=\"#DejaVuSans-53\"/>\n      </g>\n     </g>\n    </g>\n    <g id=\"xtick_4\">\n     <g id=\"line2d_4\">\n      <g>\n       <use style=\"stroke:#000000;stroke-width:0.8;\" x=\"227.605033\" xlink:href=\"#m9f0a024433\" y=\"224.64\"/>\n      </g>\n     </g>\n     <g id=\"text_4\">\n      <!-- 2.0 -->\n      <defs>\n       <path d=\"M 19.1875 8.296875 \nL 53.609375 8.296875 \nL 53.609375 0 \nL 7.328125 0 \nL 7.328125 8.296875 \nQ 12.9375 14.109375 22.625 23.890625 \nQ 32.328125 33.6875 34.8125 36.53125 \nQ 39.546875 41.84375 41.421875 45.53125 \nQ 43.3125 49.21875 43.3125 52.78125 \nQ 43.3125 58.59375 39.234375 62.25 \nQ 35.15625 65.921875 28.609375 65.921875 \nQ 23.96875 65.921875 18.8125 64.3125 \nQ 13.671875 62.703125 7.8125 59.421875 \nL 7.8125 69.390625 \nQ 13.765625 71.78125 18.9375 73 \nQ 24.125 74.21875 28.421875 74.21875 \nQ 39.75 74.21875 46.484375 68.546875 \nQ 53.21875 62.890625 53.21875 53.421875 \nQ 53.21875 48.921875 51.53125 44.890625 \nQ 49.859375 40.875 45.40625 35.40625 \nQ 44.1875 33.984375 37.640625 27.21875 \nQ 31.109375 20.453125 19.1875 8.296875 \nz\n\" id=\"DejaVuSans-50\"/>\n      </defs>\n      <g transform=\"translate(219.653471 239.238438)scale(0.1 -0.1)\">\n       <use xlink:href=\"#DejaVuSans-50\"/>\n       <use x=\"63.623047\" xlink:href=\"#DejaVuSans-46\"/>\n       <use x=\"95.410156\" xlink:href=\"#DejaVuSans-48\"/>\n      </g>\n     </g>\n    </g>\n    <g id=\"xtick_5\">\n     <g id=\"line2d_5\">\n      <g>\n       <use style=\"stroke:#000000;stroke-width:0.8;\" x=\"278.991845\" xlink:href=\"#m9f0a024433\" y=\"224.64\"/>\n      </g>\n     </g>\n     <g id=\"text_5\">\n      <!-- 2.5 -->\n      <g transform=\"translate(271.040282 239.238438)scale(0.1 -0.1)\">\n       <use xlink:href=\"#DejaVuSans-50\"/>\n       <use x=\"63.623047\" xlink:href=\"#DejaVuSans-46\"/>\n       <use x=\"95.410156\" xlink:href=\"#DejaVuSans-53\"/>\n      </g>\n     </g>\n    </g>\n    <g id=\"xtick_6\">\n     <g id=\"line2d_6\">\n      <g>\n       <use style=\"stroke:#000000;stroke-width:0.8;\" x=\"330.378656\" xlink:href=\"#m9f0a024433\" y=\"224.64\"/>\n      </g>\n     </g>\n     <g id=\"text_6\">\n      <!-- 3.0 -->\n      <defs>\n       <path d=\"M 40.578125 39.3125 \nQ 47.65625 37.796875 51.625 33 \nQ 55.609375 28.21875 55.609375 21.1875 \nQ 55.609375 10.40625 48.1875 4.484375 \nQ 40.765625 -1.421875 27.09375 -1.421875 \nQ 22.515625 -1.421875 17.65625 -0.515625 \nQ 12.796875 0.390625 7.625 2.203125 \nL 7.625 11.71875 \nQ 11.71875 9.328125 16.59375 8.109375 \nQ 21.484375 6.890625 26.8125 6.890625 \nQ 36.078125 6.890625 40.9375 10.546875 \nQ 45.796875 14.203125 45.796875 21.1875 \nQ 45.796875 27.640625 41.28125 31.265625 \nQ 36.765625 34.90625 28.71875 34.90625 \nL 20.21875 34.90625 \nL 20.21875 43.015625 \nL 29.109375 43.015625 \nQ 36.375 43.015625 40.234375 45.921875 \nQ 44.09375 48.828125 44.09375 54.296875 \nQ 44.09375 59.90625 40.109375 62.90625 \nQ 36.140625 65.921875 28.71875 65.921875 \nQ 24.65625 65.921875 20.015625 65.03125 \nQ 15.375 64.15625 9.8125 62.3125 \nL 9.8125 71.09375 \nQ 15.4375 72.65625 20.34375 73.4375 \nQ 25.25 74.21875 29.59375 74.21875 \nQ 40.828125 74.21875 47.359375 69.109375 \nQ 53.90625 64.015625 53.90625 55.328125 \nQ 53.90625 49.265625 50.4375 45.09375 \nQ 46.96875 40.921875 40.578125 39.3125 \nz\n\" id=\"DejaVuSans-51\"/>\n      </defs>\n      <g transform=\"translate(322.427093 239.238438)scale(0.1 -0.1)\">\n       <use xlink:href=\"#DejaVuSans-51\"/>\n       <use x=\"63.623047\" xlink:href=\"#DejaVuSans-46\"/>\n       <use x=\"95.410156\" xlink:href=\"#DejaVuSans-48\"/>\n      </g>\n     </g>\n    </g>\n    <g id=\"text_7\">\n     <!-- Standard deviation -->\n     <defs>\n      <path d=\"M 53.515625 70.515625 \nL 53.515625 60.890625 \nQ 47.90625 63.578125 42.921875 64.890625 \nQ 37.9375 66.21875 33.296875 66.21875 \nQ 25.25 66.21875 20.875 63.09375 \nQ 16.5 59.96875 16.5 54.203125 \nQ 16.5 49.359375 19.40625 46.890625 \nQ 22.3125 44.4375 30.421875 42.921875 \nL 36.375 41.703125 \nQ 47.40625 39.59375 52.65625 34.296875 \nQ 57.90625 29 57.90625 20.125 \nQ 57.90625 9.515625 50.796875 4.046875 \nQ 43.703125 -1.421875 29.984375 -1.421875 \nQ 24.8125 -1.421875 18.96875 -0.25 \nQ 13.140625 0.921875 6.890625 3.21875 \nL 6.890625 13.375 \nQ 12.890625 10.015625 18.65625 8.296875 \nQ 24.421875 6.59375 29.984375 6.59375 \nQ 38.421875 6.59375 43.015625 9.90625 \nQ 47.609375 13.234375 47.609375 19.390625 \nQ 47.609375 24.75 44.3125 27.78125 \nQ 41.015625 30.8125 33.5 32.328125 \nL 27.484375 33.5 \nQ 16.453125 35.6875 11.515625 40.375 \nQ 6.59375 45.0625 6.59375 53.421875 \nQ 6.59375 63.09375 13.40625 68.65625 \nQ 20.21875 74.21875 32.171875 74.21875 \nQ 37.3125 74.21875 42.625 73.28125 \nQ 47.953125 72.359375 53.515625 70.515625 \nz\n\" id=\"DejaVuSans-83\"/>\n      <path d=\"M 18.3125 70.21875 \nL 18.3125 54.6875 \nL 36.8125 54.6875 \nL 36.8125 47.703125 \nL 18.3125 47.703125 \nL 18.3125 18.015625 \nQ 18.3125 11.328125 20.140625 9.421875 \nQ 21.96875 7.515625 27.59375 7.515625 \nL 36.8125 7.515625 \nL 36.8125 0 \nL 27.59375 0 \nQ 17.1875 0 13.234375 3.875 \nQ 9.28125 7.765625 9.28125 18.015625 \nL 9.28125 47.703125 \nL 2.6875 47.703125 \nL 2.6875 54.6875 \nL 9.28125 54.6875 \nL 9.28125 70.21875 \nz\n\" id=\"DejaVuSans-116\"/>\n      <path d=\"M 34.28125 27.484375 \nQ 23.390625 27.484375 19.1875 25 \nQ 14.984375 22.515625 14.984375 16.5 \nQ 14.984375 11.71875 18.140625 8.90625 \nQ 21.296875 6.109375 26.703125 6.109375 \nQ 34.1875 6.109375 38.703125 11.40625 \nQ 43.21875 16.703125 43.21875 25.484375 \nL 43.21875 27.484375 \nz\nM 52.203125 31.203125 \nL 52.203125 0 \nL 43.21875 0 \nL 43.21875 8.296875 \nQ 40.140625 3.328125 35.546875 0.953125 \nQ 30.953125 -1.421875 24.3125 -1.421875 \nQ 15.921875 -1.421875 10.953125 3.296875 \nQ 6 8.015625 6 15.921875 \nQ 6 25.140625 12.171875 29.828125 \nQ 18.359375 34.515625 30.609375 34.515625 \nL 43.21875 34.515625 \nL 43.21875 35.40625 \nQ 43.21875 41.609375 39.140625 45 \nQ 35.0625 48.390625 27.6875 48.390625 \nQ 23 48.390625 18.546875 47.265625 \nQ 14.109375 46.140625 10.015625 43.890625 \nL 10.015625 52.203125 \nQ 14.9375 54.109375 19.578125 55.046875 \nQ 24.21875 56 28.609375 56 \nQ 40.484375 56 46.34375 49.84375 \nQ 52.203125 43.703125 52.203125 31.203125 \nz\n\" id=\"DejaVuSans-97\"/>\n      <path d=\"M 54.890625 33.015625 \nL 54.890625 0 \nL 45.90625 0 \nL 45.90625 32.71875 \nQ 45.90625 40.484375 42.875 44.328125 \nQ 39.84375 48.1875 33.796875 48.1875 \nQ 26.515625 48.1875 22.3125 43.546875 \nQ 18.109375 38.921875 18.109375 30.90625 \nL 18.109375 0 \nL 9.078125 0 \nL 9.078125 54.6875 \nL 18.109375 54.6875 \nL 18.109375 46.1875 \nQ 21.34375 51.125 25.703125 53.5625 \nQ 30.078125 56 35.796875 56 \nQ 45.21875 56 50.046875 50.171875 \nQ 54.890625 44.34375 54.890625 33.015625 \nz\n\" id=\"DejaVuSans-110\"/>\n      <path d=\"M 45.40625 46.390625 \nL 45.40625 75.984375 \nL 54.390625 75.984375 \nL 54.390625 0 \nL 45.40625 0 \nL 45.40625 8.203125 \nQ 42.578125 3.328125 38.25 0.953125 \nQ 33.9375 -1.421875 27.875 -1.421875 \nQ 17.96875 -1.421875 11.734375 6.484375 \nQ 5.515625 14.40625 5.515625 27.296875 \nQ 5.515625 40.1875 11.734375 48.09375 \nQ 17.96875 56 27.875 56 \nQ 33.9375 56 38.25 53.625 \nQ 42.578125 51.265625 45.40625 46.390625 \nz\nM 14.796875 27.296875 \nQ 14.796875 17.390625 18.875 11.75 \nQ 22.953125 6.109375 30.078125 6.109375 \nQ 37.203125 6.109375 41.296875 11.75 \nQ 45.40625 17.390625 45.40625 27.296875 \nQ 45.40625 37.203125 41.296875 42.84375 \nQ 37.203125 48.484375 30.078125 48.484375 \nQ 22.953125 48.484375 18.875 42.84375 \nQ 14.796875 37.203125 14.796875 27.296875 \nz\n\" id=\"DejaVuSans-100\"/>\n      <path d=\"M 41.109375 46.296875 \nQ 39.59375 47.171875 37.8125 47.578125 \nQ 36.03125 48 33.890625 48 \nQ 26.265625 48 22.1875 43.046875 \nQ 18.109375 38.09375 18.109375 28.8125 \nL 18.109375 0 \nL 9.078125 0 \nL 9.078125 54.6875 \nL 18.109375 54.6875 \nL 18.109375 46.1875 \nQ 20.953125 51.171875 25.484375 53.578125 \nQ 30.03125 56 36.53125 56 \nQ 37.453125 56 38.578125 55.875 \nQ 39.703125 55.765625 41.0625 55.515625 \nz\n\" id=\"DejaVuSans-114\"/>\n      <path id=\"DejaVuSans-32\"/>\n      <path d=\"M 56.203125 29.59375 \nL 56.203125 25.203125 \nL 14.890625 25.203125 \nQ 15.484375 15.921875 20.484375 11.0625 \nQ 25.484375 6.203125 34.421875 6.203125 \nQ 39.59375 6.203125 44.453125 7.46875 \nQ 49.3125 8.734375 54.109375 11.28125 \nL 54.109375 2.78125 \nQ 49.265625 0.734375 44.1875 -0.34375 \nQ 39.109375 -1.421875 33.890625 -1.421875 \nQ 20.796875 -1.421875 13.15625 6.1875 \nQ 5.515625 13.8125 5.515625 26.8125 \nQ 5.515625 40.234375 12.765625 48.109375 \nQ 20.015625 56 32.328125 56 \nQ 43.359375 56 49.78125 48.890625 \nQ 56.203125 41.796875 56.203125 29.59375 \nz\nM 47.21875 32.234375 \nQ 47.125 39.59375 43.09375 43.984375 \nQ 39.0625 48.390625 32.421875 48.390625 \nQ 24.90625 48.390625 20.390625 44.140625 \nQ 15.875 39.890625 15.1875 32.171875 \nz\n\" id=\"DejaVuSans-101\"/>\n      <path d=\"M 2.984375 54.6875 \nL 12.5 54.6875 \nL 29.59375 8.796875 \nL 46.6875 54.6875 \nL 56.203125 54.6875 \nL 35.6875 0 \nL 23.484375 0 \nz\n\" id=\"DejaVuSans-118\"/>\n      <path d=\"M 9.421875 54.6875 \nL 18.40625 54.6875 \nL 18.40625 0 \nL 9.421875 0 \nz\nM 9.421875 75.984375 \nL 18.40625 75.984375 \nL 18.40625 64.59375 \nL 9.421875 64.59375 \nz\n\" id=\"DejaVuSans-105\"/>\n      <path d=\"M 30.609375 48.390625 \nQ 23.390625 48.390625 19.1875 42.75 \nQ 14.984375 37.109375 14.984375 27.296875 \nQ 14.984375 17.484375 19.15625 11.84375 \nQ 23.34375 6.203125 30.609375 6.203125 \nQ 37.796875 6.203125 41.984375 11.859375 \nQ 46.1875 17.53125 46.1875 27.296875 \nQ 46.1875 37.015625 41.984375 42.703125 \nQ 37.796875 48.390625 30.609375 48.390625 \nz\nM 30.609375 56 \nQ 42.328125 56 49.015625 48.375 \nQ 55.71875 40.765625 55.71875 27.296875 \nQ 55.71875 13.875 49.015625 6.21875 \nQ 42.328125 -1.421875 30.609375 -1.421875 \nQ 18.84375 -1.421875 12.171875 6.21875 \nQ 5.515625 13.875 5.515625 27.296875 \nQ 5.515625 40.765625 12.171875 48.375 \nQ 18.84375 56 30.609375 56 \nz\n\" id=\"DejaVuSans-111\"/>\n     </defs>\n     <g transform=\"translate(163.603906 252.916563)scale(0.1 -0.1)\">\n      <use xlink:href=\"#DejaVuSans-83\"/>\n      <use x=\"63.476562\" xlink:href=\"#DejaVuSans-116\"/>\n      <use x=\"102.685547\" xlink:href=\"#DejaVuSans-97\"/>\n      <use x=\"163.964844\" xlink:href=\"#DejaVuSans-110\"/>\n      <use x=\"227.34375\" xlink:href=\"#DejaVuSans-100\"/>\n      <use x=\"290.820312\" xlink:href=\"#DejaVuSans-97\"/>\n      <use x=\"352.099609\" xlink:href=\"#DejaVuSans-114\"/>\n      <use x=\"391.462891\" xlink:href=\"#DejaVuSans-100\"/>\n      <use x=\"454.939453\" xlink:href=\"#DejaVuSans-32\"/>\n      <use x=\"486.726562\" xlink:href=\"#DejaVuSans-100\"/>\n      <use x=\"550.203125\" xlink:href=\"#DejaVuSans-101\"/>\n      <use x=\"611.726562\" xlink:href=\"#DejaVuSans-118\"/>\n      <use x=\"670.90625\" xlink:href=\"#DejaVuSans-105\"/>\n      <use x=\"698.689453\" xlink:href=\"#DejaVuSans-97\"/>\n      <use x=\"759.96875\" xlink:href=\"#DejaVuSans-116\"/>\n      <use x=\"799.177734\" xlink:href=\"#DejaVuSans-105\"/>\n      <use x=\"826.960938\" xlink:href=\"#DejaVuSans-111\"/>\n      <use x=\"888.142578\" xlink:href=\"#DejaVuSans-110\"/>\n     </g>\n    </g>\n   </g>\n   <g id=\"matplotlib.axis_2\">\n    <g id=\"ytick_1\">\n     <g id=\"line2d_7\">\n      <defs>\n       <path d=\"M 0 0 \nL -3.5 0 \n\" id=\"mb91b183f80\" style=\"stroke:#000000;stroke-width:0.8;\"/>\n      </defs>\n      <g>\n       <use style=\"stroke:#000000;stroke-width:0.8;\" x=\"43.78125\" xlink:href=\"#mb91b183f80\" y=\"190.614756\"/>\n      </g>\n     </g>\n     <g id=\"text_8\">\n      <!-- 0.5 -->\n      <g transform=\"translate(20.878125 194.413975)scale(0.1 -0.1)\">\n       <use xlink:href=\"#DejaVuSans-48\"/>\n       <use x=\"63.623047\" xlink:href=\"#DejaVuSans-46\"/>\n       <use x=\"95.410156\" xlink:href=\"#DejaVuSans-53\"/>\n      </g>\n     </g>\n    </g>\n    <g id=\"ytick_2\">\n     <g id=\"line2d_8\">\n      <g>\n       <use style=\"stroke:#000000;stroke-width:0.8;\" x=\"43.78125\" xlink:href=\"#mb91b183f80\" y=\"142.452838\"/>\n      </g>\n     </g>\n     <g id=\"text_9\">\n      <!-- 1.0 -->\n      <g transform=\"translate(20.878125 146.252057)scale(0.1 -0.1)\">\n       <use xlink:href=\"#DejaVuSans-49\"/>\n       <use x=\"63.623047\" xlink:href=\"#DejaVuSans-46\"/>\n       <use x=\"95.410156\" xlink:href=\"#DejaVuSans-48\"/>\n      </g>\n     </g>\n    </g>\n    <g id=\"ytick_3\">\n     <g id=\"line2d_9\">\n      <g>\n       <use style=\"stroke:#000000;stroke-width:0.8;\" x=\"43.78125\" xlink:href=\"#mb91b183f80\" y=\"94.290919\"/>\n      </g>\n     </g>\n     <g id=\"text_10\">\n      <!-- 1.5 -->\n      <g transform=\"translate(20.878125 98.090138)scale(0.1 -0.1)\">\n       <use xlink:href=\"#DejaVuSans-49\"/>\n       <use x=\"63.623047\" xlink:href=\"#DejaVuSans-46\"/>\n       <use x=\"95.410156\" xlink:href=\"#DejaVuSans-53\"/>\n      </g>\n     </g>\n    </g>\n    <g id=\"ytick_4\">\n     <g id=\"line2d_10\">\n      <g>\n       <use style=\"stroke:#000000;stroke-width:0.8;\" x=\"43.78125\" xlink:href=\"#mb91b183f80\" y=\"46.129001\"/>\n      </g>\n     </g>\n     <g id=\"text_11\">\n      <!-- 2.0 -->\n      <g transform=\"translate(20.878125 49.928219)scale(0.1 -0.1)\">\n       <use xlink:href=\"#DejaVuSans-50\"/>\n       <use x=\"63.623047\" xlink:href=\"#DejaVuSans-46\"/>\n       <use x=\"95.410156\" xlink:href=\"#DejaVuSans-48\"/>\n      </g>\n     </g>\n    </g>\n    <g id=\"text_12\">\n     <!-- Return -->\n     <defs>\n      <path d=\"M 44.390625 34.1875 \nQ 47.5625 33.109375 50.5625 29.59375 \nQ 53.5625 26.078125 56.59375 19.921875 \nL 66.609375 0 \nL 56 0 \nL 46.6875 18.703125 \nQ 43.0625 26.03125 39.671875 28.421875 \nQ 36.28125 30.8125 30.421875 30.8125 \nL 19.671875 30.8125 \nL 19.671875 0 \nL 9.8125 0 \nL 9.8125 72.90625 \nL 32.078125 72.90625 \nQ 44.578125 72.90625 50.734375 67.671875 \nQ 56.890625 62.453125 56.890625 51.90625 \nQ 56.890625 45.015625 53.6875 40.46875 \nQ 50.484375 35.9375 44.390625 34.1875 \nz\nM 19.671875 64.796875 \nL 19.671875 38.921875 \nL 32.078125 38.921875 \nQ 39.203125 38.921875 42.84375 42.21875 \nQ 46.484375 45.515625 46.484375 51.90625 \nQ 46.484375 58.296875 42.84375 61.546875 \nQ 39.203125 64.796875 32.078125 64.796875 \nz\n\" id=\"DejaVuSans-82\"/>\n      <path d=\"M 8.5 21.578125 \nL 8.5 54.6875 \nL 17.484375 54.6875 \nL 17.484375 21.921875 \nQ 17.484375 14.15625 20.5 10.265625 \nQ 23.53125 6.390625 29.59375 6.390625 \nQ 36.859375 6.390625 41.078125 11.03125 \nQ 45.3125 15.671875 45.3125 23.6875 \nL 45.3125 54.6875 \nL 54.296875 54.6875 \nL 54.296875 0 \nL 45.3125 0 \nL 45.3125 8.40625 \nQ 42.046875 3.421875 37.71875 1 \nQ 33.40625 -1.421875 27.6875 -1.421875 \nQ 18.265625 -1.421875 13.375 4.4375 \nQ 8.5 10.296875 8.5 21.578125 \nz\nM 31.109375 56 \nz\n\" id=\"DejaVuSans-117\"/>\n     </defs>\n     <g transform=\"translate(14.798438 132.511406)rotate(-90)scale(0.1 -0.1)\">\n      <use xlink:href=\"#DejaVuSans-82\"/>\n      <use x=\"64.982422\" xlink:href=\"#DejaVuSans-101\"/>\n      <use x=\"126.505859\" xlink:href=\"#DejaVuSans-116\"/>\n      <use x=\"165.714844\" xlink:href=\"#DejaVuSans-117\"/>\n      <use x=\"229.09375\" xlink:href=\"#DejaVuSans-114\"/>\n      <use x=\"268.457031\" xlink:href=\"#DejaVuSans-110\"/>\n     </g>\n    </g>\n   </g>\n   <g id=\"line2d_11\">\n    <path clip-path=\"url(#p5cbdb07c6c)\" d=\"M 285.510086 17.083636 \nL 285.510086 17.083636 \nL 285.510086 17.083636 \nL 285.510086 17.083636 \nL 285.510086 17.083636 \nL 285.510086 17.083636 \nL 285.510086 17.083636 \nL 285.510086 17.083636 \nL 285.510086 17.083636 \nL 285.510086 17.083636 \nL 285.510086 17.083636 \nL 285.510086 17.083636 \nL 285.510086 17.083636 \nL 285.510086 17.083636 \nL 285.510086 17.083636 \nL 273.526714 20.147641 \nL 261.341207 23.449595 \nL 251.224658 26.389044 \nL 242.878527 29.005786 \nL 229.916643 33.395651 \nL 216.158762 38.257701 \nL 202.750878 43.234807 \nL 188.222614 48.846459 \nL 174.194996 54.410928 \nL 162.08378 59.364501 \nL 151.684622 63.774247 \nL 142.809042 67.69987 \nL 135.28221 71.194518 \nL 128.941517 74.305507 \nL 123.635896 77.074956 \nL 119.225738 79.540361 \nL 115.583176 81.735102 \nL 112.592476 83.688894 \nL 109.773635 85.706541 \nL 104.909532 89.422365 \nL 100.146628 93.282538 \nL 96.07621 96.781626 \nL 92.68405 99.896567 \nL 89.834443 102.711566 \nL 84.734022 108.041734 \nL 80.376055 112.786729 \nL 76.676025 117.010796 \nL 73.555344 120.771123 \nL 70.940963 124.118624 \nL 68.765289 127.098619 \nL 66.966304 129.751456 \nL 65.487743 132.113051 \nL 64.27925 134.215379 \nL 63.296393 136.086903 \nL 62.500535 137.752962 \nL 61.858529 139.236113 \nL 61.3423 140.556436 \nL 60.928327 141.731807 \nL 60.426549 143.321425 \nL 59.974942 144.900715 \nL 59.639709 146.19865 \nL 59.507736 146.771444 \nL 59.402818 147.281353 \nL 59.319463 147.735281 \nL 59.253272 148.139376 \nL 59.200734 148.499106 \nL 59.159045 148.819344 \nL 59.125975 149.104425 \nL 59.099746 149.358208 \nL 59.078946 149.584129 \nL 59.062455 149.785248 \nL 59.049381 149.964287 \nL 59.039016 150.12367 \nL 59.0308 150.265555 \nL 59.024288 150.391863 \nL 59.019127 150.504305 \nL 59.015036 150.604402 \nL 59.011793 150.69351 \nL 59.009224 150.772836 \nL 59.007187 150.843452 \nL 59.005573 150.906316 \nL 59.004294 150.962279 \nL 59.00328 151.012097 \nL 59.002477 151.056447 \nL 59.00184 151.095927 \nL 59.001336 151.131073 \nL 59.000936 151.162361 \nL 59.000619 151.190213 \nL 59.000368 151.215008 \nL 59.000169 151.237081 \nL 59.000011 151.25673 \nL 58.999886 151.274223 \nL 58.999787 151.289795 \nL 58.999708 151.303657 \nL 58.999646 151.315997 \nL 58.999597 151.326983 \nL 58.999558 151.336763 \nL 58.999527 151.345469 \nL 58.999502 151.353219 \nL 58.999483 151.360118 \nL 58.999467 151.36626 \nL 58.999455 151.371728 \nL 58.999446 151.376595 \nL 58.999438 151.380928 \nL 58.999432 151.384785 \n\" style=\"fill:none;stroke:#008000;stroke-linecap:square;stroke-width:1.5;\"/>\n   </g>\n   <g id=\"line2d_12\">\n    <defs>\n     <path d=\"M -3 3 \nL 3 3 \nL 3 -3 \nL -3 -3 \nz\n\" id=\"m8467e06599\" style=\"stroke:#0000ff;stroke-linejoin:miter;\"/>\n    </defs>\n    <g clip-path=\"url(#p5cbdb07c6c)\">\n     <use style=\"fill:#0000ff;stroke:#0000ff;stroke-linejoin:miter;\" x=\"123.635896\" xlink:href=\"#m8467e06599\" y=\"77.074956\"/>\n    </g>\n   </g>\n   <g id=\"line2d_13\">\n    <g clip-path=\"url(#p5cbdb07c6c)\">\n     <use style=\"fill:#0000ff;stroke:#0000ff;stroke-linejoin:miter;\" x=\"80.376055\" xlink:href=\"#m8467e06599\" y=\"112.786729\"/>\n    </g>\n   </g>\n   <g id=\"line2d_14\">\n    <defs>\n     <path d=\"M 0 3 \nC 0.795609 3 1.55874 2.683901 2.12132 2.12132 \nC 2.683901 1.55874 3 0.795609 3 0 \nC 3 -0.795609 2.683901 -1.55874 2.12132 -2.12132 \nC 1.55874 -2.683901 0.795609 -3 0 -3 \nC -0.795609 -3 -1.55874 -2.683901 -2.12132 -2.12132 \nC -2.683901 -1.55874 -3 -0.795609 -3 0 \nC -3 0.795609 -2.683901 1.55874 -2.12132 2.12132 \nC -1.55874 2.683901 -0.795609 3 0 3 \nz\n\" id=\"m6e17b3278c\" style=\"stroke:#ff0000;\"/>\n    </defs>\n    <g clip-path=\"url(#p5cbdb07c6c)\">\n     <use style=\"fill:#ff0000;stroke:#ff0000;\" x=\"318.070062\" xlink:href=\"#m6e17b3278c\" y=\"82.313497\"/>\n    </g>\n   </g>\n   <g id=\"line2d_15\">\n    <g clip-path=\"url(#p5cbdb07c6c)\">\n     <use style=\"fill:#ff0000;stroke:#ff0000;\" x=\"347.415783\" xlink:href=\"#m6e17b3278c\" y=\"179.84995\"/>\n    </g>\n   </g>\n   <g id=\"line2d_16\">\n    <g clip-path=\"url(#p5cbdb07c6c)\">\n     <use style=\"fill:#ff0000;stroke:#ff0000;\" x=\"224.492521\" xlink:href=\"#m6e17b3278c\" y=\"187.901145\"/>\n    </g>\n   </g>\n   <g id=\"line2d_17\">\n    <g clip-path=\"url(#p5cbdb07c6c)\">\n     <use style=\"fill:#ff0000;stroke:#ff0000;\" x=\"271.393448\" xlink:href=\"#m6e17b3278c\" y=\"135.42422\"/>\n    </g>\n   </g>\n   <g id=\"line2d_18\">\n    <g clip-path=\"url(#p5cbdb07c6c)\">\n     <use style=\"fill:#ff0000;stroke:#ff0000;\" x=\"236.397883\" xlink:href=\"#m6e17b3278c\" y=\"155.417291\"/>\n    </g>\n   </g>\n   <g id=\"line2d_19\">\n    <g clip-path=\"url(#p5cbdb07c6c)\">\n     <use style=\"fill:#ff0000;stroke:#ff0000;\" x=\"285.510086\" xlink:href=\"#m6e17b3278c\" y=\"17.083636\"/>\n    </g>\n   </g>\n   <g id=\"line2d_20\">\n    <g clip-path=\"url(#p5cbdb07c6c)\">\n     <use style=\"fill:#ff0000;stroke:#ff0000;\" x=\"240.662644\" xlink:href=\"#m6e17b3278c\" y=\"70.709711\"/>\n    </g>\n   </g>\n   <g id=\"line2d_21\">\n    <g clip-path=\"url(#p5cbdb07c6c)\">\n     <use style=\"fill:#ff0000;stroke:#ff0000;\" x=\"363.363068\" xlink:href=\"#m6e17b3278c\" y=\"165.454305\"/>\n    </g>\n   </g>\n   <g id=\"line2d_22\">\n    <g clip-path=\"url(#p5cbdb07c6c)\">\n     <use style=\"fill:#ff0000;stroke:#ff0000;\" x=\"316.792125\" xlink:href=\"#m6e17b3278c\" y=\"208.045605\"/>\n    </g>\n   </g>\n   <g id=\"line2d_23\">\n    <g clip-path=\"url(#p5cbdb07c6c)\">\n     <use style=\"fill:#ff0000;stroke:#ff0000;\" x=\"286.705433\" xlink:href=\"#m6e17b3278c\" y=\"214.756364\"/>\n    </g>\n   </g>\n   <g id=\"patch_3\">\n    <path d=\"M 43.78125 224.64 \nL 43.78125 7.2 \n\" style=\"fill:none;stroke:#000000;stroke-linecap:square;stroke-linejoin:miter;stroke-width:0.8;\"/>\n   </g>\n   <g id=\"patch_4\">\n    <path d=\"M 378.58125 224.64 \nL 378.58125 7.2 \n\" style=\"fill:none;stroke:#000000;stroke-linecap:square;stroke-linejoin:miter;stroke-width:0.8;\"/>\n   </g>\n   <g id=\"patch_5\">\n    <path d=\"M 43.78125 224.64 \nL 378.58125 224.64 \n\" style=\"fill:none;stroke:#000000;stroke-linecap:square;stroke-linejoin:miter;stroke-width:0.8;\"/>\n   </g>\n   <g id=\"patch_6\">\n    <path d=\"M 43.78125 7.2 \nL 378.58125 7.2 \n\" style=\"fill:none;stroke:#000000;stroke-linecap:square;stroke-linejoin:miter;stroke-width:0.8;\"/>\n   </g>\n   <g id=\"text_13\">\n    <!-- $\\gamma = 0.29$ -->\n    <defs>\n     <path d=\"M 23.296875 46.09375 \nL 28.71875 12.3125 \nL 54 54.6875 \nL 63.53125 54.6875 \nL 30.8125 0 \nL 26.765625 -20.796875 \nL 17.78125 -20.796875 \nL 21.828125 0 \nL 15.4375 40.828125 \nQ 14.453125 46.96875 9.8125 46.96875 \nL 7.421875 46.96875 \nL 8.890625 54.6875 \nL 12.3125 54.6875 \nQ 21.921875 54.6875 23.296875 46.09375 \nz\n\" id=\"DejaVuSans-Oblique-947\"/>\n     <path d=\"M 10.59375 45.40625 \nL 73.1875 45.40625 \nL 73.1875 37.203125 \nL 10.59375 37.203125 \nz\nM 10.59375 25.484375 \nL 73.1875 25.484375 \nL 73.1875 17.1875 \nL 10.59375 17.1875 \nz\n\" id=\"DejaVuSans-61\"/>\n     <path d=\"M 10.984375 1.515625 \nL 10.984375 10.5 \nQ 14.703125 8.734375 18.5 7.8125 \nQ 22.3125 6.890625 25.984375 6.890625 \nQ 35.75 6.890625 40.890625 13.453125 \nQ 46.046875 20.015625 46.78125 33.40625 \nQ 43.953125 29.203125 39.59375 26.953125 \nQ 35.25 24.703125 29.984375 24.703125 \nQ 19.046875 24.703125 12.671875 31.3125 \nQ 6.296875 37.9375 6.296875 49.421875 \nQ 6.296875 60.640625 12.9375 67.421875 \nQ 19.578125 74.21875 30.609375 74.21875 \nQ 43.265625 74.21875 49.921875 64.515625 \nQ 56.59375 54.828125 56.59375 36.375 \nQ 56.59375 19.140625 48.40625 8.859375 \nQ 40.234375 -1.421875 26.421875 -1.421875 \nQ 22.703125 -1.421875 18.890625 -0.6875 \nQ 15.09375 0.046875 10.984375 1.515625 \nz\nM 30.609375 32.421875 \nQ 37.25 32.421875 41.125 36.953125 \nQ 45.015625 41.5 45.015625 49.421875 \nQ 45.015625 57.28125 41.125 61.84375 \nQ 37.25 66.40625 30.609375 66.40625 \nQ 23.96875 66.40625 20.09375 61.84375 \nQ 16.21875 57.28125 16.21875 49.421875 \nQ 16.21875 41.5 20.09375 36.953125 \nQ 23.96875 32.421875 30.609375 32.421875 \nz\n\" id=\"DejaVuSans-57\"/>\n    </defs>\n    <g transform=\"translate(131.857786 79.964671)scale(0.1 -0.1)\">\n     <use transform=\"translate(0 0.78125)\" xlink:href=\"#DejaVuSans-Oblique-947\"/>\n     <use transform=\"translate(78.662109 0.78125)\" xlink:href=\"#DejaVuSans-61\"/>\n     <use transform=\"translate(181.933594 0.78125)\" xlink:href=\"#DejaVuSans-48\"/>\n     <use transform=\"translate(245.556641 0.78125)\" xlink:href=\"#DejaVuSans-46\"/>\n     <use transform=\"translate(271.84375 0.78125)\" xlink:href=\"#DejaVuSans-50\"/>\n     <use transform=\"translate(333.716797 0.78125)\" xlink:href=\"#DejaVuSans-57\"/>\n    </g>\n   </g>\n   <g id=\"text_14\">\n    <!-- $\\gamma = 1.05$ -->\n    <g transform=\"translate(88.597944 115.676444)scale(0.1 -0.1)\">\n     <use transform=\"translate(0 0.78125)\" xlink:href=\"#DejaVuSans-Oblique-947\"/>\n     <use transform=\"translate(78.662109 0.78125)\" xlink:href=\"#DejaVuSans-61\"/>\n     <use transform=\"translate(181.933594 0.78125)\" xlink:href=\"#DejaVuSans-49\"/>\n     <use transform=\"translate(245.556641 0.78125)\" xlink:href=\"#DejaVuSans-46\"/>\n     <use transform=\"translate(277.34375 0.78125)\" xlink:href=\"#DejaVuSans-48\"/>\n     <use transform=\"translate(340.966797 0.78125)\" xlink:href=\"#DejaVuSans-53\"/>\n    </g>\n   </g>\n  </g>\n </g>\n <defs>\n  <clipPath id=\"p5cbdb07c6c\">\n   <rect height=\"217.44\" width=\"334.8\" x=\"43.78125\" y=\"7.2\"/>\n  </clipPath>\n </defs>\n</svg>\n"
          },
          "metadata": {
            "needs_background": "light"
          }
        }
      ]
    },
    {
      "cell_type": "markdown",
      "metadata": {
        "id": "ng4KH0V9j0tX"
      },
      "source": [
        "We plot below the return distributions for the two risk aversion values marked on the trade-off curve.\n",
        "Notice that the probability of a loss is near 0 for the low risk value and far above 0 for the high risk value."
      ]
    },
    {
      "cell_type": "code",
      "metadata": {
        "id": "HjeOTSSHj0tY",
        "colab": {
          "base_uri": "https://localhost:8080/",
          "height": 371
        },
        "outputId": "deb3d110-402a-454d-c3c7-886810c18268"
      },
      "source": [
        "# Plot return distributions for two points on the trade-off curve.\n",
        "import scipy.stats as spstats\n",
        "\n",
        "\n",
        "plt.figure()\n",
        "for midx, idx in enumerate(markers_on):\n",
        "    gamma.value = gamma_vals[idx]\n",
        "    prob.solve()\n",
        "    x = np.linspace(-2, 5, 1000)\n",
        "    plt.plot(x, spstats.norm.pdf(x, ret.value, risk.value), label=r\"$\\gamma = %.2f$\" % gamma.value)\n",
        "\n",
        "plt.xlabel('Return')\n",
        "plt.ylabel('Density')\n",
        "plt.legend(loc='upper right')\n",
        "plt.show()"
      ],
      "execution_count": null,
      "outputs": [
        {
          "output_type": "display_data",
          "data": {
            "text/plain": [
              "<Figure size 432x288 with 1 Axes>"
            ],
            "image/svg+xml": "<?xml version=\"1.0\" encoding=\"utf-8\" standalone=\"no\"?>\n<!DOCTYPE svg PUBLIC \"-//W3C//DTD SVG 1.1//EN\"\n  \"http://www.w3.org/Graphics/SVG/1.1/DTD/svg11.dtd\">\n<!-- Created with matplotlib (https://matplotlib.org/) -->\n<svg height=\"262.19625pt\" version=\"1.1\" viewBox=\"0 0 385.78125 262.19625\" width=\"385.78125pt\" xmlns=\"http://www.w3.org/2000/svg\" xmlns:xlink=\"http://www.w3.org/1999/xlink\">\n <defs>\n  <style type=\"text/css\">\n*{stroke-linecap:butt;stroke-linejoin:round;}\n  </style>\n </defs>\n <g id=\"figure_1\">\n  <g id=\"patch_1\">\n   <path d=\"M 0 262.19625 \nL 385.78125 262.19625 \nL 385.78125 0 \nL 0 0 \nz\n\" style=\"fill:none;\"/>\n  </g>\n  <g id=\"axes_1\">\n   <g id=\"patch_2\">\n    <path d=\"M 43.78125 224.64 \nL 378.58125 224.64 \nL 378.58125 7.2 \nL 43.78125 7.2 \nz\n\" style=\"fill:#ffffff;\"/>\n   </g>\n   <g id=\"matplotlib.axis_1\">\n    <g id=\"xtick_1\">\n     <g id=\"line2d_1\">\n      <defs>\n       <path d=\"M 0 0 \nL 0 3.5 \n\" id=\"me3e053f2de\" style=\"stroke:#000000;stroke-width:0.8;\"/>\n      </defs>\n      <g>\n       <use style=\"stroke:#000000;stroke-width:0.8;\" x=\"58.999432\" xlink:href=\"#me3e053f2de\" y=\"224.64\"/>\n      </g>\n     </g>\n     <g id=\"text_1\">\n      <!-- −2 -->\n      <defs>\n       <path d=\"M 10.59375 35.5 \nL 73.1875 35.5 \nL 73.1875 27.203125 \nL 10.59375 27.203125 \nz\n\" id=\"DejaVuSans-8722\"/>\n       <path d=\"M 19.1875 8.296875 \nL 53.609375 8.296875 \nL 53.609375 0 \nL 7.328125 0 \nL 7.328125 8.296875 \nQ 12.9375 14.109375 22.625 23.890625 \nQ 32.328125 33.6875 34.8125 36.53125 \nQ 39.546875 41.84375 41.421875 45.53125 \nQ 43.3125 49.21875 43.3125 52.78125 \nQ 43.3125 58.59375 39.234375 62.25 \nQ 35.15625 65.921875 28.609375 65.921875 \nQ 23.96875 65.921875 18.8125 64.3125 \nQ 13.671875 62.703125 7.8125 59.421875 \nL 7.8125 69.390625 \nQ 13.765625 71.78125 18.9375 73 \nQ 24.125 74.21875 28.421875 74.21875 \nQ 39.75 74.21875 46.484375 68.546875 \nQ 53.21875 62.890625 53.21875 53.421875 \nQ 53.21875 48.921875 51.53125 44.890625 \nQ 49.859375 40.875 45.40625 35.40625 \nQ 44.1875 33.984375 37.640625 27.21875 \nQ 31.109375 20.453125 19.1875 8.296875 \nz\n\" id=\"DejaVuSans-50\"/>\n      </defs>\n      <g transform=\"translate(51.628338 239.238437)scale(0.1 -0.1)\">\n       <use xlink:href=\"#DejaVuSans-8722\"/>\n       <use x=\"83.789062\" xlink:href=\"#DejaVuSans-50\"/>\n      </g>\n     </g>\n    </g>\n    <g id=\"xtick_2\">\n     <g id=\"line2d_2\">\n      <g>\n       <use style=\"stroke:#000000;stroke-width:0.8;\" x=\"102.479951\" xlink:href=\"#me3e053f2de\" y=\"224.64\"/>\n      </g>\n     </g>\n     <g id=\"text_2\">\n      <!-- −1 -->\n      <defs>\n       <path d=\"M 12.40625 8.296875 \nL 28.515625 8.296875 \nL 28.515625 63.921875 \nL 10.984375 60.40625 \nL 10.984375 69.390625 \nL 28.421875 72.90625 \nL 38.28125 72.90625 \nL 38.28125 8.296875 \nL 54.390625 8.296875 \nL 54.390625 0 \nL 12.40625 0 \nz\n\" id=\"DejaVuSans-49\"/>\n      </defs>\n      <g transform=\"translate(95.108858 239.238437)scale(0.1 -0.1)\">\n       <use xlink:href=\"#DejaVuSans-8722\"/>\n       <use x=\"83.789062\" xlink:href=\"#DejaVuSans-49\"/>\n      </g>\n     </g>\n    </g>\n    <g id=\"xtick_3\">\n     <g id=\"line2d_3\">\n      <g>\n       <use style=\"stroke:#000000;stroke-width:0.8;\" x=\"145.960471\" xlink:href=\"#me3e053f2de\" y=\"224.64\"/>\n      </g>\n     </g>\n     <g id=\"text_3\">\n      <!-- 0 -->\n      <defs>\n       <path d=\"M 31.78125 66.40625 \nQ 24.171875 66.40625 20.328125 58.90625 \nQ 16.5 51.421875 16.5 36.375 \nQ 16.5 21.390625 20.328125 13.890625 \nQ 24.171875 6.390625 31.78125 6.390625 \nQ 39.453125 6.390625 43.28125 13.890625 \nQ 47.125 21.390625 47.125 36.375 \nQ 47.125 51.421875 43.28125 58.90625 \nQ 39.453125 66.40625 31.78125 66.40625 \nz\nM 31.78125 74.21875 \nQ 44.046875 74.21875 50.515625 64.515625 \nQ 56.984375 54.828125 56.984375 36.375 \nQ 56.984375 17.96875 50.515625 8.265625 \nQ 44.046875 -1.421875 31.78125 -1.421875 \nQ 19.53125 -1.421875 13.0625 8.265625 \nQ 6.59375 17.96875 6.59375 36.375 \nQ 6.59375 54.828125 13.0625 64.515625 \nQ 19.53125 74.21875 31.78125 74.21875 \nz\n\" id=\"DejaVuSans-48\"/>\n      </defs>\n      <g transform=\"translate(142.779221 239.238437)scale(0.1 -0.1)\">\n       <use xlink:href=\"#DejaVuSans-48\"/>\n      </g>\n     </g>\n    </g>\n    <g id=\"xtick_4\">\n     <g id=\"line2d_4\">\n      <g>\n       <use style=\"stroke:#000000;stroke-width:0.8;\" x=\"189.44099\" xlink:href=\"#me3e053f2de\" y=\"224.64\"/>\n      </g>\n     </g>\n     <g id=\"text_4\">\n      <!-- 1 -->\n      <g transform=\"translate(186.25974 239.238437)scale(0.1 -0.1)\">\n       <use xlink:href=\"#DejaVuSans-49\"/>\n      </g>\n     </g>\n    </g>\n    <g id=\"xtick_5\">\n     <g id=\"line2d_5\">\n      <g>\n       <use style=\"stroke:#000000;stroke-width:0.8;\" x=\"232.92151\" xlink:href=\"#me3e053f2de\" y=\"224.64\"/>\n      </g>\n     </g>\n     <g id=\"text_5\">\n      <!-- 2 -->\n      <g transform=\"translate(229.74026 239.238437)scale(0.1 -0.1)\">\n       <use xlink:href=\"#DejaVuSans-50\"/>\n      </g>\n     </g>\n    </g>\n    <g id=\"xtick_6\">\n     <g id=\"line2d_6\">\n      <g>\n       <use style=\"stroke:#000000;stroke-width:0.8;\" x=\"276.402029\" xlink:href=\"#me3e053f2de\" y=\"224.64\"/>\n      </g>\n     </g>\n     <g id=\"text_6\">\n      <!-- 3 -->\n      <defs>\n       <path d=\"M 40.578125 39.3125 \nQ 47.65625 37.796875 51.625 33 \nQ 55.609375 28.21875 55.609375 21.1875 \nQ 55.609375 10.40625 48.1875 4.484375 \nQ 40.765625 -1.421875 27.09375 -1.421875 \nQ 22.515625 -1.421875 17.65625 -0.515625 \nQ 12.796875 0.390625 7.625 2.203125 \nL 7.625 11.71875 \nQ 11.71875 9.328125 16.59375 8.109375 \nQ 21.484375 6.890625 26.8125 6.890625 \nQ 36.078125 6.890625 40.9375 10.546875 \nQ 45.796875 14.203125 45.796875 21.1875 \nQ 45.796875 27.640625 41.28125 31.265625 \nQ 36.765625 34.90625 28.71875 34.90625 \nL 20.21875 34.90625 \nL 20.21875 43.015625 \nL 29.109375 43.015625 \nQ 36.375 43.015625 40.234375 45.921875 \nQ 44.09375 48.828125 44.09375 54.296875 \nQ 44.09375 59.90625 40.109375 62.90625 \nQ 36.140625 65.921875 28.71875 65.921875 \nQ 24.65625 65.921875 20.015625 65.03125 \nQ 15.375 64.15625 9.8125 62.3125 \nL 9.8125 71.09375 \nQ 15.4375 72.65625 20.34375 73.4375 \nQ 25.25 74.21875 29.59375 74.21875 \nQ 40.828125 74.21875 47.359375 69.109375 \nQ 53.90625 64.015625 53.90625 55.328125 \nQ 53.90625 49.265625 50.4375 45.09375 \nQ 46.96875 40.921875 40.578125 39.3125 \nz\n\" id=\"DejaVuSans-51\"/>\n      </defs>\n      <g transform=\"translate(273.220779 239.238437)scale(0.1 -0.1)\">\n       <use xlink:href=\"#DejaVuSans-51\"/>\n      </g>\n     </g>\n    </g>\n    <g id=\"xtick_7\">\n     <g id=\"line2d_7\">\n      <g>\n       <use style=\"stroke:#000000;stroke-width:0.8;\" x=\"319.882549\" xlink:href=\"#me3e053f2de\" y=\"224.64\"/>\n      </g>\n     </g>\n     <g id=\"text_7\">\n      <!-- 4 -->\n      <defs>\n       <path d=\"M 37.796875 64.3125 \nL 12.890625 25.390625 \nL 37.796875 25.390625 \nz\nM 35.203125 72.90625 \nL 47.609375 72.90625 \nL 47.609375 25.390625 \nL 58.015625 25.390625 \nL 58.015625 17.1875 \nL 47.609375 17.1875 \nL 47.609375 0 \nL 37.796875 0 \nL 37.796875 17.1875 \nL 4.890625 17.1875 \nL 4.890625 26.703125 \nz\n\" id=\"DejaVuSans-52\"/>\n      </defs>\n      <g transform=\"translate(316.701299 239.238437)scale(0.1 -0.1)\">\n       <use xlink:href=\"#DejaVuSans-52\"/>\n      </g>\n     </g>\n    </g>\n    <g id=\"xtick_8\">\n     <g id=\"line2d_8\">\n      <g>\n       <use style=\"stroke:#000000;stroke-width:0.8;\" x=\"363.363068\" xlink:href=\"#me3e053f2de\" y=\"224.64\"/>\n      </g>\n     </g>\n     <g id=\"text_8\">\n      <!-- 5 -->\n      <defs>\n       <path d=\"M 10.796875 72.90625 \nL 49.515625 72.90625 \nL 49.515625 64.59375 \nL 19.828125 64.59375 \nL 19.828125 46.734375 \nQ 21.96875 47.46875 24.109375 47.828125 \nQ 26.265625 48.1875 28.421875 48.1875 \nQ 40.625 48.1875 47.75 41.5 \nQ 54.890625 34.8125 54.890625 23.390625 \nQ 54.890625 11.625 47.5625 5.09375 \nQ 40.234375 -1.421875 26.90625 -1.421875 \nQ 22.3125 -1.421875 17.546875 -0.640625 \nQ 12.796875 0.140625 7.71875 1.703125 \nL 7.71875 11.625 \nQ 12.109375 9.234375 16.796875 8.0625 \nQ 21.484375 6.890625 26.703125 6.890625 \nQ 35.15625 6.890625 40.078125 11.328125 \nQ 45.015625 15.765625 45.015625 23.390625 \nQ 45.015625 31 40.078125 35.4375 \nQ 35.15625 39.890625 26.703125 39.890625 \nQ 22.75 39.890625 18.8125 39.015625 \nQ 14.890625 38.140625 10.796875 36.28125 \nz\n\" id=\"DejaVuSans-53\"/>\n      </defs>\n      <g transform=\"translate(360.181818 239.238437)scale(0.1 -0.1)\">\n       <use xlink:href=\"#DejaVuSans-53\"/>\n      </g>\n     </g>\n    </g>\n    <g id=\"text_9\">\n     <!-- Return -->\n     <defs>\n      <path d=\"M 44.390625 34.1875 \nQ 47.5625 33.109375 50.5625 29.59375 \nQ 53.5625 26.078125 56.59375 19.921875 \nL 66.609375 0 \nL 56 0 \nL 46.6875 18.703125 \nQ 43.0625 26.03125 39.671875 28.421875 \nQ 36.28125 30.8125 30.421875 30.8125 \nL 19.671875 30.8125 \nL 19.671875 0 \nL 9.8125 0 \nL 9.8125 72.90625 \nL 32.078125 72.90625 \nQ 44.578125 72.90625 50.734375 67.671875 \nQ 56.890625 62.453125 56.890625 51.90625 \nQ 56.890625 45.015625 53.6875 40.46875 \nQ 50.484375 35.9375 44.390625 34.1875 \nz\nM 19.671875 64.796875 \nL 19.671875 38.921875 \nL 32.078125 38.921875 \nQ 39.203125 38.921875 42.84375 42.21875 \nQ 46.484375 45.515625 46.484375 51.90625 \nQ 46.484375 58.296875 42.84375 61.546875 \nQ 39.203125 64.796875 32.078125 64.796875 \nz\n\" id=\"DejaVuSans-82\"/>\n      <path d=\"M 56.203125 29.59375 \nL 56.203125 25.203125 \nL 14.890625 25.203125 \nQ 15.484375 15.921875 20.484375 11.0625 \nQ 25.484375 6.203125 34.421875 6.203125 \nQ 39.59375 6.203125 44.453125 7.46875 \nQ 49.3125 8.734375 54.109375 11.28125 \nL 54.109375 2.78125 \nQ 49.265625 0.734375 44.1875 -0.34375 \nQ 39.109375 -1.421875 33.890625 -1.421875 \nQ 20.796875 -1.421875 13.15625 6.1875 \nQ 5.515625 13.8125 5.515625 26.8125 \nQ 5.515625 40.234375 12.765625 48.109375 \nQ 20.015625 56 32.328125 56 \nQ 43.359375 56 49.78125 48.890625 \nQ 56.203125 41.796875 56.203125 29.59375 \nz\nM 47.21875 32.234375 \nQ 47.125 39.59375 43.09375 43.984375 \nQ 39.0625 48.390625 32.421875 48.390625 \nQ 24.90625 48.390625 20.390625 44.140625 \nQ 15.875 39.890625 15.1875 32.171875 \nz\n\" id=\"DejaVuSans-101\"/>\n      <path d=\"M 18.3125 70.21875 \nL 18.3125 54.6875 \nL 36.8125 54.6875 \nL 36.8125 47.703125 \nL 18.3125 47.703125 \nL 18.3125 18.015625 \nQ 18.3125 11.328125 20.140625 9.421875 \nQ 21.96875 7.515625 27.59375 7.515625 \nL 36.8125 7.515625 \nL 36.8125 0 \nL 27.59375 0 \nQ 17.1875 0 13.234375 3.875 \nQ 9.28125 7.765625 9.28125 18.015625 \nL 9.28125 47.703125 \nL 2.6875 47.703125 \nL 2.6875 54.6875 \nL 9.28125 54.6875 \nL 9.28125 70.21875 \nz\n\" id=\"DejaVuSans-116\"/>\n      <path d=\"M 8.5 21.578125 \nL 8.5 54.6875 \nL 17.484375 54.6875 \nL 17.484375 21.921875 \nQ 17.484375 14.15625 20.5 10.265625 \nQ 23.53125 6.390625 29.59375 6.390625 \nQ 36.859375 6.390625 41.078125 11.03125 \nQ 45.3125 15.671875 45.3125 23.6875 \nL 45.3125 54.6875 \nL 54.296875 54.6875 \nL 54.296875 0 \nL 45.3125 0 \nL 45.3125 8.40625 \nQ 42.046875 3.421875 37.71875 1 \nQ 33.40625 -1.421875 27.6875 -1.421875 \nQ 18.265625 -1.421875 13.375 4.4375 \nQ 8.5 10.296875 8.5 21.578125 \nz\nM 31.109375 56 \nz\n\" id=\"DejaVuSans-117\"/>\n      <path d=\"M 41.109375 46.296875 \nQ 39.59375 47.171875 37.8125 47.578125 \nQ 36.03125 48 33.890625 48 \nQ 26.265625 48 22.1875 43.046875 \nQ 18.109375 38.09375 18.109375 28.8125 \nL 18.109375 0 \nL 9.078125 0 \nL 9.078125 54.6875 \nL 18.109375 54.6875 \nL 18.109375 46.1875 \nQ 20.953125 51.171875 25.484375 53.578125 \nQ 30.03125 56 36.53125 56 \nQ 37.453125 56 38.578125 55.875 \nQ 39.703125 55.765625 41.0625 55.515625 \nz\n\" id=\"DejaVuSans-114\"/>\n      <path d=\"M 54.890625 33.015625 \nL 54.890625 0 \nL 45.90625 0 \nL 45.90625 32.71875 \nQ 45.90625 40.484375 42.875 44.328125 \nQ 39.84375 48.1875 33.796875 48.1875 \nQ 26.515625 48.1875 22.3125 43.546875 \nQ 18.109375 38.921875 18.109375 30.90625 \nL 18.109375 0 \nL 9.078125 0 \nL 9.078125 54.6875 \nL 18.109375 54.6875 \nL 18.109375 46.1875 \nQ 21.34375 51.125 25.703125 53.5625 \nQ 30.078125 56 35.796875 56 \nQ 45.21875 56 50.046875 50.171875 \nQ 54.890625 44.34375 54.890625 33.015625 \nz\n\" id=\"DejaVuSans-110\"/>\n     </defs>\n     <g transform=\"translate(194.589844 252.916562)scale(0.1 -0.1)\">\n      <use xlink:href=\"#DejaVuSans-82\"/>\n      <use x=\"64.982422\" xlink:href=\"#DejaVuSans-101\"/>\n      <use x=\"126.505859\" xlink:href=\"#DejaVuSans-116\"/>\n      <use x=\"165.714844\" xlink:href=\"#DejaVuSans-117\"/>\n      <use x=\"229.09375\" xlink:href=\"#DejaVuSans-114\"/>\n      <use x=\"268.457031\" xlink:href=\"#DejaVuSans-110\"/>\n     </g>\n    </g>\n   </g>\n   <g id=\"matplotlib.axis_2\">\n    <g id=\"ytick_1\">\n     <g id=\"line2d_9\">\n      <defs>\n       <path d=\"M 0 0 \nL -3.5 0 \n\" id=\"m6822152eb7\" style=\"stroke:#000000;stroke-width:0.8;\"/>\n      </defs>\n      <g>\n       <use style=\"stroke:#000000;stroke-width:0.8;\" x=\"43.78125\" xlink:href=\"#m6822152eb7\" y=\"214.756364\"/>\n      </g>\n     </g>\n     <g id=\"text_10\">\n      <!-- 0.0 -->\n      <defs>\n       <path d=\"M 10.6875 12.40625 \nL 21 12.40625 \nL 21 0 \nL 10.6875 0 \nz\n\" id=\"DejaVuSans-46\"/>\n      </defs>\n      <g transform=\"translate(20.878125 218.555582)scale(0.1 -0.1)\">\n       <use xlink:href=\"#DejaVuSans-48\"/>\n       <use x=\"63.623047\" xlink:href=\"#DejaVuSans-46\"/>\n       <use x=\"95.410156\" xlink:href=\"#DejaVuSans-48\"/>\n      </g>\n     </g>\n    </g>\n    <g id=\"ytick_2\">\n     <g id=\"line2d_10\">\n      <g>\n       <use style=\"stroke:#000000;stroke-width:0.8;\" x=\"43.78125\" xlink:href=\"#m6822152eb7\" y=\"182.84734\"/>\n      </g>\n     </g>\n     <g id=\"text_11\">\n      <!-- 0.2 -->\n      <g transform=\"translate(20.878125 186.646559)scale(0.1 -0.1)\">\n       <use xlink:href=\"#DejaVuSans-48\"/>\n       <use x=\"63.623047\" xlink:href=\"#DejaVuSans-46\"/>\n       <use x=\"95.410156\" xlink:href=\"#DejaVuSans-50\"/>\n      </g>\n     </g>\n    </g>\n    <g id=\"ytick_3\">\n     <g id=\"line2d_11\">\n      <g>\n       <use style=\"stroke:#000000;stroke-width:0.8;\" x=\"43.78125\" xlink:href=\"#m6822152eb7\" y=\"150.938316\"/>\n      </g>\n     </g>\n     <g id=\"text_12\">\n      <!-- 0.4 -->\n      <g transform=\"translate(20.878125 154.737535)scale(0.1 -0.1)\">\n       <use xlink:href=\"#DejaVuSans-48\"/>\n       <use x=\"63.623047\" xlink:href=\"#DejaVuSans-46\"/>\n       <use x=\"95.410156\" xlink:href=\"#DejaVuSans-52\"/>\n      </g>\n     </g>\n    </g>\n    <g id=\"ytick_4\">\n     <g id=\"line2d_12\">\n      <g>\n       <use style=\"stroke:#000000;stroke-width:0.8;\" x=\"43.78125\" xlink:href=\"#m6822152eb7\" y=\"119.029292\"/>\n      </g>\n     </g>\n     <g id=\"text_13\">\n      <!-- 0.6 -->\n      <defs>\n       <path d=\"M 33.015625 40.375 \nQ 26.375 40.375 22.484375 35.828125 \nQ 18.609375 31.296875 18.609375 23.390625 \nQ 18.609375 15.53125 22.484375 10.953125 \nQ 26.375 6.390625 33.015625 6.390625 \nQ 39.65625 6.390625 43.53125 10.953125 \nQ 47.40625 15.53125 47.40625 23.390625 \nQ 47.40625 31.296875 43.53125 35.828125 \nQ 39.65625 40.375 33.015625 40.375 \nz\nM 52.59375 71.296875 \nL 52.59375 62.3125 \nQ 48.875 64.0625 45.09375 64.984375 \nQ 41.3125 65.921875 37.59375 65.921875 \nQ 27.828125 65.921875 22.671875 59.328125 \nQ 17.53125 52.734375 16.796875 39.40625 \nQ 19.671875 43.65625 24.015625 45.921875 \nQ 28.375 48.1875 33.59375 48.1875 \nQ 44.578125 48.1875 50.953125 41.515625 \nQ 57.328125 34.859375 57.328125 23.390625 \nQ 57.328125 12.15625 50.6875 5.359375 \nQ 44.046875 -1.421875 33.015625 -1.421875 \nQ 20.359375 -1.421875 13.671875 8.265625 \nQ 6.984375 17.96875 6.984375 36.375 \nQ 6.984375 53.65625 15.1875 63.9375 \nQ 23.390625 74.21875 37.203125 74.21875 \nQ 40.921875 74.21875 44.703125 73.484375 \nQ 48.484375 72.75 52.59375 71.296875 \nz\n\" id=\"DejaVuSans-54\"/>\n      </defs>\n      <g transform=\"translate(20.878125 122.828511)scale(0.1 -0.1)\">\n       <use xlink:href=\"#DejaVuSans-48\"/>\n       <use x=\"63.623047\" xlink:href=\"#DejaVuSans-46\"/>\n       <use x=\"95.410156\" xlink:href=\"#DejaVuSans-54\"/>\n      </g>\n     </g>\n    </g>\n    <g id=\"ytick_5\">\n     <g id=\"line2d_13\">\n      <g>\n       <use style=\"stroke:#000000;stroke-width:0.8;\" x=\"43.78125\" xlink:href=\"#m6822152eb7\" y=\"87.120268\"/>\n      </g>\n     </g>\n     <g id=\"text_14\">\n      <!-- 0.8 -->\n      <defs>\n       <path d=\"M 31.78125 34.625 \nQ 24.75 34.625 20.71875 30.859375 \nQ 16.703125 27.09375 16.703125 20.515625 \nQ 16.703125 13.921875 20.71875 10.15625 \nQ 24.75 6.390625 31.78125 6.390625 \nQ 38.8125 6.390625 42.859375 10.171875 \nQ 46.921875 13.96875 46.921875 20.515625 \nQ 46.921875 27.09375 42.890625 30.859375 \nQ 38.875 34.625 31.78125 34.625 \nz\nM 21.921875 38.8125 \nQ 15.578125 40.375 12.03125 44.71875 \nQ 8.5 49.078125 8.5 55.328125 \nQ 8.5 64.0625 14.71875 69.140625 \nQ 20.953125 74.21875 31.78125 74.21875 \nQ 42.671875 74.21875 48.875 69.140625 \nQ 55.078125 64.0625 55.078125 55.328125 \nQ 55.078125 49.078125 51.53125 44.71875 \nQ 48 40.375 41.703125 38.8125 \nQ 48.828125 37.15625 52.796875 32.3125 \nQ 56.78125 27.484375 56.78125 20.515625 \nQ 56.78125 9.90625 50.3125 4.234375 \nQ 43.84375 -1.421875 31.78125 -1.421875 \nQ 19.734375 -1.421875 13.25 4.234375 \nQ 6.78125 9.90625 6.78125 20.515625 \nQ 6.78125 27.484375 10.78125 32.3125 \nQ 14.796875 37.15625 21.921875 38.8125 \nz\nM 18.3125 54.390625 \nQ 18.3125 48.734375 21.84375 45.5625 \nQ 25.390625 42.390625 31.78125 42.390625 \nQ 38.140625 42.390625 41.71875 45.5625 \nQ 45.3125 48.734375 45.3125 54.390625 \nQ 45.3125 60.0625 41.71875 63.234375 \nQ 38.140625 66.40625 31.78125 66.40625 \nQ 25.390625 66.40625 21.84375 63.234375 \nQ 18.3125 60.0625 18.3125 54.390625 \nz\n\" id=\"DejaVuSans-56\"/>\n      </defs>\n      <g transform=\"translate(20.878125 90.919487)scale(0.1 -0.1)\">\n       <use xlink:href=\"#DejaVuSans-48\"/>\n       <use x=\"63.623047\" xlink:href=\"#DejaVuSans-46\"/>\n       <use x=\"95.410156\" xlink:href=\"#DejaVuSans-56\"/>\n      </g>\n     </g>\n    </g>\n    <g id=\"ytick_6\">\n     <g id=\"line2d_14\">\n      <g>\n       <use style=\"stroke:#000000;stroke-width:0.8;\" x=\"43.78125\" xlink:href=\"#m6822152eb7\" y=\"55.211244\"/>\n      </g>\n     </g>\n     <g id=\"text_15\">\n      <!-- 1.0 -->\n      <g transform=\"translate(20.878125 59.010463)scale(0.1 -0.1)\">\n       <use xlink:href=\"#DejaVuSans-49\"/>\n       <use x=\"63.623047\" xlink:href=\"#DejaVuSans-46\"/>\n       <use x=\"95.410156\" xlink:href=\"#DejaVuSans-48\"/>\n      </g>\n     </g>\n    </g>\n    <g id=\"ytick_7\">\n     <g id=\"line2d_15\">\n      <g>\n       <use style=\"stroke:#000000;stroke-width:0.8;\" x=\"43.78125\" xlink:href=\"#m6822152eb7\" y=\"23.302221\"/>\n      </g>\n     </g>\n     <g id=\"text_16\">\n      <!-- 1.2 -->\n      <g transform=\"translate(20.878125 27.101439)scale(0.1 -0.1)\">\n       <use xlink:href=\"#DejaVuSans-49\"/>\n       <use x=\"63.623047\" xlink:href=\"#DejaVuSans-46\"/>\n       <use x=\"95.410156\" xlink:href=\"#DejaVuSans-50\"/>\n      </g>\n     </g>\n    </g>\n    <g id=\"text_17\">\n     <!-- Density -->\n     <defs>\n      <path d=\"M 19.671875 64.796875 \nL 19.671875 8.109375 \nL 31.59375 8.109375 \nQ 46.6875 8.109375 53.6875 14.9375 \nQ 60.6875 21.78125 60.6875 36.53125 \nQ 60.6875 51.171875 53.6875 57.984375 \nQ 46.6875 64.796875 31.59375 64.796875 \nz\nM 9.8125 72.90625 \nL 30.078125 72.90625 \nQ 51.265625 72.90625 61.171875 64.09375 \nQ 71.09375 55.28125 71.09375 36.53125 \nQ 71.09375 17.671875 61.125 8.828125 \nQ 51.171875 0 30.078125 0 \nL 9.8125 0 \nz\n\" id=\"DejaVuSans-68\"/>\n      <path d=\"M 44.28125 53.078125 \nL 44.28125 44.578125 \nQ 40.484375 46.53125 36.375 47.5 \nQ 32.28125 48.484375 27.875 48.484375 \nQ 21.1875 48.484375 17.84375 46.4375 \nQ 14.5 44.390625 14.5 40.28125 \nQ 14.5 37.15625 16.890625 35.375 \nQ 19.28125 33.59375 26.515625 31.984375 \nL 29.59375 31.296875 \nQ 39.15625 29.25 43.1875 25.515625 \nQ 47.21875 21.78125 47.21875 15.09375 \nQ 47.21875 7.46875 41.1875 3.015625 \nQ 35.15625 -1.421875 24.609375 -1.421875 \nQ 20.21875 -1.421875 15.453125 -0.5625 \nQ 10.6875 0.296875 5.421875 2 \nL 5.421875 11.28125 \nQ 10.40625 8.6875 15.234375 7.390625 \nQ 20.0625 6.109375 24.8125 6.109375 \nQ 31.15625 6.109375 34.5625 8.28125 \nQ 37.984375 10.453125 37.984375 14.40625 \nQ 37.984375 18.0625 35.515625 20.015625 \nQ 33.0625 21.96875 24.703125 23.78125 \nL 21.578125 24.515625 \nQ 13.234375 26.265625 9.515625 29.90625 \nQ 5.8125 33.546875 5.8125 39.890625 \nQ 5.8125 47.609375 11.28125 51.796875 \nQ 16.75 56 26.8125 56 \nQ 31.78125 56 36.171875 55.265625 \nQ 40.578125 54.546875 44.28125 53.078125 \nz\n\" id=\"DejaVuSans-115\"/>\n      <path d=\"M 9.421875 54.6875 \nL 18.40625 54.6875 \nL 18.40625 0 \nL 9.421875 0 \nz\nM 9.421875 75.984375 \nL 18.40625 75.984375 \nL 18.40625 64.59375 \nL 9.421875 64.59375 \nz\n\" id=\"DejaVuSans-105\"/>\n      <path d=\"M 32.171875 -5.078125 \nQ 28.375 -14.84375 24.75 -17.8125 \nQ 21.140625 -20.796875 15.09375 -20.796875 \nL 7.90625 -20.796875 \nL 7.90625 -13.28125 \nL 13.1875 -13.28125 \nQ 16.890625 -13.28125 18.9375 -11.515625 \nQ 21 -9.765625 23.484375 -3.21875 \nL 25.09375 0.875 \nL 2.984375 54.6875 \nL 12.5 54.6875 \nL 29.59375 11.921875 \nL 46.6875 54.6875 \nL 56.203125 54.6875 \nz\n\" id=\"DejaVuSans-121\"/>\n     </defs>\n     <g transform=\"translate(14.798438 134.928594)rotate(-90)scale(0.1 -0.1)\">\n      <use xlink:href=\"#DejaVuSans-68\"/>\n      <use x=\"77.001953\" xlink:href=\"#DejaVuSans-101\"/>\n      <use x=\"138.525391\" xlink:href=\"#DejaVuSans-110\"/>\n      <use x=\"201.904297\" xlink:href=\"#DejaVuSans-115\"/>\n      <use x=\"254.003906\" xlink:href=\"#DejaVuSans-105\"/>\n      <use x=\"281.787109\" xlink:href=\"#DejaVuSans-116\"/>\n      <use x=\"320.996094\" xlink:href=\"#DejaVuSans-121\"/>\n     </g>\n    </g>\n   </g>\n   <g id=\"line2d_16\">\n    <path clip-path=\"url(#p99c9779e17)\" d=\"M 58.999432 214.702103 \nL 77.27953 214.506252 \nL 88.247589 214.183949 \nL 96.778302 213.715577 \nL 103.785673 213.106148 \nL 109.57437 212.390495 \nL 114.753732 211.541706 \nL 119.628424 210.524344 \nL 124.198449 209.345056 \nL 128.463805 208.020337 \nL 132.729162 206.455452 \nL 136.68985 204.769109 \nL 140.650537 202.844212 \nL 144.611225 200.671325 \nL 148.571913 198.246267 \nL 152.532601 195.571227 \nL 156.797958 192.421999 \nL 161.367982 188.764512 \nL 166.547343 184.31915 \nL 172.945378 178.516165 \nL 186.96012 165.692243 \nL 191.530144 161.857581 \nL 195.490832 158.818865 \nL 198.842184 156.508635 \nL 201.888867 154.651318 \nL 204.93555 153.053063 \nL 207.677564 151.855641 \nL 210.419579 150.901652 \nL 213.161594 150.202782 \nL 215.59894 149.802794 \nL 218.036287 149.615181 \nL 220.473633 149.641792 \nL 222.91098 149.882363 \nL 225.348326 150.334527 \nL 227.785673 150.993845 \nL 230.527687 151.975109 \nL 233.269702 153.19835 \nL 236.316385 154.823233 \nL 239.363068 156.704676 \nL 242.71442 159.038211 \nL 246.370439 161.853989 \nL 250.635795 165.423846 \nL 256.119825 170.325271 \nL 275.00926 187.483245 \nL 279.883953 191.470393 \nL 284.453977 194.91604 \nL 288.719334 197.847924 \nL 292.680021 200.31204 \nL 296.640709 202.523881 \nL 300.601397 204.486712 \nL 304.562085 206.209228 \nL 308.827442 207.810459 \nL 313.092798 209.168349 \nL 317.662822 210.379347 \nL 322.537515 211.426047 \nL 327.716877 212.301051 \nL 333.505574 213.040384 \nL 339.903609 213.626166 \nL 347.520316 214.088936 \nL 356.965034 214.424195 \nL 363.363068 214.555052 \nL 363.363068 214.555052 \n\" style=\"fill:none;stroke:#1f77b4;stroke-linecap:square;stroke-width:1.5;\"/>\n   </g>\n   <g id=\"line2d_17\">\n    <path clip-path=\"url(#p99c9779e17)\" d=\"M 58.999432 214.756364 \nL 148.571913 214.648148 \nL 152.83727 214.419907 \nL 155.883953 214.04165 \nL 158.016631 213.578927 \nL 159.844641 212.983195 \nL 161.67265 212.131186 \nL 163.195992 211.162926 \nL 164.719334 209.895428 \nL 165.938007 208.618945 \nL 167.15668 207.06575 \nL 168.375353 205.192231 \nL 169.594026 202.95208 \nL 170.8127 200.297205 \nL 172.031373 197.178916 \nL 173.250046 193.549425 \nL 174.773388 188.225386 \nL 176.296729 181.955376 \nL 177.820071 174.680858 \nL 179.343412 166.369274 \nL 181.171422 155.030397 \nL 182.999432 142.280569 \nL 185.13211 125.862856 \nL 188.178793 100.450069 \nL 192.748818 62.24284 \nL 194.576827 48.626839 \nL 196.100169 38.664295 \nL 197.318842 31.831716 \nL 198.537515 26.16837 \nL 199.45152 22.763127 \nL 200.365525 20.12768 \nL 201.27953 18.295165 \nL 201.888867 17.531454 \nL 202.498203 17.139461 \nL 203.10754 17.12141 \nL 203.716877 17.477404 \nL 204.326213 18.205423 \nL 204.93555 19.301344 \nL 205.849555 21.620954 \nL 206.76356 24.724683 \nL 207.677564 28.573743 \nL 208.896238 34.781983 \nL 210.114911 42.096412 \nL 211.638252 52.560288 \nL 213.770931 69.079465 \nL 217.122282 97.34142 \nL 220.778302 127.828449 \nL 223.215648 146.260646 \nL 225.043658 158.599393 \nL 226.871668 169.493709 \nL 228.395009 177.428664 \nL 229.918351 184.334848 \nL 231.441692 190.255078 \nL 232.965034 195.255435 \nL 234.488375 199.417961 \nL 236.011717 202.833972 \nL 237.535058 205.598271 \nL 238.753732 207.403502 \nL 240.277073 209.227407 \nL 241.800415 210.647815 \nL 243.323756 211.739248 \nL 244.847098 212.566818 \nL 246.675107 213.28919 \nL 248.807786 213.856301 \nL 251.245132 214.255859 \nL 254.291815 214.526051 \nL 258.86184 214.69058 \nL 268.306557 214.752841 \nL 363.363068 214.756364 \nL 363.363068 214.756364 \n\" style=\"fill:none;stroke:#ff7f0e;stroke-linecap:square;stroke-width:1.5;\"/>\n   </g>\n   <g id=\"patch_3\">\n    <path d=\"M 43.78125 224.64 \nL 43.78125 7.2 \n\" style=\"fill:none;stroke:#000000;stroke-linecap:square;stroke-linejoin:miter;stroke-width:0.8;\"/>\n   </g>\n   <g id=\"patch_4\">\n    <path d=\"M 378.58125 224.64 \nL 378.58125 7.2 \n\" style=\"fill:none;stroke:#000000;stroke-linecap:square;stroke-linejoin:miter;stroke-width:0.8;\"/>\n   </g>\n   <g id=\"patch_5\">\n    <path d=\"M 43.78125 224.64 \nL 378.58125 224.64 \n\" style=\"fill:none;stroke:#000000;stroke-linecap:square;stroke-linejoin:miter;stroke-width:0.8;\"/>\n   </g>\n   <g id=\"patch_6\">\n    <path d=\"M 43.78125 7.2 \nL 378.58125 7.2 \n\" style=\"fill:none;stroke:#000000;stroke-linecap:square;stroke-linejoin:miter;stroke-width:0.8;\"/>\n   </g>\n   <g id=\"legend_1\">\n    <g id=\"patch_7\">\n     <path d=\"M 299.08125 44.596875 \nL 371.58125 44.596875 \nQ 373.58125 44.596875 373.58125 42.596875 \nL 373.58125 14.2 \nQ 373.58125 12.2 371.58125 12.2 \nL 299.08125 12.2 \nQ 297.08125 12.2 297.08125 14.2 \nL 297.08125 42.596875 \nQ 297.08125 44.596875 299.08125 44.596875 \nz\n\" style=\"fill:#ffffff;opacity:0.8;stroke:#cccccc;stroke-linejoin:miter;\"/>\n    </g>\n    <g id=\"line2d_18\">\n     <path d=\"M 301.08125 20.298437 \nL 321.08125 20.298437 \n\" style=\"fill:none;stroke:#1f77b4;stroke-linecap:square;stroke-width:1.5;\"/>\n    </g>\n    <g id=\"line2d_19\"/>\n    <g id=\"text_18\">\n     <!-- $\\gamma = 0.29$ -->\n     <defs>\n      <path d=\"M 23.296875 46.09375 \nL 28.71875 12.3125 \nL 54 54.6875 \nL 63.53125 54.6875 \nL 30.8125 0 \nL 26.765625 -20.796875 \nL 17.78125 -20.796875 \nL 21.828125 0 \nL 15.4375 40.828125 \nQ 14.453125 46.96875 9.8125 46.96875 \nL 7.421875 46.96875 \nL 8.890625 54.6875 \nL 12.3125 54.6875 \nQ 21.921875 54.6875 23.296875 46.09375 \nz\n\" id=\"DejaVuSans-Oblique-947\"/>\n      <path d=\"M 10.59375 45.40625 \nL 73.1875 45.40625 \nL 73.1875 37.203125 \nL 10.59375 37.203125 \nz\nM 10.59375 25.484375 \nL 73.1875 25.484375 \nL 73.1875 17.1875 \nL 10.59375 17.1875 \nz\n\" id=\"DejaVuSans-61\"/>\n      <path d=\"M 10.984375 1.515625 \nL 10.984375 10.5 \nQ 14.703125 8.734375 18.5 7.8125 \nQ 22.3125 6.890625 25.984375 6.890625 \nQ 35.75 6.890625 40.890625 13.453125 \nQ 46.046875 20.015625 46.78125 33.40625 \nQ 43.953125 29.203125 39.59375 26.953125 \nQ 35.25 24.703125 29.984375 24.703125 \nQ 19.046875 24.703125 12.671875 31.3125 \nQ 6.296875 37.9375 6.296875 49.421875 \nQ 6.296875 60.640625 12.9375 67.421875 \nQ 19.578125 74.21875 30.609375 74.21875 \nQ 43.265625 74.21875 49.921875 64.515625 \nQ 56.59375 54.828125 56.59375 36.375 \nQ 56.59375 19.140625 48.40625 8.859375 \nQ 40.234375 -1.421875 26.421875 -1.421875 \nQ 22.703125 -1.421875 18.890625 -0.6875 \nQ 15.09375 0.046875 10.984375 1.515625 \nz\nM 30.609375 32.421875 \nQ 37.25 32.421875 41.125 36.953125 \nQ 45.015625 41.5 45.015625 49.421875 \nQ 45.015625 57.28125 41.125 61.84375 \nQ 37.25 66.40625 30.609375 66.40625 \nQ 23.96875 66.40625 20.09375 61.84375 \nQ 16.21875 57.28125 16.21875 49.421875 \nQ 16.21875 41.5 20.09375 36.953125 \nQ 23.96875 32.421875 30.609375 32.421875 \nz\n\" id=\"DejaVuSans-57\"/>\n     </defs>\n     <g transform=\"translate(329.08125 23.798437)scale(0.1 -0.1)\">\n      <use transform=\"translate(0 0.78125)\" xlink:href=\"#DejaVuSans-Oblique-947\"/>\n      <use transform=\"translate(78.662109 0.78125)\" xlink:href=\"#DejaVuSans-61\"/>\n      <use transform=\"translate(181.933594 0.78125)\" xlink:href=\"#DejaVuSans-48\"/>\n      <use transform=\"translate(245.556641 0.78125)\" xlink:href=\"#DejaVuSans-46\"/>\n      <use transform=\"translate(271.84375 0.78125)\" xlink:href=\"#DejaVuSans-50\"/>\n      <use transform=\"translate(333.716797 0.78125)\" xlink:href=\"#DejaVuSans-57\"/>\n     </g>\n    </g>\n    <g id=\"line2d_20\">\n     <path d=\"M 301.08125 34.996875 \nL 321.08125 34.996875 \n\" style=\"fill:none;stroke:#ff7f0e;stroke-linecap:square;stroke-width:1.5;\"/>\n    </g>\n    <g id=\"line2d_21\"/>\n    <g id=\"text_19\">\n     <!-- $\\gamma = 1.05$ -->\n     <g transform=\"translate(329.08125 38.496875)scale(0.1 -0.1)\">\n      <use transform=\"translate(0 0.78125)\" xlink:href=\"#DejaVuSans-Oblique-947\"/>\n      <use transform=\"translate(78.662109 0.78125)\" xlink:href=\"#DejaVuSans-61\"/>\n      <use transform=\"translate(181.933594 0.78125)\" xlink:href=\"#DejaVuSans-49\"/>\n      <use transform=\"translate(245.556641 0.78125)\" xlink:href=\"#DejaVuSans-46\"/>\n      <use transform=\"translate(277.34375 0.78125)\" xlink:href=\"#DejaVuSans-48\"/>\n      <use transform=\"translate(340.966797 0.78125)\" xlink:href=\"#DejaVuSans-53\"/>\n     </g>\n    </g>\n   </g>\n  </g>\n </g>\n <defs>\n  <clipPath id=\"p99c9779e17\">\n   <rect height=\"217.44\" width=\"334.8\" x=\"43.78125\" y=\"7.2\"/>\n  </clipPath>\n </defs>\n</svg>\n"
          },
          "metadata": {
            "needs_background": "light"
          }
        }
      ]
    },
    {
      "cell_type": "markdown",
      "metadata": {
        "id": "Udg49U-2j0tY"
      },
      "source": [
        "### Portfolio constraints\n",
        "\n",
        "There are many other possible portfolio constraints besides the long only constraint. With no constraint (${\\cal W} = {\\bf R}^n$), the optimization problem has a simple analytical solution. We will look in detail at a *leverage limit*, or the constraint that $\\|w \\|_1 \\leq L^\\mathrm{max}$.\n",
        "\n",
        "\n",
        "Another interesting constraint is the *market neutral* constraint $m^T \\Sigma w =0$, where $m_i$ is the capitalization of asset $i$.\n",
        "$M = m^Tr$ is the *market return*, and $m^T \\Sigma w = {\\bf cov}(M,R)$.\n",
        "The market neutral constraint ensures that the portfolio return is uncorrelated with the market return."
      ]
    },
    {
      "cell_type": "markdown",
      "metadata": {
        "id": "Fkpsuvy5j0tZ"
      },
      "source": [
        "### Example\n",
        "\n",
        "In the following code we compute and plot optimal risk-return trade-off curves for leverage limits of 1, 2, and 4.\n",
        "Notice that more leverage increases returns and allows greater risk."
      ]
    },
    {
      "cell_type": "code",
      "metadata": {
        "id": "njYaLFfej0tZ"
      },
      "source": [
        "# Portfolio optimization with leverage limit.\n",
        "Lmax = cp.Parameter()\n",
        "prob = cp.Problem(cp.Maximize(ret - gamma*risk), \n",
        "               [cp.sum(w) == 1, \n",
        "                cp.norm(w, 1) <= Lmax])"
      ],
      "execution_count": null,
      "outputs": []
    },
    {
      "cell_type": "code",
      "metadata": {
        "id": "swLDsj2Dj0tZ"
      },
      "source": [
        "# Compute trade-off curve for each leverage limit.\n",
        "L_vals = [1, 2, 4]\n",
        "SAMPLES = 100\n",
        "risk_data = np.zeros((len(L_vals), SAMPLES))\n",
        "ret_data = np.zeros((len(L_vals), SAMPLES))\n",
        "gamma_vals = np.logspace(-2, 3, num=SAMPLES)\n",
        "w_vals = []\n",
        "for k, L_val in enumerate(L_vals):\n",
        "    for i in range(SAMPLES):\n",
        "        Lmax.value = L_val\n",
        "        gamma.value = gamma_vals[i]\n",
        "        prob.solve(solver=cp.SCS)\n",
        "        risk_data[k, i] = cp.sqrt(risk).value\n",
        "        ret_data[k, i] = ret.value"
      ],
      "execution_count": null,
      "outputs": []
    },
    {
      "cell_type": "code",
      "metadata": {
        "id": "7lzGBoUlj0tZ",
        "colab": {
          "base_uri": "https://localhost:8080/",
          "height": 371
        },
        "outputId": "1b3e408d-9a25-4c90-8ec1-0146701c5764"
      },
      "source": [
        "# Plot trade-off curves for each leverage limit.\n",
        "for idx, L_val in enumerate(L_vals):\n",
        "    plt.plot(risk_data[idx,:], ret_data[idx,:], label=r\"$L^{\\max}$ = %d\" % L_val)\n",
        "for w_val in w_vals:\n",
        "    w.value = w_val\n",
        "    plt.plot(cp.sqrt(risk).value, ret.value, 'bs')\n",
        "plt.xlabel('Standard deviation')\n",
        "plt.ylabel('Return')\n",
        "plt.legend(loc='lower right')\n",
        "plt.show()"
      ],
      "execution_count": null,
      "outputs": [
        {
          "output_type": "display_data",
          "data": {
            "text/plain": [
              "<Figure size 432x288 with 1 Axes>"
            ],
            "image/svg+xml": "<?xml version=\"1.0\" encoding=\"utf-8\" standalone=\"no\"?>\n<!DOCTYPE svg PUBLIC \"-//W3C//DTD SVG 1.1//EN\"\n  \"http://www.w3.org/Graphics/SVG/1.1/DTD/svg11.dtd\">\n<!-- Created with matplotlib (https://matplotlib.org/) -->\n<svg height=\"262.19625pt\" version=\"1.1\" viewBox=\"0 0 376.240625 262.19625\" width=\"376.240625pt\" xmlns=\"http://www.w3.org/2000/svg\" xmlns:xlink=\"http://www.w3.org/1999/xlink\">\n <defs>\n  <style type=\"text/css\">\n*{stroke-linecap:butt;stroke-linejoin:round;}\n  </style>\n </defs>\n <g id=\"figure_1\">\n  <g id=\"patch_1\">\n   <path d=\"M 0 262.19625 \nL 376.240625 262.19625 \nL 376.240625 0 \nL 0 0 \nz\n\" style=\"fill:none;\"/>\n  </g>\n  <g id=\"axes_1\">\n   <g id=\"patch_2\">\n    <path d=\"M 34.240625 224.64 \nL 369.040625 224.64 \nL 369.040625 7.2 \nL 34.240625 7.2 \nz\n\" style=\"fill:#ffffff;\"/>\n   </g>\n   <g id=\"matplotlib.axis_1\">\n    <g id=\"xtick_1\">\n     <g id=\"line2d_1\">\n      <defs>\n       <path d=\"M 0 0 \nL 0 3.5 \n\" id=\"m6e79a1ff05\" style=\"stroke:#000000;stroke-width:0.8;\"/>\n      </defs>\n      <g>\n       <use style=\"stroke:#000000;stroke-width:0.8;\" x=\"34.610685\" xlink:href=\"#m6e79a1ff05\" y=\"224.64\"/>\n      </g>\n     </g>\n     <g id=\"text_1\">\n      <!-- 0 -->\n      <defs>\n       <path d=\"M 31.78125 66.40625 \nQ 24.171875 66.40625 20.328125 58.90625 \nQ 16.5 51.421875 16.5 36.375 \nQ 16.5 21.390625 20.328125 13.890625 \nQ 24.171875 6.390625 31.78125 6.390625 \nQ 39.453125 6.390625 43.28125 13.890625 \nQ 47.125 21.390625 47.125 36.375 \nQ 47.125 51.421875 43.28125 58.90625 \nQ 39.453125 66.40625 31.78125 66.40625 \nz\nM 31.78125 74.21875 \nQ 44.046875 74.21875 50.515625 64.515625 \nQ 56.984375 54.828125 56.984375 36.375 \nQ 56.984375 17.96875 50.515625 8.265625 \nQ 44.046875 -1.421875 31.78125 -1.421875 \nQ 19.53125 -1.421875 13.0625 8.265625 \nQ 6.59375 17.96875 6.59375 36.375 \nQ 6.59375 54.828125 13.0625 64.515625 \nQ 19.53125 74.21875 31.78125 74.21875 \nz\n\" id=\"DejaVuSans-48\"/>\n      </defs>\n      <g transform=\"translate(31.429435 239.238437)scale(0.1 -0.1)\">\n       <use xlink:href=\"#DejaVuSans-48\"/>\n      </g>\n     </g>\n    </g>\n    <g id=\"xtick_2\">\n     <g id=\"line2d_2\">\n      <g>\n       <use style=\"stroke:#000000;stroke-width:0.8;\" x=\"77.509888\" xlink:href=\"#m6e79a1ff05\" y=\"224.64\"/>\n      </g>\n     </g>\n     <g id=\"text_2\">\n      <!-- 1 -->\n      <defs>\n       <path d=\"M 12.40625 8.296875 \nL 28.515625 8.296875 \nL 28.515625 63.921875 \nL 10.984375 60.40625 \nL 10.984375 69.390625 \nL 28.421875 72.90625 \nL 38.28125 72.90625 \nL 38.28125 8.296875 \nL 54.390625 8.296875 \nL 54.390625 0 \nL 12.40625 0 \nz\n\" id=\"DejaVuSans-49\"/>\n      </defs>\n      <g transform=\"translate(74.328638 239.238437)scale(0.1 -0.1)\">\n       <use xlink:href=\"#DejaVuSans-49\"/>\n      </g>\n     </g>\n    </g>\n    <g id=\"xtick_3\">\n     <g id=\"line2d_3\">\n      <g>\n       <use style=\"stroke:#000000;stroke-width:0.8;\" x=\"120.40909\" xlink:href=\"#m6e79a1ff05\" y=\"224.64\"/>\n      </g>\n     </g>\n     <g id=\"text_3\">\n      <!-- 2 -->\n      <defs>\n       <path d=\"M 19.1875 8.296875 \nL 53.609375 8.296875 \nL 53.609375 0 \nL 7.328125 0 \nL 7.328125 8.296875 \nQ 12.9375 14.109375 22.625 23.890625 \nQ 32.328125 33.6875 34.8125 36.53125 \nQ 39.546875 41.84375 41.421875 45.53125 \nQ 43.3125 49.21875 43.3125 52.78125 \nQ 43.3125 58.59375 39.234375 62.25 \nQ 35.15625 65.921875 28.609375 65.921875 \nQ 23.96875 65.921875 18.8125 64.3125 \nQ 13.671875 62.703125 7.8125 59.421875 \nL 7.8125 69.390625 \nQ 13.765625 71.78125 18.9375 73 \nQ 24.125 74.21875 28.421875 74.21875 \nQ 39.75 74.21875 46.484375 68.546875 \nQ 53.21875 62.890625 53.21875 53.421875 \nQ 53.21875 48.921875 51.53125 44.890625 \nQ 49.859375 40.875 45.40625 35.40625 \nQ 44.1875 33.984375 37.640625 27.21875 \nQ 31.109375 20.453125 19.1875 8.296875 \nz\n\" id=\"DejaVuSans-50\"/>\n      </defs>\n      <g transform=\"translate(117.22784 239.238437)scale(0.1 -0.1)\">\n       <use xlink:href=\"#DejaVuSans-50\"/>\n      </g>\n     </g>\n    </g>\n    <g id=\"xtick_4\">\n     <g id=\"line2d_4\">\n      <g>\n       <use style=\"stroke:#000000;stroke-width:0.8;\" x=\"163.308293\" xlink:href=\"#m6e79a1ff05\" y=\"224.64\"/>\n      </g>\n     </g>\n     <g id=\"text_4\">\n      <!-- 3 -->\n      <defs>\n       <path d=\"M 40.578125 39.3125 \nQ 47.65625 37.796875 51.625 33 \nQ 55.609375 28.21875 55.609375 21.1875 \nQ 55.609375 10.40625 48.1875 4.484375 \nQ 40.765625 -1.421875 27.09375 -1.421875 \nQ 22.515625 -1.421875 17.65625 -0.515625 \nQ 12.796875 0.390625 7.625 2.203125 \nL 7.625 11.71875 \nQ 11.71875 9.328125 16.59375 8.109375 \nQ 21.484375 6.890625 26.8125 6.890625 \nQ 36.078125 6.890625 40.9375 10.546875 \nQ 45.796875 14.203125 45.796875 21.1875 \nQ 45.796875 27.640625 41.28125 31.265625 \nQ 36.765625 34.90625 28.71875 34.90625 \nL 20.21875 34.90625 \nL 20.21875 43.015625 \nL 29.109375 43.015625 \nQ 36.375 43.015625 40.234375 45.921875 \nQ 44.09375 48.828125 44.09375 54.296875 \nQ 44.09375 59.90625 40.109375 62.90625 \nQ 36.140625 65.921875 28.71875 65.921875 \nQ 24.65625 65.921875 20.015625 65.03125 \nQ 15.375 64.15625 9.8125 62.3125 \nL 9.8125 71.09375 \nQ 15.4375 72.65625 20.34375 73.4375 \nQ 25.25 74.21875 29.59375 74.21875 \nQ 40.828125 74.21875 47.359375 69.109375 \nQ 53.90625 64.015625 53.90625 55.328125 \nQ 53.90625 49.265625 50.4375 45.09375 \nQ 46.96875 40.921875 40.578125 39.3125 \nz\n\" id=\"DejaVuSans-51\"/>\n      </defs>\n      <g transform=\"translate(160.127043 239.238437)scale(0.1 -0.1)\">\n       <use xlink:href=\"#DejaVuSans-51\"/>\n      </g>\n     </g>\n    </g>\n    <g id=\"xtick_5\">\n     <g id=\"line2d_5\">\n      <g>\n       <use style=\"stroke:#000000;stroke-width:0.8;\" x=\"206.207495\" xlink:href=\"#m6e79a1ff05\" y=\"224.64\"/>\n      </g>\n     </g>\n     <g id=\"text_5\">\n      <!-- 4 -->\n      <defs>\n       <path d=\"M 37.796875 64.3125 \nL 12.890625 25.390625 \nL 37.796875 25.390625 \nz\nM 35.203125 72.90625 \nL 47.609375 72.90625 \nL 47.609375 25.390625 \nL 58.015625 25.390625 \nL 58.015625 17.1875 \nL 47.609375 17.1875 \nL 47.609375 0 \nL 37.796875 0 \nL 37.796875 17.1875 \nL 4.890625 17.1875 \nL 4.890625 26.703125 \nz\n\" id=\"DejaVuSans-52\"/>\n      </defs>\n      <g transform=\"translate(203.026245 239.238437)scale(0.1 -0.1)\">\n       <use xlink:href=\"#DejaVuSans-52\"/>\n      </g>\n     </g>\n    </g>\n    <g id=\"xtick_6\">\n     <g id=\"line2d_6\">\n      <g>\n       <use style=\"stroke:#000000;stroke-width:0.8;\" x=\"249.106697\" xlink:href=\"#m6e79a1ff05\" y=\"224.64\"/>\n      </g>\n     </g>\n     <g id=\"text_6\">\n      <!-- 5 -->\n      <defs>\n       <path d=\"M 10.796875 72.90625 \nL 49.515625 72.90625 \nL 49.515625 64.59375 \nL 19.828125 64.59375 \nL 19.828125 46.734375 \nQ 21.96875 47.46875 24.109375 47.828125 \nQ 26.265625 48.1875 28.421875 48.1875 \nQ 40.625 48.1875 47.75 41.5 \nQ 54.890625 34.8125 54.890625 23.390625 \nQ 54.890625 11.625 47.5625 5.09375 \nQ 40.234375 -1.421875 26.90625 -1.421875 \nQ 22.3125 -1.421875 17.546875 -0.640625 \nQ 12.796875 0.140625 7.71875 1.703125 \nL 7.71875 11.625 \nQ 12.109375 9.234375 16.796875 8.0625 \nQ 21.484375 6.890625 26.703125 6.890625 \nQ 35.15625 6.890625 40.078125 11.328125 \nQ 45.015625 15.765625 45.015625 23.390625 \nQ 45.015625 31 40.078125 35.4375 \nQ 35.15625 39.890625 26.703125 39.890625 \nQ 22.75 39.890625 18.8125 39.015625 \nQ 14.890625 38.140625 10.796875 36.28125 \nz\n\" id=\"DejaVuSans-53\"/>\n      </defs>\n      <g transform=\"translate(245.925447 239.238437)scale(0.1 -0.1)\">\n       <use xlink:href=\"#DejaVuSans-53\"/>\n      </g>\n     </g>\n    </g>\n    <g id=\"xtick_7\">\n     <g id=\"line2d_7\">\n      <g>\n       <use style=\"stroke:#000000;stroke-width:0.8;\" x=\"292.0059\" xlink:href=\"#m6e79a1ff05\" y=\"224.64\"/>\n      </g>\n     </g>\n     <g id=\"text_7\">\n      <!-- 6 -->\n      <defs>\n       <path d=\"M 33.015625 40.375 \nQ 26.375 40.375 22.484375 35.828125 \nQ 18.609375 31.296875 18.609375 23.390625 \nQ 18.609375 15.53125 22.484375 10.953125 \nQ 26.375 6.390625 33.015625 6.390625 \nQ 39.65625 6.390625 43.53125 10.953125 \nQ 47.40625 15.53125 47.40625 23.390625 \nQ 47.40625 31.296875 43.53125 35.828125 \nQ 39.65625 40.375 33.015625 40.375 \nz\nM 52.59375 71.296875 \nL 52.59375 62.3125 \nQ 48.875 64.0625 45.09375 64.984375 \nQ 41.3125 65.921875 37.59375 65.921875 \nQ 27.828125 65.921875 22.671875 59.328125 \nQ 17.53125 52.734375 16.796875 39.40625 \nQ 19.671875 43.65625 24.015625 45.921875 \nQ 28.375 48.1875 33.59375 48.1875 \nQ 44.578125 48.1875 50.953125 41.515625 \nQ 57.328125 34.859375 57.328125 23.390625 \nQ 57.328125 12.15625 50.6875 5.359375 \nQ 44.046875 -1.421875 33.015625 -1.421875 \nQ 20.359375 -1.421875 13.671875 8.265625 \nQ 6.984375 17.96875 6.984375 36.375 \nQ 6.984375 53.65625 15.1875 63.9375 \nQ 23.390625 74.21875 37.203125 74.21875 \nQ 40.921875 74.21875 44.703125 73.484375 \nQ 48.484375 72.75 52.59375 71.296875 \nz\n\" id=\"DejaVuSans-54\"/>\n      </defs>\n      <g transform=\"translate(288.82465 239.238437)scale(0.1 -0.1)\">\n       <use xlink:href=\"#DejaVuSans-54\"/>\n      </g>\n     </g>\n    </g>\n    <g id=\"xtick_8\">\n     <g id=\"line2d_8\">\n      <g>\n       <use style=\"stroke:#000000;stroke-width:0.8;\" x=\"334.905102\" xlink:href=\"#m6e79a1ff05\" y=\"224.64\"/>\n      </g>\n     </g>\n     <g id=\"text_8\">\n      <!-- 7 -->\n      <defs>\n       <path d=\"M 8.203125 72.90625 \nL 55.078125 72.90625 \nL 55.078125 68.703125 \nL 28.609375 0 \nL 18.3125 0 \nL 43.21875 64.59375 \nL 8.203125 64.59375 \nz\n\" id=\"DejaVuSans-55\"/>\n      </defs>\n      <g transform=\"translate(331.723852 239.238437)scale(0.1 -0.1)\">\n       <use xlink:href=\"#DejaVuSans-55\"/>\n      </g>\n     </g>\n    </g>\n    <g id=\"text_9\">\n     <!-- Standard deviation -->\n     <defs>\n      <path d=\"M 53.515625 70.515625 \nL 53.515625 60.890625 \nQ 47.90625 63.578125 42.921875 64.890625 \nQ 37.9375 66.21875 33.296875 66.21875 \nQ 25.25 66.21875 20.875 63.09375 \nQ 16.5 59.96875 16.5 54.203125 \nQ 16.5 49.359375 19.40625 46.890625 \nQ 22.3125 44.4375 30.421875 42.921875 \nL 36.375 41.703125 \nQ 47.40625 39.59375 52.65625 34.296875 \nQ 57.90625 29 57.90625 20.125 \nQ 57.90625 9.515625 50.796875 4.046875 \nQ 43.703125 -1.421875 29.984375 -1.421875 \nQ 24.8125 -1.421875 18.96875 -0.25 \nQ 13.140625 0.921875 6.890625 3.21875 \nL 6.890625 13.375 \nQ 12.890625 10.015625 18.65625 8.296875 \nQ 24.421875 6.59375 29.984375 6.59375 \nQ 38.421875 6.59375 43.015625 9.90625 \nQ 47.609375 13.234375 47.609375 19.390625 \nQ 47.609375 24.75 44.3125 27.78125 \nQ 41.015625 30.8125 33.5 32.328125 \nL 27.484375 33.5 \nQ 16.453125 35.6875 11.515625 40.375 \nQ 6.59375 45.0625 6.59375 53.421875 \nQ 6.59375 63.09375 13.40625 68.65625 \nQ 20.21875 74.21875 32.171875 74.21875 \nQ 37.3125 74.21875 42.625 73.28125 \nQ 47.953125 72.359375 53.515625 70.515625 \nz\n\" id=\"DejaVuSans-83\"/>\n      <path d=\"M 18.3125 70.21875 \nL 18.3125 54.6875 \nL 36.8125 54.6875 \nL 36.8125 47.703125 \nL 18.3125 47.703125 \nL 18.3125 18.015625 \nQ 18.3125 11.328125 20.140625 9.421875 \nQ 21.96875 7.515625 27.59375 7.515625 \nL 36.8125 7.515625 \nL 36.8125 0 \nL 27.59375 0 \nQ 17.1875 0 13.234375 3.875 \nQ 9.28125 7.765625 9.28125 18.015625 \nL 9.28125 47.703125 \nL 2.6875 47.703125 \nL 2.6875 54.6875 \nL 9.28125 54.6875 \nL 9.28125 70.21875 \nz\n\" id=\"DejaVuSans-116\"/>\n      <path d=\"M 34.28125 27.484375 \nQ 23.390625 27.484375 19.1875 25 \nQ 14.984375 22.515625 14.984375 16.5 \nQ 14.984375 11.71875 18.140625 8.90625 \nQ 21.296875 6.109375 26.703125 6.109375 \nQ 34.1875 6.109375 38.703125 11.40625 \nQ 43.21875 16.703125 43.21875 25.484375 \nL 43.21875 27.484375 \nz\nM 52.203125 31.203125 \nL 52.203125 0 \nL 43.21875 0 \nL 43.21875 8.296875 \nQ 40.140625 3.328125 35.546875 0.953125 \nQ 30.953125 -1.421875 24.3125 -1.421875 \nQ 15.921875 -1.421875 10.953125 3.296875 \nQ 6 8.015625 6 15.921875 \nQ 6 25.140625 12.171875 29.828125 \nQ 18.359375 34.515625 30.609375 34.515625 \nL 43.21875 34.515625 \nL 43.21875 35.40625 \nQ 43.21875 41.609375 39.140625 45 \nQ 35.0625 48.390625 27.6875 48.390625 \nQ 23 48.390625 18.546875 47.265625 \nQ 14.109375 46.140625 10.015625 43.890625 \nL 10.015625 52.203125 \nQ 14.9375 54.109375 19.578125 55.046875 \nQ 24.21875 56 28.609375 56 \nQ 40.484375 56 46.34375 49.84375 \nQ 52.203125 43.703125 52.203125 31.203125 \nz\n\" id=\"DejaVuSans-97\"/>\n      <path d=\"M 54.890625 33.015625 \nL 54.890625 0 \nL 45.90625 0 \nL 45.90625 32.71875 \nQ 45.90625 40.484375 42.875 44.328125 \nQ 39.84375 48.1875 33.796875 48.1875 \nQ 26.515625 48.1875 22.3125 43.546875 \nQ 18.109375 38.921875 18.109375 30.90625 \nL 18.109375 0 \nL 9.078125 0 \nL 9.078125 54.6875 \nL 18.109375 54.6875 \nL 18.109375 46.1875 \nQ 21.34375 51.125 25.703125 53.5625 \nQ 30.078125 56 35.796875 56 \nQ 45.21875 56 50.046875 50.171875 \nQ 54.890625 44.34375 54.890625 33.015625 \nz\n\" id=\"DejaVuSans-110\"/>\n      <path d=\"M 45.40625 46.390625 \nL 45.40625 75.984375 \nL 54.390625 75.984375 \nL 54.390625 0 \nL 45.40625 0 \nL 45.40625 8.203125 \nQ 42.578125 3.328125 38.25 0.953125 \nQ 33.9375 -1.421875 27.875 -1.421875 \nQ 17.96875 -1.421875 11.734375 6.484375 \nQ 5.515625 14.40625 5.515625 27.296875 \nQ 5.515625 40.1875 11.734375 48.09375 \nQ 17.96875 56 27.875 56 \nQ 33.9375 56 38.25 53.625 \nQ 42.578125 51.265625 45.40625 46.390625 \nz\nM 14.796875 27.296875 \nQ 14.796875 17.390625 18.875 11.75 \nQ 22.953125 6.109375 30.078125 6.109375 \nQ 37.203125 6.109375 41.296875 11.75 \nQ 45.40625 17.390625 45.40625 27.296875 \nQ 45.40625 37.203125 41.296875 42.84375 \nQ 37.203125 48.484375 30.078125 48.484375 \nQ 22.953125 48.484375 18.875 42.84375 \nQ 14.796875 37.203125 14.796875 27.296875 \nz\n\" id=\"DejaVuSans-100\"/>\n      <path d=\"M 41.109375 46.296875 \nQ 39.59375 47.171875 37.8125 47.578125 \nQ 36.03125 48 33.890625 48 \nQ 26.265625 48 22.1875 43.046875 \nQ 18.109375 38.09375 18.109375 28.8125 \nL 18.109375 0 \nL 9.078125 0 \nL 9.078125 54.6875 \nL 18.109375 54.6875 \nL 18.109375 46.1875 \nQ 20.953125 51.171875 25.484375 53.578125 \nQ 30.03125 56 36.53125 56 \nQ 37.453125 56 38.578125 55.875 \nQ 39.703125 55.765625 41.0625 55.515625 \nz\n\" id=\"DejaVuSans-114\"/>\n      <path id=\"DejaVuSans-32\"/>\n      <path d=\"M 56.203125 29.59375 \nL 56.203125 25.203125 \nL 14.890625 25.203125 \nQ 15.484375 15.921875 20.484375 11.0625 \nQ 25.484375 6.203125 34.421875 6.203125 \nQ 39.59375 6.203125 44.453125 7.46875 \nQ 49.3125 8.734375 54.109375 11.28125 \nL 54.109375 2.78125 \nQ 49.265625 0.734375 44.1875 -0.34375 \nQ 39.109375 -1.421875 33.890625 -1.421875 \nQ 20.796875 -1.421875 13.15625 6.1875 \nQ 5.515625 13.8125 5.515625 26.8125 \nQ 5.515625 40.234375 12.765625 48.109375 \nQ 20.015625 56 32.328125 56 \nQ 43.359375 56 49.78125 48.890625 \nQ 56.203125 41.796875 56.203125 29.59375 \nz\nM 47.21875 32.234375 \nQ 47.125 39.59375 43.09375 43.984375 \nQ 39.0625 48.390625 32.421875 48.390625 \nQ 24.90625 48.390625 20.390625 44.140625 \nQ 15.875 39.890625 15.1875 32.171875 \nz\n\" id=\"DejaVuSans-101\"/>\n      <path d=\"M 2.984375 54.6875 \nL 12.5 54.6875 \nL 29.59375 8.796875 \nL 46.6875 54.6875 \nL 56.203125 54.6875 \nL 35.6875 0 \nL 23.484375 0 \nz\n\" id=\"DejaVuSans-118\"/>\n      <path d=\"M 9.421875 54.6875 \nL 18.40625 54.6875 \nL 18.40625 0 \nL 9.421875 0 \nz\nM 9.421875 75.984375 \nL 18.40625 75.984375 \nL 18.40625 64.59375 \nL 9.421875 64.59375 \nz\n\" id=\"DejaVuSans-105\"/>\n      <path d=\"M 30.609375 48.390625 \nQ 23.390625 48.390625 19.1875 42.75 \nQ 14.984375 37.109375 14.984375 27.296875 \nQ 14.984375 17.484375 19.15625 11.84375 \nQ 23.34375 6.203125 30.609375 6.203125 \nQ 37.796875 6.203125 41.984375 11.859375 \nQ 46.1875 17.53125 46.1875 27.296875 \nQ 46.1875 37.015625 41.984375 42.703125 \nQ 37.796875 48.390625 30.609375 48.390625 \nz\nM 30.609375 56 \nQ 42.328125 56 49.015625 48.375 \nQ 55.71875 40.765625 55.71875 27.296875 \nQ 55.71875 13.875 49.015625 6.21875 \nQ 42.328125 -1.421875 30.609375 -1.421875 \nQ 18.84375 -1.421875 12.171875 6.21875 \nQ 5.515625 13.875 5.515625 27.296875 \nQ 5.515625 40.765625 12.171875 48.375 \nQ 18.84375 56 30.609375 56 \nz\n\" id=\"DejaVuSans-111\"/>\n     </defs>\n     <g transform=\"translate(154.063281 252.916562)scale(0.1 -0.1)\">\n      <use xlink:href=\"#DejaVuSans-83\"/>\n      <use x=\"63.476562\" xlink:href=\"#DejaVuSans-116\"/>\n      <use x=\"102.685547\" xlink:href=\"#DejaVuSans-97\"/>\n      <use x=\"163.964844\" xlink:href=\"#DejaVuSans-110\"/>\n      <use x=\"227.34375\" xlink:href=\"#DejaVuSans-100\"/>\n      <use x=\"290.820312\" xlink:href=\"#DejaVuSans-97\"/>\n      <use x=\"352.099609\" xlink:href=\"#DejaVuSans-114\"/>\n      <use x=\"391.462891\" xlink:href=\"#DejaVuSans-100\"/>\n      <use x=\"454.939453\" xlink:href=\"#DejaVuSans-32\"/>\n      <use x=\"486.726562\" xlink:href=\"#DejaVuSans-100\"/>\n      <use x=\"550.203125\" xlink:href=\"#DejaVuSans-101\"/>\n      <use x=\"611.726562\" xlink:href=\"#DejaVuSans-118\"/>\n      <use x=\"670.90625\" xlink:href=\"#DejaVuSans-105\"/>\n      <use x=\"698.689453\" xlink:href=\"#DejaVuSans-97\"/>\n      <use x=\"759.96875\" xlink:href=\"#DejaVuSans-116\"/>\n      <use x=\"799.177734\" xlink:href=\"#DejaVuSans-105\"/>\n      <use x=\"826.960938\" xlink:href=\"#DejaVuSans-111\"/>\n      <use x=\"888.142578\" xlink:href=\"#DejaVuSans-110\"/>\n     </g>\n    </g>\n   </g>\n   <g id=\"matplotlib.axis_2\">\n    <g id=\"ytick_1\">\n     <g id=\"line2d_9\">\n      <defs>\n       <path d=\"M 0 0 \nL -3.5 0 \n\" id=\"m0cf2dbbeaa\" style=\"stroke:#000000;stroke-width:0.8;\"/>\n      </defs>\n      <g>\n       <use style=\"stroke:#000000;stroke-width:0.8;\" x=\"34.240625\" xlink:href=\"#m0cf2dbbeaa\" y=\"208.505058\"/>\n      </g>\n     </g>\n     <g id=\"text_10\">\n      <!-- 1 -->\n      <g transform=\"translate(20.878125 212.304277)scale(0.1 -0.1)\">\n       <use xlink:href=\"#DejaVuSans-49\"/>\n      </g>\n     </g>\n    </g>\n    <g id=\"ytick_2\">\n     <g id=\"line2d_10\">\n      <g>\n       <use style=\"stroke:#000000;stroke-width:0.8;\" x=\"34.240625\" xlink:href=\"#m0cf2dbbeaa\" y=\"164.079139\"/>\n      </g>\n     </g>\n     <g id=\"text_11\">\n      <!-- 2 -->\n      <g transform=\"translate(20.878125 167.878358)scale(0.1 -0.1)\">\n       <use xlink:href=\"#DejaVuSans-50\"/>\n      </g>\n     </g>\n    </g>\n    <g id=\"ytick_3\">\n     <g id=\"line2d_11\">\n      <g>\n       <use style=\"stroke:#000000;stroke-width:0.8;\" x=\"34.240625\" xlink:href=\"#m0cf2dbbeaa\" y=\"119.65322\"/>\n      </g>\n     </g>\n     <g id=\"text_12\">\n      <!-- 3 -->\n      <g transform=\"translate(20.878125 123.452438)scale(0.1 -0.1)\">\n       <use xlink:href=\"#DejaVuSans-51\"/>\n      </g>\n     </g>\n    </g>\n    <g id=\"ytick_4\">\n     <g id=\"line2d_12\">\n      <g>\n       <use style=\"stroke:#000000;stroke-width:0.8;\" x=\"34.240625\" xlink:href=\"#m0cf2dbbeaa\" y=\"75.2273\"/>\n      </g>\n     </g>\n     <g id=\"text_13\">\n      <!-- 4 -->\n      <g transform=\"translate(20.878125 79.026519)scale(0.1 -0.1)\">\n       <use xlink:href=\"#DejaVuSans-52\"/>\n      </g>\n     </g>\n    </g>\n    <g id=\"ytick_5\">\n     <g id=\"line2d_13\">\n      <g>\n       <use style=\"stroke:#000000;stroke-width:0.8;\" x=\"34.240625\" xlink:href=\"#m0cf2dbbeaa\" y=\"30.801381\"/>\n      </g>\n     </g>\n     <g id=\"text_14\">\n      <!-- 5 -->\n      <g transform=\"translate(20.878125 34.6006)scale(0.1 -0.1)\">\n       <use xlink:href=\"#DejaVuSans-53\"/>\n      </g>\n     </g>\n    </g>\n    <g id=\"text_15\">\n     <!-- Return -->\n     <defs>\n      <path d=\"M 44.390625 34.1875 \nQ 47.5625 33.109375 50.5625 29.59375 \nQ 53.5625 26.078125 56.59375 19.921875 \nL 66.609375 0 \nL 56 0 \nL 46.6875 18.703125 \nQ 43.0625 26.03125 39.671875 28.421875 \nQ 36.28125 30.8125 30.421875 30.8125 \nL 19.671875 30.8125 \nL 19.671875 0 \nL 9.8125 0 \nL 9.8125 72.90625 \nL 32.078125 72.90625 \nQ 44.578125 72.90625 50.734375 67.671875 \nQ 56.890625 62.453125 56.890625 51.90625 \nQ 56.890625 45.015625 53.6875 40.46875 \nQ 50.484375 35.9375 44.390625 34.1875 \nz\nM 19.671875 64.796875 \nL 19.671875 38.921875 \nL 32.078125 38.921875 \nQ 39.203125 38.921875 42.84375 42.21875 \nQ 46.484375 45.515625 46.484375 51.90625 \nQ 46.484375 58.296875 42.84375 61.546875 \nQ 39.203125 64.796875 32.078125 64.796875 \nz\n\" id=\"DejaVuSans-82\"/>\n      <path d=\"M 8.5 21.578125 \nL 8.5 54.6875 \nL 17.484375 54.6875 \nL 17.484375 21.921875 \nQ 17.484375 14.15625 20.5 10.265625 \nQ 23.53125 6.390625 29.59375 6.390625 \nQ 36.859375 6.390625 41.078125 11.03125 \nQ 45.3125 15.671875 45.3125 23.6875 \nL 45.3125 54.6875 \nL 54.296875 54.6875 \nL 54.296875 0 \nL 45.3125 0 \nL 45.3125 8.40625 \nQ 42.046875 3.421875 37.71875 1 \nQ 33.40625 -1.421875 27.6875 -1.421875 \nQ 18.265625 -1.421875 13.375 4.4375 \nQ 8.5 10.296875 8.5 21.578125 \nz\nM 31.109375 56 \nz\n\" id=\"DejaVuSans-117\"/>\n     </defs>\n     <g transform=\"translate(14.798437 132.511406)rotate(-90)scale(0.1 -0.1)\">\n      <use xlink:href=\"#DejaVuSans-82\"/>\n      <use x=\"64.982422\" xlink:href=\"#DejaVuSans-101\"/>\n      <use x=\"126.505859\" xlink:href=\"#DejaVuSans-116\"/>\n      <use x=\"165.714844\" xlink:href=\"#DejaVuSans-117\"/>\n      <use x=\"229.09375\" xlink:href=\"#DejaVuSans-114\"/>\n      <use x=\"268.457031\" xlink:href=\"#DejaVuSans-110\"/>\n     </g>\n    </g>\n   </g>\n   <g id=\"line2d_14\">\n    <path clip-path=\"url(#pdaae934839)\" d=\"M 144.580494 150.682426 \nL 144.578848 150.683986 \nL 144.578796 150.684023 \nL 144.579335 150.68366 \nL 144.579574 150.683428 \nL 144.579242 150.683039 \nL 144.579448 150.683407 \nL 144.578333 150.683976 \nL 144.578547 150.683675 \nL 144.578323 150.683789 \nL 144.578402 150.683733 \nL 144.579216 150.683353 \nL 144.580431 150.682401 \nL 144.579427 150.683227 \nL 144.578697 150.683421 \nL 139.58568 152.094582 \nL 134.49378 153.619045 \nL 130.269733 154.97479 \nL 126.784676 156.182186 \nL 121.368935 158.210114 \nL 115.629044 160.450746 \nL 110.034555 162.74434 \nL 103.970204 165.332507 \nL 98.114821 167.899052 \nL 93.058909 170.182107 \nL 88.717953 172.215542 \nL 85.013547 174.025815 \nL 81.872028 175.637579 \nL 79.2255 177.072573 \nL 77.011056 178.350108 \nL 75.170414 179.487445 \nL 73.650099 180.499972 \nL 72.40174 181.401372 \nL 71.224878 182.330835 \nL 69.194429 184.046699 \nL 67.206709 185.825781 \nL 65.506986 187.440375 \nL 64.091427 188.87593 \nL 62.904837 190.170048 \nL 60.770912 192.637038 \nL 58.951997 194.825372 \nL 57.408587 196.77311 \nL 56.106513 198.505144 \nL 55.015232 200.049059 \nL 54.106187 201.424489 \nL 53.356152 202.647 \nL 52.738535 203.737635 \nL 52.234249 204.706887 \nL 51.824099 205.569771 \nL 51.491972 206.337946 \nL 51.223994 207.021746 \nL 51.008527 207.630597 \nL 50.835771 208.172582 \nL 50.626524 208.905128 \nL 50.437923 209.633798 \nL 50.297925 210.23268 \nL 50.242843 210.496864 \nL 50.19902 210.732157 \nL 50.16425 210.941382 \nL 50.136618 211.127782 \nL 50.114675 211.293797 \nL 50.097281 211.441535 \nL 50.083485 211.573046 \nL 50.072496 211.690253 \nL 50.063808 211.794522 \nL 50.056961 211.88774 \nL 50.051366 211.970225 \nL 50.046951 212.044675 \nL 50.043757 212.108394 \nL 50.041039 212.166649 \nL 50.038885 212.218509 \nL 50.037177 212.264675 \nL 50.035824 212.305773 \nL 50.034751 212.342359 \nL 50.033901 212.374928 \nL 50.033227 212.403922 \nL 50.032693 212.429733 \nL 50.03227 212.45271 \nL 50.031935 212.473165 \nL 50.031669 212.491374 \nL 50.031458 212.507583 \nL 50.031291 212.522014 \nL 50.031159 212.53486 \nL 50.031054 212.546295 \nL 50.030971 212.556476 \nL 50.030905 212.565538 \nL 50.030853 212.573606 \nL 50.030812 212.580788 \nL 50.030779 212.587181 \nL 50.030753 212.592873 \nL 50.030733 212.59794 \nL 50.030716 212.60245 \nL 50.030703 212.606466 \nL 50.030693 212.61004 \nL 50.030685 212.613222 \nL 50.030679 212.616055 \nL 50.030673 212.618577 \nL 50.030669 212.620821 \nL 50.030666 212.62282 \nL 50.030664 212.624599 \n\" style=\"fill:none;stroke:#1f77b4;stroke-linecap:square;stroke-width:1.5;\"/>\n   </g>\n   <g id=\"line2d_15\">\n    <path clip-path=\"url(#pdaae934839)\" d=\"M 216.120445 105.630702 \nL 215.440143 105.690479 \nL 214.879917 105.749311 \nL 214.435938 105.803128 \nL 214.083651 105.850907 \nL 213.81451 105.885499 \nL 211.440964 106.287801 \nL 206.859507 107.113623 \nL 203.164313 107.828263 \nL 200.147203 108.481518 \nL 197.706864 109.078807 \nL 192.586355 110.44777 \nL 182.363926 113.31441 \nL 173.729062 115.877512 \nL 166.484662 118.153088 \nL 160.476636 120.163479 \nL 155.485616 121.960542 \nL 151.197971 123.630113 \nL 143.867935 126.690311 \nL 137.68705 129.407576 \nL 132.508481 131.830132 \nL 126.474535 134.84438 \nL 120.143756 138.144514 \nL 113.479569 141.758784 \nL 107.997255 144.846458 \nL 103.889776 147.285862 \nL 98.754809 150.497709 \nL 94.231064 153.438952 \nL 90.38764 156.05435 \nL 87.142281 158.382517 \nL 84.420045 160.456824 \nL 82.295974 162.185408 \nL 79.406265 164.703461 \nL 76.857524 167.043653 \nL 74.722632 169.128189 \nL 72.946415 170.983875 \nL 71.24339 172.901762 \nL 69.607094 174.872938 \nL 68.160928 176.744168 \nL 66.399332 179.217931 \nL 63.706455 183.12349 \nL 61.381081 186.599659 \nL 59.383496 189.694541 \nL 57.677908 192.449642 \nL 56.231257 194.901531 \nL 55.012169 197.083872 \nL 53.991045 199.02826 \nL 53.141923 200.759108 \nL 52.440478 202.299492 \nL 51.864564 203.670209 \nL 51.393962 204.890865 \nL 51.011134 205.978406 \nL 50.701729 206.945205 \nL 50.451633 207.807813 \nL 50.251277 208.573406 \nL 50.09052 209.255525 \nL 49.961851 209.862911 \nL 49.85889 210.404425 \nL 49.777171 210.885183 \nL 49.711931 211.313776 \nL 49.660029 211.695316 \nL 49.618769 212.034969 \nL 49.585991 212.337333 \nL 49.559964 212.606501 \nL 49.539305 212.84612 \nL 49.522914 213.059431 \nL 49.509911 213.249325 \nL 49.499598 213.418371 \nL 49.49142 213.568858 \nL 49.484937 213.702824 \nL 49.479793 213.822126 \nL 49.476133 213.921836 \nL 49.472494 214.022792 \nL 49.46995 214.105809 \nL 49.467902 214.18179 \nL 49.466251 214.248513 \nL 49.46502 214.307796 \nL 49.463927 214.361358 \nL 49.463212 214.407646 \nL 49.462573 214.449572 \nL 49.462074 214.486806 \nL 49.461762 214.520576 \nL 49.461355 214.549567 \nL 49.461068 214.574335 \nL 49.460906 214.599293 \nL 49.46079 214.619374 \nL 49.458807 214.65692 \nL 49.460526 214.655193 \nL 49.460436 214.671573 \nL 49.460386 214.682984 \nL 49.460337 214.694636 \nL 49.4601 214.706704 \nL 49.460267 214.714243 \nL 49.460243 214.722463 \nL 49.460173 214.729747 \nL 49.460208 214.736294 \nL 49.460196 214.742094 \nL 49.460184 214.747251 \nL 49.460119 214.753663 \nL 49.460176 214.755924 \n\" style=\"fill:none;stroke:#ff7f0e;stroke-linecap:square;stroke-width:1.5;\"/>\n   </g>\n   <g id=\"line2d_16\">\n    <path clip-path=\"url(#pdaae934839)\" d=\"M 353.822443 17.083636 \nL 343.510995 18.739437 \nL 335.127492 20.205827 \nL 328.314544 21.513216 \nL 322.800706 22.67367 \nL 318.353237 23.707118 \nL 314.784344 24.629088 \nL 302.015349 28.262133 \nL 286.742745 32.851127 \nL 273.985072 36.906183 \nL 263.369878 40.521899 \nL 254.59976 43.734664 \nL 247.378349 46.605098 \nL 235.167925 51.821712 \nL 224.410838 56.685963 \nL 215.431795 61.015924 \nL 207.987122 64.869847 \nL 196.641516 71.179512 \nL 181.453784 79.83153 \nL 168.196828 87.533746 \nL 156.672734 94.390239 \nL 146.681338 100.503804 \nL 138.102758 105.936195 \nL 130.763257 110.772095 \nL 124.522148 115.077035 \nL 119.253051 118.905146 \nL 114.259561 122.756768 \nL 110.339666 125.954908 \nL 107.104955 128.783988 \nL 104.435156 131.302467 \nL 100.317352 135.474278 \nL 96.579161 139.465806 \nL 93.449491 143.017793 \nL 90.845651 146.179681 \nL 87.032137 151.164289 \nL 81.764409 158.149729 \nL 77.129196 164.367879 \nL 73.061022 169.903368 \nL 69.501774 174.831146 \nL 66.399333 179.217929 \nL 63.706685 183.123109 \nL 61.381132 186.599559 \nL 59.383597 189.694348 \nL 57.678052 192.449374 \nL 56.231088 194.901938 \nL 55.011629 197.085251 \nL 53.990816 199.028863 \nL 53.141923 200.759108 \nL 52.440517 202.299392 \nL 51.864431 203.670555 \nL 51.393834 204.89124 \nL 51.011328 205.977849 \nL 50.701729 206.945205 \nL 50.452084 207.806348 \nL 50.251446 208.572796 \nL 50.090539 209.255392 \nL 49.961852 209.86291 \nL 49.859097 210.403734 \nL 49.777171 210.885183 \nL 49.711931 211.313776 \nL 49.660073 211.695182 \nL 49.618769 212.034969 \nL 49.58555 212.340166 \nL 49.559786 212.607469 \nL 49.539323 212.846246 \nL 49.522866 213.059783 \nL 49.509917 213.249296 \nL 49.499606 213.41833 \nL 49.491421 213.568867 \nL 49.484936 213.702828 \nL 49.479796 213.822084 \nL 49.475721 213.928249 \nL 49.472491 214.022762 \nL 49.469931 214.106893 \nL 49.467902 214.181791 \nL 49.466293 214.248467 \nL 49.465018 214.307822 \nL 49.464009 214.360659 \nL 49.463207 214.407702 \nL 49.462572 214.449576 \nL 49.462069 214.486853 \nL 49.461671 214.520037 \nL 49.461357 214.549565 \nL 49.461131 214.575675 \nL 49.460923 214.599139 \nL 49.460765 214.619978 \nL 49.460643 214.63853 \nL 49.460547 214.655043 \nL 49.460481 214.669654 \nL 49.460363 214.683207 \nL 49.460301 214.695062 \nL 49.460262 214.705456 \nL 49.460232 214.714688 \nL 49.460209 214.722903 \nL 49.460191 214.730216 \nL 49.460177 214.736726 \nL 49.460166 214.742522 \nL 49.460158 214.747681 \nL 49.460151 214.752274 \nL 49.460146 214.756364 \n\" style=\"fill:none;stroke:#2ca02c;stroke-linecap:square;stroke-width:1.5;\"/>\n   </g>\n   <g id=\"patch_3\">\n    <path d=\"M 34.240625 224.64 \nL 34.240625 7.2 \n\" style=\"fill:none;stroke:#000000;stroke-linecap:square;stroke-linejoin:miter;stroke-width:0.8;\"/>\n   </g>\n   <g id=\"patch_4\">\n    <path d=\"M 369.040625 224.64 \nL 369.040625 7.2 \n\" style=\"fill:none;stroke:#000000;stroke-linecap:square;stroke-linejoin:miter;stroke-width:0.8;\"/>\n   </g>\n   <g id=\"patch_5\">\n    <path d=\"M 34.240625 224.64 \nL 369.040625 224.64 \n\" style=\"fill:none;stroke:#000000;stroke-linecap:square;stroke-linejoin:miter;stroke-width:0.8;\"/>\n   </g>\n   <g id=\"patch_6\">\n    <path d=\"M 34.240625 7.2 \nL 369.040625 7.2 \n\" style=\"fill:none;stroke:#000000;stroke-linecap:square;stroke-linejoin:miter;stroke-width:0.8;\"/>\n   </g>\n   <g id=\"legend_1\">\n    <g id=\"patch_7\">\n     <path d=\"M 287.140625 219.64 \nL 362.040625 219.64 \nQ 364.040625 219.64 364.040625 217.64 \nL 364.040625 174.605625 \nQ 364.040625 172.605625 362.040625 172.605625 \nL 287.140625 172.605625 \nQ 285.140625 172.605625 285.140625 174.605625 \nL 285.140625 217.64 \nQ 285.140625 219.64 287.140625 219.64 \nz\n\" style=\"fill:#ffffff;opacity:0.8;stroke:#cccccc;stroke-linejoin:miter;\"/>\n    </g>\n    <g id=\"line2d_17\">\n     <path d=\"M 289.140625 180.704062 \nL 309.140625 180.704062 \n\" style=\"fill:none;stroke:#1f77b4;stroke-linecap:square;stroke-width:1.5;\"/>\n    </g>\n    <g id=\"line2d_18\"/>\n    <g id=\"text_16\">\n     <!-- $L^{\\max}$ = 1 -->\n     <defs>\n      <path d=\"M 16.796875 72.90625 \nL 26.703125 72.90625 \nL 14.203125 8.203125 \nL 49.703125 8.203125 \nL 48.09375 0 \nL 2.6875 0 \nz\n\" id=\"DejaVuSans-Oblique-76\"/>\n      <path d=\"M 52 44.1875 \nQ 55.375 50.25 60.0625 53.125 \nQ 64.75 56 71.09375 56 \nQ 79.640625 56 84.28125 50.015625 \nQ 88.921875 44.046875 88.921875 33.015625 \nL 88.921875 0 \nL 79.890625 0 \nL 79.890625 32.71875 \nQ 79.890625 40.578125 77.09375 44.375 \nQ 74.3125 48.1875 68.609375 48.1875 \nQ 61.625 48.1875 57.5625 43.546875 \nQ 53.515625 38.921875 53.515625 30.90625 \nL 53.515625 0 \nL 44.484375 0 \nL 44.484375 32.71875 \nQ 44.484375 40.625 41.703125 44.40625 \nQ 38.921875 48.1875 33.109375 48.1875 \nQ 26.21875 48.1875 22.15625 43.53125 \nQ 18.109375 38.875 18.109375 30.90625 \nL 18.109375 0 \nL 9.078125 0 \nL 9.078125 54.6875 \nL 18.109375 54.6875 \nL 18.109375 46.1875 \nQ 21.1875 51.21875 25.484375 53.609375 \nQ 29.78125 56 35.6875 56 \nQ 41.65625 56 45.828125 52.96875 \nQ 50 49.953125 52 44.1875 \nz\n\" id=\"DejaVuSans-109\"/>\n      <path d=\"M 54.890625 54.6875 \nL 35.109375 28.078125 \nL 55.90625 0 \nL 45.3125 0 \nL 29.390625 21.484375 \nL 13.484375 0 \nL 2.875 0 \nL 24.125 28.609375 \nL 4.6875 54.6875 \nL 15.28125 54.6875 \nL 29.78125 35.203125 \nL 44.28125 54.6875 \nz\n\" id=\"DejaVuSans-120\"/>\n      <path d=\"M 10.59375 45.40625 \nL 73.1875 45.40625 \nL 73.1875 37.203125 \nL 10.59375 37.203125 \nz\nM 10.59375 25.484375 \nL 73.1875 25.484375 \nL 73.1875 17.1875 \nL 10.59375 17.1875 \nz\n\" id=\"DejaVuSans-61\"/>\n     </defs>\n     <g transform=\"translate(317.140625 184.204062)scale(0.1 -0.1)\">\n      <use transform=\"translate(0 0.51875)\" xlink:href=\"#DejaVuSans-Oblique-76\"/>\n      <use transform=\"translate(62.729661 38.8)scale(0.7)\" xlink:href=\"#DejaVuSans-109\"/>\n      <use transform=\"translate(130.918138 38.8)scale(0.7)\" xlink:href=\"#DejaVuSans-97\"/>\n      <use transform=\"translate(173.813646 38.8)scale(0.7)\" xlink:href=\"#DejaVuSans-120\"/>\n      <use transform=\"translate(217.973802 0.51875)\" xlink:href=\"#DejaVuSans-32\"/>\n      <use transform=\"translate(249.760911 0.51875)\" xlink:href=\"#DejaVuSans-61\"/>\n      <use transform=\"translate(333.549974 0.51875)\" xlink:href=\"#DejaVuSans-32\"/>\n      <use transform=\"translate(365.337083 0.51875)\" xlink:href=\"#DejaVuSans-49\"/>\n     </g>\n    </g>\n    <g id=\"line2d_19\">\n     <path d=\"M 289.140625 195.382187 \nL 309.140625 195.382187 \n\" style=\"fill:none;stroke:#ff7f0e;stroke-linecap:square;stroke-width:1.5;\"/>\n    </g>\n    <g id=\"line2d_20\"/>\n    <g id=\"text_17\">\n     <!-- $L^{\\max}$ = 2 -->\n     <g transform=\"translate(317.140625 198.882187)scale(0.1 -0.1)\">\n      <use transform=\"translate(0 0.51875)\" xlink:href=\"#DejaVuSans-Oblique-76\"/>\n      <use transform=\"translate(62.729661 38.8)scale(0.7)\" xlink:href=\"#DejaVuSans-109\"/>\n      <use transform=\"translate(130.918138 38.8)scale(0.7)\" xlink:href=\"#DejaVuSans-97\"/>\n      <use transform=\"translate(173.813646 38.8)scale(0.7)\" xlink:href=\"#DejaVuSans-120\"/>\n      <use transform=\"translate(217.973802 0.51875)\" xlink:href=\"#DejaVuSans-32\"/>\n      <use transform=\"translate(249.760911 0.51875)\" xlink:href=\"#DejaVuSans-61\"/>\n      <use transform=\"translate(333.549974 0.51875)\" xlink:href=\"#DejaVuSans-32\"/>\n      <use transform=\"translate(365.337083 0.51875)\" xlink:href=\"#DejaVuSans-50\"/>\n     </g>\n    </g>\n    <g id=\"line2d_21\">\n     <path d=\"M 289.140625 210.060312 \nL 309.140625 210.060312 \n\" style=\"fill:none;stroke:#2ca02c;stroke-linecap:square;stroke-width:1.5;\"/>\n    </g>\n    <g id=\"line2d_22\"/>\n    <g id=\"text_18\">\n     <!-- $L^{\\max}$ = 4 -->\n     <g transform=\"translate(317.140625 213.560312)scale(0.1 -0.1)\">\n      <use transform=\"translate(0 0.51875)\" xlink:href=\"#DejaVuSans-Oblique-76\"/>\n      <use transform=\"translate(62.729661 38.8)scale(0.7)\" xlink:href=\"#DejaVuSans-109\"/>\n      <use transform=\"translate(130.918138 38.8)scale(0.7)\" xlink:href=\"#DejaVuSans-97\"/>\n      <use transform=\"translate(173.813646 38.8)scale(0.7)\" xlink:href=\"#DejaVuSans-120\"/>\n      <use transform=\"translate(217.973802 0.51875)\" xlink:href=\"#DejaVuSans-32\"/>\n      <use transform=\"translate(249.760911 0.51875)\" xlink:href=\"#DejaVuSans-61\"/>\n      <use transform=\"translate(333.549974 0.51875)\" xlink:href=\"#DejaVuSans-32\"/>\n      <use transform=\"translate(365.337083 0.51875)\" xlink:href=\"#DejaVuSans-52\"/>\n     </g>\n    </g>\n   </g>\n  </g>\n </g>\n <defs>\n  <clipPath id=\"pdaae934839\">\n   <rect height=\"217.44\" width=\"334.8\" x=\"34.240625\" y=\"7.2\"/>\n  </clipPath>\n </defs>\n</svg>\n"
          },
          "metadata": {
            "needs_background": "light"
          }
        }
      ]
    },
    {
      "cell_type": "markdown",
      "metadata": {
        "id": "sQToYRxcj0ta"
      },
      "source": [
        "We next examine the points on each trade-off curve where $w^T\\Sigma w = 2$.\n",
        "We plot the amount of each asset held in each portfolio as bar graphs. (Negative holdings indicate a short position.)\n",
        "Notice that some assets are held in a long position for the low leverage portfolio but in a short position in the higher leverage portfolios. "
      ]
    },
    {
      "cell_type": "code",
      "metadata": {
        "id": "99ii4CWhj0ta"
      },
      "source": [
        "# Portfolio optimization with a leverage limit and a bound on risk.\n",
        "prob = cp.Problem(cp.Maximize(ret), \n",
        "              [cp.sum(w) == 1, \n",
        "               cp.norm(w, 1) <= Lmax,\n",
        "               risk <= 2])"
      ],
      "execution_count": null,
      "outputs": []
    },
    {
      "cell_type": "code",
      "metadata": {
        "id": "eqdxH4vJj0ta"
      },
      "source": [
        "# Compute solution for different leverage limits.\n",
        "for k, L_val in enumerate(L_vals):\n",
        "    Lmax.value = L_val\n",
        "    prob.solve()\n",
        "    w_vals.append( w.value )"
      ],
      "execution_count": null,
      "outputs": []
    },
    {
      "cell_type": "code",
      "metadata": {
        "id": "hhNvYUFvj0tb",
        "colab": {
          "base_uri": "https://localhost:8080/",
          "height": 378
        },
        "outputId": "60152b59-a2cb-412a-d63e-0be3677510fd"
      },
      "source": [
        "# Plot bar graph of holdings for different leverage limits.\n",
        "colors = ['b', 'g', 'r']\n",
        "indices = np.argsort(mu.flatten())\n",
        "for idx, L_val in enumerate(L_vals):\n",
        "     plt.bar(np.arange(1,n+1) + 0.25*idx - 0.375, w_vals[idx][indices], color=colors[idx], \n",
        "             label=r\"$L^{\\max}$ = %d\" % L_val, width = 0.25)\n",
        "plt.ylabel(r\"$w_i$\", fontsize=16)\n",
        "plt.xlabel(r\"$i$\", fontsize=16)\n",
        "plt.xlim([1-0.375, 10+.375])\n",
        "plt.xticks(np.arange(1,n+1))\n",
        "plt.show()"
      ],
      "execution_count": null,
      "outputs": [
        {
          "output_type": "display_data",
          "data": {
            "text/plain": [
              "<Figure size 432x288 with 1 Axes>"
            ],
            "image/svg+xml": "<?xml version=\"1.0\" encoding=\"utf-8\" standalone=\"no\"?>\n<!DOCTYPE svg PUBLIC \"-//W3C//DTD SVG 1.1//EN\"\n  \"http://www.w3.org/Graphics/SVG/1.1/DTD/svg11.dtd\">\n<!-- Created with matplotlib (https://matplotlib.org/) -->\n<svg height=\"268.482061pt\" version=\"1.1\" viewBox=\"0 0 399.967812 268.482061\" width=\"399.967812pt\" xmlns=\"http://www.w3.org/2000/svg\" xmlns:xlink=\"http://www.w3.org/1999/xlink\">\n <defs>\n  <style type=\"text/css\">\n*{stroke-linecap:butt;stroke-linejoin:round;}\n  </style>\n </defs>\n <g id=\"figure_1\">\n  <g id=\"patch_1\">\n   <path d=\"M 0 268.482061 \nL 399.967812 268.482061 \nL 399.967812 0 \nL 0 0 \nz\n\" style=\"fill:none;\"/>\n  </g>\n  <g id=\"axes_1\">\n   <g id=\"patch_2\">\n    <path d=\"M 57.967813 225.118936 \nL 392.767812 225.118936 \nL 392.767812 7.678936 \nL 57.967813 7.678936 \nz\n\" style=\"fill:#ffffff;\"/>\n   </g>\n   <g id=\"patch_3\">\n    <path clip-path=\"url(#p5035aadccb)\" d=\"M 53.675505 156.486161 \nL 62.26012 156.486161 \nL 62.26012 156.486161 \nL 53.675505 156.486161 \nz\n\" style=\"fill:#0000ff;\"/>\n   </g>\n   <g id=\"patch_4\">\n    <path clip-path=\"url(#p5035aadccb)\" d=\"M 88.013966 156.486161 \nL 96.598582 156.486161 \nL 96.598582 156.486161 \nL 88.013966 156.486161 \nz\n\" style=\"fill:#0000ff;\"/>\n   </g>\n   <g id=\"patch_5\">\n    <path clip-path=\"url(#p5035aadccb)\" d=\"M 122.352428 156.486161 \nL 130.937043 156.486161 \nL 130.937043 156.486161 \nL 122.352428 156.486161 \nz\n\" style=\"fill:#0000ff;\"/>\n   </g>\n   <g id=\"patch_6\">\n    <path clip-path=\"url(#p5035aadccb)\" d=\"M 156.690889 156.486161 \nL 165.275505 156.486161 \nL 165.275505 156.486161 \nL 156.690889 156.486161 \nz\n\" style=\"fill:#0000ff;\"/>\n   </g>\n   <g id=\"patch_7\">\n    <path clip-path=\"url(#p5035aadccb)\" d=\"M 191.029351 156.486161 \nL 199.613966 156.486161 \nL 199.613966 156.486161 \nL 191.029351 156.486161 \nz\n\" style=\"fill:#0000ff;\"/>\n   </g>\n   <g id=\"patch_8\">\n    <path clip-path=\"url(#p5035aadccb)\" d=\"M 225.367813 156.486161 \nL 233.952428 156.486161 \nL 233.952428 145.445523 \nL 225.367813 145.445523 \nz\n\" style=\"fill:#0000ff;\"/>\n   </g>\n   <g id=\"patch_9\">\n    <path clip-path=\"url(#p5035aadccb)\" d=\"M 259.706274 156.486161 \nL 268.290889 156.486161 \nL 268.290889 133.229544 \nL 259.706274 133.229544 \nz\n\" style=\"fill:#0000ff;\"/>\n   </g>\n   <g id=\"patch_10\">\n    <path clip-path=\"url(#p5035aadccb)\" d=\"M 294.044736 156.486161 \nL 302.629351 156.486161 \nL 302.629351 152.863988 \nL 294.044736 152.863988 \nz\n\" style=\"fill:#0000ff;\"/>\n   </g>\n   <g id=\"patch_11\">\n    <path clip-path=\"url(#p5035aadccb)\" d=\"M 328.383197 156.486161 \nL 336.967812 156.486161 \nL 336.967812 131.943349 \nL 328.383197 131.943349 \nz\n\" style=\"fill:#0000ff;\"/>\n   </g>\n   <g id=\"patch_12\">\n    <path clip-path=\"url(#p5035aadccb)\" d=\"M 362.721659 156.486161 \nL 371.306274 156.486161 \nL 371.306274 73.461458 \nL 362.721659 73.461458 \nz\n\" style=\"fill:#0000ff;\"/>\n   </g>\n   <g id=\"patch_13\">\n    <path clip-path=\"url(#p5035aadccb)\" d=\"M 62.26012 156.486161 \nL 70.844736 156.486161 \nL 70.844736 165.562911 \nL 62.26012 165.562911 \nz\n\" style=\"fill:#008000;\"/>\n   </g>\n   <g id=\"patch_14\">\n    <path clip-path=\"url(#p5035aadccb)\" d=\"M 96.598582 156.486161 \nL 105.183197 156.486161 \nL 105.183197 156.486161 \nL 96.598582 156.486161 \nz\n\" style=\"fill:#008000;\"/>\n   </g>\n   <g id=\"patch_15\">\n    <path clip-path=\"url(#p5035aadccb)\" d=\"M 130.937043 156.486161 \nL 139.521659 156.486161 \nL 139.521659 156.486161 \nL 130.937043 156.486161 \nz\n\" style=\"fill:#008000;\"/>\n   </g>\n   <g id=\"patch_16\">\n    <path clip-path=\"url(#p5035aadccb)\" d=\"M 165.275505 156.486161 \nL 173.86012 156.486161 \nL 173.86012 201.573451 \nL 165.275505 201.573451 \nz\n\" style=\"fill:#008000;\"/>\n   </g>\n   <g id=\"patch_17\">\n    <path clip-path=\"url(#p5035aadccb)\" d=\"M 199.613966 156.486161 \nL 208.198582 156.486161 \nL 208.198582 167.667989 \nL 199.613966 167.667989 \nz\n\" style=\"fill:#008000;\"/>\n   </g>\n   <g id=\"patch_18\">\n    <path clip-path=\"url(#p5035aadccb)\" d=\"M 233.952428 156.486161 \nL 242.537043 156.486161 \nL 242.537043 123.084482 \nL 233.952428 123.084482 \nz\n\" style=\"fill:#008000;\"/>\n   </g>\n   <g id=\"patch_19\">\n    <path clip-path=\"url(#p5035aadccb)\" d=\"M 268.290889 156.486161 \nL 276.875505 156.486161 \nL 276.875505 111.450227 \nL 268.290889 111.450227 \nz\n\" style=\"fill:#008000;\"/>\n   </g>\n   <g id=\"patch_20\">\n    <path clip-path=\"url(#p5035aadccb)\" d=\"M 302.629351 156.486161 \nL 311.213966 156.486161 \nL 311.213966 163.883765 \nL 302.629351 163.883765 \nz\n\" style=\"fill:#008000;\"/>\n   </g>\n   <g id=\"patch_21\">\n    <path clip-path=\"url(#p5035aadccb)\" d=\"M 336.967812 156.486161 \nL 345.552428 156.486161 \nL 345.552428 119.675852 \nL 336.967812 119.675852 \nz\n\" style=\"fill:#008000;\"/>\n   </g>\n   <g id=\"patch_22\">\n    <path clip-path=\"url(#p5035aadccb)\" d=\"M 371.306274 156.486161 \nL 379.890889 156.486161 \nL 379.890889 53.50367 \nL 371.306274 53.50367 \nz\n\" style=\"fill:#008000;\"/>\n   </g>\n   <g id=\"patch_23\">\n    <path clip-path=\"url(#p5035aadccb)\" d=\"M 70.844736 156.486161 \nL 79.429351 156.486161 \nL 79.429351 170.716804 \nL 70.844736 170.716804 \nz\n\" style=\"fill:#ff0000;\"/>\n   </g>\n   <g id=\"patch_24\">\n    <path clip-path=\"url(#p5035aadccb)\" d=\"M 105.183197 156.486161 \nL 113.767813 156.486161 \nL 113.767813 140.662479 \nL 105.183197 140.662479 \nz\n\" style=\"fill:#ff0000;\"/>\n   </g>\n   <g id=\"patch_25\">\n    <path clip-path=\"url(#p5035aadccb)\" d=\"M 139.521659 156.486161 \nL 148.106274 156.486161 \nL 148.106274 197.813677 \nL 139.521659 197.813677 \nz\n\" style=\"fill:#ff0000;\"/>\n   </g>\n   <g id=\"patch_26\">\n    <path clip-path=\"url(#p5035aadccb)\" d=\"M 173.86012 156.486161 \nL 182.444736 156.486161 \nL 182.444736 215.2353 \nL 173.86012 215.2353 \nz\n\" style=\"fill:#ff0000;\"/>\n   </g>\n   <g id=\"patch_27\">\n    <path clip-path=\"url(#p5035aadccb)\" d=\"M 208.198582 156.486161 \nL 216.783197 156.486161 \nL 216.783197 204.243778 \nL 208.198582 204.243778 \nz\n\" style=\"fill:#ff0000;\"/>\n   </g>\n   <g id=\"patch_28\">\n    <path clip-path=\"url(#p5035aadccb)\" d=\"M 242.537043 156.486161 \nL 251.121659 156.486161 \nL 251.121659 61.717436 \nL 242.537043 61.717436 \nz\n\" style=\"fill:#ff0000;\"/>\n   </g>\n   <g id=\"patch_29\">\n    <path clip-path=\"url(#p5035aadccb)\" d=\"M 276.875505 156.486161 \nL 285.46012 156.486161 \nL 285.46012 81.589528 \nL 276.875505 81.589528 \nz\n\" style=\"fill:#ff0000;\"/>\n   </g>\n   <g id=\"patch_30\">\n    <path clip-path=\"url(#p5035aadccb)\" d=\"M 311.213966 156.486161 \nL 319.798582 156.486161 \nL 319.798582 212.651656 \nL 311.213966 212.651656 \nz\n\" style=\"fill:#ff0000;\"/>\n   </g>\n   <g id=\"patch_31\">\n    <path clip-path=\"url(#p5035aadccb)\" d=\"M 345.552428 156.486161 \nL 354.137043 156.486161 \nL 354.137043 117.181436 \nL 345.552428 117.181436 \nz\n\" style=\"fill:#ff0000;\"/>\n   </g>\n   <g id=\"patch_32\">\n    <path clip-path=\"url(#p5035aadccb)\" d=\"M 379.890889 156.486161 \nL 388.475505 156.486161 \nL 388.475505 17.562573 \nL 379.890889 17.562573 \nz\n\" style=\"fill:#ff0000;\"/>\n   </g>\n   <g id=\"matplotlib.axis_1\">\n    <g id=\"xtick_1\">\n     <g id=\"line2d_1\">\n      <defs>\n       <path d=\"M 0 0 \nL 0 3.5 \n\" id=\"m9a8384bcf7\" style=\"stroke:#000000;stroke-width:0.8;\"/>\n      </defs>\n      <g>\n       <use style=\"stroke:#000000;stroke-width:0.8;\" x=\"70.844736\" xlink:href=\"#m9a8384bcf7\" y=\"225.118936\"/>\n      </g>\n     </g>\n     <g id=\"text_1\">\n      <!-- 1 -->\n      <defs>\n       <path d=\"M 12.40625 8.296875 \nL 28.515625 8.296875 \nL 28.515625 63.921875 \nL 10.984375 60.40625 \nL 10.984375 69.390625 \nL 28.421875 72.90625 \nL 38.28125 72.90625 \nL 38.28125 8.296875 \nL 54.390625 8.296875 \nL 54.390625 0 \nL 12.40625 0 \nz\n\" id=\"DejaVuSans-49\"/>\n      </defs>\n      <g transform=\"translate(67.663486 239.717374)scale(0.1 -0.1)\">\n       <use xlink:href=\"#DejaVuSans-49\"/>\n      </g>\n     </g>\n    </g>\n    <g id=\"xtick_2\">\n     <g id=\"line2d_2\">\n      <g>\n       <use style=\"stroke:#000000;stroke-width:0.8;\" x=\"105.183197\" xlink:href=\"#m9a8384bcf7\" y=\"225.118936\"/>\n      </g>\n     </g>\n     <g id=\"text_2\">\n      <!-- 2 -->\n      <defs>\n       <path d=\"M 19.1875 8.296875 \nL 53.609375 8.296875 \nL 53.609375 0 \nL 7.328125 0 \nL 7.328125 8.296875 \nQ 12.9375 14.109375 22.625 23.890625 \nQ 32.328125 33.6875 34.8125 36.53125 \nQ 39.546875 41.84375 41.421875 45.53125 \nQ 43.3125 49.21875 43.3125 52.78125 \nQ 43.3125 58.59375 39.234375 62.25 \nQ 35.15625 65.921875 28.609375 65.921875 \nQ 23.96875 65.921875 18.8125 64.3125 \nQ 13.671875 62.703125 7.8125 59.421875 \nL 7.8125 69.390625 \nQ 13.765625 71.78125 18.9375 73 \nQ 24.125 74.21875 28.421875 74.21875 \nQ 39.75 74.21875 46.484375 68.546875 \nQ 53.21875 62.890625 53.21875 53.421875 \nQ 53.21875 48.921875 51.53125 44.890625 \nQ 49.859375 40.875 45.40625 35.40625 \nQ 44.1875 33.984375 37.640625 27.21875 \nQ 31.109375 20.453125 19.1875 8.296875 \nz\n\" id=\"DejaVuSans-50\"/>\n      </defs>\n      <g transform=\"translate(102.001947 239.717374)scale(0.1 -0.1)\">\n       <use xlink:href=\"#DejaVuSans-50\"/>\n      </g>\n     </g>\n    </g>\n    <g id=\"xtick_3\">\n     <g id=\"line2d_3\">\n      <g>\n       <use style=\"stroke:#000000;stroke-width:0.8;\" x=\"139.521659\" xlink:href=\"#m9a8384bcf7\" y=\"225.118936\"/>\n      </g>\n     </g>\n     <g id=\"text_3\">\n      <!-- 3 -->\n      <defs>\n       <path d=\"M 40.578125 39.3125 \nQ 47.65625 37.796875 51.625 33 \nQ 55.609375 28.21875 55.609375 21.1875 \nQ 55.609375 10.40625 48.1875 4.484375 \nQ 40.765625 -1.421875 27.09375 -1.421875 \nQ 22.515625 -1.421875 17.65625 -0.515625 \nQ 12.796875 0.390625 7.625 2.203125 \nL 7.625 11.71875 \nQ 11.71875 9.328125 16.59375 8.109375 \nQ 21.484375 6.890625 26.8125 6.890625 \nQ 36.078125 6.890625 40.9375 10.546875 \nQ 45.796875 14.203125 45.796875 21.1875 \nQ 45.796875 27.640625 41.28125 31.265625 \nQ 36.765625 34.90625 28.71875 34.90625 \nL 20.21875 34.90625 \nL 20.21875 43.015625 \nL 29.109375 43.015625 \nQ 36.375 43.015625 40.234375 45.921875 \nQ 44.09375 48.828125 44.09375 54.296875 \nQ 44.09375 59.90625 40.109375 62.90625 \nQ 36.140625 65.921875 28.71875 65.921875 \nQ 24.65625 65.921875 20.015625 65.03125 \nQ 15.375 64.15625 9.8125 62.3125 \nL 9.8125 71.09375 \nQ 15.4375 72.65625 20.34375 73.4375 \nQ 25.25 74.21875 29.59375 74.21875 \nQ 40.828125 74.21875 47.359375 69.109375 \nQ 53.90625 64.015625 53.90625 55.328125 \nQ 53.90625 49.265625 50.4375 45.09375 \nQ 46.96875 40.921875 40.578125 39.3125 \nz\n\" id=\"DejaVuSans-51\"/>\n      </defs>\n      <g transform=\"translate(136.340409 239.717374)scale(0.1 -0.1)\">\n       <use xlink:href=\"#DejaVuSans-51\"/>\n      </g>\n     </g>\n    </g>\n    <g id=\"xtick_4\">\n     <g id=\"line2d_4\">\n      <g>\n       <use style=\"stroke:#000000;stroke-width:0.8;\" x=\"173.86012\" xlink:href=\"#m9a8384bcf7\" y=\"225.118936\"/>\n      </g>\n     </g>\n     <g id=\"text_4\">\n      <!-- 4 -->\n      <defs>\n       <path d=\"M 37.796875 64.3125 \nL 12.890625 25.390625 \nL 37.796875 25.390625 \nz\nM 35.203125 72.90625 \nL 47.609375 72.90625 \nL 47.609375 25.390625 \nL 58.015625 25.390625 \nL 58.015625 17.1875 \nL 47.609375 17.1875 \nL 47.609375 0 \nL 37.796875 0 \nL 37.796875 17.1875 \nL 4.890625 17.1875 \nL 4.890625 26.703125 \nz\n\" id=\"DejaVuSans-52\"/>\n      </defs>\n      <g transform=\"translate(170.67887 239.717374)scale(0.1 -0.1)\">\n       <use xlink:href=\"#DejaVuSans-52\"/>\n      </g>\n     </g>\n    </g>\n    <g id=\"xtick_5\">\n     <g id=\"line2d_5\">\n      <g>\n       <use style=\"stroke:#000000;stroke-width:0.8;\" x=\"208.198582\" xlink:href=\"#m9a8384bcf7\" y=\"225.118936\"/>\n      </g>\n     </g>\n     <g id=\"text_5\">\n      <!-- 5 -->\n      <defs>\n       <path d=\"M 10.796875 72.90625 \nL 49.515625 72.90625 \nL 49.515625 64.59375 \nL 19.828125 64.59375 \nL 19.828125 46.734375 \nQ 21.96875 47.46875 24.109375 47.828125 \nQ 26.265625 48.1875 28.421875 48.1875 \nQ 40.625 48.1875 47.75 41.5 \nQ 54.890625 34.8125 54.890625 23.390625 \nQ 54.890625 11.625 47.5625 5.09375 \nQ 40.234375 -1.421875 26.90625 -1.421875 \nQ 22.3125 -1.421875 17.546875 -0.640625 \nQ 12.796875 0.140625 7.71875 1.703125 \nL 7.71875 11.625 \nQ 12.109375 9.234375 16.796875 8.0625 \nQ 21.484375 6.890625 26.703125 6.890625 \nQ 35.15625 6.890625 40.078125 11.328125 \nQ 45.015625 15.765625 45.015625 23.390625 \nQ 45.015625 31 40.078125 35.4375 \nQ 35.15625 39.890625 26.703125 39.890625 \nQ 22.75 39.890625 18.8125 39.015625 \nQ 14.890625 38.140625 10.796875 36.28125 \nz\n\" id=\"DejaVuSans-53\"/>\n      </defs>\n      <g transform=\"translate(205.017332 239.717374)scale(0.1 -0.1)\">\n       <use xlink:href=\"#DejaVuSans-53\"/>\n      </g>\n     </g>\n    </g>\n    <g id=\"xtick_6\">\n     <g id=\"line2d_6\">\n      <g>\n       <use style=\"stroke:#000000;stroke-width:0.8;\" x=\"242.537043\" xlink:href=\"#m9a8384bcf7\" y=\"225.118936\"/>\n      </g>\n     </g>\n     <g id=\"text_6\">\n      <!-- 6 -->\n      <defs>\n       <path d=\"M 33.015625 40.375 \nQ 26.375 40.375 22.484375 35.828125 \nQ 18.609375 31.296875 18.609375 23.390625 \nQ 18.609375 15.53125 22.484375 10.953125 \nQ 26.375 6.390625 33.015625 6.390625 \nQ 39.65625 6.390625 43.53125 10.953125 \nQ 47.40625 15.53125 47.40625 23.390625 \nQ 47.40625 31.296875 43.53125 35.828125 \nQ 39.65625 40.375 33.015625 40.375 \nz\nM 52.59375 71.296875 \nL 52.59375 62.3125 \nQ 48.875 64.0625 45.09375 64.984375 \nQ 41.3125 65.921875 37.59375 65.921875 \nQ 27.828125 65.921875 22.671875 59.328125 \nQ 17.53125 52.734375 16.796875 39.40625 \nQ 19.671875 43.65625 24.015625 45.921875 \nQ 28.375 48.1875 33.59375 48.1875 \nQ 44.578125 48.1875 50.953125 41.515625 \nQ 57.328125 34.859375 57.328125 23.390625 \nQ 57.328125 12.15625 50.6875 5.359375 \nQ 44.046875 -1.421875 33.015625 -1.421875 \nQ 20.359375 -1.421875 13.671875 8.265625 \nQ 6.984375 17.96875 6.984375 36.375 \nQ 6.984375 53.65625 15.1875 63.9375 \nQ 23.390625 74.21875 37.203125 74.21875 \nQ 40.921875 74.21875 44.703125 73.484375 \nQ 48.484375 72.75 52.59375 71.296875 \nz\n\" id=\"DejaVuSans-54\"/>\n      </defs>\n      <g transform=\"translate(239.355793 239.717374)scale(0.1 -0.1)\">\n       <use xlink:href=\"#DejaVuSans-54\"/>\n      </g>\n     </g>\n    </g>\n    <g id=\"xtick_7\">\n     <g id=\"line2d_7\">\n      <g>\n       <use style=\"stroke:#000000;stroke-width:0.8;\" x=\"276.875505\" xlink:href=\"#m9a8384bcf7\" y=\"225.118936\"/>\n      </g>\n     </g>\n     <g id=\"text_7\">\n      <!-- 7 -->\n      <defs>\n       <path d=\"M 8.203125 72.90625 \nL 55.078125 72.90625 \nL 55.078125 68.703125 \nL 28.609375 0 \nL 18.3125 0 \nL 43.21875 64.59375 \nL 8.203125 64.59375 \nz\n\" id=\"DejaVuSans-55\"/>\n      </defs>\n      <g transform=\"translate(273.694255 239.717374)scale(0.1 -0.1)\">\n       <use xlink:href=\"#DejaVuSans-55\"/>\n      </g>\n     </g>\n    </g>\n    <g id=\"xtick_8\">\n     <g id=\"line2d_8\">\n      <g>\n       <use style=\"stroke:#000000;stroke-width:0.8;\" x=\"311.213966\" xlink:href=\"#m9a8384bcf7\" y=\"225.118936\"/>\n      </g>\n     </g>\n     <g id=\"text_8\">\n      <!-- 8 -->\n      <defs>\n       <path d=\"M 31.78125 34.625 \nQ 24.75 34.625 20.71875 30.859375 \nQ 16.703125 27.09375 16.703125 20.515625 \nQ 16.703125 13.921875 20.71875 10.15625 \nQ 24.75 6.390625 31.78125 6.390625 \nQ 38.8125 6.390625 42.859375 10.171875 \nQ 46.921875 13.96875 46.921875 20.515625 \nQ 46.921875 27.09375 42.890625 30.859375 \nQ 38.875 34.625 31.78125 34.625 \nz\nM 21.921875 38.8125 \nQ 15.578125 40.375 12.03125 44.71875 \nQ 8.5 49.078125 8.5 55.328125 \nQ 8.5 64.0625 14.71875 69.140625 \nQ 20.953125 74.21875 31.78125 74.21875 \nQ 42.671875 74.21875 48.875 69.140625 \nQ 55.078125 64.0625 55.078125 55.328125 \nQ 55.078125 49.078125 51.53125 44.71875 \nQ 48 40.375 41.703125 38.8125 \nQ 48.828125 37.15625 52.796875 32.3125 \nQ 56.78125 27.484375 56.78125 20.515625 \nQ 56.78125 9.90625 50.3125 4.234375 \nQ 43.84375 -1.421875 31.78125 -1.421875 \nQ 19.734375 -1.421875 13.25 4.234375 \nQ 6.78125 9.90625 6.78125 20.515625 \nQ 6.78125 27.484375 10.78125 32.3125 \nQ 14.796875 37.15625 21.921875 38.8125 \nz\nM 18.3125 54.390625 \nQ 18.3125 48.734375 21.84375 45.5625 \nQ 25.390625 42.390625 31.78125 42.390625 \nQ 38.140625 42.390625 41.71875 45.5625 \nQ 45.3125 48.734375 45.3125 54.390625 \nQ 45.3125 60.0625 41.71875 63.234375 \nQ 38.140625 66.40625 31.78125 66.40625 \nQ 25.390625 66.40625 21.84375 63.234375 \nQ 18.3125 60.0625 18.3125 54.390625 \nz\n\" id=\"DejaVuSans-56\"/>\n      </defs>\n      <g transform=\"translate(308.032716 239.717374)scale(0.1 -0.1)\">\n       <use xlink:href=\"#DejaVuSans-56\"/>\n      </g>\n     </g>\n    </g>\n    <g id=\"xtick_9\">\n     <g id=\"line2d_9\">\n      <g>\n       <use style=\"stroke:#000000;stroke-width:0.8;\" x=\"345.552428\" xlink:href=\"#m9a8384bcf7\" y=\"225.118936\"/>\n      </g>\n     </g>\n     <g id=\"text_9\">\n      <!-- 9 -->\n      <defs>\n       <path d=\"M 10.984375 1.515625 \nL 10.984375 10.5 \nQ 14.703125 8.734375 18.5 7.8125 \nQ 22.3125 6.890625 25.984375 6.890625 \nQ 35.75 6.890625 40.890625 13.453125 \nQ 46.046875 20.015625 46.78125 33.40625 \nQ 43.953125 29.203125 39.59375 26.953125 \nQ 35.25 24.703125 29.984375 24.703125 \nQ 19.046875 24.703125 12.671875 31.3125 \nQ 6.296875 37.9375 6.296875 49.421875 \nQ 6.296875 60.640625 12.9375 67.421875 \nQ 19.578125 74.21875 30.609375 74.21875 \nQ 43.265625 74.21875 49.921875 64.515625 \nQ 56.59375 54.828125 56.59375 36.375 \nQ 56.59375 19.140625 48.40625 8.859375 \nQ 40.234375 -1.421875 26.421875 -1.421875 \nQ 22.703125 -1.421875 18.890625 -0.6875 \nQ 15.09375 0.046875 10.984375 1.515625 \nz\nM 30.609375 32.421875 \nQ 37.25 32.421875 41.125 36.953125 \nQ 45.015625 41.5 45.015625 49.421875 \nQ 45.015625 57.28125 41.125 61.84375 \nQ 37.25 66.40625 30.609375 66.40625 \nQ 23.96875 66.40625 20.09375 61.84375 \nQ 16.21875 57.28125 16.21875 49.421875 \nQ 16.21875 41.5 20.09375 36.953125 \nQ 23.96875 32.421875 30.609375 32.421875 \nz\n\" id=\"DejaVuSans-57\"/>\n      </defs>\n      <g transform=\"translate(342.371178 239.717374)scale(0.1 -0.1)\">\n       <use xlink:href=\"#DejaVuSans-57\"/>\n      </g>\n     </g>\n    </g>\n    <g id=\"xtick_10\">\n     <g id=\"line2d_10\">\n      <g>\n       <use style=\"stroke:#000000;stroke-width:0.8;\" x=\"379.890889\" xlink:href=\"#m9a8384bcf7\" y=\"225.118936\"/>\n      </g>\n     </g>\n     <g id=\"text_10\">\n      <!-- 10 -->\n      <defs>\n       <path d=\"M 31.78125 66.40625 \nQ 24.171875 66.40625 20.328125 58.90625 \nQ 16.5 51.421875 16.5 36.375 \nQ 16.5 21.390625 20.328125 13.890625 \nQ 24.171875 6.390625 31.78125 6.390625 \nQ 39.453125 6.390625 43.28125 13.890625 \nQ 47.125 21.390625 47.125 36.375 \nQ 47.125 51.421875 43.28125 58.90625 \nQ 39.453125 66.40625 31.78125 66.40625 \nz\nM 31.78125 74.21875 \nQ 44.046875 74.21875 50.515625 64.515625 \nQ 56.984375 54.828125 56.984375 36.375 \nQ 56.984375 17.96875 50.515625 8.265625 \nQ 44.046875 -1.421875 31.78125 -1.421875 \nQ 19.53125 -1.421875 13.0625 8.265625 \nQ 6.59375 17.96875 6.59375 36.375 \nQ 6.59375 54.828125 13.0625 64.515625 \nQ 19.53125 74.21875 31.78125 74.21875 \nz\n\" id=\"DejaVuSans-48\"/>\n      </defs>\n      <g transform=\"translate(373.528389 239.717374)scale(0.1 -0.1)\">\n       <use xlink:href=\"#DejaVuSans-49\"/>\n       <use x=\"63.623047\" xlink:href=\"#DejaVuSans-48\"/>\n      </g>\n     </g>\n    </g>\n    <g id=\"text_11\">\n     <!-- $i$ -->\n     <defs>\n      <path d=\"M 18.3125 75.984375 \nL 27.296875 75.984375 \nL 25.09375 64.59375 \nL 16.109375 64.59375 \nz\nM 14.203125 54.6875 \nL 23.1875 54.6875 \nL 12.5 0 \nL 3.515625 0 \nz\n\" id=\"DejaVuSans-Oblique-105\"/>\n     </defs>\n     <g transform=\"translate(223.127813 257.954561)scale(0.16 -0.16)\">\n      <use transform=\"translate(0 0.015625)\" xlink:href=\"#DejaVuSans-Oblique-105\"/>\n     </g>\n    </g>\n   </g>\n   <g id=\"matplotlib.axis_2\">\n    <g id=\"ytick_1\">\n     <g id=\"line2d_11\">\n      <defs>\n       <path d=\"M 0 0 \nL -3.5 0 \n\" id=\"m67817a6929\" style=\"stroke:#000000;stroke-width:0.8;\"/>\n      </defs>\n      <g>\n       <use style=\"stroke:#000000;stroke-width:0.8;\" x=\"57.967813\" xlink:href=\"#m67817a6929\" y=\"214.680938\"/>\n      </g>\n     </g>\n     <g id=\"text_12\">\n      <!-- −0.4 -->\n      <defs>\n       <path d=\"M 10.59375 35.5 \nL 73.1875 35.5 \nL 73.1875 27.203125 \nL 10.59375 27.203125 \nz\n\" id=\"DejaVuSans-8722\"/>\n       <path d=\"M 10.6875 12.40625 \nL 21 12.40625 \nL 21 0 \nL 10.6875 0 \nz\n\" id=\"DejaVuSans-46\"/>\n      </defs>\n      <g transform=\"translate(26.685 218.480157)scale(0.1 -0.1)\">\n       <use xlink:href=\"#DejaVuSans-8722\"/>\n       <use x=\"83.789062\" xlink:href=\"#DejaVuSans-48\"/>\n       <use x=\"147.412109\" xlink:href=\"#DejaVuSans-46\"/>\n       <use x=\"179.199219\" xlink:href=\"#DejaVuSans-52\"/>\n      </g>\n     </g>\n    </g>\n    <g id=\"ytick_2\">\n     <g id=\"line2d_12\">\n      <g>\n       <use style=\"stroke:#000000;stroke-width:0.8;\" x=\"57.967813\" xlink:href=\"#m67817a6929\" y=\"185.583549\"/>\n      </g>\n     </g>\n     <g id=\"text_13\">\n      <!-- −0.2 -->\n      <g transform=\"translate(26.685 189.382768)scale(0.1 -0.1)\">\n       <use xlink:href=\"#DejaVuSans-8722\"/>\n       <use x=\"83.789062\" xlink:href=\"#DejaVuSans-48\"/>\n       <use x=\"147.412109\" xlink:href=\"#DejaVuSans-46\"/>\n       <use x=\"179.199219\" xlink:href=\"#DejaVuSans-50\"/>\n      </g>\n     </g>\n    </g>\n    <g id=\"ytick_3\">\n     <g id=\"line2d_13\">\n      <g>\n       <use style=\"stroke:#000000;stroke-width:0.8;\" x=\"57.967813\" xlink:href=\"#m67817a6929\" y=\"156.486161\"/>\n      </g>\n     </g>\n     <g id=\"text_14\">\n      <!-- 0.0 -->\n      <g transform=\"translate(35.064687 160.28538)scale(0.1 -0.1)\">\n       <use xlink:href=\"#DejaVuSans-48\"/>\n       <use x=\"63.623047\" xlink:href=\"#DejaVuSans-46\"/>\n       <use x=\"95.410156\" xlink:href=\"#DejaVuSans-48\"/>\n      </g>\n     </g>\n    </g>\n    <g id=\"ytick_4\">\n     <g id=\"line2d_14\">\n      <g>\n       <use style=\"stroke:#000000;stroke-width:0.8;\" x=\"57.967813\" xlink:href=\"#m67817a6929\" y=\"127.388773\"/>\n      </g>\n     </g>\n     <g id=\"text_15\">\n      <!-- 0.2 -->\n      <g transform=\"translate(35.064687 131.187991)scale(0.1 -0.1)\">\n       <use xlink:href=\"#DejaVuSans-48\"/>\n       <use x=\"63.623047\" xlink:href=\"#DejaVuSans-46\"/>\n       <use x=\"95.410156\" xlink:href=\"#DejaVuSans-50\"/>\n      </g>\n     </g>\n    </g>\n    <g id=\"ytick_5\">\n     <g id=\"line2d_15\">\n      <g>\n       <use style=\"stroke:#000000;stroke-width:0.8;\" x=\"57.967813\" xlink:href=\"#m67817a6929\" y=\"98.291384\"/>\n      </g>\n     </g>\n     <g id=\"text_16\">\n      <!-- 0.4 -->\n      <g transform=\"translate(35.064687 102.090603)scale(0.1 -0.1)\">\n       <use xlink:href=\"#DejaVuSans-48\"/>\n       <use x=\"63.623047\" xlink:href=\"#DejaVuSans-46\"/>\n       <use x=\"95.410156\" xlink:href=\"#DejaVuSans-52\"/>\n      </g>\n     </g>\n    </g>\n    <g id=\"ytick_6\">\n     <g id=\"line2d_16\">\n      <g>\n       <use style=\"stroke:#000000;stroke-width:0.8;\" x=\"57.967813\" xlink:href=\"#m67817a6929\" y=\"69.193996\"/>\n      </g>\n     </g>\n     <g id=\"text_17\">\n      <!-- 0.6 -->\n      <g transform=\"translate(35.064687 72.993214)scale(0.1 -0.1)\">\n       <use xlink:href=\"#DejaVuSans-48\"/>\n       <use x=\"63.623047\" xlink:href=\"#DejaVuSans-46\"/>\n       <use x=\"95.410156\" xlink:href=\"#DejaVuSans-54\"/>\n      </g>\n     </g>\n    </g>\n    <g id=\"ytick_7\">\n     <g id=\"line2d_17\">\n      <g>\n       <use style=\"stroke:#000000;stroke-width:0.8;\" x=\"57.967813\" xlink:href=\"#m67817a6929\" y=\"40.096607\"/>\n      </g>\n     </g>\n     <g id=\"text_18\">\n      <!-- 0.8 -->\n      <g transform=\"translate(35.064687 43.895826)scale(0.1 -0.1)\">\n       <use xlink:href=\"#DejaVuSans-48\"/>\n       <use x=\"63.623047\" xlink:href=\"#DejaVuSans-46\"/>\n       <use x=\"95.410156\" xlink:href=\"#DejaVuSans-56\"/>\n      </g>\n     </g>\n    </g>\n    <g id=\"ytick_8\">\n     <g id=\"line2d_18\">\n      <g>\n       <use style=\"stroke:#000000;stroke-width:0.8;\" x=\"57.967813\" xlink:href=\"#m67817a6929\" y=\"10.999219\"/>\n      </g>\n     </g>\n     <g id=\"text_19\">\n      <!-- 1.0 -->\n      <g transform=\"translate(35.064687 14.798437)scale(0.1 -0.1)\">\n       <use xlink:href=\"#DejaVuSans-49\"/>\n       <use x=\"63.623047\" xlink:href=\"#DejaVuSans-46\"/>\n       <use x=\"95.410156\" xlink:href=\"#DejaVuSans-48\"/>\n      </g>\n     </g>\n    </g>\n    <g id=\"text_20\">\n     <!-- $w_i$ -->\n     <defs>\n      <path d=\"M 8.5 54.6875 \nL 17.390625 54.6875 \nL 19.671875 10.6875 \nL 40.09375 54.6875 \nL 50.484375 54.6875 \nL 53.515625 10.6875 \nL 72.90625 54.6875 \nL 81.890625 54.6875 \nL 56.890625 0 \nL 46.390625 0 \nL 43.703125 45.3125 \nL 22.796875 0 \nL 12.203125 0 \nz\n\" id=\"DejaVuSans-Oblique-119\"/>\n     </defs>\n     <g transform=\"translate(19.3575 124.718936)rotate(-90)scale(0.16 -0.16)\">\n      <use transform=\"translate(0 0.3125)\" xlink:href=\"#DejaVuSans-Oblique-119\"/>\n      <use transform=\"translate(81.787109 -16.09375)scale(0.7)\" xlink:href=\"#DejaVuSans-Oblique-105\"/>\n     </g>\n    </g>\n   </g>\n   <g id=\"patch_33\">\n    <path d=\"M 57.967813 225.118936 \nL 57.967813 7.678936 \n\" style=\"fill:none;stroke:#000000;stroke-linecap:square;stroke-linejoin:miter;stroke-width:0.8;\"/>\n   </g>\n   <g id=\"patch_34\">\n    <path d=\"M 392.767812 225.118936 \nL 392.767812 7.678936 \n\" style=\"fill:none;stroke:#000000;stroke-linecap:square;stroke-linejoin:miter;stroke-width:0.8;\"/>\n   </g>\n   <g id=\"patch_35\">\n    <path d=\"M 57.967813 225.118936 \nL 392.767812 225.118936 \n\" style=\"fill:none;stroke:#000000;stroke-linecap:square;stroke-linejoin:miter;stroke-width:0.8;\"/>\n   </g>\n   <g id=\"patch_36\">\n    <path d=\"M 57.967813 7.678936 \nL 392.767812 7.678936 \n\" style=\"fill:none;stroke:#000000;stroke-linecap:square;stroke-linejoin:miter;stroke-width:0.8;\"/>\n   </g>\n  </g>\n </g>\n <defs>\n  <clipPath id=\"p5035aadccb\">\n   <rect height=\"217.44\" width=\"334.8\" x=\"57.967813\" y=\"7.678936\"/>\n  </clipPath>\n </defs>\n</svg>\n"
          },
          "metadata": {
            "needs_background": "light"
          }
        }
      ]
    },
    {
      "cell_type": "markdown",
      "metadata": {
        "id": "pR2h6Psoj0tb"
      },
      "source": [
        "### Variations\n",
        "\n",
        "There are many more variations of classical portfolio optimization. We might require that $\\mu^T w \\geq R^\\mathrm{min}$ and minimize $w^T \\Sigma w$ or $\\|\\Sigma ^{1/2} w\\|_2$.\n",
        "We could include the (broker) cost of short positions as the penalty $s^T (w)_-$ for some $s \\geq 0$.\n",
        "We could include transaction costs (from a previous portfolio $w^\\mathrm{prev}$) as the penalty\n",
        "\n",
        "$$\n",
        "\\kappa ^T |w-w^\\mathrm{prev}|^\\eta, \\quad\n",
        "\\kappa \\geq 0.\n",
        "$$\n",
        "\n",
        "\n",
        "Common values of $\\eta$ are $\\eta =1, ~ 3/2, ~2$.\n"
      ]
    },
    {
      "cell_type": "markdown",
      "metadata": {
        "id": "sSHtkEYIj0tb"
      },
      "source": [
        "### Factor covariance model\n",
        "\n",
        "A particularly common and useful variation is to model the covariance matrix $\\Sigma$ as a factor model\n",
        "\n",
        "$$\n",
        "\\Sigma  =  F \\tilde \\Sigma F^T + D,\n",
        "$$\n",
        "\n",
        "where  $F \\in {\\bf R}^{n \\times k}$, $k \\ll n$ is the *factor loading matrix*. $k$ is the number of factors (or sectors) (typically 10s). $F_{ij}$ is the loading of asset $i$ to factor $j$.\n",
        "$D$ is a diagonal matrix; $D_{ii}>0$ is the *idiosyncratic risk*. $\\tilde \\Sigma > 0$ is the *factor covariance matrix*.\n",
        "\n",
        "$F^Tw \\in {\\bf R}^k$ gives the portfolio *factor exposures*. A portfolio is *factor $j$ neutral* if $(F^Tw)_j=0$.\n"
      ]
    },
    {
      "cell_type": "markdown",
      "metadata": {
        "id": "uhAklevcj0td"
      },
      "source": [
        "### Portfolio optimization with factor covariance model\n",
        "\n",
        "Using the factor covariance model, we frame the portfolio optimization problem as \n",
        "\n",
        "\\begin{array}{ll} \\mbox{maximize} & \\mu^T w - \\gamma \\left(f^T \\tilde \\Sigma f  + w^TDw \\right) \\\\\n",
        "\\mbox{subject to} & {\\bf 1}^T w = 1, \\quad f=F^Tw\\\\\n",
        "& w \\in {\\cal W}, \\quad f \\in {\\cal F},\n",
        "\\end{array}\n",
        "\n",
        "where the variables are the allocations $w \\in {\\bf R}^n$ and factor exposures $f\\in {\\bf R}^k$ and $\\cal F$ gives the factor exposure constraints.\n",
        "\n",
        "Using the factor covariance model in the optimization problem has a computational advantage. The solve time is $O(nk^2)$ versus $O(n^3)$ for the standard problem."
      ]
    },
    {
      "cell_type": "markdown",
      "metadata": {
        "id": "rB14Vq3pj0td"
      },
      "source": [
        "### Example\n",
        "\n",
        "In the following code we generate and solve a portfolio optimization problem with 50 factors and 3000 assets.\n",
        "We set the leverage limit $=2$ and $\\gamma=0.1$.\n",
        "\n",
        "We solve the problem both with the covariance given as a single matrix and as a factor model.\n",
        "Using CVXPY with the OSQP solver running in a single thread, the solve time was 173.30 seconds for the single matrix formulation and 0.85 seconds for the factor model formulation.\n",
        "We collected the timings on a MacBook Air with an Intel Core i7 processor."
      ]
    },
    {
      "cell_type": "code",
      "metadata": {
        "id": "ts4IHiJpj0te"
      },
      "source": [
        "# Generate data for factor model.\n",
        "n = 3000\n",
        "m = 50\n",
        "np.random.seed(1)\n",
        "mu = np.abs(np.random.randn(n, 1))\n",
        "Sigma_tilde = np.random.randn(m, m)\n",
        "Sigma_tilde = Sigma_tilde.T.dot(Sigma_tilde)\n",
        "D = np.diag(np.random.uniform(0, 0.9, size=n))\n",
        "F = np.random.randn(n, m)"
      ],
      "execution_count": null,
      "outputs": []
    },
    {
      "cell_type": "code",
      "metadata": {
        "id": "8eyurXu2j0te",
        "colab": {
          "base_uri": "https://localhost:8080/"
        },
        "outputId": "06693dd0-0f9b-4aac-c5ce-c3f98b474092"
      },
      "source": [
        "# Factor model portfolio optimization.\n",
        "w = cp.Variable(n)\n",
        "f = F.T*w\n",
        "gamma = cp.Parameter(nonneg=True)\n",
        "Lmax = cp.Parameter()\n",
        "ret = mu.T*w \n",
        "risk = cp.quad_form(f, Sigma_tilde) + cp.quad_form(w, D)\n",
        "prob_factor = cp.Problem(cp.Maximize(ret - gamma*risk), \n",
        "                     [cp.sum(w) == 1, \n",
        "                      cp.norm(w, 1) <= Lmax])\n",
        "\n",
        "# Solve the factor model problem.\n",
        "Lmax.value = 2\n",
        "gamma.value = 0.1\n",
        "prob_factor.solve(verbose=True)"
      ],
      "execution_count": null,
      "outputs": [
        {
          "output_type": "stream",
          "text": [
            "-----------------------------------------------------------------\n",
            "           OSQP v0.6.2  -  Operator Splitting QP Solver\n",
            "              (c) Bartolomeo Stellato,  Goran Banjac\n",
            "        University of Oxford  -  Stanford University 2021\n",
            "-----------------------------------------------------------------\n",
            "problem:  variables n = 6050, constraints m = 6052\n",
            "          nnz(P) + nnz(A) = 172325\n",
            "settings: linear system solver = qdldl,\n",
            "          eps_abs = 1.0e-05, eps_rel = 1.0e-05,\n",
            "          eps_prim_inf = 1.0e-04, eps_dual_inf = 1.0e-04,\n",
            "          rho = 1.00e-01 (adaptive),\n",
            "          sigma = 1.00e-06, alpha = 1.60, max_iter = 10000\n",
            "          check_termination: on (interval 25),\n",
            "          scaling: on, scaled_termination: off\n",
            "          warm start: on, polish: on, time_limit: off\n",
            "\n",
            "iter   objective    pri res    dua res    rho        time\n",
            "   1  -2.1359e+03   7.63e+00   3.73e+02   1.00e-01   7.33e-02s\n",
            " 200  -4.1946e+00   1.59e-03   7.86e-03   3.60e-01   4.82e-01s\n",
            " 400  -4.6288e+00   3.02e-04   6.01e-04   3.60e-01   8.18e-01s\n",
            " 600  -4.6444e+00   2.20e-04   7.87e-04   3.60e-01   1.20e+00s\n",
            " 800  -4.6230e+00   1.09e-04   3.70e-04   3.60e-01   1.60e+00s\n",
            "1000  -4.6223e+00   8.59e-05   1.04e-04   3.60e-01   1.97e+00s\n",
            "1200  -4.6205e+00   8.56e-05   9.35e-06   3.60e-01   2.31e+00s\n",
            "1400  -4.6123e+00   6.44e-05   1.54e-04   3.60e-01   2.67e+00s\n",
            "1575  -4.6064e+00   2.97e-05   4.06e-05   3.60e-01   2.99e+00s\n",
            "\n",
            "status:               solved\n",
            "solution polish:      unsuccessful\n",
            "number of iterations: 1575\n",
            "optimal objective:    -4.6064\n",
            "run time:             3.03e+00s\n",
            "optimal rho estimate: 3.87e-01\n",
            "\n"
          ],
          "name": "stdout"
        },
        {
          "output_type": "execute_result",
          "data": {
            "text/plain": [
              "4.606413081938858"
            ]
          },
          "metadata": {
            "tags": []
          },
          "execution_count": 18
        }
      ]
    },
    {
      "cell_type": "code",
      "metadata": {
        "id": "NaQ5KsSuj0te",
        "colab": {
          "base_uri": "https://localhost:8080/"
        },
        "outputId": "369c0564-797b-4dd5-fdf9-e812012c1fce"
      },
      "source": [
        "# Standard portfolio optimization with data from factor model.\n",
        "risk = cp.quad_form(w, F.dot(Sigma_tilde).dot(F.T) + D)\n",
        "prob = cp.Problem(cp.Maximize(ret - gamma*risk), \n",
        "               [cp.sum(w) == 1, \n",
        "                cp.norm(w, 1) <= Lmax])\n",
        "\n",
        "# Uncomment to solve the problem.\n",
        "# WARNING: this will take many minutes to run.\n",
        "prob.solve(verbose=True, max_iter=30000)"
      ],
      "execution_count": null,
      "outputs": [
        {
          "output_type": "stream",
          "text": [
            "-----------------------------------------------------------------\n",
            "           OSQP v0.6.2  -  Operator Splitting QP Solver\n",
            "              (c) Bartolomeo Stellato,  Goran Banjac\n",
            "        University of Oxford  -  Stanford University 2021\n",
            "-----------------------------------------------------------------\n",
            "problem:  variables n = 6000, constraints m = 6002\n",
            "          nnz(P) + nnz(A) = 4519500\n",
            "settings: linear system solver = qdldl,\n",
            "          eps_abs = 1.0e-05, eps_rel = 1.0e-05,\n",
            "          eps_prim_inf = 1.0e-04, eps_dual_inf = 1.0e-04,\n",
            "          rho = 1.00e-01 (adaptive),\n",
            "          sigma = 1.00e-06, alpha = 1.60, max_iter = 30000\n",
            "          check_termination: on (interval 25),\n",
            "          scaling: on, scaled_termination: off\n",
            "          warm start: on, polish: on, time_limit: off\n",
            "\n",
            "iter   objective    pri res    dua res    rho        time\n",
            "   1  -1.1774e+04   2.65e+02   1.51e+04   1.00e-01   7.97e+00s\n",
            " 200  -4.1080e+02   2.42e-01   8.86e-04   1.00e-01   1.10e+01s\n",
            " 400  -1.9413e+02   1.13e-01   2.51e-04   1.00e-01   1.41e+01s\n",
            " 600  -1.2345e+02   6.40e-02   1.09e-04   1.00e-01   1.72e+01s\n",
            " 800  -8.7560e+01   4.67e-02   5.29e-05   1.00e-01   2.03e+01s\n",
            "1000  -6.5202e+01   3.49e-02   2.99e-05   1.00e-01   2.34e+01s\n",
            "1200  -5.0118e+01   2.68e-02   1.91e-05   1.00e-01   2.65e+01s\n",
            "1400  -3.9737e+01   2.09e-02   1.41e-05   1.00e-01   2.95e+01s\n",
            "1600  -3.2445e+01   1.72e-02   1.06e-05   1.00e-01   3.26e+01s\n",
            "1800  -2.6947e+01   1.42e-02   8.27e-06   1.00e-01   3.57e+01s\n",
            "2000  -2.2700e+01   1.17e-02   6.57e-06   1.00e-01   3.88e+01s\n",
            "2200  -1.9294e+01   9.74e-03   5.29e-06   1.00e-01   4.19e+01s\n",
            "2400  -1.6616e+01   8.26e-03   4.32e-06   1.00e-01   4.50e+01s\n",
            "2600  -1.4460e+01   7.01e-03   3.56e-06   1.00e-01   4.80e+01s\n",
            "2800  -1.2704e+01   5.95e-03   2.93e-06   1.00e-01   5.11e+01s\n",
            "3000  -1.1267e+01   5.06e-03   2.43e-06   1.00e-01   5.42e+01s\n",
            "3200  -1.0092e+01   4.25e-03   2.00e-06   1.00e-01   5.72e+01s\n",
            "3400  -9.1244e+00   3.58e-03   1.66e-06   1.00e-01   6.04e+01s\n",
            "3600  -8.3286e+00   3.04e-03   1.38e-06   1.00e-01   6.35e+01s\n",
            "3800  -7.6760e+00   2.60e-03   1.14e-06   1.00e-01   6.66e+01s\n",
            "4000  -7.1409e+00   2.26e-03   9.40e-07   1.00e-01   6.96e+01s\n",
            "4200  -6.7000e+00   2.04e-03   7.81e-07   1.00e-01   7.27e+01s\n",
            "4400  -6.3366e+00   1.85e-03   6.50e-07   1.00e-01   7.58e+01s\n",
            "4600  -6.0382e+00   1.69e-03   5.41e-07   1.00e-01   7.89e+01s\n",
            "4800  -5.7969e+00   1.58e-03   4.54e-07   1.00e-01   8.22e+01s\n",
            "5000  -5.5953e+00   1.46e-03   3.83e-07   1.00e-01   8.54e+01s\n",
            "5200  -5.4277e+00   1.37e-03   3.24e-07   1.00e-01   8.84e+01s\n",
            "5400  -5.2885e+00   1.28e-03   2.73e-07   1.00e-01   9.15e+01s\n",
            "5600  -5.1729e+00   1.20e-03   2.30e-07   1.00e-01   9.47e+01s\n",
            "5800  -5.0768e+00   1.13e-03   1.94e-07   1.00e-01   9.78e+01s\n",
            "6000  -4.9968e+00   1.08e-03   1.63e-07   1.00e-01   1.01e+02s\n",
            "6200  -4.9301e+00   1.02e-03   1.37e-07   1.00e-01   1.04e+02s\n",
            "6400  -4.8746e+00   9.80e-04   1.18e-07   1.00e-01   1.07e+02s\n",
            "6600  -4.8281e+00   9.40e-04   1.09e-07   1.00e-01   1.10e+02s\n",
            "6800  -4.7893e+00   9.04e-04   1.01e-07   1.00e-01   1.13e+02s\n",
            "7000  -4.7568e+00   8.72e-04   9.40e-08   1.00e-01   1.16e+02s\n",
            "7200  -4.7295e+00   8.44e-04   8.75e-08   1.00e-01   1.20e+02s\n",
            "7400  -4.7372e+00   8.63e-04   2.54e-07   1.00e-01   1.23e+02s\n",
            "7600  -4.7339e+00   8.57e-04   1.41e-07   1.00e-01   1.26e+02s\n",
            "7800  -4.7278e+00   8.25e-04   8.93e-08   1.00e-01   1.29e+02s\n",
            "8000  -4.7195e+00   7.99e-04   5.47e-08   1.00e-01   1.32e+02s\n",
            "8200  -4.7100e+00   7.75e-04   4.25e-08   1.00e-01   1.35e+02s\n",
            "8400  -4.7002e+00   7.59e-04   3.67e-08   1.00e-01   1.38e+02s\n",
            "8600  -4.6909e+00   7.51e-04   3.23e-08   1.00e-01   1.41e+02s\n",
            "8800  -4.6824e+00   7.42e-04   3.05e-08   1.00e-01   1.44e+02s\n",
            "9000  -4.6749e+00   7.35e-04   2.86e-08   1.00e-01   1.47e+02s\n",
            "9200  -4.6684e+00   7.27e-04   2.66e-08   1.00e-01   1.51e+02s\n",
            "9400  -4.6627e+00   7.21e-04   2.47e-08   1.00e-01   1.54e+02s\n",
            "9600  -4.6577e+00   7.17e-04   2.29e-08   1.00e-01   1.57e+02s\n",
            "9800  -4.6534e+00   7.13e-04   2.15e-08   1.00e-01   1.60e+02s\n",
            "10000  -4.6496e+00   7.10e-04   2.03e-08   1.00e-01   1.63e+02s\n",
            "10200  -4.6463e+00   7.06e-04   1.91e-08   1.00e-01   1.66e+02s\n",
            "10400  -4.6434e+00   7.03e-04   1.81e-08   1.00e-01   1.69e+02s\n",
            "10600  -4.6335e+00   6.88e-04   3.27e-07   5.04e-01   1.80e+02s\n",
            "10800  -4.6280e+00   6.75e-04   2.51e-07   5.04e-01   1.83e+02s\n",
            "11000  -4.6248e+00   6.64e-04   1.95e-07   5.04e-01   1.86e+02s\n",
            "11200  -4.6228e+00   6.55e-04   1.54e-07   5.04e-01   1.89e+02s\n",
            "11400  -4.6218e+00   6.45e-04   8.79e-08   5.04e-01   1.93e+02s\n",
            "11600  -4.6207e+00   6.44e-04   9.50e-08   5.04e-01   1.96e+02s\n",
            "11800  -4.6198e+00   6.43e-04   9.48e-08   5.04e-01   1.99e+02s\n",
            "12000  -4.6190e+00   6.42e-04   9.17e-08   5.04e-01   2.02e+02s\n",
            "12200  -4.6182e+00   6.41e-04   8.76e-08   5.04e-01   2.05e+02s\n",
            "12400  -4.6175e+00   6.39e-04   8.34e-08   5.04e-01   2.08e+02s\n",
            "12600  -4.6175e+00   6.20e-04   3.63e-07   5.04e-01   2.11e+02s\n",
            "12800  -4.6158e+00   6.17e-04   2.08e-07   5.04e-01   2.14e+02s\n",
            "13000  -4.6153e+00   6.13e-04   1.47e-07   5.04e-01   2.17e+02s\n",
            "13200  -4.6148e+00   6.10e-04   1.09e-07   5.04e-01   2.21e+02s\n",
            "13400  -4.6454e+00   5.54e-04   2.45e-06   5.04e-01   2.24e+02s\n",
            "13600  -4.6464e+00   5.27e-04   7.63e-07   5.04e-01   2.27e+02s\n",
            "13800  -4.6382e+00   5.07e-04   5.38e-07   5.04e-01   2.30e+02s\n",
            "14000  -4.6332e+00   4.89e-04   4.15e-07   5.04e-01   2.33e+02s\n",
            "14200  -4.6304e+00   4.65e-04   3.03e-07   5.04e-01   2.36e+02s\n",
            "14400  -4.6286e+00   4.52e-04   2.31e-07   5.04e-01   2.39e+02s\n",
            "14600  -4.6274e+00   4.41e-04   1.90e-07   5.04e-01   2.42e+02s\n",
            "14800  -4.6263e+00   4.36e-04   1.57e-07   5.04e-01   2.46e+02s\n",
            "15000  -4.6254e+00   4.31e-04   1.31e-07   5.04e-01   2.49e+02s\n",
            "15200  -4.6247e+00   4.27e-04   1.10e-07   5.04e-01   2.52e+02s\n",
            "15400  -4.6240e+00   4.24e-04   9.37e-08   5.04e-01   2.55e+02s\n",
            "15600  -4.6234e+00   4.22e-04   8.00e-08   5.04e-01   2.58e+02s\n",
            "15800  -4.6229e+00   4.21e-04   6.87e-08   5.04e-01   2.61e+02s\n",
            "16000  -4.6224e+00   4.21e-04   5.93e-08   5.04e-01   2.64e+02s\n",
            "16200  -4.6220e+00   4.21e-04   5.14e-08   5.04e-01   2.67e+02s\n",
            "16400  -4.6217e+00   4.21e-04   4.48e-08   5.04e-01   2.70e+02s\n",
            "16600  -4.6213e+00   4.20e-04   3.92e-08   5.04e-01   2.73e+02s\n",
            "16800  -4.6210e+00   4.20e-04   3.44e-08   5.04e-01   2.77e+02s\n",
            "17000  -4.6208e+00   4.20e-04   2.84e-08   5.04e-01   2.80e+02s\n",
            "17200  -4.6207e+00   4.19e-04   2.37e-08   5.04e-01   2.83e+02s\n",
            "17400  -4.6205e+00   4.18e-04   2.00e-08   5.04e-01   2.86e+02s\n",
            "17600  -4.6203e+00   4.18e-04   1.82e-08   5.04e-01   2.89e+02s\n",
            "17800  -4.6202e+00   4.17e-04   1.72e-08   5.04e-01   2.92e+02s\n",
            "18000  -4.6200e+00   4.16e-04   1.64e-08   5.04e-01   2.95e+02s\n",
            "18200  -4.6256e+00   4.14e-04   9.55e-07   5.04e-01   2.98e+02s\n",
            "18400  -4.6227e+00   4.15e-04   3.35e-07   5.04e-01   3.01e+02s\n",
            "18600  -4.6224e+00   4.16e-04   1.95e-07   5.04e-01   3.04e+02s\n",
            "18800  -4.6226e+00   4.16e-04   1.27e-07   5.04e-01   3.07e+02s\n",
            "19000  -4.6229e+00   4.15e-04   8.84e-08   5.04e-01   3.11e+02s\n",
            "19200  -4.6231e+00   4.15e-04   6.51e-08   5.04e-01   3.14e+02s\n",
            "19400  -4.6233e+00   4.14e-04   5.14e-08   5.04e-01   3.17e+02s\n",
            "19600  -4.6235e+00   4.14e-04   4.14e-08   5.04e-01   3.20e+02s\n",
            "19800  -4.6236e+00   4.14e-04   3.39e-08   5.04e-01   3.23e+02s\n",
            "20000  -4.6236e+00   4.13e-04   2.83e-08   5.04e-01   3.26e+02s\n",
            "20200  -4.6237e+00   4.13e-04   2.40e-08   5.04e-01   3.29e+02s\n",
            "20400  -4.6279e+00   4.19e-04   1.10e-06   5.04e-01   3.32e+02s\n",
            "20600  -4.6328e+00   4.14e-04   4.43e-07   5.04e-01   3.35e+02s\n",
            "20800  -4.6348e+00   4.09e-04   3.19e-07   5.04e-01   3.38e+02s\n",
            "21000  -4.6360e+00   4.06e-04   2.50e-07   5.04e-01   3.41e+02s\n",
            "21200  -4.6368e+00   4.03e-04   2.00e-07   5.04e-01   3.45e+02s\n",
            "21400  -4.6375e+00   4.00e-04   1.62e-07   5.04e-01   3.48e+02s\n",
            "21600  -4.6380e+00   3.99e-04   1.40e-07   5.04e-01   3.51e+02s\n",
            "21800  -4.6386e+00   3.98e-04   1.18e-07   5.04e-01   3.54e+02s\n",
            "22000  -4.6392e+00   3.98e-04   1.00e-07   5.04e-01   3.57e+02s\n",
            "22200  -4.6396e+00   3.97e-04   9.12e-08   5.04e-01   3.60e+02s\n",
            "22400  -4.6402e+00   3.88e-04   1.72e-06   5.04e-01   3.63e+02s\n",
            "22600  -4.6481e+00   3.69e-04   6.62e-07   5.04e-01   3.66e+02s\n",
            "22800  -4.6513e+00   3.68e-04   3.75e-07   5.04e-01   3.70e+02s\n",
            "23000  -4.6578e+00   3.65e-04   1.26e-06   5.04e-01   3.73e+02s\n",
            "23200  -4.6606e+00   3.71e-04   3.81e-07   5.04e-01   3.76e+02s\n",
            "23400  -4.6574e+00   3.69e-04   1.74e-07   5.04e-01   3.79e+02s\n",
            "23600  -4.6563e+00   3.55e-04   3.46e-07   5.04e-01   3.82e+02s\n",
            "23800  -4.6543e+00   3.48e-04   1.62e-07   5.04e-01   3.85e+02s\n",
            "24000  -4.6534e+00   3.46e-04   9.43e-08   5.04e-01   3.89e+02s\n",
            "24200  -4.6530e+00   3.45e-04   7.96e-08   5.04e-01   3.92e+02s\n",
            "24400  -4.6575e+00   3.44e-04   6.80e-07   5.04e-01   3.95e+02s\n",
            "24600  -4.6604e+00   3.40e-04   4.12e-07   5.04e-01   3.98e+02s\n",
            "24800  -4.6596e+00   3.36e-04   2.92e-07   5.04e-01   4.02e+02s\n",
            "25000  -4.6582e+00   3.30e-04   2.22e-07   5.04e-01   4.05e+02s\n",
            "25200  -4.6570e+00   3.26e-04   1.74e-07   5.04e-01   4.08e+02s\n",
            "25400  -4.6560e+00   3.21e-04   1.40e-07   5.04e-01   4.11e+02s\n",
            "25600  -4.6552e+00   3.18e-04   1.21e-07   5.04e-01   4.14e+02s\n",
            "25800  -4.6545e+00   3.15e-04   1.09e-07   5.04e-01   4.17e+02s\n",
            "26000  -4.6540e+00   3.12e-04   9.83e-08   5.04e-01   4.20e+02s\n",
            "26200  -4.6536e+00   3.10e-04   8.83e-08   5.04e-01   4.23e+02s\n",
            "26400  -4.6644e+00   2.98e-04   8.13e-07   5.04e-01   4.26e+02s\n",
            "26600  -4.6618e+00   2.91e-04   3.47e-07   5.04e-01   4.29e+02s\n",
            "26800  -4.6579e+00   2.86e-04   2.42e-07   5.04e-01   4.33e+02s\n",
            "27000  -4.6555e+00   2.84e-04   2.09e-07   5.04e-01   4.36e+02s\n",
            "27200  -4.6539e+00   2.85e-04   1.89e-07   5.04e-01   4.39e+02s\n",
            "27400  -4.6529e+00   2.85e-04   1.70e-07   5.04e-01   4.42e+02s\n",
            "27600  -4.6522e+00   2.85e-04   1.53e-07   5.04e-01   4.45e+02s\n",
            "27800  -4.6517e+00   2.84e-04   1.38e-07   5.04e-01   4.48e+02s\n",
            "28000  -4.6513e+00   2.84e-04   1.24e-07   5.04e-01   4.51e+02s\n",
            "28200  -4.6510e+00   2.84e-04   1.12e-07   5.04e-01   4.54e+02s\n",
            "28400  -4.6507e+00   2.83e-04   1.01e-07   5.04e-01   4.57e+02s\n",
            "28600  -4.6504e+00   2.82e-04   9.15e-08   5.04e-01   4.61e+02s\n",
            "28800  -4.6502e+00   2.82e-04   8.31e-08   5.04e-01   4.64e+02s\n",
            "29000  -4.6499e+00   2.81e-04   7.57e-08   5.04e-01   4.67e+02s\n",
            "29200  -4.6497e+00   2.80e-04   6.92e-08   5.04e-01   4.70e+02s\n",
            "29400  -4.6495e+00   2.80e-04   6.34e-08   5.04e-01   4.73e+02s\n",
            "29600  -4.6493e+00   2.79e-04   5.82e-08   5.04e-01   4.77e+02s\n",
            "29800  -4.6491e+00   2.79e-04   5.36e-08   5.04e-01   4.80e+02s\n",
            "30000  -4.6489e+00   2.78e-04   4.94e-08   5.04e-01   4.83e+02s\n",
            "\n",
            "status:               solved inaccurate\n",
            "number of iterations: 30000\n",
            "optimal objective:    -4.6489\n",
            "run time:             4.83e+02s\n",
            "optimal rho estimate: 9.34e-01\n",
            "\n"
          ],
          "name": "stdout"
        },
        {
          "output_type": "execute_result",
          "data": {
            "text/plain": [
              "4.64886481797565"
            ]
          },
          "metadata": {
            "tags": []
          },
          "execution_count": 21
        }
      ]
    },
    {
      "cell_type": "code",
      "metadata": {
        "id": "QYXEOv9Gj0tf",
        "colab": {
          "base_uri": "https://localhost:8080/"
        },
        "outputId": "365d4c9a-14be-43ad-d0d1-193f64df8311"
      },
      "source": [
        "print('Factor model solve time = {}'.format(prob_factor.solver_stats.solve_time))\n",
        "print('Single model solve time = {}'.format(prob.solver_stats.solve_time))"
      ],
      "execution_count": null,
      "outputs": [
        {
          "output_type": "stream",
          "text": [
            "Factor model solve time = 3.0333686589999997\n",
            "Single model solve time = 483.077024319\n"
          ],
          "name": "stdout"
        }
      ]
    },
    {
      "cell_type": "markdown",
      "metadata": {
        "id": "LCxpLB8FfotZ"
      },
      "source": [
        "## Как с деньгами обстоит вопрос\n",
        "What about real data?\n",
        "\n",
        "![](https://pbs.twimg.com/media/Ef-YalfXYAAUDaf.jpg)"
      ]
    },
    {
      "cell_type": "code",
      "metadata": {
        "id": "iGDBMulR6MjH",
        "colab": {
          "base_uri": "https://localhost:8080/"
        },
        "outputId": "18e6a02d-e852-4196-d070-56e0022e5a36"
      },
      "source": [
        "!pip install yfinance\n",
        "# !pip install fix_yahoo_finance"
      ],
      "execution_count": 1,
      "outputs": [
        {
          "output_type": "stream",
          "name": "stdout",
          "text": [
            "Collecting yfinance\n",
            "  Downloading yfinance-0.1.63.tar.gz (26 kB)\n",
            "Requirement already satisfied: pandas>=0.24 in /usr/local/lib/python3.7/dist-packages (from yfinance) (1.1.5)\n",
            "Requirement already satisfied: numpy>=1.15 in /usr/local/lib/python3.7/dist-packages (from yfinance) (1.19.5)\n",
            "Requirement already satisfied: requests>=2.20 in /usr/local/lib/python3.7/dist-packages (from yfinance) (2.23.0)\n",
            "Requirement already satisfied: multitasking>=0.0.7 in /usr/local/lib/python3.7/dist-packages (from yfinance) (0.0.9)\n",
            "Collecting lxml>=4.5.1\n",
            "  Downloading lxml-4.6.3-cp37-cp37m-manylinux2014_x86_64.whl (6.3 MB)\n",
            "\u001b[K     |████████████████████████████████| 6.3 MB 11.7 MB/s \n",
            "\u001b[?25hRequirement already satisfied: pytz>=2017.2 in /usr/local/lib/python3.7/dist-packages (from pandas>=0.24->yfinance) (2018.9)\n",
            "Requirement already satisfied: python-dateutil>=2.7.3 in /usr/local/lib/python3.7/dist-packages (from pandas>=0.24->yfinance) (2.8.2)\n",
            "Requirement already satisfied: six>=1.5 in /usr/local/lib/python3.7/dist-packages (from python-dateutil>=2.7.3->pandas>=0.24->yfinance) (1.15.0)\n",
            "Requirement already satisfied: certifi>=2017.4.17 in /usr/local/lib/python3.7/dist-packages (from requests>=2.20->yfinance) (2021.5.30)\n",
            "Requirement already satisfied: urllib3!=1.25.0,!=1.25.1,<1.26,>=1.21.1 in /usr/local/lib/python3.7/dist-packages (from requests>=2.20->yfinance) (1.24.3)\n",
            "Requirement already satisfied: chardet<4,>=3.0.2 in /usr/local/lib/python3.7/dist-packages (from requests>=2.20->yfinance) (3.0.4)\n",
            "Requirement already satisfied: idna<3,>=2.5 in /usr/local/lib/python3.7/dist-packages (from requests>=2.20->yfinance) (2.10)\n",
            "Building wheels for collected packages: yfinance\n",
            "  Building wheel for yfinance (setup.py) ... \u001b[?25l\u001b[?25hdone\n",
            "  Created wheel for yfinance: filename=yfinance-0.1.63-py2.py3-none-any.whl size=23918 sha256=0cddfaff1dea1d7576ce522315873d91405fa976a0ec086d71156241ae5de968\n",
            "  Stored in directory: /root/.cache/pip/wheels/fe/87/8b/7ec24486e001d3926537f5f7801f57a74d181be25b11157983\n",
            "Successfully built yfinance\n",
            "Installing collected packages: lxml, yfinance\n",
            "  Attempting uninstall: lxml\n",
            "    Found existing installation: lxml 4.2.6\n",
            "    Uninstalling lxml-4.2.6:\n",
            "      Successfully uninstalled lxml-4.2.6\n",
            "Successfully installed lxml-4.6.3 yfinance-0.1.63\n"
          ]
        }
      ]
    },
    {
      "cell_type": "code",
      "metadata": {
        "colab": {
          "base_uri": "https://localhost:8080/",
          "height": 560
        },
        "id": "dU-FCll7fs2x",
        "outputId": "c87417ac-4c1e-419e-c1c6-cb31370d3df9"
      },
      "source": [
        "import datetime\n",
        "import matplotlib.pyplot as plt\n",
        "import pandas\n",
        "from pandas_datareader import data as pdr\n",
        "import yfinance as yfin\n",
        "yfin.pdr_override()\n",
        "\n",
        "stocks = ['GOOGL', 'SPY', 'AAPL', 'TSLA', 'MSFT']\n",
        "\n",
        "df = pdr.get_data_yahoo(stocks, start=\"2021-01-01\")\n",
        "\n",
        "# Adjusted price\n",
        "for stock in stocks:\n",
        "    plt.plot(df['Adj Close'][stock], label=stock)\n",
        "plt.xlabel('date')\n",
        "plt.ylabel('Adjusted price')\n",
        "plt.legend()\n",
        "plt.show()\n",
        "\n",
        "# Fractional return\n",
        "frac_return = {}\n",
        "for stock in stocks:\n",
        "    frac_return[stock] = [(price - df['Adj Close'][stock][0])/df['Adj Close'][stock][0] for price in df['Adj Close'][stock]]\n",
        "    plt.plot(frac_return[stock], label=stock)\n",
        "plt.xlabel('date')\n",
        "plt.ylabel('Fractional return')\n",
        "plt.legend()\n",
        "plt.show()"
      ],
      "execution_count": 2,
      "outputs": [
        {
          "output_type": "stream",
          "name": "stdout",
          "text": [
            "[*********************100%***********************]  5 of 5 completed\n"
          ]
        },
        {
          "output_type": "display_data",
          "data": {
            "image/png": "[encoded data removed]",
            "text/plain": [
              "<Figure size 432x288 with 1 Axes>"
            ]
          },
          "metadata": {
            "needs_background": "light"
          }
        },
        {
          "output_type": "display_data",
          "data": {
            "image/png": "[encoded data removed]",
            "text/plain": [
              "<Figure size 432x288 with 1 Axes>"
            ]
          },
          "metadata": {
            "needs_background": "light"
          }
        }
      ]
    },
    {
      "cell_type": "code",
      "metadata": {
        "id": "nRJjak_vqLWI"
      },
      "source": [
        "# Calculating mean and covariance of fractional return\n",
        "# number of stocks\n",
        "N = len(frac_return)\n",
        "\n",
        "# number of historical values per stock\n",
        "M = len(frac_return[stocks[0]])\n",
        "\n",
        "mu = np.zeros(N)\n",
        "Sigma = np.zeros((N,N))\n",
        "Prices = np.zeros((M,N))\n",
        "\n",
        "for i_asset, (stock, return_array) in enumerate(frac_return.items()):\n",
        "    mu[i_asset] = np.array(return_array).mean()\n",
        "    Prices[:, i_asset] = return_array\n",
        "\n",
        "Sigma = 1/N*(Prices - mu).T @ (Prices - mu)"
      ],
      "execution_count": null,
      "outputs": []
    },
    {
      "cell_type": "code",
      "metadata": {
        "id": "L-rH_NtgsTZH"
      },
      "source": [
        "# Long only portfolio optimization.\n",
        "import cvxpy as cp\n",
        "\n",
        "\n",
        "w = cp.Variable(N)\n",
        "gamma = cp.Parameter(nonneg=True)\n",
        "ret = mu.T@w \n",
        "risk = cp.quad_form(w, Sigma)\n",
        "prob = cp.Problem(cp.Maximize(ret - gamma*risk), \n",
        "               [cp.sum(w) == 1, \n",
        "                w >= 0])"
      ],
      "execution_count": null,
      "outputs": []
    },
    {
      "cell_type": "code",
      "metadata": {
        "colab": {
          "base_uri": "https://localhost:8080/",
          "height": 371
        },
        "id": "MnNxi8WBssE7",
        "outputId": "6d5c53c4-b794-48e4-aeef-ce779693af9b"
      },
      "source": [
        "# Compute trade-off curve.\n",
        "SAMPLES = 100\n",
        "risk_data = np.zeros(SAMPLES)\n",
        "ret_data = np.zeros(SAMPLES)\n",
        "gamma_vals = np.logspace(-2, 3, num=SAMPLES)\n",
        "for i in range(SAMPLES):\n",
        "    gamma.value = gamma_vals[i]\n",
        "    prob.solve()\n",
        "    risk_data[i] = cp.sqrt(risk).value\n",
        "    ret_data[i] = ret.value\n",
        "\n",
        "# Plot long only trade-off curve.\n",
        "import matplotlib.pyplot as plt\n",
        "%matplotlib inline\n",
        "%config InlineBackend.figure_format = 'svg'\n",
        "\n",
        "markers_on = [3, 10, 70]\n",
        "fig = plt.figure()\n",
        "ax = fig.add_subplot(111)\n",
        "plt.plot(risk_data, ret_data, 'g-')\n",
        "for marker in markers_on:\n",
        "    plt.plot(risk_data[marker], ret_data[marker], 'bs')\n",
        "    ax.annotate(r\"$\\gamma = %.2f$\" % gamma_vals[marker], xy=(risk_data[marker]+.08, ret_data[marker]-.03))\n",
        "for i in range(N):\n",
        "    plt.plot(cp.sqrt(Sigma[i,i]).value, mu[i], 'ro')\n",
        "plt.xlabel('Standard deviation')\n",
        "plt.ylabel('Return')\n",
        "plt.show()"
      ],
      "execution_count": null,
      "outputs": [
        {
          "output_type": "display_data",
          "data": {
            "text/plain": [
              "<Figure size 432x288 with 1 Axes>"
            ],
            "image/svg+xml": "<?xml version=\"1.0\" encoding=\"utf-8\" standalone=\"no\"?>\n<!DOCTYPE svg PUBLIC \"-//W3C//DTD SVG 1.1//EN\"\n  \"http://www.w3.org/Graphics/SVG/1.1/DTD/svg11.dtd\">\n<!-- Created with matplotlib (https://matplotlib.org/) -->\n<svg height=\"262.19625pt\" version=\"1.1\" viewBox=\"0 0 385.78125 262.19625\" width=\"385.78125pt\" xmlns=\"http://www.w3.org/2000/svg\" xmlns:xlink=\"http://www.w3.org/1999/xlink\">\n <defs>\n  <style type=\"text/css\">\n*{stroke-linecap:butt;stroke-linejoin:round;}\n  </style>\n </defs>\n <g id=\"figure_1\">\n  <g id=\"patch_1\">\n   <path d=\"M 0 262.19625 \nL 385.78125 262.19625 \nL 385.78125 0 \nL 0 0 \nz\n\" style=\"fill:none;\"/>\n  </g>\n  <g id=\"axes_1\">\n   <g id=\"patch_2\">\n    <path d=\"M 43.78125 224.64 \nL 378.58125 224.64 \nL 378.58125 7.2 \nL 43.78125 7.2 \nz\n\" style=\"fill:#ffffff;\"/>\n   </g>\n   <g id=\"matplotlib.axis_1\">\n    <g id=\"xtick_1\">\n     <g id=\"line2d_1\">\n      <defs>\n       <path d=\"M 0 0 \nL 0 3.5 \n\" id=\"mb94e689897\" style=\"stroke:#000000;stroke-width:0.8;\"/>\n      </defs>\n      <g>\n       <use style=\"stroke:#000000;stroke-width:0.8;\" x=\"100.473571\" xlink:href=\"#mb94e689897\" y=\"224.64\"/>\n      </g>\n     </g>\n     <g id=\"text_1\">\n      <!-- 2 -->\n      <defs>\n       <path d=\"M 19.1875 8.296875 \nL 53.609375 8.296875 \nL 53.609375 0 \nL 7.328125 0 \nL 7.328125 8.296875 \nQ 12.9375 14.109375 22.625 23.890625 \nQ 32.328125 33.6875 34.8125 36.53125 \nQ 39.546875 41.84375 41.421875 45.53125 \nQ 43.3125 49.21875 43.3125 52.78125 \nQ 43.3125 58.59375 39.234375 62.25 \nQ 35.15625 65.921875 28.609375 65.921875 \nQ 23.96875 65.921875 18.8125 64.3125 \nQ 13.671875 62.703125 7.8125 59.421875 \nL 7.8125 69.390625 \nQ 13.765625 71.78125 18.9375 73 \nQ 24.125 74.21875 28.421875 74.21875 \nQ 39.75 74.21875 46.484375 68.546875 \nQ 53.21875 62.890625 53.21875 53.421875 \nQ 53.21875 48.921875 51.53125 44.890625 \nQ 49.859375 40.875 45.40625 35.40625 \nQ 44.1875 33.984375 37.640625 27.21875 \nQ 31.109375 20.453125 19.1875 8.296875 \nz\n\" id=\"DejaVuSans-50\"/>\n      </defs>\n      <g transform=\"translate(97.292321 239.238437)scale(0.1 -0.1)\">\n       <use xlink:href=\"#DejaVuSans-50\"/>\n      </g>\n     </g>\n    </g>\n    <g id=\"xtick_2\">\n     <g id=\"line2d_2\">\n      <g>\n       <use style=\"stroke:#000000;stroke-width:0.8;\" x=\"171.079363\" xlink:href=\"#mb94e689897\" y=\"224.64\"/>\n      </g>\n     </g>\n     <g id=\"text_2\">\n      <!-- 4 -->\n      <defs>\n       <path d=\"M 37.796875 64.3125 \nL 12.890625 25.390625 \nL 37.796875 25.390625 \nz\nM 35.203125 72.90625 \nL 47.609375 72.90625 \nL 47.609375 25.390625 \nL 58.015625 25.390625 \nL 58.015625 17.1875 \nL 47.609375 17.1875 \nL 47.609375 0 \nL 37.796875 0 \nL 37.796875 17.1875 \nL 4.890625 17.1875 \nL 4.890625 26.703125 \nz\n\" id=\"DejaVuSans-52\"/>\n      </defs>\n      <g transform=\"translate(167.898113 239.238437)scale(0.1 -0.1)\">\n       <use xlink:href=\"#DejaVuSans-52\"/>\n      </g>\n     </g>\n    </g>\n    <g id=\"xtick_3\">\n     <g id=\"line2d_3\">\n      <g>\n       <use style=\"stroke:#000000;stroke-width:0.8;\" x=\"241.685155\" xlink:href=\"#mb94e689897\" y=\"224.64\"/>\n      </g>\n     </g>\n     <g id=\"text_3\">\n      <!-- 6 -->\n      <defs>\n       <path d=\"M 33.015625 40.375 \nQ 26.375 40.375 22.484375 35.828125 \nQ 18.609375 31.296875 18.609375 23.390625 \nQ 18.609375 15.53125 22.484375 10.953125 \nQ 26.375 6.390625 33.015625 6.390625 \nQ 39.65625 6.390625 43.53125 10.953125 \nQ 47.40625 15.53125 47.40625 23.390625 \nQ 47.40625 31.296875 43.53125 35.828125 \nQ 39.65625 40.375 33.015625 40.375 \nz\nM 52.59375 71.296875 \nL 52.59375 62.3125 \nQ 48.875 64.0625 45.09375 64.984375 \nQ 41.3125 65.921875 37.59375 65.921875 \nQ 27.828125 65.921875 22.671875 59.328125 \nQ 17.53125 52.734375 16.796875 39.40625 \nQ 19.671875 43.65625 24.015625 45.921875 \nQ 28.375 48.1875 33.59375 48.1875 \nQ 44.578125 48.1875 50.953125 41.515625 \nQ 57.328125 34.859375 57.328125 23.390625 \nQ 57.328125 12.15625 50.6875 5.359375 \nQ 44.046875 -1.421875 33.015625 -1.421875 \nQ 20.359375 -1.421875 13.671875 8.265625 \nQ 6.984375 17.96875 6.984375 36.375 \nQ 6.984375 53.65625 15.1875 63.9375 \nQ 23.390625 74.21875 37.203125 74.21875 \nQ 40.921875 74.21875 44.703125 73.484375 \nQ 48.484375 72.75 52.59375 71.296875 \nz\n\" id=\"DejaVuSans-54\"/>\n      </defs>\n      <g transform=\"translate(238.503905 239.238437)scale(0.1 -0.1)\">\n       <use xlink:href=\"#DejaVuSans-54\"/>\n      </g>\n     </g>\n    </g>\n    <g id=\"xtick_4\">\n     <g id=\"line2d_4\">\n      <g>\n       <use style=\"stroke:#000000;stroke-width:0.8;\" x=\"312.290947\" xlink:href=\"#mb94e689897\" y=\"224.64\"/>\n      </g>\n     </g>\n     <g id=\"text_4\">\n      <!-- 8 -->\n      <defs>\n       <path d=\"M 31.78125 34.625 \nQ 24.75 34.625 20.71875 30.859375 \nQ 16.703125 27.09375 16.703125 20.515625 \nQ 16.703125 13.921875 20.71875 10.15625 \nQ 24.75 6.390625 31.78125 6.390625 \nQ 38.8125 6.390625 42.859375 10.171875 \nQ 46.921875 13.96875 46.921875 20.515625 \nQ 46.921875 27.09375 42.890625 30.859375 \nQ 38.875 34.625 31.78125 34.625 \nz\nM 21.921875 38.8125 \nQ 15.578125 40.375 12.03125 44.71875 \nQ 8.5 49.078125 8.5 55.328125 \nQ 8.5 64.0625 14.71875 69.140625 \nQ 20.953125 74.21875 31.78125 74.21875 \nQ 42.671875 74.21875 48.875 69.140625 \nQ 55.078125 64.0625 55.078125 55.328125 \nQ 55.078125 49.078125 51.53125 44.71875 \nQ 48 40.375 41.703125 38.8125 \nQ 48.828125 37.15625 52.796875 32.3125 \nQ 56.78125 27.484375 56.78125 20.515625 \nQ 56.78125 9.90625 50.3125 4.234375 \nQ 43.84375 -1.421875 31.78125 -1.421875 \nQ 19.734375 -1.421875 13.25 4.234375 \nQ 6.78125 9.90625 6.78125 20.515625 \nQ 6.78125 27.484375 10.78125 32.3125 \nQ 14.796875 37.15625 21.921875 38.8125 \nz\nM 18.3125 54.390625 \nQ 18.3125 48.734375 21.84375 45.5625 \nQ 25.390625 42.390625 31.78125 42.390625 \nQ 38.140625 42.390625 41.71875 45.5625 \nQ 45.3125 48.734375 45.3125 54.390625 \nQ 45.3125 60.0625 41.71875 63.234375 \nQ 38.140625 66.40625 31.78125 66.40625 \nQ 25.390625 66.40625 21.84375 63.234375 \nQ 18.3125 60.0625 18.3125 54.390625 \nz\n\" id=\"DejaVuSans-56\"/>\n      </defs>\n      <g transform=\"translate(309.109697 239.238437)scale(0.1 -0.1)\">\n       <use xlink:href=\"#DejaVuSans-56\"/>\n      </g>\n     </g>\n    </g>\n    <g id=\"text_5\">\n     <!-- Standard deviation -->\n     <defs>\n      <path d=\"M 53.515625 70.515625 \nL 53.515625 60.890625 \nQ 47.90625 63.578125 42.921875 64.890625 \nQ 37.9375 66.21875 33.296875 66.21875 \nQ 25.25 66.21875 20.875 63.09375 \nQ 16.5 59.96875 16.5 54.203125 \nQ 16.5 49.359375 19.40625 46.890625 \nQ 22.3125 44.4375 30.421875 42.921875 \nL 36.375 41.703125 \nQ 47.40625 39.59375 52.65625 34.296875 \nQ 57.90625 29 57.90625 20.125 \nQ 57.90625 9.515625 50.796875 4.046875 \nQ 43.703125 -1.421875 29.984375 -1.421875 \nQ 24.8125 -1.421875 18.96875 -0.25 \nQ 13.140625 0.921875 6.890625 3.21875 \nL 6.890625 13.375 \nQ 12.890625 10.015625 18.65625 8.296875 \nQ 24.421875 6.59375 29.984375 6.59375 \nQ 38.421875 6.59375 43.015625 9.90625 \nQ 47.609375 13.234375 47.609375 19.390625 \nQ 47.609375 24.75 44.3125 27.78125 \nQ 41.015625 30.8125 33.5 32.328125 \nL 27.484375 33.5 \nQ 16.453125 35.6875 11.515625 40.375 \nQ 6.59375 45.0625 6.59375 53.421875 \nQ 6.59375 63.09375 13.40625 68.65625 \nQ 20.21875 74.21875 32.171875 74.21875 \nQ 37.3125 74.21875 42.625 73.28125 \nQ 47.953125 72.359375 53.515625 70.515625 \nz\n\" id=\"DejaVuSans-83\"/>\n      <path d=\"M 18.3125 70.21875 \nL 18.3125 54.6875 \nL 36.8125 54.6875 \nL 36.8125 47.703125 \nL 18.3125 47.703125 \nL 18.3125 18.015625 \nQ 18.3125 11.328125 20.140625 9.421875 \nQ 21.96875 7.515625 27.59375 7.515625 \nL 36.8125 7.515625 \nL 36.8125 0 \nL 27.59375 0 \nQ 17.1875 0 13.234375 3.875 \nQ 9.28125 7.765625 9.28125 18.015625 \nL 9.28125 47.703125 \nL 2.6875 47.703125 \nL 2.6875 54.6875 \nL 9.28125 54.6875 \nL 9.28125 70.21875 \nz\n\" id=\"DejaVuSans-116\"/>\n      <path d=\"M 34.28125 27.484375 \nQ 23.390625 27.484375 19.1875 25 \nQ 14.984375 22.515625 14.984375 16.5 \nQ 14.984375 11.71875 18.140625 8.90625 \nQ 21.296875 6.109375 26.703125 6.109375 \nQ 34.1875 6.109375 38.703125 11.40625 \nQ 43.21875 16.703125 43.21875 25.484375 \nL 43.21875 27.484375 \nz\nM 52.203125 31.203125 \nL 52.203125 0 \nL 43.21875 0 \nL 43.21875 8.296875 \nQ 40.140625 3.328125 35.546875 0.953125 \nQ 30.953125 -1.421875 24.3125 -1.421875 \nQ 15.921875 -1.421875 10.953125 3.296875 \nQ 6 8.015625 6 15.921875 \nQ 6 25.140625 12.171875 29.828125 \nQ 18.359375 34.515625 30.609375 34.515625 \nL 43.21875 34.515625 \nL 43.21875 35.40625 \nQ 43.21875 41.609375 39.140625 45 \nQ 35.0625 48.390625 27.6875 48.390625 \nQ 23 48.390625 18.546875 47.265625 \nQ 14.109375 46.140625 10.015625 43.890625 \nL 10.015625 52.203125 \nQ 14.9375 54.109375 19.578125 55.046875 \nQ 24.21875 56 28.609375 56 \nQ 40.484375 56 46.34375 49.84375 \nQ 52.203125 43.703125 52.203125 31.203125 \nz\n\" id=\"DejaVuSans-97\"/>\n      <path d=\"M 54.890625 33.015625 \nL 54.890625 0 \nL 45.90625 0 \nL 45.90625 32.71875 \nQ 45.90625 40.484375 42.875 44.328125 \nQ 39.84375 48.1875 33.796875 48.1875 \nQ 26.515625 48.1875 22.3125 43.546875 \nQ 18.109375 38.921875 18.109375 30.90625 \nL 18.109375 0 \nL 9.078125 0 \nL 9.078125 54.6875 \nL 18.109375 54.6875 \nL 18.109375 46.1875 \nQ 21.34375 51.125 25.703125 53.5625 \nQ 30.078125 56 35.796875 56 \nQ 45.21875 56 50.046875 50.171875 \nQ 54.890625 44.34375 54.890625 33.015625 \nz\n\" id=\"DejaVuSans-110\"/>\n      <path d=\"M 45.40625 46.390625 \nL 45.40625 75.984375 \nL 54.390625 75.984375 \nL 54.390625 0 \nL 45.40625 0 \nL 45.40625 8.203125 \nQ 42.578125 3.328125 38.25 0.953125 \nQ 33.9375 -1.421875 27.875 -1.421875 \nQ 17.96875 -1.421875 11.734375 6.484375 \nQ 5.515625 14.40625 5.515625 27.296875 \nQ 5.515625 40.1875 11.734375 48.09375 \nQ 17.96875 56 27.875 56 \nQ 33.9375 56 38.25 53.625 \nQ 42.578125 51.265625 45.40625 46.390625 \nz\nM 14.796875 27.296875 \nQ 14.796875 17.390625 18.875 11.75 \nQ 22.953125 6.109375 30.078125 6.109375 \nQ 37.203125 6.109375 41.296875 11.75 \nQ 45.40625 17.390625 45.40625 27.296875 \nQ 45.40625 37.203125 41.296875 42.84375 \nQ 37.203125 48.484375 30.078125 48.484375 \nQ 22.953125 48.484375 18.875 42.84375 \nQ 14.796875 37.203125 14.796875 27.296875 \nz\n\" id=\"DejaVuSans-100\"/>\n      <path d=\"M 41.109375 46.296875 \nQ 39.59375 47.171875 37.8125 47.578125 \nQ 36.03125 48 33.890625 48 \nQ 26.265625 48 22.1875 43.046875 \nQ 18.109375 38.09375 18.109375 28.8125 \nL 18.109375 0 \nL 9.078125 0 \nL 9.078125 54.6875 \nL 18.109375 54.6875 \nL 18.109375 46.1875 \nQ 20.953125 51.171875 25.484375 53.578125 \nQ 30.03125 56 36.53125 56 \nQ 37.453125 56 38.578125 55.875 \nQ 39.703125 55.765625 41.0625 55.515625 \nz\n\" id=\"DejaVuSans-114\"/>\n      <path id=\"DejaVuSans-32\"/>\n      <path d=\"M 56.203125 29.59375 \nL 56.203125 25.203125 \nL 14.890625 25.203125 \nQ 15.484375 15.921875 20.484375 11.0625 \nQ 25.484375 6.203125 34.421875 6.203125 \nQ 39.59375 6.203125 44.453125 7.46875 \nQ 49.3125 8.734375 54.109375 11.28125 \nL 54.109375 2.78125 \nQ 49.265625 0.734375 44.1875 -0.34375 \nQ 39.109375 -1.421875 33.890625 -1.421875 \nQ 20.796875 -1.421875 13.15625 6.1875 \nQ 5.515625 13.8125 5.515625 26.8125 \nQ 5.515625 40.234375 12.765625 48.109375 \nQ 20.015625 56 32.328125 56 \nQ 43.359375 56 49.78125 48.890625 \nQ 56.203125 41.796875 56.203125 29.59375 \nz\nM 47.21875 32.234375 \nQ 47.125 39.59375 43.09375 43.984375 \nQ 39.0625 48.390625 32.421875 48.390625 \nQ 24.90625 48.390625 20.390625 44.140625 \nQ 15.875 39.890625 15.1875 32.171875 \nz\n\" id=\"DejaVuSans-101\"/>\n      <path d=\"M 2.984375 54.6875 \nL 12.5 54.6875 \nL 29.59375 8.796875 \nL 46.6875 54.6875 \nL 56.203125 54.6875 \nL 35.6875 0 \nL 23.484375 0 \nz\n\" id=\"DejaVuSans-118\"/>\n      <path d=\"M 9.421875 54.6875 \nL 18.40625 54.6875 \nL 18.40625 0 \nL 9.421875 0 \nz\nM 9.421875 75.984375 \nL 18.40625 75.984375 \nL 18.40625 64.59375 \nL 9.421875 64.59375 \nz\n\" id=\"DejaVuSans-105\"/>\n      <path d=\"M 30.609375 48.390625 \nQ 23.390625 48.390625 19.1875 42.75 \nQ 14.984375 37.109375 14.984375 27.296875 \nQ 14.984375 17.484375 19.15625 11.84375 \nQ 23.34375 6.203125 30.609375 6.203125 \nQ 37.796875 6.203125 41.984375 11.859375 \nQ 46.1875 17.53125 46.1875 27.296875 \nQ 46.1875 37.015625 41.984375 42.703125 \nQ 37.796875 48.390625 30.609375 48.390625 \nz\nM 30.609375 56 \nQ 42.328125 56 49.015625 48.375 \nQ 55.71875 40.765625 55.71875 27.296875 \nQ 55.71875 13.875 49.015625 6.21875 \nQ 42.328125 -1.421875 30.609375 -1.421875 \nQ 18.84375 -1.421875 12.171875 6.21875 \nQ 5.515625 13.875 5.515625 27.296875 \nQ 5.515625 40.765625 12.171875 48.375 \nQ 18.84375 56 30.609375 56 \nz\n\" id=\"DejaVuSans-111\"/>\n     </defs>\n     <g transform=\"translate(163.603906 252.916562)scale(0.1 -0.1)\">\n      <use xlink:href=\"#DejaVuSans-83\"/>\n      <use x=\"63.476562\" xlink:href=\"#DejaVuSans-116\"/>\n      <use x=\"102.685547\" xlink:href=\"#DejaVuSans-97\"/>\n      <use x=\"163.964844\" xlink:href=\"#DejaVuSans-110\"/>\n      <use x=\"227.34375\" xlink:href=\"#DejaVuSans-100\"/>\n      <use x=\"290.820312\" xlink:href=\"#DejaVuSans-97\"/>\n      <use x=\"352.099609\" xlink:href=\"#DejaVuSans-114\"/>\n      <use x=\"391.462891\" xlink:href=\"#DejaVuSans-100\"/>\n      <use x=\"454.939453\" xlink:href=\"#DejaVuSans-32\"/>\n      <use x=\"486.726562\" xlink:href=\"#DejaVuSans-100\"/>\n      <use x=\"550.203125\" xlink:href=\"#DejaVuSans-101\"/>\n      <use x=\"611.726562\" xlink:href=\"#DejaVuSans-118\"/>\n      <use x=\"670.90625\" xlink:href=\"#DejaVuSans-105\"/>\n      <use x=\"698.689453\" xlink:href=\"#DejaVuSans-97\"/>\n      <use x=\"759.96875\" xlink:href=\"#DejaVuSans-116\"/>\n      <use x=\"799.177734\" xlink:href=\"#DejaVuSans-105\"/>\n      <use x=\"826.960938\" xlink:href=\"#DejaVuSans-111\"/>\n      <use x=\"888.142578\" xlink:href=\"#DejaVuSans-110\"/>\n     </g>\n    </g>\n   </g>\n   <g id=\"matplotlib.axis_2\">\n    <g id=\"ytick_1\">\n     <g id=\"line2d_5\">\n      <defs>\n       <path d=\"M 0 0 \nL -3.5 0 \n\" id=\"me95e0cb9ee\" style=\"stroke:#000000;stroke-width:0.8;\"/>\n      </defs>\n      <g>\n       <use style=\"stroke:#000000;stroke-width:0.8;\" x=\"43.78125\" xlink:href=\"#me95e0cb9ee\" y=\"211.834025\"/>\n      </g>\n     </g>\n     <g id=\"text_6\">\n      <!-- 0.0 -->\n      <defs>\n       <path d=\"M 31.78125 66.40625 \nQ 24.171875 66.40625 20.328125 58.90625 \nQ 16.5 51.421875 16.5 36.375 \nQ 16.5 21.390625 20.328125 13.890625 \nQ 24.171875 6.390625 31.78125 6.390625 \nQ 39.453125 6.390625 43.28125 13.890625 \nQ 47.125 21.390625 47.125 36.375 \nQ 47.125 51.421875 43.28125 58.90625 \nQ 39.453125 66.40625 31.78125 66.40625 \nz\nM 31.78125 74.21875 \nQ 44.046875 74.21875 50.515625 64.515625 \nQ 56.984375 54.828125 56.984375 36.375 \nQ 56.984375 17.96875 50.515625 8.265625 \nQ 44.046875 -1.421875 31.78125 -1.421875 \nQ 19.53125 -1.421875 13.0625 8.265625 \nQ 6.59375 17.96875 6.59375 36.375 \nQ 6.59375 54.828125 13.0625 64.515625 \nQ 19.53125 74.21875 31.78125 74.21875 \nz\n\" id=\"DejaVuSans-48\"/>\n       <path d=\"M 10.6875 12.40625 \nL 21 12.40625 \nL 21 0 \nL 10.6875 0 \nz\n\" id=\"DejaVuSans-46\"/>\n      </defs>\n      <g transform=\"translate(20.878125 215.633244)scale(0.1 -0.1)\">\n       <use xlink:href=\"#DejaVuSans-48\"/>\n       <use x=\"63.623047\" xlink:href=\"#DejaVuSans-46\"/>\n       <use x=\"95.410156\" xlink:href=\"#DejaVuSans-48\"/>\n      </g>\n     </g>\n    </g>\n    <g id=\"ytick_2\">\n     <g id=\"line2d_6\">\n      <g>\n       <use style=\"stroke:#000000;stroke-width:0.8;\" x=\"43.78125\" xlink:href=\"#me95e0cb9ee\" y=\"178.70013\"/>\n      </g>\n     </g>\n     <g id=\"text_7\">\n      <!-- 0.2 -->\n      <g transform=\"translate(20.878125 182.499349)scale(0.1 -0.1)\">\n       <use xlink:href=\"#DejaVuSans-48\"/>\n       <use x=\"63.623047\" xlink:href=\"#DejaVuSans-46\"/>\n       <use x=\"95.410156\" xlink:href=\"#DejaVuSans-50\"/>\n      </g>\n     </g>\n    </g>\n    <g id=\"ytick_3\">\n     <g id=\"line2d_7\">\n      <g>\n       <use style=\"stroke:#000000;stroke-width:0.8;\" x=\"43.78125\" xlink:href=\"#me95e0cb9ee\" y=\"145.566235\"/>\n      </g>\n     </g>\n     <g id=\"text_8\">\n      <!-- 0.4 -->\n      <g transform=\"translate(20.878125 149.365454)scale(0.1 -0.1)\">\n       <use xlink:href=\"#DejaVuSans-48\"/>\n       <use x=\"63.623047\" xlink:href=\"#DejaVuSans-46\"/>\n       <use x=\"95.410156\" xlink:href=\"#DejaVuSans-52\"/>\n      </g>\n     </g>\n    </g>\n    <g id=\"ytick_4\">\n     <g id=\"line2d_8\">\n      <g>\n       <use style=\"stroke:#000000;stroke-width:0.8;\" x=\"43.78125\" xlink:href=\"#me95e0cb9ee\" y=\"112.43234\"/>\n      </g>\n     </g>\n     <g id=\"text_9\">\n      <!-- 0.6 -->\n      <g transform=\"translate(20.878125 116.231559)scale(0.1 -0.1)\">\n       <use xlink:href=\"#DejaVuSans-48\"/>\n       <use x=\"63.623047\" xlink:href=\"#DejaVuSans-46\"/>\n       <use x=\"95.410156\" xlink:href=\"#DejaVuSans-54\"/>\n      </g>\n     </g>\n    </g>\n    <g id=\"ytick_5\">\n     <g id=\"line2d_9\">\n      <g>\n       <use style=\"stroke:#000000;stroke-width:0.8;\" x=\"43.78125\" xlink:href=\"#me95e0cb9ee\" y=\"79.298445\"/>\n      </g>\n     </g>\n     <g id=\"text_10\">\n      <!-- 0.8 -->\n      <g transform=\"translate(20.878125 83.097664)scale(0.1 -0.1)\">\n       <use xlink:href=\"#DejaVuSans-48\"/>\n       <use x=\"63.623047\" xlink:href=\"#DejaVuSans-46\"/>\n       <use x=\"95.410156\" xlink:href=\"#DejaVuSans-56\"/>\n      </g>\n     </g>\n    </g>\n    <g id=\"ytick_6\">\n     <g id=\"line2d_10\">\n      <g>\n       <use style=\"stroke:#000000;stroke-width:0.8;\" x=\"43.78125\" xlink:href=\"#me95e0cb9ee\" y=\"46.16455\"/>\n      </g>\n     </g>\n     <g id=\"text_11\">\n      <!-- 1.0 -->\n      <defs>\n       <path d=\"M 12.40625 8.296875 \nL 28.515625 8.296875 \nL 28.515625 63.921875 \nL 10.984375 60.40625 \nL 10.984375 69.390625 \nL 28.421875 72.90625 \nL 38.28125 72.90625 \nL 38.28125 8.296875 \nL 54.390625 8.296875 \nL 54.390625 0 \nL 12.40625 0 \nz\n\" id=\"DejaVuSans-49\"/>\n      </defs>\n      <g transform=\"translate(20.878125 49.963769)scale(0.1 -0.1)\">\n       <use xlink:href=\"#DejaVuSans-49\"/>\n       <use x=\"63.623047\" xlink:href=\"#DejaVuSans-46\"/>\n       <use x=\"95.410156\" xlink:href=\"#DejaVuSans-48\"/>\n      </g>\n     </g>\n    </g>\n    <g id=\"ytick_7\">\n     <g id=\"line2d_11\">\n      <g>\n       <use style=\"stroke:#000000;stroke-width:0.8;\" x=\"43.78125\" xlink:href=\"#me95e0cb9ee\" y=\"13.030655\"/>\n      </g>\n     </g>\n     <g id=\"text_12\">\n      <!-- 1.2 -->\n      <g transform=\"translate(20.878125 16.829873)scale(0.1 -0.1)\">\n       <use xlink:href=\"#DejaVuSans-49\"/>\n       <use x=\"63.623047\" xlink:href=\"#DejaVuSans-46\"/>\n       <use x=\"95.410156\" xlink:href=\"#DejaVuSans-50\"/>\n      </g>\n     </g>\n    </g>\n    <g id=\"text_13\">\n     <!-- Return -->\n     <defs>\n      <path d=\"M 44.390625 34.1875 \nQ 47.5625 33.109375 50.5625 29.59375 \nQ 53.5625 26.078125 56.59375 19.921875 \nL 66.609375 0 \nL 56 0 \nL 46.6875 18.703125 \nQ 43.0625 26.03125 39.671875 28.421875 \nQ 36.28125 30.8125 30.421875 30.8125 \nL 19.671875 30.8125 \nL 19.671875 0 \nL 9.8125 0 \nL 9.8125 72.90625 \nL 32.078125 72.90625 \nQ 44.578125 72.90625 50.734375 67.671875 \nQ 56.890625 62.453125 56.890625 51.90625 \nQ 56.890625 45.015625 53.6875 40.46875 \nQ 50.484375 35.9375 44.390625 34.1875 \nz\nM 19.671875 64.796875 \nL 19.671875 38.921875 \nL 32.078125 38.921875 \nQ 39.203125 38.921875 42.84375 42.21875 \nQ 46.484375 45.515625 46.484375 51.90625 \nQ 46.484375 58.296875 42.84375 61.546875 \nQ 39.203125 64.796875 32.078125 64.796875 \nz\n\" id=\"DejaVuSans-82\"/>\n      <path d=\"M 8.5 21.578125 \nL 8.5 54.6875 \nL 17.484375 54.6875 \nL 17.484375 21.921875 \nQ 17.484375 14.15625 20.5 10.265625 \nQ 23.53125 6.390625 29.59375 6.390625 \nQ 36.859375 6.390625 41.078125 11.03125 \nQ 45.3125 15.671875 45.3125 23.6875 \nL 45.3125 54.6875 \nL 54.296875 54.6875 \nL 54.296875 0 \nL 45.3125 0 \nL 45.3125 8.40625 \nQ 42.046875 3.421875 37.71875 1 \nQ 33.40625 -1.421875 27.6875 -1.421875 \nQ 18.265625 -1.421875 13.375 4.4375 \nQ 8.5 10.296875 8.5 21.578125 \nz\nM 31.109375 56 \nz\n\" id=\"DejaVuSans-117\"/>\n     </defs>\n     <g transform=\"translate(14.798438 132.511406)rotate(-90)scale(0.1 -0.1)\">\n      <use xlink:href=\"#DejaVuSans-82\"/>\n      <use x=\"64.982422\" xlink:href=\"#DejaVuSans-101\"/>\n      <use x=\"126.505859\" xlink:href=\"#DejaVuSans-116\"/>\n      <use x=\"165.714844\" xlink:href=\"#DejaVuSans-117\"/>\n      <use x=\"229.09375\" xlink:href=\"#DejaVuSans-114\"/>\n      <use x=\"268.457031\" xlink:href=\"#DejaVuSans-110\"/>\n     </g>\n    </g>\n   </g>\n   <g id=\"line2d_12\">\n    <path clip-path=\"url(#pa99fd26943)\" d=\"M 242.864876 84.898495 \nL 220.306036 97.699124 \nL 200.321046 109.094437 \nL 182.637547 119.238717 \nL 167.013673 128.269308 \nL 153.234553 136.308476 \nL 141.109123 143.465065 \nL 130.467188 149.835968 \nL 121.156722 155.507442 \nL 113.041363 160.556274 \nL 105.998109 165.05082 \nL 105.993253 165.053964 \nL 100.741707 169.039447 \nL 93.479829 174.584773 \nL 87.073878 179.521306 \nL 81.435129 183.915883 \nL 76.48457 187.828001 \nL 72.151652 191.310627 \nL 68.37313 194.410914 \nL 65.091999 197.170836 \nL 62.634561 199.295409 \nL 62.634561 199.295409 \nL 62.634561 199.295409 \nL 62.634561 199.295409 \nL 62.634561 199.295409 \nL 62.634561 199.295409 \nL 62.634561 199.295409 \nL 62.634561 199.295409 \nL 62.634561 199.295409 \nL 62.634561 199.295409 \nL 62.301217 200.218522 \nL 61.611361 202.257583 \nL 61.053824 204.072787 \nL 60.604805 205.688708 \nL 60.24425 207.127226 \nL 59.955448 208.407816 \nL 59.724594 209.547816 \nL 59.54037 210.562662 \nL 59.393559 211.466093 \nL 59.276694 212.270341 \nL 59.183749 212.986295 \nL 59.109882 213.623647 \nL 59.051211 214.191028 \nL 59.004631 214.696119 \nL 58.999432 214.756364 \nL 58.999432 214.756364 \nL 58.999432 214.756364 \nL 58.999432 214.756364 \nL 58.999432 214.756364 \nL 58.999432 214.756364 \nL 58.999432 214.756364 \nL 58.999432 214.756364 \nL 58.999432 214.756364 \nL 58.999432 214.756364 \nL 58.999432 214.756364 \nL 58.999432 214.756364 \nL 58.999432 214.756364 \nL 58.999432 214.756364 \nL 58.999432 214.756364 \nL 58.999432 214.756364 \nL 58.999432 214.756364 \nL 58.999432 214.756364 \nL 58.999432 214.756364 \nL 58.999432 214.756364 \nL 58.999432 214.756364 \nL 58.999432 214.756364 \nL 58.999432 214.756364 \nL 58.999432 214.756364 \nL 58.999432 214.756364 \nL 58.999432 214.756364 \nL 58.999432 214.756364 \nL 58.999432 214.756364 \nL 58.999432 214.756364 \nL 58.999432 214.756364 \nL 58.999432 214.756364 \nL 58.999432 214.756364 \nL 58.999432 214.756364 \nL 58.999432 214.756364 \nL 58.999432 214.756364 \nL 58.999432 214.756364 \nL 58.999432 214.756364 \nL 58.999432 214.756364 \nL 58.999432 214.756364 \nL 58.999432 214.756364 \nL 58.999432 214.756364 \nL 58.999432 214.756364 \nL 58.999432 214.756364 \nL 58.999432 214.756364 \nL 58.999432 214.756364 \nL 58.999432 214.756364 \nL 58.999432 214.756364 \nL 58.999432 214.756364 \nL 58.999432 214.756364 \nL 58.999432 214.756364 \nL 58.999432 214.756364 \nL 58.999432 214.756364 \nL 58.999432 214.756364 \nL 58.999432 214.756364 \nL 58.999432 214.756364 \nL 58.999432 214.756364 \n\" style=\"fill:none;stroke:#008000;stroke-linecap:square;stroke-width:1.5;\"/>\n   </g>\n   <g id=\"line2d_13\">\n    <defs>\n     <path d=\"M -3 3 \nL 3 3 \nL 3 -3 \nL -3 -3 \nz\n\" id=\"m1c340a93ef\" style=\"stroke:#0000ff;stroke-linejoin:miter;\"/>\n    </defs>\n    <g clip-path=\"url(#pa99fd26943)\">\n     <use style=\"fill:#0000ff;stroke:#0000ff;stroke-linejoin:miter;\" x=\"182.637547\" xlink:href=\"#m1c340a93ef\" y=\"119.238717\"/>\n    </g>\n   </g>\n   <g id=\"line2d_14\">\n    <g clip-path=\"url(#pa99fd26943)\">\n     <use style=\"fill:#0000ff;stroke:#0000ff;stroke-linejoin:miter;\" x=\"105.998109\" xlink:href=\"#m1c340a93ef\" y=\"165.05082\"/>\n    </g>\n   </g>\n   <g id=\"line2d_15\">\n    <g clip-path=\"url(#pa99fd26943)\">\n     <use style=\"fill:#0000ff;stroke:#0000ff;stroke-linejoin:miter;\" x=\"58.999432\" xlink:href=\"#m1c340a93ef\" y=\"214.756364\"/>\n    </g>\n   </g>\n   <g id=\"line2d_16\">\n    <defs>\n     <path d=\"M 0 3 \nC 0.795609 3 1.55874 2.683901 2.12132 2.12132 \nC 2.683901 1.55874 3 0.795609 3 0 \nC 3 -0.795609 2.683901 -1.55874 2.12132 -2.12132 \nC 1.55874 -2.683901 0.795609 -3 0 -3 \nC -0.795609 -3 -1.55874 -2.683901 -2.12132 -2.12132 \nC -2.683901 -1.55874 -3 -0.795609 -3 0 \nC -3 0.795609 -2.683901 1.55874 -2.12132 2.12132 \nC -1.55874 2.683901 -0.795609 3 0 3 \nz\n\" id=\"m19161790c1\" style=\"stroke:#ff0000;\"/>\n    </defs>\n    <g clip-path=\"url(#pa99fd26943)\">\n     <use style=\"fill:#ff0000;stroke:#ff0000;\" x=\"66.338633\" xlink:href=\"#m19161790c1\" y=\"210.79352\"/>\n    </g>\n   </g>\n   <g id=\"line2d_17\">\n    <g clip-path=\"url(#pa99fd26943)\">\n     <use style=\"fill:#ff0000;stroke:#ff0000;\" x=\"58.999432\" xlink:href=\"#m19161790c1\" y=\"214.756364\"/>\n    </g>\n   </g>\n   <g id=\"line2d_18\">\n    <g clip-path=\"url(#pa99fd26943)\">\n     <use style=\"fill:#ff0000;stroke:#ff0000;\" x=\"105.993253\" xlink:href=\"#m19161790c1\" y=\"165.053964\"/>\n    </g>\n   </g>\n   <g id=\"line2d_19\">\n    <g clip-path=\"url(#pa99fd26943)\">\n     <use style=\"fill:#ff0000;stroke:#ff0000;\" x=\"363.363068\" xlink:href=\"#m19161790c1\" y=\"17.083636\"/>\n    </g>\n   </g>\n   <g id=\"line2d_20\">\n    <g clip-path=\"url(#pa99fd26943)\">\n     <use style=\"fill:#ff0000;stroke:#ff0000;\" x=\"62.634561\" xlink:href=\"#m19161790c1\" y=\"199.295409\"/>\n    </g>\n   </g>\n   <g id=\"patch_3\">\n    <path d=\"M 43.78125 224.64 \nL 43.78125 7.2 \n\" style=\"fill:none;stroke:#000000;stroke-linecap:square;stroke-linejoin:miter;stroke-width:0.8;\"/>\n   </g>\n   <g id=\"patch_4\">\n    <path d=\"M 378.58125 224.64 \nL 378.58125 7.2 \n\" style=\"fill:none;stroke:#000000;stroke-linecap:square;stroke-linejoin:miter;stroke-width:0.8;\"/>\n   </g>\n   <g id=\"patch_5\">\n    <path d=\"M 43.78125 224.64 \nL 378.58125 224.64 \n\" style=\"fill:none;stroke:#000000;stroke-linecap:square;stroke-linejoin:miter;stroke-width:0.8;\"/>\n   </g>\n   <g id=\"patch_6\">\n    <path d=\"M 43.78125 7.2 \nL 378.58125 7.2 \n\" style=\"fill:none;stroke:#000000;stroke-linecap:square;stroke-linejoin:miter;stroke-width:0.8;\"/>\n   </g>\n   <g id=\"text_14\">\n    <!-- $\\gamma = 0.01$ -->\n    <defs>\n     <path d=\"M 23.296875 46.09375 \nL 28.71875 12.3125 \nL 54 54.6875 \nL 63.53125 54.6875 \nL 30.8125 0 \nL 26.765625 -20.796875 \nL 17.78125 -20.796875 \nL 21.828125 0 \nL 15.4375 40.828125 \nQ 14.453125 46.96875 9.8125 46.96875 \nL 7.421875 46.96875 \nL 8.890625 54.6875 \nL 12.3125 54.6875 \nQ 21.921875 54.6875 23.296875 46.09375 \nz\n\" id=\"DejaVuSans-Oblique-947\"/>\n     <path d=\"M 10.59375 45.40625 \nL 73.1875 45.40625 \nL 73.1875 37.203125 \nL 10.59375 37.203125 \nz\nM 10.59375 25.484375 \nL 73.1875 25.484375 \nL 73.1875 17.1875 \nL 10.59375 17.1875 \nz\n\" id=\"DejaVuSans-61\"/>\n    </defs>\n    <g transform=\"translate(185.461779 124.208801)scale(0.1 -0.1)\">\n     <use transform=\"translate(0 0.78125)\" xlink:href=\"#DejaVuSans-Oblique-947\"/>\n     <use transform=\"translate(78.662109 0.78125)\" xlink:href=\"#DejaVuSans-61\"/>\n     <use transform=\"translate(181.933594 0.78125)\" xlink:href=\"#DejaVuSans-48\"/>\n     <use transform=\"translate(245.556641 0.78125)\" xlink:href=\"#DejaVuSans-46\"/>\n     <use transform=\"translate(277.34375 0.78125)\" xlink:href=\"#DejaVuSans-48\"/>\n     <use transform=\"translate(340.966797 0.78125)\" xlink:href=\"#DejaVuSans-49\"/>\n    </g>\n   </g>\n   <g id=\"text_15\">\n    <!-- $\\gamma = 0.03$ -->\n    <defs>\n     <path d=\"M 40.578125 39.3125 \nQ 47.65625 37.796875 51.625 33 \nQ 55.609375 28.21875 55.609375 21.1875 \nQ 55.609375 10.40625 48.1875 4.484375 \nQ 40.765625 -1.421875 27.09375 -1.421875 \nQ 22.515625 -1.421875 17.65625 -0.515625 \nQ 12.796875 0.390625 7.625 2.203125 \nL 7.625 11.71875 \nQ 11.71875 9.328125 16.59375 8.109375 \nQ 21.484375 6.890625 26.8125 6.890625 \nQ 36.078125 6.890625 40.9375 10.546875 \nQ 45.796875 14.203125 45.796875 21.1875 \nQ 45.796875 27.640625 41.28125 31.265625 \nQ 36.765625 34.90625 28.71875 34.90625 \nL 20.21875 34.90625 \nL 20.21875 43.015625 \nL 29.109375 43.015625 \nQ 36.375 43.015625 40.234375 45.921875 \nQ 44.09375 48.828125 44.09375 54.296875 \nQ 44.09375 59.90625 40.109375 62.90625 \nQ 36.140625 65.921875 28.71875 65.921875 \nQ 24.65625 65.921875 20.015625 65.03125 \nQ 15.375 64.15625 9.8125 62.3125 \nL 9.8125 71.09375 \nQ 15.4375 72.65625 20.34375 73.4375 \nQ 25.25 74.21875 29.59375 74.21875 \nQ 40.828125 74.21875 47.359375 69.109375 \nQ 53.90625 64.015625 53.90625 55.328125 \nQ 53.90625 49.265625 50.4375 45.09375 \nQ 46.96875 40.921875 40.578125 39.3125 \nz\n\" id=\"DejaVuSans-51\"/>\n    </defs>\n    <g transform=\"translate(108.822341 170.020905)scale(0.1 -0.1)\">\n     <use transform=\"translate(0 0.78125)\" xlink:href=\"#DejaVuSans-Oblique-947\"/>\n     <use transform=\"translate(78.662109 0.78125)\" xlink:href=\"#DejaVuSans-61\"/>\n     <use transform=\"translate(181.933594 0.78125)\" xlink:href=\"#DejaVuSans-48\"/>\n     <use transform=\"translate(245.556641 0.78125)\" xlink:href=\"#DejaVuSans-46\"/>\n     <use transform=\"translate(277.34375 0.78125)\" xlink:href=\"#DejaVuSans-48\"/>\n     <use transform=\"translate(340.966797 0.78125)\" xlink:href=\"#DejaVuSans-51\"/>\n    </g>\n   </g>\n   <g id=\"text_16\">\n    <!-- $\\gamma = 34.30$ -->\n    <g transform=\"translate(61.823664 219.726448)scale(0.1 -0.1)\">\n     <use transform=\"translate(0 0.78125)\" xlink:href=\"#DejaVuSans-Oblique-947\"/>\n     <use transform=\"translate(78.662109 0.78125)\" xlink:href=\"#DejaVuSans-61\"/>\n     <use transform=\"translate(181.933594 0.78125)\" xlink:href=\"#DejaVuSans-51\"/>\n     <use transform=\"translate(245.556641 0.78125)\" xlink:href=\"#DejaVuSans-52\"/>\n     <use transform=\"translate(309.179688 0.78125)\" xlink:href=\"#DejaVuSans-46\"/>\n     <use transform=\"translate(340.966797 0.78125)\" xlink:href=\"#DejaVuSans-51\"/>\n     <use transform=\"translate(404.589844 0.78125)\" xlink:href=\"#DejaVuSans-48\"/>\n    </g>\n   </g>\n  </g>\n </g>\n <defs>\n  <clipPath id=\"pa99fd26943\">\n   <rect height=\"217.44\" width=\"334.8\" x=\"43.78125\" y=\"7.2\"/>\n  </clipPath>\n </defs>\n</svg>\n"
          },
          "metadata": {
            "tags": [],
            "needs_background": "light"
          }
        }
      ]
    },
    {
      "cell_type": "code",
      "metadata": {
        "colab": {
          "base_uri": "https://localhost:8080/"
        },
        "id": "nOplWvKJtS8v",
        "outputId": "9e9909d3-5954-4698-b8ca-865b1393cbf9"
      },
      "source": [
        "# Long only portfolio optimization.\n",
        "import cvxpy as cp\n",
        "\n",
        "\n",
        "w = cp.Variable(N)\n",
        "gamma = 10\n",
        "ret = mu.T@w \n",
        "risk = cp.quad_form(w, Sigma)\n",
        "prob = cp.Problem(cp.Maximize(ret - gamma*risk), \n",
        "               [cp.sum(w) == 1, \n",
        "                w >= 0])\n",
        "prob.solve(verbose=True)\n",
        "\n",
        "print(f'{[(stock, x) for stock, x in zip(stocks, w.value)]}')"
      ],
      "execution_count": null,
      "outputs": [
        {
          "output_type": "stream",
          "text": [
            "-----------------------------------------------------------------\n",
            "           OSQP v0.6.2  -  Operator Splitting QP Solver\n",
            "              (c) Bartolomeo Stellato,  Goran Banjac\n",
            "        University of Oxford  -  Stanford University 2021\n",
            "-----------------------------------------------------------------\n",
            "problem:  variables n = 5, constraints m = 6\n",
            "          nnz(P) + nnz(A) = 25\n",
            "settings: linear system solver = qdldl,\n",
            "          eps_abs = 1.0e-05, eps_rel = 1.0e-05,\n",
            "          eps_prim_inf = 1.0e-04, eps_dual_inf = 1.0e-04,\n",
            "          rho = 1.00e-01 (adaptive),\n",
            "          sigma = 1.00e-06, alpha = 1.60, max_iter = 10000\n",
            "          check_termination: on (interval 25),\n",
            "          scaling: on, scaled_termination: off\n",
            "          warm start: on, polish: on, time_limit: off\n",
            "\n",
            "iter   objective    pri res    dua res    rho        time\n",
            "   1  -2.0945e-03   1.00e+00   1.36e+03   1.00e-01   2.08e-04s\n",
            "  50   6.8270e+00   5.75e-06   1.96e-04   8.09e-01   5.78e-04s\n",
            "plsh   6.8271e+00   2.14e-22   0.00e+00   --------   9.09e-04s\n",
            "\n",
            "status:               solved\n",
            "solution polish:      successful\n",
            "number of iterations: 50\n",
            "optimal objective:    6.8271\n",
            "run time:             9.09e-04s\n",
            "optimal rho estimate: 5.42e-01\n",
            "\n",
            "[('GOOGL', -2.140038590828118e-22), ('SPY', 0.9999999999999993), ('AAPL', 4.435850852504018e-23), ('TSLA', 1.0105310029397988e-23), ('MSFT', -8.623781472977922e-23)]\n"
          ],
          "name": "stdout"
        }
      ]
    },
    {
      "cell_type": "code",
      "metadata": {
        "colab": {
          "base_uri": "https://localhost:8080/"
        },
        "id": "yl40Fh6EuROh",
        "outputId": "315b2d1c-7e94-4322-ecdc-e5f884cb891e"
      },
      "source": [
        "[(stock, x) for (stock, x) in zip(stocks, w.value)]"
      ],
      "execution_count": null,
      "outputs": [
        {
          "output_type": "execute_result",
          "data": {
            "text/plain": [
              "[('GOOGL', -1.2310333739669261e-23),\n",
              " ('SPY', 1.0705162474990867e-22),\n",
              " ('AAPL', 0.5995001807644814),\n",
              " ('TSLA', -1.5763444272763734e-23),\n",
              " ('MSFT', 0.4004998192355186)]"
            ]
          },
          "metadata": {
            "tags": []
          },
          "execution_count": 67
        }
      ]
    },
    {
      "cell_type": "markdown",
      "metadata": {
        "id": "Xtm3H_kBfekV"
      },
      "source": [
        "## Materials\n",
        "* [Portfolio Optimization Algo Trading colab notebook](https://colab.research.google.com/drive/1nN5yOB3ZFXKxq4y9WwzCVTV1i_BVpfAD#scrollTo=5hQgHpjM87r4)\n",
        "* [Multi objective portfolio optimization](https://colab.research.google.com/github/Hvass-Labs/FinanceOps/blob/master/04_Multi-Objective_Portfolio_Optimization.ipynb#scrollTo=84UWnvT9iA4p)"
      ]
    }
  ]
}