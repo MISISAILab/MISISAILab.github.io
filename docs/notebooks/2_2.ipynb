{
  "nbformat": 4,
  "nbformat_minor": 0,
  "metadata": {
    "colab": {
      "name": "2_2.ipynb",
      "provenance": []
    },
    "kernelspec": {
      "name": "python3",
      "display_name": "Python 3"
    },
    "language_info": {
      "name": "python"
    }
  },
  "cells": [
    {
      "cell_type": "markdown",
      "metadata": {
        "id": "jilBh_x1aO31"
      },
      "source": [
        "# Matrix calculus 2"
      ]
    },
    {
      "cell_type": "markdown",
      "metadata": {
        "id": "yj2jRY3xdGpS"
      },
      "source": [
        "## (a)\n",
        "Find the hessian of\n",
        "$$\n",
        "f(x) = \\dfrac{1}{2} \\|Ax - b\\|^2_2\n",
        "$$"
      ]
    },
    {
      "cell_type": "markdown",
      "metadata": {
        "id": "30SAINmfdZvE"
      },
      "source": [
        ""
      ]
    },
    {
      "cell_type": "markdown",
      "metadata": {
        "id": "V1N3YgssbVeb"
      },
      "source": [
        "##  (b)\n",
        "Find the gradient $\\nabla f(x)$ and hessian $f''(x)$, if \n",
        "$$ \n",
        "f(x) = \\ln \\left( 1 + \\exp\\langle a,x\\rangle\\right) \n",
        "$$"
      ]
    },
    {
      "cell_type": "markdown",
      "metadata": {
        "id": "b7nH7xOUdGTx"
      },
      "source": [
        ""
      ]
    }
  ]
}