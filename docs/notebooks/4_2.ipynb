{
  "nbformat": 4,
  "nbformat_minor": 0,
  "metadata": {
    "colab": {
      "name": "Optuna + Keras.ipynb",
      "provenance": []
    },
    "kernelspec": {
      "name": "python3",
      "display_name": "Python 3"
    },
    "language_info": {
      "name": "python"
    }
  },
  "cells": [
    {
      "cell_type": "markdown",
      "metadata": {
        "id": "6JTuTSjwnmc7"
      },
      "source": [
        "# Global optimization"
      ]
    },
    {
      "cell_type": "markdown",
      "metadata": {
        "id": "mfiJx7xDpbwS"
      },
      "source": [
        "## (a) Optuna: hyperparameters for random forest on Iris.\n",
        "In this task you will use [optuna](https://optuna.org/) package for \n",
        "hyperparameter optimization in credit card Fraud detection dataset. Examples can be find [here](https://optuna.org/#code_examples) or [here](https://www.kaggle.com/dixhom/bayesian-optimization-with-optuna-stacking/)\n",
        "\n",
        "This [example](https://colab.research.google.com/github/keras-team/keras-io/blob/master/examples/structured_data/ipynb/imbalanced_classification.ipynb#scrollTo=yxK_u7msJeI6) looks at the [Kaggle Credit Card Fraud Detection](https://www.kaggle.com/mlg-ulb/creditcardfraud/) dataset to demonstrate how to train a classification model on data with highly imbalanced classes."
      ]
    },
    {
      "cell_type": "code",
      "metadata": {
        "colab": {
          "base_uri": "https://localhost:8080/"
        },
        "id": "KBznFFn0sZH6",
        "outputId": "a3ffafe6-d777-4e7d-917a-d9009c5d38c6"
      },
      "source": [
        "!pip install optuna\n",
        "!pip install keras"
      ],
      "execution_count": null,
      "outputs": [
        {
          "output_type": "stream",
          "text": [
            "Collecting optuna\n",
            "\u001b[?25l  Downloading https://files.pythonhosted.org/packages/2b/21/d13081805e1e1afc71f5bb743ece324c8bd576237c51b899ecb38a717502/optuna-2.7.0-py3-none-any.whl (293kB)\n",
            "\r\u001b[K     |█▏                              | 10kB 11.3MB/s eta 0:00:01\r\u001b[K     |██▎                             | 20kB 16.5MB/s eta 0:00:01\r\u001b[K     |███▍                            | 30kB 10.6MB/s eta 0:00:01\r\u001b[K     |████▌                           | 40kB 8.4MB/s eta 0:00:01\r\u001b[K     |█████▋                          | 51kB 5.5MB/s eta 0:00:01\r\u001b[K     |██████▊                         | 61kB 4.9MB/s eta 0:00:01\r\u001b[K     |███████▉                        | 71kB 5.5MB/s eta 0:00:01\r\u001b[K     |█████████                       | 81kB 6.0MB/s eta 0:00:01\r\u001b[K     |██████████                      | 92kB 6.2MB/s eta 0:00:01\r\u001b[K     |███████████▏                    | 102kB 6.7MB/s eta 0:00:01\r\u001b[K     |████████████▎                   | 112kB 6.7MB/s eta 0:00:01\r\u001b[K     |█████████████▍                  | 122kB 6.7MB/s eta 0:00:01\r\u001b[K     |██████████████▌                 | 133kB 6.7MB/s eta 0:00:01\r\u001b[K     |███████████████▋                | 143kB 6.7MB/s eta 0:00:01\r\u001b[K     |████████████████▊               | 153kB 6.7MB/s eta 0:00:01\r\u001b[K     |█████████████████▉              | 163kB 6.7MB/s eta 0:00:01\r\u001b[K     |███████████████████             | 174kB 6.7MB/s eta 0:00:01\r\u001b[K     |████████████████████            | 184kB 6.7MB/s eta 0:00:01\r\u001b[K     |█████████████████████▏          | 194kB 6.7MB/s eta 0:00:01\r\u001b[K     |██████████████████████▎         | 204kB 6.7MB/s eta 0:00:01\r\u001b[K     |███████████████████████▍        | 215kB 6.7MB/s eta 0:00:01\r\u001b[K     |████████████████████████▋       | 225kB 6.7MB/s eta 0:00:01\r\u001b[K     |█████████████████████████▊      | 235kB 6.7MB/s eta 0:00:01\r\u001b[K     |██████████████████████████▉     | 245kB 6.7MB/s eta 0:00:01\r\u001b[K     |████████████████████████████    | 256kB 6.7MB/s eta 0:00:01\r\u001b[K     |█████████████████████████████   | 266kB 6.7MB/s eta 0:00:01\r\u001b[K     |██████████████████████████████▏ | 276kB 6.7MB/s eta 0:00:01\r\u001b[K     |███████████████████████████████▎| 286kB 6.7MB/s eta 0:00:01\r\u001b[K     |████████████████████████████████| 296kB 6.7MB/s \n",
            "\u001b[?25hRequirement already satisfied: scipy!=1.4.0 in /usr/local/lib/python3.7/dist-packages (from optuna) (1.4.1)\n",
            "Requirement already satisfied: packaging>=20.0 in /usr/local/lib/python3.7/dist-packages (from optuna) (20.9)\n",
            "Requirement already satisfied: numpy in /usr/local/lib/python3.7/dist-packages (from optuna) (1.19.5)\n",
            "Requirement already satisfied: tqdm in /usr/local/lib/python3.7/dist-packages (from optuna) (4.41.1)\n",
            "Requirement already satisfied: sqlalchemy>=1.1.0 in /usr/local/lib/python3.7/dist-packages (from optuna) (1.4.15)\n",
            "Collecting alembic\n",
            "\u001b[?25l  Downloading https://files.pythonhosted.org/packages/d5/80/ef186e599a57d0e4cb78fc76e0bfc2e6953fa9716b2a5cf2de0117ed8eb5/alembic-1.6.5-py2.py3-none-any.whl (164kB)\n",
            "\u001b[K     |████████████████████████████████| 174kB 8.3MB/s \n",
            "\u001b[?25hCollecting colorlog\n",
            "  Downloading https://files.pythonhosted.org/packages/32/e6/e9ddc6fa1104fda718338b341e4b3dc31cd8039ab29e52fc73b508515361/colorlog-5.0.1-py2.py3-none-any.whl\n",
            "Collecting cliff\n",
            "\u001b[?25l  Downloading https://files.pythonhosted.org/packages/87/11/aea1cacbd4cf8262809c4d6f95dcb3f2802594de1f51c5bd454d69bf15c5/cliff-3.8.0-py3-none-any.whl (80kB)\n",
            "\u001b[K     |████████████████████████████████| 81kB 5.4MB/s \n",
            "\u001b[?25hCollecting cmaes>=0.8.2\n",
            "  Downloading https://files.pythonhosted.org/packages/01/1f/43b01223a0366171f474320c6e966c39a11587287f098a5f09809b45e05f/cmaes-0.8.2-py3-none-any.whl\n",
            "Requirement already satisfied: pyparsing>=2.0.2 in /usr/local/lib/python3.7/dist-packages (from packaging>=20.0->optuna) (2.4.7)\n",
            "Requirement already satisfied: greenlet!=0.4.17; python_version >= \"3\" in /usr/local/lib/python3.7/dist-packages (from sqlalchemy>=1.1.0->optuna) (1.1.0)\n",
            "Requirement already satisfied: importlib-metadata; python_version < \"3.8\" in /usr/local/lib/python3.7/dist-packages (from sqlalchemy>=1.1.0->optuna) (4.0.1)\n",
            "Collecting Mako\n",
            "\u001b[?25l  Downloading https://files.pythonhosted.org/packages/f3/54/dbc07fbb20865d3b78fdb7cf7fa713e2cba4f87f71100074ef2dc9f9d1f7/Mako-1.1.4-py2.py3-none-any.whl (75kB)\n",
            "\u001b[K     |████████████████████████████████| 81kB 6.0MB/s \n",
            "\u001b[?25hCollecting python-editor>=0.3\n",
            "  Downloading https://files.pythonhosted.org/packages/c6/d3/201fc3abe391bbae6606e6f1d598c15d367033332bd54352b12f35513717/python_editor-1.0.4-py3-none-any.whl\n",
            "Requirement already satisfied: python-dateutil in /usr/local/lib/python3.7/dist-packages (from alembic->optuna) (2.8.1)\n",
            "Requirement already satisfied: PrettyTable>=0.7.2 in /usr/local/lib/python3.7/dist-packages (from cliff->optuna) (2.1.0)\n",
            "Requirement already satisfied: PyYAML>=3.12 in /usr/local/lib/python3.7/dist-packages (from cliff->optuna) (3.13)\n",
            "Collecting stevedore>=2.0.1\n",
            "\u001b[?25l  Downloading https://files.pythonhosted.org/packages/d4/49/b602307aeac3df3384ff1fcd05da9c0376c622a6c48bb5325f28ab165b57/stevedore-3.3.0-py3-none-any.whl (49kB)\n",
            "\u001b[K     |████████████████████████████████| 51kB 4.2MB/s \n",
            "\u001b[?25hCollecting cmd2>=1.0.0\n",
            "\u001b[?25l  Downloading https://files.pythonhosted.org/packages/15/8b/15061b32332bb35ea2a2f6263d0f616779d576e82739ec8e7fcf3c94abf5/cmd2-1.5.0-py3-none-any.whl (133kB)\n",
            "\u001b[K     |████████████████████████████████| 143kB 9.6MB/s \n",
            "\u001b[?25hCollecting pbr!=2.1.0,>=2.0.0\n",
            "\u001b[?25l  Downloading https://files.pythonhosted.org/packages/18/e0/1d4702dd81121d04a477c272d47ee5b6bc970d1a0990b11befa275c55cf2/pbr-5.6.0-py2.py3-none-any.whl (111kB)\n",
            "\u001b[K     |████████████████████████████████| 112kB 9.7MB/s \n",
            "\u001b[?25hRequirement already satisfied: typing-extensions>=3.6.4; python_version < \"3.8\" in /usr/local/lib/python3.7/dist-packages (from importlib-metadata; python_version < \"3.8\"->sqlalchemy>=1.1.0->optuna) (3.7.4.3)\n",
            "Requirement already satisfied: zipp>=0.5 in /usr/local/lib/python3.7/dist-packages (from importlib-metadata; python_version < \"3.8\"->sqlalchemy>=1.1.0->optuna) (3.4.1)\n",
            "Requirement already satisfied: MarkupSafe>=0.9.2 in /usr/local/lib/python3.7/dist-packages (from Mako->alembic->optuna) (2.0.1)\n",
            "Requirement already satisfied: six>=1.5 in /usr/local/lib/python3.7/dist-packages (from python-dateutil->alembic->optuna) (1.15.0)\n",
            "Requirement already satisfied: wcwidth in /usr/local/lib/python3.7/dist-packages (from PrettyTable>=0.7.2->cliff->optuna) (0.2.5)\n",
            "Collecting pyperclip>=1.6\n",
            "  Downloading https://files.pythonhosted.org/packages/a7/2c/4c64579f847bd5d539803c8b909e54ba087a79d01bb3aba433a95879a6c5/pyperclip-1.8.2.tar.gz\n",
            "Requirement already satisfied: attrs>=16.3.0 in /usr/local/lib/python3.7/dist-packages (from cmd2>=1.0.0->cliff->optuna) (21.2.0)\n",
            "Collecting colorama>=0.3.7\n",
            "  Downloading https://files.pythonhosted.org/packages/44/98/5b86278fbbf250d239ae0ecb724f8572af1c91f4a11edf4d36a206189440/colorama-0.4.4-py2.py3-none-any.whl\n",
            "Building wheels for collected packages: pyperclip\n",
            "  Building wheel for pyperclip (setup.py) ... \u001b[?25l\u001b[?25hdone\n",
            "  Created wheel for pyperclip: filename=pyperclip-1.8.2-cp37-none-any.whl size=11107 sha256=3d062a1c261262d3e2ce249403875cd98efc828f3277aa9330cf6ae0e60253fc\n",
            "  Stored in directory: /root/.cache/pip/wheels/25/af/b8/3407109267803f4015e1ee2ff23be0c8c19ce4008665931ee1\n",
            "Successfully built pyperclip\n",
            "Installing collected packages: Mako, python-editor, alembic, colorlog, pbr, stevedore, pyperclip, colorama, cmd2, cliff, cmaes, optuna\n",
            "Successfully installed Mako-1.1.4 alembic-1.6.5 cliff-3.8.0 cmaes-0.8.2 cmd2-1.5.0 colorama-0.4.4 colorlog-5.0.1 optuna-2.7.0 pbr-5.6.0 pyperclip-1.8.2 python-editor-1.0.4 stevedore-3.3.0\n",
            "Requirement already satisfied: keras in /usr/local/lib/python3.7/dist-packages (2.4.3)\n",
            "Requirement already satisfied: numpy>=1.9.1 in /usr/local/lib/python3.7/dist-packages (from keras) (1.19.5)\n",
            "Requirement already satisfied: scipy>=0.14 in /usr/local/lib/python3.7/dist-packages (from keras) (1.4.1)\n",
            "Requirement already satisfied: pyyaml in /usr/local/lib/python3.7/dist-packages (from keras) (3.13)\n",
            "Requirement already satisfied: h5py in /usr/local/lib/python3.7/dist-packages (from keras) (3.1.0)\n",
            "Requirement already satisfied: cached-property; python_version < \"3.8\" in /usr/local/lib/python3.7/dist-packages (from h5py->keras) (1.5.2)\n"
          ],
          "name": "stdout"
        }
      ]
    },
    {
      "cell_type": "code",
      "metadata": {
        "id": "I0hLaBcGNM69",
        "colab": {
          "base_uri": "https://localhost:8080/"
        },
        "outputId": "cfccc88d-5111-473d-aede-fd9b1666d010"
      },
      "source": [
        "# Getting dataset with credit card data\n",
        "!wget -O creditcard.csv.zip \"https://github.com/MerkulovDaniil/sber21_fmin/raw/sources/data/creditcard.csv.zip\"\n",
        "!unzip creditcard.csv.zip"
      ],
      "execution_count": null,
      "outputs": [
        {
          "output_type": "stream",
          "text": [
            "--2021-05-31 11:36:21--  https://github.com/MerkulovDaniil/sber21_fmin/raw/sources/data/creditcard.csv.zip\n",
            "Resolving github.com (github.com)... 140.82.113.3\n",
            "Connecting to github.com (github.com)|140.82.113.3|:443... connected.\n",
            "HTTP request sent, awaiting response... 302 Found\n",
            "Location: https://raw.githubusercontent.com/MerkulovDaniil/sber21_fmin/sources/data/creditcard.csv.zip [following]\n",
            "--2021-05-31 11:36:21--  https://raw.githubusercontent.com/MerkulovDaniil/sber21_fmin/sources/data/creditcard.csv.zip\n",
            "Resolving raw.githubusercontent.com (raw.githubusercontent.com)... 185.199.108.133, 185.199.109.133, 185.199.110.133, ...\n",
            "Connecting to raw.githubusercontent.com (raw.githubusercontent.com)|185.199.108.133|:443... connected.\n",
            "HTTP request sent, awaiting response... 200 OK\n",
            "Length: 69155672 (66M) [application/zip]\n",
            "Saving to: ‘creditcard.csv.zip’\n",
            "\n",
            "creditcard.csv.zip  100%[===================>]  65.95M  99.0MB/s    in 0.7s    \n",
            "\n",
            "2021-05-31 11:36:23 (99.0 MB/s) - ‘creditcard.csv.zip’ saved [69155672/69155672]\n",
            "\n",
            "Archive:  creditcard.csv.zip\n",
            "  inflating: creditcard.csv          \n"
          ],
          "name": "stdout"
        }
      ]
    },
    {
      "cell_type": "markdown",
      "metadata": {
        "id": "wJSyOUAiNvPB"
      },
      "source": [
        "## First, vectorize the CSV data"
      ]
    },
    {
      "cell_type": "code",
      "metadata": {
        "id": "bAMMadr9sZaO",
        "colab": {
          "base_uri": "https://localhost:8080/"
        },
        "outputId": "72eeb8bd-6424-4a16-92f8-b4609910e402"
      },
      "source": [
        "import csv\n",
        "import numpy as np\n",
        "\n",
        "# Get the real data from https://www.kaggle.com/mlg-ulb/creditcardfraud/\n",
        "\n",
        "fname = \"creditcard.csv\"\n",
        "\n",
        "all_features = []\n",
        "all_targets = []\n",
        "with open(fname) as f:\n",
        "    for i, line in enumerate(f):\n",
        "        if i == 0:\n",
        "            print(\"HEADER:\", line.strip())\n",
        "            continue  # Skip header\n",
        "        fields = line.strip().split(\",\")\n",
        "        all_features.append([float(v.replace('\"', \"\")) for v in fields[:-1]])\n",
        "        all_targets.append([int(fields[-1].replace('\"', \"\"))])\n",
        "        if i == 1:\n",
        "            print(\"EXAMPLE FEATURES:\", all_features[-1])\n",
        "\n",
        "features = np.array(all_features, dtype=\"float32\")\n",
        "targets = np.array(all_targets, dtype=\"uint8\")\n",
        "print(\"features.shape:\", features.shape)\n",
        "print(\"targets.shape:\", targets.shape)\n"
      ],
      "execution_count": null,
      "outputs": [
        {
          "output_type": "stream",
          "text": [
            "HEADER: \"Time\",\"V1\",\"V2\",\"V3\",\"V4\",\"V5\",\"V6\",\"V7\",\"V8\",\"V9\",\"V10\",\"V11\",\"V12\",\"V13\",\"V14\",\"V15\",\"V16\",\"V17\",\"V18\",\"V19\",\"V20\",\"V21\",\"V22\",\"V23\",\"V24\",\"V25\",\"V26\",\"V27\",\"V28\",\"Amount\",\"Class\"\n",
            "EXAMPLE FEATURES: [0.0, -1.3598071336738, -0.0727811733098497, 2.53634673796914, 1.37815522427443, -0.338320769942518, 0.462387777762292, 0.239598554061257, 0.0986979012610507, 0.363786969611213, 0.0907941719789316, -0.551599533260813, -0.617800855762348, -0.991389847235408, -0.311169353699879, 1.46817697209427, -0.470400525259478, 0.207971241929242, 0.0257905801985591, 0.403992960255733, 0.251412098239705, -0.018306777944153, 0.277837575558899, -0.110473910188767, 0.0669280749146731, 0.128539358273528, -0.189114843888824, 0.133558376740387, -0.0210530534538215, 149.62]\n",
            "features.shape: (284807, 30)\n",
            "targets.shape: (284807, 1)\n"
          ],
          "name": "stdout"
        }
      ]
    },
    {
      "cell_type": "markdown",
      "metadata": {
        "id": "5uBKafeqJeI7"
      },
      "source": [
        "## Prepare a validation set"
      ]
    },
    {
      "cell_type": "code",
      "metadata": {
        "id": "aqYMj_XGJeI8",
        "colab": {
          "base_uri": "https://localhost:8080/"
        },
        "outputId": "68022d40-10f4-4c8f-84f4-2a49e630adc3"
      },
      "source": [
        "num_val_samples = int(len(features) * 0.2)\n",
        "train_features = features[:-num_val_samples]\n",
        "train_targets = targets[:-num_val_samples]\n",
        "val_features = features[-num_val_samples:]\n",
        "val_targets = targets[-num_val_samples:]\n",
        "\n",
        "print(\"Number of training samples:\", len(train_features))\n",
        "print(\"Number of validation samples:\", len(val_features))\n"
      ],
      "execution_count": null,
      "outputs": [
        {
          "output_type": "stream",
          "text": [
            "Number of training samples: 227846\n",
            "Number of validation samples: 56961\n"
          ],
          "name": "stdout"
        }
      ]
    },
    {
      "cell_type": "markdown",
      "metadata": {
        "id": "xIngOB-LJeI8"
      },
      "source": [
        "## Analyze class imbalance in the targets"
      ]
    },
    {
      "cell_type": "code",
      "metadata": {
        "id": "hQZIqbUiJeI9",
        "colab": {
          "base_uri": "https://localhost:8080/"
        },
        "outputId": "60ea9169-205e-43e0-e04f-91bdb1e56b80"
      },
      "source": [
        "counts = np.bincount(train_targets[:, 0])\n",
        "print(\n",
        "    \"Number of positive samples in training data: {} ({:.2f}% of total)\".format(\n",
        "        counts[1], 100 * float(counts[1]) / len(train_targets)\n",
        "    )\n",
        ")\n",
        "\n",
        "weight_for_0 = 1.0 / counts[0]\n",
        "weight_for_1 = 1.0 / counts[1]\n"
      ],
      "execution_count": null,
      "outputs": [
        {
          "output_type": "stream",
          "text": [
            "Number of positive samples in training data: 417 (0.18% of total)\n"
          ],
          "name": "stdout"
        }
      ]
    },
    {
      "cell_type": "markdown",
      "metadata": {
        "id": "tCMrVl_0JeI9"
      },
      "source": [
        "## Normalize the data using training set statistics"
      ]
    },
    {
      "cell_type": "code",
      "metadata": {
        "id": "3UejackMJeI9"
      },
      "source": [
        "mean = np.mean(train_features, axis=0)\n",
        "train_features -= mean\n",
        "val_features -= mean\n",
        "std = np.std(train_features, axis=0)\n",
        "train_features /= std\n",
        "val_features /= std\n"
      ],
      "execution_count": null,
      "outputs": []
    },
    {
      "cell_type": "markdown",
      "metadata": {
        "id": "807U58T2JeI-"
      },
      "source": [
        "## Build a binary classification model"
      ]
    },
    {
      "cell_type": "code",
      "metadata": {
        "id": "QdFUgYwbJeI-",
        "colab": {
          "base_uri": "https://localhost:8080/"
        },
        "outputId": "06f7ed84-648d-4e6f-9165-86d5047d5f5e"
      },
      "source": [
        "from tensorflow import keras\n",
        "\n",
        "model = keras.Sequential(\n",
        "    [\n",
        "        keras.layers.Dense(\n",
        "            256, activation=\"relu\", input_shape=(train_features.shape[-1],)\n",
        "        ),\n",
        "        keras.layers.Dense(256, activation=\"relu\"),\n",
        "        keras.layers.Dropout(0.3),\n",
        "        keras.layers.Dense(256, activation=\"relu\"),\n",
        "        keras.layers.Dropout(0.3),\n",
        "        keras.layers.Dense(1, activation=\"sigmoid\"),\n",
        "    ]\n",
        ")\n",
        "model.summary()\n"
      ],
      "execution_count": null,
      "outputs": [
        {
          "output_type": "stream",
          "text": [
            "Model: \"sequential\"\n",
            "_________________________________________________________________\n",
            "Layer (type)                 Output Shape              Param #   \n",
            "=================================================================\n",
            "dense (Dense)                (None, 256)               7936      \n",
            "_________________________________________________________________\n",
            "dense_1 (Dense)              (None, 256)               65792     \n",
            "_________________________________________________________________\n",
            "dropout (Dropout)            (None, 256)               0         \n",
            "_________________________________________________________________\n",
            "dense_2 (Dense)              (None, 256)               65792     \n",
            "_________________________________________________________________\n",
            "dropout_1 (Dropout)          (None, 256)               0         \n",
            "_________________________________________________________________\n",
            "dense_3 (Dense)              (None, 1)                 257       \n",
            "=================================================================\n",
            "Total params: 139,777\n",
            "Trainable params: 139,777\n",
            "Non-trainable params: 0\n",
            "_________________________________________________________________\n"
          ],
          "name": "stdout"
        }
      ]
    },
    {
      "cell_type": "markdown",
      "metadata": {
        "id": "TM-QO7OpJeI-"
      },
      "source": [
        "## Train the model with `class_weight` argument"
      ]
    },
    {
      "cell_type": "code",
      "metadata": {
        "id": "iiRZiESuJeI_",
        "colab": {
          "base_uri": "https://localhost:8080/"
        },
        "outputId": "11fe7937-6780-4983-dea1-18ec6b72d2e0"
      },
      "source": [
        "metrics = [\n",
        "    keras.metrics.FalseNegatives(name=\"fn\"),\n",
        "    keras.metrics.FalsePositives(name=\"fp\"),\n",
        "    keras.metrics.TrueNegatives(name=\"tn\"),\n",
        "    keras.metrics.TruePositives(name=\"tp\"),\n",
        "    keras.metrics.Precision(name=\"precision\"),\n",
        "    keras.metrics.Recall(name=\"recall\"),\n",
        "]\n",
        "\n",
        "model.compile(\n",
        "    optimizer=keras.optimizers.Adam(1e-2), loss=\"binary_crossentropy\", metrics=metrics\n",
        ")\n",
        "\n",
        "callbacks = [keras.callbacks.ModelCheckpoint(\"fraud_model_at_epoch_{epoch}.h5\")]\n",
        "class_weight = {0: weight_for_0, 1: weight_for_1}\n",
        "\n",
        "model.fit(\n",
        "    train_features,\n",
        "    train_targets,\n",
        "    batch_size=2048,\n",
        "    epochs=30,\n",
        "    verbose=2,\n",
        "    callbacks=callbacks,\n",
        "    validation_data=(val_features, val_targets),\n",
        "    class_weight=class_weight,\n",
        ")\n"
      ],
      "execution_count": null,
      "outputs": [
        {
          "output_type": "stream",
          "text": [
            "WARNING:tensorflow:From /usr/local/lib/python3.7/dist-packages/tensorflow/python/ops/array_ops.py:5049: calling gather (from tensorflow.python.ops.array_ops) with validate_indices is deprecated and will be removed in a future version.\n",
            "Instructions for updating:\n",
            "The `validate_indices` argument has no effect. Indices are always validated on CPU and never validated on GPU.\n",
            "Epoch 1/30\n",
            "112/112 - 8s - loss: 2.3015e-06 - fn: 40.0000 - fp: 25353.0000 - tn: 202076.0000 - tp: 377.0000 - precision: 0.0147 - recall: 0.9041 - val_loss: 0.0802 - val_fn: 12.0000 - val_fp: 536.0000 - val_tn: 56350.0000 - val_tp: 63.0000 - val_precision: 0.1052 - val_recall: 0.8400\n",
            "Epoch 2/30\n",
            "112/112 - 6s - loss: 1.3493e-06 - fn: 35.0000 - fp: 5782.0000 - tn: 221647.0000 - tp: 382.0000 - precision: 0.0620 - recall: 0.9161 - val_loss: 0.0454 - val_fn: 11.0000 - val_fp: 334.0000 - val_tn: 56552.0000 - val_tp: 64.0000 - val_precision: 0.1608 - val_recall: 0.8533\n",
            "Epoch 3/30\n",
            "112/112 - 6s - loss: 1.2120e-06 - fn: 31.0000 - fp: 7124.0000 - tn: 220305.0000 - tp: 386.0000 - precision: 0.0514 - recall: 0.9257 - val_loss: 0.1332 - val_fn: 5.0000 - val_fp: 3030.0000 - val_tn: 53856.0000 - val_tp: 70.0000 - val_precision: 0.0226 - val_recall: 0.9333\n",
            "Epoch 4/30\n",
            "112/112 - 6s - loss: 1.2918e-06 - fn: 25.0000 - fp: 8092.0000 - tn: 219337.0000 - tp: 392.0000 - precision: 0.0462 - recall: 0.9400 - val_loss: 0.0491 - val_fn: 9.0000 - val_fp: 730.0000 - val_tn: 56156.0000 - val_tp: 66.0000 - val_precision: 0.0829 - val_recall: 0.8800\n",
            "Epoch 5/30\n",
            "112/112 - 6s - loss: 1.0582e-06 - fn: 23.0000 - fp: 7558.0000 - tn: 219871.0000 - tp: 394.0000 - precision: 0.0495 - recall: 0.9448 - val_loss: 0.1957 - val_fn: 7.0000 - val_fp: 3221.0000 - val_tn: 53665.0000 - val_tp: 68.0000 - val_precision: 0.0207 - val_recall: 0.9067\n",
            "Epoch 6/30\n",
            "112/112 - 6s - loss: 1.0283e-06 - fn: 19.0000 - fp: 7422.0000 - tn: 220007.0000 - tp: 398.0000 - precision: 0.0509 - recall: 0.9544 - val_loss: 0.0855 - val_fn: 10.0000 - val_fp: 1530.0000 - val_tn: 55356.0000 - val_tp: 65.0000 - val_precision: 0.0408 - val_recall: 0.8667\n",
            "Epoch 7/30\n",
            "112/112 - 6s - loss: 8.3972e-07 - fn: 16.0000 - fp: 6560.0000 - tn: 220869.0000 - tp: 401.0000 - precision: 0.0576 - recall: 0.9616 - val_loss: 0.1009 - val_fn: 7.0000 - val_fp: 2407.0000 - val_tn: 54479.0000 - val_tp: 68.0000 - val_precision: 0.0275 - val_recall: 0.9067\n",
            "Epoch 8/30\n",
            "112/112 - 6s - loss: 7.3449e-07 - fn: 19.0000 - fp: 7386.0000 - tn: 220043.0000 - tp: 398.0000 - precision: 0.0511 - recall: 0.9544 - val_loss: 0.0715 - val_fn: 7.0000 - val_fp: 1764.0000 - val_tn: 55122.0000 - val_tp: 68.0000 - val_precision: 0.0371 - val_recall: 0.9067\n",
            "Epoch 9/30\n",
            "112/112 - 6s - loss: 6.4523e-07 - fn: 12.0000 - fp: 6100.0000 - tn: 221329.0000 - tp: 405.0000 - precision: 0.0623 - recall: 0.9712 - val_loss: 0.1000 - val_fn: 7.0000 - val_fp: 2465.0000 - val_tn: 54421.0000 - val_tp: 68.0000 - val_precision: 0.0268 - val_recall: 0.9067\n",
            "Epoch 10/30\n",
            "112/112 - 6s - loss: 6.2951e-07 - fn: 10.0000 - fp: 6536.0000 - tn: 220893.0000 - tp: 407.0000 - precision: 0.0586 - recall: 0.9760 - val_loss: 0.0770 - val_fn: 9.0000 - val_fp: 1786.0000 - val_tn: 55100.0000 - val_tp: 66.0000 - val_precision: 0.0356 - val_recall: 0.8800\n",
            "Epoch 11/30\n",
            "112/112 - 6s - loss: 4.9093e-07 - fn: 9.0000 - fp: 5838.0000 - tn: 221591.0000 - tp: 408.0000 - precision: 0.0653 - recall: 0.9784 - val_loss: 0.0125 - val_fn: 11.0000 - val_fp: 269.0000 - val_tn: 56617.0000 - val_tp: 64.0000 - val_precision: 0.1922 - val_recall: 0.8533\n",
            "Epoch 12/30\n",
            "112/112 - 6s - loss: 4.6603e-07 - fn: 7.0000 - fp: 6602.0000 - tn: 220827.0000 - tp: 410.0000 - precision: 0.0585 - recall: 0.9832 - val_loss: 0.0264 - val_fn: 10.0000 - val_fp: 764.0000 - val_tn: 56122.0000 - val_tp: 65.0000 - val_precision: 0.0784 - val_recall: 0.8667\n",
            "Epoch 13/30\n",
            "112/112 - 6s - loss: 4.3489e-07 - fn: 5.0000 - fp: 5118.0000 - tn: 222311.0000 - tp: 412.0000 - precision: 0.0745 - recall: 0.9880 - val_loss: 0.0108 - val_fn: 12.0000 - val_fp: 238.0000 - val_tn: 56648.0000 - val_tp: 63.0000 - val_precision: 0.2093 - val_recall: 0.8400\n",
            "Epoch 14/30\n",
            "112/112 - 6s - loss: 4.5885e-07 - fn: 8.0000 - fp: 5691.0000 - tn: 221738.0000 - tp: 409.0000 - precision: 0.0670 - recall: 0.9808 - val_loss: 0.0530 - val_fn: 10.0000 - val_fp: 941.0000 - val_tn: 55945.0000 - val_tp: 65.0000 - val_precision: 0.0646 - val_recall: 0.8667\n",
            "Epoch 15/30\n",
            "112/112 - 6s - loss: 6.6298e-07 - fn: 10.0000 - fp: 6808.0000 - tn: 220621.0000 - tp: 407.0000 - precision: 0.0564 - recall: 0.9760 - val_loss: 0.0226 - val_fn: 10.0000 - val_fp: 457.0000 - val_tn: 56429.0000 - val_tp: 65.0000 - val_precision: 0.1245 - val_recall: 0.8667\n",
            "Epoch 16/30\n",
            "112/112 - 6s - loss: 5.1045e-07 - fn: 6.0000 - fp: 6214.0000 - tn: 221215.0000 - tp: 411.0000 - precision: 0.0620 - recall: 0.9856 - val_loss: 0.0816 - val_fn: 5.0000 - val_fp: 2429.0000 - val_tn: 54457.0000 - val_tp: 70.0000 - val_precision: 0.0280 - val_recall: 0.9333\n",
            "Epoch 17/30\n",
            "112/112 - 6s - loss: 4.6296e-07 - fn: 6.0000 - fp: 6012.0000 - tn: 221417.0000 - tp: 411.0000 - precision: 0.0640 - recall: 0.9856 - val_loss: 0.0766 - val_fn: 7.0000 - val_fp: 1508.0000 - val_tn: 55378.0000 - val_tp: 68.0000 - val_precision: 0.0431 - val_recall: 0.9067\n",
            "Epoch 18/30\n",
            "112/112 - 6s - loss: 5.2065e-07 - fn: 6.0000 - fp: 6347.0000 - tn: 221082.0000 - tp: 411.0000 - precision: 0.0608 - recall: 0.9856 - val_loss: 0.0205 - val_fn: 10.0000 - val_fp: 392.0000 - val_tn: 56494.0000 - val_tp: 65.0000 - val_precision: 0.1422 - val_recall: 0.8667\n",
            "Epoch 19/30\n",
            "112/112 - 6s - loss: 3.3854e-07 - fn: 3.0000 - fp: 3705.0000 - tn: 223724.0000 - tp: 414.0000 - precision: 0.1005 - recall: 0.9928 - val_loss: 0.0986 - val_fn: 6.0000 - val_fp: 2237.0000 - val_tn: 54649.0000 - val_tp: 69.0000 - val_precision: 0.0299 - val_recall: 0.9200\n",
            "Epoch 20/30\n",
            "112/112 - 6s - loss: 4.1045e-07 - fn: 5.0000 - fp: 4662.0000 - tn: 222767.0000 - tp: 412.0000 - precision: 0.0812 - recall: 0.9880 - val_loss: 0.0383 - val_fn: 8.0000 - val_fp: 1055.0000 - val_tn: 55831.0000 - val_tp: 67.0000 - val_precision: 0.0597 - val_recall: 0.8933\n",
            "Epoch 21/30\n",
            "112/112 - 6s - loss: 2.6771e-07 - fn: 1.0000 - fp: 4035.0000 - tn: 223394.0000 - tp: 416.0000 - precision: 0.0935 - recall: 0.9976 - val_loss: 0.0142 - val_fn: 10.0000 - val_fp: 291.0000 - val_tn: 56595.0000 - val_tp: 65.0000 - val_precision: 0.1826 - val_recall: 0.8667\n",
            "Epoch 22/30\n",
            "112/112 - 6s - loss: 3.7048e-07 - fn: 7.0000 - fp: 4138.0000 - tn: 223291.0000 - tp: 410.0000 - precision: 0.0901 - recall: 0.9832 - val_loss: 0.0179 - val_fn: 12.0000 - val_fp: 402.0000 - val_tn: 56484.0000 - val_tp: 63.0000 - val_precision: 0.1355 - val_recall: 0.8400\n",
            "Epoch 23/30\n",
            "112/112 - 6s - loss: 3.1666e-07 - fn: 6.0000 - fp: 3518.0000 - tn: 223911.0000 - tp: 411.0000 - precision: 0.1046 - recall: 0.9856 - val_loss: 0.0251 - val_fn: 9.0000 - val_fp: 514.0000 - val_tn: 56372.0000 - val_tp: 66.0000 - val_precision: 0.1138 - val_recall: 0.8800\n",
            "Epoch 24/30\n",
            "112/112 - 6s - loss: 5.3291e-07 - fn: 7.0000 - fp: 6255.0000 - tn: 221174.0000 - tp: 410.0000 - precision: 0.0615 - recall: 0.9832 - val_loss: 0.0676 - val_fn: 8.0000 - val_fp: 1582.0000 - val_tn: 55304.0000 - val_tp: 67.0000 - val_precision: 0.0406 - val_recall: 0.8933\n",
            "Epoch 25/30\n",
            "112/112 - 6s - loss: 5.9372e-07 - fn: 6.0000 - fp: 5541.0000 - tn: 221888.0000 - tp: 411.0000 - precision: 0.0691 - recall: 0.9856 - val_loss: 0.0566 - val_fn: 10.0000 - val_fp: 1643.0000 - val_tn: 55243.0000 - val_tp: 65.0000 - val_precision: 0.0381 - val_recall: 0.8667\n",
            "Epoch 26/30\n",
            "112/112 - 6s - loss: 4.5797e-07 - fn: 5.0000 - fp: 5660.0000 - tn: 221769.0000 - tp: 412.0000 - precision: 0.0679 - recall: 0.9880 - val_loss: 0.0461 - val_fn: 8.0000 - val_fp: 1180.0000 - val_tn: 55706.0000 - val_tp: 67.0000 - val_precision: 0.0537 - val_recall: 0.8933\n",
            "Epoch 27/30\n",
            "112/112 - 6s - loss: 3.0382e-07 - fn: 5.0000 - fp: 3561.0000 - tn: 223868.0000 - tp: 412.0000 - precision: 0.1037 - recall: 0.9880 - val_loss: 0.0166 - val_fn: 9.0000 - val_fp: 274.0000 - val_tn: 56612.0000 - val_tp: 66.0000 - val_precision: 0.1941 - val_recall: 0.8800\n",
            "Epoch 28/30\n",
            "112/112 - 6s - loss: 5.1540e-07 - fn: 5.0000 - fp: 5198.0000 - tn: 222231.0000 - tp: 412.0000 - precision: 0.0734 - recall: 0.9880 - val_loss: 0.0327 - val_fn: 10.0000 - val_fp: 628.0000 - val_tn: 56258.0000 - val_tp: 65.0000 - val_precision: 0.0938 - val_recall: 0.8667\n",
            "Epoch 29/30\n",
            "112/112 - 6s - loss: 3.5400e-07 - fn: 3.0000 - fp: 3286.0000 - tn: 224143.0000 - tp: 414.0000 - precision: 0.1119 - recall: 0.9928 - val_loss: 0.0238 - val_fn: 8.0000 - val_fp: 595.0000 - val_tn: 56291.0000 - val_tp: 67.0000 - val_precision: 0.1012 - val_recall: 0.8933\n",
            "Epoch 30/30\n",
            "112/112 - 6s - loss: 4.5212e-07 - fn: 4.0000 - fp: 4303.0000 - tn: 223126.0000 - tp: 413.0000 - precision: 0.0876 - recall: 0.9904 - val_loss: 0.3034 - val_fn: 10.0000 - val_fp: 5091.0000 - val_tn: 51795.0000 - val_tp: 65.0000 - val_precision: 0.0126 - val_recall: 0.8667\n"
          ],
          "name": "stdout"
        },
        {
          "output_type": "execute_result",
          "data": {
            "text/plain": [
              "<tensorflow.python.keras.callbacks.History at 0x7fb13e62aa10>"
            ]
          },
          "metadata": {
            "tags": []
          },
          "execution_count": 9
        }
      ]
    },
    {
      "cell_type": "markdown",
      "metadata": {
        "id": "0L7iFgWtJeI_"
      },
      "source": [
        "## Conclusions\n",
        "\n",
        "At the end of training, out of 56,961 validation transactions, we are:\n",
        "\n",
        "- Correctly identifying 66 of them as fraudulent\n",
        "- Missing 9 fraudulent transactions\n",
        "- At the cost of incorrectly flagging 441 legitimate transactions\n",
        "\n",
        "In the real world, one would put an even higher weight on class 1,\n",
        "so as to reflect that False Negatives are more costly than False Positives.\n",
        "\n",
        "Next time your credit card gets  declined in an online purchase -- this is why."
      ]
    },
    {
      "cell_type": "markdown",
      "metadata": {
        "id": "OgiKBcwwTrvk"
      },
      "source": [
        "## Try to tune any set of hyperparameters in the problem above with optuna library. Possible variants\n",
        "\n",
        "* weights of the classes\n",
        "* number of layers in the neural network\n",
        "* learning rate and batch size\n",
        "\n",
        "Also you are able t choose any metric you want."
      ]
    },
    {
      "cell_type": "markdown",
      "metadata": {
        "id": "UUCyT41nnoaF"
      },
      "source": [
        "## (b) EXTRA\n",
        "Implement Rastrigin function $f: \\mathbb{R}^d \\to \\mathbb{R}$ for d = 10. [link](https://www.sfu.ca/~ssurjano/rastr.html)\n",
        "\n",
        "$$\n",
        "f(\\mathbf{x})=10 d+\\sum_{i=1}^{d}\\left[x_{i}^{2}-10 \\cos \\left(2 \\pi x_{i}\\right)\\right]\n",
        "$$"
      ]
    },
    {
      "cell_type": "code",
      "metadata": {
        "id": "vhT35xyproaD"
      },
      "source": [
        "def rast():\n",
        "    pass"
      ],
      "execution_count": null,
      "outputs": []
    },
    {
      "cell_type": "markdown",
      "metadata": {
        "id": "Ve-aZu31rtHH"
      },
      "source": [
        "* Consider scipy global optimization from [here](https://docs.scipy.org/doc/scipy/reference/optimize.html#global-optimization).\n",
        "* Plot 4 graphs for different $d$ from {2, 4, 6, 8}. On each graph you are to plot $f$ from $N_{fev}$ for 4 methods: `basinhopping`, `differential_evolution`, `shgo`, `dual_annealing` from scipy, where $N_{fev}$ - the number of function evaluations. This information is usually avalable from `specific_optimizer.nfev`. If you will need bounds for the optimizer, use $x_i \\in [-5, 5]$.\n",
        "* Please, try to use `brute` method also. Explain the results🤔"
      ]
    },
    {
      "cell_type": "code",
      "metadata": {
        "colab": {
          "base_uri": "https://localhost:8080/",
          "height": 989
        },
        "id": "NfThSsSBsv1Y",
        "outputId": "80cf846e-21ba-4d50-dda7-d36a3b5e765a"
      },
      "source": [
        ""
      ],
      "execution_count": null,
      "outputs": [
        {
          "output_type": "execute_result",
          "data": {
            "text/plain": [
              "Text(0.5, 0.98, 'EXAMPLE')"
            ]
          },
          "metadata": {
            "tags": []
          },
          "execution_count": 24
        },
        {
          "output_type": "display_data",
          "data": {
            "image/png": "[encoded data removed]",
            "text/plain": [
              "<Figure size 1080x1080 with 4 Axes>"
            ]
          },
          "metadata": {
            "tags": [],
            "needs_background": "light"
          }
        }
      ]
    },
    {
      "cell_type": "markdown",
      "metadata": {
        "id": "bSPaPDQkaTk0"
      },
      "source": [
        "# Materials"
      ]
    },
    {
      "cell_type": "markdown",
      "metadata": {
        "id": "ykAl6yqoaWJb"
      },
      "source": [
        "* [ZOOpt](https://github.com/eyounx/ZOOpt) A python package of Zeroth-Order Optimization\n",
        "* [Nevergrad](https://github.com/facebookresearch/nevergrad) A Python toolbox for performing gradient-free optimization\n",
        "* [Optuna](https://colab.research.google.com/github/optuna/optuna-examples/blob/main/quickstart.ipynb) tutorial."
      ]
    }
  ]
}