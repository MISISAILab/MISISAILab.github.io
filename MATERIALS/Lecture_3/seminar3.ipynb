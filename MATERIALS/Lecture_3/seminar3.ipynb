{
  "metadata": {
    "kernelspec": {
      "language": "python",
      "display_name": "Python 3",
      "name": "python3"
    },
    "language_info": {
      "name": "python",
      "version": "3.6.6",
      "mimetype": "text/x-python",
      "codemirror_mode": {
        "name": "ipython",
        "version": 3
      },
      "pygments_lexer": "ipython3",
      "nbconvert_exporter": "python",
      "file_extension": ".py"
    },
    "colab": {
      "provenance": [],
      "collapsed_sections": [
        "9upVbtrHWrCh",
        "VJRWyJHSWrCj",
        "QRH7D1jWWrCj",
        "TkcpcUlZWrCk",
        "nO_mnoJkWrCl",
        "uR1Muaa4WrCo",
        "g3YPlXlRWrCp",
        "_UEiaWIJWrCq",
        "M-Oa7lavWrCq",
        "mfmc_iH9WrCr",
        "g50OT5sDWrCs",
        "MGDrI0tdWrCt",
        "65ygAdtZWrCv",
        "vrZpIgLmWrCw",
        "A-fhgcnFWrCx",
        "WyqzvjR6WrCy",
        "voGMOxhtWrCz",
        "X8KQvFsLWrC2",
        "4guDm5nFWrC2",
        "LiedURKFWrC3",
        "FglU8dXWWrC3",
        "H0Ks9zZsWrC3",
        "-TdDP5DJWrC3",
        "ZGrvOzCIWrC4",
        "T2ZwM42dWrC4",
        "mwHwxz8VWrC4",
        "OyPyT2oaWrC4",
        "C4UaAy-1WrC5"
      ]
    }
  },
  "nbformat_minor": 0,
  "nbformat": 4,
  "cells": [
    {
      "cell_type": "markdown",
      "source": [
        "\n",
        "# MISIS AI Lab\n",
        "### Руководство для начинающих\n",
        "- [Разедочный анализ и визуализация](#title1) (Exploratory Data Analysis (EDA) with Visualization)\n",
        "- [Выделение признаков](#title2) (Feature Extraction)\n",
        "- [Моделирование](#title3) (Data Modelling)\n",
        "- [Предсказания / Вычисления по моделям](#title4) (Model Evaluation)\n",
        "- [Ансамбли моделей](#title5)\n",
        "\n",
        "|   |   |   |   |\n",
        "|---|---|---|---|\n",
        "|![](https://pandas.pydata.org/_static/pandas_logo.png)|![](https://scikit-learn.org/stable/_static/scikit-learn-logo-small.png)|![](https://numpy.org/_static/numpy_logo.png)|![](https://matplotlib.org/_static/logo2.png)|\n",
        "\n",
        "-------"
      ],
      "metadata": {
        "_cell_guid": "6a09d4fb-60c5-4f45-b844-8c788a50c543",
        "_uuid": "8e892e637f005dd61ec7dcb95865e52f3de2a77f",
        "id": "B57udkVZWrCS"
      }
    },
    {
      "cell_type": "markdown",
      "source": [
        "<a id=\"section-one-dependencies\"></a>\n",
        "## Подключение зависимостей / Загрузка библиотек"
      ],
      "metadata": {
        "_cell_guid": "4af5e83d-7fd8-4a61-bf26-9583cb6d3476",
        "_uuid": "65d04d276a8983f62a49261f6e94a02b281dbcc9",
        "id": "3w3zO7u5WrCX"
      }
    },
    {
      "cell_type": "code",
      "source": [
        "import pandas as pd\n",
        "import numpy as np\n",
        "import matplotlib.pyplot as plt\n",
        "%matplotlib inline\n",
        "import seaborn as sns\n",
        "sns.set() # устанавливаем seaborn как по-умолчанию для отрисовки графиков"
      ],
      "metadata": {
        "_cell_guid": "868e55e4-03fd-4a11-a549-10febd722d11",
        "_uuid": "842d8d39aab673f814761aac46acffc5d4c332ba",
        "execution": {
          "iopub.status.busy": "2022-10-18T13:52:57.765528Z",
          "iopub.execute_input": "2022-10-18T13:52:57.765922Z",
          "iopub.status.idle": "2022-10-18T13:52:58.745730Z",
          "shell.execute_reply.started": "2022-10-18T13:52:57.765856Z",
          "shell.execute_reply": "2022-10-18T13:52:58.744580Z"
        },
        "trusted": true,
        "id": "tX22ya4BWrCY"
      },
      "execution_count": null,
      "outputs": []
    },
    {
      "cell_type": "markdown",
      "source": [
        "### Загрузка датасетов\n",
        "В состав предлагаемого датасеты включены 2 набора данных:\n",
        "* Обучающий (```train```) \n",
        "* Тестовый (```test```)\n",
        "\n",
        "Их нужно загрузить в локальные переменные. Загружаем обучающий и тестовый наборы данных с помощью библиотеки ```pandas```, она же - ```pd``` в нашем примере. Для этого используем стандартные метод ```.read_csv(..)```, принимающий на вход путь к файлу с данными.\n"
      ],
      "metadata": {
        "_cell_guid": "3f529075-7f9b-40ff-a79a-f3a11a7d8cbe",
        "_uuid": "64ca0f815766e3e8074b0e04f53947930cb061aa",
        "id": "KAnW-L5JWrCZ"
      }
    },
    {
      "cell_type": "code",
      "source": [
        "train = pd.read_csv('./../input/train.csv')\n",
        "test = pd.read_csv('./../input/test.csv')"
      ],
      "metadata": {
        "_cell_guid": "e58a3f06-4c2a-4b87-90de-f8b09039fd4e",
        "_uuid": "46f0b12d7bf66712642e9a9b807f5ef398426b83",
        "execution": {
          "iopub.status.busy": "2022-10-18T13:53:02.281341Z",
          "iopub.execute_input": "2022-10-18T13:53:02.281709Z",
          "iopub.status.idle": "2022-10-18T13:53:02.314543Z",
          "shell.execute_reply.started": "2022-10-18T13:53:02.281656Z",
          "shell.execute_reply": "2022-10-18T13:53:02.313653Z"
        },
        "trusted": true,
        "id": "BjE6-QMXWrCZ"
      },
      "execution_count": null,
      "outputs": []
    },
    {
      "cell_type": "markdown",
      "source": [
        "<a id=\"section-two-eda\"></a>\n",
        "## Разведочный (исследовательский) анализ <a class=\"anchor\" id=\"title1\"></a>\n",
        "<a id=\"section-two-train-df-analysis\"></a>\n",
        "### Исследуем обучающий набор (train)\n",
        "Анализ данных и, вообще их исследование, начинается с того, что **просто** глазами **смотрим** на то, что находится внутри .csv файлов. Для этого достаточно вывести на экран первые несколько строк загруженных таблиц. ```train``` -- это объект типа ```DataFrame```, который содержит вспомогательные функции для работы с данными.\n",
        "\n",
        "Метод ```.head()``` поможет нам в этом. С его помощью печатаем первые 5 строк (значение по умолчанию, если не задано иное) из обучающей выборки (**train dataset**):"
      ],
      "metadata": {
        "_cell_guid": "836a454f-17bc-41a2-be69-cd86c6f3b584",
        "_uuid": "1ed3ad39ead93977b8936d9c96e6f6f806a8f9b3",
        "id": "ZyC3YXzGWrCa"
      }
    },
    {
      "cell_type": "code",
      "source": [
        "train.head(10)"
      ],
      "metadata": {
        "_cell_guid": "749a3d70-394c-4d2c-999a-4d0567e39232",
        "_uuid": "b9fdb3b19d7a8f30cd0bb69ae434e04121ecba93",
        "execution": {
          "iopub.status.busy": "2022-10-18T13:53:06.060085Z",
          "iopub.execute_input": "2022-10-18T13:53:06.060677Z",
          "iopub.status.idle": "2022-10-18T13:53:06.095855Z",
          "shell.execute_reply.started": "2022-10-18T13:53:06.060613Z",
          "shell.execute_reply": "2022-10-18T13:53:06.094751Z"
        },
        "trusted": true,
        "id": "t4paYuKiWrCa",
        "outputId": "be22b160-96c8-4fa3-a17e-fd7bbcf73a0a"
      },
      "execution_count": null,
      "outputs": [
        {
          "execution_count": 3,
          "output_type": "execute_result",
          "data": {
            "text/plain": "   PassengerId  Survived  Pclass  \\\n0            1         0       3   \n1            2         1       1   \n2            3         1       3   \n3            4         1       1   \n4            5         0       3   \n5            6         0       3   \n6            7         0       1   \n7            8         0       3   \n8            9         1       3   \n9           10         1       2   \n\n                                                Name     Sex   Age  SibSp  \\\n0                            Braund, Mr. Owen Harris    male  22.0      1   \n1  Cumings, Mrs. John Bradley (Florence Briggs Th...  female  38.0      1   \n2                             Heikkinen, Miss. Laina  female  26.0      0   \n3       Futrelle, Mrs. Jacques Heath (Lily May Peel)  female  35.0      1   \n4                           Allen, Mr. William Henry    male  35.0      0   \n5                                   Moran, Mr. James    male   NaN      0   \n6                            McCarthy, Mr. Timothy J    male  54.0      0   \n7                     Palsson, Master. Gosta Leonard    male   2.0      3   \n8  Johnson, Mrs. Oscar W (Elisabeth Vilhelmina Berg)  female  27.0      0   \n9                Nasser, Mrs. Nicholas (Adele Achem)  female  14.0      1   \n\n   Parch            Ticket     Fare Cabin Embarked  \n0      0         A/5 21171   7.2500   NaN        S  \n1      0          PC 17599  71.2833   C85        C  \n2      0  STON/O2. 3101282   7.9250   NaN        S  \n3      0            113803  53.1000  C123        S  \n4      0            373450   8.0500   NaN        S  \n5      0            330877   8.4583   NaN        Q  \n6      0             17463  51.8625   E46        S  \n7      1            349909  21.0750   NaN        S  \n8      2            347742  11.1333   NaN        S  \n9      0            237736  30.0708   NaN        C  ",
            "text/html": "<div>\n<style scoped>\n    .dataframe tbody tr th:only-of-type {\n        vertical-align: middle;\n    }\n\n    .dataframe tbody tr th {\n        vertical-align: top;\n    }\n\n    .dataframe thead th {\n        text-align: right;\n    }\n</style>\n<table border=\"1\" class=\"dataframe\">\n  <thead>\n    <tr style=\"text-align: right;\">\n      <th></th>\n      <th>PassengerId</th>\n      <th>Survived</th>\n      <th>Pclass</th>\n      <th>Name</th>\n      <th>Sex</th>\n      <th>Age</th>\n      <th>SibSp</th>\n      <th>Parch</th>\n      <th>Ticket</th>\n      <th>Fare</th>\n      <th>Cabin</th>\n      <th>Embarked</th>\n    </tr>\n  </thead>\n  <tbody>\n    <tr>\n      <td>0</td>\n      <td>1</td>\n      <td>0</td>\n      <td>3</td>\n      <td>Braund, Mr. Owen Harris</td>\n      <td>male</td>\n      <td>22.0</td>\n      <td>1</td>\n      <td>0</td>\n      <td>A/5 21171</td>\n      <td>7.2500</td>\n      <td>NaN</td>\n      <td>S</td>\n    </tr>\n    <tr>\n      <td>1</td>\n      <td>2</td>\n      <td>1</td>\n      <td>1</td>\n      <td>Cumings, Mrs. John Bradley (Florence Briggs Th...</td>\n      <td>female</td>\n      <td>38.0</td>\n      <td>1</td>\n      <td>0</td>\n      <td>PC 17599</td>\n      <td>71.2833</td>\n      <td>C85</td>\n      <td>C</td>\n    </tr>\n    <tr>\n      <td>2</td>\n      <td>3</td>\n      <td>1</td>\n      <td>3</td>\n      <td>Heikkinen, Miss. Laina</td>\n      <td>female</td>\n      <td>26.0</td>\n      <td>0</td>\n      <td>0</td>\n      <td>STON/O2. 3101282</td>\n      <td>7.9250</td>\n      <td>NaN</td>\n      <td>S</td>\n    </tr>\n    <tr>\n      <td>3</td>\n      <td>4</td>\n      <td>1</td>\n      <td>1</td>\n      <td>Futrelle, Mrs. Jacques Heath (Lily May Peel)</td>\n      <td>female</td>\n      <td>35.0</td>\n      <td>1</td>\n      <td>0</td>\n      <td>113803</td>\n      <td>53.1000</td>\n      <td>C123</td>\n      <td>S</td>\n    </tr>\n    <tr>\n      <td>4</td>\n      <td>5</td>\n      <td>0</td>\n      <td>3</td>\n      <td>Allen, Mr. William Henry</td>\n      <td>male</td>\n      <td>35.0</td>\n      <td>0</td>\n      <td>0</td>\n      <td>373450</td>\n      <td>8.0500</td>\n      <td>NaN</td>\n      <td>S</td>\n    </tr>\n    <tr>\n      <td>5</td>\n      <td>6</td>\n      <td>0</td>\n      <td>3</td>\n      <td>Moran, Mr. James</td>\n      <td>male</td>\n      <td>NaN</td>\n      <td>0</td>\n      <td>0</td>\n      <td>330877</td>\n      <td>8.4583</td>\n      <td>NaN</td>\n      <td>Q</td>\n    </tr>\n    <tr>\n      <td>6</td>\n      <td>7</td>\n      <td>0</td>\n      <td>1</td>\n      <td>McCarthy, Mr. Timothy J</td>\n      <td>male</td>\n      <td>54.0</td>\n      <td>0</td>\n      <td>0</td>\n      <td>17463</td>\n      <td>51.8625</td>\n      <td>E46</td>\n      <td>S</td>\n    </tr>\n    <tr>\n      <td>7</td>\n      <td>8</td>\n      <td>0</td>\n      <td>3</td>\n      <td>Palsson, Master. Gosta Leonard</td>\n      <td>male</td>\n      <td>2.0</td>\n      <td>3</td>\n      <td>1</td>\n      <td>349909</td>\n      <td>21.0750</td>\n      <td>NaN</td>\n      <td>S</td>\n    </tr>\n    <tr>\n      <td>8</td>\n      <td>9</td>\n      <td>1</td>\n      <td>3</td>\n      <td>Johnson, Mrs. Oscar W (Elisabeth Vilhelmina Berg)</td>\n      <td>female</td>\n      <td>27.0</td>\n      <td>0</td>\n      <td>2</td>\n      <td>347742</td>\n      <td>11.1333</td>\n      <td>NaN</td>\n      <td>S</td>\n    </tr>\n    <tr>\n      <td>9</td>\n      <td>10</td>\n      <td>1</td>\n      <td>2</td>\n      <td>Nasser, Mrs. Nicholas (Adele Achem)</td>\n      <td>female</td>\n      <td>14.0</td>\n      <td>1</td>\n      <td>0</td>\n      <td>237736</td>\n      <td>30.0708</td>\n      <td>NaN</td>\n      <td>C</td>\n    </tr>\n  </tbody>\n</table>\n</div>"
          },
          "metadata": {}
        }
      ]
    },
    {
      "cell_type": "markdown",
      "source": [
        "Результат работы функции - предпросмотр загруженных данных. Рассмотрим внимательнее, что содержится в данном датасете. Ниже представлена краткая информация о каждом из стобцов датасета:\n",
        "\n",
        "1. **PassengerId:** Уникальный индекс/номер строки. Начинается с 1 (для первой строки) и увеличивается на 1 для каждой следующей. Рассматриваем его как индентификатор строки и, что логично, идентификатор пассжира (т.к. для каждого пассажира в датасете представлена только одна строка).\n",
        "2. **Survived:** Признак, показывающий был ли спасен данный пассажир или нет. 1 означает, что удалось выжить, и 0 - не удалось спастись.\n",
        "3. **Pclass:** Класс билета. 1 - означает Первый класс билета. 2 - означает Второй класс билета. 3 - означает Третий класс билета.\n",
        "4. **Name:** Имя пассажира. Имя также может содержать титулы и обращения. \"Mr\" для мужчин. \"Mrs\" для женщин. \"Miss\" для девушек (тут имеется в виду что для тех, кто не замужем, так было принято, да и сейчас тоже, говорить в западном обществе). \"Master\" для юношей.\n",
        "5. **Sex:** Пол пассажира. Либо мужчины (=Male) оибо женщины (=Female).\n",
        "6. **Age:** Возраст пассажира. \"NaN\" значения в этой колонке означают, что возраст данного пассажира отсутствует/неизвестен/или не был записанv в датасет.\n",
        "7. **SibSp:** Количество братьев/сестер или супругов, путешествующих с каждым пассажиром.\n",
        "8. **Parch:** Количество родителей детей (Number of parents of children travelling with each passenger).\n",
        "9. **Ticket:** Номер билета.\n",
        "10. **Fare:** Сумма, которую заплатил пассажир за путешествие.\n",
        "11. **Cabin:** Номер каюты пассажира. \"NaN\" значения в этой колонке указавает на то, что номер каюты данного пассажира не был записан.\n",
        "12. **Embarked:** Порт отправления данного пассажира."
      ],
      "metadata": {
        "_cell_guid": "0497d419-fbd1-4d07-aa76-362bcbd8ccbd",
        "_uuid": "ec81a873a564c743619d802c8b2ce8bbcc107418",
        "id": "4eT3l_mjWrCc"
      }
    },
    {
      "cell_type": "markdown",
      "source": [
        "##### Общее количество записей и столбцов\n",
        "\n",
        "Помимо примеров данных, нам нужно понимать размерности, т.е. сколько всего строк/столбцов присутсвует в загруженных файлах. \n",
        "\n",
        "Свойство ```.shape``` возвращает данную информацию. Так, мы видим, что всего в обучающем наборе содержатся 891 строка/запись и 12 столбцов."
      ],
      "metadata": {
        "_cell_guid": "5ebc1e0e-2b5a-4d92-98e0-defa019d4439",
        "_uuid": "1892fbb34b26d775d1c428fdb7b6254449286b28",
        "id": "2mvlTEHfWrCd"
      }
    },
    {
      "cell_type": "code",
      "source": [
        "train.shape"
      ],
      "metadata": {
        "_cell_guid": "ed1e7849-d1b6-490d-b86b-9ca71dfafc7d",
        "_uuid": "5a641beccf0e555dfd7b9a53a17188ea6edef95b",
        "execution": {
          "iopub.status.busy": "2022-10-18T13:53:10.123961Z",
          "iopub.execute_input": "2022-10-18T13:53:10.124308Z",
          "iopub.status.idle": "2022-10-18T13:53:10.130787Z",
          "shell.execute_reply.started": "2022-10-18T13:53:10.124264Z",
          "shell.execute_reply": "2022-10-18T13:53:10.129478Z"
        },
        "trusted": true,
        "id": "8wuXRbz-WrCe",
        "outputId": "5e4b1e44-7d75-48c1-83c4-e0c16f1fbf32"
      },
      "execution_count": null,
      "outputs": [
        {
          "execution_count": 4,
          "output_type": "execute_result",
          "data": {
            "text/plain": "(891, 12)"
          },
          "metadata": {}
        }
      ]
    },
    {
      "cell_type": "markdown",
      "source": [
        "##### Описание обучающего набора\n",
        "\n",
        "```.describe()``` \n",
        "отобразит различные величины, такие как _количесmво_, _среднее_, _среднеквадратичное отклонение_ и т.д. для **численных** типов данных.\n",
        "\n",
        "Это может быть полезным для понимания распределения значений по датасету и статистики, особенно когда нет возможности просмотреть все записи в виду огромного их количества (_датасет Титаник к ним не относится, т.к. даже 1000 строчек при желании можно просмотреть глазами_). "
      ],
      "metadata": {
        "_cell_guid": "920468dd-81c0-48dc-82fa-69e8a1354a26",
        "_uuid": "48d0bd9d409cee7fa2e133aea90b7a904a662c11",
        "id": "FToxK6OiWrCe"
      }
    },
    {
      "cell_type": "code",
      "source": [
        "train.describe()"
      ],
      "metadata": {
        "_cell_guid": "9f06085f-d1e4-46a1-ba62-e396e20af4ab",
        "_uuid": "d91b32b65a5f0a845899d301052ea420c79809a6",
        "scrolled": true,
        "execution": {
          "iopub.status.busy": "2022-10-18T13:53:12.354461Z",
          "iopub.execute_input": "2022-10-18T13:53:12.354854Z",
          "iopub.status.idle": "2022-10-18T13:53:12.398632Z",
          "shell.execute_reply.started": "2022-10-18T13:53:12.354780Z",
          "shell.execute_reply": "2022-10-18T13:53:12.397550Z"
        },
        "trusted": true,
        "id": "kCQ18A53WrCe",
        "outputId": "4514ff46-4998-4284-ff84-cc91d21d1ec0"
      },
      "execution_count": null,
      "outputs": [
        {
          "execution_count": 5,
          "output_type": "execute_result",
          "data": {
            "text/plain": "       PassengerId    Survived      Pclass         Age       SibSp  \\\ncount   891.000000  891.000000  891.000000  714.000000  891.000000   \nmean    446.000000    0.383838    2.308642   29.699118    0.523008   \nstd     257.353842    0.486592    0.836071   14.526497    1.102743   \nmin       1.000000    0.000000    1.000000    0.420000    0.000000   \n25%     223.500000    0.000000    2.000000   20.125000    0.000000   \n50%     446.000000    0.000000    3.000000   28.000000    0.000000   \n75%     668.500000    1.000000    3.000000   38.000000    1.000000   \nmax     891.000000    1.000000    3.000000   80.000000    8.000000   \n\n            Parch        Fare  \ncount  891.000000  891.000000  \nmean     0.381594   32.204208  \nstd      0.806057   49.693429  \nmin      0.000000    0.000000  \n25%      0.000000    7.910400  \n50%      0.000000   14.454200  \n75%      0.000000   31.000000  \nmax      6.000000  512.329200  ",
            "text/html": "<div>\n<style scoped>\n    .dataframe tbody tr th:only-of-type {\n        vertical-align: middle;\n    }\n\n    .dataframe tbody tr th {\n        vertical-align: top;\n    }\n\n    .dataframe thead th {\n        text-align: right;\n    }\n</style>\n<table border=\"1\" class=\"dataframe\">\n  <thead>\n    <tr style=\"text-align: right;\">\n      <th></th>\n      <th>PassengerId</th>\n      <th>Survived</th>\n      <th>Pclass</th>\n      <th>Age</th>\n      <th>SibSp</th>\n      <th>Parch</th>\n      <th>Fare</th>\n    </tr>\n  </thead>\n  <tbody>\n    <tr>\n      <td>count</td>\n      <td>891.000000</td>\n      <td>891.000000</td>\n      <td>891.000000</td>\n      <td>714.000000</td>\n      <td>891.000000</td>\n      <td>891.000000</td>\n      <td>891.000000</td>\n    </tr>\n    <tr>\n      <td>mean</td>\n      <td>446.000000</td>\n      <td>0.383838</td>\n      <td>2.308642</td>\n      <td>29.699118</td>\n      <td>0.523008</td>\n      <td>0.381594</td>\n      <td>32.204208</td>\n    </tr>\n    <tr>\n      <td>std</td>\n      <td>257.353842</td>\n      <td>0.486592</td>\n      <td>0.836071</td>\n      <td>14.526497</td>\n      <td>1.102743</td>\n      <td>0.806057</td>\n      <td>49.693429</td>\n    </tr>\n    <tr>\n      <td>min</td>\n      <td>1.000000</td>\n      <td>0.000000</td>\n      <td>1.000000</td>\n      <td>0.420000</td>\n      <td>0.000000</td>\n      <td>0.000000</td>\n      <td>0.000000</td>\n    </tr>\n    <tr>\n      <td>25%</td>\n      <td>223.500000</td>\n      <td>0.000000</td>\n      <td>2.000000</td>\n      <td>20.125000</td>\n      <td>0.000000</td>\n      <td>0.000000</td>\n      <td>7.910400</td>\n    </tr>\n    <tr>\n      <td>50%</td>\n      <td>446.000000</td>\n      <td>0.000000</td>\n      <td>3.000000</td>\n      <td>28.000000</td>\n      <td>0.000000</td>\n      <td>0.000000</td>\n      <td>14.454200</td>\n    </tr>\n    <tr>\n      <td>75%</td>\n      <td>668.500000</td>\n      <td>1.000000</td>\n      <td>3.000000</td>\n      <td>38.000000</td>\n      <td>1.000000</td>\n      <td>0.000000</td>\n      <td>31.000000</td>\n    </tr>\n    <tr>\n      <td>max</td>\n      <td>891.000000</td>\n      <td>1.000000</td>\n      <td>3.000000</td>\n      <td>80.000000</td>\n      <td>8.000000</td>\n      <td>6.000000</td>\n      <td>512.329200</td>\n    </tr>\n  </tbody>\n</table>\n</div>"
          },
          "metadata": {}
        }
      ]
    },
    {
      "cell_type": "markdown",
      "source": [
        "```.describe(include = ['O'])``` \n",
        "отобразит статистики (descriptive statistics) объектного типа. Это нужно для нечисловых данных, когда нельзя просто посчитать максимумы/среднее/и пр. для данных. Мы можем отнести такие данные к категориальному виду."
      ],
      "metadata": {
        "_cell_guid": "16c28269-648d-42f7-8ef7-49baf4c5d8c5",
        "_uuid": "116bde07444a27a8e3a6799f71b54d0c35e236d1",
        "id": "SwYZNIGcWrCf"
      }
    },
    {
      "cell_type": "code",
      "source": [
        "train.describe(include=['O'])"
      ],
      "metadata": {
        "_cell_guid": "24baf21d-0d96-4a6c-97f4-ef5cb3109f6e",
        "_uuid": "ecb09e0fc6887919c005c97af0185953a12f7b75",
        "execution": {
          "iopub.status.busy": "2022-10-18T13:53:16.166187Z",
          "iopub.execute_input": "2022-10-18T13:53:16.166957Z",
          "iopub.status.idle": "2022-10-18T13:53:16.204054Z",
          "shell.execute_reply.started": "2022-10-18T13:53:16.166665Z",
          "shell.execute_reply": "2022-10-18T13:53:16.202880Z"
        },
        "trusted": true,
        "id": "JskEU5LkWrCf",
        "outputId": "18a18b1a-25c5-469c-823d-9955aeaa551a"
      },
      "execution_count": null,
      "outputs": [
        {
          "execution_count": 6,
          "output_type": "execute_result",
          "data": {
            "text/plain": "                                    Name   Sex Ticket        Cabin Embarked\ncount                                891   891    891          204      889\nunique                               891     2    681          147        3\ntop     Caram, Mrs. Joseph (Maria Elias)  male   1601  C23 C25 C27        S\nfreq                                   1   577      7            4      644",
            "text/html": "<div>\n<style scoped>\n    .dataframe tbody tr th:only-of-type {\n        vertical-align: middle;\n    }\n\n    .dataframe tbody tr th {\n        vertical-align: top;\n    }\n\n    .dataframe thead th {\n        text-align: right;\n    }\n</style>\n<table border=\"1\" class=\"dataframe\">\n  <thead>\n    <tr style=\"text-align: right;\">\n      <th></th>\n      <th>Name</th>\n      <th>Sex</th>\n      <th>Ticket</th>\n      <th>Cabin</th>\n      <th>Embarked</th>\n    </tr>\n  </thead>\n  <tbody>\n    <tr>\n      <td>count</td>\n      <td>891</td>\n      <td>891</td>\n      <td>891</td>\n      <td>204</td>\n      <td>889</td>\n    </tr>\n    <tr>\n      <td>unique</td>\n      <td>891</td>\n      <td>2</td>\n      <td>681</td>\n      <td>147</td>\n      <td>3</td>\n    </tr>\n    <tr>\n      <td>top</td>\n      <td>Caram, Mrs. Joseph (Maria Elias)</td>\n      <td>male</td>\n      <td>1601</td>\n      <td>C23 C25 C27</td>\n      <td>S</td>\n    </tr>\n    <tr>\n      <td>freq</td>\n      <td>1</td>\n      <td>577</td>\n      <td>7</td>\n      <td>4</td>\n      <td>644</td>\n    </tr>\n  </tbody>\n</table>\n</div>"
          },
          "metadata": {}
        }
      ]
    },
    {
      "cell_type": "markdown",
      "source": [
        "Давайте проанализируем:\n",
        "* Видно, что сущесвуют дубликаты номеров билетов *Ticket* и переиспользуются каюты *Cabins* (уникальных записей (_unique_) меньше, чем общего количества). Самый большой порядок дубликата билета - \"CA. 2343\". Он повторился  7 раз. Аналогично, наибОльшее число людей, занимающих одну и ту же каюту - 4. Они используют каюты \"C23 C25 C27\".\n",
        "* Также можно заметить, что 644 человека отбыли из порта \"S\".\n",
        "* Среди 891 записей, 577 были мужчины (Male) и оставшием женщины (Female).\n",
        "\n",
        "Используем метод ```.info()```, чтобы увидеть больше информацию о типах данных/структуре в тренировочной выборке."
      ],
      "metadata": {
        "_cell_guid": "15928288-5cfd-4887-a857-c814727715a6",
        "_uuid": "be7b73cf61debb19691b6ab8851ea82113d6f7e9",
        "id": "woaWmZJOWrCf"
      }
    },
    {
      "cell_type": "code",
      "source": [
        "train.info()"
      ],
      "metadata": {
        "_cell_guid": "418b8a69-f2aa-442d-8f45-fa8887190938",
        "_uuid": "4ee2591110660a4a16b3da7a7530f0945e121b46",
        "execution": {
          "iopub.status.busy": "2022-10-18T13:53:19.525256Z",
          "iopub.execute_input": "2022-10-18T13:53:19.525606Z",
          "iopub.status.idle": "2022-10-18T13:53:19.537111Z",
          "shell.execute_reply.started": "2022-10-18T13:53:19.525554Z",
          "shell.execute_reply": "2022-10-18T13:53:19.535817Z"
        },
        "trusted": true,
        "id": "UNPs7zpjWrCg",
        "outputId": "f9a59337-8b96-42e6-d9d3-72843f78f68e"
      },
      "execution_count": null,
      "outputs": [
        {
          "name": "stdout",
          "text": "<class 'pandas.core.frame.DataFrame'>\nRangeIndex: 891 entries, 0 to 890\nData columns (total 12 columns):\nPassengerId    891 non-null int64\nSurvived       891 non-null int64\nPclass         891 non-null int64\nName           891 non-null object\nSex            891 non-null object\nAge            714 non-null float64\nSibSp          891 non-null int64\nParch          891 non-null int64\nTicket         891 non-null object\nFare           891 non-null float64\nCabin          204 non-null object\nEmbarked       889 non-null object\ndtypes: float64(2), int64(5), object(5)\nmemory usage: 83.7+ KB\n",
          "output_type": "stream"
        }
      ]
    },
    {
      "cell_type": "markdown",
      "source": [
        "* Можно увидеть, что значение *Age* не задано для большого количества записей. \n",
        "* Из 891 строк, возраст *Age* задан лишь для 714 записей.\n",
        "* Аналогично, Каюты *Cabin* также пропущены для большого количества записей. Только 204 из 891 записей содержат *Cabin* значения."
      ],
      "metadata": {
        "_cell_guid": "abc3c4fc-6419-405f-927a-4214d2c73eec",
        "_uuid": "622d4d4b2ba8f77cc537af97fc343d4cd6de26b2",
        "id": "UI44Fos2WrCg"
      }
    },
    {
      "cell_type": "code",
      "source": [
        "train.isnull().sum()"
      ],
      "metadata": {
        "_cell_guid": "0663e2bb-dc27-4187-94b1-ff4ff78b68bc",
        "_uuid": "3bf74de7f2483d622e41608f6017f2945639e4df",
        "execution": {
          "iopub.status.busy": "2022-10-18T13:53:22.773294Z",
          "iopub.execute_input": "2022-10-18T13:53:22.773805Z",
          "iopub.status.idle": "2022-10-18T13:53:22.785564Z",
          "shell.execute_reply.started": "2022-10-18T13:53:22.773756Z",
          "shell.execute_reply": "2022-10-18T13:53:22.784086Z"
        },
        "trusted": true,
        "id": "m7D44TKYWrCg",
        "outputId": "21d38842-b9c0-4f25-b39d-41ea8709c3b3"
      },
      "execution_count": null,
      "outputs": [
        {
          "execution_count": 8,
          "output_type": "execute_result",
          "data": {
            "text/plain": "PassengerId      0\nSurvived         0\nPclass           0\nName             0\nSex              0\nAge            177\nSibSp            0\nParch            0\nTicket           0\nFare             0\nCabin          687\nEmbarked         2\ndtype: int64"
          },
          "metadata": {}
        }
      ]
    },
    {
      "cell_type": "markdown",
      "source": [
        "* Всего 177 записей с пропущенным возрастом (*Age*), \n",
        "* 687 записей с пропущенным значение каюты *Cabin* \n",
        "* и для 2 записей не заданы порты отправления *Embarked*.\n",
        "\n",
        "> Результатом проведенного анализа является понимание того, насколько полны данные или нет в заданых датасетах, нужно ли проводитьб до-наполнение данных, можно ли использовать эти данные напрямую и пр."
      ],
      "metadata": {
        "_cell_guid": "176aa52d-fde8-42e6-a3ee-db31f8b0ca49",
        "_uuid": "b48a9feff6004d783960aa1b32fdfde902d87e21",
        "id": "_OCXj-5OWrCg"
      }
    },
    {
      "cell_type": "markdown",
      "source": [
        "<a id=\"section-two-test-df-analysis\"></a>\n",
        "### Исследуем тестовый датасет (test)\n",
        "\n",
        "Тестовый набор содержит 418 строк и 11 столбцов.\n",
        "\n",
        "> Записей в Обучающем наборе = 891\n",
        ">\n",
        "> Записей в Тестовом наборе = 418\n",
        ">\n",
        "> Всего записей = 891+418 = 1309\n",
        "\n",
        "Можно увидеть, что около 2/3 от общего количества данных - данные из обучающей выборки (*Train*) и около 1/3 всех данных - тестовые (*Test*)."
      ],
      "metadata": {
        "_cell_guid": "1de3f8d9-58fc-45f6-a1c2-d2c50cfd95e4",
        "_uuid": "8479cc0108926c2da3bcec63c13ff5da1abbbeae",
        "id": "9upVbtrHWrCh"
      }
    },
    {
      "cell_type": "code",
      "source": [
        "test.shape"
      ],
      "metadata": {
        "_cell_guid": "a67f1d37-4397-4f59-948f-843ed7674ce8",
        "_uuid": "dc78304d651df5e54aaa962d77ac673791ff1419",
        "scrolled": true,
        "execution": {
          "iopub.status.busy": "2022-10-18T13:53:25.814820Z",
          "iopub.execute_input": "2022-10-18T13:53:25.815801Z",
          "iopub.status.idle": "2022-10-18T13:53:25.824171Z",
          "shell.execute_reply.started": "2022-10-18T13:53:25.815739Z",
          "shell.execute_reply": "2022-10-18T13:53:25.822576Z"
        },
        "trusted": true,
        "id": "UU3_zoXkWrCh",
        "outputId": "73930ebe-dbad-4662-cb82-0aa6abeea216"
      },
      "execution_count": null,
      "outputs": [
        {
          "execution_count": 9,
          "output_type": "execute_result",
          "data": {
            "text/plain": "(418, 11)"
          },
          "metadata": {}
        }
      ]
    },
    {
      "cell_type": "markdown",
      "source": [
        "*Survived* стобец отсутствует в Тестовом наборе.\n",
        "Мы должны натренировать наш классификатор, используя Тестовый набор и сгенерировать предсказания (*Survived*) для Тестовых данных."
      ],
      "metadata": {
        "_cell_guid": "3c5475cf-6890-4572-8160-3fe1d2130b1f",
        "_uuid": "c428862f07194d5ae6191e3bb8f4a226a5578f31",
        "id": "tCqH3P0vWrCh"
      }
    },
    {
      "cell_type": "code",
      "source": [
        "test.head()"
      ],
      "metadata": {
        "_cell_guid": "a7a6af81-6c7b-4fb3-88a1-eef9f2d95f6b",
        "_uuid": "d73aaec23bd5f4a1fe7dcf3c669d18d31c547efd",
        "execution": {
          "iopub.status.busy": "2022-10-18T13:53:28.293834Z",
          "iopub.execute_input": "2022-10-18T13:53:28.294294Z",
          "iopub.status.idle": "2022-10-18T13:53:28.312376Z",
          "shell.execute_reply.started": "2022-10-18T13:53:28.294228Z",
          "shell.execute_reply": "2022-10-18T13:53:28.311415Z"
        },
        "trusted": true,
        "id": "BF2AHMryWrCh",
        "outputId": "8539c23f-33ef-4df1-e49d-ac477fa26fa9"
      },
      "execution_count": null,
      "outputs": [
        {
          "execution_count": 10,
          "output_type": "execute_result",
          "data": {
            "text/plain": "   PassengerId  Pclass                                          Name     Sex  \\\n0          892       3                              Kelly, Mr. James    male   \n1          893       3              Wilkes, Mrs. James (Ellen Needs)  female   \n2          894       2                     Myles, Mr. Thomas Francis    male   \n3          895       3                              Wirz, Mr. Albert    male   \n4          896       3  Hirvonen, Mrs. Alexander (Helga E Lindqvist)  female   \n\n    Age  SibSp  Parch   Ticket     Fare Cabin Embarked  \n0  34.5      0      0   330911   7.8292   NaN        Q  \n1  47.0      1      0   363272   7.0000   NaN        S  \n2  62.0      0      0   240276   9.6875   NaN        Q  \n3  27.0      0      0   315154   8.6625   NaN        S  \n4  22.0      1      1  3101298  12.2875   NaN        S  ",
            "text/html": "<div>\n<style scoped>\n    .dataframe tbody tr th:only-of-type {\n        vertical-align: middle;\n    }\n\n    .dataframe tbody tr th {\n        vertical-align: top;\n    }\n\n    .dataframe thead th {\n        text-align: right;\n    }\n</style>\n<table border=\"1\" class=\"dataframe\">\n  <thead>\n    <tr style=\"text-align: right;\">\n      <th></th>\n      <th>PassengerId</th>\n      <th>Pclass</th>\n      <th>Name</th>\n      <th>Sex</th>\n      <th>Age</th>\n      <th>SibSp</th>\n      <th>Parch</th>\n      <th>Ticket</th>\n      <th>Fare</th>\n      <th>Cabin</th>\n      <th>Embarked</th>\n    </tr>\n  </thead>\n  <tbody>\n    <tr>\n      <td>0</td>\n      <td>892</td>\n      <td>3</td>\n      <td>Kelly, Mr. James</td>\n      <td>male</td>\n      <td>34.5</td>\n      <td>0</td>\n      <td>0</td>\n      <td>330911</td>\n      <td>7.8292</td>\n      <td>NaN</td>\n      <td>Q</td>\n    </tr>\n    <tr>\n      <td>1</td>\n      <td>893</td>\n      <td>3</td>\n      <td>Wilkes, Mrs. James (Ellen Needs)</td>\n      <td>female</td>\n      <td>47.0</td>\n      <td>1</td>\n      <td>0</td>\n      <td>363272</td>\n      <td>7.0000</td>\n      <td>NaN</td>\n      <td>S</td>\n    </tr>\n    <tr>\n      <td>2</td>\n      <td>894</td>\n      <td>2</td>\n      <td>Myles, Mr. Thomas Francis</td>\n      <td>male</td>\n      <td>62.0</td>\n      <td>0</td>\n      <td>0</td>\n      <td>240276</td>\n      <td>9.6875</td>\n      <td>NaN</td>\n      <td>Q</td>\n    </tr>\n    <tr>\n      <td>3</td>\n      <td>895</td>\n      <td>3</td>\n      <td>Wirz, Mr. Albert</td>\n      <td>male</td>\n      <td>27.0</td>\n      <td>0</td>\n      <td>0</td>\n      <td>315154</td>\n      <td>8.6625</td>\n      <td>NaN</td>\n      <td>S</td>\n    </tr>\n    <tr>\n      <td>4</td>\n      <td>896</td>\n      <td>3</td>\n      <td>Hirvonen, Mrs. Alexander (Helga E Lindqvist)</td>\n      <td>female</td>\n      <td>22.0</td>\n      <td>1</td>\n      <td>1</td>\n      <td>3101298</td>\n      <td>12.2875</td>\n      <td>NaN</td>\n      <td>S</td>\n    </tr>\n  </tbody>\n</table>\n</div>"
          },
          "metadata": {}
        }
      ]
    },
    {
      "cell_type": "code",
      "source": [
        "test.info()"
      ],
      "metadata": {
        "_cell_guid": "6f09ffda-3cd9-423a-8ab7-322330b6f44f",
        "_uuid": "03b6cc95436e9382d8f4b92367e9d586caed59ad",
        "execution": {
          "iopub.status.busy": "2022-10-18T13:53:32.438098Z",
          "iopub.execute_input": "2022-10-18T13:53:32.438792Z",
          "iopub.status.idle": "2022-10-18T13:53:32.450755Z",
          "shell.execute_reply.started": "2022-10-18T13:53:32.438722Z",
          "shell.execute_reply": "2022-10-18T13:53:32.449597Z"
        },
        "trusted": true,
        "id": "E1Mz4Q9KWrCi",
        "outputId": "28f36643-c1d6-4b16-a036-49be6857cb81"
      },
      "execution_count": null,
      "outputs": [
        {
          "name": "stdout",
          "text": "<class 'pandas.core.frame.DataFrame'>\nRangeIndex: 418 entries, 0 to 417\nData columns (total 11 columns):\nPassengerId    418 non-null int64\nPclass         418 non-null int64\nName           418 non-null object\nSex            418 non-null object\nAge            332 non-null float64\nSibSp          418 non-null int64\nParch          418 non-null int64\nTicket         418 non-null object\nFare           417 non-null float64\nCabin          91 non-null object\nEmbarked       418 non-null object\ndtypes: float64(2), int64(4), object(5)\nmemory usage: 36.0+ KB\n",
          "output_type": "stream"
        }
      ]
    },
    {
      "cell_type": "markdown",
      "source": [
        "* Есть отсутствующие данные для возраста (*Age*) и в Тестовом наборе тоже.\n",
        "\n",
        "* Из 418 записей в Тестовом наборе , только в 332 строках присутствует возраст (*Age*).\n",
        "\n",
        "* *Cabin* также отсутсвуют в большом колчиестве записей. Только 91 строка из 418 содержать значения для поля *Cabin*."
      ],
      "metadata": {
        "_cell_guid": "f93b65cb-4a3d-46d1-bb14-154374467f24",
        "_uuid": "54070d3b3aaf4c20b21e6460d9a3a7cd04df5aa0",
        "id": "AJhGY1YsWrCi"
      }
    },
    {
      "cell_type": "code",
      "source": [
        "test.isnull().sum()"
      ],
      "metadata": {
        "_cell_guid": "7783d378-a9bb-4afb-977d-714faddbd54c",
        "_uuid": "c78d7a4a30362d7afe9f917e0cae3558098ae1d6",
        "execution": {
          "iopub.status.busy": "2022-10-18T13:53:35.709578Z",
          "iopub.execute_input": "2022-10-18T13:53:35.709962Z",
          "iopub.status.idle": "2022-10-18T13:53:35.718227Z",
          "shell.execute_reply.started": "2022-10-18T13:53:35.709888Z",
          "shell.execute_reply": "2022-10-18T13:53:35.717261Z"
        },
        "trusted": true,
        "id": "-PFzU3AeWrCi",
        "outputId": "71cbae95-7ecd-4d3a-e2dc-a4a226c75dd0"
      },
      "execution_count": null,
      "outputs": [
        {
          "execution_count": 12,
          "output_type": "execute_result",
          "data": {
            "text/plain": "PassengerId      0\nPclass           0\nName             0\nSex              0\nAge             86\nSibSp            0\nParch            0\nTicket           0\nFare             1\nCabin          327\nEmbarked         0\ndtype: int64"
          },
          "metadata": {}
        }
      ]
    },
    {
      "cell_type": "markdown",
      "source": [
        "Всего 86 записей с пропущенным Возрастом (*Age*), 327 записей с пропущенными Каютами (*Cabin*) и 1 записьс пропущенной информацией о Цене *Fare*."
      ],
      "metadata": {
        "_cell_guid": "524ecb92-5b8e-462c-ad7c-9ee301074742",
        "_uuid": "1e6195649821a5e828d8283d95722f1fe8e4dbab",
        "id": "X_7eoq91WrCj"
      }
    },
    {
      "cell_type": "markdown",
      "source": [
        "<a id=\"section-two-features-dependencies\"></a>\n",
        "### Зависимости между Признаками (Features) и Ответом (Survival)\n",
        "\n",
        "В этом разделе, мы анализируем зависимости между разными признаками по отношению к Спасению(*Survival*). Мы увидии как разные значения признакоы отображают разные шансы на спасение. Мы также построим разные виды диаграмм, для того, чтобы **представить** наши данные и находки."
      ],
      "metadata": {
        "_cell_guid": "c8553d48-c5e0-4947-bd13-1b38509c850c",
        "_uuid": "1a28e607e9ed63cefe0f35a4e4d72f2f36299323",
        "id": "VJRWyJHSWrCj"
      }
    },
    {
      "cell_type": "code",
      "source": [
        "survived = train[train['Survived'] == 1]\n",
        "not_survived = train[train['Survived'] == 0]\n",
        "\n",
        "print (\"Survived: %i (%.1f%%)\"%(len(survived), (len(survived))/len(train)*100.0))\n",
        "print (\"Not Survived: %i (%.1f%%)\"%(len(not_survived), (len(not_survived))/len(train)*100.0))\n",
        "print (\"Total: %i\"%len(train))"
      ],
      "metadata": {
        "_cell_guid": "b1d8a6d2-c22d-435c-8c98-973e8f41b138",
        "_uuid": "26411c710f69b29939c815d5f5ab01d9177df7d0",
        "execution": {
          "iopub.status.busy": "2022-10-18T13:53:39.597337Z",
          "iopub.execute_input": "2022-10-18T13:53:39.598093Z",
          "iopub.status.idle": "2022-10-18T13:53:39.613650Z",
          "shell.execute_reply.started": "2022-10-18T13:53:39.598005Z",
          "shell.execute_reply": "2022-10-18T13:53:39.612585Z"
        },
        "trusted": true,
        "id": "8p0N1gQcWrCj",
        "outputId": "0c245c9f-9e43-404a-f1f0-22313f77ad9c"
      },
      "execution_count": null,
      "outputs": [
        {
          "name": "stdout",
          "text": "Survived: 342 (38.4%)\nNot Survived: 549 (61.6%)\nTotal: 891\n",
          "output_type": "stream"
        }
      ]
    },
    {
      "cell_type": "markdown",
      "source": [
        "#### Pclass vs. Survival\n",
        "\n",
        "Пассажиры более высокого класса имеют бОльшие шансы на спасение."
      ],
      "metadata": {
        "_cell_guid": "aa6d2b6d-af33-46f2-997b-e8f7a6d29ddd",
        "_uuid": "6ddbc343c14cfd51d66cf16482291212949d10a3",
        "id": "QRH7D1jWWrCj"
      }
    },
    {
      "cell_type": "code",
      "source": [
        "# train['Pclass'].value_counts() - this is equal because we had column names, \n",
        "# and Padnas was able to resolve names into properties\n",
        "\n",
        "train.Pclass.value_counts()"
      ],
      "metadata": {
        "_cell_guid": "3519d680-1e35-437d-9691-16ff3c73a674",
        "_uuid": "1708bbe6b8bcbbf2ecb0ce1e27f3b9bf2d1a61e8",
        "execution": {
          "iopub.status.busy": "2022-10-18T13:53:42.829352Z",
          "iopub.execute_input": "2022-10-18T13:53:42.829694Z",
          "iopub.status.idle": "2022-10-18T13:53:42.838374Z",
          "shell.execute_reply.started": "2022-10-18T13:53:42.829641Z",
          "shell.execute_reply": "2022-10-18T13:53:42.837275Z"
        },
        "trusted": true,
        "id": "7k_GuAU_WrCj",
        "outputId": "6fa7c282-431a-4d96-82a0-83b77aa62cfb"
      },
      "execution_count": null,
      "outputs": [
        {
          "execution_count": 14,
          "output_type": "execute_result",
          "data": {
            "text/plain": "3    491\n1    216\n2    184\nName: Pclass, dtype: int64"
          },
          "metadata": {}
        }
      ]
    },
    {
      "cell_type": "code",
      "source": [
        "train.groupby('Pclass').Survived.value_counts()"
      ],
      "metadata": {
        "_cell_guid": "4fa5d7fc-913d-48db-b876-534d9232115c",
        "_uuid": "23018e75735ef1f2df021fa2278e7eba0c6b5e2f",
        "execution": {
          "iopub.status.busy": "2022-10-18T13:53:45.354753Z",
          "iopub.execute_input": "2022-10-18T13:53:45.355099Z",
          "iopub.status.idle": "2022-10-18T13:53:45.369364Z",
          "shell.execute_reply.started": "2022-10-18T13:53:45.355048Z",
          "shell.execute_reply": "2022-10-18T13:53:45.368235Z"
        },
        "trusted": true,
        "id": "botQnTmUWrCk",
        "outputId": "02133486-619c-403c-fa01-ecfed3753dda"
      },
      "execution_count": null,
      "outputs": [
        {
          "execution_count": 15,
          "output_type": "execute_result",
          "data": {
            "text/plain": "Pclass  Survived\n1       1           136\n        0            80\n2       0            97\n        1            87\n3       0           372\n        1           119\nName: Survived, dtype: int64"
          },
          "metadata": {}
        }
      ]
    },
    {
      "cell_type": "code",
      "source": [
        "train[['Pclass', 'Survived']].groupby('Pclass', as_index = False).mean()"
      ],
      "metadata": {
        "_cell_guid": "6f13718d-94a3-48da-bc80-c69774f91628",
        "_uuid": "875d19ca526b3cc79685a8134175af2f6c373fb5",
        "execution": {
          "iopub.status.busy": "2022-10-18T13:53:47.477502Z",
          "iopub.execute_input": "2022-10-18T13:53:47.477834Z",
          "iopub.status.idle": "2022-10-18T13:53:47.496599Z",
          "shell.execute_reply.started": "2022-10-18T13:53:47.477785Z",
          "shell.execute_reply": "2022-10-18T13:53:47.495110Z"
        },
        "trusted": true,
        "id": "a99uOPy4WrCk",
        "outputId": "5b3f3fd4-d942-40c3-f1d3-8666b08b4a60"
      },
      "execution_count": null,
      "outputs": [
        {
          "execution_count": 16,
          "output_type": "execute_result",
          "data": {
            "text/plain": "   Pclass  Survived\n0       1  0.629630\n1       2  0.472826\n2       3  0.242363",
            "text/html": "<div>\n<style scoped>\n    .dataframe tbody tr th:only-of-type {\n        vertical-align: middle;\n    }\n\n    .dataframe tbody tr th {\n        vertical-align: top;\n    }\n\n    .dataframe thead th {\n        text-align: right;\n    }\n</style>\n<table border=\"1\" class=\"dataframe\">\n  <thead>\n    <tr style=\"text-align: right;\">\n      <th></th>\n      <th>Pclass</th>\n      <th>Survived</th>\n    </tr>\n  </thead>\n  <tbody>\n    <tr>\n      <td>0</td>\n      <td>1</td>\n      <td>0.629630</td>\n    </tr>\n    <tr>\n      <td>1</td>\n      <td>2</td>\n      <td>0.472826</td>\n    </tr>\n    <tr>\n      <td>2</td>\n      <td>3</td>\n      <td>0.242363</td>\n    </tr>\n  </tbody>\n</table>\n</div>"
          },
          "metadata": {}
        }
      ]
    },
    {
      "cell_type": "code",
      "source": [
        "#train.groupby('Pclass').Survived.mean().plot(kind='bar')\n",
        "# ci=None -> turns off confidence intervals\n",
        "sns.barplot(x='Pclass', y='Survived', data=train, ci=None)"
      ],
      "metadata": {
        "_cell_guid": "750dd832-6155-42b8-859f-6b4f39312cff",
        "_uuid": "2fb25360ed46e3095f3fc88f66a5c5a4051299d0",
        "execution": {
          "iopub.status.busy": "2022-10-18T13:54:00.273980Z",
          "iopub.execute_input": "2022-10-18T13:54:00.274364Z",
          "iopub.status.idle": "2022-10-18T13:54:00.430108Z",
          "shell.execute_reply.started": "2022-10-18T13:54:00.274285Z",
          "shell.execute_reply": "2022-10-18T13:54:00.428459Z"
        },
        "trusted": true,
        "id": "F4cdmFgsWrCk",
        "outputId": "20fa11f2-819c-409a-f05f-3ead7d857b77"
      },
      "execution_count": null,
      "outputs": [
        {
          "execution_count": 18,
          "output_type": "execute_result",
          "data": {
            "text/plain": "<matplotlib.axes._subplots.AxesSubplot at 0x7f7568d690f0>"
          },
          "metadata": {}
        },
        {
          "output_type": "display_data",
          "data": {
            "text/plain": "<Figure size 432x288 with 1 Axes>",
            "image/png": "[encoded data removed]"
          },
          "metadata": {
            "needs_background": "light"
          }
        }
      ]
    },
    {
      "cell_type": "markdown",
      "source": [
        "#### Sex vs. Survival\n",
        "\n",
        "Женщины имеют бОльшие шансы на спасение."
      ],
      "metadata": {
        "_cell_guid": "8e7dea7a-466a-427c-90f7-9919b0257928",
        "_uuid": "30220b897ef645f5f09edd92ceaf66b7480874f9",
        "id": "TkcpcUlZWrCk"
      }
    },
    {
      "cell_type": "code",
      "source": [
        "train.Sex.value_counts()"
      ],
      "metadata": {
        "_cell_guid": "46df4fd7-01fe-492d-9ab4-411063999fa6",
        "_uuid": "81239e0a000dcfa838b1568e7944b2a19f787ff0",
        "execution": {
          "iopub.status.busy": "2022-10-18T13:54:30.649259Z",
          "iopub.execute_input": "2022-10-18T13:54:30.649950Z",
          "iopub.status.idle": "2022-10-18T13:54:30.658663Z",
          "shell.execute_reply.started": "2022-10-18T13:54:30.649864Z",
          "shell.execute_reply": "2022-10-18T13:54:30.657613Z"
        },
        "trusted": true,
        "id": "YmqHk1ODWrCk",
        "outputId": "9a4bfa43-fd2f-437e-d503-b506d3e524cc"
      },
      "execution_count": null,
      "outputs": [
        {
          "execution_count": 19,
          "output_type": "execute_result",
          "data": {
            "text/plain": "male      577\nfemale    314\nName: Sex, dtype: int64"
          },
          "metadata": {}
        }
      ]
    },
    {
      "cell_type": "code",
      "source": [
        "train.groupby('Sex').Survived.value_counts()"
      ],
      "metadata": {
        "_cell_guid": "4458f41b-d5ac-4b65-b402-c7dfb5f7a773",
        "_uuid": "fbed9f476a6a6612f0b896354e24da2d8ab6b5b1",
        "execution": {
          "iopub.status.busy": "2022-10-18T13:54:32.656068Z",
          "iopub.execute_input": "2022-10-18T13:54:32.656467Z",
          "iopub.status.idle": "2022-10-18T13:54:32.667523Z",
          "shell.execute_reply.started": "2022-10-18T13:54:32.656398Z",
          "shell.execute_reply": "2022-10-18T13:54:32.666681Z"
        },
        "trusted": true,
        "id": "K-ys39nsWrCl",
        "outputId": "f1bbec7b-201b-44de-d1ba-41218ddf1b6b"
      },
      "execution_count": null,
      "outputs": [
        {
          "execution_count": 20,
          "output_type": "execute_result",
          "data": {
            "text/plain": "Sex     Survived\nfemale  1           233\n        0            81\nmale    0           468\n        1           109\nName: Survived, dtype: int64"
          },
          "metadata": {}
        }
      ]
    },
    {
      "cell_type": "code",
      "source": [
        "train[['Sex', 'Survived']].groupby(['Sex'], as_index=False).mean()"
      ],
      "metadata": {
        "_cell_guid": "23a3fd2c-4b6d-42b6-aa16-d332b762d5e4",
        "_uuid": "51395890825ac9c6ba5b454942a062e2e3d1aa8b",
        "execution": {
          "iopub.status.busy": "2022-10-18T13:54:35.229587Z",
          "iopub.execute_input": "2022-10-18T13:54:35.230198Z",
          "iopub.status.idle": "2022-10-18T13:54:35.246956Z",
          "shell.execute_reply.started": "2022-10-18T13:54:35.230142Z",
          "shell.execute_reply": "2022-10-18T13:54:35.245785Z"
        },
        "trusted": true,
        "id": "38MjZasZWrCl",
        "outputId": "103be09e-85de-4638-e1e0-845301f97208"
      },
      "execution_count": null,
      "outputs": [
        {
          "execution_count": 21,
          "output_type": "execute_result",
          "data": {
            "text/plain": "      Sex  Survived\n0  female  0.742038\n1    male  0.188908",
            "text/html": "<div>\n<style scoped>\n    .dataframe tbody tr th:only-of-type {\n        vertical-align: middle;\n    }\n\n    .dataframe tbody tr th {\n        vertical-align: top;\n    }\n\n    .dataframe thead th {\n        text-align: right;\n    }\n</style>\n<table border=\"1\" class=\"dataframe\">\n  <thead>\n    <tr style=\"text-align: right;\">\n      <th></th>\n      <th>Sex</th>\n      <th>Survived</th>\n    </tr>\n  </thead>\n  <tbody>\n    <tr>\n      <td>0</td>\n      <td>female</td>\n      <td>0.742038</td>\n    </tr>\n    <tr>\n      <td>1</td>\n      <td>male</td>\n      <td>0.188908</td>\n    </tr>\n  </tbody>\n</table>\n</div>"
          },
          "metadata": {}
        }
      ]
    },
    {
      "cell_type": "code",
      "source": [
        "#train.groupby('Sex').Survived.mean().plot(kind='bar')\n",
        "sns.barplot(x='Sex', y='Survived', data=train, ci=None)"
      ],
      "metadata": {
        "_cell_guid": "74a9672d-a4a1-49dc-b7bb-80af130e3435",
        "_uuid": "dc4b4a37faf5e0769f58d18c13307936fd941c1d",
        "execution": {
          "iopub.status.busy": "2022-10-18T13:54:37.166340Z",
          "iopub.execute_input": "2022-10-18T13:54:37.167120Z",
          "iopub.status.idle": "2022-10-18T13:54:37.320078Z",
          "shell.execute_reply.started": "2022-10-18T13:54:37.167062Z",
          "shell.execute_reply": "2022-10-18T13:54:37.318166Z"
        },
        "trusted": true,
        "id": "JJ0i-RvJWrCl",
        "outputId": "c8115f98-4954-4642-bf7f-9bc3eaeb83f6"
      },
      "execution_count": null,
      "outputs": [
        {
          "execution_count": 22,
          "output_type": "execute_result",
          "data": {
            "text/plain": "<matplotlib.axes._subplots.AxesSubplot at 0x7f7568cbc198>"
          },
          "metadata": {}
        },
        {
          "output_type": "display_data",
          "data": {
            "text/plain": "<Figure size 432x288 with 1 Axes>",
            "image/png": "[encoded data removed]"
          },
          "metadata": {
            "needs_background": "light"
          }
        }
      ]
    },
    {
      "cell_type": "markdown",
      "source": [
        "#### Pclass & Sex vs. Survival\n",
        "\n",
        "Ниже, мы просто находим, сколько мужчин и женщин в каждом Классе (*Pclass*). Затем мы строим столбцовую диаграмму с полученной информацией . Мы обнаруживамем, что среди пассажиров 3 Класса больше мужчин."
      ],
      "metadata": {
        "_cell_guid": "f7f1f02f-3c57-4304-8daa-042f621e9780",
        "_uuid": "95eec0c76da918cdfb5f230de1239057f62cd51d",
        "id": "nO_mnoJkWrCl"
      }
    },
    {
      "cell_type": "code",
      "source": [
        "tab = pd.crosstab(train['Pclass'], train['Sex'])\n",
        "print (tab)"
      ],
      "metadata": {
        "execution": {
          "iopub.status.busy": "2022-10-18T13:54:41.509160Z",
          "iopub.execute_input": "2022-10-18T13:54:41.509773Z",
          "iopub.status.idle": "2022-10-18T13:54:41.543107Z",
          "shell.execute_reply.started": "2022-10-18T13:54:41.509717Z",
          "shell.execute_reply": "2022-10-18T13:54:41.541944Z"
        },
        "trusted": true,
        "id": "EDJejlCKWrCl",
        "outputId": "70001892-bccd-4538-d1d2-fb2b9307a3ab"
      },
      "execution_count": null,
      "outputs": [
        {
          "name": "stdout",
          "text": "Sex     female  male\nPclass              \n1           94   122\n2           76   108\n3          144   347\n",
          "output_type": "stream"
        }
      ]
    },
    {
      "cell_type": "code",
      "source": [
        "tab = pd.crosstab(train['Pclass'], train['Sex'])\n",
        "print (tab)\n",
        "\n",
        "tab.div(tab.sum(1).astype(float), axis=0).plot(kind=\"bar\", stacked=True)\n",
        "plt.xlabel('Pclass')\n",
        "plt.ylabel('Percentage')"
      ],
      "metadata": {
        "_cell_guid": "1f6ab924-c1e4-4caf-af5d-fcbea591dfe5",
        "_uuid": "b55e8de5aa73f1e1be45c4a3b673a9cb8c2c44b5",
        "execution": {
          "iopub.status.busy": "2022-10-18T13:54:43.621111Z",
          "iopub.execute_input": "2022-10-18T13:54:43.621629Z",
          "iopub.status.idle": "2022-10-18T13:54:43.838765Z",
          "shell.execute_reply.started": "2022-10-18T13:54:43.621584Z",
          "shell.execute_reply": "2022-10-18T13:54:43.837661Z"
        },
        "trusted": true,
        "id": "TK0qrH2vWrCm",
        "outputId": "cff78060-1f47-4663-dc99-94e50fa8720f"
      },
      "execution_count": null,
      "outputs": [
        {
          "name": "stdout",
          "text": "Sex     female  male\nPclass              \n1           94   122\n2           76   108\n3          144   347\n",
          "output_type": "stream"
        },
        {
          "execution_count": 24,
          "output_type": "execute_result",
          "data": {
            "text/plain": "Text(0, 0.5, 'Percentage')"
          },
          "metadata": {}
        },
        {
          "output_type": "display_data",
          "data": {
            "text/plain": "<Figure size 432x288 with 1 Axes>",
            "image/png": "[encoded data removed]"
          },
          "metadata": {
            "needs_background": "light"
          }
        }
      ]
    },
    {
      "cell_type": "code",
      "source": [
        "sns.catplot(x='Pclass', y='Survived', hue='Sex', aspect=2, data=train, kind='point')"
      ],
      "metadata": {
        "_cell_guid": "613d943c-b02f-4c74-ace0-7f9de682747e",
        "_uuid": "a918b9ed3f63c04d72400f48bd4fad2f3a9306bd",
        "execution": {
          "iopub.status.busy": "2022-10-18T13:54:47.129659Z",
          "iopub.execute_input": "2022-10-18T13:54:47.130238Z",
          "iopub.status.idle": "2022-10-18T13:54:47.541050Z",
          "shell.execute_reply.started": "2022-10-18T13:54:47.130170Z",
          "shell.execute_reply": "2022-10-18T13:54:47.539785Z"
        },
        "trusted": true,
        "id": "N-BvULmLWrCm",
        "outputId": "f5bd9a1d-e512-472b-b0f5-973aa4801858"
      },
      "execution_count": null,
      "outputs": [
        {
          "execution_count": 25,
          "output_type": "execute_result",
          "data": {
            "text/plain": "<seaborn.axisgrid.FacetGrid at 0x7f7568d1e6d8>"
          },
          "metadata": {}
        },
        {
          "output_type": "display_data",
          "data": {
            "text/plain": "<Figure size 797.975x360 with 1 Axes>",
            "image/png": "[encoded data removed]"
          },
          "metadata": {
            "needs_background": "light"
          }
        }
      ]
    },
    {
      "cell_type": "markdown",
      "source": [
        "Из графика выше, можем видеть, что :\n",
        "- Женщины из 1го и 2го Классов (Pclass) имеют практически 100% шансы на спасение. \n",
        "- Мужчины из 2го и 3го Классов (Pclass) имеют только около 10% шансов на спасене."
      ],
      "metadata": {
        "_cell_guid": "b81a96f3-aeea-4e64-9e98-9632b82e3b08",
        "_uuid": "5f114e20f937fcb35db17bae34568ebe94bb3799",
        "id": "wYE3ReyzWrCo"
      }
    },
    {
      "cell_type": "markdown",
      "source": [
        "-------\n",
        "<a id=\"section-two-homework\"></a>\n",
        "### Задание для самостоятельной работы\n",
        "\n",
        "Необходимо построить и качественно проанализировать (самостоятельно) следующие зависимости в данных:\n",
        "* [ ] Embarked vs. Survival\n",
        "* [ ] Pclass vs. Embarked vs. Survival\n",
        "* [ ] Parch vs. Survival\n",
        "* [ ] SibSp vs. Survival\n",
        "* [ ] Age vs. Survival\n",
        "-------"
      ],
      "metadata": {
        "id": "uR1Muaa4WrCo"
      }
    },
    {
      "cell_type": "markdown",
      "source": [
        "#### Pclass, Sex & Embarked vs. Survival"
      ],
      "metadata": {
        "_cell_guid": "6c3c8e3d-d2bb-4a6b-b41a-cf212214f3cc",
        "_uuid": "d44e729bc65bb9023ac26f3733afd6ad20f7ea47",
        "id": "g3YPlXlRWrCp"
      }
    },
    {
      "cell_type": "code",
      "source": [
        "tab = pd.crosstab(train['Embarked'], train['Pclass'])\n",
        "print (tab)\n"
      ],
      "metadata": {
        "execution": {
          "iopub.status.busy": "2022-10-18T13:54:54.605945Z",
          "iopub.execute_input": "2022-10-18T13:54:54.606291Z",
          "iopub.status.idle": "2022-10-18T13:54:54.635671Z",
          "shell.execute_reply.started": "2022-10-18T13:54:54.606239Z",
          "shell.execute_reply": "2022-10-18T13:54:54.634310Z"
        },
        "trusted": true,
        "id": "2VwEElt5WrCp",
        "outputId": "d8f0939f-9b6d-48af-837e-703848406c20"
      },
      "execution_count": null,
      "outputs": [
        {
          "name": "stdout",
          "text": "Pclass      1    2    3\nEmbarked               \nC          85   17   66\nQ           2    3   72\nS         127  164  353\n",
          "output_type": "stream"
        }
      ]
    },
    {
      "cell_type": "code",
      "source": [
        "tab.sum(0)"
      ],
      "metadata": {
        "execution": {
          "iopub.status.busy": "2022-10-18T13:54:56.532755Z",
          "iopub.execute_input": "2022-10-18T13:54:56.533132Z",
          "iopub.status.idle": "2022-10-18T13:54:56.544326Z",
          "shell.execute_reply.started": "2022-10-18T13:54:56.533077Z",
          "shell.execute_reply": "2022-10-18T13:54:56.543262Z"
        },
        "trusted": true,
        "id": "nKkTQqtCWrCp",
        "outputId": "d72c927a-f9c6-4be8-c151-c6d7e25c40a6"
      },
      "execution_count": null,
      "outputs": [
        {
          "execution_count": 27,
          "output_type": "execute_result",
          "data": {
            "text/plain": "Pclass\n1    214\n2    184\n3    491\ndtype: int64"
          },
          "metadata": {}
        }
      ]
    },
    {
      "cell_type": "code",
      "source": [
        "tab.div(tab.sum(1).astype(float), axis=0).plot(kind=\"bar\", stacked=True)\n",
        "plt.xlabel('Embarked')\n",
        "plt.ylabel('Percentage')"
      ],
      "metadata": {
        "execution": {
          "iopub.status.busy": "2022-10-18T13:54:58.745006Z",
          "iopub.execute_input": "2022-10-18T13:54:58.745748Z",
          "iopub.status.idle": "2022-10-18T13:54:58.956721Z",
          "shell.execute_reply.started": "2022-10-18T13:54:58.745682Z",
          "shell.execute_reply": "2022-10-18T13:54:58.954992Z"
        },
        "trusted": true,
        "id": "7ch8QF8tWrCp",
        "outputId": "7dbaa0e3-dde2-4e78-852c-cfc456836065"
      },
      "execution_count": null,
      "outputs": [
        {
          "execution_count": 28,
          "output_type": "execute_result",
          "data": {
            "text/plain": "Text(0, 0.5, 'Percentage')"
          },
          "metadata": {}
        },
        {
          "output_type": "display_data",
          "data": {
            "text/plain": "<Figure size 432x288 with 1 Axes>",
            "image/png": "[encoded data removed]"
          },
          "metadata": {
            "needs_background": "light"
          }
        }
      ]
    },
    {
      "cell_type": "markdown",
      "source": [
        "Из этого графика можно увидеть, что :\n",
        "- Почти все женщины из 1го и 2го Класса спаслись.\n",
        "- Жертвы серди женщин были в основном из 3 класса.\n",
        "- Мужчины только из 1 класса имеют несколько большие шансы на спасение, чем из 2го и 3го Классов.\n",
        "\n",
        "Давайте посмотрим, есть ли какая-либо зависимость от пунтка отправления. Для этого необходимо обратиться к карте следования Титаника. S - порт Саутгемптона, является первым на пути следования, С - Шербург - второй порт посадки пассажиров, Q - Квинстаун - последний по пути отправления.\n",
        "\n",
        "![](https://upload.wikimedia.org/wikipedia/commons/thumb/1/1f/%28ru%29_Titanic_voyage_map.svg/1920px-%28ru%29_Titanic_voyage_map.svg.png)\n",
        "\n",
        "Есть ли какая-то зависимость от порта посадки? Исходя из графиков мы видим, что вероятность спасения женщин увеличивается по всем классам пассажирова с более поздним портом посадки. У мужчин эта логика не срабатывает для порта Квинстауна только. Вполне возможно, что это связано с загрузкой пассажиров, когда более поздние занимают места на более высоких палубах (аналогия - погрузка пассажиров в самолет), чтобы и центр масс был ниже и последующие пассажиры не мешалии не проходили мимо уже расположившихся."
      ],
      "metadata": {
        "_cell_guid": "317baafa-0be2-4a90-906e-20c7602bb57e",
        "_uuid": "00b1b5c92f2b58d2b593aacaf44c40c4fcb9f8d0",
        "id": "yKGOcqy7WrCq"
      }
    },
    {
      "cell_type": "markdown",
      "source": [
        "#### Embarked vs. Survived"
      ],
      "metadata": {
        "_cell_guid": "2be5e738-7ce6-4894-b551-be27ed1e2e14",
        "_uuid": "6af0dc82a865ed3f9df1e2541457f5386aa22a92",
        "id": "_UEiaWIJWrCq"
      }
    },
    {
      "cell_type": "code",
      "source": [
        "train.Embarked.value_counts()"
      ],
      "metadata": {
        "_cell_guid": "0495cd70-bc41-4783-aa45-2ec384ef5bf3",
        "_uuid": "17e10d07ba73773b4d67cf2228818454607582da",
        "execution": {
          "iopub.status.busy": "2022-10-18T13:55:02.118524Z",
          "iopub.execute_input": "2022-10-18T13:55:02.119195Z",
          "iopub.status.idle": "2022-10-18T13:55:02.128581Z",
          "shell.execute_reply.started": "2022-10-18T13:55:02.119139Z",
          "shell.execute_reply": "2022-10-18T13:55:02.127600Z"
        },
        "trusted": true,
        "id": "n2Bq81wcWrCq",
        "outputId": "510806f6-08b7-40f8-f775-2df5acab45b7"
      },
      "execution_count": null,
      "outputs": [
        {
          "execution_count": 29,
          "output_type": "execute_result",
          "data": {
            "text/plain": "S    644\nC    168\nQ     77\nName: Embarked, dtype: int64"
          },
          "metadata": {}
        }
      ]
    },
    {
      "cell_type": "code",
      "source": [
        "train[['Embarked', 'Survived']].groupby(['Embarked']).mean()"
      ],
      "metadata": {
        "_cell_guid": "fdbbaf29-5a59-490e-b9fc-fa02f0673047",
        "_uuid": "03a5505bba0411c73d2723cf54f2cadadc517ce4",
        "_kg_hide-output": true,
        "_kg_hide-input": true,
        "execution": {
          "iopub.status.busy": "2022-10-18T13:55:04.253805Z",
          "iopub.execute_input": "2022-10-18T13:55:04.254432Z",
          "iopub.status.idle": "2022-10-18T13:55:04.268376Z",
          "shell.execute_reply.started": "2022-10-18T13:55:04.254377Z",
          "shell.execute_reply": "2022-10-18T13:55:04.267595Z"
        },
        "trusted": true,
        "id": "ffU8BBv2WrCq",
        "outputId": "a8508676-2e63-4b9d-8978-85af231a57d9"
      },
      "execution_count": null,
      "outputs": [
        {
          "execution_count": 30,
          "output_type": "execute_result",
          "data": {
            "text/plain": "          Survived\nEmbarked          \nC         0.553571\nQ         0.389610\nS         0.336957",
            "text/html": "<div>\n<style scoped>\n    .dataframe tbody tr th:only-of-type {\n        vertical-align: middle;\n    }\n\n    .dataframe tbody tr th {\n        vertical-align: top;\n    }\n\n    .dataframe thead th {\n        text-align: right;\n    }\n</style>\n<table border=\"1\" class=\"dataframe\">\n  <thead>\n    <tr style=\"text-align: right;\">\n      <th></th>\n      <th>Survived</th>\n    </tr>\n    <tr>\n      <th>Embarked</th>\n      <th></th>\n    </tr>\n  </thead>\n  <tbody>\n    <tr>\n      <td>C</td>\n      <td>0.553571</td>\n    </tr>\n    <tr>\n      <td>Q</td>\n      <td>0.389610</td>\n    </tr>\n    <tr>\n      <td>S</td>\n      <td>0.336957</td>\n    </tr>\n  </tbody>\n</table>\n</div>"
          },
          "metadata": {}
        }
      ]
    },
    {
      "cell_type": "code",
      "source": [
        "#train.groupby('Embarked').Survived.mean().plot(kind='bar')\n",
        "sns.barplot(x='Embarked', y='Survived', data=train, ci=None)"
      ],
      "metadata": {
        "_cell_guid": "ac2ac7f7-a310-43e6-babc-bdde16c151c0",
        "_uuid": "6f3cc8762ac6729c72cfd2de56f1c520b0a38fc5",
        "_kg_hide-input": false,
        "_kg_hide-output": false,
        "execution": {
          "iopub.status.busy": "2022-10-18T13:55:14.832936Z",
          "iopub.execute_input": "2022-10-18T13:55:14.833273Z",
          "iopub.status.idle": "2022-10-18T13:55:14.975201Z",
          "shell.execute_reply.started": "2022-10-18T13:55:14.833225Z",
          "shell.execute_reply": "2022-10-18T13:55:14.974328Z"
        },
        "trusted": true,
        "id": "nbdQAv_VWrCq",
        "outputId": "ded9bc32-3259-4308-ca81-5a9c58092eba"
      },
      "execution_count": null,
      "outputs": [
        {
          "execution_count": 32,
          "output_type": "execute_result",
          "data": {
            "text/plain": "<matplotlib.axes._subplots.AxesSubplot at 0x7f7568ae2630>"
          },
          "metadata": {}
        },
        {
          "output_type": "display_data",
          "data": {
            "text/plain": "<Figure size 432x288 with 1 Axes>",
            "image/png": "[encoded data removed]"
          },
          "metadata": {
            "needs_background": "light"
          }
        }
      ]
    },
    {
      "cell_type": "markdown",
      "source": [
        "#### Parch vs. Survival"
      ],
      "metadata": {
        "_cell_guid": "0ba446c0-bbd5-4fd5-9865-e8cec0c0db1e",
        "_uuid": "366add4366f3bae0855cedd296ca03b9ecacd9c9",
        "id": "M-Oa7lavWrCq"
      }
    },
    {
      "cell_type": "code",
      "source": [
        "train.Parch.value_counts()"
      ],
      "metadata": {
        "_cell_guid": "e1ff4289-e4a4-4dab-a2a8-aea014f191f3",
        "_uuid": "559e007c8a8f1038d9c16d19812ce98e29370fe5",
        "execution": {
          "iopub.status.busy": "2022-10-18T13:55:17.086350Z",
          "iopub.execute_input": "2022-10-18T13:55:17.086749Z",
          "iopub.status.idle": "2022-10-18T13:55:17.096102Z",
          "shell.execute_reply.started": "2022-10-18T13:55:17.086684Z",
          "shell.execute_reply": "2022-10-18T13:55:17.094997Z"
        },
        "trusted": true,
        "id": "kgN93TDqWrCr",
        "outputId": "fae33ced-282e-4b94-f4f7-befba4602995"
      },
      "execution_count": null,
      "outputs": [
        {
          "execution_count": 33,
          "output_type": "execute_result",
          "data": {
            "text/plain": "0    678\n1    118\n2     80\n5      5\n3      5\n4      4\n6      1\nName: Parch, dtype: int64"
          },
          "metadata": {}
        }
      ]
    },
    {
      "cell_type": "code",
      "source": [
        "train.groupby('Parch').Survived.value_counts()"
      ],
      "metadata": {
        "_cell_guid": "4782685d-a2a7-4b1e-bdc1-8528f5176ba3",
        "_uuid": "ba8cbe12ce5aa49376a98a370507ad36eb51b53a",
        "execution": {
          "iopub.status.busy": "2022-10-18T13:55:19.293085Z",
          "iopub.execute_input": "2022-10-18T13:55:19.295229Z",
          "iopub.status.idle": "2022-10-18T13:55:19.306203Z",
          "shell.execute_reply.started": "2022-10-18T13:55:19.295138Z",
          "shell.execute_reply": "2022-10-18T13:55:19.305095Z"
        },
        "trusted": true,
        "id": "7Tt2_jssWrCr",
        "outputId": "c053ef3c-84a1-4948-bcec-8b26be6bd805"
      },
      "execution_count": null,
      "outputs": [
        {
          "execution_count": 34,
          "output_type": "execute_result",
          "data": {
            "text/plain": "Parch  Survived\n0      0           445\n       1           233\n1      1            65\n       0            53\n2      0            40\n       1            40\n3      1             3\n       0             2\n4      0             4\n5      0             4\n       1             1\n6      0             1\nName: Survived, dtype: int64"
          },
          "metadata": {}
        }
      ]
    },
    {
      "cell_type": "code",
      "source": [
        "train[['Parch', 'Survived']].groupby(['Parch'], as_index=False).mean()"
      ],
      "metadata": {
        "_cell_guid": "07156c23-f8ec-426d-8a2a-04c2d2f7d676",
        "_uuid": "a06d63e60664e5f78d134ee45522538c5c67c7b6",
        "execution": {
          "iopub.status.busy": "2022-10-18T13:55:21.462371Z",
          "iopub.execute_input": "2022-10-18T13:55:21.463197Z",
          "iopub.status.idle": "2022-10-18T13:55:21.480165Z",
          "shell.execute_reply.started": "2022-10-18T13:55:21.463123Z",
          "shell.execute_reply": "2022-10-18T13:55:21.478950Z"
        },
        "trusted": true,
        "id": "PZK9edNZWrCr",
        "outputId": "73a17152-ac31-4e39-fb23-7dccbf2788ae"
      },
      "execution_count": null,
      "outputs": [
        {
          "execution_count": 35,
          "output_type": "execute_result",
          "data": {
            "text/plain": "   Parch  Survived\n0      0  0.343658\n1      1  0.550847\n2      2  0.500000\n3      3  0.600000\n4      4  0.000000\n5      5  0.200000\n6      6  0.000000",
            "text/html": "<div>\n<style scoped>\n    .dataframe tbody tr th:only-of-type {\n        vertical-align: middle;\n    }\n\n    .dataframe tbody tr th {\n        vertical-align: top;\n    }\n\n    .dataframe thead th {\n        text-align: right;\n    }\n</style>\n<table border=\"1\" class=\"dataframe\">\n  <thead>\n    <tr style=\"text-align: right;\">\n      <th></th>\n      <th>Parch</th>\n      <th>Survived</th>\n    </tr>\n  </thead>\n  <tbody>\n    <tr>\n      <td>0</td>\n      <td>0</td>\n      <td>0.343658</td>\n    </tr>\n    <tr>\n      <td>1</td>\n      <td>1</td>\n      <td>0.550847</td>\n    </tr>\n    <tr>\n      <td>2</td>\n      <td>2</td>\n      <td>0.500000</td>\n    </tr>\n    <tr>\n      <td>3</td>\n      <td>3</td>\n      <td>0.600000</td>\n    </tr>\n    <tr>\n      <td>4</td>\n      <td>4</td>\n      <td>0.000000</td>\n    </tr>\n    <tr>\n      <td>5</td>\n      <td>5</td>\n      <td>0.200000</td>\n    </tr>\n    <tr>\n      <td>6</td>\n      <td>6</td>\n      <td>0.000000</td>\n    </tr>\n  </tbody>\n</table>\n</div>"
          },
          "metadata": {}
        }
      ]
    },
    {
      "cell_type": "code",
      "source": [
        "#train.groupby('Parch').Survived.mean().plot(kind='bar')\n",
        "sns.barplot(x='Parch', y='Survived', ci=None, data=train) # ci=None will hide the error bar"
      ],
      "metadata": {
        "_cell_guid": "a7a20f85-6f3f-449b-87ae-6b4a0db5a04a",
        "_uuid": "20cdb7c7848d7e05b24864811990499217e8ff0d",
        "execution": {
          "iopub.status.busy": "2022-10-18T13:55:23.772701Z",
          "iopub.execute_input": "2022-10-18T13:55:23.773231Z",
          "iopub.status.idle": "2022-10-18T13:55:24.024647Z",
          "shell.execute_reply.started": "2022-10-18T13:55:23.773160Z",
          "shell.execute_reply": "2022-10-18T13:55:24.023535Z"
        },
        "trusted": true,
        "id": "YpJ2qmQLWrCr",
        "outputId": "ab05f52c-1484-4a34-fb21-213ae2b7ce62"
      },
      "execution_count": null,
      "outputs": [
        {
          "execution_count": 36,
          "output_type": "execute_result",
          "data": {
            "text/plain": "<matplotlib.axes._subplots.AxesSubplot at 0x7f7568aaf940>"
          },
          "metadata": {}
        },
        {
          "output_type": "display_data",
          "data": {
            "text/plain": "<Figure size 432x288 with 1 Axes>",
            "image/png": "[encoded data removed]"
          },
          "metadata": {
            "needs_background": "light"
          }
        }
      ]
    },
    {
      "cell_type": "markdown",
      "source": [
        "#### SibSp vs. Survival"
      ],
      "metadata": {
        "_cell_guid": "e17f4cec-5b87-4145-9682-36c1074cab13",
        "_uuid": "ac0c853cd98c65e23c479fa4ac095368dc7611a3",
        "id": "mfmc_iH9WrCr"
      }
    },
    {
      "cell_type": "code",
      "source": [
        "train.SibSp.value_counts()"
      ],
      "metadata": {
        "_cell_guid": "aa7c549b-dece-47d6-ae59-904bfacd7e7b",
        "_uuid": "73dec216cd3f086d6234292d5de07a7b38235aee",
        "execution": {
          "iopub.status.busy": "2022-10-18T13:55:26.917816Z",
          "iopub.execute_input": "2022-10-18T13:55:26.918178Z",
          "iopub.status.idle": "2022-10-18T13:55:26.926634Z",
          "shell.execute_reply.started": "2022-10-18T13:55:26.918126Z",
          "shell.execute_reply": "2022-10-18T13:55:26.925742Z"
        },
        "trusted": true,
        "id": "wXt06rGfWrCr",
        "outputId": "7e88b06e-376e-45a3-af80-ca3d43f9b3ca"
      },
      "execution_count": null,
      "outputs": [
        {
          "execution_count": 37,
          "output_type": "execute_result",
          "data": {
            "text/plain": "0    608\n1    209\n2     28\n4     18\n3     16\n8      7\n5      5\nName: SibSp, dtype: int64"
          },
          "metadata": {}
        }
      ]
    },
    {
      "cell_type": "code",
      "source": [
        "train.groupby('SibSp').Survived.value_counts()"
      ],
      "metadata": {
        "_cell_guid": "4928fd7f-119e-4236-be66-fdf763789935",
        "_uuid": "ea275ec5c650b60c2c8f2fe1a9978dc62dd92971",
        "execution": {
          "iopub.status.busy": "2022-10-18T13:55:29.261620Z",
          "iopub.execute_input": "2022-10-18T13:55:29.262028Z",
          "iopub.status.idle": "2022-10-18T13:55:29.273439Z",
          "shell.execute_reply.started": "2022-10-18T13:55:29.261954Z",
          "shell.execute_reply": "2022-10-18T13:55:29.272334Z"
        },
        "trusted": true,
        "id": "BXaT1zMMWrCs",
        "outputId": "04c7f24b-01be-4f1c-b5ca-3f064ebb64f8"
      },
      "execution_count": null,
      "outputs": [
        {
          "execution_count": 38,
          "output_type": "execute_result",
          "data": {
            "text/plain": "SibSp  Survived\n0      0           398\n       1           210\n1      1           112\n       0            97\n2      0            15\n       1            13\n3      0            12\n       1             4\n4      0            15\n       1             3\n5      0             5\n8      0             7\nName: Survived, dtype: int64"
          },
          "metadata": {}
        }
      ]
    },
    {
      "cell_type": "code",
      "source": [
        "train[['SibSp', 'Survived']].groupby(['SibSp'], as_index=False).mean()"
      ],
      "metadata": {
        "_cell_guid": "d272b3a0-3113-43f3-8fc1-2b35c0e9f1e1",
        "_uuid": "185dc0cf1d7747ff010f35f62db9533fcafd2a46",
        "execution": {
          "iopub.status.busy": "2022-10-18T13:55:31.381372Z",
          "iopub.execute_input": "2022-10-18T13:55:31.382089Z",
          "iopub.status.idle": "2022-10-18T13:55:31.400944Z",
          "shell.execute_reply.started": "2022-10-18T13:55:31.382017Z",
          "shell.execute_reply": "2022-10-18T13:55:31.399275Z"
        },
        "trusted": true,
        "id": "an5ggmaDWrCs",
        "outputId": "42dfe593-a90c-4b07-8150-20d796fe6700"
      },
      "execution_count": null,
      "outputs": [
        {
          "execution_count": 39,
          "output_type": "execute_result",
          "data": {
            "text/plain": "   SibSp  Survived\n0      0  0.345395\n1      1  0.535885\n2      2  0.464286\n3      3  0.250000\n4      4  0.166667\n5      5  0.000000\n6      8  0.000000",
            "text/html": "<div>\n<style scoped>\n    .dataframe tbody tr th:only-of-type {\n        vertical-align: middle;\n    }\n\n    .dataframe tbody tr th {\n        vertical-align: top;\n    }\n\n    .dataframe thead th {\n        text-align: right;\n    }\n</style>\n<table border=\"1\" class=\"dataframe\">\n  <thead>\n    <tr style=\"text-align: right;\">\n      <th></th>\n      <th>SibSp</th>\n      <th>Survived</th>\n    </tr>\n  </thead>\n  <tbody>\n    <tr>\n      <td>0</td>\n      <td>0</td>\n      <td>0.345395</td>\n    </tr>\n    <tr>\n      <td>1</td>\n      <td>1</td>\n      <td>0.535885</td>\n    </tr>\n    <tr>\n      <td>2</td>\n      <td>2</td>\n      <td>0.464286</td>\n    </tr>\n    <tr>\n      <td>3</td>\n      <td>3</td>\n      <td>0.250000</td>\n    </tr>\n    <tr>\n      <td>4</td>\n      <td>4</td>\n      <td>0.166667</td>\n    </tr>\n    <tr>\n      <td>5</td>\n      <td>5</td>\n      <td>0.000000</td>\n    </tr>\n    <tr>\n      <td>6</td>\n      <td>8</td>\n      <td>0.000000</td>\n    </tr>\n  </tbody>\n</table>\n</div>"
          },
          "metadata": {}
        }
      ]
    },
    {
      "cell_type": "code",
      "source": [
        "#train.groupby('SibSp').Survived.mean().plot(kind='bar')\n",
        "sns.barplot(x='SibSp', y='Survived', ci=None, data=train) # ci=None will hide the error bar"
      ],
      "metadata": {
        "_cell_guid": "e2974991-3fcc-40fe-a977-4084a74dbbca",
        "_uuid": "b91cd2cda757615b442a664e3ec58cf55a30a322",
        "execution": {
          "iopub.status.busy": "2022-10-18T13:55:33.937956Z",
          "iopub.execute_input": "2022-10-18T13:55:33.939200Z",
          "iopub.status.idle": "2022-10-18T13:55:34.117562Z",
          "shell.execute_reply.started": "2022-10-18T13:55:33.939122Z",
          "shell.execute_reply": "2022-10-18T13:55:34.116367Z"
        },
        "trusted": true,
        "id": "bqsUWLyGWrCs",
        "outputId": "ef919e93-d63f-473e-8eae-2518bfcd2866"
      },
      "execution_count": null,
      "outputs": [
        {
          "execution_count": 40,
          "output_type": "execute_result",
          "data": {
            "text/plain": "<matplotlib.axes._subplots.AxesSubplot at 0x7f7568a049e8>"
          },
          "metadata": {}
        },
        {
          "output_type": "display_data",
          "data": {
            "text/plain": "<Figure size 432x288 with 1 Axes>",
            "image/png": "[encoded data removed]"
          },
          "metadata": {
            "needs_background": "light"
          }
        }
      ]
    },
    {
      "cell_type": "markdown",
      "source": [
        "#### Age vs. Survival"
      ],
      "metadata": {
        "_cell_guid": "aeb5d0d6-043f-4ad6-9dd1-c8582a76f937",
        "_uuid": "3f6bfb7c78b582270ef47a77ac1fb7cd8d1f1a05",
        "id": "g50OT5sDWrCs"
      }
    },
    {
      "cell_type": "code",
      "source": [
        "fig = plt.figure(figsize=(12,4))\n",
        "ax1 = fig.add_subplot(131)\n",
        "ax2 = fig.add_subplot(132)\n",
        "ax3 = fig.add_subplot(133)\n",
        "\n",
        "\n",
        "sns.violinplot(x=\"Embarked\", y=\"Age\", hue=\"Survived\", data=train, split=True, ax=ax1)\n",
        "sns.violinplot(x=\"Pclass\", y=\"Age\", hue=\"Survived\", data=train, split=True, ax=ax2)\n",
        "sns.violinplot(x=\"Sex\", y=\"Age\", hue=\"Survived\", data=train, split=True, ax=ax3)"
      ],
      "metadata": {
        "_cell_guid": "5de76f16-0770-4d3a-94af-1a5f885ad513",
        "_uuid": "4b9fd4c0dc8fa56a392419cded332a5479cc9c11",
        "execution": {
          "iopub.status.busy": "2022-10-18T13:55:36.350478Z",
          "iopub.execute_input": "2022-10-18T13:55:36.351083Z",
          "iopub.status.idle": "2022-10-18T13:55:37.022181Z",
          "shell.execute_reply.started": "2022-10-18T13:55:36.351008Z",
          "shell.execute_reply": "2022-10-18T13:55:37.021041Z"
        },
        "trusted": true,
        "id": "9WSzFFFaWrCs",
        "outputId": "40e09f06-0dec-48a5-c5f0-3cf06e79691d"
      },
      "execution_count": null,
      "outputs": [
        {
          "execution_count": 41,
          "output_type": "execute_result",
          "data": {
            "text/plain": "<matplotlib.axes._subplots.AxesSubplot at 0x7f75689444a8>"
          },
          "metadata": {}
        },
        {
          "output_type": "display_data",
          "data": {
            "text/plain": "<Figure size 864x288 with 3 Axes>",
            "image/png": "[encoded data removed]"
          },
          "metadata": {
            "needs_background": "light"
          }
        }
      ]
    },
    {
      "cell_type": "markdown",
      "source": [
        "Из графика (```.violinplot(..)```) по переменной *Pclass* можно увидеть, что:\n",
        "- 1st Pclass пассажиры имеют очень маль детей по сравнению с двумя другими классами.\n",
        "- 1st Plcass пассажиры по возрасту намного старше по сравнению с двумя другими классами.\n",
        "- Почти все дети (в возрасте от 0 до 10) пассажиров 2го класса спаслись.\n",
        "- Большинству детей пассажиров 3го класса удалось спастись.\n",
        "- Более молодые люди из первого класса спасались по сравнению к более пожилым.\n",
        "\n",
        "Из графика (=violinplot) по полу *Sex* можно увидеть, что:\n",
        "- Большинство детей мужского пола (в возрасте от 0 до 14) спаслись.\n",
        "- Девушки и жещины в возрасте от 18 до 40 имели (в оригинале - имеют) больший шанс на спасение."
      ],
      "metadata": {
        "_cell_guid": "483c8710-c93a-4f26-89ea-41f7309c24b9",
        "_uuid": "fc51f05e33676cef147064d01d5fed5576daa554",
        "id": "YWI9LbuYWrCs"
      }
    },
    {
      "cell_type": "code",
      "source": [
        "total_survived = train[train['Survived']==1]\n",
        "total_not_survived = train[train['Survived']==0]\n",
        "male_survived = train[(train['Survived']==1) & (train['Sex']==\"male\")]\n",
        "#male_survived = total_survived[total_survived['Sex']=='male']\n",
        "female_survived = train[(train['Survived']==1) & (train['Sex']==\"female\")]\n",
        "male_not_survived = train[(train['Survived']==0) & (train['Sex']==\"male\")]\n",
        "female_not_survived = train[(train['Survived']==0) & (train['Sex']==\"female\")]\n",
        "\n",
        "fig = plt.figure(figsize=[15,10])\n",
        "ax1 = fig.add_subplot(211)\n",
        "sns.distplot(total_survived['Age'].dropna().values, bins=range(0, 81, 1), kde=False, color='blue', ax = ax1)\n",
        "sns.distplot(total_not_survived['Age'].dropna().values, bins=range(0, 81, 1), kde=False, color='red', axlabel='Age', ax = ax1)\n",
        "\n",
        "ax2 = fig.add_subplot(223)\n",
        "sns.distplot(female_survived['Age'].dropna().values, bins=range(0, 81, 1), kde=False, color='blue', ax = ax2)\n",
        "sns.distplot(female_not_survived['Age'].dropna().values, bins=range(0, 81, 1), kde=False, color='red', axlabel='Female Age', ax = ax2)\n",
        "\n",
        "ax3 = fig.add_subplot(224)\n",
        "sns.distplot(male_survived['Age'].dropna().values, bins=range(0, 81, 1), kde=False, color='blue', ax=ax3)\n",
        "sns.distplot(male_not_survived['Age'].dropna().values, bins=range(0, 81, 1), kde=False, color='red', axlabel='Male Age', ax=ax3)\n"
      ],
      "metadata": {
        "_cell_guid": "5aaff304-95ca-47a5-82ea-043a754aa566",
        "_uuid": "a27f29a7b85ce41d6c7805da4e3b5f7bd99131b9",
        "execution": {
          "iopub.status.busy": "2022-10-18T13:55:44.383288Z",
          "iopub.execute_input": "2022-10-18T13:55:44.383636Z",
          "iopub.status.idle": "2022-10-18T13:55:46.136389Z",
          "shell.execute_reply.started": "2022-10-18T13:55:44.383587Z",
          "shell.execute_reply": "2022-10-18T13:55:46.135364Z"
        },
        "trusted": true,
        "id": "CXiIEN6pWrCt",
        "outputId": "a1cea8a8-8d32-4d0e-f41f-7431d4be1767"
      },
      "execution_count": null,
      "outputs": [
        {
          "execution_count": 42,
          "output_type": "execute_result",
          "data": {
            "text/plain": "<matplotlib.axes._subplots.AxesSubplot at 0x7f7568630eb8>"
          },
          "metadata": {}
        },
        {
          "output_type": "display_data",
          "data": {
            "text/plain": "<Figure size 1080x720 with 3 Axes>",
            "image/png": "[encoded data removed]"
          },
          "metadata": {
            "needs_background": "light"
          }
        }
      ]
    },
    {
      "cell_type": "markdown",
      "source": [
        "Из графиков сверху следует, что:\n",
        "- Объединя вместе пассажирова мужского и женского полов, можно заметить, что дети в возрасте от 0 до 5 лет имеют больше шансов на спасение.\n",
        "- Девушки/Женщины в возрасте от \"18 до 40\" и \"старше 50\" имеют более высокие шансы.\n",
        "- Мальчики/Юноши в возрасте от 0 до 14 имеют большие шансы на спасение."
      ],
      "metadata": {
        "_cell_guid": "41e4e217-e98d-4648-9a18-41f6b031a93b",
        "_uuid": "9c6e39a8fe1becb94c1d473513bedccf28b0ac3b",
        "id": "KVcJSQQiWrCt"
      }
    },
    {
      "cell_type": "markdown",
      "source": [
        "<a id=\"section-two-correlation\"></a>\n",
        "### Корреляция признаков\n",
        "\n",
        "*Что нам это дает?* - с помощью подобного инструмента мы можем оценить зависимости между данными. Так \"тепловая\" карта корреляций разных признаков отображает:\n",
        "\n",
        "> **Положительные** значение = Положительные корреляция, т.е. возрастание по одному признаку соответсвует возрастанию по другому признаку и наоборот.\n",
        ">\n",
        "> **Орицательные** значения = Обратные/Негативные корреляции, т.е. возрастание по одному признаку, влечет уменьшение иного, и наоборот.\n",
        "\n",
        "В нашем случае, мы фокусируемся на тех признаках, которые имеют сильные положительные и отрицательные корреляции с признаком *Survived*. \n",
        "\n",
        ">Почему?  Потому что это означает, что прогнозирование значения *Survived* (а именно это и надо предсказать) имеет прямую зависимость с признакми с положительное корреляцией, и обратную - с отрицательными, т.о. если мы инвертируем обратные значения, то они тоже перейдут в разряд положительных корреляций."
      ],
      "metadata": {
        "_cell_guid": "6f2389e2-5f94-4afb-87e1-028350de945d",
        "_uuid": "00b44aefe6f10d7abc759461075e4a4688c1c4f5",
        "id": "MGDrI0tdWrCt"
      }
    },
    {
      "cell_type": "code",
      "source": [
        "corr_matrix = train.corr()\n",
        "corr_matrix"
      ],
      "metadata": {
        "execution": {
          "iopub.status.busy": "2022-10-18T13:55:50.381775Z",
          "iopub.execute_input": "2022-10-18T13:55:50.382118Z",
          "iopub.status.idle": "2022-10-18T13:55:50.401098Z",
          "shell.execute_reply.started": "2022-10-18T13:55:50.382068Z",
          "shell.execute_reply": "2022-10-18T13:55:50.399727Z"
        },
        "trusted": true,
        "id": "4OS1Z1ZzWrCt",
        "outputId": "ccf0a81f-0379-43ea-9c0e-f0416bb66583"
      },
      "execution_count": null,
      "outputs": [
        {
          "execution_count": 43,
          "output_type": "execute_result",
          "data": {
            "text/plain": "             PassengerId  Survived    Pclass       Age     SibSp     Parch  \\\nPassengerId     1.000000 -0.005007 -0.035144  0.036847 -0.057527 -0.001652   \nSurvived       -0.005007  1.000000 -0.338481 -0.077221 -0.035322  0.081629   \nPclass         -0.035144 -0.338481  1.000000 -0.369226  0.083081  0.018443   \nAge             0.036847 -0.077221 -0.369226  1.000000 -0.308247 -0.189119   \nSibSp          -0.057527 -0.035322  0.083081 -0.308247  1.000000  0.414838   \nParch          -0.001652  0.081629  0.018443 -0.189119  0.414838  1.000000   \nFare            0.012658  0.257307 -0.549500  0.096067  0.159651  0.216225   \n\n                 Fare  \nPassengerId  0.012658  \nSurvived     0.257307  \nPclass      -0.549500  \nAge          0.096067  \nSibSp        0.159651  \nParch        0.216225  \nFare         1.000000  ",
            "text/html": "<div>\n<style scoped>\n    .dataframe tbody tr th:only-of-type {\n        vertical-align: middle;\n    }\n\n    .dataframe tbody tr th {\n        vertical-align: top;\n    }\n\n    .dataframe thead th {\n        text-align: right;\n    }\n</style>\n<table border=\"1\" class=\"dataframe\">\n  <thead>\n    <tr style=\"text-align: right;\">\n      <th></th>\n      <th>PassengerId</th>\n      <th>Survived</th>\n      <th>Pclass</th>\n      <th>Age</th>\n      <th>SibSp</th>\n      <th>Parch</th>\n      <th>Fare</th>\n    </tr>\n  </thead>\n  <tbody>\n    <tr>\n      <td>PassengerId</td>\n      <td>1.000000</td>\n      <td>-0.005007</td>\n      <td>-0.035144</td>\n      <td>0.036847</td>\n      <td>-0.057527</td>\n      <td>-0.001652</td>\n      <td>0.012658</td>\n    </tr>\n    <tr>\n      <td>Survived</td>\n      <td>-0.005007</td>\n      <td>1.000000</td>\n      <td>-0.338481</td>\n      <td>-0.077221</td>\n      <td>-0.035322</td>\n      <td>0.081629</td>\n      <td>0.257307</td>\n    </tr>\n    <tr>\n      <td>Pclass</td>\n      <td>-0.035144</td>\n      <td>-0.338481</td>\n      <td>1.000000</td>\n      <td>-0.369226</td>\n      <td>0.083081</td>\n      <td>0.018443</td>\n      <td>-0.549500</td>\n    </tr>\n    <tr>\n      <td>Age</td>\n      <td>0.036847</td>\n      <td>-0.077221</td>\n      <td>-0.369226</td>\n      <td>1.000000</td>\n      <td>-0.308247</td>\n      <td>-0.189119</td>\n      <td>0.096067</td>\n    </tr>\n    <tr>\n      <td>SibSp</td>\n      <td>-0.057527</td>\n      <td>-0.035322</td>\n      <td>0.083081</td>\n      <td>-0.308247</td>\n      <td>1.000000</td>\n      <td>0.414838</td>\n      <td>0.159651</td>\n    </tr>\n    <tr>\n      <td>Parch</td>\n      <td>-0.001652</td>\n      <td>0.081629</td>\n      <td>0.018443</td>\n      <td>-0.189119</td>\n      <td>0.414838</td>\n      <td>1.000000</td>\n      <td>0.216225</td>\n    </tr>\n    <tr>\n      <td>Fare</td>\n      <td>0.012658</td>\n      <td>0.257307</td>\n      <td>-0.549500</td>\n      <td>0.096067</td>\n      <td>0.159651</td>\n      <td>0.216225</td>\n      <td>1.000000</td>\n    </tr>\n  </tbody>\n</table>\n</div>"
          },
          "metadata": {}
        }
      ]
    },
    {
      "cell_type": "code",
      "source": [
        "plt.figure(figsize=(15,6))\n",
        "sns.heatmap(corr_matrix, vmax=0.6, square=True, annot=True)"
      ],
      "metadata": {
        "_cell_guid": "a6e2253b-aa82-4ef5-8b1a-c1c5c7b6b176",
        "_uuid": "f3a8657cbe64e417316d2f5f6ebe1069e4532cf2",
        "execution": {
          "iopub.status.busy": "2022-10-18T13:55:52.221339Z",
          "iopub.execute_input": "2022-10-18T13:55:52.221719Z",
          "iopub.status.idle": "2022-10-18T13:55:52.734293Z",
          "shell.execute_reply.started": "2022-10-18T13:55:52.221655Z",
          "shell.execute_reply": "2022-10-18T13:55:52.732308Z"
        },
        "trusted": true,
        "id": "CnEJyoxvWrCt",
        "outputId": "ba172bf8-c57c-4432-e46c-702af773941f"
      },
      "execution_count": null,
      "outputs": [
        {
          "execution_count": 44,
          "output_type": "execute_result",
          "data": {
            "text/plain": "<matplotlib.axes._subplots.AxesSubplot at 0x7f756882e9e8>"
          },
          "metadata": {}
        },
        {
          "output_type": "display_data",
          "data": {
            "text/plain": "<Figure size 1080x432 with 2 Axes>",
            "image/png": "[encoded data removed]"
          },
          "metadata": {
            "needs_background": "light"
          }
        }
      ]
    },
    {
      "cell_type": "markdown",
      "source": [
        "<a id=\"section-three-feature-extraction\"></a>\n",
        "## Выделение признаков (Feature Extraction) <a class=\"anchor\" id=\"title2\"></a>\n",
        "\n",
        "В этом разделе, мы выбираем соответствущие признакова для тренировки классификатора. Здесь, мы создадим новые признаки, основываясь на существующихю. Также мы приведем категориальные признаки к числовому виду.\n",
        "\n",
        "<a id=\"section-three-feature-extraction-title\"></a>\n",
        "#### Признак Обращения\n",
        "\n",
        "Если посмотреть на то, как заданы имена в датасете, то можно заметить, что имена предворяются обращениями/титулами (напр. *Mr.*, *Dr.*, *Ms.*, и т.д.). Это может добавить доп. информации о персоне - статус, положение в обществе и пр., по крайней мере, как они были записаны в билетах. Давайте начнем с того, что извлечем \"Обращения\" из столбцов имен (колонка *Name*).\n"
      ],
      "metadata": {
        "_cell_guid": "810cd964-24eb-44fb-9e7b-18bbddd4900f",
        "_uuid": "fd86ccdf2d1248b79c68365444e96e46a50f3f5a",
        "id": "jkG--FWmWrCu"
      }
    },
    {
      "cell_type": "code",
      "source": [
        "train_test_data = [train, test] # combining train and test dataset\n",
        "\n",
        "for dataset in train_test_data:\n",
        "    dataset['Title'] = dataset.Name.str.extract(' ([A-Za-z]+)\\.')\n",
        "    \n",
        "# ----------\n",
        "# train['Title'] = train.Name.str.extract(' ([A-Za-z]+)\\.')\n",
        "# test['Title'] = test.Name.str.extract(' ([A-Za-z]+)\\.')"
      ],
      "metadata": {
        "_cell_guid": "ff9cf7ce-8b13-48d0-8ec0-4bcd9befcd42",
        "_uuid": "e3b7f95e366e878c7e99672ddc4361c5b5f99959",
        "execution": {
          "iopub.status.busy": "2022-10-18T13:55:56.461120Z",
          "iopub.execute_input": "2022-10-18T13:55:56.461754Z",
          "iopub.status.idle": "2022-10-18T13:55:56.557399Z",
          "shell.execute_reply.started": "2022-10-18T13:55:56.461679Z",
          "shell.execute_reply": "2022-10-18T13:55:56.556602Z"
        },
        "trusted": true,
        "id": "Pg-07azZWrCu"
      },
      "execution_count": null,
      "outputs": []
    },
    {
      "cell_type": "code",
      "source": [
        "train.head()"
      ],
      "metadata": {
        "_cell_guid": "13811f8e-4746-411b-806f-2c86a4893269",
        "_uuid": "5b181a96646a36e0669e856f399646fa30923781",
        "execution": {
          "iopub.status.busy": "2022-10-18T13:56:00.757083Z",
          "iopub.execute_input": "2022-10-18T13:56:00.757732Z",
          "iopub.status.idle": "2022-10-18T13:56:00.778116Z",
          "shell.execute_reply.started": "2022-10-18T13:56:00.757663Z",
          "shell.execute_reply": "2022-10-18T13:56:00.777088Z"
        },
        "trusted": true,
        "id": "3VAM1r9qWrCu",
        "outputId": "9931711f-5adc-4fae-ff16-502e6f59b5c5"
      },
      "execution_count": null,
      "outputs": [
        {
          "execution_count": 46,
          "output_type": "execute_result",
          "data": {
            "text/plain": "   PassengerId  Survived  Pclass  \\\n0            1         0       3   \n1            2         1       1   \n2            3         1       3   \n3            4         1       1   \n4            5         0       3   \n\n                                                Name     Sex   Age  SibSp  \\\n0                            Braund, Mr. Owen Harris    male  22.0      1   \n1  Cumings, Mrs. John Bradley (Florence Briggs Th...  female  38.0      1   \n2                             Heikkinen, Miss. Laina  female  26.0      0   \n3       Futrelle, Mrs. Jacques Heath (Lily May Peel)  female  35.0      1   \n4                           Allen, Mr. William Henry    male  35.0      0   \n\n   Parch            Ticket     Fare Cabin Embarked Title  \n0      0         A/5 21171   7.2500   NaN        S    Mr  \n1      0          PC 17599  71.2833   C85        C   Mrs  \n2      0  STON/O2. 3101282   7.9250   NaN        S  Miss  \n3      0            113803  53.1000  C123        S   Mrs  \n4      0            373450   8.0500   NaN        S    Mr  ",
            "text/html": "<div>\n<style scoped>\n    .dataframe tbody tr th:only-of-type {\n        vertical-align: middle;\n    }\n\n    .dataframe tbody tr th {\n        vertical-align: top;\n    }\n\n    .dataframe thead th {\n        text-align: right;\n    }\n</style>\n<table border=\"1\" class=\"dataframe\">\n  <thead>\n    <tr style=\"text-align: right;\">\n      <th></th>\n      <th>PassengerId</th>\n      <th>Survived</th>\n      <th>Pclass</th>\n      <th>Name</th>\n      <th>Sex</th>\n      <th>Age</th>\n      <th>SibSp</th>\n      <th>Parch</th>\n      <th>Ticket</th>\n      <th>Fare</th>\n      <th>Cabin</th>\n      <th>Embarked</th>\n      <th>Title</th>\n    </tr>\n  </thead>\n  <tbody>\n    <tr>\n      <td>0</td>\n      <td>1</td>\n      <td>0</td>\n      <td>3</td>\n      <td>Braund, Mr. Owen Harris</td>\n      <td>male</td>\n      <td>22.0</td>\n      <td>1</td>\n      <td>0</td>\n      <td>A/5 21171</td>\n      <td>7.2500</td>\n      <td>NaN</td>\n      <td>S</td>\n      <td>Mr</td>\n    </tr>\n    <tr>\n      <td>1</td>\n      <td>2</td>\n      <td>1</td>\n      <td>1</td>\n      <td>Cumings, Mrs. John Bradley (Florence Briggs Th...</td>\n      <td>female</td>\n      <td>38.0</td>\n      <td>1</td>\n      <td>0</td>\n      <td>PC 17599</td>\n      <td>71.2833</td>\n      <td>C85</td>\n      <td>C</td>\n      <td>Mrs</td>\n    </tr>\n    <tr>\n      <td>2</td>\n      <td>3</td>\n      <td>1</td>\n      <td>3</td>\n      <td>Heikkinen, Miss. Laina</td>\n      <td>female</td>\n      <td>26.0</td>\n      <td>0</td>\n      <td>0</td>\n      <td>STON/O2. 3101282</td>\n      <td>7.9250</td>\n      <td>NaN</td>\n      <td>S</td>\n      <td>Miss</td>\n    </tr>\n    <tr>\n      <td>3</td>\n      <td>4</td>\n      <td>1</td>\n      <td>1</td>\n      <td>Futrelle, Mrs. Jacques Heath (Lily May Peel)</td>\n      <td>female</td>\n      <td>35.0</td>\n      <td>1</td>\n      <td>0</td>\n      <td>113803</td>\n      <td>53.1000</td>\n      <td>C123</td>\n      <td>S</td>\n      <td>Mrs</td>\n    </tr>\n    <tr>\n      <td>4</td>\n      <td>5</td>\n      <td>0</td>\n      <td>3</td>\n      <td>Allen, Mr. William Henry</td>\n      <td>male</td>\n      <td>35.0</td>\n      <td>0</td>\n      <td>0</td>\n      <td>373450</td>\n      <td>8.0500</td>\n      <td>NaN</td>\n      <td>S</td>\n      <td>Mr</td>\n    </tr>\n  </tbody>\n</table>\n</div>"
          },
          "metadata": {}
        }
      ]
    },
    {
      "cell_type": "markdown",
      "source": [
        "Как можно видеть выше. мы добавили новый столбец *Title* в обучающий датасет и заполнили его значениями из поля *Name*."
      ],
      "metadata": {
        "_cell_guid": "079b3f6e-6b8c-40bf-a419-94f0dd4e5c4d",
        "_uuid": "a3c0f651d45fdcf89cdbe49b86ecfa66c95a49f3",
        "id": "PHdwzHWwWrCu"
      }
    },
    {
      "cell_type": "code",
      "source": [
        "pd.crosstab(train['Title'], train['Sex'])"
      ],
      "metadata": {
        "_cell_guid": "bf944c80-25c2-46f9-8c79-6daf3c8f6d6e",
        "_uuid": "ee143a8c07ba167241d0714187a45eca75847b70",
        "execution": {
          "iopub.status.busy": "2022-10-18T13:56:02.853176Z",
          "iopub.execute_input": "2022-10-18T13:56:02.853658Z",
          "iopub.status.idle": "2022-10-18T13:56:02.880186Z",
          "shell.execute_reply.started": "2022-10-18T13:56:02.853611Z",
          "shell.execute_reply": "2022-10-18T13:56:02.879306Z"
        },
        "trusted": true,
        "id": "zZ8zPsGeWrCu",
        "outputId": "49232e94-a93c-4811-a1d0-c34a4837319f"
      },
      "execution_count": null,
      "outputs": [
        {
          "execution_count": 47,
          "output_type": "execute_result",
          "data": {
            "text/plain": "Sex       female  male\nTitle                 \nCapt           0     1\nCol            0     2\nCountess       1     0\nDon            0     1\nDr             1     6\nJonkheer       0     1\nLady           1     0\nMajor          0     2\nMaster         0    40\nMiss         182     0\nMlle           2     0\nMme            1     0\nMr             0   517\nMrs          125     0\nMs             1     0\nRev            0     6\nSir            0     1",
            "text/html": "<div>\n<style scoped>\n    .dataframe tbody tr th:only-of-type {\n        vertical-align: middle;\n    }\n\n    .dataframe tbody tr th {\n        vertical-align: top;\n    }\n\n    .dataframe thead th {\n        text-align: right;\n    }\n</style>\n<table border=\"1\" class=\"dataframe\">\n  <thead>\n    <tr style=\"text-align: right;\">\n      <th>Sex</th>\n      <th>female</th>\n      <th>male</th>\n    </tr>\n    <tr>\n      <th>Title</th>\n      <th></th>\n      <th></th>\n    </tr>\n  </thead>\n  <tbody>\n    <tr>\n      <td>Capt</td>\n      <td>0</td>\n      <td>1</td>\n    </tr>\n    <tr>\n      <td>Col</td>\n      <td>0</td>\n      <td>2</td>\n    </tr>\n    <tr>\n      <td>Countess</td>\n      <td>1</td>\n      <td>0</td>\n    </tr>\n    <tr>\n      <td>Don</td>\n      <td>0</td>\n      <td>1</td>\n    </tr>\n    <tr>\n      <td>Dr</td>\n      <td>1</td>\n      <td>6</td>\n    </tr>\n    <tr>\n      <td>Jonkheer</td>\n      <td>0</td>\n      <td>1</td>\n    </tr>\n    <tr>\n      <td>Lady</td>\n      <td>1</td>\n      <td>0</td>\n    </tr>\n    <tr>\n      <td>Major</td>\n      <td>0</td>\n      <td>2</td>\n    </tr>\n    <tr>\n      <td>Master</td>\n      <td>0</td>\n      <td>40</td>\n    </tr>\n    <tr>\n      <td>Miss</td>\n      <td>182</td>\n      <td>0</td>\n    </tr>\n    <tr>\n      <td>Mlle</td>\n      <td>2</td>\n      <td>0</td>\n    </tr>\n    <tr>\n      <td>Mme</td>\n      <td>1</td>\n      <td>0</td>\n    </tr>\n    <tr>\n      <td>Mr</td>\n      <td>0</td>\n      <td>517</td>\n    </tr>\n    <tr>\n      <td>Mrs</td>\n      <td>125</td>\n      <td>0</td>\n    </tr>\n    <tr>\n      <td>Ms</td>\n      <td>1</td>\n      <td>0</td>\n    </tr>\n    <tr>\n      <td>Rev</td>\n      <td>0</td>\n      <td>6</td>\n    </tr>\n    <tr>\n      <td>Sir</td>\n      <td>0</td>\n      <td>1</td>\n    </tr>\n  </tbody>\n</table>\n</div>"
          },
          "metadata": {}
        }
      ]
    },
    {
      "cell_type": "markdown",
      "source": [
        "Количество пассажиров в уникальным Обращениями показаны выше.\n",
        "\n",
        "Теперь заменим некоторые не столь широко используемые Обращения значением \"Other\"."
      ],
      "metadata": {
        "_cell_guid": "d701f6ea-0e79-4249-afa1-6e53ca61e401",
        "_uuid": "84f15be73a52ea3e7d591cd6246b084c26b1e39c",
        "id": "OLRKsNHuWrCu"
      }
    },
    {
      "cell_type": "code",
      "source": [
        "for dataset in train_test_data:\n",
        "    dataset['Title'] = dataset['Title'].replace(['Lady', 'Countess','Capt', 'Col', \\\n",
        " \t'Don', 'Dr', 'Major', 'Rev', 'Sir', 'Jonkheer', 'Dona'], 'Other')\n",
        "\n",
        "    dataset['Title'] = dataset['Title'].replace('Mlle', 'Miss')\n",
        "    dataset['Title'] = dataset['Title'].replace('Ms', 'Miss')\n",
        "    dataset['Title'] = dataset['Title'].replace('Mme', 'Mrs')\n",
        "    \n",
        "train[['Title', 'Survived']].groupby(['Title'], as_index=False).mean()"
      ],
      "metadata": {
        "_cell_guid": "d0826fef-6815-4381-8667-70ca0f04edf7",
        "_uuid": "027552b065d70355ddad5f5e26c8d58029e737aa",
        "execution": {
          "iopub.status.busy": "2022-10-18T13:56:10.174943Z",
          "iopub.execute_input": "2022-10-18T13:56:10.175286Z",
          "iopub.status.idle": "2022-10-18T13:56:10.204684Z",
          "shell.execute_reply.started": "2022-10-18T13:56:10.175228Z",
          "shell.execute_reply": "2022-10-18T13:56:10.203054Z"
        },
        "trusted": true,
        "id": "x3rfcFwaWrCv",
        "outputId": "1f0db860-d8e5-4e14-b99f-3ce563f0928d"
      },
      "execution_count": null,
      "outputs": [
        {
          "execution_count": 48,
          "output_type": "execute_result",
          "data": {
            "text/plain": "    Title  Survived\n0  Master  0.575000\n1    Miss  0.702703\n2      Mr  0.156673\n3     Mrs  0.793651\n4   Other  0.347826",
            "text/html": "<div>\n<style scoped>\n    .dataframe tbody tr th:only-of-type {\n        vertical-align: middle;\n    }\n\n    .dataframe tbody tr th {\n        vertical-align: top;\n    }\n\n    .dataframe thead th {\n        text-align: right;\n    }\n</style>\n<table border=\"1\" class=\"dataframe\">\n  <thead>\n    <tr style=\"text-align: right;\">\n      <th></th>\n      <th>Title</th>\n      <th>Survived</th>\n    </tr>\n  </thead>\n  <tbody>\n    <tr>\n      <td>0</td>\n      <td>Master</td>\n      <td>0.575000</td>\n    </tr>\n    <tr>\n      <td>1</td>\n      <td>Miss</td>\n      <td>0.702703</td>\n    </tr>\n    <tr>\n      <td>2</td>\n      <td>Mr</td>\n      <td>0.156673</td>\n    </tr>\n    <tr>\n      <td>3</td>\n      <td>Mrs</td>\n      <td>0.793651</td>\n    </tr>\n    <tr>\n      <td>4</td>\n      <td>Other</td>\n      <td>0.347826</td>\n    </tr>\n  </tbody>\n</table>\n</div>"
          },
          "metadata": {}
        }
      ]
    },
    {
      "cell_type": "markdown",
      "source": [
        "После этого мы конвертируем категориальный признак *Title* в числовой вид. Для этого строим таблицу соответствий:\n",
        "\n",
        "| Категориальный признак | Значение|\n",
        "| ------------- |-------------|\n",
        "| Mr | 1 |\n",
        "| Master | 2 |\n",
        "| Mrs | 3 |\n",
        "| Miss | 4 |\n",
        "| Other | 5 |\n",
        "\n",
        "```.map()``` реализует такой маппинг следующим образом:"
      ],
      "metadata": {
        "_cell_guid": "c55cad9a-7484-47dd-88fd-925042b3f043",
        "_uuid": "3560235f8e1546cf1bf01a05b11df706c2b0f0eb",
        "id": "IZlCSg59WrCv"
      }
    },
    {
      "cell_type": "code",
      "source": [
        "title_mapping = {\"Mr\": 1, \"Master\": 2, \"Mrs\": 3, \"Miss\": 4, \"Other\": 5}\n",
        "for dataset in train_test_data:\n",
        "    dataset['Title'] = dataset['Title'].map(title_mapping)\n",
        "    dataset['Title'] = dataset['Title'].fillna(5)"
      ],
      "metadata": {
        "_cell_guid": "2b03f4c6-68b9-42cb-b48b-ed443e88f536",
        "_uuid": "68855c261b705fb2bfd8867e89c53af2f8a6e736",
        "execution": {
          "iopub.status.busy": "2022-10-18T13:58:03.538830Z",
          "iopub.execute_input": "2022-10-18T13:58:03.539215Z",
          "iopub.status.idle": "2022-10-18T13:58:03.549796Z",
          "shell.execute_reply.started": "2022-10-18T13:58:03.539163Z",
          "shell.execute_reply": "2022-10-18T13:58:03.548125Z"
        },
        "trusted": true,
        "id": "5ddrUweRWrCv"
      },
      "execution_count": null,
      "outputs": []
    },
    {
      "cell_type": "code",
      "source": [
        "train.head()"
      ],
      "metadata": {
        "_cell_guid": "784a9133-1e88-4fcb-a1dc-e295e4b8ade2",
        "_uuid": "9eb4e3aeecdc072744751529630ebc2a402fc03f",
        "execution": {
          "iopub.status.busy": "2022-10-18T13:58:06.548170Z",
          "iopub.execute_input": "2022-10-18T13:58:06.548718Z",
          "iopub.status.idle": "2022-10-18T13:58:06.575743Z",
          "shell.execute_reply.started": "2022-10-18T13:58:06.548653Z",
          "shell.execute_reply": "2022-10-18T13:58:06.573995Z"
        },
        "trusted": true,
        "id": "NEwP3vmCWrCv",
        "outputId": "93680f19-deb5-452a-d5d5-8195f8c47e7e"
      },
      "execution_count": null,
      "outputs": [
        {
          "execution_count": 50,
          "output_type": "execute_result",
          "data": {
            "text/plain": "   PassengerId  Survived  Pclass  \\\n0            1         0       3   \n1            2         1       1   \n2            3         1       3   \n3            4         1       1   \n4            5         0       3   \n\n                                                Name     Sex   Age  SibSp  \\\n0                            Braund, Mr. Owen Harris    male  22.0      1   \n1  Cumings, Mrs. John Bradley (Florence Briggs Th...  female  38.0      1   \n2                             Heikkinen, Miss. Laina  female  26.0      0   \n3       Futrelle, Mrs. Jacques Heath (Lily May Peel)  female  35.0      1   \n4                           Allen, Mr. William Henry    male  35.0      0   \n\n   Parch            Ticket     Fare Cabin Embarked  Title  \n0      0         A/5 21171   7.2500   NaN        S      1  \n1      0          PC 17599  71.2833   C85        C      3  \n2      0  STON/O2. 3101282   7.9250   NaN        S      4  \n3      0            113803  53.1000  C123        S      3  \n4      0            373450   8.0500   NaN        S      1  ",
            "text/html": "<div>\n<style scoped>\n    .dataframe tbody tr th:only-of-type {\n        vertical-align: middle;\n    }\n\n    .dataframe tbody tr th {\n        vertical-align: top;\n    }\n\n    .dataframe thead th {\n        text-align: right;\n    }\n</style>\n<table border=\"1\" class=\"dataframe\">\n  <thead>\n    <tr style=\"text-align: right;\">\n      <th></th>\n      <th>PassengerId</th>\n      <th>Survived</th>\n      <th>Pclass</th>\n      <th>Name</th>\n      <th>Sex</th>\n      <th>Age</th>\n      <th>SibSp</th>\n      <th>Parch</th>\n      <th>Ticket</th>\n      <th>Fare</th>\n      <th>Cabin</th>\n      <th>Embarked</th>\n      <th>Title</th>\n    </tr>\n  </thead>\n  <tbody>\n    <tr>\n      <td>0</td>\n      <td>1</td>\n      <td>0</td>\n      <td>3</td>\n      <td>Braund, Mr. Owen Harris</td>\n      <td>male</td>\n      <td>22.0</td>\n      <td>1</td>\n      <td>0</td>\n      <td>A/5 21171</td>\n      <td>7.2500</td>\n      <td>NaN</td>\n      <td>S</td>\n      <td>1</td>\n    </tr>\n    <tr>\n      <td>1</td>\n      <td>2</td>\n      <td>1</td>\n      <td>1</td>\n      <td>Cumings, Mrs. John Bradley (Florence Briggs Th...</td>\n      <td>female</td>\n      <td>38.0</td>\n      <td>1</td>\n      <td>0</td>\n      <td>PC 17599</td>\n      <td>71.2833</td>\n      <td>C85</td>\n      <td>C</td>\n      <td>3</td>\n    </tr>\n    <tr>\n      <td>2</td>\n      <td>3</td>\n      <td>1</td>\n      <td>3</td>\n      <td>Heikkinen, Miss. Laina</td>\n      <td>female</td>\n      <td>26.0</td>\n      <td>0</td>\n      <td>0</td>\n      <td>STON/O2. 3101282</td>\n      <td>7.9250</td>\n      <td>NaN</td>\n      <td>S</td>\n      <td>4</td>\n    </tr>\n    <tr>\n      <td>3</td>\n      <td>4</td>\n      <td>1</td>\n      <td>1</td>\n      <td>Futrelle, Mrs. Jacques Heath (Lily May Peel)</td>\n      <td>female</td>\n      <td>35.0</td>\n      <td>1</td>\n      <td>0</td>\n      <td>113803</td>\n      <td>53.1000</td>\n      <td>C123</td>\n      <td>S</td>\n      <td>3</td>\n    </tr>\n    <tr>\n      <td>4</td>\n      <td>5</td>\n      <td>0</td>\n      <td>3</td>\n      <td>Allen, Mr. William Henry</td>\n      <td>male</td>\n      <td>35.0</td>\n      <td>0</td>\n      <td>0</td>\n      <td>373450</td>\n      <td>8.0500</td>\n      <td>NaN</td>\n      <td>S</td>\n      <td>1</td>\n    </tr>\n  </tbody>\n</table>\n</div>"
          },
          "metadata": {}
        }
      ]
    },
    {
      "cell_type": "markdown",
      "source": [
        "<a id=\"section-three-feature-extraction-sex\"></a>\n",
        "#### Sex \n",
        "\n",
        "Конвертируем катгориальное значение *Sex* в численное представление. 0 - предстваляет женский пол, 1 - мужской."
      ],
      "metadata": {
        "_cell_guid": "84c6e359-0c42-45f1-a02b-95cd378569c5",
        "_uuid": "b387c9a34617e40a18e864478e8a1f27ff8d16d4",
        "id": "65ygAdtZWrCv"
      }
    },
    {
      "cell_type": "code",
      "source": [
        "sex_mapping = {'female': 0, 'male': 1}\n",
        "for dataset in train_test_data:\n",
        "    dataset['Sex'] = dataset['Sex'].map(sex_mapping)"
      ],
      "metadata": {
        "_cell_guid": "9a894d3c-a231-4086-a913-983095991db4",
        "_uuid": "6f411eedcf32587d4a32516a1468118d05b8651e",
        "execution": {
          "iopub.status.busy": "2022-10-18T13:58:12.896678Z",
          "iopub.execute_input": "2022-10-18T13:58:12.897184Z",
          "iopub.status.idle": "2022-10-18T13:58:12.907571Z",
          "shell.execute_reply.started": "2022-10-18T13:58:12.897134Z",
          "shell.execute_reply": "2022-10-18T13:58:12.906168Z"
        },
        "trusted": true,
        "id": "gR-R-CJWWrCv"
      },
      "execution_count": null,
      "outputs": []
    },
    {
      "cell_type": "code",
      "source": [
        "train.head()"
      ],
      "metadata": {
        "_cell_guid": "97140289-3b80-47b3-af17-e8722edbe561",
        "_uuid": "601cfeccb49d385da5b95d475368a7c2381fa50f",
        "execution": {
          "iopub.status.busy": "2022-10-18T13:58:14.529850Z",
          "iopub.execute_input": "2022-10-18T13:58:14.530206Z",
          "iopub.status.idle": "2022-10-18T13:58:14.550048Z",
          "shell.execute_reply.started": "2022-10-18T13:58:14.530154Z",
          "shell.execute_reply": "2022-10-18T13:58:14.549027Z"
        },
        "trusted": true,
        "id": "FqlpolcwWrCv",
        "outputId": "a991d5f0-dec6-4584-bb57-b3069398bfa3"
      },
      "execution_count": null,
      "outputs": [
        {
          "execution_count": 53,
          "output_type": "execute_result",
          "data": {
            "text/plain": "   PassengerId  Survived  Pclass  \\\n0            1         0       3   \n1            2         1       1   \n2            3         1       3   \n3            4         1       1   \n4            5         0       3   \n\n                                                Name  Sex   Age  SibSp  Parch  \\\n0                            Braund, Mr. Owen Harris  NaN  22.0      1      0   \n1  Cumings, Mrs. John Bradley (Florence Briggs Th...  NaN  38.0      1      0   \n2                             Heikkinen, Miss. Laina  NaN  26.0      0      0   \n3       Futrelle, Mrs. Jacques Heath (Lily May Peel)  NaN  35.0      1      0   \n4                           Allen, Mr. William Henry  NaN  35.0      0      0   \n\n             Ticket     Fare Cabin Embarked  Title  \n0         A/5 21171   7.2500   NaN        S      1  \n1          PC 17599  71.2833   C85        C      3  \n2  STON/O2. 3101282   7.9250   NaN        S      4  \n3            113803  53.1000  C123        S      3  \n4            373450   8.0500   NaN        S      1  ",
            "text/html": "<div>\n<style scoped>\n    .dataframe tbody tr th:only-of-type {\n        vertical-align: middle;\n    }\n\n    .dataframe tbody tr th {\n        vertical-align: top;\n    }\n\n    .dataframe thead th {\n        text-align: right;\n    }\n</style>\n<table border=\"1\" class=\"dataframe\">\n  <thead>\n    <tr style=\"text-align: right;\">\n      <th></th>\n      <th>PassengerId</th>\n      <th>Survived</th>\n      <th>Pclass</th>\n      <th>Name</th>\n      <th>Sex</th>\n      <th>Age</th>\n      <th>SibSp</th>\n      <th>Parch</th>\n      <th>Ticket</th>\n      <th>Fare</th>\n      <th>Cabin</th>\n      <th>Embarked</th>\n      <th>Title</th>\n    </tr>\n  </thead>\n  <tbody>\n    <tr>\n      <td>0</td>\n      <td>1</td>\n      <td>0</td>\n      <td>3</td>\n      <td>Braund, Mr. Owen Harris</td>\n      <td>NaN</td>\n      <td>22.0</td>\n      <td>1</td>\n      <td>0</td>\n      <td>A/5 21171</td>\n      <td>7.2500</td>\n      <td>NaN</td>\n      <td>S</td>\n      <td>1</td>\n    </tr>\n    <tr>\n      <td>1</td>\n      <td>2</td>\n      <td>1</td>\n      <td>1</td>\n      <td>Cumings, Mrs. John Bradley (Florence Briggs Th...</td>\n      <td>NaN</td>\n      <td>38.0</td>\n      <td>1</td>\n      <td>0</td>\n      <td>PC 17599</td>\n      <td>71.2833</td>\n      <td>C85</td>\n      <td>C</td>\n      <td>3</td>\n    </tr>\n    <tr>\n      <td>2</td>\n      <td>3</td>\n      <td>1</td>\n      <td>3</td>\n      <td>Heikkinen, Miss. Laina</td>\n      <td>NaN</td>\n      <td>26.0</td>\n      <td>0</td>\n      <td>0</td>\n      <td>STON/O2. 3101282</td>\n      <td>7.9250</td>\n      <td>NaN</td>\n      <td>S</td>\n      <td>4</td>\n    </tr>\n    <tr>\n      <td>3</td>\n      <td>4</td>\n      <td>1</td>\n      <td>1</td>\n      <td>Futrelle, Mrs. Jacques Heath (Lily May Peel)</td>\n      <td>NaN</td>\n      <td>35.0</td>\n      <td>1</td>\n      <td>0</td>\n      <td>113803</td>\n      <td>53.1000</td>\n      <td>C123</td>\n      <td>S</td>\n      <td>3</td>\n    </tr>\n    <tr>\n      <td>4</td>\n      <td>5</td>\n      <td>0</td>\n      <td>3</td>\n      <td>Allen, Mr. William Henry</td>\n      <td>NaN</td>\n      <td>35.0</td>\n      <td>0</td>\n      <td>0</td>\n      <td>373450</td>\n      <td>8.0500</td>\n      <td>NaN</td>\n      <td>S</td>\n      <td>1</td>\n    </tr>\n  </tbody>\n</table>\n</div>"
          },
          "metadata": {}
        }
      ]
    },
    {
      "cell_type": "markdown",
      "source": [
        "<a id=\"section-three-feature-extraction-embarked\"></a>\n",
        "#### Embarked \n",
        "\n",
        "В датасетах присутствуют в столбцах *Embarked* пустые значения (\"nan\"). Есил так их и оставить, либо же заменить на значение \"n/a\", то оно будет восприниматься алгоритмами наравне с остальными значениями данного признака. ЭТо может быть не совсем корректно, с точки зрения задачи. "
      ],
      "metadata": {
        "_cell_guid": "2f71e07e-2ccc-4243-a886-f27810301783",
        "_uuid": "317dea4b468b8562be2f0bc14b80dc29c3f630ed",
        "id": "vrZpIgLmWrCw"
      }
    },
    {
      "cell_type": "code",
      "source": [
        "train.Embarked.unique()"
      ],
      "metadata": {
        "_cell_guid": "fa16c3ff-4a6c-477c-bc76-3124d535613d",
        "_uuid": "0f0d5c14263b9b5f61e55ac8eac5bbbb26675786",
        "execution": {
          "iopub.status.busy": "2022-10-18T13:58:17.097686Z",
          "iopub.execute_input": "2022-10-18T13:58:17.098065Z",
          "iopub.status.idle": "2022-10-18T13:58:17.105820Z",
          "shell.execute_reply.started": "2022-10-18T13:58:17.098010Z",
          "shell.execute_reply": "2022-10-18T13:58:17.104536Z"
        },
        "trusted": true,
        "id": "M87rxntOWrCw",
        "outputId": "2d764f37-b39b-41c0-ba03-2ac3bd867eee"
      },
      "execution_count": null,
      "outputs": [
        {
          "execution_count": 54,
          "output_type": "execute_result",
          "data": {
            "text/plain": "array(['S', 'C', 'Q', nan], dtype=object)"
          },
          "metadata": {}
        }
      ]
    },
    {
      "cell_type": "markdown",
      "source": [
        "Сначала проверим количество пассажиров для каждой категории *Embarked*."
      ],
      "metadata": {
        "_cell_guid": "acc831a4-0fd3-4ed5-9744-dab25cfd3f38",
        "_uuid": "e017bc9a7d34f978eec292e9da062791a604eed5",
        "id": "cc4s1QGTWrCw"
      }
    },
    {
      "cell_type": "code",
      "source": [
        "train.Embarked.value_counts()"
      ],
      "metadata": {
        "_cell_guid": "2eac9624-7fa4-466a-a4ed-7e5f2fc3617d",
        "_uuid": "afa5d4c786df38daba7ba4e188202557c876d76c",
        "execution": {
          "iopub.status.busy": "2022-10-18T13:58:19.065063Z",
          "iopub.execute_input": "2022-10-18T13:58:19.065424Z",
          "iopub.status.idle": "2022-10-18T13:58:19.074942Z",
          "shell.execute_reply.started": "2022-10-18T13:58:19.065364Z",
          "shell.execute_reply": "2022-10-18T13:58:19.073624Z"
        },
        "trusted": true,
        "id": "YxRH97iZWrCw",
        "outputId": "724cbc93-4a43-45a7-e8e7-3ec19c284e04"
      },
      "execution_count": null,
      "outputs": [
        {
          "execution_count": 55,
          "output_type": "execute_result",
          "data": {
            "text/plain": "S    644\nC    168\nQ     77\nName: Embarked, dtype: int64"
          },
          "metadata": {}
        }
      ]
    },
    {
      "cell_type": "markdown",
      "source": [
        "Обнаруживаем, что категория \"S\" содержит максимальное количество пассажиров. Посему, заменяем пустые значения \"nan\" значением \"S\"."
      ],
      "metadata": {
        "_cell_guid": "f7260229-7690-422a-89c8-025b2537d9f5",
        "_uuid": "4fbcfcd9973dc7706b6fcba69b4c0a5f0f79a8db",
        "id": "k_2DFQ3NWrCw"
      }
    },
    {
      "cell_type": "code",
      "source": [
        "for dataset in train_test_data:\n",
        "    dataset['Embarked'] = dataset['Embarked'].fillna('S')"
      ],
      "metadata": {
        "_cell_guid": "f3b74da1-6418-4213-aaa1-efb6dc162580",
        "_uuid": "dd11044ef91ce8b686c4688f301aa6d4abae1476",
        "execution": {
          "iopub.status.busy": "2022-10-18T13:58:20.825296Z",
          "iopub.execute_input": "2022-10-18T13:58:20.825687Z",
          "iopub.status.idle": "2022-10-18T13:58:20.832738Z",
          "shell.execute_reply.started": "2022-10-18T13:58:20.825621Z",
          "shell.execute_reply": "2022-10-18T13:58:20.831557Z"
        },
        "trusted": true,
        "id": "0As6r2GgWrCw"
      },
      "execution_count": null,
      "outputs": []
    },
    {
      "cell_type": "code",
      "source": [
        "train.head()"
      ],
      "metadata": {
        "_cell_guid": "30a61312-6373-4b92-8c3c-1ab96620c757",
        "_uuid": "dadc45a6f68494a509092cbbe9f29cf3b3432571",
        "execution": {
          "iopub.status.busy": "2022-10-18T13:58:22.825145Z",
          "iopub.execute_input": "2022-10-18T13:58:22.825485Z",
          "iopub.status.idle": "2022-10-18T13:58:22.846830Z",
          "shell.execute_reply.started": "2022-10-18T13:58:22.825441Z",
          "shell.execute_reply": "2022-10-18T13:58:22.845336Z"
        },
        "trusted": true,
        "id": "eBNhygjDWrCw",
        "outputId": "6fa71f37-3ebc-4dce-e60f-197da9935101"
      },
      "execution_count": null,
      "outputs": [
        {
          "execution_count": 57,
          "output_type": "execute_result",
          "data": {
            "text/plain": "   PassengerId  Survived  Pclass  \\\n0            1         0       3   \n1            2         1       1   \n2            3         1       3   \n3            4         1       1   \n4            5         0       3   \n\n                                                Name  Sex   Age  SibSp  Parch  \\\n0                            Braund, Mr. Owen Harris  NaN  22.0      1      0   \n1  Cumings, Mrs. John Bradley (Florence Briggs Th...  NaN  38.0      1      0   \n2                             Heikkinen, Miss. Laina  NaN  26.0      0      0   \n3       Futrelle, Mrs. Jacques Heath (Lily May Peel)  NaN  35.0      1      0   \n4                           Allen, Mr. William Henry  NaN  35.0      0      0   \n\n             Ticket     Fare Cabin Embarked  Title  \n0         A/5 21171   7.2500   NaN        S      1  \n1          PC 17599  71.2833   C85        C      3  \n2  STON/O2. 3101282   7.9250   NaN        S      4  \n3            113803  53.1000  C123        S      3  \n4            373450   8.0500   NaN        S      1  ",
            "text/html": "<div>\n<style scoped>\n    .dataframe tbody tr th:only-of-type {\n        vertical-align: middle;\n    }\n\n    .dataframe tbody tr th {\n        vertical-align: top;\n    }\n\n    .dataframe thead th {\n        text-align: right;\n    }\n</style>\n<table border=\"1\" class=\"dataframe\">\n  <thead>\n    <tr style=\"text-align: right;\">\n      <th></th>\n      <th>PassengerId</th>\n      <th>Survived</th>\n      <th>Pclass</th>\n      <th>Name</th>\n      <th>Sex</th>\n      <th>Age</th>\n      <th>SibSp</th>\n      <th>Parch</th>\n      <th>Ticket</th>\n      <th>Fare</th>\n      <th>Cabin</th>\n      <th>Embarked</th>\n      <th>Title</th>\n    </tr>\n  </thead>\n  <tbody>\n    <tr>\n      <td>0</td>\n      <td>1</td>\n      <td>0</td>\n      <td>3</td>\n      <td>Braund, Mr. Owen Harris</td>\n      <td>NaN</td>\n      <td>22.0</td>\n      <td>1</td>\n      <td>0</td>\n      <td>A/5 21171</td>\n      <td>7.2500</td>\n      <td>NaN</td>\n      <td>S</td>\n      <td>1</td>\n    </tr>\n    <tr>\n      <td>1</td>\n      <td>2</td>\n      <td>1</td>\n      <td>1</td>\n      <td>Cumings, Mrs. John Bradley (Florence Briggs Th...</td>\n      <td>NaN</td>\n      <td>38.0</td>\n      <td>1</td>\n      <td>0</td>\n      <td>PC 17599</td>\n      <td>71.2833</td>\n      <td>C85</td>\n      <td>C</td>\n      <td>3</td>\n    </tr>\n    <tr>\n      <td>2</td>\n      <td>3</td>\n      <td>1</td>\n      <td>3</td>\n      <td>Heikkinen, Miss. Laina</td>\n      <td>NaN</td>\n      <td>26.0</td>\n      <td>0</td>\n      <td>0</td>\n      <td>STON/O2. 3101282</td>\n      <td>7.9250</td>\n      <td>NaN</td>\n      <td>S</td>\n      <td>4</td>\n    </tr>\n    <tr>\n      <td>3</td>\n      <td>4</td>\n      <td>1</td>\n      <td>1</td>\n      <td>Futrelle, Mrs. Jacques Heath (Lily May Peel)</td>\n      <td>NaN</td>\n      <td>35.0</td>\n      <td>1</td>\n      <td>0</td>\n      <td>113803</td>\n      <td>53.1000</td>\n      <td>C123</td>\n      <td>S</td>\n      <td>3</td>\n    </tr>\n    <tr>\n      <td>4</td>\n      <td>5</td>\n      <td>0</td>\n      <td>3</td>\n      <td>Allen, Mr. William Henry</td>\n      <td>NaN</td>\n      <td>35.0</td>\n      <td>0</td>\n      <td>0</td>\n      <td>373450</td>\n      <td>8.0500</td>\n      <td>NaN</td>\n      <td>S</td>\n      <td>1</td>\n    </tr>\n  </tbody>\n</table>\n</div>"
          },
          "metadata": {}
        }
      ]
    },
    {
      "cell_type": "markdown",
      "source": [
        "Теперь можно произвести преобразование и првиести значение *Embarked* к численному виду. Ставим в соответствие 0 - \"S\", 1 - \"C\" и 2 - \"Q\"."
      ],
      "metadata": {
        "_cell_guid": "1fc3ba42-153a-4c96-b8ff-b656ce445f35",
        "_uuid": "01595b0900cd0b1452d5638eddd41203bc9e2e49",
        "id": "Fizro4SMWrCx"
      }
    },
    {
      "cell_type": "code",
      "source": [
        "for dataset in train_test_data:\n",
        "    #print(dataset.Embarked.unique())\n",
        "    dataset['Embarked'] = dataset['Embarked'].map( {'S': 0, 'C': 1, 'Q': 2} ).astype(int)"
      ],
      "metadata": {
        "_cell_guid": "cf4a8a17-0b60-4a7e-9e29-3559010cefdc",
        "_uuid": "85a04185f2cda70415d8b42310da0c4480d414cd",
        "execution": {
          "iopub.status.busy": "2022-10-18T13:58:25.033278Z",
          "iopub.execute_input": "2022-10-18T13:58:25.033984Z",
          "iopub.status.idle": "2022-10-18T13:58:25.048405Z",
          "shell.execute_reply.started": "2022-10-18T13:58:25.033688Z",
          "shell.execute_reply": "2022-10-18T13:58:25.047340Z"
        },
        "trusted": true,
        "id": "oDeec411WrCx"
      },
      "execution_count": null,
      "outputs": []
    },
    {
      "cell_type": "code",
      "source": [
        "train.head()"
      ],
      "metadata": {
        "_cell_guid": "b9af8b8e-c49b-4153-af2a-f8ce8154d480",
        "_uuid": "d9775bdf8ffeb053308940ec511453238f5d0e5d",
        "execution": {
          "iopub.status.busy": "2022-03-26T14:07:29.189015Z",
          "iopub.execute_input": "2022-03-26T14:07:29.189497Z",
          "iopub.status.idle": "2022-03-26T14:07:29.208226Z",
          "shell.execute_reply.started": "2022-03-26T14:07:29.189453Z",
          "shell.execute_reply": "2022-03-26T14:07:29.207520Z"
        },
        "trusted": true,
        "id": "NIPKE3L5WrCx"
      },
      "execution_count": null,
      "outputs": []
    },
    {
      "cell_type": "markdown",
      "source": [
        "<a id=\"section-three-feature-extraction-age\"></a>\n",
        "#### Age\n",
        "\n",
        "Сначала заполняем все пустые (NULL) значение возраста (*Age*) произвольным числом их диапазона от (mean_age - std_age) и до (mean_age + std_age). \n",
        "\n",
        "После создадим новый столбец и назовем его *AgeBand*. Он будет содержать категоризированное значение возраста, распределенное по 5ти разным группам."
      ],
      "metadata": {
        "_cell_guid": "271dc54c-dfb3-48b8-adde-42453174571c",
        "_uuid": "6927d280668356a48244e98dec5a390d6440d1a6",
        "id": "A-fhgcnFWrCx"
      }
    },
    {
      "cell_type": "code",
      "source": [
        "for dataset in train_test_data:\n",
        "    age_avg = dataset['Age'].mean()\n",
        "    age_std = dataset['Age'].std()\n",
        "    age_null_count = dataset['Age'].isnull().sum()\n",
        "    \n",
        "    age_null_random_list = np.random.randint(age_avg - age_std, age_avg + age_std, size=age_null_count)\n",
        "    dataset['Age'][np.isnan(dataset['Age'])] = age_null_random_list\n",
        "    dataset['Age'] = dataset['Age'].astype(int)\n",
        "    \n",
        "train['AgeBand'] = pd.cut(train['Age'], 5)\n",
        "\n",
        "print (train[['AgeBand', 'Survived']].groupby(['AgeBand'], as_index=False).mean())"
      ],
      "metadata": {
        "_cell_guid": "1516efcc-9d6b-4115-a2f3-5f760b203371",
        "_uuid": "706fb1030c6bb52c45fd622849bf5daf0b5fa793",
        "execution": {
          "iopub.status.busy": "2022-10-18T13:58:27.153012Z",
          "iopub.execute_input": "2022-10-18T13:58:27.153347Z",
          "iopub.status.idle": "2022-10-18T13:58:27.204015Z",
          "shell.execute_reply.started": "2022-10-18T13:58:27.153297Z",
          "shell.execute_reply": "2022-10-18T13:58:27.202102Z"
        },
        "trusted": true,
        "id": "Bd3bIChNWrCx",
        "outputId": "d32131eb-b7f5-42e2-d9a3-0674b05bf4ec"
      },
      "execution_count": null,
      "outputs": [
        {
          "name": "stdout",
          "text": "         AgeBand  Survived\n0  (-0.08, 16.0]  0.509091\n1   (16.0, 32.0]  0.359729\n2   (32.0, 48.0]  0.370656\n3   (48.0, 64.0]  0.434783\n4   (64.0, 80.0]  0.090909\n",
          "output_type": "stream"
        },
        {
          "name": "stderr",
          "text": "/opt/conda/lib/python3.6/site-packages/ipykernel_launcher.py:7: SettingWithCopyWarning: \nA value is trying to be set on a copy of a slice from a DataFrame\n\nSee the caveats in the documentation: http://pandas.pydata.org/pandas-docs/stable/user_guide/indexing.html#returning-a-view-versus-a-copy\n  import sys\n",
          "output_type": "stream"
        }
      ]
    },
    {
      "cell_type": "code",
      "source": [
        "train.head()"
      ],
      "metadata": {
        "_cell_guid": "63e5e575-379e-44ec-8449-c2c72538dc16",
        "_uuid": "16e72857d0ccd8172ac006dfde55acbf72743126",
        "execution": {
          "iopub.status.busy": "2022-10-18T13:58:31.377104Z",
          "iopub.execute_input": "2022-10-18T13:58:31.377446Z",
          "iopub.status.idle": "2022-10-18T13:58:31.399583Z",
          "shell.execute_reply.started": "2022-10-18T13:58:31.377395Z",
          "shell.execute_reply": "2022-10-18T13:58:31.398207Z"
        },
        "trusted": true,
        "id": "yDBJfcRzWrCx",
        "outputId": "a6bd946d-899c-4389-e862-883220dad755"
      },
      "execution_count": null,
      "outputs": [
        {
          "execution_count": 60,
          "output_type": "execute_result",
          "data": {
            "text/plain": "   PassengerId  Survived  Pclass  \\\n0            1         0       3   \n1            2         1       1   \n2            3         1       3   \n3            4         1       1   \n4            5         0       3   \n\n                                                Name  Sex  Age  SibSp  Parch  \\\n0                            Braund, Mr. Owen Harris  NaN   22      1      0   \n1  Cumings, Mrs. John Bradley (Florence Briggs Th...  NaN   38      1      0   \n2                             Heikkinen, Miss. Laina  NaN   26      0      0   \n3       Futrelle, Mrs. Jacques Heath (Lily May Peel)  NaN   35      1      0   \n4                           Allen, Mr. William Henry  NaN   35      0      0   \n\n             Ticket     Fare Cabin  Embarked  Title       AgeBand  \n0         A/5 21171   7.2500   NaN         0      1  (16.0, 32.0]  \n1          PC 17599  71.2833   C85         1      3  (32.0, 48.0]  \n2  STON/O2. 3101282   7.9250   NaN         0      4  (16.0, 32.0]  \n3            113803  53.1000  C123         0      3  (32.0, 48.0]  \n4            373450   8.0500   NaN         0      1  (32.0, 48.0]  ",
            "text/html": "<div>\n<style scoped>\n    .dataframe tbody tr th:only-of-type {\n        vertical-align: middle;\n    }\n\n    .dataframe tbody tr th {\n        vertical-align: top;\n    }\n\n    .dataframe thead th {\n        text-align: right;\n    }\n</style>\n<table border=\"1\" class=\"dataframe\">\n  <thead>\n    <tr style=\"text-align: right;\">\n      <th></th>\n      <th>PassengerId</th>\n      <th>Survived</th>\n      <th>Pclass</th>\n      <th>Name</th>\n      <th>Sex</th>\n      <th>Age</th>\n      <th>SibSp</th>\n      <th>Parch</th>\n      <th>Ticket</th>\n      <th>Fare</th>\n      <th>Cabin</th>\n      <th>Embarked</th>\n      <th>Title</th>\n      <th>AgeBand</th>\n    </tr>\n  </thead>\n  <tbody>\n    <tr>\n      <td>0</td>\n      <td>1</td>\n      <td>0</td>\n      <td>3</td>\n      <td>Braund, Mr. Owen Harris</td>\n      <td>NaN</td>\n      <td>22</td>\n      <td>1</td>\n      <td>0</td>\n      <td>A/5 21171</td>\n      <td>7.2500</td>\n      <td>NaN</td>\n      <td>0</td>\n      <td>1</td>\n      <td>(16.0, 32.0]</td>\n    </tr>\n    <tr>\n      <td>1</td>\n      <td>2</td>\n      <td>1</td>\n      <td>1</td>\n      <td>Cumings, Mrs. John Bradley (Florence Briggs Th...</td>\n      <td>NaN</td>\n      <td>38</td>\n      <td>1</td>\n      <td>0</td>\n      <td>PC 17599</td>\n      <td>71.2833</td>\n      <td>C85</td>\n      <td>1</td>\n      <td>3</td>\n      <td>(32.0, 48.0]</td>\n    </tr>\n    <tr>\n      <td>2</td>\n      <td>3</td>\n      <td>1</td>\n      <td>3</td>\n      <td>Heikkinen, Miss. Laina</td>\n      <td>NaN</td>\n      <td>26</td>\n      <td>0</td>\n      <td>0</td>\n      <td>STON/O2. 3101282</td>\n      <td>7.9250</td>\n      <td>NaN</td>\n      <td>0</td>\n      <td>4</td>\n      <td>(16.0, 32.0]</td>\n    </tr>\n    <tr>\n      <td>3</td>\n      <td>4</td>\n      <td>1</td>\n      <td>1</td>\n      <td>Futrelle, Mrs. Jacques Heath (Lily May Peel)</td>\n      <td>NaN</td>\n      <td>35</td>\n      <td>1</td>\n      <td>0</td>\n      <td>113803</td>\n      <td>53.1000</td>\n      <td>C123</td>\n      <td>0</td>\n      <td>3</td>\n      <td>(32.0, 48.0]</td>\n    </tr>\n    <tr>\n      <td>4</td>\n      <td>5</td>\n      <td>0</td>\n      <td>3</td>\n      <td>Allen, Mr. William Henry</td>\n      <td>NaN</td>\n      <td>35</td>\n      <td>0</td>\n      <td>0</td>\n      <td>373450</td>\n      <td>8.0500</td>\n      <td>NaN</td>\n      <td>0</td>\n      <td>1</td>\n      <td>(32.0, 48.0]</td>\n    </tr>\n  </tbody>\n</table>\n</div>"
          },
          "metadata": {}
        }
      ]
    },
    {
      "cell_type": "markdown",
      "source": [
        "Теперь ставим в соответствие каждому (*Age*) группу возрастов (*AgeBand*).\n",
        "\n",
        ">*Цель данной операции* - сократить множество возможных значений возрастов. Иначе это усложнит работу алгоритма, т.к. он (алгоритм) будет вынужден ориентироваться на конкретные значения возрастов при производстве прогнозных значений. Это для задачи не так существенно, т.к. с точки зрения влияние на признак *Survived* м.б. не так важно, сколько лет было пассажиру - 61 или 62 (например)."
      ],
      "metadata": {
        "_cell_guid": "95d96d3d-4ac0-4da0-b7d1-906b647a446a",
        "_uuid": "d06b6cd287f56d29e5df18c4a24fee52b48561a2",
        "id": "MykQNaecWrCx"
      }
    },
    {
      "cell_type": "code",
      "source": [
        "for dataset in train_test_data:\n",
        "    dataset.loc[ dataset['Age'] <= 16, 'Age'] = 0\n",
        "    dataset.loc[(dataset['Age'] > 16) & (dataset['Age'] <= 32), 'Age'] = 1\n",
        "    dataset.loc[(dataset['Age'] > 32) & (dataset['Age'] <= 48), 'Age'] = 2\n",
        "    dataset.loc[(dataset['Age'] > 48) & (dataset['Age'] <= 64), 'Age'] = 3\n",
        "    dataset.loc[ dataset['Age'] > 64, 'Age'] = 4\n",
        "    \n",
        "train.head()"
      ],
      "metadata": {
        "_cell_guid": "0bf2eb65-a503-4b7b-b6ed-f7630f743128",
        "_uuid": "06f9edf03be1590c46cf35d2f0e59ff7354931d5",
        "execution": {
          "iopub.status.busy": "2022-10-18T13:58:34.185117Z",
          "iopub.execute_input": "2022-10-18T13:58:34.185498Z",
          "iopub.status.idle": "2022-10-18T13:58:34.246041Z",
          "shell.execute_reply.started": "2022-10-18T13:58:34.185435Z",
          "shell.execute_reply": "2022-10-18T13:58:34.244884Z"
        },
        "trusted": true,
        "id": "vix19rW3WrCy",
        "outputId": "2f882583-bb6a-404f-bf44-27b672538eef"
      },
      "execution_count": null,
      "outputs": [
        {
          "execution_count": 61,
          "output_type": "execute_result",
          "data": {
            "text/plain": "   PassengerId  Survived  Pclass  \\\n0            1         0       3   \n1            2         1       1   \n2            3         1       3   \n3            4         1       1   \n4            5         0       3   \n\n                                                Name  Sex  Age  SibSp  Parch  \\\n0                            Braund, Mr. Owen Harris  NaN    1      1      0   \n1  Cumings, Mrs. John Bradley (Florence Briggs Th...  NaN    2      1      0   \n2                             Heikkinen, Miss. Laina  NaN    1      0      0   \n3       Futrelle, Mrs. Jacques Heath (Lily May Peel)  NaN    2      1      0   \n4                           Allen, Mr. William Henry  NaN    2      0      0   \n\n             Ticket     Fare Cabin  Embarked  Title       AgeBand  \n0         A/5 21171   7.2500   NaN         0      1  (16.0, 32.0]  \n1          PC 17599  71.2833   C85         1      3  (32.0, 48.0]  \n2  STON/O2. 3101282   7.9250   NaN         0      4  (16.0, 32.0]  \n3            113803  53.1000  C123         0      3  (32.0, 48.0]  \n4            373450   8.0500   NaN         0      1  (32.0, 48.0]  ",
            "text/html": "<div>\n<style scoped>\n    .dataframe tbody tr th:only-of-type {\n        vertical-align: middle;\n    }\n\n    .dataframe tbody tr th {\n        vertical-align: top;\n    }\n\n    .dataframe thead th {\n        text-align: right;\n    }\n</style>\n<table border=\"1\" class=\"dataframe\">\n  <thead>\n    <tr style=\"text-align: right;\">\n      <th></th>\n      <th>PassengerId</th>\n      <th>Survived</th>\n      <th>Pclass</th>\n      <th>Name</th>\n      <th>Sex</th>\n      <th>Age</th>\n      <th>SibSp</th>\n      <th>Parch</th>\n      <th>Ticket</th>\n      <th>Fare</th>\n      <th>Cabin</th>\n      <th>Embarked</th>\n      <th>Title</th>\n      <th>AgeBand</th>\n    </tr>\n  </thead>\n  <tbody>\n    <tr>\n      <td>0</td>\n      <td>1</td>\n      <td>0</td>\n      <td>3</td>\n      <td>Braund, Mr. Owen Harris</td>\n      <td>NaN</td>\n      <td>1</td>\n      <td>1</td>\n      <td>0</td>\n      <td>A/5 21171</td>\n      <td>7.2500</td>\n      <td>NaN</td>\n      <td>0</td>\n      <td>1</td>\n      <td>(16.0, 32.0]</td>\n    </tr>\n    <tr>\n      <td>1</td>\n      <td>2</td>\n      <td>1</td>\n      <td>1</td>\n      <td>Cumings, Mrs. John Bradley (Florence Briggs Th...</td>\n      <td>NaN</td>\n      <td>2</td>\n      <td>1</td>\n      <td>0</td>\n      <td>PC 17599</td>\n      <td>71.2833</td>\n      <td>C85</td>\n      <td>1</td>\n      <td>3</td>\n      <td>(32.0, 48.0]</td>\n    </tr>\n    <tr>\n      <td>2</td>\n      <td>3</td>\n      <td>1</td>\n      <td>3</td>\n      <td>Heikkinen, Miss. Laina</td>\n      <td>NaN</td>\n      <td>1</td>\n      <td>0</td>\n      <td>0</td>\n      <td>STON/O2. 3101282</td>\n      <td>7.9250</td>\n      <td>NaN</td>\n      <td>0</td>\n      <td>4</td>\n      <td>(16.0, 32.0]</td>\n    </tr>\n    <tr>\n      <td>3</td>\n      <td>4</td>\n      <td>1</td>\n      <td>1</td>\n      <td>Futrelle, Mrs. Jacques Heath (Lily May Peel)</td>\n      <td>NaN</td>\n      <td>2</td>\n      <td>1</td>\n      <td>0</td>\n      <td>113803</td>\n      <td>53.1000</td>\n      <td>C123</td>\n      <td>0</td>\n      <td>3</td>\n      <td>(32.0, 48.0]</td>\n    </tr>\n    <tr>\n      <td>4</td>\n      <td>5</td>\n      <td>0</td>\n      <td>3</td>\n      <td>Allen, Mr. William Henry</td>\n      <td>NaN</td>\n      <td>2</td>\n      <td>0</td>\n      <td>0</td>\n      <td>373450</td>\n      <td>8.0500</td>\n      <td>NaN</td>\n      <td>0</td>\n      <td>1</td>\n      <td>(32.0, 48.0]</td>\n    </tr>\n  </tbody>\n</table>\n</div>"
          },
          "metadata": {}
        }
      ]
    },
    {
      "cell_type": "markdown",
      "source": [
        "<a id=\"section-three-feature-extraction-fare\"></a>\n",
        "#### Fare\n",
        "\n",
        "Заменяем пропущенные значения *Fare* усредненными/медианными значениями *Fare*.\n",
        "\n",
        "> Здесь и ранее - идея заменять пропущенные значения какими-то усредненными величинами обосновывается стремлением оставить распределение а данных примерно таким же, и не генерировать граничных/экстремальных значений, т.к. подобные выбросы могли бы увести алгоритмы прогнозирования в сторону от реального решения, давая не существующие ориентиры (например если бы мы заменили значение *Fare* - экстремально большим/малым значением по отношению к другим, и *Survived* был бы 1/0, то это дало бы ложный след для алгортимов машинного обучения, что надо увеличивать вес и значимость признака *Fare*, хотя на самом деле просто так совпало)\n"
      ],
      "metadata": {
        "_cell_guid": "a9370969-d15e-41e5-8d8a-a2911be82bcd",
        "_uuid": "7e66f23c0a159e81af26ad26f30be650ed536b0c",
        "id": "WyqzvjR6WrCy"
      }
    },
    {
      "cell_type": "code",
      "source": [
        "for dataset in train_test_data:\n",
        "    dataset['Fare'] = dataset['Fare'].fillna(train['Fare'].median())"
      ],
      "metadata": {
        "_cell_guid": "62b322e7-016c-4323-adec-a1fead11466c",
        "_uuid": "590d8b4773ecf29874718564b9b97b980a0708f0",
        "execution": {
          "iopub.status.busy": "2022-10-18T13:58:38.865143Z",
          "iopub.execute_input": "2022-10-18T13:58:38.865498Z",
          "iopub.status.idle": "2022-10-18T13:58:38.874145Z",
          "shell.execute_reply.started": "2022-10-18T13:58:38.865446Z",
          "shell.execute_reply": "2022-10-18T13:58:38.872881Z"
        },
        "trusted": true,
        "id": "Ty_7nPyRWrCy"
      },
      "execution_count": null,
      "outputs": []
    },
    {
      "cell_type": "markdown",
      "source": [
        "Создаем столбец *FareBand*. Разделяем значения *Fare* на 4 категории."
      ],
      "metadata": {
        "_cell_guid": "2e1e9e3c-56ae-440b-8f92-4ca9a4a11153",
        "_uuid": "50ef8daee9e0fb26f5b86d68dbb30d1b0d6fd894",
        "id": "jlqDEzNFWrCy"
      }
    },
    {
      "cell_type": "code",
      "source": [
        "train['FareBand'] = pd.qcut(train['Fare'], 4)\n",
        "print (train[['FareBand', 'Survived']].groupby(['FareBand'], as_index=False).mean())"
      ],
      "metadata": {
        "_cell_guid": "2e24576a-312c-43aa-baa6-e48e3a1f056f",
        "_uuid": "382dd35f80426fc77cdc779a705dad0705229c4b",
        "scrolled": true,
        "execution": {
          "iopub.status.busy": "2022-10-18T13:58:46.331307Z",
          "iopub.execute_input": "2022-10-18T13:58:46.331632Z",
          "iopub.status.idle": "2022-10-18T13:58:46.358855Z",
          "shell.execute_reply.started": "2022-10-18T13:58:46.331589Z",
          "shell.execute_reply": "2022-10-18T13:58:46.357945Z"
        },
        "trusted": true,
        "id": "cFTuzaXWWrCy",
        "outputId": "095d0f00-d0e3-4e8c-8629-70ecb850cf4f"
      },
      "execution_count": null,
      "outputs": [
        {
          "name": "stdout",
          "text": "          FareBand  Survived\n0   (-0.001, 7.91]  0.197309\n1   (7.91, 14.454]  0.303571\n2   (14.454, 31.0]  0.454955\n3  (31.0, 512.329]  0.581081\n",
          "output_type": "stream"
        }
      ]
    },
    {
      "cell_type": "code",
      "source": [
        "train.head()"
      ],
      "metadata": {
        "_cell_guid": "9f55c49f-605c-48ed-a648-0501afe7dcb7",
        "_uuid": "6d9df3a6f8392d59ff50706ede566d9ffcee1a23",
        "execution": {
          "iopub.status.busy": "2022-10-18T13:58:48.304754Z",
          "iopub.execute_input": "2022-10-18T13:58:48.305089Z",
          "iopub.status.idle": "2022-10-18T13:58:48.330126Z",
          "shell.execute_reply.started": "2022-10-18T13:58:48.305045Z",
          "shell.execute_reply": "2022-10-18T13:58:48.329076Z"
        },
        "trusted": true,
        "id": "n52lkh2MWrCy",
        "outputId": "d6995238-60d5-4c2b-b5bb-37ef0618f7db"
      },
      "execution_count": null,
      "outputs": [
        {
          "execution_count": 64,
          "output_type": "execute_result",
          "data": {
            "text/plain": "   PassengerId  Survived  Pclass  \\\n0            1         0       3   \n1            2         1       1   \n2            3         1       3   \n3            4         1       1   \n4            5         0       3   \n\n                                                Name  Sex  Age  SibSp  Parch  \\\n0                            Braund, Mr. Owen Harris  NaN    1      1      0   \n1  Cumings, Mrs. John Bradley (Florence Briggs Th...  NaN    2      1      0   \n2                             Heikkinen, Miss. Laina  NaN    1      0      0   \n3       Futrelle, Mrs. Jacques Heath (Lily May Peel)  NaN    2      1      0   \n4                           Allen, Mr. William Henry  NaN    2      0      0   \n\n             Ticket     Fare Cabin  Embarked  Title       AgeBand  \\\n0         A/5 21171   7.2500   NaN         0      1  (16.0, 32.0]   \n1          PC 17599  71.2833   C85         1      3  (32.0, 48.0]   \n2  STON/O2. 3101282   7.9250   NaN         0      4  (16.0, 32.0]   \n3            113803  53.1000  C123         0      3  (32.0, 48.0]   \n4            373450   8.0500   NaN         0      1  (32.0, 48.0]   \n\n          FareBand  \n0   (-0.001, 7.91]  \n1  (31.0, 512.329]  \n2   (7.91, 14.454]  \n3  (31.0, 512.329]  \n4   (7.91, 14.454]  ",
            "text/html": "<div>\n<style scoped>\n    .dataframe tbody tr th:only-of-type {\n        vertical-align: middle;\n    }\n\n    .dataframe tbody tr th {\n        vertical-align: top;\n    }\n\n    .dataframe thead th {\n        text-align: right;\n    }\n</style>\n<table border=\"1\" class=\"dataframe\">\n  <thead>\n    <tr style=\"text-align: right;\">\n      <th></th>\n      <th>PassengerId</th>\n      <th>Survived</th>\n      <th>Pclass</th>\n      <th>Name</th>\n      <th>Sex</th>\n      <th>Age</th>\n      <th>SibSp</th>\n      <th>Parch</th>\n      <th>Ticket</th>\n      <th>Fare</th>\n      <th>Cabin</th>\n      <th>Embarked</th>\n      <th>Title</th>\n      <th>AgeBand</th>\n      <th>FareBand</th>\n    </tr>\n  </thead>\n  <tbody>\n    <tr>\n      <td>0</td>\n      <td>1</td>\n      <td>0</td>\n      <td>3</td>\n      <td>Braund, Mr. Owen Harris</td>\n      <td>NaN</td>\n      <td>1</td>\n      <td>1</td>\n      <td>0</td>\n      <td>A/5 21171</td>\n      <td>7.2500</td>\n      <td>NaN</td>\n      <td>0</td>\n      <td>1</td>\n      <td>(16.0, 32.0]</td>\n      <td>(-0.001, 7.91]</td>\n    </tr>\n    <tr>\n      <td>1</td>\n      <td>2</td>\n      <td>1</td>\n      <td>1</td>\n      <td>Cumings, Mrs. John Bradley (Florence Briggs Th...</td>\n      <td>NaN</td>\n      <td>2</td>\n      <td>1</td>\n      <td>0</td>\n      <td>PC 17599</td>\n      <td>71.2833</td>\n      <td>C85</td>\n      <td>1</td>\n      <td>3</td>\n      <td>(32.0, 48.0]</td>\n      <td>(31.0, 512.329]</td>\n    </tr>\n    <tr>\n      <td>2</td>\n      <td>3</td>\n      <td>1</td>\n      <td>3</td>\n      <td>Heikkinen, Miss. Laina</td>\n      <td>NaN</td>\n      <td>1</td>\n      <td>0</td>\n      <td>0</td>\n      <td>STON/O2. 3101282</td>\n      <td>7.9250</td>\n      <td>NaN</td>\n      <td>0</td>\n      <td>4</td>\n      <td>(16.0, 32.0]</td>\n      <td>(7.91, 14.454]</td>\n    </tr>\n    <tr>\n      <td>3</td>\n      <td>4</td>\n      <td>1</td>\n      <td>1</td>\n      <td>Futrelle, Mrs. Jacques Heath (Lily May Peel)</td>\n      <td>NaN</td>\n      <td>2</td>\n      <td>1</td>\n      <td>0</td>\n      <td>113803</td>\n      <td>53.1000</td>\n      <td>C123</td>\n      <td>0</td>\n      <td>3</td>\n      <td>(32.0, 48.0]</td>\n      <td>(31.0, 512.329]</td>\n    </tr>\n    <tr>\n      <td>4</td>\n      <td>5</td>\n      <td>0</td>\n      <td>3</td>\n      <td>Allen, Mr. William Henry</td>\n      <td>NaN</td>\n      <td>2</td>\n      <td>0</td>\n      <td>0</td>\n      <td>373450</td>\n      <td>8.0500</td>\n      <td>NaN</td>\n      <td>0</td>\n      <td>1</td>\n      <td>(32.0, 48.0]</td>\n      <td>(7.91, 14.454]</td>\n    </tr>\n  </tbody>\n</table>\n</div>"
          },
          "metadata": {}
        }
      ]
    },
    {
      "cell_type": "markdown",
      "source": [
        "Делаем маппинг между *Fare* и *FareBand*"
      ],
      "metadata": {
        "_cell_guid": "6db348b4-96a6-44c6-bdaa-14a9644dc7ff",
        "_uuid": "1b3fd602c23619ab5a973ce5e8cb9660a6016da3",
        "id": "nq9LdhR1WrCy"
      }
    },
    {
      "cell_type": "code",
      "source": [
        "for dataset in train_test_data:\n",
        "    dataset.loc[ dataset['Fare'] <= 7.91, 'Fare'] = 0\n",
        "    dataset.loc[(dataset['Fare'] > 7.91) & (dataset['Fare'] <= 14.454), 'Fare'] = 1\n",
        "    dataset.loc[(dataset['Fare'] > 14.454) & (dataset['Fare'] <= 31), 'Fare']   = 2\n",
        "    dataset.loc[ dataset['Fare'] > 31, 'Fare'] = 3\n",
        "    dataset['Fare'] = dataset['Fare'].astype(int)\n",
        "    \n",
        "train.head()"
      ],
      "metadata": {
        "_cell_guid": "28e18cd6-8d10-4530-b7bf-0462876d5d7c",
        "_uuid": "5474b0a55f53bd445c24d3cebe7d50ada7227f4c",
        "execution": {
          "iopub.status.busy": "2022-10-18T13:58:58.627660Z",
          "iopub.execute_input": "2022-10-18T13:58:58.628068Z",
          "iopub.status.idle": "2022-10-18T13:58:58.683001Z",
          "shell.execute_reply.started": "2022-10-18T13:58:58.628004Z",
          "shell.execute_reply": "2022-10-18T13:58:58.681850Z"
        },
        "trusted": true,
        "id": "W9POspi6WrCz",
        "outputId": "ef95ba63-5ff3-4f04-c999-e0c9e6943ae8"
      },
      "execution_count": null,
      "outputs": [
        {
          "execution_count": 65,
          "output_type": "execute_result",
          "data": {
            "text/plain": "   PassengerId  Survived  Pclass  \\\n0            1         0       3   \n1            2         1       1   \n2            3         1       3   \n3            4         1       1   \n4            5         0       3   \n\n                                                Name  Sex  Age  SibSp  Parch  \\\n0                            Braund, Mr. Owen Harris  NaN    1      1      0   \n1  Cumings, Mrs. John Bradley (Florence Briggs Th...  NaN    2      1      0   \n2                             Heikkinen, Miss. Laina  NaN    1      0      0   \n3       Futrelle, Mrs. Jacques Heath (Lily May Peel)  NaN    2      1      0   \n4                           Allen, Mr. William Henry  NaN    2      0      0   \n\n             Ticket  Fare Cabin  Embarked  Title       AgeBand  \\\n0         A/5 21171     0   NaN         0      1  (16.0, 32.0]   \n1          PC 17599     3   C85         1      3  (32.0, 48.0]   \n2  STON/O2. 3101282     1   NaN         0      4  (16.0, 32.0]   \n3            113803     3  C123         0      3  (32.0, 48.0]   \n4            373450     1   NaN         0      1  (32.0, 48.0]   \n\n          FareBand  \n0   (-0.001, 7.91]  \n1  (31.0, 512.329]  \n2   (7.91, 14.454]  \n3  (31.0, 512.329]  \n4   (7.91, 14.454]  ",
            "text/html": "<div>\n<style scoped>\n    .dataframe tbody tr th:only-of-type {\n        vertical-align: middle;\n    }\n\n    .dataframe tbody tr th {\n        vertical-align: top;\n    }\n\n    .dataframe thead th {\n        text-align: right;\n    }\n</style>\n<table border=\"1\" class=\"dataframe\">\n  <thead>\n    <tr style=\"text-align: right;\">\n      <th></th>\n      <th>PassengerId</th>\n      <th>Survived</th>\n      <th>Pclass</th>\n      <th>Name</th>\n      <th>Sex</th>\n      <th>Age</th>\n      <th>SibSp</th>\n      <th>Parch</th>\n      <th>Ticket</th>\n      <th>Fare</th>\n      <th>Cabin</th>\n      <th>Embarked</th>\n      <th>Title</th>\n      <th>AgeBand</th>\n      <th>FareBand</th>\n    </tr>\n  </thead>\n  <tbody>\n    <tr>\n      <td>0</td>\n      <td>1</td>\n      <td>0</td>\n      <td>3</td>\n      <td>Braund, Mr. Owen Harris</td>\n      <td>NaN</td>\n      <td>1</td>\n      <td>1</td>\n      <td>0</td>\n      <td>A/5 21171</td>\n      <td>0</td>\n      <td>NaN</td>\n      <td>0</td>\n      <td>1</td>\n      <td>(16.0, 32.0]</td>\n      <td>(-0.001, 7.91]</td>\n    </tr>\n    <tr>\n      <td>1</td>\n      <td>2</td>\n      <td>1</td>\n      <td>1</td>\n      <td>Cumings, Mrs. John Bradley (Florence Briggs Th...</td>\n      <td>NaN</td>\n      <td>2</td>\n      <td>1</td>\n      <td>0</td>\n      <td>PC 17599</td>\n      <td>3</td>\n      <td>C85</td>\n      <td>1</td>\n      <td>3</td>\n      <td>(32.0, 48.0]</td>\n      <td>(31.0, 512.329]</td>\n    </tr>\n    <tr>\n      <td>2</td>\n      <td>3</td>\n      <td>1</td>\n      <td>3</td>\n      <td>Heikkinen, Miss. Laina</td>\n      <td>NaN</td>\n      <td>1</td>\n      <td>0</td>\n      <td>0</td>\n      <td>STON/O2. 3101282</td>\n      <td>1</td>\n      <td>NaN</td>\n      <td>0</td>\n      <td>4</td>\n      <td>(16.0, 32.0]</td>\n      <td>(7.91, 14.454]</td>\n    </tr>\n    <tr>\n      <td>3</td>\n      <td>4</td>\n      <td>1</td>\n      <td>1</td>\n      <td>Futrelle, Mrs. Jacques Heath (Lily May Peel)</td>\n      <td>NaN</td>\n      <td>2</td>\n      <td>1</td>\n      <td>0</td>\n      <td>113803</td>\n      <td>3</td>\n      <td>C123</td>\n      <td>0</td>\n      <td>3</td>\n      <td>(32.0, 48.0]</td>\n      <td>(31.0, 512.329]</td>\n    </tr>\n    <tr>\n      <td>4</td>\n      <td>5</td>\n      <td>0</td>\n      <td>3</td>\n      <td>Allen, Mr. William Henry</td>\n      <td>NaN</td>\n      <td>2</td>\n      <td>0</td>\n      <td>0</td>\n      <td>373450</td>\n      <td>1</td>\n      <td>NaN</td>\n      <td>0</td>\n      <td>1</td>\n      <td>(32.0, 48.0]</td>\n      <td>(7.91, 14.454]</td>\n    </tr>\n  </tbody>\n</table>\n</div>"
          },
          "metadata": {}
        }
      ]
    },
    {
      "cell_type": "markdown",
      "source": [
        "<a id=\"section-three-feature-extraction-sibsp-parch\"></a>\n",
        "#### SibSp & Parch\n",
        "\n",
        "[ ] - сделать самостоятельно: создать на базе *SibSp* и *Parch* новый признак, отражающий размер семьи - *FamilySize*."
      ],
      "metadata": {
        "_cell_guid": "4a2021aa-ad7a-4830-a0f2-3e6110507888",
        "_uuid": "582c8177544b578de50477b9e3b77f158345343a",
        "id": "voGMOxhtWrCz"
      }
    },
    {
      "cell_type": "code",
      "source": [
        "for dataset in train_test_data:\n",
        "    dataset['FamilySize'] = dataset['SibSp'] +  dataset['Parch'] + 1\n",
        "\n",
        "print (train[['FamilySize', 'Survived']].groupby(['FamilySize'], as_index=False).mean())"
      ],
      "metadata": {
        "_cell_guid": "81ad7a51-4bcd-40db-8595-beea82b06988",
        "_uuid": "cf748a44aca2d6721190fd6d10fdaf9ff20baa82",
        "execution": {
          "iopub.status.busy": "2022-10-18T13:59:02.544881Z",
          "iopub.execute_input": "2022-10-18T13:59:02.545251Z",
          "iopub.status.idle": "2022-10-18T13:59:02.566656Z",
          "shell.execute_reply.started": "2022-10-18T13:59:02.545194Z",
          "shell.execute_reply": "2022-10-18T13:59:02.564768Z"
        },
        "trusted": true,
        "id": "h1VTTOqpWrCz",
        "outputId": "ed23aa09-41b6-4e77-9645-55c3028c1a7f"
      },
      "execution_count": null,
      "outputs": [
        {
          "name": "stdout",
          "text": "   FamilySize  Survived\n0           1  0.303538\n1           2  0.552795\n2           3  0.578431\n3           4  0.724138\n4           5  0.200000\n5           6  0.136364\n6           7  0.333333\n7           8  0.000000\n8          11  0.000000\n",
          "output_type": "stream"
        }
      ]
    },
    {
      "cell_type": "markdown",
      "source": [
        "[ ] - Самостоятельно: проанализировать влияение полученного признака"
      ],
      "metadata": {
        "_cell_guid": "85b6c9eb-21d6-4594-aef9-fc9fb8848baa",
        "_uuid": "f9257731b8413c0e93aa27a6b50e2ad34767ee23",
        "id": "uxlRsYe8WrCz"
      }
    },
    {
      "cell_type": "markdown",
      "source": [
        "About data shows that: \n",
        "\n",
        "- Having *FamilySize* upto 4 (from 2 to 4) has better survival chance. \n",
        "- *FamilySize = 1*, i.e. travelling alone has less survival chance.\n",
        "- Large *FamilySize* (size of 5 and above) also have less survival chance."
      ],
      "metadata": {
        "id": "9CEd4xQaWrCz"
      }
    },
    {
      "cell_type": "markdown",
      "source": [
        "[ ] Самостоятельно - разработать новый признак *IsAlone*. Проанализировать, как значение данного признака влияет на шанс спасения, по сравнению с пассажирами с *FamilySize*."
      ],
      "metadata": {
        "_cell_guid": "7fd8b4ff-489a-4a71-999f-53c55dc7c445",
        "_uuid": "b2eb916068797b5d0b0eea1eed17cef38c75ff81",
        "id": "kLH8qXIjWrCz"
      }
    },
    {
      "cell_type": "code",
      "source": [
        "for dataset in train_test_data:\n",
        "    dataset['IsAlone'] = 0\n",
        "    dataset.loc[dataset['FamilySize'] == 1, 'IsAlone'] = 1\n",
        "    \n",
        "print (train[['IsAlone', 'Survived']].groupby(['IsAlone'], as_index=False).mean())"
      ],
      "metadata": {
        "_cell_guid": "ddbed4aa-fb9a-4a7f-adec-0a4a37c3823d",
        "_uuid": "8fd03222fb70effff47a2124bf6744965a98faad",
        "execution": {
          "iopub.status.busy": "2022-10-18T13:59:12.761809Z",
          "iopub.execute_input": "2022-10-18T13:59:12.762201Z",
          "iopub.status.idle": "2022-10-18T13:59:12.783982Z",
          "shell.execute_reply.started": "2022-10-18T13:59:12.762148Z",
          "shell.execute_reply": "2022-10-18T13:59:12.782631Z"
        },
        "trusted": true,
        "id": "WyjWJ5cSWrC0",
        "outputId": "8eebd7dd-08fa-4573-b0a3-ef41d95259e4"
      },
      "execution_count": null,
      "outputs": [
        {
          "name": "stdout",
          "text": "   IsAlone  Survived\n0        0  0.505650\n1        1  0.303538\n",
          "output_type": "stream"
        }
      ]
    },
    {
      "cell_type": "markdown",
      "source": [
        "Что показывает, что путешествующие водиночку имеют лишь 30% шанс на спасение."
      ],
      "metadata": {
        "_cell_guid": "7fb0810f-9f4c-4c63-bafd-5d2c95afeb88",
        "_uuid": "7481b97261d0e6f6f4eac75e44e01ed5185f5f3c",
        "id": "j4sBIo4xWrC0"
      }
    },
    {
      "cell_type": "code",
      "source": [
        "train.head(1)"
      ],
      "metadata": {
        "_cell_guid": "44e2e673-679c-44c8-85d1-5ec6d4d62836",
        "_uuid": "856b6ff45680c53d71decab72558c84e08b7aa59",
        "scrolled": true,
        "execution": {
          "iopub.status.busy": "2022-10-18T13:59:29.242576Z",
          "iopub.execute_input": "2022-10-18T13:59:29.242928Z",
          "iopub.status.idle": "2022-10-18T13:59:29.264482Z",
          "shell.execute_reply.started": "2022-10-18T13:59:29.242860Z",
          "shell.execute_reply": "2022-10-18T13:59:29.263421Z"
        },
        "trusted": true,
        "id": "UZBOfUh4WrC0",
        "outputId": "1f3a9d64-f69b-46f3-edf0-b8e7b5a5e42c"
      },
      "execution_count": null,
      "outputs": [
        {
          "execution_count": 68,
          "output_type": "execute_result",
          "data": {
            "text/plain": "   PassengerId  Survived  Pclass                     Name  Sex  Age  SibSp  \\\n0            1         0       3  Braund, Mr. Owen Harris  NaN    1      1   \n\n   Parch     Ticket  Fare Cabin  Embarked  Title       AgeBand  \\\n0      0  A/5 21171     0   NaN         0      1  (16.0, 32.0]   \n\n         FareBand  FamilySize  IsAlone  \n0  (-0.001, 7.91]           2        0  ",
            "text/html": "<div>\n<style scoped>\n    .dataframe tbody tr th:only-of-type {\n        vertical-align: middle;\n    }\n\n    .dataframe tbody tr th {\n        vertical-align: top;\n    }\n\n    .dataframe thead th {\n        text-align: right;\n    }\n</style>\n<table border=\"1\" class=\"dataframe\">\n  <thead>\n    <tr style=\"text-align: right;\">\n      <th></th>\n      <th>PassengerId</th>\n      <th>Survived</th>\n      <th>Pclass</th>\n      <th>Name</th>\n      <th>Sex</th>\n      <th>Age</th>\n      <th>SibSp</th>\n      <th>Parch</th>\n      <th>Ticket</th>\n      <th>Fare</th>\n      <th>Cabin</th>\n      <th>Embarked</th>\n      <th>Title</th>\n      <th>AgeBand</th>\n      <th>FareBand</th>\n      <th>FamilySize</th>\n      <th>IsAlone</th>\n    </tr>\n  </thead>\n  <tbody>\n    <tr>\n      <td>0</td>\n      <td>1</td>\n      <td>0</td>\n      <td>3</td>\n      <td>Braund, Mr. Owen Harris</td>\n      <td>NaN</td>\n      <td>1</td>\n      <td>1</td>\n      <td>0</td>\n      <td>A/5 21171</td>\n      <td>0</td>\n      <td>NaN</td>\n      <td>0</td>\n      <td>1</td>\n      <td>(16.0, 32.0]</td>\n      <td>(-0.001, 7.91]</td>\n      <td>2</td>\n      <td>0</td>\n    </tr>\n  </tbody>\n</table>\n</div>"
          },
          "metadata": {}
        }
      ]
    },
    {
      "cell_type": "code",
      "source": [
        "test.head(1)"
      ],
      "metadata": {
        "_cell_guid": "2f5b832c-76ea-4164-85f8-05a26670e7fc",
        "_uuid": "576af5bcf12fa1bf91c6aae882a13d472c98fc3a",
        "execution": {
          "iopub.status.busy": "2022-10-18T13:59:30.969047Z",
          "iopub.execute_input": "2022-10-18T13:59:30.969566Z",
          "iopub.status.idle": "2022-10-18T13:59:30.987028Z",
          "shell.execute_reply.started": "2022-10-18T13:59:30.969458Z",
          "shell.execute_reply": "2022-10-18T13:59:30.986082Z"
        },
        "trusted": true,
        "id": "Y5lEM8_BWrC0",
        "outputId": "0effe4db-24a8-487f-f81b-e561603d8f3e"
      },
      "execution_count": null,
      "outputs": [
        {
          "execution_count": 69,
          "output_type": "execute_result",
          "data": {
            "text/plain": "   PassengerId  Pclass              Name  Sex  Age  SibSp  Parch  Ticket  \\\n0          892       3  Kelly, Mr. James  NaN    2      0      0  330911   \n\n   Fare Cabin  Embarked  Title  FamilySize  IsAlone  \n0     0   NaN         2      1           1        1  ",
            "text/html": "<div>\n<style scoped>\n    .dataframe tbody tr th:only-of-type {\n        vertical-align: middle;\n    }\n\n    .dataframe tbody tr th {\n        vertical-align: top;\n    }\n\n    .dataframe thead th {\n        text-align: right;\n    }\n</style>\n<table border=\"1\" class=\"dataframe\">\n  <thead>\n    <tr style=\"text-align: right;\">\n      <th></th>\n      <th>PassengerId</th>\n      <th>Pclass</th>\n      <th>Name</th>\n      <th>Sex</th>\n      <th>Age</th>\n      <th>SibSp</th>\n      <th>Parch</th>\n      <th>Ticket</th>\n      <th>Fare</th>\n      <th>Cabin</th>\n      <th>Embarked</th>\n      <th>Title</th>\n      <th>FamilySize</th>\n      <th>IsAlone</th>\n    </tr>\n  </thead>\n  <tbody>\n    <tr>\n      <td>0</td>\n      <td>892</td>\n      <td>3</td>\n      <td>Kelly, Mr. James</td>\n      <td>NaN</td>\n      <td>2</td>\n      <td>0</td>\n      <td>0</td>\n      <td>330911</td>\n      <td>0</td>\n      <td>NaN</td>\n      <td>2</td>\n      <td>1</td>\n      <td>1</td>\n      <td>1</td>\n    </tr>\n  </tbody>\n</table>\n</div>"
          },
          "metadata": {}
        }
      ]
    },
    {
      "cell_type": "markdown",
      "source": [
        "<a id=\"section-four-feature-selection\"></a>\n",
        "### Отбор признаков\n",
        "\n",
        "Убираем ненужные столбцы/признаки и сохраняем только те, который будем использовать в эксперименте прогнозирования. Столбец *PassengerId* удаляется только из тренировочного датасета, посколько в Тестовом датасете нужно будет формировать отчет PassengerId - Survived при отправке файла с результатами в Kaggle."
      ],
      "metadata": {
        "_cell_guid": "c3e1351c-621a-4955-923a-9abffc0a529a",
        "_uuid": "9178b8bffc1b4402e8517dfe78edcbd7bf40d562",
        "id": "wCYjD7kLWrC0"
      }
    },
    {
      "cell_type": "code",
      "source": [
        "features_drop = ['Name', 'SibSp', 'Parch', 'Ticket', 'Cabin']\n",
        "train = train.drop(features_drop, axis=1)\n",
        "test = test.drop(features_drop, axis=1)\n",
        "train = train.drop(['PassengerId'], axis=1)"
      ],
      "metadata": {
        "_cell_guid": "775a70ed-3af7-455c-98fa-0728489e724b",
        "_uuid": "22dc74fc3b370d26b2cc086ad4a06894c912ec96",
        "execution": {
          "iopub.status.busy": "2022-10-18T14:00:02.106756Z",
          "iopub.execute_input": "2022-10-18T14:00:02.107599Z",
          "iopub.status.idle": "2022-10-18T14:00:02.120577Z",
          "shell.execute_reply.started": "2022-10-18T14:00:02.107526Z",
          "shell.execute_reply": "2022-10-18T14:00:02.118414Z"
        },
        "trusted": true,
        "id": "vaFWC7-4WrC0"
      },
      "execution_count": null,
      "outputs": []
    },
    {
      "cell_type": "code",
      "source": [
        "train.head()"
      ],
      "metadata": {
        "_cell_guid": "5a77dfbc-2210-49a5-9e44-4e0f5c96c607",
        "_uuid": "88aee9397e4a7987db1eb51f0effa8e3575d2b9d",
        "execution": {
          "iopub.status.busy": "2022-10-18T14:00:05.288427Z",
          "iopub.execute_input": "2022-10-18T14:00:05.288884Z",
          "iopub.status.idle": "2022-10-18T14:00:05.308829Z",
          "shell.execute_reply.started": "2022-10-18T14:00:05.288802Z",
          "shell.execute_reply": "2022-10-18T14:00:05.307690Z"
        },
        "trusted": true,
        "id": "A_JDpzkyWrC1",
        "outputId": "5c658b1e-d1c5-49dc-cdad-ddc6c8788a2c"
      },
      "execution_count": null,
      "outputs": [
        {
          "execution_count": 71,
          "output_type": "execute_result",
          "data": {
            "text/plain": "   Survived  Pclass  Sex  Age  Fare  Embarked  Title       AgeBand  \\\n0         0       3  NaN    1     0         0      1  (16.0, 32.0]   \n1         1       1  NaN    2     3         1      3  (32.0, 48.0]   \n2         1       3  NaN    1     1         0      4  (16.0, 32.0]   \n3         1       1  NaN    2     3         0      3  (32.0, 48.0]   \n4         0       3  NaN    2     1         0      1  (32.0, 48.0]   \n\n          FareBand  FamilySize  IsAlone  \n0   (-0.001, 7.91]           2        0  \n1  (31.0, 512.329]           2        0  \n2   (7.91, 14.454]           1        1  \n3  (31.0, 512.329]           2        0  \n4   (7.91, 14.454]           1        1  ",
            "text/html": "<div>\n<style scoped>\n    .dataframe tbody tr th:only-of-type {\n        vertical-align: middle;\n    }\n\n    .dataframe tbody tr th {\n        vertical-align: top;\n    }\n\n    .dataframe thead th {\n        text-align: right;\n    }\n</style>\n<table border=\"1\" class=\"dataframe\">\n  <thead>\n    <tr style=\"text-align: right;\">\n      <th></th>\n      <th>Survived</th>\n      <th>Pclass</th>\n      <th>Sex</th>\n      <th>Age</th>\n      <th>Fare</th>\n      <th>Embarked</th>\n      <th>Title</th>\n      <th>AgeBand</th>\n      <th>FareBand</th>\n      <th>FamilySize</th>\n      <th>IsAlone</th>\n    </tr>\n  </thead>\n  <tbody>\n    <tr>\n      <td>0</td>\n      <td>0</td>\n      <td>3</td>\n      <td>NaN</td>\n      <td>1</td>\n      <td>0</td>\n      <td>0</td>\n      <td>1</td>\n      <td>(16.0, 32.0]</td>\n      <td>(-0.001, 7.91]</td>\n      <td>2</td>\n      <td>0</td>\n    </tr>\n    <tr>\n      <td>1</td>\n      <td>1</td>\n      <td>1</td>\n      <td>NaN</td>\n      <td>2</td>\n      <td>3</td>\n      <td>1</td>\n      <td>3</td>\n      <td>(32.0, 48.0]</td>\n      <td>(31.0, 512.329]</td>\n      <td>2</td>\n      <td>0</td>\n    </tr>\n    <tr>\n      <td>2</td>\n      <td>1</td>\n      <td>3</td>\n      <td>NaN</td>\n      <td>1</td>\n      <td>1</td>\n      <td>0</td>\n      <td>4</td>\n      <td>(16.0, 32.0]</td>\n      <td>(7.91, 14.454]</td>\n      <td>1</td>\n      <td>1</td>\n    </tr>\n    <tr>\n      <td>3</td>\n      <td>1</td>\n      <td>1</td>\n      <td>NaN</td>\n      <td>2</td>\n      <td>3</td>\n      <td>0</td>\n      <td>3</td>\n      <td>(32.0, 48.0]</td>\n      <td>(31.0, 512.329]</td>\n      <td>2</td>\n      <td>0</td>\n    </tr>\n    <tr>\n      <td>4</td>\n      <td>0</td>\n      <td>3</td>\n      <td>NaN</td>\n      <td>2</td>\n      <td>1</td>\n      <td>0</td>\n      <td>1</td>\n      <td>(32.0, 48.0]</td>\n      <td>(7.91, 14.454]</td>\n      <td>1</td>\n      <td>1</td>\n    </tr>\n  </tbody>\n</table>\n</div>"
          },
          "metadata": {}
        }
      ]
    },
    {
      "cell_type": "code",
      "source": [
        "test.head()"
      ],
      "metadata": {
        "_cell_guid": "5c36b0c6-3ebf-4483-92ac-44fcd285533f",
        "_uuid": "1da0127150f750ac82d4b24fda39269c8b17fb7b",
        "execution": {
          "iopub.status.busy": "2022-10-18T14:00:17.856479Z",
          "iopub.execute_input": "2022-10-18T14:00:17.856818Z",
          "iopub.status.idle": "2022-10-18T14:00:17.870510Z",
          "shell.execute_reply.started": "2022-10-18T14:00:17.856769Z",
          "shell.execute_reply": "2022-10-18T14:00:17.869387Z"
        },
        "trusted": true,
        "id": "VWLTybykWrC1",
        "outputId": "ddf7132e-2dbd-438c-97d3-86d2f14ab05d"
      },
      "execution_count": null,
      "outputs": [
        {
          "execution_count": 72,
          "output_type": "execute_result",
          "data": {
            "text/plain": "   PassengerId  Pclass  Sex  Age  Fare  Embarked  Title  FamilySize  IsAlone\n0          892       3  NaN    2     0         2      1           1        1\n1          893       3  NaN    2     0         0      3           2        0\n2          894       2  NaN    3     1         2      1           1        1\n3          895       3  NaN    1     1         0      1           1        1\n4          896       3  NaN    1     1         0      3           3        0",
            "text/html": "<div>\n<style scoped>\n    .dataframe tbody tr th:only-of-type {\n        vertical-align: middle;\n    }\n\n    .dataframe tbody tr th {\n        vertical-align: top;\n    }\n\n    .dataframe thead th {\n        text-align: right;\n    }\n</style>\n<table border=\"1\" class=\"dataframe\">\n  <thead>\n    <tr style=\"text-align: right;\">\n      <th></th>\n      <th>PassengerId</th>\n      <th>Pclass</th>\n      <th>Sex</th>\n      <th>Age</th>\n      <th>Fare</th>\n      <th>Embarked</th>\n      <th>Title</th>\n      <th>FamilySize</th>\n      <th>IsAlone</th>\n    </tr>\n  </thead>\n  <tbody>\n    <tr>\n      <td>0</td>\n      <td>892</td>\n      <td>3</td>\n      <td>NaN</td>\n      <td>2</td>\n      <td>0</td>\n      <td>2</td>\n      <td>1</td>\n      <td>1</td>\n      <td>1</td>\n    </tr>\n    <tr>\n      <td>1</td>\n      <td>893</td>\n      <td>3</td>\n      <td>NaN</td>\n      <td>2</td>\n      <td>0</td>\n      <td>0</td>\n      <td>3</td>\n      <td>2</td>\n      <td>0</td>\n    </tr>\n    <tr>\n      <td>2</td>\n      <td>894</td>\n      <td>2</td>\n      <td>NaN</td>\n      <td>3</td>\n      <td>1</td>\n      <td>2</td>\n      <td>1</td>\n      <td>1</td>\n      <td>1</td>\n    </tr>\n    <tr>\n      <td>3</td>\n      <td>895</td>\n      <td>3</td>\n      <td>NaN</td>\n      <td>1</td>\n      <td>1</td>\n      <td>0</td>\n      <td>1</td>\n      <td>1</td>\n      <td>1</td>\n    </tr>\n    <tr>\n      <td>4</td>\n      <td>896</td>\n      <td>3</td>\n      <td>NaN</td>\n      <td>1</td>\n      <td>1</td>\n      <td>0</td>\n      <td>3</td>\n      <td>3</td>\n      <td>0</td>\n    </tr>\n  </tbody>\n</table>\n</div>"
          },
          "metadata": {}
        }
      ]
    },
    {
      "cell_type": "markdown",
      "source": [
        "Снова построим матрицу корреляци признаков"
      ],
      "metadata": {
        "id": "4IZVZ9jwWrC1"
      }
    },
    {
      "cell_type": "code",
      "source": [
        "plt.figure(figsize=(15,6))\n",
        "sns.heatmap(train.corr(), vmax=0.6, square=True, annot=True)"
      ],
      "metadata": {
        "execution": {
          "iopub.status.busy": "2022-10-18T14:00:22.168127Z",
          "iopub.execute_input": "2022-10-18T14:00:22.168508Z",
          "iopub.status.idle": "2022-10-18T14:00:22.744238Z",
          "shell.execute_reply.started": "2022-10-18T14:00:22.168433Z",
          "shell.execute_reply": "2022-10-18T14:00:22.743191Z"
        },
        "trusted": true,
        "id": "okQgU34jWrC1",
        "outputId": "613fa2b2-f6cc-4aa3-c690-d6ca9fafc9be"
      },
      "execution_count": null,
      "outputs": [
        {
          "execution_count": 73,
          "output_type": "execute_result",
          "data": {
            "text/plain": "<matplotlib.axes._subplots.AxesSubplot at 0x7f7568242668>"
          },
          "metadata": {}
        },
        {
          "output_type": "display_data",
          "data": {
            "text/plain": "<Figure size 1080x432 with 2 Axes>",
            "image/png": "[encoded data removed]"
          },
          "metadata": {
            "needs_background": "light"
          }
        }
      ]
    },
    {
      "cell_type": "markdown",
      "source": [
        "<a id=\"section-five-modelling\"></a>\n",
        "## Моделирование <a class=\"anchor\" id=\"title3\"></a>\n",
        "\n",
        "В этом разделе проводим моделирование дыннах, строим модели предсказания и пробуем разные алгоритмы. Для каждого из применямых алгоритмов необходимо определить точность его работы на тестовой выборке после обучения на тренировочном наборе. Это даст нам возможность выбрать наиболее подходящий алгоритм/модель для дальнейшей работы и предсказания финальных результатов\n",
        "\n",
        "<a id=\"section-five-modelling-classification-accuracy\"></a>\n",
        "### Классификация и Точность\n",
        "\n",
        "Данная задача относится к классу задач по классификации данных. Т.к. цель предсказания - определить 0 или 1 в зависимости от того, удастся ли спастись пассажиру или нет. Таким образом имеем задачу *бинарной классификации*, когда выбора делается из 2 возможных исходов и необходимо отнести запись в тестовом наборе к одному из двух классов - 0 или 1.\n",
        "\n",
        "Для начала определим тренировочный и тестовые наборы. Обычно семантика переменных следующая, посколько результат вычисления - это (одна) величина, то на выходе алгоритма мы получим вектор ответов ```y```, определяемый по набору передаваемых признаков (это уже матрица) - ```X```. Т.о. ```y = F(X)```, такая запись справедлива для любых алгоритмов/моделей. Соответственно вводим переменные (новые, полученный копированием данных из существующих загруженных датасетов ```train``` и ```test``` - их мы не трогаем!):\n",
        "  - ```X_train``` - признаки (те, которые мы решили использовать для обучения) из оригинанльного тренировочного набора\n",
        "  - ```y_train``` - ответы из оригинального тренировочного набора, соответсвующие признакам ```X_train```\n",
        "  - ```X_test``` - признаки из тестового набора (это новые записи, которые мы **НЕ** используем в процессе обучения)\n",
        "  - ```y_test``` - его еще нет, нам как раз и надо его найти \n",
        "\n",
        "Размерности и структура ```X_train``` и ```X_test``` должны совпадать, т.к. после проведенного обучения алгоритм ```F(X)``` должен оперировать данными одинакового вида."
      ],
      "metadata": {
        "_cell_guid": "65c074a8-55da-485c-87b9-14cb48f9ceaf",
        "_uuid": "5dca5b0e71d6e75f1a5a30ea4d7a707c546a498b",
        "id": "9Fm1EVdYWrC1"
      }
    },
    {
      "cell_type": "code",
      "source": [
        "X_train = train.drop('Survived', axis=1)\n",
        "y_train = train['Survived']\n",
        "\n",
        "X_test = test.drop(\"PassengerId\", axis=1).copy()\n",
        "\n",
        "X_train.shape, y_train.shape, X_test.shape"
      ],
      "metadata": {
        "_cell_guid": "4a7fb5d4-57a0-439d-b974-a009f07a2288",
        "_uuid": "e4417789a18e4981acc484d4fdda7abfadd1b167",
        "execution": {
          "iopub.status.busy": "2022-03-26T11:40:23.292788Z",
          "iopub.execute_input": "2022-03-26T11:40:23.293048Z",
          "iopub.status.idle": "2022-03-26T11:40:23.305635Z",
          "shell.execute_reply.started": "2022-03-26T11:40:23.293004Z",
          "shell.execute_reply": "2022-03-26T11:40:23.304280Z"
        },
        "trusted": true,
        "id": "0cF0IanXWrC1"
      },
      "execution_count": null,
      "outputs": []
    },
    {
      "cell_type": "code",
      "source": [
        "X_train = X_train.drop('AgeBand', axis=1)\n",
        "X_train = X_train.drop('FareBand', axis=1)"
      ],
      "metadata": {
        "id": "28UX6a3sXRT9"
      },
      "execution_count": null,
      "outputs": []
    },
    {
      "cell_type": "markdown",
      "source": [
        "Существует большое количество алгоритмов классификации. Среди них выбираем следующие для решения поставленной задачи:\n",
        "\n",
        "- Логистическая регрессия (Logistic Regression)\n",
        "- Метод опорных векторов (Support Vector Machines (SVM))\n",
        "- Linear SVC\n",
        "- К-ближайших соседей (k-Nearest Neighbor (KNN))\n",
        "- Решающие деревья (Decision Tree)\n",
        "- Random Forest\n",
        "- Naive Bayes (GaussianNB)\n",
        "- Perceptron\n",
        "- Stochastic Gradient Descent (SGD)\n",
        "\n",
        "Процедура тренировки и проверки выглядит следующим образом:\n",
        "\n",
        "> Во-первых, тренируем классификаторы на базе тренировочного набора. \n",
        ">\n",
        "> После этого, используя натренированный классификатор, даем прогноз значения *Survival* по тестовым данным.\n",
        ">\n",
        "> В конце, рассчитывает метрики точности (accuracy score (in percentange)) натренированного классификатора.\n",
        "\n",
        "***Замечанеи:*** that the accuracy score is generated based on our training dataset."
      ],
      "metadata": {
        "_cell_guid": "ddb2dc44-46f1-4e52-aec8-736e816e8546",
        "_uuid": "209d268ae2b591a65d7c0f1e699e9d80092779b7",
        "id": "qyi_S5NYWrC2"
      }
    },
    {
      "cell_type": "code",
      "source": [
        "# Importing Classifier Modules\n",
        "from sklearn.linear_model import LogisticRegression\n",
        "from sklearn.svm import SVC, LinearSVC\n",
        "from sklearn.neighbors import KNeighborsClassifier\n",
        "from sklearn.tree import DecisionTreeClassifier\n",
        "from sklearn.ensemble import RandomForestClassifier\n",
        "from sklearn.naive_bayes import GaussianNB\n",
        "from sklearn.linear_model import Perceptron\n",
        "from sklearn.linear_model import SGDClassifier"
      ],
      "metadata": {
        "_cell_guid": "faf9c5bc-3c61-4fdf-aa58-d56a1749d1d2",
        "_uuid": "9c04167fa2131653ae6a64f6422fa1d994583e28",
        "execution": {
          "iopub.status.busy": "2022-03-26T11:40:23.306962Z",
          "iopub.execute_input": "2022-03-26T11:40:23.307396Z",
          "iopub.status.idle": "2022-03-26T11:40:24.267386Z",
          "shell.execute_reply.started": "2022-03-26T11:40:23.307321Z",
          "shell.execute_reply": "2022-03-26T11:40:24.266628Z"
        },
        "trusted": true,
        "id": "S8A1zLNdWrC2"
      },
      "execution_count": null,
      "outputs": []
    },
    {
      "cell_type": "markdown",
      "source": [
        "<a id=\"section-five-modelling-logistic-regression\"></a>\n",
        "### Логистическая регрессия\n",
        "\n",
        "[Logistic regression](https://en.wikipedia.org/wiki/Logistic_regression) (or logit regression, or logit model) -- регрессионная модель, где зависимая величиная (DV) является категориальной. Данная статья описывает случай бинарной зависимой величины, где она может применять только 2 значения, \"0\" и \"1\", которые представляют ответы вида успешно/нет, выигрыш/проигрыш, живой/мертый или здоровый/больной. Случаи когда зависимая величина имеет более 2 значений могут анализироваться с помощью мультиноминальной логистрического регрессии (multinomial logistic regression), или, если различные категории являются упорядоченными. то с помощью моделт упорядоченного выбора (ordinal logistic regression)."
      ],
      "metadata": {
        "_cell_guid": "881abf5b-0364-4413-9377-15f4c4904dcd",
        "_uuid": "ce90eb99b14ee9a0069bdbb0c964844069189565",
        "id": "X8KQvFsLWrC2"
      }
    },
    {
      "cell_type": "code",
      "source": [
        "clf = LogisticRegression()\n",
        "clf.fit(X_train, y_train)\n",
        "y_pred_log_reg = clf.predict(X_test)\n",
        "acc_log_reg = round( clf.score(X_train, y_train) * 100, 2)\n",
        "print (str(acc_log_reg) + ' percent')"
      ],
      "metadata": {
        "_cell_guid": "029c77b6-4d4d-4a5c-9fd5-6dce078f6047",
        "_uuid": "2765423b8485d704a6500b6fa13630aaf7a8bf56",
        "execution": {
          "iopub.status.busy": "2022-03-26T11:40:24.269047Z",
          "iopub.execute_input": "2022-03-26T11:40:24.269706Z",
          "iopub.status.idle": "2022-03-26T11:40:24.290289Z",
          "shell.execute_reply.started": "2022-03-26T11:40:24.269645Z",
          "shell.execute_reply": "2022-03-26T11:40:24.289289Z"
        },
        "trusted": true,
        "id": "YJI1EN3AWrC2"
      },
      "execution_count": null,
      "outputs": []
    },
    {
      "cell_type": "markdown",
      "source": [
        "<a id=\"section-five-modelling-svm\"></a>\n",
        "### Support Vector Machine (SVM)\n",
        "\n",
        "[Support Vector Machine (SVM)](https://en.wikipedia.org/wiki/Support_vector_machine), метод опорных векторов - это пример модели обучения с Учителем, используемая для классификационного и регрессионного анализов. Они представляют данные, в виде точек на области, рассатавленных таким образом, что значения из разных категорий явно разделены между собой промежутком как можно наиболее широким. Новые значения (сэмплы из выборок) впоследствии соотносятся с этой областью и прогнозируются на принадлежность к какой-либо из категории, в зависимости от того с какой стороны промежутка они находятся.\n",
        "\n",
        "Вдополнение к реализации линейной классификции, SVM может эффективно решать задачи нелинейной классификации, используя специальный прием при работе с ядром, явно соотнося входные значения в много-мерное пространство признаков. Предположим, есть некоторые данные (описываемые в виде точек), принаддежающие одному из двух (возможных) классов, цель - определить к какому из двух классов будет принадлежать (новая) точка или сэмпл. В случае метода опорных векторов, точка отображается как $p$-мерный вектор (список из $p$ индексов), и необходимо узнать можем ли мы разделить такие точки с помощью $(p-1)$-мерной гиперплоскостью.\n",
        "\n",
        "Кто данные не промаркированы (нет label), то обучение с учителем проводить нелья (*естественно!* кэп) и требуется иной подход -- обучение без учителя, с помощью которого делаются попытки найти естественное разделение данных на группы (классы) и затем относить новые данные (=сэмплы, точки) к этим сформированным группам. Алгоритм разделения (кластеризации) который улучшает метод опорных векторов называется - **support vector clustering** и часто используется в промышленном применении и когда данные не размечены или когда только некоторые данные размечены (в результате предобработки например).\n",
        "\n",
        "В примере кода ниже, [SVC](http://scikit-learn.org/stable/modules/generated/sklearn.svm.SVC.html) реализаует метод опорных векторов для задачи классификации."
      ],
      "metadata": {
        "_cell_guid": "4ae5fc53-14b1-474f-be38-83fb052ece45",
        "_uuid": "119941500237185d1760611c79a385b8f8b8c863",
        "id": "4guDm5nFWrC2"
      }
    },
    {
      "cell_type": "code",
      "source": [
        "clf = SVC()\n",
        "clf.fit(X_train, y_train)\n",
        "y_pred_svc = clf.predict(X_test)\n",
        "acc_svc = round(clf.score(X_train, y_train) * 100, 2)\n",
        "print (acc_svc)"
      ],
      "metadata": {
        "_cell_guid": "d13b0dbd-df95-4d88-9472-ace2467cdff5",
        "_uuid": "e87de37a054831cbb12e6606dbaa4a965ce2300a",
        "execution": {
          "iopub.status.busy": "2022-03-26T11:40:24.291560Z",
          "iopub.execute_input": "2022-03-26T11:40:24.291812Z",
          "iopub.status.idle": "2022-03-26T11:40:24.354200Z",
          "shell.execute_reply.started": "2022-03-26T11:40:24.291769Z",
          "shell.execute_reply": "2022-03-26T11:40:24.353281Z"
        },
        "trusted": true,
        "id": "cJaSYZWOWrC2"
      },
      "execution_count": null,
      "outputs": []
    },
    {
      "cell_type": "markdown",
      "source": [
        "<a id=\"section-five-modelling-linear-svm\"></a>\n",
        "### Линейный SVM\n",
        "\n",
        "Линейный SVM -- модель SVM с линейным ядром.\n",
        "\n",
        "Код ниже [LinearSVC](http://scikit-learn.org/stable/modules/generated/sklearn.svm.LinearSVC.html) реалиазует линейную классификацию через опорные векторы."
      ],
      "metadata": {
        "_cell_guid": "784567c8-ecdb-4ce1-950c-7e131eaa54ae",
        "_uuid": "3a761d16c6293104723624111be94a4f3ede840d",
        "id": "LiedURKFWrC3"
      }
    },
    {
      "cell_type": "code",
      "source": [
        "clf = LinearSVC()\n",
        "clf.fit(X_train, y_train)\n",
        "y_pred_linear_svc = clf.predict(X_test)\n",
        "acc_linear_svc = round(clf.score(X_train, y_train) * 100, 2)\n",
        "print (acc_linear_svc)"
      ],
      "metadata": {
        "_cell_guid": "8cc5193c-3021-4c24-9527-816b695081fc",
        "_uuid": "5445353ecd9c48fd21928ded1fcf7e2a1b7d6106",
        "execution": {
          "iopub.status.busy": "2022-03-26T11:40:24.355651Z",
          "iopub.execute_input": "2022-03-26T11:40:24.355957Z",
          "iopub.status.idle": "2022-03-26T11:40:24.429169Z",
          "shell.execute_reply.started": "2022-03-26T11:40:24.355909Z",
          "shell.execute_reply": "2022-03-26T11:40:24.427933Z"
        },
        "trusted": true,
        "id": "Ox9FZcg3WrC3"
      },
      "execution_count": null,
      "outputs": []
    },
    {
      "cell_type": "markdown",
      "source": [
        "<a id=\"section-five-modelling-k-nearest-neib\"></a>\n",
        "### $k$ - ближайших соседей\n",
        "\n",
        "[Алгоритм $k$-ближайших соседей (k-NN)](https://en.wikipedia.org/wiki/K-nearest_neighbors_algorithm) это один из самых простых алгоритмов машинного обучения и используется и как для задачи классификации, так и для задачи регрессии. В обоих случаях, входных данные состояит из $k$ ближайших точек в пространстве признаков. Результаты зависят от того используется ли $k$-NN для задачи классификации или регрессии:\n",
        "\n",
        "- В задаче *$k$-NN классификации*, результатом явлется принадложеность классу. Объект классифицируется большинством голосов его соседей, причем объект присваивается классу, наиболее распространенному среди его $k$ ближайших соседей ($k$ положительное целое число, обычно малое). Если $k = 1$, то объект просто присваивается классу этого единственного ближайшего соседа.\n",
        "\n",
        "\n",
        "- В *$k$-NN регрессии*, выходным значением является значение свойства объекта. Это значение является средним из значений его $k$ ближайших соседей."
      ],
      "metadata": {
        "_cell_guid": "c801115a-e960-443b-a148-24380f359da7",
        "_uuid": "d228198cb82b4855b5dab0c0eed5eb41f6d66d02",
        "id": "FglU8dXWWrC3"
      }
    },
    {
      "cell_type": "code",
      "source": [
        "clf = KNeighborsClassifier(n_neighbors = 3)\n",
        "clf.fit(X_train, y_train)\n",
        "y_pred_knn = clf.predict(X_test)\n",
        "acc_knn = round(clf.score(X_train, y_train) * 100, 2)\n",
        "print (acc_knn)"
      ],
      "metadata": {
        "_cell_guid": "de79167e-d6bf-4e73-8780-f26282f1f630",
        "_uuid": "6db9e2c10401eba03540f09c318b1332380eb800",
        "execution": {
          "iopub.status.busy": "2022-03-26T11:40:24.430830Z",
          "iopub.execute_input": "2022-03-26T11:40:24.431121Z",
          "iopub.status.idle": "2022-03-26T11:40:24.497840Z",
          "shell.execute_reply.started": "2022-03-26T11:40:24.431070Z",
          "shell.execute_reply": "2022-03-26T11:40:24.496531Z"
        },
        "trusted": true,
        "id": "hFG4h0gDWrC3"
      },
      "execution_count": null,
      "outputs": []
    },
    {
      "cell_type": "markdown",
      "source": [
        "<a id=\"section-five-modelling-decision-trees\"></a>\n",
        "### Решающие деревья (или дерево решений, decision tree)\n",
        "\n",
        "[Дерево решений](https://en.wikipedia.org/wiki/Decision_tree) это струткура похожая на последовательность вычислений в которой каждый вычисляющий узел (нода) содержит некую проверку/сравнение/тест какого-либо атрибута или признака, каждая ветвь представляет результат теста, а каждый лист представляет ответ(class label) - решение, принимаемоем после прохождения всего алгоритма. Путь от корневрого узла (самой первой проверки) до листа представляет собой набор классификационных правил."
      ],
      "metadata": {
        "_cell_guid": "ffc9640a-6839-4c8d-9729-3bb4a5ec72e2",
        "_uuid": "c5b7ef00bca6806aa76793112fdb1f2668ccd6b2",
        "id": "H0Ks9zZsWrC3"
      }
    },
    {
      "cell_type": "code",
      "source": [
        "clf = DecisionTreeClassifier()\n",
        "clf.fit(X_train, y_train)\n",
        "y_pred_decision_tree = clf.predict(X_test)\n",
        "acc_decision_tree = round(clf.score(X_train, y_train) * 100, 2)\n",
        "print (acc_decision_tree)"
      ],
      "metadata": {
        "_cell_guid": "d83b24f6-f4ad-4b23-a853-c25ac017e195",
        "_uuid": "cb309b92c4833148cdd3588bfc1bc1ee923544d0",
        "execution": {
          "iopub.status.busy": "2022-03-26T11:40:24.500070Z",
          "iopub.execute_input": "2022-03-26T11:40:24.500615Z",
          "iopub.status.idle": "2022-03-26T11:40:24.513459Z",
          "shell.execute_reply.started": "2022-03-26T11:40:24.500404Z",
          "shell.execute_reply": "2022-03-26T11:40:24.512260Z"
        },
        "trusted": true,
        "id": "x04rri_4WrC3"
      },
      "execution_count": null,
      "outputs": []
    },
    {
      "cell_type": "markdown",
      "source": [
        "<a id=\"section-five-modelling-random-forest\"></a>\n",
        "### Случайный лес (random forest)\n",
        "\n",
        "[Случайный лес](https://en.wikipedia.org/wiki/Random_forest) или **лес случайных решений** - это способ обучения/ссотавления ансабля решений **ensemble learning method** для задач классификации, регрессии и других, который выполнеяет за счет создания множества решеющих деревьев во время обучения и выведения класса, являющегося модой (для задач классификации) или усредненам прогнозом (для задач регрессии), по отдельным деревьям. Леса случайных решений корректируют склонность Деревьев Решений Random соответствовать их обучающему набору (overfitting).\n",
        "\n",
        "[Методы ассебмлирования](https://en.wikipedia.org/wiki/Ensemble_learning) используют несколько обучающих алгоритмов для получения лучшей эффектвиности прогнозирования, чем можно было бы получить с помощью любого из составляющих алгоритмов обучения."
      ],
      "metadata": {
        "_cell_guid": "9434e168-98fd-4258-b23c-6f06a3e6f6e1",
        "_uuid": "5fc894614278153dcb2076f1116ddfae7316bd36",
        "id": "-TdDP5DJWrC3"
      }
    },
    {
      "cell_type": "code",
      "source": [
        "clf = RandomForestClassifier(n_estimators=100)\n",
        "clf.fit(X_train, y_train)\n",
        "y_pred_random_forest = clf.predict(X_test)\n",
        "acc_random_forest = round(clf.score(X_train, y_train) * 100, 2)\n",
        "print (acc_random_forest)"
      ],
      "metadata": {
        "_cell_guid": "4290fc8d-4fa0-489a-a42b-3e60d05ed863",
        "_uuid": "7b002b287478456f41daa294acaf5325147596bb",
        "execution": {
          "iopub.status.busy": "2022-03-26T11:40:24.515823Z",
          "iopub.execute_input": "2022-03-26T11:40:24.516570Z",
          "iopub.status.idle": "2022-03-26T11:40:24.687980Z",
          "shell.execute_reply.started": "2022-03-26T11:40:24.516166Z",
          "shell.execute_reply": "2022-03-26T11:40:24.686984Z"
        },
        "trusted": true,
        "id": "4-dwWltqWrC3"
      },
      "execution_count": null,
      "outputs": []
    },
    {
      "cell_type": "markdown",
      "source": [
        "<a id=\"section-five-modelling-naive-bayes\"></a>\n",
        "### Gaussian Naive Bayes\n",
        "\n",
        "[Наивные Байесовские классификаторы](https://en.wikipedia.org/wiki/Naive_Bayes_classifier)(Naive Bayes classifiers) это семейство простых вероятностных классификаторов, в основе которых лежит применение теоремы Байеса со строгим (=наивным) предположением о незаивисимости между признаками.\n",
        "\n",
        "[Теорема Байеса](https://en.wikipedia.org/wiki/Bayes%27_theorem) описывает веростность события, основываясь на априорном знании условий, которые могут бысть связаны с событием. Например, если заболеваемость раком зависит от возраста, то, следуя теореме Байеса, возраст человека может использоваться для для более точной оценки веростности о наличии рака, по сравнению с оценкой вероятности раки, сделанной без учета (знания) информации о возрасте человека.\n",
        "\n",
        "Naive Bayes - это простая техника создания классификаторов: модели, которые выбирают ответ (label) для конкртеной задачи, поредставляются как вектора значений признаков, в котором метки классов берутся из какого-либо конечного множества. Это не один алгоритм обучения таких классификаторов, а семейчас алгоритмов, основанных на общем принципе: все наивные классификаторы (Байеса) предполагают, что значение определенного признакок не зависит от значений других признаков, заданного переменной класса. Наприме, фрукт может быть признан яблоком, если он красный, круглый и около 10см в диаметре. Наивный Байесовский классификатор предполагает, что каждый из этих признаков вносит свой независимый вклад в вероятность того, что фрукт это яблоко, в независимости от того есть ли какие-то возможные корреляции между (свойствами) цветом, округленностью, и диаметром."
      ],
      "metadata": {
        "_cell_guid": "53fa45d0-250e-4cd0-9bb2-85cfc8629edd",
        "_uuid": "06ab975e669bca4f31a0cbba2a9c224678937915",
        "id": "ZGrvOzCIWrC4"
      }
    },
    {
      "cell_type": "code",
      "source": [
        "clf = GaussianNB()\n",
        "clf.fit(X_train, y_train)\n",
        "y_pred_gnb = clf.predict(X_test)\n",
        "acc_gnb = round(clf.score(X_train, y_train) * 100, 2)\n",
        "print (acc_gnb)"
      ],
      "metadata": {
        "_cell_guid": "8febef02-a1ab-4b40-9cc5-7767df03d281",
        "_uuid": "5075f02f520ad56f78c1f396fe0eec9b7fc00730",
        "execution": {
          "iopub.status.busy": "2022-03-26T11:40:24.689497Z",
          "iopub.execute_input": "2022-03-26T11:40:24.690011Z",
          "iopub.status.idle": "2022-03-26T11:40:24.703283Z",
          "shell.execute_reply.started": "2022-03-26T11:40:24.689952Z",
          "shell.execute_reply": "2022-03-26T11:40:24.702226Z"
        },
        "trusted": true,
        "id": "Ec3AL7o8WrC4"
      },
      "execution_count": null,
      "outputs": []
    },
    {
      "cell_type": "markdown",
      "source": [
        "<a id=\"section-five-modelling-perceptron\"></a>\n",
        "### Перцептрон (perceptron)\n",
        "\n",
        "[Перцептрон](https://en.wikipedia.org/wiki/Perceptron) это вид линейного классификатора, т.е. алгоритма классификации, который дает прогноз, основываясь на линейной функции предсказания, комбинирующей множество весов с вектором признаков (свойств)."
      ],
      "metadata": {
        "_cell_guid": "e6136623-8028-409a-b239-6f92c719c2aa",
        "_uuid": "5a40f4e4ff45cf2bf4d9cb19f094acd44d18fc9e",
        "id": "T2ZwM42dWrC4"
      }
    },
    {
      "cell_type": "code",
      "source": [
        "clf = Perceptron(max_iter=5, tol=None)\n",
        "clf.fit(X_train, y_train)\n",
        "y_pred_perceptron = clf.predict(X_test)\n",
        "acc_perceptron = round(clf.score(X_train, y_train) * 100, 2)\n",
        "print (acc_perceptron)"
      ],
      "metadata": {
        "_cell_guid": "661dc020-72c4-467d-aaff-388e375b4c7b",
        "_uuid": "ac62f3486a6e8e27fa10642e70dee88b75100c1d",
        "execution": {
          "iopub.status.busy": "2022-03-26T11:40:24.704942Z",
          "iopub.execute_input": "2022-03-26T11:40:24.705574Z",
          "iopub.status.idle": "2022-03-26T11:40:24.719769Z",
          "shell.execute_reply.started": "2022-03-26T11:40:24.705517Z",
          "shell.execute_reply": "2022-03-26T11:40:24.718619Z"
        },
        "trusted": true,
        "id": "CuUTFP40WrC4"
      },
      "execution_count": null,
      "outputs": []
    },
    {
      "cell_type": "markdown",
      "source": [
        "<a id=\"section-five-modelling-sgd\"></a>\n",
        "### Стохастический градиентный спуск (SGD)\n",
        "\n",
        "[Метод стохастического градиентного спуска](https://en.wikipedia.org/wiki/Stochastic_gradient_descent) (часто упоминается сокращенно **SGD**), также известный, как метод инрементного градиентного спуска, это стохастическая апроксимация метода оптимизации градиентного спуска по минимизации целевой функции, которая записывается как сумма дифференциируемых функций. Другими словами, SGD пытается итеративно найти минимумы/максимумуы."
      ],
      "metadata": {
        "_cell_guid": "86c776a1-2842-4aae-b907-301bff298d43",
        "_uuid": "1e8ca383bcccda9343a05579f6079a67a2589e7d",
        "id": "mwHwxz8VWrC4"
      }
    },
    {
      "cell_type": "code",
      "source": [
        "clf = SGDClassifier(max_iter=5, tol=None)\n",
        "clf.fit(X_train, y_train)\n",
        "y_pred_sgd = clf.predict(X_test)\n",
        "acc_sgd = round(clf.score(X_train, y_train) * 100, 2)\n",
        "print (acc_sgd)"
      ],
      "metadata": {
        "_cell_guid": "abcc42de-b931-4f6c-a508-ce44608575a9",
        "_uuid": "6b73257f4aad91881fc38f90a4fb0b0aff754ae0",
        "execution": {
          "iopub.status.busy": "2022-03-26T11:40:24.721127Z",
          "iopub.execute_input": "2022-03-26T11:40:24.721418Z",
          "iopub.status.idle": "2022-03-26T11:40:24.738410Z",
          "shell.execute_reply.started": "2022-03-26T11:40:24.721375Z",
          "shell.execute_reply": "2022-03-26T11:40:24.737133Z"
        },
        "trusted": true,
        "id": "7HjXNqudWrC4"
      },
      "execution_count": null,
      "outputs": []
    },
    {
      "cell_type": "markdown",
      "source": [
        "<a id=\"section-five-modelling-confusion-matrix\"></a>\n",
        "### Матрица неточностей/ошибок (confusion matrix)\n",
        "\n",
        "[Матрица неточностей](https://en.wikipedia.org/wiki/Confusion_matrix), она же матрица ошибок, это специальная таблица, визуализирующая производительность алгоритма. Каждая строка представляет экземпляры из прогнозируемого класса, а каждый столбец предствляет экземпляры в реальном (настоящем) классе, или наоборот. Название связано с тем, что оно позволяет очень просто увидеть если система путает 2 класса (т.к. неправильно помечает один как другой).\n",
        "\n",
        "В прогнозной аналитике, таблица ошибок (= confusion matrix), это таблица из 2х строк и 2х столбцов, которая отображает количество ложных срабатываний (false positives), ложных отрицаний (false negatives),верных срабатываний (true positives), и верных отрицаний (true negatives). Это позволяет проводить более детальную аналитику чем просто сравнивать доли корректных классификаций (точность - accuracy). Точность не является надежной метрикой для отображения реальной производительности классификатора, потому что она приведет к вводящим в заблуждение результатам, в случае несбалансированных данных (то есть в тех случаях когда количество наблюдений в разных классых значительно разнинтся). Например, если в наборе было 95 котов и только 5 собак, а какой-то классификаор может классфицировать все наблюдения как \"коты\". Общая точность будет 95%, но более при более внмиательном рассмотрении окажется, что распонавание проивзодится с 100% точностью для котов и лишь 0% для собак.\n",
        "\n",
        "> В случае задачи бинарной классификации у нас есть только 2 исхода - Истина или Ложь, они соотносятся с Положительными и Отрицательными ответами. Формулировки могут звучать путано, особенно по-русски, но надо запомнить, что это матрица показывает насколько правильно выбирались (=прогнозировались) значения Класса для образцов по отношению к наперед заданным (=реальным, настоящим) значениям.\n",
        "\n",
        "Тут представлено иное объяснение матрицы неточностей [Confusion Matrix with example](http://www.dataschool.io/simple-guide-to-confusion-matrix-terminology/).\n",
        "\n",
        "$\\begin{matrix} & Предсказаны Положительные & Предсказаны Отрицательные \\\\ Настоящие Положительне & TP & FN \\\\ Настоящие Отрицательные & FP & TN \\end{matrix}$\n",
        "\n",
        "Для данной задачи (Титаник), трактовка будет следующей: \n",
        "\n",
        ">**True Positive (TP):** Классификатор предсказал *Survived (=1)* **и** пассажир действительно *Был Спасен (Survived, =1)*.\n",
        ">\n",
        ">**True Negative (TN):** Классификатор предсказал *Not Survived (=0)* **и** пассажиру не удалось спастись *Not Survived*.\n",
        ">\n",
        ">**False Postiive (FP):** Классификатор предсказал *Survived* **но** пассжир в действительности не был спасен *Not Survived*.\n",
        ">\n",
        ">**False Negative (FN):** Классификатор предсказал *Not Survived* **ноt** пассажир был спасен *Survived*."
      ],
      "metadata": {
        "_cell_guid": "9b657596-31e3-42e8-ab7a-e74acd125844",
        "_uuid": "97826c9676096df94b5518757228fdf8c18c4773",
        "id": "OyPyT2oaWrC4"
      }
    },
    {
      "cell_type": "markdown",
      "source": [
        "Пример кода нижен строит Матрицу Ошибок для предсказаний, сделанных ***Random Forest Classifier*** на данной тренировочной выборке. Это показывает, как много записей были корректно/не корректно предсказаны данными классификатором."
      ],
      "metadata": {
        "_cell_guid": "04e2db54-b0ba-4c85-8c50-62cc7acaa248",
        "_uuid": "8658592f1d6034b06f66008c54546e86d7817954",
        "id": "vJcgV95oWrC4"
      }
    },
    {
      "cell_type": "code",
      "source": [
        "from sklearn.metrics import confusion_matrix\n",
        "import itertools\n",
        "\n",
        "clf = RandomForestClassifier(n_estimators=100)\n",
        "clf.fit(X_train, y_train)\n",
        "y_pred_random_forest_training_set = clf.predict(X_train)\n",
        "acc_random_forest = round(clf.score(X_train, y_train) * 100, 2)\n",
        "print (\"Accuracy: %i %% \\n\"%acc_random_forest)\n",
        "\n",
        "class_names = ['Survived', 'Not Survived']\n",
        "\n",
        "# Compute confusion matrix\n",
        "cnf_matrix = confusion_matrix(y_train, y_pred_random_forest_training_set)\n",
        "\n",
        "cnf_matrix_percent = cnf_matrix.astype('float') / cnf_matrix.sum(axis=1)[:, np.newaxis]\n",
        "\n",
        "\n",
        "true_class_names = ['True Survived', 'True Not Survived']\n",
        "predicted_class_names = ['Predicted Survived', 'Predicted Not Survived']\n",
        "\n",
        "df_cnf_matrix = pd.DataFrame(cnf_matrix, \n",
        "                             index = true_class_names,\n",
        "                             columns = predicted_class_names)\n",
        "\n",
        "df_cnf_matrix_percent = pd.DataFrame(cnf_matrix_percent, \n",
        "                                     index = true_class_names,\n",
        "                                     columns = predicted_class_names)\n",
        "\n",
        "plt.figure(figsize = (15,5))\n",
        "\n",
        "plt.subplot(121)\n",
        "sns.heatmap(df_cnf_matrix, annot=True, fmt='d')\n",
        "\n",
        "plt.subplot(122)\n",
        "sns.heatmap(df_cnf_matrix_percent, annot=True)"
      ],
      "metadata": {
        "_cell_guid": "c8d4f219-0972-40f3-90f7-1adb133928a4",
        "_uuid": "7361a26b2cab108fcf76aa9c6b0f9d7f5c15635e",
        "execution": {
          "iopub.status.busy": "2022-03-26T11:40:24.740927Z",
          "iopub.execute_input": "2022-03-26T11:40:24.741199Z",
          "iopub.status.idle": "2022-03-26T11:40:25.290796Z",
          "shell.execute_reply.started": "2022-03-26T11:40:24.741153Z",
          "shell.execute_reply": "2022-03-26T11:40:25.289886Z"
        },
        "trusted": true,
        "id": "5Gfzp_fVWrC4"
      },
      "execution_count": null,
      "outputs": []
    },
    {
      "cell_type": "code",
      "source": [],
      "metadata": {
        "trusted": true,
        "id": "kJPiZKv0WrC5"
      },
      "execution_count": null,
      "outputs": []
    },
    {
      "cell_type": "markdown",
      "source": [
        "Сравним этот результат с каким-нибудь менее удачным."
      ],
      "metadata": {
        "_cell_guid": "04e2db54-b0ba-4c85-8c50-62cc7acaa248",
        "_uuid": "8658592f1d6034b06f66008c54546e86d7817954",
        "id": "XIJzD6tEWrC5"
      }
    },
    {
      "cell_type": "code",
      "source": [
        "clf = Perceptron(max_iter=5, tol=None)\n",
        "clf.fit(X_train, y_train)\n",
        "y_pred_perceptron = clf.predict(X_train)\n",
        "\n",
        "acc_perceptron = round(clf.score(X_train, y_train) * 100, 2)\n",
        "print (\"Accuracy: %i %% \\n\"%acc_perceptron)\n",
        "\n",
        "#class_names = ['Survived', 'Not Survived']\n",
        "\n",
        "# Compute confusion matrix\n",
        "cnf_matrix = confusion_matrix(y_train, y_pred_perceptron)\n",
        "cnf_matrix_percent = cnf_matrix.astype('float') / cnf_matrix.sum(axis=1)[:, np.newaxis]\n",
        "\n",
        "#true_class_names = ['True Survived', 'True Not Survived']\n",
        "#predicted_class_names = ['Predicted Survived', 'Predicted Not Survived']\n",
        "\n",
        "df_cnf_matrix = pd.DataFrame(cnf_matrix, \n",
        "                             index = true_class_names,\n",
        "                             columns = predicted_class_names)\n",
        "\n",
        "df_cnf_matrix_percent = pd.DataFrame(cnf_matrix_percent, \n",
        "                                     index = true_class_names,\n",
        "                                     columns = predicted_class_names)\n",
        "\n",
        "plt.figure(figsize = (15,5))\n",
        "\n",
        "ax1 = plt.subplot(121)\n",
        "sns.heatmap(df_cnf_matrix, annot=True, fmt='d')\n",
        "ax1.title.set_text('Perceptron: values')\n",
        "\n",
        "ax2 = plt.subplot(122)\n",
        "sns.heatmap(df_cnf_matrix_percent, annot=True)\n",
        "ax2.title.set_text('Perceptron: %')"
      ],
      "metadata": {
        "execution": {
          "iopub.status.busy": "2022-03-26T11:40:25.292297Z",
          "iopub.execute_input": "2022-03-26T11:40:25.292629Z",
          "iopub.status.idle": "2022-03-26T11:40:25.673296Z",
          "shell.execute_reply.started": "2022-03-26T11:40:25.292576Z",
          "shell.execute_reply": "2022-03-26T11:40:25.672344Z"
        },
        "trusted": true,
        "id": "CHoAwd95WrC5"
      },
      "execution_count": null,
      "outputs": []
    },
    {
      "cell_type": "markdown",
      "source": [
        "<a id=\"section-five-modelling-models-comparison\"></a>\n",
        "### Сравнение моделей\n",
        "\n",
        "Давайте сравним точность всех классификаторов, используемых выше."
      ],
      "metadata": {
        "_cell_guid": "41eab8a7-3990-453f-ae70-421764877621",
        "_uuid": "d1fce74d8c032aebdd33263105754713f7b351e1",
        "id": "C4UaAy-1WrC5"
      }
    },
    {
      "cell_type": "code",
      "source": [
        "models = pd.DataFrame({\n",
        "    'Model': ['Logistic Regression', 'Support Vector Machines', 'Linear SVC', \n",
        "              'KNN', 'Decision Tree', 'Random Forest', 'Naive Bayes', \n",
        "              'Perceptron', 'Stochastic Gradient Decent'],\n",
        "    \n",
        "    'Score': [acc_log_reg, acc_svc, acc_linear_svc, \n",
        "              acc_knn,  acc_decision_tree, acc_random_forest, acc_gnb, \n",
        "              acc_perceptron, acc_sgd]\n",
        "    })\n",
        "\n",
        "models.sort_values(by='Score', ascending=False)"
      ],
      "metadata": {
        "_cell_guid": "d629ddf4-b0dc-4451-9c6d-90835d1d031c",
        "_uuid": "76712bd9dbd7eca3cbfa8ce5d9758f90f99da826",
        "execution": {
          "iopub.status.busy": "2022-03-26T11:40:25.674989Z",
          "iopub.execute_input": "2022-03-26T11:40:25.675381Z",
          "iopub.status.idle": "2022-03-26T11:40:25.694150Z",
          "shell.execute_reply.started": "2022-03-26T11:40:25.675304Z",
          "shell.execute_reply": "2022-03-26T11:40:25.693116Z"
        },
        "trusted": true,
        "id": "MrwtOiATWrC5"
      },
      "execution_count": null,
      "outputs": []
    },
    {
      "cell_type": "markdown",
      "source": [
        "Из таблицы выше видно, что *Деревья решений (Decision Tree)* и *Лес решений (Random Forest)* имеют наибольший показатель точности.\n",
        "\n",
        "Для отправки финального решения мы выбираем из этих двоих классификатор *Random Forest* т.к. он может противодействовать или хотя бы ограничить overfitting эффект по сравнению с *Decision Tree* классификатором."
      ],
      "metadata": {
        "_cell_guid": "ecaca25d-8f42-4645-881f-15f49c71c846",
        "_uuid": "1cc14a9ad87b0a43650197feef30cbd50313f282",
        "id": "1hhxO7PhWrC5"
      }
    },
    {
      "cell_type": "markdown",
      "source": [
        "<a id=\"section-six-modelling-ensembles\"></a>\n",
        "## Ансамбли Моделей <a class=\"anchor\" id=\"title5\"></a>\n",
        "\n",
        "<a id=\"section-six-modelling-ensembles-voting\"></a>\n",
        "### Голосование большинством\n",
        "\n",
        "Голосование большинством обычно используется для задач классификации. В этом методе используются несколько моделей для прогнозирования по каждому из сэмплов. Т.е. происходит голосование моделей за исход по конкретному примеру. Предсказания, которые получаются от большинства мы затем используем как итоговый результат."
      ],
      "metadata": {
        "id": "eglyt4tSWrC6"
      }
    },
    {
      "cell_type": "code",
      "source": [
        "from sklearn.ensemble import VotingClassifier\n",
        "\n",
        "# 1. Dыбираем модели, включенные в голосование\n",
        "model1 = Perceptron(max_iter=5, tol=None)\n",
        "model2 = SGDClassifier(max_iter=5, tol=None)\n",
        "model3 = GaussianNB()\n",
        "\n",
        "# 2. Сам \"голосующий\" классификатор\n",
        "model = VotingClassifier(estimators=[('perceptron', model1), ('sdg', model2), ('nb', model3)], voting='hard')\n",
        "model.fit(X_train,y_train)\n",
        "\n",
        "# 3. Confusion Matrix\n",
        "y_pred_voter = model.predict(X_train)\n",
        "acc_voter = round(model.score(X_train, y_train) * 100, 2)\n",
        "print (\"Accuracy: %i %% \\n\"%acc_voter)\n",
        "\n",
        "#class_names = ['Survived', 'Not Survived']\n",
        "\n",
        "# Compute confusion matrix\n",
        "cnf_matrix = confusion_matrix(y_train, y_pred_voter)\n",
        "cnf_matrix_percent = cnf_matrix.astype('float') / cnf_matrix.sum(axis=1)[:, np.newaxis]\n",
        "\n",
        "#true_class_names = ['True Survived', 'True Not Survived']\n",
        "#predicted_class_names = ['Predicted Survived', 'Predicted Not Survived']\n",
        "\n",
        "df_cnf_matrix = pd.DataFrame(cnf_matrix, \n",
        "                             index = true_class_names,\n",
        "                             columns = predicted_class_names)\n",
        "\n",
        "df_cnf_matrix_percent = pd.DataFrame(cnf_matrix_percent, \n",
        "                                     index = true_class_names,\n",
        "                                     columns = predicted_class_names)\n",
        "\n",
        "plt.figure(figsize = (15,5))\n",
        "\n",
        "ax1 = plt.subplot(121)\n",
        "sns.heatmap(df_cnf_matrix, annot=True, fmt='d')\n",
        "ax1.title.set_text('Voting: values')\n",
        "\n",
        "ax2 = plt.subplot(122)\n",
        "sns.heatmap(df_cnf_matrix_percent, annot=True)\n",
        "ax2.title.set_text('Voting: %')"
      ],
      "metadata": {
        "execution": {
          "iopub.status.busy": "2022-03-26T11:40:25.695804Z",
          "iopub.execute_input": "2022-03-26T11:40:25.696173Z",
          "iopub.status.idle": "2022-03-26T11:40:26.099366Z",
          "shell.execute_reply.started": "2022-03-26T11:40:25.696106Z",
          "shell.execute_reply": "2022-03-26T11:40:26.098324Z"
        },
        "trusted": true,
        "id": "KWpsQwuGWrC6"
      },
      "execution_count": null,
      "outputs": []
    },
    {
      "cell_type": "markdown",
      "source": [
        "<a id=\"section-seven-prepare-for-submission\"></a>\n",
        "## Создание итогового файла для отправки в Kaggle <a class=\"anchor\" id=\"title4\"></a>"
      ],
      "metadata": {
        "_cell_guid": "7150a23a-ac8b-4d1e-a2ab-9a55af1c0796",
        "_uuid": "3922acccd9b2d03d622c64595764d51cfcf1a217",
        "id": "hsJuiq-iWrC6"
      }
    },
    {
      "cell_type": "code",
      "source": [
        "test.head()"
      ],
      "metadata": {
        "_cell_guid": "8cbedfd6-f299-49a0-bdae-f6e73c4f2418",
        "_uuid": "5fa4f95cf381b7ec70e487454a78a3cf6fa6c69a",
        "execution": {
          "iopub.status.busy": "2022-03-26T11:40:26.100694Z",
          "iopub.execute_input": "2022-03-26T11:40:26.100964Z",
          "iopub.status.idle": "2022-03-26T11:40:26.113865Z",
          "shell.execute_reply.started": "2022-03-26T11:40:26.100920Z",
          "shell.execute_reply": "2022-03-26T11:40:26.112764Z"
        },
        "trusted": true,
        "id": "mh6GbbjYWrC6"
      },
      "execution_count": null,
      "outputs": []
    },
    {
      "cell_type": "code",
      "source": [
        "submission = pd.DataFrame({\n",
        "        \"PassengerId\": test[\"PassengerId\"],\n",
        "        \"Survived\": y_pred_random_forest\n",
        "    })\n",
        "\n",
        "# submission.to_csv('submission.csv', index=False)"
      ],
      "metadata": {
        "_cell_guid": "9f746ecd-04c5-4fac-a7e2-14335ee6723d",
        "_uuid": "137043b16742738d97ff3d0a0d772921030aa48b",
        "execution": {
          "iopub.status.busy": "2022-03-26T11:40:26.115487Z",
          "iopub.execute_input": "2022-03-26T11:40:26.115874Z",
          "iopub.status.idle": "2022-03-26T11:40:26.127424Z",
          "shell.execute_reply.started": "2022-03-26T11:40:26.115807Z",
          "shell.execute_reply": "2022-03-26T11:40:26.126378Z"
        },
        "trusted": true,
        "id": "9oDlzZLpWrC6"
      },
      "execution_count": null,
      "outputs": []
    },
    {
      "cell_type": "markdown",
      "source": [
        "<a id=\"section-eight-links\"></a>\n",
        "## Ссылки\n",
        "\n",
        "Оригинальный ноутбук был подготовлен изучая следующие:\n",
        "\n",
        "- [A Journey through Titanic](https://www.kaggle.com/omarelgabry/a-journey-through-titanic)\n",
        "- [Titanic Data Science Solutions](https://www.kaggle.com/startupsci/titanic-data-science-solutions)\n",
        "- [Pytanic](https://www.kaggle.com/headsortails/pytanic)\n",
        "- [Titanic best working Classifier](https://www.kaggle.com/sinakhorami/titanic-best-working-classifier)\n",
        "- [My approach to Titanic competition](https://www.kaggle.com/rafalplis/my-approach-to-titanic-competition)"
      ],
      "metadata": {
        "_cell_guid": "ab3c27b8-1188-4784-a6b4-490c5077c876",
        "_uuid": "58047f85e71fdd284405b55192112026cf8e4788",
        "id": "CJxCsYycWrC6"
      }
    }
  ]
}