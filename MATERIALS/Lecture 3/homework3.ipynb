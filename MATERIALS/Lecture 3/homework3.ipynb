{
  "nbformat": 4,
  "nbformat_minor": 0,
  "metadata": {
    "colab": {
      "provenance": []
    },
    "kernelspec": {
      "name": "python3",
      "display_name": "Python 3"
    },
    "language_info": {
      "name": "python"
    }
  },
  "cells": [
    {
      "cell_type": "markdown",
      "source": [
        "# MISIS AI Lab\n",
        "\n",
        "В данном домашнем задании, применяя все изучениенные алгоритмы ML, а в частности Деревья решений и Ансамбли, необходимо решить [Kaggle Spaceship Titanic](https://www.kaggle.com/competitions/spaceship-titanic) соревнование. Все ответы вам предстоит отправить в этой [форме](https://forms.gle/jqqm2m2J4LWEuLpq9)\n",
        "\n",
        "Ваша задача предсказать, какие пассажиры переместятся в другое измерение. В качестве данных вы имеете\n",
        "- train.csv - личные записи примерно двух третей (~8700) пассажиров.\n",
        "- test.csv - личные записи оставшейся трети (~ 4300) пассажиров. Ваша задача состоит в том, чтобы предсказать значение Transported для пассажиров в этом наборе.\n",
        "- sample_submission.csv - файл отправки в правильном формате.\n",
        "\n",
        "Вам необходимо провести полный анализ данных и использовать алгоритмы ML, которые мы уже изучили. План, который необходимо реализовать при решении задачи:\n",
        "- Распаковка данных\n",
        "- Выявление количественных признаков о каждой фиче\n",
        "- Построение зависимостей всех фичей со значением Transported\n",
        "- Заполнение пропусков в данных\n",
        "- Кодирование значений фичей\n",
        "- Обучение моделей с помощью sklearn: LogisticRegression, SVC, LinearSVC, KNN, DecisionTreeClassifier, RandomForestClassifier\n",
        "\n",
        "### Задание считается выполненым, если сделаны все пункты выше и скор на приватной тестовой выборке Kaggle >= 0.8\n",
        "\n",
        "Мягкий дедлайн: 12 ноября 23:59 \\\n",
        "Жесткий дедлайн: 15 ноября 23:59"
      ],
      "metadata": {
        "id": "IrACWFbO5C_K"
      }
    },
    {
      "cell_type": "code",
      "source": [
        "# Write code here"
      ],
      "metadata": {
        "id": "rEXY5tSlA9Ud"
      },
      "execution_count": null,
      "outputs": []
    },
    {
      "cell_type": "code",
      "source": [],
      "metadata": {
        "id": "-N5EvQn3Coly"
      },
      "execution_count": null,
      "outputs": []
    }
  ]
}